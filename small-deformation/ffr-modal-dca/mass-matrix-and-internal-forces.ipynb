{
 "metadata": {
  "name": "",
  "signature": "sha256:cbfe81d6f9f1bc3b8920be5f6465149d139d13342026904222a51dd24bbba512"
 },
 "nbformat": 3,
 "nbformat_minor": 0,
 "worksheets": [
  {
   "cells": [
    {
     "cell_type": "markdown",
     "metadata": {},
     "source": [
      "# This notebook performs a simulation of a rope where ANCF is used to model the large deformation"
     ]
    },
    {
     "cell_type": "markdown",
     "metadata": {},
     "source": [
      "### Generalized form of Jourdain's Principle is used to develop the mass matrix"
     ]
    },
    {
     "cell_type": "code",
     "collapsed": false,
     "input": [
      "import sympy as sym\n",
      "import pickle\n",
      "\n",
      "from IPython.display import display\n",
      "\n",
      "from sympy import init_printing\n",
      "init_printing(use_latex=True)"
     ],
     "language": "python",
     "metadata": {},
     "outputs": [],
     "prompt_number": 1
    },
    {
     "cell_type": "markdown",
     "metadata": {},
     "source": [
      "#### Define symbolic quantites"
     ]
    },
    {
     "cell_type": "code",
     "collapsed": false,
     "input": [
      "M = sym.Matrix([['Gamma_RR', 'Gamma_RF'], ['Gamma_FR', 'Gamma_FF']])\n",
      "\n",
      "GammaRR = sym.Matrix(['Gamma_RR'])\n",
      "GammaRF = sym.Matrix(['Gamma_RF'])\n",
      "GammaFR = sym.Matrix(['Gamma_FR'])\n",
      "GammaFF = sym.Matrix(['Gamma_FF'])\n",
      "\n",
      "gammaR = sym.Matrix(['gamma_R'])\n",
      "gammaF = sym.Matrix(['gamma_F'])\n",
      "\n",
      "betaR = sym.Matrix(['beta_R'])\n",
      "betaF = sym.Matrix(['beta_F'])\n",
      "\n",
      "gamma = sym.Matrix([gammaR,gammaF])\n",
      "beta = sym.Matrix([betaR,betaF])\n",
      "\n",
      "E, I, A, rho, x, l, A1, A2, F1, F2, qddot = sym.symbols('E I A rho x l A_1 A_2 F_1c F_2c qddot')"
     ],
     "language": "python",
     "metadata": {},
     "outputs": [],
     "prompt_number": 2
    },
    {
     "cell_type": "code",
     "collapsed": false,
     "input": [
      "eq = M*sym.Matrix([A1, qddot]) - gamma*F1 - gamma*F2 - beta"
     ],
     "language": "python",
     "metadata": {},
     "outputs": [],
     "prompt_number": 3
    },
    {
     "cell_type": "code",
     "collapsed": false,
     "input": [
      "eq1_qddot = sym.solve(eq[1],qddot)\n",
      "eq1_qddot"
     ],
     "language": "python",
     "metadata": {},
     "outputs": [
      {
       "latex": [
        "$$\\left [ \\frac{1}{\\Gamma_{FF}} \\left(- A_{1} \\Gamma_{FR} + F_{1c} \\gamma_{F} + F_{2c} \\gamma_{F} + \\beta_{F}\\right)\\right ]$$"
       ],
       "metadata": {},
       "output_type": "pyout",
       "png": "[encoded data removed]",
       "prompt_number": 4,
       "text": [
        "\u23a1-A\u2081\u22c5\u0393_FR + F_1c\u22c5\u03b3_F + F_2c\u22c5\u03b3_F + \u03b2_F\u23a4\n",
        "\u23a2\u2500\u2500\u2500\u2500\u2500\u2500\u2500\u2500\u2500\u2500\u2500\u2500\u2500\u2500\u2500\u2500\u2500\u2500\u2500\u2500\u2500\u2500\u2500\u2500\u2500\u2500\u2500\u2500\u2500\u2500\u2500\u2500\u2500\u2500\u2500\u2500\u23a5\n",
        "\u23a3                \u0393_FF                \u23a6"
       ]
      }
     ],
     "prompt_number": 4
    },
    {
     "cell_type": "code",
     "collapsed": false,
     "input": [
      "eq0 = sym.Subs(eq[0],qddot,eq1_qddot).doit()\n",
      "eq0"
     ],
     "language": "python",
     "metadata": {},
     "outputs": [
      {
       "latex": [
        "$$A_{1} \\Gamma_{RR} - F_{1c} \\gamma_{R} - F_{2c} \\gamma_{R} - \\beta_{R} + \\frac{\\Gamma_{RF}}{\\Gamma_{FF}} \\left(- A_{1} \\Gamma_{FR} + F_{1c} \\gamma_{F} + F_{2c} \\gamma_{F} + \\beta_{F}\\right)$$"
       ],
       "metadata": {},
       "output_type": "pyout",
       "png": "[encoded data removed]",
       "prompt_number": 5,
       "text": [
        "                                      \u0393_RF\u22c5(-A\u2081\u22c5\u0393_FR + F_1c\u22c5\u03b3_F + F_2c\u22c5\u03b3_F + \u03b2\n",
        "A\u2081\u22c5\u0393_RR - F_1c\u22c5\u03b3_R - F_2c\u22c5\u03b3_R - \u03b2_R + \u2500\u2500\u2500\u2500\u2500\u2500\u2500\u2500\u2500\u2500\u2500\u2500\u2500\u2500\u2500\u2500\u2500\u2500\u2500\u2500\u2500\u2500\u2500\u2500\u2500\u2500\u2500\u2500\u2500\u2500\u2500\u2500\u2500\u2500\u2500\u2500\u2500\u2500\u2500\u2500\n",
        "                                                          \u0393_FF                \n",
        "\n",
        "_F)\n",
        "\u2500\u2500\u2500\n",
        "   "
       ]
      }
     ],
     "prompt_number": 5
    },
    {
     "cell_type": "code",
     "collapsed": false,
     "input": [
      "A1_al = sym.solve(eq0,A1)\n",
      "A1_al"
     ],
     "language": "python",
     "metadata": {},
     "outputs": [
      {
       "latex": [
        "$$\\left [ \\frac{1}{\\Gamma_{FF} \\Gamma_{RR} - \\Gamma_{FR} \\Gamma_{RF}} \\left(F_{1c} \\Gamma_{FF} \\gamma_{R} - F_{1c} \\Gamma_{RF} \\gamma_{F} + F_{2c} \\Gamma_{FF} \\gamma_{R} - F_{2c} \\Gamma_{RF} \\gamma_{F} + \\Gamma_{FF} \\beta_{R} - \\Gamma_{RF} \\beta_{F}\\right)\\right ]$$"
       ],
       "metadata": {},
       "output_type": "pyout",
       "png": "[encoded data removed]",
       "prompt_number": 6,
       "text": [
        "\u23a1F_1c\u22c5\u0393_FF\u22c5\u03b3_R - F_1c\u22c5\u0393_RF\u22c5\u03b3_F + F_2c\u22c5\u0393_FF\u22c5\u03b3_R - F_2c\u22c5\u0393_RF\u22c5\u03b3_F + \u0393_FF\u22c5\u03b2_R - \u0393_\n",
        "\u23a2\u2500\u2500\u2500\u2500\u2500\u2500\u2500\u2500\u2500\u2500\u2500\u2500\u2500\u2500\u2500\u2500\u2500\u2500\u2500\u2500\u2500\u2500\u2500\u2500\u2500\u2500\u2500\u2500\u2500\u2500\u2500\u2500\u2500\u2500\u2500\u2500\u2500\u2500\u2500\u2500\u2500\u2500\u2500\u2500\u2500\u2500\u2500\u2500\u2500\u2500\u2500\u2500\u2500\u2500\u2500\u2500\u2500\u2500\u2500\u2500\u2500\u2500\u2500\u2500\u2500\u2500\u2500\u2500\u2500\u2500\u2500\u2500\u2500\u2500\u2500\u2500\u2500\n",
        "\u23a3                               \u0393_FF\u22c5\u0393_RR - \u0393_FR\u22c5\u0393_RF                         \n",
        "\n",
        "RF\u22c5\u03b2_F\u23a4\n",
        "\u2500\u2500\u2500\u2500\u2500\u2500\u23a5\n",
        "      \u23a6"
       ]
      }
     ],
     "prompt_number": 6
    },
    {
     "cell_type": "code",
     "collapsed": false,
     "input": [],
     "language": "python",
     "metadata": {},
     "outputs": [],
     "prompt_number": 14
    },
    {
     "cell_type": "code",
     "collapsed": false,
     "input": [],
     "language": "python",
     "metadata": {},
     "outputs": []
    }
   ],
   "metadata": {}
  }
 ]
}
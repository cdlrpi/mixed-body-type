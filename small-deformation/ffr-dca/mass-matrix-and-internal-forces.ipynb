{
 "metadata": {
  "name": "",
  "signature": "sha256:d4e8a3f5eee86ec81c19ba0da5a6355106b0483d6ce2d435c6990b371661fb26"
 },
 "nbformat": 3,
 "nbformat_minor": 0,
 "worksheets": [
  {
   "cells": [
    {
     "cell_type": "markdown",
     "metadata": {},
     "source": [
      "# This notebook performs a simulation of a rope where ANCF is used to model the large deformation"
     ]
    },
    {
     "cell_type": "markdown",
     "metadata": {},
     "source": [
      "### Generalized form of Jourdain's Principle is used to develop the mass matrix"
     ]
    },
    {
     "cell_type": "code",
     "collapsed": false,
     "input": [
      "import numpy as np\n",
      "import scipy as sp\n",
      "import sympy as sym\n",
      "import pickle\n",
      "\n",
      "from IPython.display import display\n",
      "\n",
      "from sympy import init_printing\n",
      "init_printing(use_latex=True)"
     ],
     "language": "python",
     "metadata": {},
     "outputs": [],
     "prompt_number": 1
    },
    {
     "cell_type": "markdown",
     "metadata": {},
     "source": [
      "#### Define symbolic quantites"
     ]
    },
    {
     "cell_type": "code",
     "collapsed": false,
     "input": [
      "# nodal positons, velocities, and accelerations\n",
      "\"\"\"\n",
      "    e = [r1x r1y dr1xdx dr1ydx r2x r2y dr2xdx dr2ydx]\n",
      "    e = 1x8 for a 2D beam\n",
      "\"\"\"\n",
      "\n",
      "# nodal positions\n",
      "e = sym.Matrix(sym.symarray('e',8))\n",
      "# nodal velocities\n",
      "e_dot = sym.Matrix(sym.symarray('edot',len(e)))\n",
      "# nodal accelerations\n",
      "e_ddot = sym.Matrix(sym.symarray('eddot',len(e)))\n",
      "\n",
      "# symbolic system parameters \n",
      "E, I, A, rho, x, l, tau_a = sym.symbols('E I A rho x l tau_a')"
     ],
     "language": "python",
     "metadata": {},
     "outputs": [],
     "prompt_number": 2
    },
    {
     "cell_type": "markdown",
     "metadata": {},
     "source": [
      "### Compute the Mass Matrix"
     ]
    },
    {
     "cell_type": "code",
     "collapsed": false,
     "input": [
      "# define shape functions\n",
      "s = sym.symarray('s',4)\n",
      "\n",
      "s[0] = 1-3*(x/l)**2+2*(x/l)**3;\n",
      "s[1] = x/l-2*(x/l)**2+(x/l)**3;\n",
      "s[2] = 3*(x/l)**2-2*(x/l)**3;\n",
      "s[3] = (x/l)**3-(x/l)**2;\n",
      "\n",
      "# compute shape function matrix\n",
      "S = sym.expand(sym.Matrix([s[0]*sym.eye(2), l*s[1]*sym.eye(2), s[2]*sym.eye(2), l*s[3]*sym.eye(2)])).T\n",
      "print('S = ')\n",
      "display(S)\n",
      "# print(S.shape)\n",
      "\n",
      "# define velocity of all points on the beam\n",
      "Vp = S*e_dot.T\n",
      "print('\\nVp = ')\n",
      "display(Vp)\n",
      "# print(e_dot.T.shape)\n",
      "\n",
      "# define partial velocities of the nodes \n",
      "V_r = sym.Matrix([[sym.diff(Vp[j],e_dot[i]) for j in range(len(Vp))] for i in range(len(e))]).T\n",
      "print('\\nV_r = ')\n",
      "display(V_r)\n",
      "# print()\n",
      "\n",
      "# define acceleration of the nodes\n",
      "Ap = S*e_ddot.T\n",
      "print('\\nAp = ')\n",
      "display(Ap)\n",
      "# print()\n",
      "\n",
      "M = sym.Matrix([[sym.expand(sym.integrate(V_r[:,i].dot(Ap)*rho*A,(x,0,l))).coeff(e_ddot[j]) for i in range(len(e))]\n",
      "                for j in range(len(e))])\n",
      "print('\\nM = ')\n",
      "display(M)\n",
      "pickle.dump( M, open( \"mass-matrix.dump\", \"wb\" ) )"
     ],
     "language": "python",
     "metadata": {},
     "outputs": [
      {
       "output_type": "stream",
       "stream": "stdout",
       "text": [
        "S = \n"
       ]
      },
      {
       "latex": [
        "$$\\left[\\begin{matrix}1 - \\frac{3 x^{2}}{l^{2}} + \\frac{2 x^{3}}{l^{3}} & 0 & x - \\frac{2 x^{2}}{l} + \\frac{x^{3}}{l^{2}} & 0 & \\frac{3 x^{2}}{l^{2}} - \\frac{2 x^{3}}{l^{3}} & 0 & - \\frac{x^{2}}{l} + \\frac{x^{3}}{l^{2}} & 0\\\\0 & 1 - \\frac{3 x^{2}}{l^{2}} + \\frac{2 x^{3}}{l^{3}} & 0 & x - \\frac{2 x^{2}}{l} + \\frac{x^{3}}{l^{2}} & 0 & \\frac{3 x^{2}}{l^{2}} - \\frac{2 x^{3}}{l^{3}} & 0 & - \\frac{x^{2}}{l} + \\frac{x^{3}}{l^{2}}\\end{matrix}\\right]$$"
       ],
       "metadata": {},
       "output_type": "display_data",
       "png": "[encoded data removed]",
       "text": [
        "\u23a1       2      3                          2    3                    2      3  \n",
        "\u23a2    3\u22c5x    2\u22c5x                        2\u22c5x    x                  3\u22c5x    2\u22c5x   \n",
        "\u23a21 - \u2500\u2500\u2500\u2500 + \u2500\u2500\u2500\u2500         0         x - \u2500\u2500\u2500\u2500 + \u2500\u2500        0        \u2500\u2500\u2500\u2500 - \u2500\u2500\u2500\u2500  \n",
        "\u23a2      2      3                         l      2                   2      3   \n",
        "\u23a2     l      l                                l                   l      l    \n",
        "\u23a2                                                                             \n",
        "\u23a2                        2      3                        2    3               \n",
        "\u23a2                     3\u22c5x    2\u22c5x                      2\u22c5x    x                \n",
        "\u23a2       0         1 - \u2500\u2500\u2500\u2500 + \u2500\u2500\u2500\u2500        0        x - \u2500\u2500\u2500\u2500 + \u2500\u2500       0       \n",
        "\u23a2                       2      3                       l      2               \n",
        "\u23a3                      l      l                              l                \n",
        "\n",
        "                2    3           \u23a4\n",
        "               x    x            \u23a5\n",
        "     0       - \u2500\u2500 + \u2500\u2500      0    \u23a5\n",
        "               l     2           \u23a5\n",
        "                    l            \u23a5\n",
        "                                 \u23a5\n",
        "   2      3                2    3\u23a5\n",
        "3\u22c5x    2\u22c5x                x    x \u23a5\n",
        "\u2500\u2500\u2500\u2500 - \u2500\u2500\u2500\u2500      0      - \u2500\u2500 + \u2500\u2500\u23a5\n",
        "  2      3                l     2\u23a5\n",
        " l      l                      l \u23a6"
       ]
      },
      {
       "output_type": "stream",
       "stream": "stdout",
       "text": [
        "\n",
        "Vp = \n"
       ]
      },
      {
       "latex": [
        "$$\\left[\\begin{matrix}\\dot{e}_{0} \\left(1 - \\frac{3 x^{2}}{l^{2}} + \\frac{2 x^{3}}{l^{3}}\\right) + \\dot{e}_{2} \\left(x - \\frac{2 x^{2}}{l} + \\frac{x^{3}}{l^{2}}\\right) + \\dot{e}_{4} \\left(\\frac{3 x^{2}}{l^{2}} - \\frac{2 x^{3}}{l^{3}}\\right) + \\dot{e}_{6} \\left(- \\frac{x^{2}}{l} + \\frac{x^{3}}{l^{2}}\\right)\\\\\\dot{e}_{1} \\left(1 - \\frac{3 x^{2}}{l^{2}} + \\frac{2 x^{3}}{l^{3}}\\right) + \\dot{e}_{3} \\left(x - \\frac{2 x^{2}}{l} + \\frac{x^{3}}{l^{2}}\\right) + \\dot{e}_{5} \\left(\\frac{3 x^{2}}{l^{2}} - \\frac{2 x^{3}}{l^{3}}\\right) + \\dot{e}_{7} \\left(- \\frac{x^{2}}{l} + \\frac{x^{3}}{l^{2}}\\right)\\end{matrix}\\right]$$"
       ],
       "metadata": {},
       "output_type": "display_data",
       "png": "[encoded data removed]",
       "text": [
        "\u23a1    \u239b       2      3\u239e       \u239b       2    3\u239e       \u239b   2      3\u239e       \u239b   2  \n",
        "\u23a2    \u239c    3\u22c5x    2\u22c5x \u239f       \u239c    2\u22c5x    x \u239f       \u239c3\u22c5x    2\u22c5x \u239f       \u239c  x   \n",
        "\u23a2e\u0307\u2080\u22c5\u239c1 - \u2500\u2500\u2500\u2500 + \u2500\u2500\u2500\u2500\u239f + e\u0307\u2082\u22c5\u239cx - \u2500\u2500\u2500\u2500 + \u2500\u2500\u239f + e\u0307\u2084\u22c5\u239c\u2500\u2500\u2500\u2500 - \u2500\u2500\u2500\u2500\u239f + e\u0307\u2086\u22c5\u239c- \u2500\u2500 +\n",
        "\u23a2    \u239c      2      3 \u239f       \u239c     l      2\u239f       \u239c  2      3 \u239f       \u239c  l   \n",
        "\u23a2    \u239d     l      l  \u23a0       \u239d           l \u23a0       \u239d l      l  \u23a0       \u239d      \n",
        "\u23a2                                                                             \n",
        "\u23a2    \u239b       2      3\u239e       \u239b       2    3\u239e       \u239b   2      3\u239e       \u239b   2  \n",
        "\u23a2    \u239c    3\u22c5x    2\u22c5x \u239f       \u239c    2\u22c5x    x \u239f       \u239c3\u22c5x    2\u22c5x \u239f       \u239c  x   \n",
        "\u23a2e\u0307\u2081\u22c5\u239c1 - \u2500\u2500\u2500\u2500 + \u2500\u2500\u2500\u2500\u239f + e\u0307\u2083\u22c5\u239cx - \u2500\u2500\u2500\u2500 + \u2500\u2500\u239f + e\u0307\u2085\u22c5\u239c\u2500\u2500\u2500\u2500 - \u2500\u2500\u2500\u2500\u239f + e\u0307\u2087\u22c5\u239c- \u2500\u2500 +\n",
        "\u23a2    \u239c      2      3 \u239f       \u239c     l      2\u239f       \u239c  2      3 \u239f       \u239c  l   \n",
        "\u23a3    \u239d     l      l  \u23a0       \u239d           l \u23a0       \u239d l      l  \u23a0       \u239d      \n",
        "\n",
        "  3\u239e\u23a4\n",
        " x \u239f\u23a5\n",
        " \u2500\u2500\u239f\u23a5\n",
        "  2\u239f\u23a5\n",
        " l \u23a0\u23a5\n",
        "    \u23a5\n",
        "  3\u239e\u23a5\n",
        " x \u239f\u23a5\n",
        " \u2500\u2500\u239f\u23a5\n",
        "  2\u239f\u23a5\n",
        " l \u23a0\u23a6"
       ]
      },
      {
       "output_type": "stream",
       "stream": "stdout",
       "text": [
        "\n",
        "V_r = \n"
       ]
      },
      {
       "latex": [
        "$$\\left[\\begin{matrix}1 - \\frac{3 x^{2}}{l^{2}} + \\frac{2 x^{3}}{l^{3}} & 0 & x - \\frac{2 x^{2}}{l} + \\frac{x^{3}}{l^{2}} & 0 & \\frac{3 x^{2}}{l^{2}} - \\frac{2 x^{3}}{l^{3}} & 0 & - \\frac{x^{2}}{l} + \\frac{x^{3}}{l^{2}} & 0\\\\0 & 1 - \\frac{3 x^{2}}{l^{2}} + \\frac{2 x^{3}}{l^{3}} & 0 & x - \\frac{2 x^{2}}{l} + \\frac{x^{3}}{l^{2}} & 0 & \\frac{3 x^{2}}{l^{2}} - \\frac{2 x^{3}}{l^{3}} & 0 & - \\frac{x^{2}}{l} + \\frac{x^{3}}{l^{2}}\\end{matrix}\\right]$$"
       ],
       "metadata": {},
       "output_type": "display_data",
       "png": "[encoded data removed]",
       "text": [
        "\u23a1       2      3                          2    3                    2      3  \n",
        "\u23a2    3\u22c5x    2\u22c5x                        2\u22c5x    x                  3\u22c5x    2\u22c5x   \n",
        "\u23a21 - \u2500\u2500\u2500\u2500 + \u2500\u2500\u2500\u2500         0         x - \u2500\u2500\u2500\u2500 + \u2500\u2500        0        \u2500\u2500\u2500\u2500 - \u2500\u2500\u2500\u2500  \n",
        "\u23a2      2      3                         l      2                   2      3   \n",
        "\u23a2     l      l                                l                   l      l    \n",
        "\u23a2                                                                             \n",
        "\u23a2                        2      3                        2    3               \n",
        "\u23a2                     3\u22c5x    2\u22c5x                      2\u22c5x    x                \n",
        "\u23a2       0         1 - \u2500\u2500\u2500\u2500 + \u2500\u2500\u2500\u2500        0        x - \u2500\u2500\u2500\u2500 + \u2500\u2500       0       \n",
        "\u23a2                       2      3                       l      2               \n",
        "\u23a3                      l      l                              l                \n",
        "\n",
        "                2    3           \u23a4\n",
        "               x    x            \u23a5\n",
        "     0       - \u2500\u2500 + \u2500\u2500      0    \u23a5\n",
        "               l     2           \u23a5\n",
        "                    l            \u23a5\n",
        "                                 \u23a5\n",
        "   2      3                2    3\u23a5\n",
        "3\u22c5x    2\u22c5x                x    x \u23a5\n",
        "\u2500\u2500\u2500\u2500 - \u2500\u2500\u2500\u2500      0      - \u2500\u2500 + \u2500\u2500\u23a5\n",
        "  2      3                l     2\u23a5\n",
        " l      l                      l \u23a6"
       ]
      },
      {
       "output_type": "stream",
       "stream": "stdout",
       "text": [
        "\n",
        "Ap = \n"
       ]
      },
      {
       "latex": [
        "$$\\left[\\begin{matrix}\\ddot{e}_{0} \\left(1 - \\frac{3 x^{2}}{l^{2}} + \\frac{2 x^{3}}{l^{3}}\\right) + \\ddot{e}_{2} \\left(x - \\frac{2 x^{2}}{l} + \\frac{x^{3}}{l^{2}}\\right) + \\ddot{e}_{4} \\left(\\frac{3 x^{2}}{l^{2}} - \\frac{2 x^{3}}{l^{3}}\\right) + \\ddot{e}_{6} \\left(- \\frac{x^{2}}{l} + \\frac{x^{3}}{l^{2}}\\right)\\\\\\ddot{e}_{1} \\left(1 - \\frac{3 x^{2}}{l^{2}} + \\frac{2 x^{3}}{l^{3}}\\right) + \\ddot{e}_{3} \\left(x - \\frac{2 x^{2}}{l} + \\frac{x^{3}}{l^{2}}\\right) + \\ddot{e}_{5} \\left(\\frac{3 x^{2}}{l^{2}} - \\frac{2 x^{3}}{l^{3}}\\right) + \\ddot{e}_{7} \\left(- \\frac{x^{2}}{l} + \\frac{x^{3}}{l^{2}}\\right)\\end{matrix}\\right]$$"
       ],
       "metadata": {},
       "output_type": "display_data",
       "png": "[encoded data removed]",
       "text": [
        "\u23a1    \u239b       2      3\u239e       \u239b       2    3\u239e       \u239b   2      3\u239e       \u239b   2  \n",
        "\u23a2    \u239c    3\u22c5x    2\u22c5x \u239f       \u239c    2\u22c5x    x \u239f       \u239c3\u22c5x    2\u22c5x \u239f       \u239c  x   \n",
        "\u23a2e\u0308\u2080\u22c5\u239c1 - \u2500\u2500\u2500\u2500 + \u2500\u2500\u2500\u2500\u239f + e\u0308\u2082\u22c5\u239cx - \u2500\u2500\u2500\u2500 + \u2500\u2500\u239f + e\u0308\u2084\u22c5\u239c\u2500\u2500\u2500\u2500 - \u2500\u2500\u2500\u2500\u239f + e\u0308\u2086\u22c5\u239c- \u2500\u2500 +\n",
        "\u23a2    \u239c      2      3 \u239f       \u239c     l      2\u239f       \u239c  2      3 \u239f       \u239c  l   \n",
        "\u23a2    \u239d     l      l  \u23a0       \u239d           l \u23a0       \u239d l      l  \u23a0       \u239d      \n",
        "\u23a2                                                                             \n",
        "\u23a2    \u239b       2      3\u239e       \u239b       2    3\u239e       \u239b   2      3\u239e       \u239b   2  \n",
        "\u23a2    \u239c    3\u22c5x    2\u22c5x \u239f       \u239c    2\u22c5x    x \u239f       \u239c3\u22c5x    2\u22c5x \u239f       \u239c  x   \n",
        "\u23a2e\u0308\u2081\u22c5\u239c1 - \u2500\u2500\u2500\u2500 + \u2500\u2500\u2500\u2500\u239f + e\u0308\u2083\u22c5\u239cx - \u2500\u2500\u2500\u2500 + \u2500\u2500\u239f + e\u0308\u2085\u22c5\u239c\u2500\u2500\u2500\u2500 - \u2500\u2500\u2500\u2500\u239f + e\u0308\u2087\u22c5\u239c- \u2500\u2500 +\n",
        "\u23a2    \u239c      2      3 \u239f       \u239c     l      2\u239f       \u239c  2      3 \u239f       \u239c  l   \n",
        "\u23a3    \u239d     l      l  \u23a0       \u239d           l \u23a0       \u239d l      l  \u23a0       \u239d      \n",
        "\n",
        "  3\u239e\u23a4\n",
        " x \u239f\u23a5\n",
        " \u2500\u2500\u239f\u23a5\n",
        "  2\u239f\u23a5\n",
        " l \u23a0\u23a5\n",
        "    \u23a5\n",
        "  3\u239e\u23a5\n",
        " x \u239f\u23a5\n",
        " \u2500\u2500\u239f\u23a5\n",
        "  2\u239f\u23a5\n",
        " l \u23a0\u23a6"
       ]
      },
      {
       "output_type": "stream",
       "stream": "stdout",
       "text": [
        "\n",
        "M = \n"
       ]
      },
      {
       "latex": [
        "$$\\left[\\begin{matrix}\\frac{13 A}{35} l \\rho & 0 & \\frac{11 A}{210} l^{2} \\rho & 0 & \\frac{9 A}{70} l \\rho & 0 & - \\frac{13 A}{420} l^{2} \\rho & 0\\\\0 & \\frac{13 A}{35} l \\rho & 0 & \\frac{11 A}{210} l^{2} \\rho & 0 & \\frac{9 A}{70} l \\rho & 0 & - \\frac{13 A}{420} l^{2} \\rho\\\\\\frac{11 A}{210} l^{2} \\rho & 0 & \\frac{A \\rho}{105} l^{3} & 0 & \\frac{13 A}{420} l^{2} \\rho & 0 & - \\frac{A \\rho}{140} l^{3} & 0\\\\0 & \\frac{11 A}{210} l^{2} \\rho & 0 & \\frac{A \\rho}{105} l^{3} & 0 & \\frac{13 A}{420} l^{2} \\rho & 0 & - \\frac{A \\rho}{140} l^{3}\\\\\\frac{9 A}{70} l \\rho & 0 & \\frac{13 A}{420} l^{2} \\rho & 0 & \\frac{13 A}{35} l \\rho & 0 & - \\frac{11 A}{210} l^{2} \\rho & 0\\\\0 & \\frac{9 A}{70} l \\rho & 0 & \\frac{13 A}{420} l^{2} \\rho & 0 & \\frac{13 A}{35} l \\rho & 0 & - \\frac{11 A}{210} l^{2} \\rho\\\\- \\frac{13 A}{420} l^{2} \\rho & 0 & - \\frac{A \\rho}{140} l^{3} & 0 & - \\frac{11 A}{210} l^{2} \\rho & 0 & \\frac{A \\rho}{105} l^{3} & 0\\\\0 & - \\frac{13 A}{420} l^{2} \\rho & 0 & - \\frac{A \\rho}{140} l^{3} & 0 & - \\frac{11 A}{210} l^{2} \\rho & 0 & \\frac{A \\rho}{105} l^{3}\\end{matrix}\\right]$$"
       ],
       "metadata": {},
       "output_type": "display_data",
       "png": "[encoded data removed]",
       "text": [
        "\u23a1                                2                                            \n",
        "\u23a2 13\u22c5A\u22c5l\u22c5\u03c1                 11\u22c5A\u22c5l \u22c5\u03c1               9\u22c5A\u22c5l\u22c5\u03c1                 -13\n",
        "\u23a2 \u2500\u2500\u2500\u2500\u2500\u2500\u2500\u2500         0       \u2500\u2500\u2500\u2500\u2500\u2500\u2500\u2500\u2500      0        \u2500\u2500\u2500\u2500\u2500\u2500\u2500         0       \u2500\u2500\u2500\n",
        "\u23a2    35                       210                     70                      \n",
        "\u23a2                                                                             \n",
        "\u23a2                                           2                                 \n",
        "\u23a2              13\u22c5A\u22c5l\u22c5\u03c1               11\u22c5A\u22c5l \u22c5\u03c1                 9\u22c5A\u22c5l\u22c5\u03c1       \n",
        "\u23a2     0        \u2500\u2500\u2500\u2500\u2500\u2500\u2500\u2500        0      \u2500\u2500\u2500\u2500\u2500\u2500\u2500\u2500\u2500       0         \u2500\u2500\u2500\u2500\u2500\u2500\u2500       \n",
        "\u23a2                 35                     210                       70         \n",
        "\u23a2                                                                             \n",
        "\u23a2       2                      3                        2                     \n",
        "\u23a2 11\u22c5A\u22c5l \u22c5\u03c1                 A\u22c5l \u22c5\u03c1                13\u22c5A\u22c5l \u22c5\u03c1                 -A\n",
        "\u23a2 \u2500\u2500\u2500\u2500\u2500\u2500\u2500\u2500\u2500        0        \u2500\u2500\u2500\u2500\u2500\u2500        0       \u2500\u2500\u2500\u2500\u2500\u2500\u2500\u2500\u2500        0        \u2500\u2500\n",
        "\u23a2    210                     105                     420                      \n",
        "\u23a2                                                                             \n",
        "\u23a2                    2                    3                          2        \n",
        "\u23a2              11\u22c5A\u22c5l \u22c5\u03c1               A\u22c5l \u22c5\u03c1                  13\u22c5A\u22c5l \u22c5\u03c1      \n",
        "\u23a2     0        \u2500\u2500\u2500\u2500\u2500\u2500\u2500\u2500\u2500       0       \u2500\u2500\u2500\u2500\u2500\u2500         0        \u2500\u2500\u2500\u2500\u2500\u2500\u2500\u2500\u2500      \n",
        "\u23a2                 210                   105                       420         \n",
        "\u23a2                                                                             \n",
        "\u23a2                                2                                            \n",
        "\u23a2  9\u22c5A\u22c5l\u22c5\u03c1                 13\u22c5A\u22c5l \u22c5\u03c1              13\u22c5A\u22c5l\u22c5\u03c1                 -11\n",
        "\u23a2  \u2500\u2500\u2500\u2500\u2500\u2500\u2500         0       \u2500\u2500\u2500\u2500\u2500\u2500\u2500\u2500\u2500      0       \u2500\u2500\u2500\u2500\u2500\u2500\u2500\u2500         0       \u2500\u2500\u2500\n",
        "\u23a2     70                      420                    35                       \n",
        "\u23a2                                                                             \n",
        "\u23a2                                           2                                 \n",
        "\u23a2               9\u22c5A\u22c5l\u22c5\u03c1               13\u22c5A\u22c5l \u22c5\u03c1                13\u22c5A\u22c5l\u22c5\u03c1       \n",
        "\u23a2     0         \u2500\u2500\u2500\u2500\u2500\u2500\u2500        0      \u2500\u2500\u2500\u2500\u2500\u2500\u2500\u2500\u2500       0        \u2500\u2500\u2500\u2500\u2500\u2500\u2500\u2500       \n",
        "\u23a2                  70                    420                      35          \n",
        "\u23a2                                                                             \n",
        "\u23a2       2                      3                        2                     \n",
        "\u23a2-13\u22c5A\u22c5l \u22c5\u03c1                -A\u22c5l \u22c5\u03c1               -11\u22c5A\u22c5l \u22c5\u03c1                  A\n",
        "\u23a2\u2500\u2500\u2500\u2500\u2500\u2500\u2500\u2500\u2500\u2500\u2500       0       \u2500\u2500\u2500\u2500\u2500\u2500\u2500\u2500       0      \u2500\u2500\u2500\u2500\u2500\u2500\u2500\u2500\u2500\u2500\u2500       0         \u2500\n",
        "\u23a2    420                     140                     210                      \n",
        "\u23a2                                                                             \n",
        "\u23a2                    2                    3                          2        \n",
        "\u23a2             -13\u22c5A\u22c5l \u22c5\u03c1              -A\u22c5l \u22c5\u03c1                 -11\u22c5A\u22c5l \u22c5\u03c1      \n",
        "\u23a2     0       \u2500\u2500\u2500\u2500\u2500\u2500\u2500\u2500\u2500\u2500\u2500      0      \u2500\u2500\u2500\u2500\u2500\u2500\u2500\u2500        0       \u2500\u2500\u2500\u2500\u2500\u2500\u2500\u2500\u2500\u2500\u2500     \n",
        "\u23a3                 420                   140                       210         \n",
        "\n",
        "    2                \u23a4\n",
        "\u22c5A\u22c5l \u22c5\u03c1              \u23a5\n",
        "\u2500\u2500\u2500\u2500\u2500\u2500\u2500\u2500       0     \u23a5\n",
        " 420                 \u23a5\n",
        "                     \u23a5\n",
        "                 2   \u23a5\n",
        "          -13\u22c5A\u22c5l \u22c5\u03c1 \u23a5\n",
        "  0       \u2500\u2500\u2500\u2500\u2500\u2500\u2500\u2500\u2500\u2500\u2500\u23a5\n",
        "              420    \u23a5\n",
        "                     \u23a5\n",
        "  3                  \u23a5\n",
        "\u22c5l \u22c5\u03c1                \u23a5\n",
        "\u2500\u2500\u2500\u2500\u2500\u2500         0     \u23a5\n",
        "140                  \u23a5\n",
        "                     \u23a5\n",
        "               3     \u23a5\n",
        "           -A\u22c5l \u22c5\u03c1   \u23a5\n",
        "  0        \u2500\u2500\u2500\u2500\u2500\u2500\u2500\u2500  \u23a5\n",
        "             140     \u23a5\n",
        "                     \u23a5\n",
        "    2                \u23a5\n",
        "\u22c5A\u22c5l \u22c5\u03c1              \u23a5\n",
        "\u2500\u2500\u2500\u2500\u2500\u2500\u2500\u2500       0     \u23a5\n",
        " 210                 \u23a5\n",
        "                     \u23a5\n",
        "                 2   \u23a5\n",
        "          -11\u22c5A\u22c5l \u22c5\u03c1 \u23a5\n",
        "  0       \u2500\u2500\u2500\u2500\u2500\u2500\u2500\u2500\u2500\u2500\u2500\u23a5\n",
        "              210    \u23a5\n",
        "                     \u23a5\n",
        "  3                  \u23a5\n",
        "\u22c5l \u22c5\u03c1                \u23a5\n",
        "\u2500\u2500\u2500\u2500\u2500          0     \u23a5\n",
        "105                  \u23a5\n",
        "                     \u23a5\n",
        "               3     \u23a5\n",
        "            A\u22c5l \u22c5\u03c1   \u23a5\n",
        "  0         \u2500\u2500\u2500\u2500\u2500\u2500   \u23a5\n",
        "             105     \u23a6"
       ]
      }
     ],
     "prompt_number": 3
    },
    {
     "cell_type": "markdown",
     "metadata": {},
     "source": [
      "### Compute Internal forces "
     ]
    },
    {
     "cell_type": "markdown",
     "metadata": {},
     "source": [
      "#### Compute Longitudinal Strain Energy"
     ]
    },
    {
     "cell_type": "code",
     "collapsed": false,
     "input": [
      "# Compute epsilon with no approximation\n",
      "# epsilon = 1/2*(e.dot(S.diff(x).T*S.diff(x)*e.T) - 1)\n",
      "# display(epsilon)\n",
      "\n",
      "# Longitudinal Strain Energy \n",
      "# Ul = 1/2*sym.integrate(E*A*epsilon**2, (x,0,l))\n",
      "# display(Ul)\n",
      "\n",
      "# Compute epsilon with approximation 2\n",
      "er = sym.Matrix([0, 0, 1, 0, 1, 0, 1, 0]).T\n",
      "epsilon_squared = sym.simplify(sym.expand(1/2*(e - er).dot(S.diff(x).T*S.diff(x)*(e + er).T)))\n",
      "# display(epsilon_squared)\n",
      "\n",
      "Ul = 1/2*sym.integrate(E*A*epsilon_squared, (x,0,l))"
     ],
     "language": "python",
     "metadata": {},
     "outputs": [],
     "prompt_number": 4
    },
    {
     "cell_type": "markdown",
     "metadata": {},
     "source": [
      "#### Compute Transverse Strain Energy"
     ]
    },
    {
     "cell_type": "code",
     "collapsed": false,
     "input": [
      "# Compute kappa (no approximation)\n",
      "# r = S*e.T\n",
      "# r3 = sym.Matrix([r,[0]])\n",
      "# display(r3)\n",
      "\n",
      "# Compute kappa with no approximation\n",
      "# kappa = sym.simplify(sym.expand(r3.diff(x).cross(r3.diff(x,x)).norm()/r3.diff(x).norm()**3))\n",
      "\n",
      "# Compute kappa (approximation 1: small longitudinal deformation - fine for rope)\n",
      "kappa_squared = sym.simplify(sym.expand(e.dot(S.diff(x,x).T*S.diff(x,x)*e.T)))\n",
      "# display(kappa_squared)\n",
      "\n",
      "# Compute Transverse Strain Energy\n",
      "Ut = 1/2*sym.integrate(E*I*kappa_squared, (x,0,l))"
     ],
     "language": "python",
     "metadata": {},
     "outputs": [],
     "prompt_number": 5
    },
    {
     "cell_type": "markdown",
     "metadata": {},
     "source": [
      "#### Compute Internal Forces $Q_e = \\frac{\\partial U}{\\partial e}$"
     ]
    },
    {
     "cell_type": "code",
     "collapsed": false,
     "input": [
      "# Compute Total Energy\n",
      "U = Ul + Ut\n",
      "\n",
      "# Compute Internal Force Vector\n",
      "Qe = sym.Matrix([sym.simplify(sym.expand(sym.diff(-U,node))) for node in e])"
     ],
     "language": "python",
     "metadata": {},
     "outputs": [],
     "prompt_number": 6
    },
    {
     "cell_type": "markdown",
     "metadata": {},
     "source": [
      "### Applied and body force vector"
     ]
    },
    {
     "cell_type": "code",
     "collapsed": false,
     "input": [
      "# Applied forces\n",
      "# Gravity body force\n",
      "fg = rho*9.81*A*sym.Matrix([0,-1])\n",
      "\n",
      "# Applied torque\n",
      "# torque_app = sym.Matrix([0,0,tau_a])\n",
      "\n",
      "# Compute beta\n",
      "# beta = sym.Matrix([sym.simplify(sym.integrate(vr.dot(fg), (x,0,l)) + qe) \n",
      "#                    for vr,qe in zip(V_r,Qe)])\n",
      "beta = sym.Matrix([sym.simplify(sym.integrate(V_r[:,j].dot(fg), (x,0,l)))\n",
      "                   + qe for j,qe in zip(range(len(e)),Qe)])\n",
      "pickle.dump( beta, open( \"force-vector.dump\", \"wb\" ) )"
     ],
     "language": "python",
     "metadata": {},
     "outputs": [],
     "prompt_number": 7
    }
   ],
   "metadata": {}
  }
 ]
}
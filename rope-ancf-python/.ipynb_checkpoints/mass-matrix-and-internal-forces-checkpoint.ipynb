{
 "metadata": {
  "name": "",
  "signature": "sha256:f534d5686557b2c172176234d5452d1c91a2230b3beb84ca6a668ecd8e092c45"
 },
 "nbformat": 3,
 "nbformat_minor": 0,
 "worksheets": [
  {
   "cells": [
    {
     "cell_type": "markdown",
     "metadata": {},
     "source": [
      "# This notebook performs a simulation of a rope where ANCF is used to model the large deformation"
     ]
    },
    {
     "cell_type": "markdown",
     "metadata": {},
     "source": [
      "### Generalized form of Jourdain's Principle is used to develop the mass matrix"
     ]
    },
    {
     "cell_type": "code",
     "collapsed": false,
     "input": [
      "import numpy as np\n",
      "import scipy as sp\n",
      "import sympy as sym\n",
      "import pickle\n",
      "\n",
      "from IPython.display import display\n",
      "\n",
      "from sympy import init_printing\n",
      "init_printing(use_latex=True)"
     ],
     "language": "python",
     "metadata": {},
     "outputs": [],
     "prompt_number": 1
    },
    {
     "cell_type": "markdown",
     "metadata": {},
     "source": [
      "#### Define symbolic quantites"
     ]
    },
    {
     "cell_type": "code",
     "collapsed": false,
     "input": [
      "# nodal positons, velocities, and accelerations\n",
      "\"\"\"\n",
      "    e = [r1x r1y dr1xdx dr1ydx r2x r2y dr2xdx dr2ydx]\n",
      "    e = 1x8 for a 2D beam\n",
      "\"\"\"\n",
      "e = sym.Matrix(sym.symarray('e',8))\n",
      "e_dot = sym.Matrix(sym.symarray('edot',len(e)))\n",
      "e_ddot = sym.Matrix(sym.symarray('eddot',len(e)))\n",
      "\n",
      "# symbolic system parameters \n",
      "E, I, A, rho, x, l, tau_a = sym.symbols('E I A rho x l tau_a')"
     ],
     "language": "python",
     "metadata": {},
     "outputs": [],
     "prompt_number": 2
    },
    {
     "cell_type": "markdown",
     "metadata": {},
     "source": [
      "### Compute the Mass Matrix"
     ]
    },
    {
     "cell_type": "code",
     "collapsed": false,
     "input": [
      "# define shape functions\n",
      "s = sym.symarray('s',4)\n",
      "\n",
      "s[0] = 1-3*(x/l)**2+2*(x/l)**3;\n",
      "s[1] = x/l-2*(x/l)**2+(x/l)**3;\n",
      "s[2] = 3*(x/l)**2-2*(x/l)**3;\n",
      "s[3] = (x/l)**3-(x/l)**2;\n",
      "\n",
      "# compute shape function matrix\n",
      "S = sym.expand(sym.Matrix([s[0]*sym.eye(2), l*s[1]*sym.eye(2), s[2]*sym.eye(2), l*s[3]*sym.eye(2)])).T\n",
      "# print('S = ')\n",
      "# display(S)\n",
      "# print()\n",
      "\n",
      "# define velocity of the nodes\n",
      "Vp = S*e_dot.T\n",
      "# print('Vp = ')\n",
      "# display(Vp)\n",
      "# print()\n",
      "\n",
      "# define partial velocities of the nodes \n",
      "V_r = sym.Matrix([[sym.diff(Vp[j],e_dot[i]) for j in range(len(Vp))] for i in range(len(e))]).T\n",
      "# print('V_r = ')\n",
      "# display(V_r)\n",
      "# print()\n",
      "\n",
      "# define acceleration of the nodes\n",
      "Ap = S*e_ddot.T\n",
      "# print('Ap = ')\n",
      "# display(Ap)\n",
      "# print()\n",
      "\n",
      "M = sym.Matrix([[sym.expand(sym.integrate(V_r[:,j].dot(Ap)*rho*A,(x,0,l))).coeff(e_ddot[i]) for i in range(len(e))]\n",
      "                for j in range(len(e))])\n",
      "pickle.dump( M, open( \"mass-matrix.dump\", \"wb\" ) )"
     ],
     "language": "python",
     "metadata": {},
     "outputs": [],
     "prompt_number": 3
    },
    {
     "cell_type": "markdown",
     "metadata": {},
     "source": [
      "### Compute Internal forces "
     ]
    },
    {
     "cell_type": "markdown",
     "metadata": {},
     "source": [
      "#### Compute Longitudinal Strain Energy"
     ]
    },
    {
     "cell_type": "code",
     "collapsed": false,
     "input": [
      "# Compute epsilon with no approximation\n",
      "# epsilon = 1/2*(e.dot(S.diff(x).T*S.diff(x)*e.T) - 1)\n",
      "# display(epsilon)\n",
      "\n",
      "# Longitudinal Strain Energy \n",
      "# Ul = 1/2*sym.integrate(E*A*epsilon**2, (x,0,l))\n",
      "# display(Ul)\n",
      "\n",
      "# Compute epsilon with approximation 2\n",
      "er = sym.Matrix([0, 0, 1, 0, 1, 0, 1, 0]).T\n",
      "epsilon_squared = sym.simplify(sym.expand(1/2*(e - er).dot(S.diff(x).T*S.diff(x)*(e + er).T)))\n",
      "# display(epsilon_squared)\n",
      "\n",
      "Ul = 1/2*sym.integrate(E*A*epsilon_squared, (x,0,l))"
     ],
     "language": "python",
     "metadata": {},
     "outputs": [],
     "prompt_number": 4
    },
    {
     "cell_type": "markdown",
     "metadata": {},
     "source": [
      "#### Compute Transverse Strain Energy"
     ]
    },
    {
     "cell_type": "code",
     "collapsed": false,
     "input": [
      "# Compute kappa (no approximation)\n",
      "# r = S*e.T\n",
      "# r3 = sym.Matrix([r,[0]])\n",
      "# display(r3)\n",
      "\n",
      "# Compute kappa with no approximation\n",
      "# kappa = sym.simplify(sym.expand(r3.diff(x).cross(r3.diff(x,x)).norm()/r3.diff(x).norm()**3))\n",
      "\n",
      "# Compute kappa (approximation 1: small longitudinal deformation - fine for rope)\n",
      "kappa_squared = sym.simplify(sym.expand(e.dot(S.diff(x,x).T*S.diff(x,x)*e.T)))\n",
      "# display(kappa_squared)\n",
      "\n",
      "# Compute Transverse Strain Energy\n",
      "Ut = 1/2*sym.integrate(E*I*kappa_squared, (x,0,l))"
     ],
     "language": "python",
     "metadata": {},
     "outputs": [],
     "prompt_number": 5
    },
    {
     "cell_type": "markdown",
     "metadata": {},
     "source": [
      "#### Compute Internal Forces $Q_e = \\frac{\\partial U}{\\partial e}$"
     ]
    },
    {
     "cell_type": "code",
     "collapsed": false,
     "input": [
      "# Compute Total Energy\n",
      "U = Ul + Ut\n",
      "\n",
      "# Compute Internal Force Vector\n",
      "Qe = sym.Matrix([sym.simplify(sym.expand(sym.diff(-U,node))) for node in e])"
     ],
     "language": "python",
     "metadata": {},
     "outputs": [],
     "prompt_number": 6
    },
    {
     "cell_type": "markdown",
     "metadata": {},
     "source": [
      "### Applied and body force vector"
     ]
    },
    {
     "cell_type": "code",
     "collapsed": false,
     "input": [
      "# Applied forces\n",
      "# Gravity body force\n",
      "fg = rho*9.81*A*sym.Matrix([0,-1])\n",
      "\n",
      "# Applied torque\n",
      "# torque_app = sym.Matrix([0,0,tau_a])\n",
      "\n",
      "# Compute beta\n",
      "# beta = sym.Matrix([sym.simplify(sym.integrate(vr.dot(fg), (x,0,l)) + qe) \n",
      "#                    for vr,qe in zip(V_r,Qe)])\n",
      "beta = sym.Matrix([sym.simplify(sym.integrate(V_r[:,j].dot(fg), (x,0,l)))\n",
      "                   + qe for j,qe in zip(range(len(e)),Qe)])\n",
      "pickle.dump( beta, open( \"force-vector.dump\", \"wb\" ) )"
     ],
     "language": "python",
     "metadata": {},
     "outputs": [],
     "prompt_number": 7
    }
   ],
   "metadata": {}
  }
 ]
}
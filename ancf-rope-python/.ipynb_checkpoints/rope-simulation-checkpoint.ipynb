{
 "metadata": {
  "name": "",
  "signature": "sha256:c3c93a4d0573b1a662c05883246638ced0a5006eb3b6abb675238fea24151a1a"
 },
 "nbformat": 3,
 "nbformat_minor": 0,
 "worksheets": [
  {
   "cells": [
    {
     "cell_type": "code",
     "collapsed": false,
     "input": [],
     "language": "python",
     "metadata": {},
     "outputs": []
    }
   ],
   "metadata": {}
  }
 ]
}
{
 "metadata": {
  "name": "",
  "signature": "sha256:475c9c49594060280739e31075ec54d0aaaaeae825bc692ce4f6d72ffb46f63c"
 },
 "nbformat": 3,
 "nbformat_minor": 0,
 "worksheets": [
  {
   "cells": [
    {
     "cell_type": "code",
     "collapsed": false,
     "input": [
      "import numpy as np\n",
      "import scipy as sp\n",
      "import sympy as sym\n",
      "import pickle\n",
      "import matplotlib.pyplot as plt\n",
      "\n",
      "from IPython.display import display\n",
      "\n",
      "from sympy import init_printing\n",
      "init_printing(use_latex=True)"
     ],
     "language": "python",
     "metadata": {},
     "outputs": [],
     "prompt_number": 1
    },
    {
     "cell_type": "markdown",
     "metadata": {},
     "source": [
      "### Needed Functions"
     ]
    },
    {
     "cell_type": "code",
     "collapsed": false,
     "input": [
      "# This function updates the body and applied forces \n",
      "def initialize(b,x,n):\n",
      "    val1=0\n",
      "    val2=np.zeros((3))\n",
      "    val3=np.zeros((3))\n",
      "    for k in range(0,n):\n",
      "        val1=val1+x[k]\n",
      "        b[k].C0=MBF.simdcm(val1,np.array((0,0,1)))\n",
      "        val2=val2+np.array((0,0,x[k+n]))\n",
      "        b[k].w=val2\n",
      "        b[k].w1=np.array((0,0,x[k+n]))\n",
      "        b[k].rs(b[k].l/2.0,np.array((0,-1,0)))\n",
      "        b[k].Vcm=val3+np.cross(b[k].w,b[k].r10)\n",
      "        val3=val3+np.cross(b[k].w,b[k].r12)\n",
      "        b[k].Inertia2()#transformed inertia matrix\n",
      "        b[k].Mmatrix()#Mass matrix and its inverse\n",
      "        b[k].Forces(np.array((0,-1,0)))\n",
      "        b[k].shifters()#S matrices\n",
      "#         b[k].zs()#zeta values\n",
      "        b[k]"
     ],
     "language": "python",
     "metadata": {},
     "outputs": [],
     "prompt_number": 2
    },
    {
     "cell_type": "code",
     "collapsed": false,
     "input": [
      "# This function interfaces with DCA\n",
      "def funct(state,t,n,i,bbs,jjs,BC1,BC2):\n",
      "\n",
      "    #Initialize the system\n",
      "    initialize(bbs,state,n)\n",
      "    \n",
      "    #Call the Recursive DCA Algorithm\n",
      "    #This returns a list of the form:\n",
      "    #[A11,A12,A21,A22,...,An1,An2]\n",
      "    #where Axy corresponds to the acceleration\n",
      "    #of the yth handle of the xth body\n",
      "    ll=recursiveDCA(n,0,bbs,jjs,BC1,BC2,state)\n",
      "    #loop to fill d_dt with the acceleration values\n",
      "\n",
      "    # Include this in DCA \n",
      "    d_dt=np.zeros((2*n))\n",
      "    for j in range(0,n):\n",
      "        if j == 0:\n",
      "            A1=ll.pop(0)\n",
      "            d_dt[j+n]=np.dot(np.transpose(jjs[j].P),A1)\n",
      "        else:\n",
      "            A2= ll.pop(0)\n",
      "            A1=ll.pop(0)\n",
      "            d_dt[j+n]=np.dot(np.transpose(jjs[j].P),(A1-A2))\n",
      "    \n",
      "    #add the velocities to d_dt and return to the integrator\n",
      "    d_dt[:n]=state[n:]\n",
      "    return d_dt "
     ],
     "language": "python",
     "metadata": {},
     "outputs": [],
     "prompt_number": 3
    },
    {
     "cell_type": "markdown",
     "metadata": {},
     "source": [
      "### Load Symbolic Mass-Matrix and Applied-and-Internal Force Vectors"
     ]
    },
    {
     "cell_type": "code",
     "collapsed": false,
     "input": [
      "# re-make symbols for proper substitution\n",
      "e = sym.Matrix(sym.symarray('e',8))\n",
      "# symbolic system parameters \n",
      "E, I, A, rho, x, l, tau_a = sym.symbols('E I A rho x l tau_a')\n",
      "\n",
      "M = pickle.load( open( \"mass-matrix.dump\", \"rb\" ) )\n",
      "beta = pickle.load( open( \"force-vector.dump\", \"rb\" ) )"
     ],
     "language": "python",
     "metadata": {},
     "outputs": [],
     "prompt_number": 4
    },
    {
     "cell_type": "markdown",
     "metadata": {},
     "source": [
      "### Define Physical Properties of the System\n"
     ]
    },
    {
     "cell_type": "code",
     "collapsed": false,
     "input": [
      "# Physical Parameters of the system\n",
      "n_elements = 12\n",
      "L = 1.2 \n",
      "\n",
      "# Starting Configuration\n",
      "theta = 0"
     ],
     "language": "python",
     "metadata": {},
     "outputs": [],
     "prompt_number": 5
    },
    {
     "cell_type": "code",
     "collapsed": false,
     "input": [
      "# Compute initial nodal coordinates\n",
      "\"\"\"\n",
      "    Position of any point on the beam initially (straight rope) is \n",
      "    r_x = x*cos(theta)\n",
      "    r_y = x*sin(theta)\n",
      "    diff(r_x,x) = cos(theta)\n",
      "    diff(r_y,x) = sin(theta)\n",
      "\"\"\"\n",
      "# e = [r1x r1y dr1xdx dr1ydx r2x r2y dr2xdx dr2ydx]\n",
      "e = np.array([[(i*l-l)*np.cos(theta), (i*l-l)*np.sin(theta),\n",
      "                       np.cos(theta),         np.sin(theta),\n",
      "                  (i*l)*np.cos(theta),   (i*l)*np.sin(theta),\n",
      "                       np.cos(theta),         np.sin(theta)] \n",
      "             for i in range(1,n_elements+1)])"
     ],
     "language": "python",
     "metadata": {},
     "outputs": [],
     "prompt_number": 6
    },
    {
     "cell_type": "markdown",
     "metadata": {},
     "source": [
      "### Partition Mass-Matrix (Constant) and Substitute Physical and Material Properties"
     ]
    },
    {
     "cell_type": "code",
     "collapsed": false,
     "input": [
      "beta = beta.subs([(E, 0.7e6), (A, .0018), (I, 1.215e-8), (rho, 5540)])\n",
      "\n",
      "# Partition Mass Matrix\n",
      "M11 = M[0:4,0:4].subs([(A, .0018), (l, L/n_elements), (rho, 5540)])\n",
      "M12 = M[0:4,4:8].subs([(A, .0018), (l, L/n_elements), (rho, 5540)])\n",
      "M21 = M[4:8,0:4].subs([(A, .0018), (l, L/n_elements), (rho, 5540)])\n",
      "M22 = M[4:8,4:8].subs([(A, .0018), (l, L/n_elements), (rho, 5540)])"
     ],
     "language": "python",
     "metadata": {},
     "outputs": [],
     "prompt_number": 7
    },
    {
     "cell_type": "code",
     "collapsed": false,
     "input": [
      "# zeta11 = inv(M11 - M12*inv(M22)*M21)*(lam11 - M12*inv(M22)*lam21)\n",
      "# zeta12 = inv(M11 - M12*inv(M22)*M21)*(lam12 - M12*inv(M22)*lam22)\n",
      "# zeta13 = inv(M11 - M12*inv(M22)*M21)*(lam13 - M12*inv(M22)*lam23)\n",
      "\n",
      "# zeta21 = inv(M22)*(lam21 - M21*lam11)\n",
      "# zeta22 = inv(M22)*(lam22 - M21*lam12)\n",
      "# zeta23 = inv(M22)*(lam23 - M21*lam13)"
     ],
     "language": "python",
     "metadata": {},
     "outputs": []
    },
    {
     "cell_type": "code",
     "collapsed": false,
     "input": [
      "x = [rk4_dca(ancf_dca *args) for i in range(tf)]"
     ],
     "language": "python",
     "metadata": {},
     "outputs": []
    },
    {
     "cell_type": "code",
     "collapsed": false,
     "input": [
      "(np.eye(3)).dot(np.arange(9).reshape(3,3))"
     ],
     "language": "python",
     "metadata": {},
     "outputs": [
      {
       "metadata": {},
       "output_type": "pyout",
       "prompt_number": 3,
       "text": [
        "array([[ 0.,  1.,  2.],\n",
        "       [ 3.,  4.,  5.],\n",
        "       [ 6.,  7.,  8.]])"
       ]
      }
     ],
     "prompt_number": 3
    },
    {
     "cell_type": "code",
     "collapsed": false,
     "input": [],
     "language": "python",
     "metadata": {},
     "outputs": []
    }
   ],
   "metadata": {}
  }
 ]
}
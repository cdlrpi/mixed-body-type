{
 "metadata": {
  "name": "",
  "signature": "sha256:52ffbf65660655af23f6c039fd69483afa862979122dfb44df0f83f90d12a605"
 },
 "nbformat": 3,
 "nbformat_minor": 0,
 "worksheets": [
  {
   "cells": [
    {
     "cell_type": "markdown",
     "metadata": {},
     "source": [
      "# This notebook computes the mass matrix and internal forces and outputs them for later use"
     ]
    },
    {
     "cell_type": "code",
     "collapsed": false,
     "input": [
      "import numpy as np\n",
      "import scipy as sp\n",
      "import sympy as sym\n",
      "import pickle\n",
      "\n",
      "from IPython.display import display\n",
      "\n",
      "from sympy import init_printing\n",
      "init_printing(use_latex=True)"
     ],
     "language": "python",
     "metadata": {},
     "outputs": [],
     "prompt_number": 1
    },
    {
     "cell_type": "markdown",
     "metadata": {},
     "source": [
      "#### Define symbolic quantites"
     ]
    },
    {
     "cell_type": "code",
     "collapsed": false,
     "input": [
      "# nodal positons, velocities, and accelerations\n",
      "\"\"\"\n",
      "    u = [u1x u1y u2x u2y]\n",
      "    6 = 1x4 for a 2D beam\n",
      "\"\"\"\n",
      "u = sym.Matrix(sym.symarray('u',4))\n",
      "u_dot = sym.Matrix(sym.symarray('udot',len(u)))\n",
      "u_ddot = sym.Matrix(sym.symarray('uddot',len(u)))\n",
      "\n",
      "# symbolic system parameters \n",
      "E, I, A, rho, x, l, tau_a = sym.symbols('E I A rho x l tau_a')"
     ],
     "language": "python",
     "metadata": {},
     "outputs": [],
     "prompt_number": 13
    },
    {
     "cell_type": "markdown",
     "metadata": {},
     "source": [
      "### Compute the Mass Matrix"
     ]
    },
    {
     "cell_type": "code",
     "collapsed": false,
     "input": [
      "# Define shape function for element with one node at each end\n",
      "h = sym.symarray('h', 2)\n",
      "\n",
      "h[0] = 1*(1 - x)\n",
      "h[1] = 1*(1 + x)\n",
      "\n",
      "# Compute shape function matrix\n",
      "H = sym.expand(sym.Matrix([h[0]*sym.eye(2), h[1]*sym.eye(2)])).T\n",
      "# print(H.shape)\n",
      "# print(u.shape)\n",
      "\n",
      "# Define velocity of the nodes\n",
      "V = H*u_dot.T\n",
      "\n",
      "# Compute partial velocities of the nodes\n",
      "V_r = V_r = sym.Matrix([[sym.diff(V[j],u_dot[i]) \n",
      "                         for j in range(len(V))] for i in range(len(u))]).T\n",
      "\n",
      "# Compute the \n"
     ],
     "language": "python",
     "metadata": {},
     "outputs": [],
     "prompt_number": 16
    },
    {
     "cell_type": "markdown",
     "metadata": {},
     "source": [
      "### Compute Internal forces "
     ]
    },
    {
     "cell_type": "markdown",
     "metadata": {},
     "source": [
      "#### Compute Longitudinal Strain Energy"
     ]
    },
    {
     "cell_type": "code",
     "collapsed": false,
     "input": [],
     "language": "python",
     "metadata": {},
     "outputs": [],
     "prompt_number": 4
    },
    {
     "cell_type": "markdown",
     "metadata": {},
     "source": [
      "#### Compute Transverse Strain Energy"
     ]
    },
    {
     "cell_type": "code",
     "collapsed": false,
     "input": [],
     "language": "python",
     "metadata": {},
     "outputs": [],
     "prompt_number": 5
    },
    {
     "cell_type": "markdown",
     "metadata": {},
     "source": [
      "#### Compute Internal Forces $Q_e = \\frac{\\partial U}{\\partial e}$"
     ]
    },
    {
     "cell_type": "code",
     "collapsed": false,
     "input": [],
     "language": "python",
     "metadata": {},
     "outputs": [],
     "prompt_number": 6
    },
    {
     "cell_type": "markdown",
     "metadata": {},
     "source": [
      "### Applied and body force vector"
     ]
    },
    {
     "cell_type": "code",
     "collapsed": false,
     "input": [],
     "language": "python",
     "metadata": {},
     "outputs": [],
     "prompt_number": 7
    }
   ],
   "metadata": {}
  }
 ]
}
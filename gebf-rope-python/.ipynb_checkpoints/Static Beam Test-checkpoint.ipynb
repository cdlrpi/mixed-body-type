{
 "metadata": {
  "name": "",
  "signature": "sha256:b6d304231bc113c9f9d9bc1dc273425a85b23d000ff94a3b6821d03abb978a19"
 },
 "nbformat": 3,
 "nbformat_minor": 0,
 "worksheets": [
  {
   "cells": [
    {
     "cell_type": "code",
     "collapsed": false,
     "input": [
      "import numpy as np\n",
      "import scipy as sp\n",
      "import sympy as sym\n",
      "import pickle\n",
      "\n",
      "from IPython.display import display\n",
      "\n",
      "from sympy import init_printing\n",
      "init_printing(use_latex=True)"
     ],
     "language": "python",
     "metadata": {},
     "outputs": [],
     "prompt_number": 13
    },
    {
     "cell_type": "code",
     "collapsed": false,
     "input": [
      "# nodal positons, velocities, and accelerations\n",
      "x = sym.Matrix(sym.symarray('x',3))\n",
      "u = sym.Matrix(sym.symarray('u',len(x0)))\n",
      "\n",
      "x[2] = 0\n",
      "u[2] = 0\n",
      "\n",
      "# symbolic system parameters \n",
      "L, b, h, E, G, N_t, P_t, M_t, theta = sym.symbols('L b h E G N_t P_t M_t theta')\n",
      "\n",
      "R = sym.Matrix([[sym.cos(theta), -sym.sin(theta), 0],\n",
      "                [sym.sin(theta),  sym.cos(theta), 0],\n",
      "                [0, 0, 1]])"
     ],
     "language": "python",
     "metadata": {},
     "outputs": [
      {
       "latex": [
        "$$\\left[\\begin{matrix}\\cos{\\left (\\theta \\right )} & - \\sin{\\left (\\theta \\right )} & 0\\\\\\sin{\\left (\\theta \\right )} & \\cos{\\left (\\theta \\right )} & 0\\\\0 & 0 & 1\\end{matrix}\\right]$$"
       ],
       "metadata": {},
       "output_type": "display_data",
       "png": "[encoded data removed]",
       "text": [
        "\u23a1cos(\u03b8)  -sin(\u03b8)  0\u23a4\n",
        "\u23a2                  \u23a5\n",
        "\u23a2sin(\u03b8)  cos(\u03b8)   0\u23a5\n",
        "\u23a2                  \u23a5\n",
        "\u23a3  0        0     1\u23a6"
       ]
      }
     ],
     "prompt_number": 19
    },
    {
     "cell_type": "code",
     "collapsed": false,
     "input": [
      "# define material and physical constants\n",
      "H33 = E*b*h**3/12\n",
      "S = E*b*h\n",
      "K22 = 5*G*b*h/6"
     ],
     "language": "python",
     "metadata": {},
     "outputs": [],
     "prompt_number": 3
    },
    {
     "cell_type": "code",
     "collapsed": false,
     "input": [],
     "language": "python",
     "metadata": {},
     "outputs": []
    }
   ],
   "metadata": {}
  }
 ]
}
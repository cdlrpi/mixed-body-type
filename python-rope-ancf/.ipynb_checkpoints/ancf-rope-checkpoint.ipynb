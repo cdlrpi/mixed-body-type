{
 "metadata": {
  "name": "",
  "signature": "sha256:19fed0cef6a13d8d38116267e24e051439ee41e2842fb4c2c26bc4c637e9ad7d"
 },
 "nbformat": 3,
 "nbformat_minor": 0,
 "worksheets": [
  {
   "cells": [
    {
     "cell_type": "code",
     "collapsed": false,
     "input": [
      "import numpy as np\n",
      "import scipy as sp\n",
      "import matplotlib.pyplot as plt"
     ],
     "language": "python",
     "metadata": {},
     "outputs": [],
     "prompt_number": 5
    },
    {
     "cell_type": "code",
     "collapsed": false,
     "input": [
      "# System Specifications\n",
      "n_elements = 12\n",
      "L = 1.2\n",
      "Y = 0.7e6\n",
      "I = 1.215e-8\n",
      "A = 0.0018\n",
      "rho = 5540\n",
      "l = L/n_elements\n",
      "g = 9.81\n",
      "theta = 0"
     ],
     "language": "python",
     "metadata": {},
     "outputs": [],
     "prompt_number": 9
    },
    {
     "cell_type": "code",
     "collapsed": false,
     "input": [
      "# Compute initial nodal coordinates\n",
      "\"\"\"\n",
      "    Position of any point on the beam initially (straight rope) is \n",
      "    r_x = x*cos(theta)\n",
      "    r_y = x*sin(theta)\n",
      "    diff(r_x,x) = cos(theta)\n",
      "    diff(r_y,x) = sin(theta)\n",
      "\"\"\"\n",
      "# e = [r1x r1y dr1xdx dr1ydx r2x r2y dr2xdx dr2ydx]\n",
      "e = np.array([[(i*l-l)*np.cos(theta), (i*l-l)*np.sin(theta),\n",
      "                       np.cos(theta),         np.sin(theta),\n",
      "                 (i*l)*np.cos(theta),   (i*l)*np.sin(theta),\n",
      "                       np.cos(theta),         np.sin(theta)] \n",
      "             for i in range(1,n_elements+1)])\n",
      "# print(e)"
     ],
     "language": "python",
     "metadata": {},
     "outputs": [],
     "prompt_number": 12
    },
    {
     "cell_type": "code",
     "collapsed": false,
     "input": [],
     "language": "python",
     "metadata": {},
     "outputs": [],
     "prompt_number": 12
    },
    {
     "cell_type": "code",
     "collapsed": false,
     "input": [],
     "language": "python",
     "metadata": {},
     "outputs": []
    }
   ],
   "metadata": {}
  }
 ]
}
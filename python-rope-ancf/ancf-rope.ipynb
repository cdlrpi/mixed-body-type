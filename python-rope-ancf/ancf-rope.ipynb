{
 "metadata": {
  "name": "",
  "signature": "sha256:e195eeb33a1e3ba644a7c5637d4147b9093ece4c45d2e23bdef146e280fe1e87"
 },
 "nbformat": 3,
 "nbformat_minor": 0,
 "worksheets": [
  {
   "cells": [
    {
     "cell_type": "markdown",
     "metadata": {},
     "source": [
      "# This notebook performs a simulation of a rope where ANCF is used to model the large deformation"
     ]
    },
    {
     "cell_type": "markdown",
     "metadata": {},
     "source": [
      "### Generalized form of Jourdain's Principle is used to develop the mass matrix"
     ]
    },
    {
     "cell_type": "code",
     "collapsed": false,
     "input": [
      "import numpy as np\n",
      "import scipy as sp\n",
      "import sympy as sym\n",
      "import matplotlib.pyplot as plt\n",
      "\n",
      "from IPython.display import display\n",
      "\n",
      "from sympy import init_printing\n",
      "init_printing(use_latex=True)"
     ],
     "language": "python",
     "metadata": {},
     "outputs": [],
     "prompt_number": 1
    },
    {
     "cell_type": "markdown",
     "metadata": {},
     "source": [
      "#### Define symbolic quantites"
     ]
    },
    {
     "cell_type": "code",
     "collapsed": false,
     "input": [
      "# nodal positons, velocities, and accelerations\n",
      "\"\"\"\n",
      "    e = [r1x r1y dr1xdx dr1ydx r2x r2y dr2xdx dr2ydx]\n",
      "    e = 1x8 for a 2D beam\n",
      "\"\"\"\n",
      "e = sym.Matrix(sym.symarray('e',8))\n",
      "e_dot = sym.Matrix(sym.symarray('edot',len(e)))\n",
      "e_ddot = sym.Matrix(sym.symarray('eddot',len(e)))\n",
      "\n",
      "# symbolic system parameters \n",
      "A, rho, x, l = sym.symbols('A rho x l')"
     ],
     "language": "python",
     "metadata": {},
     "outputs": [],
     "prompt_number": 2
    },
    {
     "cell_type": "markdown",
     "metadata": {},
     "source": [
      "### Compute the Mass Matrix"
     ]
    },
    {
     "cell_type": "code",
     "collapsed": false,
     "input": [
      "# define shape functions\n",
      "s = sym.symarray('s',4)\n",
      "\n",
      "s[0] = 1-3*(x/l)**2+2*(x/l)**3;\n",
      "s[1] = x/l-2*(x/l)**2+(x/l)**3;\n",
      "s[2] = 3*(x/l)**2-2*(x/l)**3;\n",
      "s[3] = (x/l)**3-(x/l)**2;\n",
      "\n",
      "# compute shape function matrix\n",
      "S = sym.expand(sym.Matrix([s[0]*sym.eye(2), l*s[1]*sym.eye(2), s[2]*sym.eye(2), l*s[3]*sym.eye(2)])).T\n",
      "print('S = ')\n",
      "display(S)\n",
      "print()\n",
      "\n",
      "# define velocity of the nodes\n",
      "Vp = S*e_dot.T\n",
      "print('Vp = ')\n",
      "display(Vp)\n",
      "print()\n",
      "\n",
      "# define partial velocities of the nodes \n",
      "V_r = sym.Matrix([[sym.diff(Vp[j],e_dot[i]) for j in range(len(Vp))] for i in range(len(e))]).T\n",
      "print('U_r = ')\n",
      "display(U_r)\n",
      "print()\n",
      "\n",
      "# define acceleration of the nodes\n",
      "Ap = S*e_ddot.T\n",
      "print('Ap = ')\n",
      "display(Ap)\n",
      "print()\n",
      "\n",
      "M = sym.Matrix([[sym.expand(sym.integrate(V_r[:,j].dot(Ap)*rho*A,(x,0,l))).coeff(e_ddot[i]) for i in range(len(e))]\n",
      "                for j in range(len(e))])\n",
      "print('M = ')\n",
      "display(M)"
     ],
     "language": "python",
     "metadata": {},
     "outputs": [
      {
       "output_type": "stream",
       "stream": "stdout",
       "text": [
        "S = \n"
       ]
      },
      {
       "latex": [
        "$$\\left[\\begin{matrix}1 - \\frac{3 x^{2}}{l^{2}} + \\frac{2 x^{3}}{l^{3}} & 0 & x - \\frac{2 x^{2}}{l} + \\frac{x^{3}}{l^{2}} & 0 & \\frac{3 x^{2}}{l^{2}} - \\frac{2 x^{3}}{l^{3}} & 0 & - \\frac{x^{2}}{l} + \\frac{x^{3}}{l^{2}} & 0\\\\0 & 1 - \\frac{3 x^{2}}{l^{2}} + \\frac{2 x^{3}}{l^{3}} & 0 & x - \\frac{2 x^{2}}{l} + \\frac{x^{3}}{l^{2}} & 0 & \\frac{3 x^{2}}{l^{2}} - \\frac{2 x^{3}}{l^{3}} & 0 & - \\frac{x^{2}}{l} + \\frac{x^{3}}{l^{2}}\\end{matrix}\\right]$$"
       ],
       "metadata": {},
       "output_type": "display_data",
       "png": "[encoded data removed]",
       "text": [
        "\u23a1       2      3                          2    3                    2      3  \n",
        "\u23a2    3\u22c5x    2\u22c5x                        2\u22c5x    x                  3\u22c5x    2\u22c5x   \n",
        "\u23a21 - \u2500\u2500\u2500\u2500 + \u2500\u2500\u2500\u2500         0         x - \u2500\u2500\u2500\u2500 + \u2500\u2500        0        \u2500\u2500\u2500\u2500 - \u2500\u2500\u2500\u2500  \n",
        "\u23a2      2      3                         l      2                   2      3   \n",
        "\u23a2     l      l                                l                   l      l    \n",
        "\u23a2                                                                             \n",
        "\u23a2                        2      3                        2    3               \n",
        "\u23a2                     3\u22c5x    2\u22c5x                      2\u22c5x    x                \n",
        "\u23a2       0         1 - \u2500\u2500\u2500\u2500 + \u2500\u2500\u2500\u2500        0        x - \u2500\u2500\u2500\u2500 + \u2500\u2500       0       \n",
        "\u23a2                       2      3                       l      2               \n",
        "\u23a3                      l      l                              l                \n",
        "\n",
        "                2    3           \u23a4\n",
        "               x    x            \u23a5\n",
        "     0       - \u2500\u2500 + \u2500\u2500      0    \u23a5\n",
        "               l     2           \u23a5\n",
        "                    l            \u23a5\n",
        "                                 \u23a5\n",
        "   2      3                2    3\u23a5\n",
        "3\u22c5x    2\u22c5x                x    x \u23a5\n",
        "\u2500\u2500\u2500\u2500 - \u2500\u2500\u2500\u2500      0      - \u2500\u2500 + \u2500\u2500\u23a5\n",
        "  2      3                l     2\u23a5\n",
        " l      l                      l \u23a6"
       ]
      },
      {
       "output_type": "stream",
       "stream": "stdout",
       "text": [
        "\n",
        "Vp = \n"
       ]
      },
      {
       "latex": [
        "$$\\left[\\begin{matrix}\\dot{e}_{0} \\left(1 - \\frac{3 x^{2}}{l^{2}} + \\frac{2 x^{3}}{l^{3}}\\right) + \\dot{e}_{2} \\left(x - \\frac{2 x^{2}}{l} + \\frac{x^{3}}{l^{2}}\\right) + \\dot{e}_{4} \\left(\\frac{3 x^{2}}{l^{2}} - \\frac{2 x^{3}}{l^{3}}\\right) + \\dot{e}_{6} \\left(- \\frac{x^{2}}{l} + \\frac{x^{3}}{l^{2}}\\right)\\\\\\dot{e}_{1} \\left(1 - \\frac{3 x^{2}}{l^{2}} + \\frac{2 x^{3}}{l^{3}}\\right) + \\dot{e}_{3} \\left(x - \\frac{2 x^{2}}{l} + \\frac{x^{3}}{l^{2}}\\right) + \\dot{e}_{5} \\left(\\frac{3 x^{2}}{l^{2}} - \\frac{2 x^{3}}{l^{3}}\\right) + \\dot{e}_{7} \\left(- \\frac{x^{2}}{l} + \\frac{x^{3}}{l^{2}}\\right)\\end{matrix}\\right]$$"
       ],
       "metadata": {},
       "output_type": "display_data",
       "png": "[encoded data removed]",
       "text": [
        "\u23a1    \u239b       2      3\u239e       \u239b       2    3\u239e       \u239b   2      3\u239e       \u239b   2  \n",
        "\u23a2    \u239c    3\u22c5x    2\u22c5x \u239f       \u239c    2\u22c5x    x \u239f       \u239c3\u22c5x    2\u22c5x \u239f       \u239c  x   \n",
        "\u23a2\u0117\u2080\u22c5\u239c1 - \u2500\u2500\u2500\u2500 + \u2500\u2500\u2500\u2500\u239f + \u0117\u2082\u22c5\u239cx - \u2500\u2500\u2500\u2500 + \u2500\u2500\u239f + \u0117\u2084\u22c5\u239c\u2500\u2500\u2500\u2500 - \u2500\u2500\u2500\u2500\u239f + \u0117\u2086\u22c5\u239c- \u2500\u2500 +\n",
        "\u23a2    \u239c      2      3 \u239f       \u239c     l      2\u239f       \u239c  2      3 \u239f       \u239c  l   \n",
        "\u23a2    \u239d     l      l  \u23a0       \u239d           l \u23a0       \u239d l      l  \u23a0       \u239d      \n",
        "\u23a2                                                                             \n",
        "\u23a2    \u239b       2      3\u239e       \u239b       2    3\u239e       \u239b   2      3\u239e       \u239b   2  \n",
        "\u23a2    \u239c    3\u22c5x    2\u22c5x \u239f       \u239c    2\u22c5x    x \u239f       \u239c3\u22c5x    2\u22c5x \u239f       \u239c  x   \n",
        "\u23a2\u0117\u2081\u22c5\u239c1 - \u2500\u2500\u2500\u2500 + \u2500\u2500\u2500\u2500\u239f + \u0117\u2083\u22c5\u239cx - \u2500\u2500\u2500\u2500 + \u2500\u2500\u239f + \u0117\u2085\u22c5\u239c\u2500\u2500\u2500\u2500 - \u2500\u2500\u2500\u2500\u239f + \u0117\u2087\u22c5\u239c- \u2500\u2500 +\n",
        "\u23a2    \u239c      2      3 \u239f       \u239c     l      2\u239f       \u239c  2      3 \u239f       \u239c  l   \n",
        "\u23a3    \u239d     l      l  \u23a0       \u239d           l \u23a0       \u239d l      l  \u23a0       \u239d      \n",
        "\n",
        "  3\u239e\u23a4\n",
        " x \u239f\u23a5\n",
        " \u2500\u2500\u239f\u23a5\n",
        "  2\u239f\u23a5\n",
        " l \u23a0\u23a5\n",
        "    \u23a5\n",
        "  3\u239e\u23a5\n",
        " x \u239f\u23a5\n",
        " \u2500\u2500\u239f\u23a5\n",
        "  2\u239f\u23a5\n",
        " l \u23a0\u23a6"
       ]
      },
      {
       "output_type": "stream",
       "stream": "stdout",
       "text": [
        "\n",
        "U_r = \n"
       ]
      },
      {
       "latex": [
        "$$\\left[\\begin{matrix}1 - \\frac{3 x^{2}}{l^{2}} + \\frac{2 x^{3}}{l^{3}} & 0 & x - \\frac{2 x^{2}}{l} + \\frac{x^{3}}{l^{2}} & 0 & \\frac{3 x^{2}}{l^{2}} - \\frac{2 x^{3}}{l^{3}} & 0 & - \\frac{x^{2}}{l} + \\frac{x^{3}}{l^{2}} & 0\\\\0 & 1 - \\frac{3 x^{2}}{l^{2}} + \\frac{2 x^{3}}{l^{3}} & 0 & x - \\frac{2 x^{2}}{l} + \\frac{x^{3}}{l^{2}} & 0 & \\frac{3 x^{2}}{l^{2}} - \\frac{2 x^{3}}{l^{3}} & 0 & - \\frac{x^{2}}{l} + \\frac{x^{3}}{l^{2}}\\end{matrix}\\right]$$"
       ],
       "metadata": {},
       "output_type": "display_data",
       "png": "[encoded data removed]",
       "text": [
        "\u23a1       2      3                          2    3                    2      3  \n",
        "\u23a2    3\u22c5x    2\u22c5x                        2\u22c5x    x                  3\u22c5x    2\u22c5x   \n",
        "\u23a21 - \u2500\u2500\u2500\u2500 + \u2500\u2500\u2500\u2500         0         x - \u2500\u2500\u2500\u2500 + \u2500\u2500        0        \u2500\u2500\u2500\u2500 - \u2500\u2500\u2500\u2500  \n",
        "\u23a2      2      3                         l      2                   2      3   \n",
        "\u23a2     l      l                                l                   l      l    \n",
        "\u23a2                                                                             \n",
        "\u23a2                        2      3                        2    3               \n",
        "\u23a2                     3\u22c5x    2\u22c5x                      2\u22c5x    x                \n",
        "\u23a2       0         1 - \u2500\u2500\u2500\u2500 + \u2500\u2500\u2500\u2500        0        x - \u2500\u2500\u2500\u2500 + \u2500\u2500       0       \n",
        "\u23a2                       2      3                       l      2               \n",
        "\u23a3                      l      l                              l                \n",
        "\n",
        "                2    3           \u23a4\n",
        "               x    x            \u23a5\n",
        "     0       - \u2500\u2500 + \u2500\u2500      0    \u23a5\n",
        "               l     2           \u23a5\n",
        "                    l            \u23a5\n",
        "                                 \u23a5\n",
        "   2      3                2    3\u23a5\n",
        "3\u22c5x    2\u22c5x                x    x \u23a5\n",
        "\u2500\u2500\u2500\u2500 - \u2500\u2500\u2500\u2500      0      - \u2500\u2500 + \u2500\u2500\u23a5\n",
        "  2      3                l     2\u23a5\n",
        " l      l                      l \u23a6"
       ]
      },
      {
       "output_type": "stream",
       "stream": "stdout",
       "text": [
        "\n",
        "Ap = \n"
       ]
      },
      {
       "latex": [
        "$$\\left[\\begin{matrix}\\ddot{e}_{0} \\left(1 - \\frac{3 x^{2}}{l^{2}} + \\frac{2 x^{3}}{l^{3}}\\right) + \\ddot{e}_{2} \\left(x - \\frac{2 x^{2}}{l} + \\frac{x^{3}}{l^{2}}\\right) + \\ddot{e}_{4} \\left(\\frac{3 x^{2}}{l^{2}} - \\frac{2 x^{3}}{l^{3}}\\right) + \\ddot{e}_{6} \\left(- \\frac{x^{2}}{l} + \\frac{x^{3}}{l^{2}}\\right)\\\\\\ddot{e}_{1} \\left(1 - \\frac{3 x^{2}}{l^{2}} + \\frac{2 x^{3}}{l^{3}}\\right) + \\ddot{e}_{3} \\left(x - \\frac{2 x^{2}}{l} + \\frac{x^{3}}{l^{2}}\\right) + \\ddot{e}_{5} \\left(\\frac{3 x^{2}}{l^{2}} - \\frac{2 x^{3}}{l^{3}}\\right) + \\ddot{e}_{7} \\left(- \\frac{x^{2}}{l} + \\frac{x^{3}}{l^{2}}\\right)\\end{matrix}\\right]$$"
       ],
       "metadata": {},
       "output_type": "display_data",
       "png": "[encoded data removed]",
       "text": [
        "\u23a1    \u239b       2      3\u239e       \u239b       2    3\u239e       \u239b   2      3\u239e       \u239b   2  \n",
        "\u23a2    \u239c    3\u22c5x    2\u22c5x \u239f       \u239c    2\u22c5x    x \u239f       \u239c3\u22c5x    2\u22c5x \u239f       \u239c  x   \n",
        "\u23a2\u00eb\u2080\u22c5\u239c1 - \u2500\u2500\u2500\u2500 + \u2500\u2500\u2500\u2500\u239f + \u00eb\u2082\u22c5\u239cx - \u2500\u2500\u2500\u2500 + \u2500\u2500\u239f + \u00eb\u2084\u22c5\u239c\u2500\u2500\u2500\u2500 - \u2500\u2500\u2500\u2500\u239f + \u00eb\u2086\u22c5\u239c- \u2500\u2500 +\n",
        "\u23a2    \u239c      2      3 \u239f       \u239c     l      2\u239f       \u239c  2      3 \u239f       \u239c  l   \n",
        "\u23a2    \u239d     l      l  \u23a0       \u239d           l \u23a0       \u239d l      l  \u23a0       \u239d      \n",
        "\u23a2                                                                             \n",
        "\u23a2    \u239b       2      3\u239e       \u239b       2    3\u239e       \u239b   2      3\u239e       \u239b   2  \n",
        "\u23a2    \u239c    3\u22c5x    2\u22c5x \u239f       \u239c    2\u22c5x    x \u239f       \u239c3\u22c5x    2\u22c5x \u239f       \u239c  x   \n",
        "\u23a2\u00eb\u2081\u22c5\u239c1 - \u2500\u2500\u2500\u2500 + \u2500\u2500\u2500\u2500\u239f + \u00eb\u2083\u22c5\u239cx - \u2500\u2500\u2500\u2500 + \u2500\u2500\u239f + \u00eb\u2085\u22c5\u239c\u2500\u2500\u2500\u2500 - \u2500\u2500\u2500\u2500\u239f + \u00eb\u2087\u22c5\u239c- \u2500\u2500 +\n",
        "\u23a2    \u239c      2      3 \u239f       \u239c     l      2\u239f       \u239c  2      3 \u239f       \u239c  l   \n",
        "\u23a3    \u239d     l      l  \u23a0       \u239d           l \u23a0       \u239d l      l  \u23a0       \u239d      \n",
        "\n",
        "  3\u239e\u23a4\n",
        " x \u239f\u23a5\n",
        " \u2500\u2500\u239f\u23a5\n",
        "  2\u239f\u23a5\n",
        " l \u23a0\u23a5\n",
        "    \u23a5\n",
        "  3\u239e\u23a5\n",
        " x \u239f\u23a5\n",
        " \u2500\u2500\u239f\u23a5\n",
        "  2\u239f\u23a5\n",
        " l \u23a0\u23a6"
       ]
      },
      {
       "output_type": "stream",
       "stream": "stdout",
       "text": [
        "\n",
        "M = "
       ]
      },
      {
       "output_type": "stream",
       "stream": "stdout",
       "text": [
        "\n"
       ]
      },
      {
       "latex": [
        "$$\\left[\\begin{matrix}\\frac{13 A}{35} l \\rho & 0 & \\frac{11 A}{210} l^{2} \\rho & 0 & \\frac{9 A}{70} l \\rho & 0 & - \\frac{13 A}{420} l^{2} \\rho & 0\\\\0 & \\frac{13 A}{35} l \\rho & 0 & \\frac{11 A}{210} l^{2} \\rho & 0 & \\frac{9 A}{70} l \\rho & 0 & - \\frac{13 A}{420} l^{2} \\rho\\\\\\frac{11 A}{210} l^{2} \\rho & 0 & \\frac{A \\rho}{105} l^{3} & 0 & \\frac{13 A}{420} l^{2} \\rho & 0 & - \\frac{A \\rho}{140} l^{3} & 0\\\\0 & \\frac{11 A}{210} l^{2} \\rho & 0 & \\frac{A \\rho}{105} l^{3} & 0 & \\frac{13 A}{420} l^{2} \\rho & 0 & - \\frac{A \\rho}{140} l^{3}\\\\\\frac{9 A}{70} l \\rho & 0 & \\frac{13 A}{420} l^{2} \\rho & 0 & \\frac{13 A}{35} l \\rho & 0 & - \\frac{11 A}{210} l^{2} \\rho & 0\\\\0 & \\frac{9 A}{70} l \\rho & 0 & \\frac{13 A}{420} l^{2} \\rho & 0 & \\frac{13 A}{35} l \\rho & 0 & - \\frac{11 A}{210} l^{2} \\rho\\\\- \\frac{13 A}{420} l^{2} \\rho & 0 & - \\frac{A \\rho}{140} l^{3} & 0 & - \\frac{11 A}{210} l^{2} \\rho & 0 & \\frac{A \\rho}{105} l^{3} & 0\\\\0 & - \\frac{13 A}{420} l^{2} \\rho & 0 & - \\frac{A \\rho}{140} l^{3} & 0 & - \\frac{11 A}{210} l^{2} \\rho & 0 & \\frac{A \\rho}{105} l^{3}\\end{matrix}\\right]$$"
       ],
       "metadata": {},
       "output_type": "display_data",
       "png": "[encoded data removed]",
       "text": [
        "\u23a1                                2                                            \n",
        "\u23a2 13\u22c5A\u22c5l\u22c5\u03c1                 11\u22c5A\u22c5l \u22c5\u03c1               9\u22c5A\u22c5l\u22c5\u03c1                 -13\n",
        "\u23a2 \u2500\u2500\u2500\u2500\u2500\u2500\u2500\u2500         0       \u2500\u2500\u2500\u2500\u2500\u2500\u2500\u2500\u2500      0        \u2500\u2500\u2500\u2500\u2500\u2500\u2500         0       \u2500\u2500\u2500\n",
        "\u23a2    35                       210                     70                      \n",
        "\u23a2                                                                             \n",
        "\u23a2                                           2                                 \n",
        "\u23a2              13\u22c5A\u22c5l\u22c5\u03c1               11\u22c5A\u22c5l \u22c5\u03c1                 9\u22c5A\u22c5l\u22c5\u03c1       \n",
        "\u23a2     0        \u2500\u2500\u2500\u2500\u2500\u2500\u2500\u2500        0      \u2500\u2500\u2500\u2500\u2500\u2500\u2500\u2500\u2500       0         \u2500\u2500\u2500\u2500\u2500\u2500\u2500       \n",
        "\u23a2                 35                     210                       70         \n",
        "\u23a2                                                                             \n",
        "\u23a2       2                      3                        2                     \n",
        "\u23a2 11\u22c5A\u22c5l \u22c5\u03c1                 A\u22c5l \u22c5\u03c1                13\u22c5A\u22c5l \u22c5\u03c1                 -A\n",
        "\u23a2 \u2500\u2500\u2500\u2500\u2500\u2500\u2500\u2500\u2500        0        \u2500\u2500\u2500\u2500\u2500\u2500        0       \u2500\u2500\u2500\u2500\u2500\u2500\u2500\u2500\u2500        0        \u2500\u2500\n",
        "\u23a2    210                     105                     420                      \n",
        "\u23a2                                                                             \n",
        "\u23a2                    2                    3                          2        \n",
        "\u23a2              11\u22c5A\u22c5l \u22c5\u03c1               A\u22c5l \u22c5\u03c1                  13\u22c5A\u22c5l \u22c5\u03c1      \n",
        "\u23a2     0        \u2500\u2500\u2500\u2500\u2500\u2500\u2500\u2500\u2500       0       \u2500\u2500\u2500\u2500\u2500\u2500         0        \u2500\u2500\u2500\u2500\u2500\u2500\u2500\u2500\u2500      \n",
        "\u23a2                 210                   105                       420         \n",
        "\u23a2                                                                             \n",
        "\u23a2                                2                                            \n",
        "\u23a2  9\u22c5A\u22c5l\u22c5\u03c1                 13\u22c5A\u22c5l \u22c5\u03c1              13\u22c5A\u22c5l\u22c5\u03c1                 -11\n",
        "\u23a2  \u2500\u2500\u2500\u2500\u2500\u2500\u2500         0       \u2500\u2500\u2500\u2500\u2500\u2500\u2500\u2500\u2500      0       \u2500\u2500\u2500\u2500\u2500\u2500\u2500\u2500         0       \u2500\u2500\u2500\n",
        "\u23a2     70                      420                    35                       \n",
        "\u23a2                                                                             \n",
        "\u23a2                                           2                                 \n",
        "\u23a2               9\u22c5A\u22c5l\u22c5\u03c1               13\u22c5A\u22c5l \u22c5\u03c1                13\u22c5A\u22c5l\u22c5\u03c1       \n",
        "\u23a2     0         \u2500\u2500\u2500\u2500\u2500\u2500\u2500        0      \u2500\u2500\u2500\u2500\u2500\u2500\u2500\u2500\u2500       0        \u2500\u2500\u2500\u2500\u2500\u2500\u2500\u2500       \n",
        "\u23a2                  70                    420                      35          \n",
        "\u23a2                                                                             \n",
        "\u23a2       2                      3                        2                     \n",
        "\u23a2-13\u22c5A\u22c5l \u22c5\u03c1                -A\u22c5l \u22c5\u03c1               -11\u22c5A\u22c5l \u22c5\u03c1                  A\n",
        "\u23a2\u2500\u2500\u2500\u2500\u2500\u2500\u2500\u2500\u2500\u2500\u2500       0       \u2500\u2500\u2500\u2500\u2500\u2500\u2500\u2500       0      \u2500\u2500\u2500\u2500\u2500\u2500\u2500\u2500\u2500\u2500\u2500       0         \u2500\n",
        "\u23a2    420                     140                     210                      \n",
        "\u23a2                                                                             \n",
        "\u23a2                    2                    3                          2        \n",
        "\u23a2             -13\u22c5A\u22c5l \u22c5\u03c1              -A\u22c5l \u22c5\u03c1                 -11\u22c5A\u22c5l \u22c5\u03c1      \n",
        "\u23a2     0       \u2500\u2500\u2500\u2500\u2500\u2500\u2500\u2500\u2500\u2500\u2500      0      \u2500\u2500\u2500\u2500\u2500\u2500\u2500\u2500        0       \u2500\u2500\u2500\u2500\u2500\u2500\u2500\u2500\u2500\u2500\u2500     \n",
        "\u23a3                 420                   140                       210         \n",
        "\n",
        "    2                \u23a4\n",
        "\u22c5A\u22c5l \u22c5\u03c1              \u23a5\n",
        "\u2500\u2500\u2500\u2500\u2500\u2500\u2500\u2500       0     \u23a5\n",
        " 420                 \u23a5\n",
        "                     \u23a5\n",
        "                 2   \u23a5\n",
        "          -13\u22c5A\u22c5l \u22c5\u03c1 \u23a5\n",
        "  0       \u2500\u2500\u2500\u2500\u2500\u2500\u2500\u2500\u2500\u2500\u2500\u23a5\n",
        "              420    \u23a5\n",
        "                     \u23a5\n",
        "  3                  \u23a5\n",
        "\u22c5l \u22c5\u03c1                \u23a5\n",
        "\u2500\u2500\u2500\u2500\u2500\u2500         0     \u23a5\n",
        "140                  \u23a5\n",
        "                     \u23a5\n",
        "               3     \u23a5\n",
        "           -A\u22c5l \u22c5\u03c1   \u23a5\n",
        "  0        \u2500\u2500\u2500\u2500\u2500\u2500\u2500\u2500  \u23a5\n",
        "             140     \u23a5\n",
        "                     \u23a5\n",
        "    2                \u23a5\n",
        "\u22c5A\u22c5l \u22c5\u03c1              \u23a5\n",
        "\u2500\u2500\u2500\u2500\u2500\u2500\u2500\u2500       0     \u23a5\n",
        " 210                 \u23a5\n",
        "                     \u23a5\n",
        "                 2   \u23a5\n",
        "          -11\u22c5A\u22c5l \u22c5\u03c1 \u23a5\n",
        "  0       \u2500\u2500\u2500\u2500\u2500\u2500\u2500\u2500\u2500\u2500\u2500\u23a5\n",
        "              210    \u23a5\n",
        "                     \u23a5\n",
        "  3                  \u23a5\n",
        "\u22c5l \u22c5\u03c1                \u23a5\n",
        "\u2500\u2500\u2500\u2500\u2500          0     \u23a5\n",
        "105                  \u23a5\n",
        "                     \u23a5\n",
        "               3     \u23a5\n",
        "            A\u22c5l \u22c5\u03c1   \u23a5\n",
        "  0         \u2500\u2500\u2500\u2500\u2500\u2500   \u23a5\n",
        "             105     \u23a6"
       ]
      }
     ],
     "prompt_number": 3
    },
    {
     "cell_type": "markdown",
     "metadata": {},
     "source": [
      "### Compute Internal forces "
     ]
    },
    {
     "cell_type": "code",
     "collapsed": false,
     "input": [
      "# Physical Parameters of the system\n",
      "n_elements = 12\n",
      "I = 1.215e-8 \n",
      "L = 1.2 \n",
      "A = .0018 \n",
      "l = L/n_elements \n",
      "g = 9.81\n",
      "\n",
      "# Material Properties\n",
      "Y = 0.7e6  \n",
      "rho = 5540\n",
      "\n",
      "# Starting Configuration\n",
      "theta = 0"
     ],
     "language": "python",
     "metadata": {},
     "outputs": [],
     "prompt_number": 9
    },
    {
     "cell_type": "code",
     "collapsed": false,
     "input": [
      "# Compute initial nodal coordinates\n",
      "\"\"\"\n",
      "    Position of any point on the beam initially (straight rope) is \n",
      "    r_x = x*cos(theta)\n",
      "    r_y = x*sin(theta)\n",
      "    diff(r_x,x) = cos(theta)\n",
      "    diff(r_y,x) = sin(theta)\n",
      "\"\"\"\n",
      "# e = [r1x r1y dr1xdx dr1ydx r2x r2y dr2xdx dr2ydx]\n",
      "e = np.array([[(i*l-l)*np.cos(theta), (i*l-l)*np.sin(theta),\n",
      "                       np.cos(theta),         np.sin(theta),\n",
      "                 (i*l)*np.cos(theta),   (i*l)*np.sin(theta),\n",
      "                       np.cos(theta),         np.sin(theta)] \n",
      "             for i in range(1,n_elements+1)])"
     ],
     "language": "python",
     "metadata": {},
     "outputs": [],
     "prompt_number": 10
    },
    {
     "cell_type": "code",
     "collapsed": false,
     "input": [],
     "language": "python",
     "metadata": {},
     "outputs": []
    }
   ],
   "metadata": {}
  }
 ]
}
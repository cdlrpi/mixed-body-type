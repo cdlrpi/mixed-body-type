{
 "cells": [
  {
   "cell_type": "markdown",
   "metadata": {},
   "source": [
    "#Beam Element - This notebook computes the mass matrix and internal forces and outputs them for later use"
   ]
  },
  {
   "cell_type": "markdown",
   "metadata": {},
   "source": [
    "1. 1 rotation 3 displacements (Reduced dimensions so all matricies are subsequently invertible, Mii = 0 if some dof's are accounted for but  unused)\n",
    "2. Interpolation of roataion matricies WITHOUT orthogonalization (sympy struggling with too much algebra)\n",
    "3. Circular cross-section with radius 'r'"
   ]
  },
  {
   "cell_type": "code",
   "execution_count": 1,
   "metadata": {
    "collapsed": false
   },
   "outputs": [],
   "source": [
    "import numpy as np\n",
    "import scipy as sp\n",
    "import sympy as sym\n",
    "import pickle\n",
    "\n",
    "from scipy import linalg\n",
    "from sympy import mpmath\n",
    "from sympy import cos, sin\n",
    "\n",
    "from IPython.display import display\n",
    "from __future__ import division\n",
    "from sympy.interactive import printing\n",
    "printing.init_printing(use_latex='mathjax')"
   ]
  },
  {
   "cell_type": "markdown",
   "metadata": {},
   "source": [
    "#### Define Needed Functions"
   ]
  },
  {
   "cell_type": "code",
   "execution_count": 2,
   "metadata": {
    "collapsed": false
   },
   "outputs": [],
   "source": [
    "def Skew_sym(v):\n",
    "    \"\"\"\n",
    "    This function returns the skew symetric matrix \n",
    "    of the vector 'v' to affect the cross product of 'v'x'u'\n",
    "    \"\"\"\n",
    "    v_matrix = sym.Matrix([[  0 , -v[2],  v[1]],\n",
    "                          [v[2],     0,  -v[0]],\n",
    "                          [-v[1],  v[0],    0]])\n",
    "    return v_matrix"
   ]
  },
  {
   "cell_type": "code",
   "execution_count": 3,
   "metadata": {
    "collapsed": true
   },
   "outputs": [],
   "source": [
    "def Axial_sym(A):\n",
    "    a_vec = 1/2*sym.Matrix([A[2,1] - A[1,2], A[0,2] - A[2,0], A[1,0] - A[0,1]])\n",
    "    return a_vec"
   ]
  },
  {
   "cell_type": "code",
   "execution_count": 4,
   "metadata": {
    "collapsed": false
   },
   "outputs": [],
   "source": [
    "def Rotate_sym(theta):\n",
    "    \"\"\"\n",
    "    This function returns the symbolic rotation matrix \n",
    "    for the simple 2D-rotation about the third axis\n",
    "    \"\"\"\n",
    "    R = sym.Matrix([[cos(theta),-sin(theta), 0],\n",
    "                    [sin(theta), cos(theta), 0],[0,0,1]])\n",
    "    return R"
   ]
  },
  {
   "cell_type": "markdown",
   "metadata": {},
   "source": [
    "#### Define symbolic quantites"
   ]
  },
  {
   "cell_type": "code",
   "execution_count": 5,
   "metadata": {
    "collapsed": false
   },
   "outputs": [
    {
     "data": {
      "text/latex": [
       "$$\\left [ \\left[\\begin{matrix}q_{0}\\\\q_{1}\\\\q_{2}\\\\q_{3}\\\\q_{4}\\\\q_{5}\\\\q_{6}\\\\q_{7}\\end{matrix}\\right], \\quad \\left[\\begin{matrix}\\dot{q}_{0}\\\\\\dot{q}_{1}\\\\\\dot{q}_{2}\\\\\\dot{q}_{3}\\\\\\dot{q}_{4}\\\\\\dot{q}_{5}\\\\\\dot{q}_{6}\\\\\\dot{q}_{7}\\end{matrix}\\right], \\quad \\left[\\begin{matrix}\\ddot{q}_{0}\\\\\\ddot{q}_{1}\\\\\\ddot{q}_{2}\\\\\\ddot{q}_{3}\\\\\\ddot{q}_{4}\\\\\\ddot{q}_{5}\\\\\\ddot{q}_{6}\\\\\\ddot{q}_{7}\\end{matrix}\\right]\\right ]$$"
      ],
      "text/plain": [
       "⎡⎡q₀⎤, ⎡q̇₀⎤, ⎡q̈₀⎤⎤\n",
       "⎢⎢  ⎥  ⎢   ⎥  ⎢   ⎥⎥\n",
       "⎢⎢q₁⎥  ⎢q̇₁⎥  ⎢q̈₁⎥⎥\n",
       "⎢⎢  ⎥  ⎢   ⎥  ⎢   ⎥⎥\n",
       "⎢⎢q₂⎥  ⎢q̇₂⎥  ⎢q̈₂⎥⎥\n",
       "⎢⎢  ⎥  ⎢   ⎥  ⎢   ⎥⎥\n",
       "⎢⎢q₃⎥  ⎢q̇₃⎥  ⎢q̈₃⎥⎥\n",
       "⎢⎢  ⎥  ⎢   ⎥  ⎢   ⎥⎥\n",
       "⎢⎢q₄⎥  ⎢q̇₄⎥  ⎢q̈₄⎥⎥\n",
       "⎢⎢  ⎥  ⎢   ⎥  ⎢   ⎥⎥\n",
       "⎢⎢q₅⎥  ⎢q̇₅⎥  ⎢q̈₅⎥⎥\n",
       "⎢⎢  ⎥  ⎢   ⎥  ⎢   ⎥⎥\n",
       "⎢⎢q₆⎥  ⎢q̇₆⎥  ⎢q̈₆⎥⎥\n",
       "⎢⎢  ⎥  ⎢   ⎥  ⎢   ⎥⎥\n",
       "⎣⎣q₇⎦  ⎣q̇₇⎦  ⎣q̈₇⎦⎦"
      ]
     },
     "metadata": {},
     "output_type": "display_data"
    },
    {
     "data": {
      "text/latex": [
       "$$\\left [ \\left[\\begin{matrix}q_{1}\\\\q_{2}\\\\q_{3}\\\\q_{5}\\\\q_{6}\\\\q_{7}\\end{matrix}\\right], \\quad \\left[\\begin{matrix}\\dot{q}_{1}\\\\\\dot{q}_{2}\\\\\\dot{q}_{3}\\\\\\dot{q}_{5}\\\\\\dot{q}_{6}\\\\\\dot{q}_{7}\\end{matrix}\\right], \\quad \\left[\\begin{matrix}\\ddot{q}_{1}\\\\\\ddot{q}_{2}\\\\\\ddot{q}_{3}\\\\\\ddot{q}_{5}\\\\\\ddot{q}_{6}\\\\\\ddot{q}_{7}\\end{matrix}\\right]\\right ]$$"
      ],
      "text/plain": [
       "⎡⎡q₁⎤, ⎡q̇₁⎤, ⎡q̈₁⎤⎤\n",
       "⎢⎢  ⎥  ⎢   ⎥  ⎢   ⎥⎥\n",
       "⎢⎢q₂⎥  ⎢q̇₂⎥  ⎢q̈₂⎥⎥\n",
       "⎢⎢  ⎥  ⎢   ⎥  ⎢   ⎥⎥\n",
       "⎢⎢q₃⎥  ⎢q̇₃⎥  ⎢q̈₃⎥⎥\n",
       "⎢⎢  ⎥  ⎢   ⎥  ⎢   ⎥⎥\n",
       "⎢⎢q₅⎥  ⎢q̇₅⎥  ⎢q̈₅⎥⎥\n",
       "⎢⎢  ⎥  ⎢   ⎥  ⎢   ⎥⎥\n",
       "⎢⎢q₆⎥  ⎢q̇₆⎥  ⎢q̈₆⎥⎥\n",
       "⎢⎢  ⎥  ⎢   ⎥  ⎢   ⎥⎥\n",
       "⎣⎣q₇⎦  ⎣q̇₇⎦  ⎣q̈₇⎦⎦"
      ]
     },
     "metadata": {},
     "output_type": "display_data"
    }
   ],
   "source": [
    "# nodal positons, velocities, and accelerations\n",
    "\"\"\"\n",
    "    q = [u_1x,u_1y,u_1z,theta_1,u_2x,u_2y,u_2z,theta_2]\n",
    "    q = 1x6 for a 2D beam with 2 nodes (neglecting u_iz)\n",
    "\"\"\"\n",
    "\n",
    "# symbolic system parameters \n",
    "E, I, A, rho, x, l, r, tau_a = sym.symbols('E I A rho x l r tau_a')\n",
    "\n",
    "# Define radius consistent with Area used in simulation\n",
    "# radius = 0.02393653682\n",
    "\n",
    "# Beam coordinates at cross-section 1 and 2\n",
    "# point 'p' is the centroid\n",
    "r1 = sym.Matrix(['r_x','r_y'])\n",
    "r2 = sym.Matrix(['r_x','r_y'])\n",
    "# r1 = sym.Matrix(['0','0'])\n",
    "# r2 = sym.Matrix(['0','0'])\n",
    "\n",
    "# locating the point in the cross section\n",
    "s1 = sym.Matrix([r1, [0]])\n",
    "s2 = sym.Matrix([r2, [0]])\n",
    "s = sym.Matrix.vstack(s1,s2)\n",
    "\n",
    "# generalized coordinates\n",
    "q = sym.Matrix(sym.symarray('q',8))\n",
    "# generalized speeds\n",
    "qdot = sym.Matrix(sym.symarray('qdot',len(q)))\n",
    "# generalized accelerations\n",
    "qddot = sym.Matrix(sym.symarray('qddot',len(q)))\n",
    "\n",
    "# Deformations of Nodes  \n",
    "u = sym.Matrix([q[1:4,0], q[5:8,0]])\n",
    "udot = sym.Matrix([qdot[1:4,0], qdot[5:8,0]])\n",
    "uddot = sym.Matrix([qddot[1:4,0], qddot[5:8,0]])\n",
    "\n",
    "display([q,qdot,qddot])\n",
    "display([u,udot,uddot])"
   ]
  },
  {
   "cell_type": "markdown",
   "metadata": {},
   "source": [
    "### Needed Matrix Quantities"
   ]
  },
  {
   "cell_type": "code",
   "execution_count": 6,
   "metadata": {
    "collapsed": false
   },
   "outputs": [],
   "source": [
    "# angular velocity for 2D case is trivial\n",
    "omega1_skew = Skew_sym([0,0,qdot[0]])\n",
    "omega2_skew = Skew_sym([0,0,qdot[4]])\n",
    "alpha1_skew = Skew_sym([0,0,qddot[0]])\n",
    "alpha2_skew = Skew_sym([0,0,qddot[4]])\n",
    "\n",
    "# 1D Roation at each node\n",
    "R1 = Rotate_sym(q[0])\n",
    "R2 = Rotate_sym(q[4])\n",
    "# display(R1,R2)\n",
    "\n",
    "# \"spatial\" rotation matrix\n",
    "R = sym.Matrix.vstack(sym.Matrix.hstack(R1,sym.zeros(3)), \\\n",
    "                      sym.Matrix.hstack(sym.zeros(3),R2))\n",
    "\n",
    "# \"spatial\" angular velocity matrix\n",
    "Omega_skew = sym.Matrix.vstack(sym.Matrix.hstack(omega1_skew,sym.zeros(3)), \\\n",
    "                               sym.Matrix.hstack(sym.zeros(3),omega2_skew))\n",
    "\n",
    "# \"spatial\" angular acceleration matrix\n",
    "Alpha_skew = sym.Matrix.vstack(sym.Matrix.hstack(alpha1_skew,sym.zeros(3)), \\\n",
    "                               sym.Matrix.hstack(sym.zeros(3),alpha2_skew))\n",
    "# display(Omega)"
   ]
  },
  {
   "cell_type": "code",
   "execution_count": 7,
   "metadata": {
    "collapsed": false
   },
   "outputs": [
    {
     "data": {
      "text/latex": [
       "$$\\left[\\begin{matrix}- \\dot{q}_{0} \\sin{\\left (q_{0} \\right )} & - \\dot{q}_{0} \\cos{\\left (q_{0} \\right )} & 0\\\\\\dot{q}_{0} \\cos{\\left (q_{0} \\right )} & - \\dot{q}_{0} \\sin{\\left (q_{0} \\right )} & 0\\\\0 & 0 & 0\\end{matrix}\\right]$$"
      ],
      "text/plain": [
       "⎡-q̇₀⋅sin(q₀)  -q̇₀⋅cos(q₀)  0⎤\n",
       "⎢                             ⎥\n",
       "⎢q̇₀⋅cos(q₀)   -q̇₀⋅sin(q₀)  0⎥\n",
       "⎢                             ⎥\n",
       "⎣     0             0        0⎦"
      ]
     },
     "metadata": {},
     "output_type": "display_data"
    }
   ],
   "source": [
    "display(R1*omega1_skew)"
   ]
  },
  {
   "cell_type": "code",
   "execution_count": 8,
   "metadata": {
    "collapsed": false
   },
   "outputs": [
    {
     "data": {
      "text/latex": [
       "$$\\left[\\begin{matrix}r_{x}\\\\r_{y}\\\\0\\end{matrix}\\right]$$"
      ],
      "text/plain": [
       "⎡rₓ ⎤\n",
       "⎢   ⎥\n",
       "⎢r_y⎥\n",
       "⎢   ⎥\n",
       "⎣ 0 ⎦"
      ]
     },
     "metadata": {},
     "output_type": "display_data"
    }
   ],
   "source": [
    "display(s1)"
   ]
  },
  {
   "cell_type": "markdown",
   "metadata": {},
   "source": [
    "### Define Kinematics"
   ]
  },
  {
   "cell_type": "code",
   "execution_count": 9,
   "metadata": {
    "collapsed": false
   },
   "outputs": [
    {
     "name": "stdout",
     "output_type": "stream",
     "text": [
      "v = \n"
     ]
    },
    {
     "data": {
      "text/latex": [
       "$$\\left[\\begin{matrix}- \\dot{q}_{0} r_{x} \\sin{\\left (q_{0} \\right )} - \\dot{q}_{0} r_{y} \\cos{\\left (q_{0} \\right )} + \\dot{q}_{1}\\\\\\dot{q}_{0} r_{x} \\cos{\\left (q_{0} \\right )} - \\dot{q}_{0} r_{y} \\sin{\\left (q_{0} \\right )} + \\dot{q}_{2}\\\\\\dot{q}_{3}\\\\- \\dot{q}_{4} r_{x} \\sin{\\left (q_{4} \\right )} - \\dot{q}_{4} r_{y} \\cos{\\left (q_{4} \\right )} + \\dot{q}_{5}\\\\\\dot{q}_{4} r_{x} \\cos{\\left (q_{4} \\right )} - \\dot{q}_{4} r_{y} \\sin{\\left (q_{4} \\right )} + \\dot{q}_{6}\\\\\\dot{q}_{7}\\end{matrix}\\right]$$"
      ],
      "text/plain": [
       "⎡-q̇₀⋅rₓ⋅sin(q₀) - q̇₀⋅r_y⋅cos(q₀) + q̇₁⎤\n",
       "⎢                                       ⎥\n",
       "⎢q̇₀⋅rₓ⋅cos(q₀) - q̇₀⋅r_y⋅sin(q₀) + q̇₂ ⎥\n",
       "⎢                                       ⎥\n",
       "⎢                  q̇₃                  ⎥\n",
       "⎢                                       ⎥\n",
       "⎢-q̇₄⋅rₓ⋅sin(q₄) - q̇₄⋅r_y⋅cos(q₄) + q̇₅⎥\n",
       "⎢                                       ⎥\n",
       "⎢q̇₄⋅rₓ⋅cos(q₄) - q̇₄⋅r_y⋅sin(q₄) + q̇₆ ⎥\n",
       "⎢                                       ⎥\n",
       "⎣                  q̇₇                  ⎦"
      ]
     },
     "metadata": {},
     "output_type": "display_data"
    },
    {
     "name": "stdout",
     "output_type": "stream",
     "text": [
      "\n",
      "a = \n"
     ]
    },
    {
     "data": {
      "text/latex": [
       "$$\\left[\\begin{matrix}- \\ddot{q}_{0} r_{x} \\sin{\\left (q_{0} \\right )} - \\ddot{q}_{0} r_{y} \\cos{\\left (q_{0} \\right )} + \\ddot{q}_{1} - \\dot{q}_{0}^{2} r_{x} \\cos{\\left (q_{0} \\right )} + \\dot{q}_{0}^{2} r_{y} \\sin{\\left (q_{0} \\right )}\\\\\\ddot{q}_{0} r_{x} \\cos{\\left (q_{0} \\right )} - \\ddot{q}_{0} r_{y} \\sin{\\left (q_{0} \\right )} + \\ddot{q}_{2} - \\dot{q}_{0}^{2} r_{x} \\sin{\\left (q_{0} \\right )} - \\dot{q}_{0}^{2} r_{y} \\cos{\\left (q_{0} \\right )}\\\\\\ddot{q}_{3}\\\\- \\ddot{q}_{4} r_{x} \\sin{\\left (q_{4} \\right )} - \\ddot{q}_{4} r_{y} \\cos{\\left (q_{4} \\right )} + \\ddot{q}_{5} - \\dot{q}_{4}^{2} r_{x} \\cos{\\left (q_{4} \\right )} + \\dot{q}_{4}^{2} r_{y} \\sin{\\left (q_{4} \\right )}\\\\\\ddot{q}_{4} r_{x} \\cos{\\left (q_{4} \\right )} - \\ddot{q}_{4} r_{y} \\sin{\\left (q_{4} \\right )} + \\ddot{q}_{6} - \\dot{q}_{4}^{2} r_{x} \\sin{\\left (q_{4} \\right )} - \\dot{q}_{4}^{2} r_{y} \\cos{\\left (q_{4} \\right )}\\\\\\ddot{q}_{7}\\end{matrix}\\right]$$"
      ],
      "text/plain": [
       "⎡                                             2                 2            ⎤\n",
       "⎢-q̈₀⋅rₓ⋅sin(q₀) - q̈₀⋅r_y⋅cos(q₀) + q̈₁ - q̇₀ ⋅rₓ⋅cos(q₀) + q̇₀ ⋅r_y⋅sin(q₀)⎥\n",
       "⎢                                                                            ⎥\n",
       "⎢                                            2                 2             ⎥\n",
       "⎢q̈₀⋅rₓ⋅cos(q₀) - q̈₀⋅r_y⋅sin(q₀) + q̈₂ - q̇₀ ⋅rₓ⋅sin(q₀) - q̇₀ ⋅r_y⋅cos(q₀) ⎥\n",
       "⎢                                                                            ⎥\n",
       "⎢                                    q̈₃                                     ⎥\n",
       "⎢                                                                            ⎥\n",
       "⎢                                             2                 2            ⎥\n",
       "⎢-q̈₄⋅rₓ⋅sin(q₄) - q̈₄⋅r_y⋅cos(q₄) + q̈₅ - q̇₄ ⋅rₓ⋅cos(q₄) + q̇₄ ⋅r_y⋅sin(q₄)⎥\n",
       "⎢                                                                            ⎥\n",
       "⎢                                            2                 2             ⎥\n",
       "⎢q̈₄⋅rₓ⋅cos(q₄) - q̈₄⋅r_y⋅sin(q₄) + q̈₆ - q̇₄ ⋅rₓ⋅sin(q₄) - q̇₄ ⋅r_y⋅cos(q₄) ⎥\n",
       "⎢                                                                            ⎥\n",
       "⎣                                    q̈₇                                     ⎦"
      ]
     },
     "metadata": {},
     "output_type": "display_data"
    }
   ],
   "source": [
    "# Define velocity of element endpoints (nodes)\n",
    "v = sym.simplify(udot + R*Omega_skew*s)\n",
    "print('v = ')\n",
    "display(v)\n",
    "\n",
    "# Define acceleration of element endpoints (nodes)\n",
    "a = sym.simplify(uddot + R*Omega_skew*Omega_skew*s + R*Alpha_skew*s)\n",
    "print('\\na = ')\n",
    "display(a)"
   ]
  },
  {
   "cell_type": "markdown",
   "metadata": {},
   "source": [
    "### Compute the Mass Matrix"
   ]
  },
  {
   "cell_type": "code",
   "execution_count": 10,
   "metadata": {
    "collapsed": false
   },
   "outputs": [
    {
     "name": "stdout",
     "output_type": "stream",
     "text": [
      "\n",
      "H = \n"
     ]
    },
    {
     "data": {
      "text/latex": [
       "$$\\left[\\begin{matrix}- \\frac{x}{2} + \\frac{1}{2} & 0 & 0 & \\frac{x}{2} + \\frac{1}{2} & 0 & 0\\\\0 & - \\frac{x}{2} + \\frac{1}{2} & 0 & 0 & \\frac{x}{2} + \\frac{1}{2} & 0\\\\0 & 0 & - \\frac{x}{2} + \\frac{1}{2} & 0 & 0 & \\frac{x}{2} + \\frac{1}{2}\\end{matrix}\\right]$$"
      ],
      "text/plain": [
       "⎡  x   1                    x   1              ⎤\n",
       "⎢- ─ + ─     0        0     ─ + ─    0      0  ⎥\n",
       "⎢  2   2                    2   2              ⎥\n",
       "⎢                                              ⎥\n",
       "⎢           x   1                  x   1       ⎥\n",
       "⎢   0     - ─ + ─     0       0    ─ + ─    0  ⎥\n",
       "⎢           2   2                  2   2       ⎥\n",
       "⎢                                              ⎥\n",
       "⎢                    x   1                x   1⎥\n",
       "⎢   0        0     - ─ + ─    0      0    ─ + ─⎥\n",
       "⎣                    2   2                2   2⎦"
      ]
     },
     "metadata": {},
     "output_type": "display_data"
    },
    {
     "name": "stdout",
     "output_type": "stream",
     "text": [
      "\n",
      "V = \n"
     ]
    },
    {
     "data": {
      "text/latex": [
       "$$\\left[\\begin{matrix}\\left(- \\frac{x}{2} + \\frac{1}{2}\\right) \\left(- \\dot{q}_{0} r_{x} \\sin{\\left (q_{0} \\right )} - \\dot{q}_{0} r_{y} \\cos{\\left (q_{0} \\right )} + \\dot{q}_{1}\\right) + \\left(\\frac{x}{2} + \\frac{1}{2}\\right) \\left(- \\dot{q}_{4} r_{x} \\sin{\\left (q_{4} \\right )} - \\dot{q}_{4} r_{y} \\cos{\\left (q_{4} \\right )} + \\dot{q}_{5}\\right)\\\\\\left(- \\frac{x}{2} + \\frac{1}{2}\\right) \\left(\\dot{q}_{0} r_{x} \\cos{\\left (q_{0} \\right )} - \\dot{q}_{0} r_{y} \\sin{\\left (q_{0} \\right )} + \\dot{q}_{2}\\right) + \\left(\\frac{x}{2} + \\frac{1}{2}\\right) \\left(\\dot{q}_{4} r_{x} \\cos{\\left (q_{4} \\right )} - \\dot{q}_{4} r_{y} \\sin{\\left (q_{4} \\right )} + \\dot{q}_{6}\\right)\\\\\\dot{q}_{3} \\left(- \\frac{x}{2} + \\frac{1}{2}\\right) + \\dot{q}_{7} \\left(\\frac{x}{2} + \\frac{1}{2}\\right)\\end{matrix}\\right]$$"
      ],
      "text/plain": [
       "⎡⎛  x   1⎞                                             ⎛x   1⎞                \n",
       "⎢⎜- ─ + ─⎟⋅(-q̇₀⋅rₓ⋅sin(q₀) - q̇₀⋅r_y⋅cos(q₀) + q̇₁) + ⎜─ + ─⎟⋅(-q̇₄⋅rₓ⋅sin(q₄\n",
       "⎢⎝  2   2⎠                                             ⎝2   2⎠                \n",
       "⎢                                                                             \n",
       "⎢ ⎛  x   1⎞                                            ⎛x   1⎞                \n",
       "⎢ ⎜- ─ + ─⎟⋅(q̇₀⋅rₓ⋅cos(q₀) - q̇₀⋅r_y⋅sin(q₀) + q̇₂) + ⎜─ + ─⎟⋅(q̇₄⋅rₓ⋅cos(q₄)\n",
       "⎢ ⎝  2   2⎠                                            ⎝2   2⎠                \n",
       "⎢                                                                             \n",
       "⎢                                          ⎛  x   1⎞       ⎛x   1⎞            \n",
       "⎢                                      q̇₃⋅⎜- ─ + ─⎟ + q̇₇⋅⎜─ + ─⎟            \n",
       "⎣                                          ⎝  2   2⎠       ⎝2   2⎠            \n",
       "\n",
       "                          ⎤\n",
       ") - q̇₄⋅r_y⋅cos(q₄) + q̇₅)⎥\n",
       "                          ⎥\n",
       "                          ⎥\n",
       "                          ⎥\n",
       " - q̇₄⋅r_y⋅sin(q₄) + q̇₆) ⎥\n",
       "                          ⎥\n",
       "                          ⎥\n",
       "                          ⎥\n",
       "                          ⎥\n",
       "                          ⎦"
      ]
     },
     "metadata": {},
     "output_type": "display_data"
    },
    {
     "name": "stdout",
     "output_type": "stream",
     "text": [
      "\n",
      "Vr = \n"
     ]
    },
    {
     "data": {
      "text/latex": [
       "$$\\left[\\begin{matrix}\\left(- \\frac{x}{2} + \\frac{1}{2}\\right) \\left(- r_{x} \\sin{\\left (q_{0} \\right )} - r_{y} \\cos{\\left (q_{0} \\right )}\\right) & - \\frac{x}{2} + \\frac{1}{2} & 0 & 0 & \\left(\\frac{x}{2} + \\frac{1}{2}\\right) \\left(- r_{x} \\sin{\\left (q_{4} \\right )} - r_{y} \\cos{\\left (q_{4} \\right )}\\right) & \\frac{x}{2} + \\frac{1}{2} & 0 & 0\\\\\\left(- \\frac{x}{2} + \\frac{1}{2}\\right) \\left(r_{x} \\cos{\\left (q_{0} \\right )} - r_{y} \\sin{\\left (q_{0} \\right )}\\right) & 0 & - \\frac{x}{2} + \\frac{1}{2} & 0 & \\left(\\frac{x}{2} + \\frac{1}{2}\\right) \\left(r_{x} \\cos{\\left (q_{4} \\right )} - r_{y} \\sin{\\left (q_{4} \\right )}\\right) & 0 & \\frac{x}{2} + \\frac{1}{2} & 0\\\\0 & 0 & 0 & - \\frac{x}{2} + \\frac{1}{2} & 0 & 0 & 0 & \\frac{x}{2} + \\frac{1}{2}\\end{matrix}\\right]$$"
      ],
      "text/plain": [
       "⎡⎛  x   1⎞                                x   1                    ⎛x   1⎞    \n",
       "⎢⎜- ─ + ─⎟⋅(-rₓ⋅sin(q₀) - r_y⋅cos(q₀))  - ─ + ─     0        0     ⎜─ + ─⎟⋅(-r\n",
       "⎢⎝  2   2⎠                                2   2                    ⎝2   2⎠    \n",
       "⎢                                                                             \n",
       "⎢⎛  x   1⎞                                         x   1           ⎛x   1⎞    \n",
       "⎢⎜- ─ + ─⎟⋅(rₓ⋅cos(q₀) - r_y⋅sin(q₀))      0     - ─ + ─     0     ⎜─ + ─⎟⋅(rₓ\n",
       "⎢⎝  2   2⎠                                         2   2           ⎝2   2⎠    \n",
       "⎢                                                                             \n",
       "⎢                                                           x   1             \n",
       "⎢                  0                       0        0     - ─ + ─             \n",
       "⎣                                                           2   2             \n",
       "\n",
       "                          x   1              ⎤\n",
       "ₓ⋅sin(q₄) - r_y⋅cos(q₄))  ─ + ─    0      0  ⎥\n",
       "                          2   2              ⎥\n",
       "                                             ⎥\n",
       "                                 x   1       ⎥\n",
       "⋅cos(q₄) - r_y⋅sin(q₄))     0    ─ + ─    0  ⎥\n",
       "                                 2   2       ⎥\n",
       "                                             ⎥\n",
       "                                        x   1⎥\n",
       "      0                     0      0    ─ + ─⎥\n",
       "                                        2   2⎦"
      ]
     },
     "metadata": {},
     "output_type": "display_data"
    }
   ],
   "source": [
    "# Define shape function for element with one node at each end\n",
    "h = sym.symarray('h', 2)\n",
    "\n",
    "h[0] = sym.Rational(1,2)*(1 - x)\n",
    "h[1] = sym.Rational(1,2)*(1 + x)\n",
    "\n",
    "# Compute shape function matrix\n",
    "H = sym.expand(sym.Matrix([h[0]*sym.eye(3), h[1]*sym.eye(3)])).T\n",
    "print('\\nH = ')\n",
    "display(H)\n",
    "\n",
    "# Define velocity of any point \n",
    "Vp = H*v\n",
    "print('\\nV = ')\n",
    "display(Vp)\n",
    "\n",
    "# Define velocity of any point \n",
    "Ap = H*a\n",
    "# print('\\nA = ')\n",
    "# display(Accel)\n",
    "\n",
    "# Compute partial velocities of the nodes\n",
    "Vr = sym.Matrix([[sym.diff(Vp,qdot) for Vp in Vp] for qdot in qdot]).T\n",
    "# v_r = H\n",
    "print('\\nVr = ')\n",
    "display(Vr)\n",
    "# print(Vr.shape)\n",
    "\n",
    "# Compute mass matrix\n",
    "M = sym.factor(sym.Matrix([[sym.expand(sym.integrate(Vr[:,i].dot(Ap)*rho,('r_x',0,r),('r_y',0,r),(x,0,l))).coeff(qddot[j]) \\\n",
    "                            for i in range(len(qddot))] for j in range(len(qddot))]))\n",
    "\n",
    "pickle.dump( M, open( \"gebf-mass-matrix.dump\", \"wb\" ) )"
   ]
  },
  {
   "cell_type": "code",
   "execution_count": 11,
   "metadata": {
    "collapsed": false
   },
   "outputs": [
    {
     "name": "stdout",
     "output_type": "stream",
     "text": [
      "M_11 = \n"
     ]
    },
    {
     "data": {
      "text/latex": [
       "$$\\left[\\begin{matrix}\\frac{l \\rho}{18} r^{4} \\left(\\sin^{2}{\\left (q_{0} \\right )} + \\cos^{2}{\\left (q_{0} \\right )}\\right) \\left(l^{2} - 3 l + 3\\right) & - \\frac{l \\rho}{24} r^{3} \\left(\\sin{\\left (q_{0} \\right )} + \\cos{\\left (q_{0} \\right )}\\right) \\left(l^{2} - 3 l + 3\\right) & \\frac{l \\rho}{24} r^{3} \\left(- \\sin{\\left (q_{0} \\right )} + \\cos{\\left (q_{0} \\right )}\\right) \\left(l^{2} - 3 l + 3\\right) & 0\\\\- \\frac{l \\rho}{24} r^{3} \\left(\\sin{\\left (q_{0} \\right )} + \\cos{\\left (q_{0} \\right )}\\right) \\left(l^{2} - 3 l + 3\\right) & \\frac{l \\rho}{12} r^{2} \\left(l^{2} - 3 l + 3\\right) & 0 & 0\\\\\\frac{l \\rho}{24} r^{3} \\left(- \\sin{\\left (q_{0} \\right )} + \\cos{\\left (q_{0} \\right )}\\right) \\left(l^{2} - 3 l + 3\\right) & 0 & \\frac{l \\rho}{12} r^{2} \\left(l^{2} - 3 l + 3\\right) & 0\\\\0 & 0 & 0 & \\frac{l \\rho}{12} r^{2} \\left(l^{2} - 3 l + 3\\right)\\end{matrix}\\right]$$"
      ],
      "text/plain": [
       "⎡   4   ⎛   2          2    ⎞ ⎛ 2          ⎞      3                       ⎛ 2 \n",
       "⎢l⋅r ⋅ρ⋅⎝sin (q₀) + cos (q₀)⎠⋅⎝l  - 3⋅l + 3⎠  -l⋅r ⋅ρ⋅(sin(q₀) + cos(q₀))⋅⎝l  \n",
       "⎢───────────────────────────────────────────  ────────────────────────────────\n",
       "⎢                     18                                           24         \n",
       "⎢                                                                             \n",
       "⎢    3                       ⎛ 2          ⎞                 2   ⎛ 2          ⎞\n",
       "⎢-l⋅r ⋅ρ⋅(sin(q₀) + cos(q₀))⋅⎝l  - 3⋅l + 3⎠              l⋅r ⋅ρ⋅⎝l  - 3⋅l + 3⎠\n",
       "⎢───────────────────────────────────────────             ─────────────────────\n",
       "⎢                     24                                           12         \n",
       "⎢                                                                             \n",
       "⎢   3                        ⎛ 2          ⎞                                   \n",
       "⎢l⋅r ⋅ρ⋅(-sin(q₀) + cos(q₀))⋅⎝l  - 3⋅l + 3⎠                                   \n",
       "⎢──────────────────────────────────────────                        0          \n",
       "⎢                    24                                                       \n",
       "⎢                                                                             \n",
       "⎢                                                                             \n",
       "⎢                                                                             \n",
       "⎢                     0                                            0          \n",
       "⎣                                                                             \n",
       "\n",
       "         ⎞      3                        ⎛ 2          ⎞                       \n",
       "- 3⋅l + 3⎠   l⋅r ⋅ρ⋅(-sin(q₀) + cos(q₀))⋅⎝l  - 3⋅l + 3⎠                       \n",
       "───────────  ──────────────────────────────────────────            0          \n",
       "                                 24                                           \n",
       "                                                                              \n",
       "                                                                              \n",
       "                                                                              \n",
       "                                 0                                 0          \n",
       "                                                                              \n",
       "                                                                              \n",
       "                          2   ⎛ 2          ⎞                                  \n",
       "                       l⋅r ⋅ρ⋅⎝l  - 3⋅l + 3⎠                                  \n",
       "                       ─────────────────────                       0          \n",
       "                                 12                                           \n",
       "                                                                              \n",
       "                                                            2   ⎛ 2          ⎞\n",
       "                                                         l⋅r ⋅ρ⋅⎝l  - 3⋅l + 3⎠\n",
       "                                 0                       ─────────────────────\n",
       "                                                                   12         \n",
       "\n",
       "⎤\n",
       "⎥\n",
       "⎥\n",
       "⎥\n",
       "⎥\n",
       "⎥\n",
       "⎥\n",
       "⎥\n",
       "⎥\n",
       "⎥\n",
       "⎥\n",
       "⎥\n",
       "⎥\n",
       "⎥\n",
       "⎥\n",
       "⎥\n",
       "⎥\n",
       "⎥\n",
       "⎦"
      ]
     },
     "metadata": {},
     "output_type": "display_data"
    },
    {
     "name": "stdout",
     "output_type": "stream",
     "text": [
      "\n",
      "M_22 = \n"
     ]
    },
    {
     "data": {
      "text/latex": [
       "$$\\left[\\begin{matrix}\\frac{l \\rho}{18} r^{4} \\left(\\sin^{2}{\\left (q_{4} \\right )} + \\cos^{2}{\\left (q_{4} \\right )}\\right) \\left(l^{2} + 3 l + 3\\right) & - \\frac{l \\rho}{24} r^{3} \\left(\\sin{\\left (q_{4} \\right )} + \\cos{\\left (q_{4} \\right )}\\right) \\left(l^{2} + 3 l + 3\\right) & \\frac{l \\rho}{24} r^{3} \\left(- \\sin{\\left (q_{4} \\right )} + \\cos{\\left (q_{4} \\right )}\\right) \\left(l^{2} + 3 l + 3\\right) & 0\\\\- \\frac{l \\rho}{24} r^{3} \\left(\\sin{\\left (q_{4} \\right )} + \\cos{\\left (q_{4} \\right )}\\right) \\left(l^{2} + 3 l + 3\\right) & \\frac{l \\rho}{12} r^{2} \\left(l^{2} + 3 l + 3\\right) & 0 & 0\\\\\\frac{l \\rho}{24} r^{3} \\left(- \\sin{\\left (q_{4} \\right )} + \\cos{\\left (q_{4} \\right )}\\right) \\left(l^{2} + 3 l + 3\\right) & 0 & \\frac{l \\rho}{12} r^{2} \\left(l^{2} + 3 l + 3\\right) & 0\\\\0 & 0 & 0 & \\frac{l \\rho}{12} r^{2} \\left(l^{2} + 3 l + 3\\right)\\end{matrix}\\right]$$"
      ],
      "text/plain": [
       "⎡   4   ⎛   2          2    ⎞ ⎛ 2          ⎞      3                       ⎛ 2 \n",
       "⎢l⋅r ⋅ρ⋅⎝sin (q₄) + cos (q₄)⎠⋅⎝l  + 3⋅l + 3⎠  -l⋅r ⋅ρ⋅(sin(q₄) + cos(q₄))⋅⎝l  \n",
       "⎢───────────────────────────────────────────  ────────────────────────────────\n",
       "⎢                     18                                           24         \n",
       "⎢                                                                             \n",
       "⎢    3                       ⎛ 2          ⎞                 2   ⎛ 2          ⎞\n",
       "⎢-l⋅r ⋅ρ⋅(sin(q₄) + cos(q₄))⋅⎝l  + 3⋅l + 3⎠              l⋅r ⋅ρ⋅⎝l  + 3⋅l + 3⎠\n",
       "⎢───────────────────────────────────────────             ─────────────────────\n",
       "⎢                     24                                           12         \n",
       "⎢                                                                             \n",
       "⎢   3                        ⎛ 2          ⎞                                   \n",
       "⎢l⋅r ⋅ρ⋅(-sin(q₄) + cos(q₄))⋅⎝l  + 3⋅l + 3⎠                                   \n",
       "⎢──────────────────────────────────────────                        0          \n",
       "⎢                    24                                                       \n",
       "⎢                                                                             \n",
       "⎢                                                                             \n",
       "⎢                                                                             \n",
       "⎢                     0                                            0          \n",
       "⎣                                                                             \n",
       "\n",
       "         ⎞      3                        ⎛ 2          ⎞                       \n",
       "+ 3⋅l + 3⎠   l⋅r ⋅ρ⋅(-sin(q₄) + cos(q₄))⋅⎝l  + 3⋅l + 3⎠                       \n",
       "───────────  ──────────────────────────────────────────            0          \n",
       "                                 24                                           \n",
       "                                                                              \n",
       "                                                                              \n",
       "                                                                              \n",
       "                                 0                                 0          \n",
       "                                                                              \n",
       "                                                                              \n",
       "                          2   ⎛ 2          ⎞                                  \n",
       "                       l⋅r ⋅ρ⋅⎝l  + 3⋅l + 3⎠                                  \n",
       "                       ─────────────────────                       0          \n",
       "                                 12                                           \n",
       "                                                                              \n",
       "                                                            2   ⎛ 2          ⎞\n",
       "                                                         l⋅r ⋅ρ⋅⎝l  + 3⋅l + 3⎠\n",
       "                                 0                       ─────────────────────\n",
       "                                                                   12         \n",
       "\n",
       "⎤\n",
       "⎥\n",
       "⎥\n",
       "⎥\n",
       "⎥\n",
       "⎥\n",
       "⎥\n",
       "⎥\n",
       "⎥\n",
       "⎥\n",
       "⎥\n",
       "⎥\n",
       "⎥\n",
       "⎥\n",
       "⎥\n",
       "⎥\n",
       "⎥\n",
       "⎥\n",
       "⎦"
      ]
     },
     "metadata": {},
     "output_type": "display_data"
    },
    {
     "name": "stdout",
     "output_type": "stream",
     "text": [
      "\n",
      "M_12 = \n"
     ]
    },
    {
     "data": {
      "text/latex": [
       "$$\\left[\\begin{matrix}- \\frac{l \\rho}{18} r^{4} \\left(l^{2} - 3\\right) \\left(\\sin{\\left (q_{0} \\right )} \\sin{\\left (q_{4} \\right )} + \\cos{\\left (q_{0} \\right )} \\cos{\\left (q_{4} \\right )}\\right) & \\frac{l \\rho}{24} r^{3} \\left(l^{2} - 3\\right) \\left(\\sin{\\left (q_{0} \\right )} + \\cos{\\left (q_{0} \\right )}\\right) & - \\frac{l \\rho}{24} r^{3} \\left(l^{2} - 3\\right) \\left(- \\sin{\\left (q_{0} \\right )} + \\cos{\\left (q_{0} \\right )}\\right) & 0\\\\\\frac{l \\rho}{24} r^{3} \\left(l^{2} - 3\\right) \\left(\\sin{\\left (q_{4} \\right )} + \\cos{\\left (q_{4} \\right )}\\right) & - \\frac{l \\rho}{12} r^{2} \\left(l^{2} - 3\\right) & 0 & 0\\\\- \\frac{l \\rho}{24} r^{3} \\left(l^{2} - 3\\right) \\left(- \\sin{\\left (q_{4} \\right )} + \\cos{\\left (q_{4} \\right )}\\right) & 0 & - \\frac{l \\rho}{12} r^{2} \\left(l^{2} - 3\\right) & 0\\\\0 & 0 & 0 & - \\frac{l \\rho}{12} r^{2} \\left(l^{2} - 3\\right)\\end{matrix}\\right]$$"
      ],
      "text/plain": [
       "⎡    4   ⎛ 2    ⎞                                          3   ⎛ 2    ⎞       \n",
       "⎢-l⋅r ⋅ρ⋅⎝l  - 3⎠⋅(sin(q₀)⋅sin(q₄) + cos(q₀)⋅cos(q₄))   l⋅r ⋅ρ⋅⎝l  - 3⎠⋅(sin(q\n",
       "⎢─────────────────────────────────────────────────────  ──────────────────────\n",
       "⎢                          18                                            24   \n",
       "⎢                                                                             \n",
       "⎢            3   ⎛ 2    ⎞                                            2   ⎛ 2  \n",
       "⎢         l⋅r ⋅ρ⋅⎝l  - 3⎠⋅(sin(q₄) + cos(q₄))                    -l⋅r ⋅ρ⋅⎝l  -\n",
       "⎢         ───────────────────────────────────                    ─────────────\n",
       "⎢                          24                                            12   \n",
       "⎢                                                                             \n",
       "⎢           3   ⎛ 2    ⎞                                                      \n",
       "⎢       -l⋅r ⋅ρ⋅⎝l  - 3⎠⋅(-sin(q₄) + cos(q₄))                                 \n",
       "⎢       ──────────────────────────────────────                           0    \n",
       "⎢                         24                                                  \n",
       "⎢                                                                             \n",
       "⎢                                                                             \n",
       "⎢                                                                             \n",
       "⎢                          0                                             0    \n",
       "⎣                                                                             \n",
       "\n",
       "                   3   ⎛ 2    ⎞                                         ⎤\n",
       "₀) + cos(q₀))  -l⋅r ⋅ρ⋅⎝l  - 3⎠⋅(-sin(q₀) + cos(q₀))                    ⎥\n",
       "─────────────  ──────────────────────────────────────          0        ⎥\n",
       "                                 24                                     ⎥\n",
       "                                                                        ⎥\n",
       "  ⎞                                                                     ⎥\n",
       " 3⎠                                                                     ⎥\n",
       "────                             0                             0        ⎥\n",
       "                                                                        ⎥\n",
       "                                                                        ⎥\n",
       "                             2   ⎛ 2    ⎞                               ⎥\n",
       "                         -l⋅r ⋅ρ⋅⎝l  - 3⎠                               ⎥\n",
       "                         ─────────────────                     0        ⎥\n",
       "                                 12                                     ⎥\n",
       "                                                                        ⎥\n",
       "                                                           2   ⎛ 2    ⎞ ⎥\n",
       "                                                       -l⋅r ⋅ρ⋅⎝l  - 3⎠ ⎥\n",
       "                                 0                     ─────────────────⎥\n",
       "                                                               12       ⎦"
      ]
     },
     "metadata": {},
     "output_type": "display_data"
    },
    {
     "name": "stdout",
     "output_type": "stream",
     "text": [
      "\n",
      "M_21.T = \n"
     ]
    },
    {
     "data": {
      "text/latex": [
       "$$\\left[\\begin{matrix}- \\frac{l \\rho}{18} r^{4} \\left(l^{2} - 3\\right) \\left(\\sin{\\left (q_{0} \\right )} \\sin{\\left (q_{4} \\right )} + \\cos{\\left (q_{0} \\right )} \\cos{\\left (q_{4} \\right )}\\right) & \\frac{l \\rho}{24} r^{3} \\left(l^{2} - 3\\right) \\left(\\sin{\\left (q_{0} \\right )} + \\cos{\\left (q_{0} \\right )}\\right) & - \\frac{l \\rho}{24} r^{3} \\left(l^{2} - 3\\right) \\left(- \\sin{\\left (q_{0} \\right )} + \\cos{\\left (q_{0} \\right )}\\right) & 0\\\\\\frac{l \\rho}{24} r^{3} \\left(l^{2} - 3\\right) \\left(\\sin{\\left (q_{4} \\right )} + \\cos{\\left (q_{4} \\right )}\\right) & - \\frac{l \\rho}{12} r^{2} \\left(l^{2} - 3\\right) & 0 & 0\\\\- \\frac{l \\rho}{24} r^{3} \\left(l^{2} - 3\\right) \\left(- \\sin{\\left (q_{4} \\right )} + \\cos{\\left (q_{4} \\right )}\\right) & 0 & - \\frac{l \\rho}{12} r^{2} \\left(l^{2} - 3\\right) & 0\\\\0 & 0 & 0 & - \\frac{l \\rho}{12} r^{2} \\left(l^{2} - 3\\right)\\end{matrix}\\right]$$"
      ],
      "text/plain": [
       "⎡    4   ⎛ 2    ⎞                                          3   ⎛ 2    ⎞       \n",
       "⎢-l⋅r ⋅ρ⋅⎝l  - 3⎠⋅(sin(q₀)⋅sin(q₄) + cos(q₀)⋅cos(q₄))   l⋅r ⋅ρ⋅⎝l  - 3⎠⋅(sin(q\n",
       "⎢─────────────────────────────────────────────────────  ──────────────────────\n",
       "⎢                          18                                            24   \n",
       "⎢                                                                             \n",
       "⎢            3   ⎛ 2    ⎞                                            2   ⎛ 2  \n",
       "⎢         l⋅r ⋅ρ⋅⎝l  - 3⎠⋅(sin(q₄) + cos(q₄))                    -l⋅r ⋅ρ⋅⎝l  -\n",
       "⎢         ───────────────────────────────────                    ─────────────\n",
       "⎢                          24                                            12   \n",
       "⎢                                                                             \n",
       "⎢           3   ⎛ 2    ⎞                                                      \n",
       "⎢       -l⋅r ⋅ρ⋅⎝l  - 3⎠⋅(-sin(q₄) + cos(q₄))                                 \n",
       "⎢       ──────────────────────────────────────                           0    \n",
       "⎢                         24                                                  \n",
       "⎢                                                                             \n",
       "⎢                                                                             \n",
       "⎢                                                                             \n",
       "⎢                          0                                             0    \n",
       "⎣                                                                             \n",
       "\n",
       "                   3   ⎛ 2    ⎞                                         ⎤\n",
       "₀) + cos(q₀))  -l⋅r ⋅ρ⋅⎝l  - 3⎠⋅(-sin(q₀) + cos(q₀))                    ⎥\n",
       "─────────────  ──────────────────────────────────────          0        ⎥\n",
       "                                 24                                     ⎥\n",
       "                                                                        ⎥\n",
       "  ⎞                                                                     ⎥\n",
       " 3⎠                                                                     ⎥\n",
       "────                             0                             0        ⎥\n",
       "                                                                        ⎥\n",
       "                                                                        ⎥\n",
       "                             2   ⎛ 2    ⎞                               ⎥\n",
       "                         -l⋅r ⋅ρ⋅⎝l  - 3⎠                               ⎥\n",
       "                         ─────────────────                     0        ⎥\n",
       "                                 12                                     ⎥\n",
       "                                                                        ⎥\n",
       "                                                           2   ⎛ 2    ⎞ ⎥\n",
       "                                                       -l⋅r ⋅ρ⋅⎝l  - 3⎠ ⎥\n",
       "                                 0                     ─────────────────⎥\n",
       "                                                               12       ⎦"
      ]
     },
     "metadata": {},
     "output_type": "display_data"
    }
   ],
   "source": [
    "# print('\\nM = \\n')\n",
    "# display(M)\n",
    "\n",
    "print('M_11 = ')\n",
    "display(M[0:4,0:4])\n",
    "print('\\nM_22 = ')\n",
    "display(M[4:8,4:8])\n",
    "print('\\nM_12 = ')\n",
    "display(M[0:4,4:8])\n",
    "print('\\nM_21.T = ')\n",
    "display(M[4:8,0:4].T)"
   ]
  },
  {
   "cell_type": "markdown",
   "metadata": {},
   "source": [
    "### Compute Internal forces "
   ]
  },
  {
   "cell_type": "markdown",
   "metadata": {},
   "source": [
    "#### 1. Transverse (Bending) Strain"
   ]
  },
  {
   "cell_type": "code",
   "execution_count": 12,
   "metadata": {
    "collapsed": false
   },
   "outputs": [],
   "source": [
    "''' Orthogonal Matricies Not Extracted to Simplify Algebra'''\n",
    "R_interp = sym.simplify(H*sym.Matrix([R1,R2]))\n",
    "dT = sym.simplify(H.diff(x)*sym.Matrix([R1,R2]))\n",
    "kappa = sym.simplify(sym.Matrix([Axial_sym(dT*R_interp.T), '0', '0', '0']))\n",
    "# display(kappa)"
   ]
  },
  {
   "cell_type": "markdown",
   "metadata": {},
   "source": [
    "#### 2. Longitudinal (Axial) Strian"
   ]
  },
  {
   "cell_type": "code",
   "execution_count": 18,
   "metadata": {
    "collapsed": false
   },
   "outputs": [
    {
     "data": {
      "text/latex": [
       "$$\\left[\\begin{matrix}0\\\\0\\\\0\\\\- \\frac{q_{1}}{2} + \\frac{q_{5}}{2} + \\frac{1}{2} \\left(x - 1\\right) \\cos{\\left (q_{0} \\right )} - \\frac{1}{2} \\left(x + 1\\right) \\cos{\\left (q_{4} \\right )} + \\frac{1}{2}\\\\- \\frac{q_{2}}{2} + \\frac{q_{6}}{2} + \\frac{1}{2} \\left(x - 1\\right) \\sin{\\left (q_{0} \\right )} - \\frac{1}{2} \\left(x + 1\\right) \\sin{\\left (q_{4} \\right )}\\\\- \\frac{q_{3}}{2} + \\frac{q_{7}}{2}\\end{matrix}\\right]$$"
      ],
      "text/plain": [
       "⎡                        0                        ⎤\n",
       "⎢                                                 ⎥\n",
       "⎢                        0                        ⎥\n",
       "⎢                                                 ⎥\n",
       "⎢                        0                        ⎥\n",
       "⎢                                                 ⎥\n",
       "⎢  q₁   q₅   (x - 1)⋅cos(q₀)   (x + 1)⋅cos(q₄)   1⎥\n",
       "⎢- ── + ── + ─────────────── - ─────────────── + ─⎥\n",
       "⎢  2    2           2                 2          2⎥\n",
       "⎢                                                 ⎥\n",
       "⎢    q₂   q₆   (x - 1)⋅sin(q₀)   (x + 1)⋅sin(q₄)  ⎥\n",
       "⎢  - ── + ── + ─────────────── - ───────────────  ⎥\n",
       "⎢    2    2           2                 2         ⎥\n",
       "⎢                                                 ⎥\n",
       "⎢                      q₃   q₇                    ⎥\n",
       "⎢                    - ── + ──                    ⎥\n",
       "⎣                      2    2                     ⎦"
      ]
     },
     "metadata": {},
     "output_type": "display_data"
    }
   ],
   "source": [
    "# Define Locations of Centroid \n",
    "x01 = sym.Matrix(['0','0','0'])\n",
    "x02 = sym.Matrix(['1','0','0'])\n",
    "\n",
    "# Define Newtonian Unit Vector x-dir\n",
    "n1 = sym.Matrix(['1','0','0'])\n",
    "\n",
    "# Interpolate Displacemnts\n",
    "u_int = H*u\n",
    "x_int = H*sym.Matrix([x01,x02])\n",
    "\n",
    "# Derivatives w.r.t longitudinal beam coordinate\n",
    "du = u_int.diff(x)\n",
    "dx0 = x_int.diff(x)\n",
    "\n",
    "# Compute axial strain\n",
    "epsilon = sym.simplify(sym.Matrix.vstack(sym.Matrix(['0', '0', '0']),dx0 + du - R_interp*n1))\n",
    "display(epsilon)"
   ]
  },
  {
   "cell_type": "markdown",
   "metadata": {},
   "source": [
    "#### 3. Compute Internal Forces $Q_e = \\frac{\\partial U}{\\partial e}$"
   ]
  },
  {
   "cell_type": "code",
   "execution_count": 19,
   "metadata": {
    "collapsed": false
   },
   "outputs": [],
   "source": [
    "# Transverse strain energy\n",
    "Ut = 1/2*sym.integrate(E*I*kappa.dot(H.diff(x).T*H.diff(x)*kappa), (x,0,l))\n",
    "# Longitudinal strain energy\n",
    "Ul = 1/2*sym.integrate(E*A*epsilon.dot(H.diff(x).T*H.diff(x)*epsilon), (x,0,l))\n",
    "\n",
    "# Compute Total Energy\n",
    "U = Ul + Ut\n",
    "\n",
    "# Compute Internal Force Vector\n",
    "Qe = sym.Matrix([sym.simplify(sym.expand(sym.diff(-U,q))) for q in q])"
   ]
  },
  {
   "cell_type": "markdown",
   "metadata": {},
   "source": [
    "####4. Applied and body force vector"
   ]
  },
  {
   "cell_type": "code",
   "execution_count": 20,
   "metadata": {
    "collapsed": false
   },
   "outputs": [],
   "source": [
    "# Applied forces\n",
    "# Gravity body force\n",
    "fg = 9.81*sym.Matrix([0,-1,0])\n",
    "\n",
    "# Applied torque\n",
    "# torque_app = sym.Matrix([0,0,tau_a])\n",
    "\n",
    "# Compute beta\n",
    "beta = sym.Matrix([sym.simplify(sym.integrate(Vr[:,j].dot(fg),('r_x',0,r),('r_y',0,r),(x,0,l)))\n",
    "                   + qe for j,qe in zip(range(len(q)),Qe)])\n",
    "\n",
    "pickle.dump( beta, open( \"gebf-beta.dump\", \"wb\" ) )"
   ]
  },
  {
   "cell_type": "code",
   "execution_count": 21,
   "metadata": {
    "collapsed": false
   },
   "outputs": [
    {
     "data": {
      "text/latex": [
       "$$\\left[\\begin{matrix}E l \\left(- 0.0208333333333333 A l^{2} \\sin{\\left (q_{0} - q_{4} \\right )} - 0.03125 A l q_{1} \\sin{\\left (q_{0} \\right )} + 0.03125 A l q_{2} \\cos{\\left (q_{0} \\right )} + 0.03125 A l q_{5} \\sin{\\left (q_{0} \\right )} - 0.03125 A l q_{6} \\cos{\\left (q_{0} \\right )} + 0.03125 A l \\sin{\\left (q_{0} \\right )} + 0.0625 A q_{1} \\sin{\\left (q_{0} \\right )} - 0.0625 A q_{2} \\cos{\\left (q_{0} \\right )} - 0.0625 A q_{5} \\sin{\\left (q_{0} \\right )} + 0.0625 A q_{6} \\cos{\\left (q_{0} \\right )} - 0.0625 A \\sin{\\left (q_{0} \\right )} + 0.0625 A \\sin{\\left (q_{0} - q_{4} \\right )} - 0.03125 I \\sin{\\left (2 q_{0} - 2 q_{4} \\right )}\\right) + \\sqrt{2} l r^{3} \\left(3.04956060403334 \\cdot 10^{-14} l - 6.09912120806668 \\cdot 10^{-14}\\right) \\cos{\\left (q_{0} + \\frac{\\pi}{4} \\right )}\\\\A E l \\left(0.03125 l \\cos{\\left (q_{0} \\right )} - 0.03125 l \\cos{\\left (q_{4} \\right )} - 0.0625 q_{1} + 0.0625 q_{5} - 0.0625 \\cos{\\left (q_{0} \\right )} - 0.0625 \\cos{\\left (q_{4} \\right )} + 0.0625\\right)\\\\A E l \\left(0.03125 l \\sin{\\left (q_{0} \\right )} - 0.03125 l \\sin{\\left (q_{4} \\right )} - 0.0625 q_{2} + 0.0625 q_{6} - 0.0625 \\sin{\\left (q_{0} \\right )} - 0.0625 \\sin{\\left (q_{4} \\right )}\\right) + l r^{2} \\left(2.4525 l - 4.905\\right)\\\\A E l \\left(- 0.0625 q_{3} + 0.0625 q_{7}\\right)\\\\E l \\left(0.0208333333333333 A l^{2} \\sin{\\left (q_{0} - q_{4} \\right )} + 0.03125 A l q_{1} \\sin{\\left (q_{4} \\right )} - 0.03125 A l q_{2} \\cos{\\left (q_{4} \\right )} - 0.03125 A l q_{5} \\sin{\\left (q_{4} \\right )} + 0.03125 A l q_{6} \\cos{\\left (q_{4} \\right )} - 0.03125 A l \\sin{\\left (q_{4} \\right )} + 0.0625 A q_{1} \\sin{\\left (q_{4} \\right )} - 0.0625 A q_{2} \\cos{\\left (q_{4} \\right )} - 0.0625 A q_{5} \\sin{\\left (q_{4} \\right )} + 0.0625 A q_{6} \\cos{\\left (q_{4} \\right )} - 0.0625 A \\sin{\\left (q_{4} \\right )} - 0.0625 A \\sin{\\left (q_{0} - q_{4} \\right )} + 0.03125 I \\sin{\\left (2 q_{0} - 2 q_{4} \\right )}\\right) - \\sqrt{2} l r^{3} \\left(3.04956060403334 \\cdot 10^{-14} l + 6.09912120806668 \\cdot 10^{-14}\\right) \\cos{\\left (q_{4} + \\frac{\\pi}{4} \\right )}\\\\A E l \\left(- 0.03125 l \\cos{\\left (q_{0} \\right )} + 0.03125 l \\cos{\\left (q_{4} \\right )} + 0.0625 q_{1} - 0.0625 q_{5} + 0.0625 \\cos{\\left (q_{0} \\right )} + 0.0625 \\cos{\\left (q_{4} \\right )} - 0.0625\\right)\\\\A E l \\left(- 0.03125 l \\sin{\\left (q_{0} \\right )} + 0.03125 l \\sin{\\left (q_{4} \\right )} + 0.0625 q_{2} - 0.0625 q_{6} + 0.0625 \\sin{\\left (q_{0} \\right )} + 0.0625 \\sin{\\left (q_{4} \\right )}\\right) - l r^{2} \\left(2.4525 l + 4.905\\right)\\\\A E l \\left(0.0625 q_{3} - 0.0625 q_{7}\\right)\\end{matrix}\\right]$$"
      ],
      "text/plain": [
       "⎡    ⎛                           2                                            \n",
       "⎢E⋅l⋅⎝- - -0.0208333333333333⋅A⋅l ⋅sin(q₀ - q₄) - - -0.03125⋅A⋅l⋅q₁⋅sin(q₀) + \n",
       "⎢                                                                             \n",
       "⎢                                                                             \n",
       "⎢                                                                             \n",
       "⎢                                                                             \n",
       "⎢                                                                             \n",
       "⎢                                                                             \n",
       "⎢                                                                             \n",
       "⎢                                                                             \n",
       "⎢                                                                             \n",
       "⎢     ⎛                      2                                                \n",
       "⎢ E⋅l⋅⎝0.0208333333333333⋅A⋅l ⋅sin(q₀ - q₄) + 0.03125⋅A⋅l⋅q₁⋅sin(q₄) - - -0.03\n",
       "⎢                                                                             \n",
       "⎢                                                                             \n",
       "⎢                                                                             \n",
       "⎢                                                                             \n",
       "⎢                                                                             \n",
       "⎢                                                                             \n",
       "⎢                                                                             \n",
       "⎣                                                                             \n",
       "\n",
       "                                                                              \n",
       "0.03125⋅A⋅l⋅q₂⋅cos(q₀) + 0.03125⋅A⋅l⋅q₅⋅sin(q₀) - - -0.03125⋅A⋅l⋅q₆⋅cos(q₀) + \n",
       "                                                                              \n",
       "                                                                              \n",
       "                                                                       A⋅E⋅l⋅(\n",
       "                                                                              \n",
       "                                                                              \n",
       "                                                              A⋅E⋅l⋅(0.03125⋅l\n",
       "                                                                              \n",
       "                                                                              \n",
       "                                                                              \n",
       "                                                                              \n",
       "125⋅A⋅l⋅q₂⋅cos(q₄) - - -0.03125⋅A⋅l⋅q₅⋅sin(q₄) + 0.03125⋅A⋅l⋅q₆⋅cos(q₄) - - -0\n",
       "                                                                              \n",
       "                                                                              \n",
       "                                                                         A⋅E⋅l\n",
       "                                                                              \n",
       "                                                                              \n",
       "                                                                 A⋅E⋅l⋅(-- -0.\n",
       "                                                                              \n",
       "                                                                              \n",
       "\n",
       "                                                                              \n",
       "0.03125⋅A⋅l⋅sin(q₀) + 0.0625⋅A⋅q₁⋅sin(q₀) - - -0.0625⋅A⋅q₂⋅cos(q₀) - - -0.0625\n",
       "                                                                              \n",
       "                                                                              \n",
       "0.03125⋅l⋅cos(q₀) - - -0.03125⋅l⋅cos(q₄) - - -0.0625⋅q₁ + 0.0625⋅q₅ - - -0.062\n",
       "                                                                              \n",
       "                                                                              \n",
       "⋅sin(q₀) - - -0.03125⋅l⋅sin(q₄) - - -0.0625⋅q₂ + 0.0625⋅q₆ - - -0.0625⋅sin(q₀)\n",
       "                                                                              \n",
       "                                      A⋅E⋅l⋅(-- -0.0625⋅q₃ + 0.0625⋅q₇)       \n",
       "                                                                              \n",
       "                                                                              \n",
       ".03125⋅A⋅l⋅sin(q₄) + 0.0625⋅A⋅q₁⋅sin(q₄) - - -0.0625⋅A⋅q₂⋅cos(q₄) - - -0.0625⋅\n",
       "                                                                              \n",
       "                                                                              \n",
       "⋅(-- -0.03125⋅l⋅cos(q₀) + 0.03125⋅l⋅cos(q₄) + 0.0625⋅q₁ - - -0.0625⋅q₅ + 0.062\n",
       "                                                                              \n",
       "                                                                              \n",
       "03125⋅l⋅sin(q₀) + 0.03125⋅l⋅sin(q₄) + 0.0625⋅q₂ - - -0.0625⋅q₆ + 0.0625⋅sin(q₀\n",
       "                                                                              \n",
       "                                       A⋅E⋅l⋅(0.0625⋅q₃ - - -0.0625⋅q₇)       \n",
       "\n",
       "                                                                              \n",
       "⋅A⋅q₅⋅sin(q₀) + 0.0625⋅A⋅q₆⋅cos(q₀) - - -0.0625⋅A⋅sin(q₀) + 0.0625⋅A⋅sin(q₀ - \n",
       "                                                                              \n",
       "                                                                              \n",
       "5⋅cos(q₀) - - -0.0625⋅cos(q₄) + 0.0625)                                       \n",
       "                                                                              \n",
       "                           2                                                  \n",
       " - - -0.0625⋅sin(q₄)) + l⋅r ⋅(2.4525⋅l - 4.905)                               \n",
       "                                                                              \n",
       "                                                                              \n",
       "                                                                              \n",
       "                                                                              \n",
       "A⋅q₅⋅sin(q₄) + 0.0625⋅A⋅q₆⋅cos(q₄) - - -0.0625⋅A⋅sin(q₄) - - -0.0625⋅A⋅sin(q₀ \n",
       "                                                                              \n",
       "                                                                              \n",
       "5⋅cos(q₀) + 0.0625⋅cos(q₄) - 0.0625)                                          \n",
       "                                                                              \n",
       "                         2                                                    \n",
       ") + 0.0625⋅sin(q₄)) - l⋅r ⋅(2.4525⋅l + 4.905)                                 \n",
       "                                                                              \n",
       "                                                                              \n",
       "\n",
       "                                   ⎞     ___    3                             \n",
       "q₄) - - -0.03125⋅I⋅sin(2⋅q₀ - 2⋅q₄)⎠ + ╲╱ 2 ⋅l⋅r ⋅(3.04956060403334e-14⋅l - 6.\n",
       "                                                                              \n",
       "                                                                              \n",
       "                                                                              \n",
       "                                                                              \n",
       "                                                                              \n",
       "                                                                              \n",
       "                                                                              \n",
       "                                                                              \n",
       "                                                                              \n",
       "                                  ⎞     ___    3                              \n",
       "- q₄) + 0.03125⋅I⋅sin(2⋅q₀ - 2⋅q₄)⎠ - ╲╱ 2 ⋅l⋅r ⋅(3.04956060403334e-14⋅l + 6.0\n",
       "                                                                              \n",
       "                                                                              \n",
       "                                                                              \n",
       "                                                                              \n",
       "                                                                              \n",
       "                                                                              \n",
       "                                                                              \n",
       "                                                                              \n",
       "\n",
       "                       ⎛     π⎞⎤\n",
       "09912120806668e-14)⋅cos⎜q₀ + ─⎟⎥\n",
       "                       ⎝     4⎠⎥\n",
       "                               ⎥\n",
       "                               ⎥\n",
       "                               ⎥\n",
       "                               ⎥\n",
       "                               ⎥\n",
       "                               ⎥\n",
       "                               ⎥\n",
       "                               ⎥\n",
       "                      ⎛     π⎞ ⎥\n",
       "9912120806668e-14)⋅cos⎜q₄ + ─⎟ ⎥\n",
       "                      ⎝     4⎠ ⎥\n",
       "                               ⎥\n",
       "                               ⎥\n",
       "                               ⎥\n",
       "                               ⎥\n",
       "                               ⎥\n",
       "                               ⎥\n",
       "                               ⎦"
      ]
     },
     "metadata": {},
     "output_type": "display_data"
    }
   ],
   "source": [
    "display(beta)"
   ]
  },
  {
   "cell_type": "code",
   "execution_count": null,
   "metadata": {
    "collapsed": true
   },
   "outputs": [],
   "source": []
  }
 ],
 "metadata": {
  "kernelspec": {
   "display_name": "Python 3",
   "language": "python",
   "name": "python3"
  },
  "language_info": {
   "codemirror_mode": {
    "name": "ipython",
    "version": 3
   },
   "file_extension": ".py",
   "mimetype": "text/x-python",
   "name": "python",
   "nbconvert_exporter": "python",
   "pygments_lexer": "ipython3",
   "version": "3.4.3"
  }
 },
 "nbformat": 4,
 "nbformat_minor": 0
}

{
 "cells": [
  {
   "cell_type": "markdown",
   "metadata": {},
   "source": [
    "## This notebook runs a simulation of a rope using ANCF elements to model the flexibility and the DCA to form and solve the equations of motion"
   ]
  },
  {
   "cell_type": "code",
   "execution_count": 1,
   "metadata": {
    "collapsed": false
   },
   "outputs": [],
   "source": [
    "import math\n",
    "import pickle \n",
    "import numpy as np\n",
    "import scipy as sp\n",
    "import sympy as sym\n",
    "import matplotlib.pyplot as plt\n",
    "import MBstructs as MB\n",
    "import MultiBodyFuncts as MBF\n",
    "import DCA\n",
    "import contextlib\n",
    "\n",
    "from numpy.linalg import inv\n",
    "from scipy.integrate import odeint\n",
    "\n",
    "%matplotlib inline"
   ]
  },
  {
   "cell_type": "code",
   "execution_count": 2,
   "metadata": {
    "collapsed": false
   },
   "outputs": [],
   "source": [
    "@contextlib.contextmanager\n",
    "def printoptions(*args, **kwargs):\n",
    "    original = np.get_printoptions()\n",
    "    np.set_printoptions(*args, **kwargs)\n",
    "    yield \n",
    "    np.set_printoptions(**original)"
   ]
  },
  {
   "cell_type": "code",
   "execution_count": 3,
   "metadata": {
    "collapsed": true
   },
   "outputs": [],
   "source": [
    "# system specific kinematic sweep\n",
    "# this really just updates the orientation of the GEBF element\n",
    "def kinematics(bodies,state):\n",
    "    \n",
    "    # slice state into 'qs' for each element \n",
    "    qe = state[:len(state0)/2:3]\n",
    "    theta = np.cumsum(qe)\n",
    "    \n",
    "    # slice into the two rotational coordinates for each body\n",
    "    theta1 = theta[0::2]\n",
    "    theta2 = theta[1::2]\n",
    "    for body,q0,q3 in zip(bodies,theta1, theta2):\n",
    "        body.theta1 = q0\n",
    "        body.theta2 = q3"
   ]
  },
  {
   "cell_type": "code",
   "execution_count": 4,
   "metadata": {
    "collapsed": false
   },
   "outputs": [],
   "source": [
    "def simulate(state, tspan, nbodies, bodies, joints, BC1, BC2):\n",
    "    \"\"\"\n",
    "    This function calls the kinematic update and extracts\n",
    "    the generalized coordinated from the accelerations\n",
    "    \"\"\" \n",
    "   \n",
    "    # update the kinematics of the body\n",
    "    kinematics(bodies,state)\n",
    "\n",
    "    # slice out generalized cooridnates\n",
    "    # and make a sublist for each body\n",
    "    u = state[:len(state)/2].tolist()\n",
    "    u = [u[i*6:(i*6)+6] for i in range((int(len(u)/6)))]\n",
    "\n",
    "    # 'pop' off the rotational coordinates \n",
    "    # those are dealt with through the 'kinematic' sweep\n",
    "    for ue in u:\n",
    "        ue.pop(3)\n",
    "        ue.pop(0)\n",
    "        \n",
    "    # compute the inverse inertial properties of the body \n",
    "    # with the updated generalized \n",
    "    for body,ue in zip(bodies,u):\n",
    "        body.intProps('gebf',ue)\n",
    "    \n",
    "    # DCA returns the eddot vector\n",
    "    sol = DCA.solve(nbodies,0,bodies,joints,BC1,BC2)\n",
    "    \n",
    "    qddot = np.array([qddot for qddot_body in sol for qddot in qddot_body],dtype=np.double).reshape(nGEBF*6)\n",
    "    state_dot = np.hstack((state[len(state)/2:],qddot))\n",
    "    return state_dot "
   ]
  },
  {
   "cell_type": "markdown",
   "metadata": {},
   "source": [
    "### System Variables"
   ]
  },
  {
   "cell_type": "code",
   "execution_count": 5,
   "metadata": {
    "collapsed": false
   },
   "outputs": [],
   "source": [
    "# number of bodies and GEBF elements and kinematic joints\n",
    "nGEBF = 2\n",
    "nRIGID = 0\n",
    "nJKIN = 1\n",
    "nbodies = nGEBF + nRIGID\n",
    "\n",
    "# number of degrees of freedom for the \n",
    "# 2D-GEBF element with a single planar rotation \n",
    "# and two planar displacements (2 nodes per element)\n",
    "ndofsGEBF = 6\n",
    "ndofsKIN  = 1 # (one pin joint)"
   ]
  },
  {
   "cell_type": "markdown",
   "metadata": {},
   "source": [
    "### Initial Conditions"
   ]
  },
  {
   "cell_type": "code",
   "execution_count": 6,
   "metadata": {
    "collapsed": false
   },
   "outputs": [],
   "source": [
    "# start the rope from the horizontal \n",
    "# Compute initial generalized coordinates\n",
    "# q = [theta1, u_1x, u_1y, theta2, u_2x','u_2y']\n",
    "# u = q_dot\n",
    "# state = [q, u]\n",
    "\n",
    "# sublists handy for initilization of bodies \n",
    "q0GEBF = [[0 for i in range(ndofsGEBF)] for i in range(nGEBF)]\n",
    "q0GEBF[0][0] = np.pi/2\n",
    "u0GEBF = [[0 for i in range(ndofsGEBF)] for i in range(nGEBF)]\n",
    "\n",
    "# flatten sub-lists into a single state vector\n",
    "q0 = np.array([q for q_body in q0GEBF for q in q_body],dtype=np.double).squeeze()\n",
    "u0 = np.array([u for u_body in u0GEBF for u in u_body],dtype=np.double).squeeze()\n",
    "state0 = np.hstack((q0,u0))\n",
    "# print(state0)"
   ]
  },
  {
   "cell_type": "markdown",
   "metadata": {},
   "source": [
    "### Initilize the joints and bodies of the system \n",
    "12 GEBF bodies hooked to the ground by one kinematic joint"
   ]
  },
  {
   "cell_type": "code",
   "execution_count": 7,
   "metadata": {
    "collapsed": false
   },
   "outputs": [],
   "source": [
    "# Create a list of Joints\n",
    "jointsKIN = [MB.Joint('revolute2D') for i in range(nJKIN)]\n",
    "jointsGEBF = [MB.Joint('gebf') for i in range (nGEBF-1)]\n",
    "joints = jointsKIN + jointsGEBF\n",
    "\n",
    "# GEBF-Properties\n",
    "# Physical Properties\n",
    "A   =  0.0018\n",
    "I   =  1.215e-8\n",
    "L   =  1.2\n",
    "r   =  math.sqrt(A/math.pi)\n",
    "l   =  L/nGEBF\n",
    "\n",
    "# Material Properties\n",
    "E   =  0.7e6\n",
    "rho =  5540\n",
    "\n",
    "bodiesGEBF = [MB.Body() for i in range(nGEBF)]\n",
    "for body in bodiesGEBF:\n",
    "    body.initialize('gebf', E, A, I, r, rho, l)\n",
    "bodies = bodiesGEBF"
   ]
  },
  {
   "cell_type": "markdown",
   "metadata": {},
   "source": [
    "### Integration"
   ]
  },
  {
   "cell_type": "code",
   "execution_count": 8,
   "metadata": {
    "collapsed": false
   },
   "outputs": [],
   "source": [
    "# Length of time of the simulation\n",
    "tspan = np.arange(0,0.0005,.0001)\n",
    "# odeint is the numerical integrator used\n",
    "state = odeint(simulate,state0,tspan,(nbodies,bodies,joints,2,1))"
   ]
  },
  {
   "cell_type": "code",
   "execution_count": 9,
   "metadata": {
    "collapsed": false
   },
   "outputs": [
    {
     "name": "stdout",
     "output_type": "stream",
     "text": [
      "[ 1.57079633  0.          0.          0.          0.          0.          0.\n",
      "  0.          0.          0.          0.          0.          0.          0.\n",
      "  0.          0.          0.          0.          0.          0.          0.\n",
      "  0.          0.          0.        ]\n",
      "[  1.57090236e+00   0.00000000e+00   0.00000000e+00  -4.66461412e-04\n",
      "   9.73983271e-06   9.84481137e-06  -4.66461412e-04   9.73983271e-06\n",
      "   9.84481137e-06  -1.81229653e-04   5.03569064e-06   4.79144246e-06\n",
      "   2.11857147e+00   0.00000000e+00   0.00000000e+00  -9.32844544e+00\n",
      "   1.94816109e-01   1.96886077e-01  -9.32844544e+00   1.94816109e-01\n",
      "   1.96886077e-01  -3.62550233e+00   1.00712071e-01   9.58488084e-02]\n",
      "[  1.57121924e+00   0.00000000e+00   0.00000000e+00  -1.86537494e-03\n",
      "   3.89710753e-05   3.93731355e-05  -1.86537494e-03   3.89710753e-05\n",
      "   3.93731355e-05  -7.25461534e-04   2.01416097e-05   1.91777032e-05\n",
      "   4.21312129e+00   0.00000000e+00   0.00000000e+00  -1.86474891e+01\n",
      "   3.89867551e-01   3.93650014e-01  -1.86474891e+01   3.89867551e-01\n",
      "   3.93650014e-01  -7.26178522e+00   2.01399373e-01   1.91934835e-01]\n",
      "[  1.57174339e+00   0.00000000e+00   0.00000000e+00  -4.19534060e-03\n",
      "   8.77291113e-05   8.85667387e-05  -4.19534060e-03   8.77291113e-05\n",
      "   8.85667387e-05  -1.63427209e-03   4.53132770e-05   4.31935928e-05\n",
      "   6.25996512e+00   0.00000000e+00   0.00000000e+00  -2.79479972e+01\n",
      "   5.85392051e-01   5.90171908e-01  -2.79479972e+01   5.85392051e-01\n",
      "   5.90171908e-01  -1.09185521e+01   3.02016685e-01   2.88474868e-01]\n",
      "[  1.57246887e+00   0.00000000e+00   0.00000000e+00  -7.45406892e-03\n",
      "   1.56073328e-04   1.57395590e-04  -7.45406892e-03   1.56073328e-04\n",
      "   1.57395590e-04  -2.91010970e-03   8.05397981e-05   7.68937441e-05\n",
      "   8.23609000e+00   0.00000000e+00   0.00000000e+00  -3.72213661e+01\n",
      "   7.81632065e-01   7.86336186e-01  -3.72213661e+01   7.81632065e-01\n",
      "   7.86336186e-01  -1.46033479e+01   4.02477525e-01   3.85644994e-01]\n"
     ]
    },
    {
     "data": {
      "text/plain": [
       "[None, None, None, None, None]"
      ]
     },
     "execution_count": 9,
     "metadata": {},
     "output_type": "execute_result"
    }
   ],
   "source": [
    "[print(y) for y in state]"
   ]
  },
  {
   "cell_type": "code",
   "execution_count": null,
   "metadata": {
    "collapsed": true
   },
   "outputs": [],
   "source": []
  }
 ],
 "metadata": {
  "kernelspec": {
   "display_name": "Python 3",
   "language": "python",
   "name": "python3"
  },
  "language_info": {
   "codemirror_mode": {
    "name": "ipython",
    "version": 3
   },
   "file_extension": ".py",
   "mimetype": "text/x-python",
   "name": "python",
   "nbconvert_exporter": "python",
   "pygments_lexer": "ipython3",
   "version": "3.4.3"
  }
 },
 "nbformat": 4,
 "nbformat_minor": 0
}

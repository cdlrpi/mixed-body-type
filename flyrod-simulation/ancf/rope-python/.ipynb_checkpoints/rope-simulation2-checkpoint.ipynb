{
 "metadata": {
  "name": "",
  "signature": "sha256:a9a9cc00acca6c623a464a8d08a481e7363821181d6b3b5823a61ec3fc3a4b91"
 },
 "nbformat": 3,
 "nbformat_minor": 0,
 "worksheets": [
  {
   "cells": [
    {
     "cell_type": "markdown",
     "metadata": {},
     "source": [
      "## This notebook runs a simulation of a rope using ANCF elements to model the flexibility and the DCA to form and solve the equations of motion"
     ]
    },
    {
     "cell_type": "code",
     "collapsed": false,
     "input": [
      "import math\n",
      "import pickle \n",
      "import numpy as np\n",
      "import scipy as sp\n",
      "import sympy as sym\n",
      "import matplotlib.pyplot as plt\n",
      "import MBstructs as MB\n",
      "import MultiBodyFuncts as MBF\n",
      "import dca_recursive\n",
      "\n",
      "from numpy.linalg import inv\n",
      "from scipy.integrate import odeint\n",
      "\n",
      "%matplotlib inline"
     ],
     "language": "python",
     "metadata": {},
     "outputs": [],
     "prompt_number": 1
    },
    {
     "cell_type": "markdown",
     "metadata": {},
     "source": [
      "### Classes and Functions"
     ]
    },
    {
     "cell_type": "markdown",
     "metadata": {},
     "source": [
      "### Physical and Material Properties"
     ]
    },
    {
     "cell_type": "code",
     "collapsed": false,
     "input": [
      "# number of bodies (elements)\n",
      "n = 12\n",
      "\n",
      "# Physical Properties\n",
      "A   =  0.0018\n",
      "I   =  1.215e-8\n",
      "L   =  1.2\n",
      "l   =  L/n\n",
      "\n",
      "# Material Properties\n",
      "E   =  0.7e6\n",
      "rho =  5540"
     ],
     "language": "python",
     "metadata": {},
     "outputs": [],
     "prompt_number": 2
    },
    {
     "cell_type": "markdown",
     "metadata": {},
     "source": [
      "### Initial Conditions"
     ]
    },
    {
     "cell_type": "code",
     "collapsed": false,
     "input": [
      "# start the rope from the horizontal \n",
      "theta = 0\n",
      "\n",
      "# Compute initial nodal coordinates\n",
      "\"\"\"\n",
      "    Position of any point on the beam initially (straight rope) is \n",
      "    r_x = x*cos(theta)\n",
      "    r_y = x*sin(theta)\n",
      "    diff(r_x,x) = cos(theta)\n",
      "    diff(r_y,x) = sin(theta)\n",
      "\"\"\"\n",
      "# e = [r1x r1y dr1xdx dr1ydx r2x r2y dr2xdx dr2ydx]\n",
      "state = np.array([[(i*l-l)*np.cos(theta), (i*l-l)*np.sin(theta),\n",
      "                       np.cos(theta),         np.sin(theta),\n",
      "                  (i*l)*np.cos(theta),   (i*l)*np.sin(theta),\n",
      "                       np.cos(theta),         np.sin(theta)] \n",
      "             for i in range(1,n+1)])"
     ],
     "language": "python",
     "metadata": {},
     "outputs": [],
     "prompt_number": 3
    },
    {
     "cell_type": "markdown",
     "metadata": {},
     "source": [
      "### Initilize the bodies and joints of the system (compute inertial properties)"
     ]
    },
    {
     "cell_type": "code",
     "collapsed": false,
     "input": [
      "# Create a list of Bodies and Joints\n",
      "bodies = [MB.ANCF_Element(A, E, I, rho, l, state) for i,state in zip(range(n), state)] # (element)\n",
      "# This is needed to use the standard O-DCA assembly and disassembly operations \n",
      "joints = [MB.Joint(np.array((0, 0, 0, 0, 0)),0) for i in range (n)] # (nodes)"
     ],
     "language": "python",
     "metadata": {},
     "outputs": [],
     "prompt_number": 4
    },
    {
     "cell_type": "code",
     "collapsed": false,
     "input": [
      "# Helper Function\n",
      "#-------------------------\n",
      "#This function provides a buffer between the dca algorithm and the \n",
      "#integrator call. \n",
      "def funct(y, t, n, elements, joints, BC1, BC2):\n",
      "\n",
      "    # update state depedent quantities  \n",
      "    initialize(bodies, y, n)\n",
      "    \n",
      "    # DCA returns the eddot vector\n",
      "    eddot = recursiveDCA(n,0,bbs,jjs,BC1,BC2,state)\n",
      "    \n",
      "    # add the velocities to the state vector and return to the integrator\n",
      "    ydot = eddot\n",
      "    ydot[:n] = y[n:]\n",
      "    return ydot "
     ],
     "language": "python",
     "metadata": {},
     "outputs": []
    },
    {
     "cell_type": "markdown",
     "metadata": {},
     "source": [
      "### Integration"
     ]
    },
    {
     "cell_type": "code",
     "collapsed": false,
     "input": [
      "# scipy.integrate.odeint is the numerical integrator used\n",
      "y = odeint(funct,e0,t,(n,0,elements,joints,2,1))"
     ],
     "language": "python",
     "metadata": {},
     "outputs": []
    },
    {
     "cell_type": "code",
     "collapsed": false,
     "input": [
      "# Energy Calculation\n",
      "#--------------------\n",
      "#The energy of the system is calculated and plotted\n",
      "\n",
      "energy=MBF.PendEnergy(y,elements)\n",
      "KE=energy[:,0]\n",
      "PE=energy[:,1]\n",
      "TE=energy[:,2]\n",
      "\n",
      "plt.plot(t,TE-TE[0])\n",
      "plt.xlabel(\"Time [s]\")\n",
      "plt.ylabel(\"energy\")\n",
      "plt.title(\"System Energy\")\n",
      "plt.show()\n",
      "\n",
      "plt.plot(t,PE,Time,KE)\n",
      "plt.xlabel(\"Time[s]\")\n",
      "plt.ylabel(\"energy\")\n",
      "plt.title(\"Kinetic and Potential Energy\")\n",
      "plt.show"
     ],
     "language": "python",
     "metadata": {},
     "outputs": []
    },
    {
     "cell_type": "code",
     "collapsed": false,
     "input": [
      "# Solution Plot\n",
      "#--------------------\n",
      "plt.plot(Time,yy[:,:n])\n",
      "plt.xlabel(\"Time [s]\")\n",
      "plt.ylabel(\"Generalized Coordinates [Rad]\")\n",
      "plt.title(\"System Response\")\n",
      "\n",
      "plt.show()\n",
      "\n",
      "plt.plot(Time,yy[:,n:])\n",
      "plt.xlabel((\"Time[s]\"))\n",
      "plt.ylabel((\"Generalized Speeds [Rad/s]\"))\n",
      "plt.title(\"System Response\")\n",
      "\n",
      "plt.show()"
     ],
     "language": "python",
     "metadata": {},
     "outputs": []
    },
    {
     "cell_type": "code",
     "collapsed": false,
     "input": [
      "25%2"
     ],
     "language": "python",
     "metadata": {},
     "outputs": [
      {
       "metadata": {},
       "output_type": "pyout",
       "prompt_number": 3,
       "text": [
        "1"
       ]
      }
     ],
     "prompt_number": 3
    },
    {
     "cell_type": "code",
     "collapsed": false,
     "input": [
      "import math\n",
      "print(math.trunc(40/2))\n",
      "print(40//2)"
     ],
     "language": "python",
     "metadata": {},
     "outputs": [
      {
       "output_type": "stream",
       "stream": "stdout",
       "text": [
        "20\n",
        "20\n"
       ]
      }
     ],
     "prompt_number": 9
    },
    {
     "cell_type": "code",
     "collapsed": false,
     "input": [],
     "language": "python",
     "metadata": {},
     "outputs": []
    }
   ],
   "metadata": {}
  }
 ]
}
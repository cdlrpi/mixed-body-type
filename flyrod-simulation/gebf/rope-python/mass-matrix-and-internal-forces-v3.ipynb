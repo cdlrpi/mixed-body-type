{
 "cells": [
  {
   "cell_type": "markdown",
   "metadata": {},
   "source": [
    "#Beam Element - This notebook computes the mass matrix and internal forces and outputs them for later use"
   ]
  },
  {
   "cell_type": "code",
   "execution_count": 1,
   "metadata": {
    "collapsed": false
   },
   "outputs": [],
   "source": [
    "import numpy as np\n",
    "import scipy as sp\n",
    "import sympy as sym\n",
    "import pickle\n",
    "\n",
    "from scipy import linalg\n",
    "from sympy import mpmath\n",
    "from sympy import cos, sin\n",
    "\n",
    "from IPython.display import display\n",
    "from __future__ import division\n",
    "from sympy.interactive import printing\n",
    "printing.init_printing(use_latex='mathjax')"
   ]
  },
  {
   "cell_type": "markdown",
   "metadata": {},
   "source": [
    "#### Define Needed Functions"
   ]
  },
  {
   "cell_type": "code",
   "execution_count": 2,
   "metadata": {
    "collapsed": false
   },
   "outputs": [],
   "source": [
    "def Skew_sym(v):\n",
    "    \"\"\"\n",
    "    This function returns the skew symetric matrix \n",
    "    of the vector 'v' to affect the cross product of 'v'x'u'\n",
    "    \"\"\"\n",
    "    v_matrix = sym.Matrix([[  0 , -v[2],  v[1]],\n",
    "                          [v[2],     0, -v[0]],\n",
    "                          [-v[1],  v[0],    0]])\n",
    "    return v_matrix"
   ]
  },
  {
   "cell_type": "code",
   "execution_count": 3,
   "metadata": {
    "collapsed": true
   },
   "outputs": [],
   "source": [
    "def Axial_sym(A):\n",
    "    a_vec = 1/2*sym.Matrix([A[2,1] - A[1,2], A[0,2] - A[2,0], A[1,0] - A[0,1]])\n",
    "    return a_vec"
   ]
  },
  {
   "cell_type": "code",
   "execution_count": 4,
   "metadata": {
    "collapsed": false
   },
   "outputs": [],
   "source": [
    "def Rotate_sym(theta):\n",
    "    \"\"\"\n",
    "    This function returns the symbolic rotation matrix \n",
    "    for the simple 2D-rotation about the third axis\n",
    "    \"\"\"\n",
    "    R = sym.Matrix([[cos(theta),-sin(theta), 0],\n",
    "                    [sin(theta), cos(theta), 0],[0,0,1]])\n",
    "    return R"
   ]
  },
  {
   "cell_type": "markdown",
   "metadata": {},
   "source": [
    "#### Define symbolic quantites"
   ]
  },
  {
   "cell_type": "code",
   "execution_count": 5,
   "metadata": {
    "collapsed": false
   },
   "outputs": [
    {
     "data": {
      "text/latex": [
       "$$\\left [ \\left[\\begin{matrix}u_{1x}\\\\u_{1y}\\\\\\theta_{1}\\\\u_{2x}\\\\u_{2y}\\\\\\theta_{2}\\end{matrix}\\right], \\quad \\left[\\begin{matrix}\\dot{u}_{1x}\\\\\\dot{u}_{1y}\\\\\\dot{\\theta}_{1}\\\\\\dot{u}_{2x}\\\\\\dot{u}_{2y}\\\\\\dot{\\theta}_{2}\\end{matrix}\\right], \\quad \\left[\\begin{matrix}\\ddot{u}_{1x}\\\\\\ddot{u}_{1y}\\\\\\ddot{\\theta}_{1}\\\\\\ddot{u}_{2x}\\\\\\ddot{u}_{2y}\\\\\\ddot{\\theta}_{2}\\end{matrix}\\right]\\right ]$$"
      ],
      "text/plain": [
       "⎡⎡u₁ₓ ⎤, ⎡u̇₁ₓ ⎤, ⎡ü₁ₓ ⎤⎤\n",
       "⎢⎢    ⎥  ⎢     ⎥  ⎢     ⎥⎥\n",
       "⎢⎢u_1y⎥  ⎢u̇_1y⎥  ⎢ü_1y⎥⎥\n",
       "⎢⎢    ⎥  ⎢     ⎥  ⎢     ⎥⎥\n",
       "⎢⎢ θ₁ ⎥  ⎢ θ̇₁ ⎥  ⎢ θ̈₁ ⎥⎥\n",
       "⎢⎢    ⎥  ⎢     ⎥  ⎢     ⎥⎥\n",
       "⎢⎢u₂ₓ ⎥  ⎢u̇₂ₓ ⎥  ⎢ü₂ₓ ⎥⎥\n",
       "⎢⎢    ⎥  ⎢     ⎥  ⎢     ⎥⎥\n",
       "⎢⎢u_2y⎥  ⎢u̇_2y⎥  ⎢ü_2y⎥⎥\n",
       "⎢⎢    ⎥  ⎢     ⎥  ⎢     ⎥⎥\n",
       "⎣⎣ θ₂ ⎦  ⎣ θ̇₂ ⎦  ⎣ θ̈₂ ⎦⎦"
      ]
     },
     "metadata": {},
     "output_type": "display_data"
    },
    {
     "data": {
      "text/latex": [
       "$$\\left[\\begin{matrix}u_{1x}\\\\u_{1y}\\\\0\\\\u_{2x}\\\\u_{2y}\\\\0\\end{matrix}\\right]$$"
      ],
      "text/plain": [
       "⎡u₁ₓ ⎤\n",
       "⎢    ⎥\n",
       "⎢u_1y⎥\n",
       "⎢    ⎥\n",
       "⎢ 0  ⎥\n",
       "⎢    ⎥\n",
       "⎢u₂ₓ ⎥\n",
       "⎢    ⎥\n",
       "⎢u_2y⎥\n",
       "⎢    ⎥\n",
       "⎣ 0  ⎦"
      ]
     },
     "metadata": {},
     "output_type": "display_data"
    }
   ],
   "source": [
    "# nodal positons, velocities, and accelerations\n",
    "\"\"\"\n",
    "\"\"\"\n",
    "\n",
    "# symbolic system parameters \n",
    "E, I, A, rho, x, l, tau_a = sym.symbols('E I A rho x l, tau_a')\n",
    "\n",
    "# Beam coordinates at cross-section 1 and 2\n",
    "r1 = sym.Matrix(['r_1x','r_1y'])\n",
    "r2 = sym.Matrix(['r_2x','r_2y'])\n",
    "\n",
    "# Deformation coordinates\n",
    "# u = sym.Matrix(['u_1x','u_1y','u_1z','u_2x','u_2y','u_2z'])\n",
    "# udot = sym.Matrix(['udot_1x','udot_1y','udot_1z','udot_2x','udot_2y','udot_2z'])\n",
    "# uddot = sym.Matrix(['uddot_1x','uddot_1y','uddot_1z','uddot_2x','uddot_2y','uddot_2z'])\n",
    "u_sym = sym.Matrix(['u_1x','u_1y','u_2x','u_2y'])\n",
    "udot_sym = sym.Matrix(['udot_1x','udot_1y','udot_2x','udot_2y'])\n",
    "uddot_sym = sym.Matrix(['uddot_1x','uddot_1y','uddot_2x','uddot_2y'])\n",
    "\n",
    "u = sym.Matrix([u_sym[0:2,0],[0],u_sym[2:5,0],[0]])\n",
    "udot = sym.Matrix([udot_sym[0:2,0],[0],udot_sym[2:5,0],[0]])\n",
    "uddot = sym.Matrix([uddot_sym[0:2,0],[0],uddot_sym[2:5,0],[0]])\n",
    "\n",
    "# theta = sym.Matrix(['theta_1x','theta_1y','theta_1z','theta_2x','theta_2y','theta_2z'])\n",
    "# omega = sym.Matrix(['omega_1x','omega_1y','omega_1z','omega_2x','omega_2y','omega_2z'])\n",
    "# alpha = sym.Matrix(['alpha_1x','alpha_1y','alpha_1z','alpha_2x','alpha_2y','alpha_2z'])\n",
    "theta = sym.Matrix(['theta_1','theta_2'])\n",
    "thetadot = sym.Matrix(['thetadot_1','thetadot_2'])\n",
    "thetaddot = sym.Matrix(['thetaddot_1','thetaddot_2'])\n",
    "\n",
    "# locating the point in the cross section\n",
    "s1 = sym.Matrix([0, r1])\n",
    "s2 = sym.Matrix([0, r2])\n",
    "s = sym.Matrix.vstack(s1,s2)\n",
    "\n",
    "# # define state variables\n",
    "# e = sym.Matrix([u[0:3,0], theta[0:3,0], u[3:6,0], theta[3:6,0]])\n",
    "# edot = sym.Matrix([udot[0:3,0], omega[0:3,0], udot[3:6,0], omega[3:6,0]])\n",
    "# eddot = sym.Matrix([uddot[0:3,0], alpha[0:3,0], uddot[3:6,0], alpha[3:6,0]])\n",
    "q = sym.Matrix([u[0:2,0], [theta[0]], u[3:5,0], [theta[1]]])\n",
    "qdot = sym.Matrix([udot[0:2,0], [thetadot[0]], udot[3:5,0], [thetadot[1]]])\n",
    "qddot = sym.Matrix([uddot[0:2,0], [thetaddot[0]], uddot[3:5,0], [thetaddot[1]]])\n",
    "\n",
    "# edot = sym.Matrix([udot[0:2,0], omega[0:3,0], udot[3:6,0], omega[3:6,0]])\n",
    "# eddot = sym.Matrix([uddot[0:2,0], alpha[0:3,0], uddot[3:6,0], alpha[3:6,0]])\n",
    "# e = u\n",
    "# edot = udot\n",
    "# eddot = uddot\n",
    "display([q,qdot,qddot])\n",
    "display(u)\n",
    "# display([theta,thetadot,thetaddot])"
   ]
  },
  {
   "cell_type": "markdown",
   "metadata": {},
   "source": [
    "### Needed Matrix Quantities"
   ]
  },
  {
   "cell_type": "code",
   "execution_count": 6,
   "metadata": {
    "collapsed": false
   },
   "outputs": [],
   "source": [
    "# angular velocity for 2D case is trivial\n",
    "omega1_skew = Skew_sym([0,0,thetadot[0]])\n",
    "omega2_skew = Skew_sym([0,0,thetadot[1]])\n",
    "alpha1_skew = Skew_sym([0,0,thetaddot[0]])\n",
    "alpha2_skew = Skew_sym([0,0,thetaddot[1]])\n",
    "# omega1_skew = Skew_sym(omega[0:3])\n",
    "# omega2_skew = Skew_sym(omega[3:6])\n",
    "# alpha1_skew = Skew_sym(alpha[0:3])\n",
    "# alpha2_skew = Skew_sym(alpha[3:6])\n",
    "\n",
    "# Rotation for a 2D problem\n",
    "R1 = Rotate_sym(theta[0])\n",
    "R2 = Rotate_sym(theta[1])\n",
    "# display(R1,R2)\n",
    "\n",
    "# \"spatial\" rotation matrix\n",
    "R = sym.Matrix.vstack(sym.Matrix.hstack(R1,sym.zeros(3)), \\\n",
    "                      sym.Matrix.hstack(sym.zeros(3),R2))\n",
    "\n",
    "# \"spatial\" angular velocity matrix\n",
    "Omega_skew = sym.Matrix.vstack(sym.Matrix.hstack(omega1_skew,sym.zeros(3)), \\\n",
    "                               sym.Matrix.hstack(sym.zeros(3),omega2_skew))\n",
    "\n",
    "# \"spatial\" angular acceleration matrix\n",
    "Alpha_skew = sym.Matrix.vstack(sym.Matrix.hstack(alpha1_skew,sym.zeros(3)), \\\n",
    "                               sym.Matrix.hstack(sym.zeros(3),alpha2_skew))\n",
    "# display(Omega)"
   ]
  },
  {
   "cell_type": "markdown",
   "metadata": {},
   "source": [
    "### Define Kinematics"
   ]
  },
  {
   "cell_type": "code",
   "execution_count": 7,
   "metadata": {
    "collapsed": false
   },
   "outputs": [
    {
     "name": "stdout",
     "output_type": "stream",
     "text": [
      "v = \n"
     ]
    },
    {
     "data": {
      "text/latex": [
       "$$\\left[\\begin{matrix}- r_{1x} \\dot{\\theta}_{1} \\cos{\\left (\\theta_{1} \\right )} + \\dot{u}_{1x}\\\\- r_{1x} \\dot{\\theta}_{1} \\sin{\\left (\\theta_{1} \\right )} + \\dot{u}_{1y}\\\\0\\\\- r_{2x} \\dot{\\theta}_{2} \\cos{\\left (\\theta_{2} \\right )} + \\dot{u}_{2x}\\\\- r_{2x} \\dot{\\theta}_{2} \\sin{\\left (\\theta_{2} \\right )} + \\dot{u}_{2y}\\\\0\\end{matrix}\\right]$$"
      ],
      "text/plain": [
       "⎡-r₁ₓ⋅θ̇₁⋅cos(θ₁) + u̇₁ₓ ⎤\n",
       "⎢                        ⎥\n",
       "⎢-r₁ₓ⋅θ̇₁⋅sin(θ₁) + u̇_1y⎥\n",
       "⎢                        ⎥\n",
       "⎢           0            ⎥\n",
       "⎢                        ⎥\n",
       "⎢-r₂ₓ⋅θ̇₂⋅cos(θ₂) + u̇₂ₓ ⎥\n",
       "⎢                        ⎥\n",
       "⎢-r₂ₓ⋅θ̇₂⋅sin(θ₂) + u̇_2y⎥\n",
       "⎢                        ⎥\n",
       "⎣           0            ⎦"
      ]
     },
     "metadata": {},
     "output_type": "display_data"
    },
    {
     "name": "stdout",
     "output_type": "stream",
     "text": [
      "\n",
      "a = \n"
     ]
    },
    {
     "data": {
      "text/latex": [
       "$$\\left[\\begin{matrix}- r_{1x} \\ddot{\\theta}_{1} \\cos{\\left (\\theta_{1} \\right )} + r_{1x} \\dot{\\theta}_{1}^{2} \\sin{\\left (\\theta_{1} \\right )} + \\ddot{u}_{1x}\\\\- r_{1x} \\ddot{\\theta}_{1} \\sin{\\left (\\theta_{1} \\right )} - r_{1x} \\dot{\\theta}_{1}^{2} \\cos{\\left (\\theta_{1} \\right )} + \\ddot{u}_{1y}\\\\0\\\\- r_{2x} \\ddot{\\theta}_{2} \\cos{\\left (\\theta_{2} \\right )} + r_{2x} \\dot{\\theta}_{2}^{2} \\sin{\\left (\\theta_{2} \\right )} + \\ddot{u}_{2x}\\\\- r_{2x} \\ddot{\\theta}_{2} \\sin{\\left (\\theta_{2} \\right )} - r_{2x} \\dot{\\theta}_{2}^{2} \\cos{\\left (\\theta_{2} \\right )} + \\ddot{u}_{2y}\\\\0\\end{matrix}\\right]$$"
      ],
      "text/plain": [
       "⎡                          2                ⎤\n",
       "⎢-r₁ₓ⋅θ̈₁⋅cos(θ₁) + r₁ₓ⋅θ̇₁ ⋅sin(θ₁) + ü₁ₓ ⎥\n",
       "⎢                                           ⎥\n",
       "⎢                          2                ⎥\n",
       "⎢-r₁ₓ⋅θ̈₁⋅sin(θ₁) - r₁ₓ⋅θ̇₁ ⋅cos(θ₁) + ü_1y⎥\n",
       "⎢                                           ⎥\n",
       "⎢                     0                     ⎥\n",
       "⎢                                           ⎥\n",
       "⎢                          2                ⎥\n",
       "⎢-r₂ₓ⋅θ̈₂⋅cos(θ₂) + r₂ₓ⋅θ̇₂ ⋅sin(θ₂) + ü₂ₓ ⎥\n",
       "⎢                                           ⎥\n",
       "⎢                          2                ⎥\n",
       "⎢-r₂ₓ⋅θ̈₂⋅sin(θ₂) - r₂ₓ⋅θ̇₂ ⋅cos(θ₂) + ü_2y⎥\n",
       "⎢                                           ⎥\n",
       "⎣                     0                     ⎦"
      ]
     },
     "metadata": {},
     "output_type": "display_data"
    }
   ],
   "source": [
    "# Define velocity of element endpoints (nodes)\n",
    "v = sym.simplify(udot + R*Omega_skew*s)\n",
    "print('v = ')\n",
    "display(v)\n",
    "\n",
    "# Define acceleration of element endpoints (nodes)\n",
    "a = sym.simplify(uddot + R*Omega_skew*Omega_skew*s + R*Alpha_skew*s)\n",
    "print('\\na = ')\n",
    "display(a)"
   ]
  },
  {
   "cell_type": "markdown",
   "metadata": {},
   "source": [
    "### Compute the Mass Matrix"
   ]
  },
  {
   "cell_type": "code",
   "execution_count": 8,
   "metadata": {
    "collapsed": false
   },
   "outputs": [
    {
     "name": "stdout",
     "output_type": "stream",
     "text": [
      "\n",
      "H = \n"
     ]
    },
    {
     "data": {
      "text/latex": [
       "$$\\left[\\begin{matrix}- \\frac{x}{2} + \\frac{1}{2} & 0 & 0 & \\frac{x}{2} + \\frac{1}{2} & 0 & 0\\\\0 & - \\frac{x}{2} + \\frac{1}{2} & 0 & 0 & \\frac{x}{2} + \\frac{1}{2} & 0\\\\0 & 0 & - \\frac{x}{2} + \\frac{1}{2} & 0 & 0 & \\frac{x}{2} + \\frac{1}{2}\\end{matrix}\\right]$$"
      ],
      "text/plain": [
       "⎡  x   1                    x   1              ⎤\n",
       "⎢- ─ + ─     0        0     ─ + ─    0      0  ⎥\n",
       "⎢  2   2                    2   2              ⎥\n",
       "⎢                                              ⎥\n",
       "⎢           x   1                  x   1       ⎥\n",
       "⎢   0     - ─ + ─     0       0    ─ + ─    0  ⎥\n",
       "⎢           2   2                  2   2       ⎥\n",
       "⎢                                              ⎥\n",
       "⎢                    x   1                x   1⎥\n",
       "⎢   0        0     - ─ + ─    0      0    ─ + ─⎥\n",
       "⎣                    2   2                2   2⎦"
      ]
     },
     "metadata": {},
     "output_type": "display_data"
    },
    {
     "name": "stdout",
     "output_type": "stream",
     "text": [
      "\n",
      "V = \n"
     ]
    },
    {
     "data": {
      "text/latex": [
       "$$\\left[\\begin{matrix}\\left(- \\frac{x}{2} + \\frac{1}{2}\\right) \\left(- r_{1x} \\dot{\\theta}_{1} \\cos{\\left (\\theta_{1} \\right )} + \\dot{u}_{1x}\\right) + \\left(\\frac{x}{2} + \\frac{1}{2}\\right) \\left(- r_{2x} \\dot{\\theta}_{2} \\cos{\\left (\\theta_{2} \\right )} + \\dot{u}_{2x}\\right)\\\\\\left(- \\frac{x}{2} + \\frac{1}{2}\\right) \\left(- r_{1x} \\dot{\\theta}_{1} \\sin{\\left (\\theta_{1} \\right )} + \\dot{u}_{1y}\\right) + \\left(\\frac{x}{2} + \\frac{1}{2}\\right) \\left(- r_{2x} \\dot{\\theta}_{2} \\sin{\\left (\\theta_{2} \\right )} + \\dot{u}_{2y}\\right)\\\\0\\end{matrix}\\right]$$"
      ],
      "text/plain": [
       "⎡ ⎛  x   1⎞                             ⎛x   1⎞                           ⎤\n",
       "⎢ ⎜- ─ + ─⎟⋅(-r₁ₓ⋅θ̇₁⋅cos(θ₁) + u̇₁ₓ) + ⎜─ + ─⎟⋅(-r₂ₓ⋅θ̇₂⋅cos(θ₂) + u̇₂ₓ) ⎥\n",
       "⎢ ⎝  2   2⎠                             ⎝2   2⎠                           ⎥\n",
       "⎢                                                                         ⎥\n",
       "⎢⎛  x   1⎞                              ⎛x   1⎞                           ⎥\n",
       "⎢⎜- ─ + ─⎟⋅(-r₁ₓ⋅θ̇₁⋅sin(θ₁) + u̇_1y) + ⎜─ + ─⎟⋅(-r₂ₓ⋅θ̇₂⋅sin(θ₂) + u̇_2y)⎥\n",
       "⎢⎝  2   2⎠                              ⎝2   2⎠                           ⎥\n",
       "⎢                                                                         ⎥\n",
       "⎣                                    0                                    ⎦"
      ]
     },
     "metadata": {},
     "output_type": "display_data"
    },
    {
     "name": "stdout",
     "output_type": "stream",
     "text": [
      "\n",
      "Vr = \n"
     ]
    },
    {
     "data": {
      "text/latex": [
       "$$\\left[\\begin{matrix}- \\frac{x}{2} + \\frac{1}{2} & 0 & - r_{1x} \\left(- \\frac{x}{2} + \\frac{1}{2}\\right) \\cos{\\left (\\theta_{1} \\right )} & \\frac{x}{2} + \\frac{1}{2} & 0 & - r_{2x} \\left(\\frac{x}{2} + \\frac{1}{2}\\right) \\cos{\\left (\\theta_{2} \\right )}\\\\0 & - \\frac{x}{2} + \\frac{1}{2} & - r_{1x} \\left(- \\frac{x}{2} + \\frac{1}{2}\\right) \\sin{\\left (\\theta_{1} \\right )} & 0 & \\frac{x}{2} + \\frac{1}{2} & - r_{2x} \\left(\\frac{x}{2} + \\frac{1}{2}\\right) \\sin{\\left (\\theta_{2} \\right )}\\\\0 & 0 & 0 & 0 & 0 & 0\\end{matrix}\\right]$$"
      ],
      "text/plain": [
       "⎡  x   1                ⎛  x   1⎞          x   1              ⎛x   1⎞        ⎤\n",
       "⎢- ─ + ─     0     -r₁ₓ⋅⎜- ─ + ─⎟⋅cos(θ₁)  ─ + ─    0    -r₂ₓ⋅⎜─ + ─⎟⋅cos(θ₂)⎥\n",
       "⎢  2   2                ⎝  2   2⎠          2   2              ⎝2   2⎠        ⎥\n",
       "⎢                                                                            ⎥\n",
       "⎢           x   1       ⎛  x   1⎞                 x   1       ⎛x   1⎞        ⎥\n",
       "⎢   0     - ─ + ─  -r₁ₓ⋅⎜- ─ + ─⎟⋅sin(θ₁)    0    ─ + ─  -r₂ₓ⋅⎜─ + ─⎟⋅sin(θ₂)⎥\n",
       "⎢           2   2       ⎝  2   2⎠                 2   2       ⎝2   2⎠        ⎥\n",
       "⎢                                                                            ⎥\n",
       "⎣   0        0               0               0      0             0          ⎦"
      ]
     },
     "metadata": {},
     "output_type": "display_data"
    }
   ],
   "source": [
    "# Define shape function for element with one node at each end\n",
    "h = sym.symarray('h', 2)\n",
    "\n",
    "h[0] = sym.Rational(1,2)*(1 - x)\n",
    "h[1] = sym.Rational(1,2)*(1 + x)\n",
    "\n",
    "# Compute shape function matrix\n",
    "H = sym.expand(sym.Matrix([h[0]*sym.eye(3), h[1]*sym.eye(3)])).T\n",
    "print('\\nH = ')\n",
    "display(H)\n",
    "\n",
    "# Define velocity of any point \n",
    "Vp = H*v\n",
    "print('\\nV = ')\n",
    "display(Vp)\n",
    "\n",
    "# Define velocity of any point \n",
    "Ap = H*a\n",
    "# print('\\nA = ')\n",
    "# display(Accel)\n",
    "\n",
    "# Compute partial velocities of the nodes\n",
    "Vr = sym.Matrix([[sym.diff(Vp,qdot) for Vp in Vp] for qdot in qdot]).T\n",
    "# v_r = H\n",
    "print('\\nVr = ')\n",
    "display(Vr)\n",
    "# print(Vr.shape)\n",
    "\n",
    "# Compute mass matrix\n",
    "M = sym.factor(sym.Matrix([[sym.expand(sym.integrate(Vr[:,i].dot(Ap)*rho*A,(x,0,l))).coeff(qddot[j]) \\\n",
    "                            for i in range(len(qddot))] for j in range(len(qddot))]))\n",
    "# print('\\nM = \\n')\n",
    "# display(M)\n",
    "pickle.dump( M, open( \"mass-matrix.dump\", \"wb\" ) )"
   ]
  },
  {
   "cell_type": "code",
   "execution_count": 9,
   "metadata": {
    "collapsed": false
   },
   "outputs": [
    {
     "name": "stdout",
     "output_type": "stream",
     "text": [
      "M_11 = \n"
     ]
    },
    {
     "data": {
      "text/latex": [
       "$$\\left[\\begin{matrix}\\frac{A l}{12} \\rho \\left(l^{2} - 3 l + 3\\right) & 0 & - \\frac{A l}{12} r_{1x} \\rho \\left(l^{2} - 3 l + 3\\right) \\cos{\\left (\\theta_{1} \\right )}\\\\0 & \\frac{A l}{12} \\rho \\left(l^{2} - 3 l + 3\\right) & - \\frac{A l}{12} r_{1x} \\rho \\left(l^{2} - 3 l + 3\\right) \\sin{\\left (\\theta_{1} \\right )}\\\\- \\frac{A l}{12} r_{1x} \\rho \\left(l^{2} - 3 l + 3\\right) \\cos{\\left (\\theta_{1} \\right )} & - \\frac{A l}{12} r_{1x} \\rho \\left(l^{2} - 3 l + 3\\right) \\sin{\\left (\\theta_{1} \\right )} & \\frac{A l}{12} r_{1x}^{2} \\rho \\left(\\sin^{2}{\\left (\\theta_{1} \\right )} + \\cos^{2}{\\left (\\theta_{1} \\right )}\\right) \\left(l^{2} - 3 l + 3\\right)\\end{matrix}\\right]$$"
      ],
      "text/plain": [
       "⎡             ⎛ 2          ⎞                                                  \n",
       "⎢       A⋅l⋅ρ⋅⎝l  - 3⋅l + 3⎠                                                  \n",
       "⎢       ────────────────────                         0                        \n",
       "⎢                12                                                           \n",
       "⎢                                                                             \n",
       "⎢                                                 ⎛ 2          ⎞              \n",
       "⎢                                           A⋅l⋅ρ⋅⎝l  - 3⋅l + 3⎠              \n",
       "⎢                0                          ────────────────────              \n",
       "⎢                                                    12                       \n",
       "⎢                                                                             \n",
       "⎢           ⎛ 2          ⎞                      ⎛ 2          ⎞                \n",
       "⎢-A⋅l⋅r₁ₓ⋅ρ⋅⎝l  - 3⋅l + 3⎠⋅cos(θ₁)   -A⋅l⋅r₁ₓ⋅ρ⋅⎝l  - 3⋅l + 3⎠⋅sin(θ₁)   A⋅l⋅r\n",
       "⎢──────────────────────────────────  ──────────────────────────────────  ─────\n",
       "⎣                12                                  12                       \n",
       "\n",
       "            ⎛ 2          ⎞                ⎤\n",
       " -A⋅l⋅r₁ₓ⋅ρ⋅⎝l  - 3⋅l + 3⎠⋅cos(θ₁)        ⎥\n",
       " ──────────────────────────────────       ⎥\n",
       "                 12                       ⎥\n",
       "                                          ⎥\n",
       "            ⎛ 2          ⎞                ⎥\n",
       " -A⋅l⋅r₁ₓ⋅ρ⋅⎝l  - 3⋅l + 3⎠⋅sin(θ₁)        ⎥\n",
       " ──────────────────────────────────       ⎥\n",
       "                 12                       ⎥\n",
       "                                          ⎥\n",
       "  2   ⎛   2          2    ⎞ ⎛ 2          ⎞⎥\n",
       "₁ₓ ⋅ρ⋅⎝sin (θ₁) + cos (θ₁)⎠⋅⎝l  - 3⋅l + 3⎠⎥\n",
       "──────────────────────────────────────────⎥\n",
       "                  12                      ⎦"
      ]
     },
     "metadata": {},
     "output_type": "display_data"
    },
    {
     "name": "stdout",
     "output_type": "stream",
     "text": [
      "\n",
      "M_22 = \n"
     ]
    },
    {
     "data": {
      "text/latex": [
       "$$\\left[\\begin{matrix}\\frac{A l}{12} \\rho \\left(l^{2} + 3 l + 3\\right) & 0 & - \\frac{A l}{12} r_{2x} \\rho \\left(l^{2} + 3 l + 3\\right) \\cos{\\left (\\theta_{2} \\right )}\\\\0 & \\frac{A l}{12} \\rho \\left(l^{2} + 3 l + 3\\right) & - \\frac{A l}{12} r_{2x} \\rho \\left(l^{2} + 3 l + 3\\right) \\sin{\\left (\\theta_{2} \\right )}\\\\- \\frac{A l}{12} r_{2x} \\rho \\left(l^{2} + 3 l + 3\\right) \\cos{\\left (\\theta_{2} \\right )} & - \\frac{A l}{12} r_{2x} \\rho \\left(l^{2} + 3 l + 3\\right) \\sin{\\left (\\theta_{2} \\right )} & \\frac{A l}{12} r_{2x}^{2} \\rho \\left(\\sin^{2}{\\left (\\theta_{2} \\right )} + \\cos^{2}{\\left (\\theta_{2} \\right )}\\right) \\left(l^{2} + 3 l + 3\\right)\\end{matrix}\\right]$$"
      ],
      "text/plain": [
       "⎡             ⎛ 2          ⎞                                                  \n",
       "⎢       A⋅l⋅ρ⋅⎝l  + 3⋅l + 3⎠                                                  \n",
       "⎢       ────────────────────                         0                        \n",
       "⎢                12                                                           \n",
       "⎢                                                                             \n",
       "⎢                                                 ⎛ 2          ⎞              \n",
       "⎢                                           A⋅l⋅ρ⋅⎝l  + 3⋅l + 3⎠              \n",
       "⎢                0                          ────────────────────              \n",
       "⎢                                                    12                       \n",
       "⎢                                                                             \n",
       "⎢           ⎛ 2          ⎞                      ⎛ 2          ⎞                \n",
       "⎢-A⋅l⋅r₂ₓ⋅ρ⋅⎝l  + 3⋅l + 3⎠⋅cos(θ₂)   -A⋅l⋅r₂ₓ⋅ρ⋅⎝l  + 3⋅l + 3⎠⋅sin(θ₂)   A⋅l⋅r\n",
       "⎢──────────────────────────────────  ──────────────────────────────────  ─────\n",
       "⎣                12                                  12                       \n",
       "\n",
       "            ⎛ 2          ⎞                ⎤\n",
       " -A⋅l⋅r₂ₓ⋅ρ⋅⎝l  + 3⋅l + 3⎠⋅cos(θ₂)        ⎥\n",
       " ──────────────────────────────────       ⎥\n",
       "                 12                       ⎥\n",
       "                                          ⎥\n",
       "            ⎛ 2          ⎞                ⎥\n",
       " -A⋅l⋅r₂ₓ⋅ρ⋅⎝l  + 3⋅l + 3⎠⋅sin(θ₂)        ⎥\n",
       " ──────────────────────────────────       ⎥\n",
       "                 12                       ⎥\n",
       "                                          ⎥\n",
       "  2   ⎛   2          2    ⎞ ⎛ 2          ⎞⎥\n",
       "₂ₓ ⋅ρ⋅⎝sin (θ₂) + cos (θ₂)⎠⋅⎝l  + 3⋅l + 3⎠⎥\n",
       "──────────────────────────────────────────⎥\n",
       "                  12                      ⎦"
      ]
     },
     "metadata": {},
     "output_type": "display_data"
    },
    {
     "name": "stdout",
     "output_type": "stream",
     "text": [
      "\n",
      "M_12 = \n"
     ]
    },
    {
     "data": {
      "text/latex": [
       "$$\\left[\\begin{matrix}- \\frac{A l}{12} \\rho \\left(l^{2} - 3\\right) & 0 & \\frac{A l}{12} r_{2x} \\rho \\left(l^{2} - 3\\right) \\cos{\\left (\\theta_{2} \\right )}\\\\0 & - \\frac{A l}{12} \\rho \\left(l^{2} - 3\\right) & \\frac{A l}{12} r_{2x} \\rho \\left(l^{2} - 3\\right) \\sin{\\left (\\theta_{2} \\right )}\\\\\\frac{A l}{12} r_{1x} \\rho \\left(l^{2} - 3\\right) \\cos{\\left (\\theta_{1} \\right )} & \\frac{A l}{12} r_{1x} \\rho \\left(l^{2} - 3\\right) \\sin{\\left (\\theta_{1} \\right )} & - \\frac{A l}{12} r_{1x} r_{2x} \\rho \\left(l^{2} - 3\\right) \\left(\\sin{\\left (\\theta_{1} \\right )} \\sin{\\left (\\theta_{2} \\right )} + \\cos{\\left (\\theta_{1} \\right )} \\cos{\\left (\\theta_{2} \\right )}\\right)\\end{matrix}\\right]$$"
      ],
      "text/plain": [
       "⎡            ⎛ 2    ⎞                                                         \n",
       "⎢     -A⋅l⋅ρ⋅⎝l  - 3⎠                                                     A⋅l⋅\n",
       "⎢     ────────────────                   0                                ────\n",
       "⎢            12                                                               \n",
       "⎢                                                                             \n",
       "⎢                                        ⎛ 2    ⎞                             \n",
       "⎢                                 -A⋅l⋅ρ⋅⎝l  - 3⎠                         A⋅l⋅\n",
       "⎢            0                    ────────────────                        ────\n",
       "⎢                                        12                                   \n",
       "⎢                                                                             \n",
       "⎢          ⎛ 2    ⎞                    ⎛ 2    ⎞                         ⎛ 2   \n",
       "⎢A⋅l⋅r₁ₓ⋅ρ⋅⎝l  - 3⎠⋅cos(θ₁)  A⋅l⋅r₁ₓ⋅ρ⋅⎝l  - 3⎠⋅sin(θ₁)  -A⋅l⋅r₁ₓ⋅r₂ₓ⋅ρ⋅⎝l  - \n",
       "⎢──────────────────────────  ──────────────────────────  ─────────────────────\n",
       "⎣            12                          12                                   \n",
       "\n",
       "      ⎛ 2    ⎞                         ⎤\n",
       "r₂ₓ⋅ρ⋅⎝l  - 3⎠⋅cos(θ₂)                 ⎥\n",
       "──────────────────────                 ⎥\n",
       "        12                             ⎥\n",
       "                                       ⎥\n",
       "      ⎛ 2    ⎞                         ⎥\n",
       "r₂ₓ⋅ρ⋅⎝l  - 3⎠⋅sin(θ₂)                 ⎥\n",
       "──────────────────────                 ⎥\n",
       "        12                             ⎥\n",
       "                                       ⎥\n",
       " ⎞                                     ⎥\n",
       "3⎠⋅(sin(θ₁)⋅sin(θ₂) + cos(θ₁)⋅cos(θ₂)) ⎥\n",
       "───────────────────────────────────────⎥\n",
       "        12                             ⎦"
      ]
     },
     "metadata": {},
     "output_type": "display_data"
    },
    {
     "name": "stdout",
     "output_type": "stream",
     "text": [
      "\n",
      "M_21.T = \n"
     ]
    },
    {
     "data": {
      "text/latex": [
       "$$\\left[\\begin{matrix}- \\frac{A l}{12} \\rho \\left(l^{2} - 3\\right) & 0 & \\frac{A l}{12} r_{2x} \\rho \\left(l^{2} - 3\\right) \\cos{\\left (\\theta_{2} \\right )}\\\\0 & - \\frac{A l}{12} \\rho \\left(l^{2} - 3\\right) & \\frac{A l}{12} r_{2x} \\rho \\left(l^{2} - 3\\right) \\sin{\\left (\\theta_{2} \\right )}\\\\\\frac{A l}{12} r_{1x} \\rho \\left(l^{2} - 3\\right) \\cos{\\left (\\theta_{1} \\right )} & \\frac{A l}{12} r_{1x} \\rho \\left(l^{2} - 3\\right) \\sin{\\left (\\theta_{1} \\right )} & - \\frac{A l}{12} r_{1x} r_{2x} \\rho \\left(l^{2} - 3\\right) \\left(\\sin{\\left (\\theta_{1} \\right )} \\sin{\\left (\\theta_{2} \\right )} + \\cos{\\left (\\theta_{1} \\right )} \\cos{\\left (\\theta_{2} \\right )}\\right)\\end{matrix}\\right]$$"
      ],
      "text/plain": [
       "⎡            ⎛ 2    ⎞                                                         \n",
       "⎢     -A⋅l⋅ρ⋅⎝l  - 3⎠                                                     A⋅l⋅\n",
       "⎢     ────────────────                   0                                ────\n",
       "⎢            12                                                               \n",
       "⎢                                                                             \n",
       "⎢                                        ⎛ 2    ⎞                             \n",
       "⎢                                 -A⋅l⋅ρ⋅⎝l  - 3⎠                         A⋅l⋅\n",
       "⎢            0                    ────────────────                        ────\n",
       "⎢                                        12                                   \n",
       "⎢                                                                             \n",
       "⎢          ⎛ 2    ⎞                    ⎛ 2    ⎞                         ⎛ 2   \n",
       "⎢A⋅l⋅r₁ₓ⋅ρ⋅⎝l  - 3⎠⋅cos(θ₁)  A⋅l⋅r₁ₓ⋅ρ⋅⎝l  - 3⎠⋅sin(θ₁)  -A⋅l⋅r₁ₓ⋅r₂ₓ⋅ρ⋅⎝l  - \n",
       "⎢──────────────────────────  ──────────────────────────  ─────────────────────\n",
       "⎣            12                          12                                   \n",
       "\n",
       "      ⎛ 2    ⎞                         ⎤\n",
       "r₂ₓ⋅ρ⋅⎝l  - 3⎠⋅cos(θ₂)                 ⎥\n",
       "──────────────────────                 ⎥\n",
       "        12                             ⎥\n",
       "                                       ⎥\n",
       "      ⎛ 2    ⎞                         ⎥\n",
       "r₂ₓ⋅ρ⋅⎝l  - 3⎠⋅sin(θ₂)                 ⎥\n",
       "──────────────────────                 ⎥\n",
       "        12                             ⎥\n",
       "                                       ⎥\n",
       " ⎞                                     ⎥\n",
       "3⎠⋅(sin(θ₁)⋅sin(θ₂) + cos(θ₁)⋅cos(θ₂)) ⎥\n",
       "───────────────────────────────────────⎥\n",
       "        12                             ⎦"
      ]
     },
     "metadata": {},
     "output_type": "display_data"
    }
   ],
   "source": [
    "print('M_11 = ')\n",
    "display(M[0:3,0:3])\n",
    "\n",
    "print('\\nM_22 = ')\n",
    "display(M[3:6,3:6])\n",
    "\n",
    "print('\\nM_12 = ')\n",
    "display(M[0:3,3:6])\n",
    "print('\\nM_21.T = ')\n",
    "display(M[3:6,0:3].T)"
   ]
  },
  {
   "cell_type": "markdown",
   "metadata": {},
   "source": [
    "### Compute Internal forces "
   ]
  },
  {
   "cell_type": "markdown",
   "metadata": {},
   "source": [
    "#### Transverse (Bending) Strain"
   ]
  },
  {
   "cell_type": "code",
   "execution_count": 10,
   "metadata": {
    "collapsed": false
   },
   "outputs": [],
   "source": [
    "''' Interpolate Finite Rotation Between Nodes (Interpolation of rotation and motion - Olivier A. Bauchau · Shilei Han)\n",
    "    - Algorithm 2 (Cayley’s decomposition) is used to Extract Orthogonal Rotation Matrix R\n",
    "    - Algorithm 4 is used to interpolate curvature '''\n",
    "T = sym.simplify(h[0]*R1 + h[1]*R2)\n",
    "# display(T)\n",
    "A = (T + sym.eye(3))*(T + sym.eye(3)).inv()\n",
    "# display(A)\n",
    "cpar = Axial_sym(A)\n",
    "# display(cpar)\n",
    "temp = cpar.T*cpar\n",
    "cpar_skew = Skew_sym(cpar)\n",
    "R = 1/(temp[0]+1)*((1+temp[0])*sym.eye(3) + 2*cpar_skew + 2*cpar_skew*cpar_skew)\n",
    "dT = h[0].diff(x)*R1 + h[1].diff(x)*R2\n",
    "# display(dT)\n",
    "kappa = Axial_sym(dT*R.T)\n",
    "# display(kappa)"
   ]
  },
  {
   "cell_type": "markdown",
   "metadata": {},
   "source": [
    "#### Axial Strain"
   ]
  },
  {
   "cell_type": "code",
   "execution_count": 11,
   "metadata": {
    "collapsed": false
   },
   "outputs": [
    {
     "ename": "SyntaxError",
     "evalue": "invalid syntax (<ipython-input-11-97695ad103bf>, line 1)",
     "output_type": "error",
     "traceback": [
      "\u001b[0;36m  File \u001b[0;32m\"<ipython-input-11-97695ad103bf>\"\u001b[0;36m, line \u001b[0;32m1\u001b[0m\n\u001b[0;31m    epsilon =\u001b[0m\n\u001b[0m              ^\u001b[0m\n\u001b[0;31mSyntaxError\u001b[0m\u001b[0;31m:\u001b[0m invalid syntax\n"
     ]
    }
   ],
   "source": [
    "epsilon = "
   ]
  },
  {
   "cell_type": "code",
   "execution_count": 12,
   "metadata": {
    "collapsed": false
   },
   "outputs": [
    {
     "data": {
      "text/latex": [
       "$$\\left[\\begin{matrix}\\frac{1}{4} & 0 & 0 & - \\frac{1}{4} & 0 & 0\\\\0 & \\frac{1}{4} & 0 & 0 & - \\frac{1}{4} & 0\\\\0 & 0 & \\frac{1}{4} & 0 & 0 & - \\frac{1}{4}\\\\- \\frac{1}{4} & 0 & 0 & \\frac{1}{4} & 0 & 0\\\\0 & - \\frac{1}{4} & 0 & 0 & \\frac{1}{4} & 0\\\\0 & 0 & - \\frac{1}{4} & 0 & 0 & \\frac{1}{4}\\end{matrix}\\right]$$"
      ],
      "text/plain": [
       "⎡1/4    0     0    -1/4   0     0  ⎤\n",
       "⎢                                  ⎥\n",
       "⎢ 0    1/4    0     0    -1/4   0  ⎥\n",
       "⎢                                  ⎥\n",
       "⎢ 0     0    1/4    0     0    -1/4⎥\n",
       "⎢                                  ⎥\n",
       "⎢-1/4   0     0    1/4    0     0  ⎥\n",
       "⎢                                  ⎥\n",
       "⎢ 0    -1/4   0     0    1/4    0  ⎥\n",
       "⎢                                  ⎥\n",
       "⎣ 0     0    -1/4   0     0    1/4 ⎦"
      ]
     },
     "execution_count": 12,
     "metadata": {},
     "output_type": "execute_result"
    }
   ],
   "source": [
    "H.diff(x).T*H.diff(x)"
   ]
  },
  {
   "cell_type": "code",
   "execution_count": null,
   "metadata": {
    "collapsed": false
   },
   "outputs": [],
   "source": [
    "# Test my Axial Function\n",
    "# A = sym.MatrixSymbol('A',3,3)\n",
    "# A = sym.Matrix(A)\n",
    "# display(A)\n",
    "# Skew_sym(Axial_sym(A)) - 1/2*(A - A.T)"
   ]
  },
  {
   "cell_type": "code",
   "execution_count": null,
   "metadata": {
    "collapsed": true
   },
   "outputs": [],
   "source": []
  },
  {
   "cell_type": "markdown",
   "metadata": {},
   "source": [
    "#### Compute Longitudinal Strain Energy"
   ]
  },
  {
   "cell_type": "code",
   "execution_count": null,
   "metadata": {
    "collapsed": true
   },
   "outputs": [],
   "source": []
  },
  {
   "cell_type": "markdown",
   "metadata": {},
   "source": [
    "#### Compute Transverse Strain Energy"
   ]
  },
  {
   "cell_type": "code",
   "execution_count": null,
   "metadata": {
    "collapsed": false
   },
   "outputs": [],
   "source": []
  },
  {
   "cell_type": "markdown",
   "metadata": {},
   "source": [
    "#### Compute Internal Forces $Q_e = \\frac{\\partial U}{\\partial e}$"
   ]
  },
  {
   "cell_type": "code",
   "execution_count": null,
   "metadata": {
    "collapsed": false
   },
   "outputs": [],
   "source": []
  },
  {
   "cell_type": "markdown",
   "metadata": {},
   "source": [
    "### Applied and body force vector"
   ]
  },
  {
   "cell_type": "code",
   "execution_count": null,
   "metadata": {
    "collapsed": false
   },
   "outputs": [],
   "source": []
  }
 ],
 "metadata": {
  "kernelspec": {
   "display_name": "Python 3",
   "language": "python",
   "name": "python3"
  },
  "language_info": {
   "codemirror_mode": {
    "name": "ipython",
    "version": 3
   },
   "file_extension": ".py",
   "mimetype": "text/x-python",
   "name": "python",
   "nbconvert_exporter": "python",
   "pygments_lexer": "ipython3",
   "version": "3.4.3"
  }
 },
 "nbformat": 4,
 "nbformat_minor": 0
}

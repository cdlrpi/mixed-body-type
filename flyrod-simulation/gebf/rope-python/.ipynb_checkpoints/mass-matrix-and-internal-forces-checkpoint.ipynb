{
 "metadata": {
  "name": "",
  "signature": "sha256:2a330fa47d61f2d75f21f49b003556c71c4dc64b0690535b03cb94e69fe9e3e2"
 },
 "nbformat": 3,
 "nbformat_minor": 0,
 "worksheets": [
  {
   "cells": [
    {
     "cell_type": "markdown",
     "metadata": {},
     "source": [
      "# 2D - Beam Element (2 node): This notebook computes the mass matrix and internal forces and outputs them for later use"
     ]
    },
    {
     "cell_type": "code",
     "collapsed": false,
     "input": [
      "import numpy as np\n",
      "import scipy as sp\n",
      "import sympy as sym\n",
      "import pickle\n",
      "\n",
      "from sympy import cos, sin\n",
      "\n",
      "from IPython.display import display\n",
      "\n",
      "from sympy import init_printing\n",
      "init_printing(use_latex=True)"
     ],
     "language": "python",
     "metadata": {},
     "outputs": [],
     "prompt_number": 1
    },
    {
     "cell_type": "markdown",
     "metadata": {},
     "source": [
      "#### Define symbolic quantites for coordinates"
     ]
    },
    {
     "cell_type": "code",
     "collapsed": false,
     "input": [
      "# nodal positons, velocities, and accelerations\n",
      "\"\"\"\n",
      "    theta: rotation of cross-section in the z-plane\n",
      "    theta = [theta1 theta2]\n",
      "    \n",
      "    u: deformation\n",
      "    u = [u1x u1y u2x u2y]\n",
      "    \n",
      "    r = [u theta]\n",
      "\"\"\"\n",
      "\n",
      "# Beam coordinates\n",
      "alpha = sym.Matrix(sym.symarray('alpha',3))\n",
      "\n",
      "# Deformation coordinates\n",
      "u = sym.Matrix(sym.symarray('u',4))\n",
      "u_dot = sym.Matrix(sym.symarray('udot',len(u)))\n",
      "u_ddot = sym.Matrix(sym.symarray('uddot',len(u)))\n",
      "# display(u, u_dot, u_ddot)\n",
      "\n",
      "# Rotation coordinates\n",
      "# theta = sym.Matrix(sym.symarray('theta',1))\n",
      "# theta_dot = sym.Matrix(sym.symarray('thetadot',1))\n",
      "# theta_ddot = sym.Matrix(sym.symarray('thetaddot',1))\n",
      "# display(theta, theta_dot, theta_ddot)\n",
      "\n",
      "# symbolic system parameters \n",
      "E, I, A, rho, s, l, theta, theta_dot, theta_ddot, tau_a = sym.symbols('E I A rho s l, theta, thetadot, thetaddot, tau_a')"
     ],
     "language": "python",
     "metadata": {},
     "outputs": [],
     "prompt_number": 2
    },
    {
     "cell_type": "code",
     "collapsed": false,
     "input": [
      "s = [0, alpha[1], alpha[2]]\n",
      "display(s)"
     ],
     "language": "python",
     "metadata": {},
     "outputs": [
      {
       "latex": [
        "$$\\begin{bmatrix}0, & \\alpha_{1}, & \\alpha_{2}\\end{bmatrix}$$"
       ],
       "metadata": {},
       "output_type": "display_data",
       "png": "[encoded data removed]",
       "text": [
        "[0, \u03b1\u2081, \u03b1\u2082]"
       ]
      }
     ],
     "prompt_number": 3
    },
    {
     "cell_type": "markdown",
     "metadata": {},
     "source": [
      "### Needed Quantities"
     ]
    },
    {
     "cell_type": "code",
     "collapsed": false,
     "input": [
      "# Define the vector locating the point in the cross-section\n",
      "s = [0,alpha[1],alpha[2]]\n",
      "# display(s)\n",
      "\n",
      "# Define the vector locating the point in the cross-section\n",
      "omega = [0,0,theta_dot]\n",
      "# display(omega)\n",
      "\n",
      "\n",
      "# Define the rotation matrix\n",
      "R = sym.Matrix([[cos(theta), sin(theta), 1],[-sin(theta), cos(theta), 1],[0,0,1]])\n",
      "# display(R)"
     ],
     "language": "python",
     "metadata": {},
     "outputs": [],
     "prompt_number": 5
    },
    {
     "cell_type": "markdown",
     "metadata": {},
     "source": [
      "### Define Kinematic Quantities"
     ]
    },
    {
     "cell_type": "code",
     "collapsed": false,
     "input": [
      "# Define velocity of element endpoints (nodes)\n",
      "v = u_dot + R*omega*s"
     ],
     "language": "python",
     "metadata": {},
     "outputs": []
    },
    {
     "cell_type": "markdown",
     "metadata": {},
     "source": [
      "### Compute the Mass Matrix"
     ]
    },
    {
     "cell_type": "code",
     "collapsed": false,
     "input": [
      "# Define shape function for element with one node at each end\n",
      "h = sym.symarray('h', 2)\n",
      "\n",
      "h[0] = 1/2*(1 - s)\n",
      "h[1] = 1/2*(1 + s)\n",
      "\n",
      "# Compute shape function matrix\n",
      "H = sym.expand(sym.Matrix([h[0]*sym.eye(2), h[1]*sym.eye(2)])).T\n",
      "\n",
      "\n",
      "\n",
      "# Define velocity of any point \n",
      "V = H*u_dot.T\n",
      "\n",
      "# Compute partial velocities of the nodes\n",
      "V_r = V_r = sym.Matrix([[sym.diff(V[j],u_dot[i]) \n",
      "                         for j in range(len(V))] for i in range(len(u))]).T"
     ],
     "language": "python",
     "metadata": {},
     "outputs": [],
     "prompt_number": 16
    },
    {
     "cell_type": "markdown",
     "metadata": {},
     "source": [
      "### Compute Internal forces "
     ]
    },
    {
     "cell_type": "markdown",
     "metadata": {},
     "source": [
      "#### Compute Longitudinal Strain Energy"
     ]
    },
    {
     "cell_type": "code",
     "collapsed": false,
     "input": [],
     "language": "python",
     "metadata": {},
     "outputs": [],
     "prompt_number": 4
    },
    {
     "cell_type": "markdown",
     "metadata": {},
     "source": [
      "#### Compute Transverse Strain Energy"
     ]
    },
    {
     "cell_type": "code",
     "collapsed": false,
     "input": [],
     "language": "python",
     "metadata": {},
     "outputs": [],
     "prompt_number": 5
    },
    {
     "cell_type": "markdown",
     "metadata": {},
     "source": [
      "#### Compute Internal Forces $Q_e = \\frac{\\partial U}{\\partial e}$"
     ]
    },
    {
     "cell_type": "code",
     "collapsed": false,
     "input": [],
     "language": "python",
     "metadata": {},
     "outputs": [],
     "prompt_number": 6
    },
    {
     "cell_type": "markdown",
     "metadata": {},
     "source": [
      "### Applied and body force vector"
     ]
    },
    {
     "cell_type": "code",
     "collapsed": false,
     "input": [],
     "language": "python",
     "metadata": {},
     "outputs": [],
     "prompt_number": 7
    }
   ],
   "metadata": {}
  }
 ]
}
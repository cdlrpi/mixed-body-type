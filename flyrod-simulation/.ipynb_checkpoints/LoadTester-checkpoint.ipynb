{
 "cells": [
  {
   "cell_type": "code",
   "execution_count": 1,
   "metadata": {
    "collapsed": true
   },
   "outputs": [],
   "source": [
    "import numpy as np\n",
    "import sympy as sym\n",
    "import pickle\n",
    "import MultiBodyFuncts as MBF\n",
    "\n",
    "from IPython.display import display\n",
    "\n",
    "from numpy.linalg import inv"
   ]
  },
  {
   "cell_type": "code",
   "execution_count": 2,
   "metadata": {
    "collapsed": true
   },
   "outputs": [],
   "source": [
    "# number of bodies (elements)\n",
    "n = 1\n",
    "\n",
    "# Physical Properties\n",
    "area   =  np.pi*0.01**2\n",
    "inertia   =  1.215e-8\n",
    "L   =  1.2\n",
    "length   =  L/n\n",
    "\n",
    "# Material Properties\n",
    "modulus   =  0.7e6\n",
    "density =  5540"
   ]
  },
  {
   "cell_type": "code",
   "execution_count": null,
   "metadata": {
    "collapsed": true
   },
   "outputs": [],
   "source": [
    "# start the rope from the horizontal \n",
    "# Compute initial generalized coordinates\n",
    "'''q = ['u_1x','u_1y',theta_1,'u_2x','u_2y','theta_2']'''\n",
    "stateGEBF = np.array([[0,0,0,0,0,0,0,0] \n",
    "             for i in range(1,n+1)])\n",
    "print(stateGEBF)"
   ]
  },
  {
   "cell_type": "code",
   "execution_count": 3,
   "metadata": {
    "collapsed": true
   },
   "outputs": [],
   "source": [
    " # re-make symbols for proper substitution\n",
    "q = sym.Matrix(sym.symarray('q',8))\n",
    "# symbolic system parameters \n",
    "E, I, A, rho, l, = sym.symbols('E I A rho l')\n"
   ]
  },
  {
   "cell_type": "code",
   "execution_count": 4,
   "metadata": {
    "collapsed": false
   },
   "outputs": [
    {
     "data": {
      "text/plain": [
       "Matrix([\n",
       "[             0.071683704654003,                              0,                  0, -0.000857929817922275*cos(q_3),             0.0790901390831989,                              0,                  0, -0.000946572013131956*cos(q_7)],\n",
       "[                             0,              0.071683704654003,                  0, -0.000857929817922275*sin(q_3),                              0,             0.0790901390831989,                  0, -0.000946572013131956*sin(q_7)],\n",
       "[                             0,                              0,  0.071683704654003,                              0,                              0,                              0, 0.0790901390831989,                              0],\n",
       "[-0.000857929817922275*cos(q_3), -0.000857929817922275*sin(q_3),                  0,                              0, -0.000946572013131956*cos(q_3), -0.000946572013131956*sin(q_3),                  0,                              0],\n",
       "[            0.0790901390831989,                              0,                  0, -0.000946572013131956*cos(q_3),             0.0875546355737085,                              0,                  0,  -0.00104787737908588*cos(q_7)],\n",
       "[                             0,             0.0790901390831989,                  0, -0.000946572013131956*sin(q_3),                              0,             0.0875546355737085,                  0,  -0.00104787737908588*sin(q_7)],\n",
       "[                             0,                              0, 0.0790901390831989,                              0,                              0,                              0, 0.0875546355737085,                              0],\n",
       "[-0.000946572013131956*cos(q_7), -0.000946572013131956*sin(q_7),                  0,                              0,  -0.00104787737908588*cos(q_7),  -0.00104787737908588*sin(q_7),                  0,                              0]])"
      ]
     },
     "metadata": {},
     "output_type": "display_data"
    },
    {
     "ename": "NameError",
     "evalue": "name 'self' is not defined",
     "output_type": "error",
     "traceback": [
      "\u001b[0;31m---------------------------------------------------------------------------\u001b[0m",
      "\u001b[0;31mNameError\u001b[0m                                 Traceback (most recent call last)",
      "\u001b[0;32m<ipython-input-4-fe0ee146a81e>\u001b[0m in \u001b[0;36m<module>\u001b[0;34m()\u001b[0m\n\u001b[1;32m      5\u001b[0m \u001b[0;34m\u001b[0m\u001b[0m\n\u001b[1;32m      6\u001b[0m \u001b[0;31m# load the body and applied force vector (this still has sympolic 'e' values)\u001b[0m\u001b[0;34m\u001b[0m\u001b[0;34m\u001b[0m\u001b[0m\n\u001b[0;32m----> 7\u001b[0;31m \u001b[0mself\u001b[0m\u001b[0;34m.\u001b[0m\u001b[0mbeta\u001b[0m \u001b[0;34m=\u001b[0m \u001b[0mpickle\u001b[0m\u001b[0;34m.\u001b[0m\u001b[0mload\u001b[0m\u001b[0;34m(\u001b[0m \u001b[0mopen\u001b[0m\u001b[0;34m(\u001b[0m \u001b[0;34m\"gebf-force-vector.dump\"\u001b[0m\u001b[0;34m,\u001b[0m \u001b[0;34m\"rb\"\u001b[0m \u001b[0;34m)\u001b[0m \u001b[0;34m)\u001b[0m\u001b[0;34m.\u001b[0m\u001b[0msubs\u001b[0m\u001b[0;34m(\u001b[0m\u001b[0;34m[\u001b[0m\u001b[0;34m(\u001b[0m\u001b[0mE\u001b[0m\u001b[0;34m,\u001b[0m \u001b[0mmodulus\u001b[0m\u001b[0;34m)\u001b[0m\u001b[0;34m,\u001b[0m \u001b[0;34m(\u001b[0m\u001b[0mA\u001b[0m\u001b[0;34m,\u001b[0m \u001b[0marea\u001b[0m\u001b[0;34m)\u001b[0m\u001b[0;34m,\u001b[0m                                                                    \u001b[0;34m(\u001b[0m\u001b[0mI\u001b[0m\u001b[0;34m,\u001b[0m \u001b[0minertia\u001b[0m\u001b[0;34m)\u001b[0m\u001b[0;34m,\u001b[0m \u001b[0;34m(\u001b[0m\u001b[0mrho\u001b[0m\u001b[0;34m,\u001b[0m \u001b[0mdensity\u001b[0m\u001b[0;34m)\u001b[0m\u001b[0;34m,\u001b[0m \u001b[0;34m(\u001b[0m\u001b[0ml\u001b[0m\u001b[0;34m,\u001b[0m \u001b[0mlength\u001b[0m\u001b[0;34m)\u001b[0m\u001b[0;34m]\u001b[0m\u001b[0;34m)\u001b[0m\u001b[0;34m\u001b[0m\u001b[0m\n\u001b[0m\u001b[1;32m      8\u001b[0m \u001b[0mdisplay\u001b[0m\u001b[0;34m(\u001b[0m\u001b[0mbeta\u001b[0m\u001b[0;34m)\u001b[0m\u001b[0;34m\u001b[0m\u001b[0m\n",
      "\u001b[0;31mNameError\u001b[0m: name 'self' is not defined"
     ]
    }
   ],
   "source": [
    "# Load symbolic mass matrix\n",
    "M = pickle.load( open( \"gebf-mass-matrix.dump\", \"rb\" ) ).subs([(A, area), (l, length), (rho, density)])\n",
    "M.shape\n",
    "display(M)\n",
    "\n",
    "# load the body and applied force vector (this still has sympolic 'e' values)\n",
    "self.beta = pickle.load( open( \"gebf-force-vector.dump\", \"rb\" ) ).subs([(E, modulus), (A, area), \\\n",
    "                                                                   (I, inertia), (rho, density), (l, length)])\n",
    "display(beta)"
   ]
  },
  {
   "cell_type": "code",
   "execution_count": null,
   "metadata": {
    "collapsed": true
   },
   "outputs": [],
   "source": []
  }
 ],
 "metadata": {
  "kernelspec": {
   "display_name": "Python 3",
   "language": "python",
   "name": "python3"
  },
  "language_info": {
   "codemirror_mode": {
    "name": "ipython",
    "version": 3
   },
   "file_extension": ".py",
   "mimetype": "text/x-python",
   "name": "python",
   "nbconvert_exporter": "python",
   "pygments_lexer": "ipython3",
   "version": "3.4.3"
  }
 },
 "nbformat": 4,
 "nbformat_minor": 0
}

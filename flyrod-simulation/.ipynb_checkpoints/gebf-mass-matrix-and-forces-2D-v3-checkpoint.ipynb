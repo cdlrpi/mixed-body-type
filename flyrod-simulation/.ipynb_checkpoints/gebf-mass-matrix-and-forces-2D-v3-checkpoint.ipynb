{
 "cells": [
  {
   "cell_type": "markdown",
   "metadata": {},
   "source": [
    "#Beam Element - This notebook computes the mass-matrix and body-forces for later use"
   ]
  },
  {
   "cell_type": "markdown",
   "metadata": {},
   "source": [
    "\n",
    "1. 2D beam generalized coordinates (1 rotation 2 displacements) (Reduced dimensions so all matricies are subsequently invertible, Mii = 0 if some dof's are accounted for but  unused)\n",
    "2. Interpolation of roataion matricies WITHOUT orthogonalization (sympy struggling with too much algebra)\n",
    "3. Square(?) cross-section with dimension 'r'"
   ]
  },
  {
   "cell_type": "code",
   "execution_count": 1,
   "metadata": {
    "collapsed": false
   },
   "outputs": [],
   "source": [
    "import numpy as np\n",
    "import scipy as sp\n",
    "import sympy as sym\n",
    "import pickle\n",
    "\n",
    "from scipy import linalg\n",
    "from sympy import mpmath\n",
    "from sympy import cos, sin\n",
    "from sympy import lambdify\n",
    "\n",
    "from IPython.display import display\n",
    "from __future__ import division\n",
    "from sympy.interactive import printing\n",
    "printing.init_printing(use_latex='mathjax')\n",
    "np.set_printoptions(precision=4,suppress=True)\n",
    "\n",
    "import matplotlib.pyplot as plt\n",
    "%matplotlib inline"
   ]
  },
  {
   "cell_type": "markdown",
   "metadata": {},
   "source": [
    "#### Define Needed Functions"
   ]
  },
  {
   "cell_type": "code",
   "execution_count": 2,
   "metadata": {
    "collapsed": false
   },
   "outputs": [],
   "source": [
    "def Skew_sym(v):\n",
    "    \"\"\"\n",
    "    This function returns the skew symetric matrix \n",
    "    of the vector 'v' to affect the cross product of 'v'x'u'\n",
    "    \"\"\"\n",
    "    v_matrix = sym.Matrix([[  0 , -v[2]],\n",
    "                          [v[2],     0]])\n",
    "    return v_matrix"
   ]
  },
  {
   "cell_type": "code",
   "execution_count": 3,
   "metadata": {
    "collapsed": true
   },
   "outputs": [],
   "source": [
    "def Axial_sym(A):\n",
    "    '''\n",
    "    This funtcion returns the vector of the skew-symmectric matrix in 2D\n",
    "    '''\n",
    "    a_vec = 1/2*sym.Matrix([A[1,0] - A[0,1]])\n",
    "    return a_vec"
   ]
  },
  {
   "cell_type": "code",
   "execution_count": 4,
   "metadata": {
    "collapsed": false
   },
   "outputs": [],
   "source": [
    "def Rotate_sym(theta):\n",
    "    \"\"\"\n",
    "    This function returns the symbolic rotation matrix \n",
    "    for the simple 2D-rotation about the third axis\n",
    "    \"\"\"\n",
    "    R = sym.Matrix([[cos(theta),-sin(theta)],\n",
    "                    [sin(theta), cos(theta)]])\n",
    "    return R"
   ]
  },
  {
   "cell_type": "markdown",
   "metadata": {},
   "source": [
    "#### Define symbolic quantites"
   ]
  },
  {
   "cell_type": "code",
   "execution_count": 5,
   "metadata": {
    "collapsed": false
   },
   "outputs": [],
   "source": [
    "# symbolic system parameters \n",
    "E, G, I, A, rho, x, l, r, g, pi = sym.symbols('E G I A rho x l r g pi')\n",
    "\n",
    "# Kinematic values of previos nodes (generic)\n",
    "# e.g., omega_node  = omega + qdot\n",
    "theta = sym.Matrix(['theta_1','theta_2'])\n",
    "theta_dot = sym.Matrix(['thetadot_1','thetadot_2'])\n",
    "theta_ddot = sym.Matrix(['thetaddot_1','thetaddot_2'])\n",
    "omega = sym.Matrix(['omega_1','omega_2'])\n",
    "alpha = sym.Matrix(['alpha_1','alpha_2'])\n",
    "\n",
    "# coordinates of the point in the 2D cross-section\n",
    "# of nodes one and two \n",
    "s1 = sym.Matrix(['r_2','r_3'])\n",
    "s2 = sym.Matrix(['r_2','r_3'])\n",
    "s = sym.Matrix.vstack(s1,s2)\n",
    "\n",
    "# generalized coordinates\n",
    "# one rotation and two displacements per-node (two nodes per element)\n",
    "# in this version generalzied speeds are qdots\n",
    "q = sym.Matrix(sym.symarray('q',6))\n",
    "qdot = sym.Matrix(sym.symarray('qdot',len(q)))\n",
    "qddot = sym.Matrix(sym.symarray('qddot',len(q)))\n",
    "\n",
    "# Deformations of Nodes (u's are not generalized speeds) \n",
    "u = sym.Matrix([q[1:3,0], q[4:6,0]])\n",
    "udot = sym.Matrix([qdot[1:3,0], qdot[4:8,0]])\n",
    "uddot = sym.Matrix([qddot[1:3,0], qddot[4:6,0]])\n",
    "\n",
    "# display([q,qdot,qddot])\n",
    "# display([u,udot,uddot])"
   ]
  },
  {
   "cell_type": "markdown",
   "metadata": {},
   "source": [
    "### Needed Matrix Quantities"
   ]
  },
  {
   "cell_type": "code",
   "execution_count": 6,
   "metadata": {
    "collapsed": false
   },
   "outputs": [],
   "source": [
    "# Kinematics of the 2D planar SINGLE element\n",
    "theta[0] = q[0]\n",
    "theta[1] = q[0] + q[3]\n",
    "theta_dot[0] = qdot[0]\n",
    "theta_dot[1] = qdot[0] + qdot[3]\n",
    "theta_ddot[0] = qddot[0]\n",
    "theta_ddot[1] = qddot[0] + qddot[3]\n",
    "\n",
    "# Rotation Matricies for each node\n",
    "R1 = Rotate_sym(theta[0])\n",
    "R2 = Rotate_sym(theta[1])\n",
    "\n",
    "# Angular Velocities and Accelerations are trivial for the 2D case\n",
    "# For each node\n",
    "omega1_skew = Skew_sym([0,0,theta_dot[0]])\n",
    "omega2_skew = Skew_sym([0,0,theta_dot[1]])\n",
    "alpha1_skew = Skew_sym([0,0,theta_ddot[0]])\n",
    "alpha2_skew = Skew_sym([0,0,theta_ddot[1]])\n",
    "\n",
    "\n",
    "# \"elemental\" rotation matrix\n",
    "R = sym.Matrix.vstack(sym.Matrix.hstack(R1,sym.zeros(2)), \\\n",
    "                      sym.Matrix.hstack(sym.zeros(2),R2))\n",
    "\n",
    "# \"elemental\" angular velocity matrix\n",
    "Omega_skew = sym.Matrix.vstack(sym.Matrix.hstack(omega1_skew,sym.zeros(2)), \\\n",
    "                               sym.Matrix.hstack(sym.zeros(2),omega2_skew))\n",
    "\n",
    "# \"elemental\" angular acceleration matrix\n",
    "Alpha_skew = sym.Matrix.vstack(sym.Matrix.hstack(alpha1_skew,sym.zeros(2)), \\\n",
    "                               sym.Matrix.hstack(sym.zeros(2),alpha2_skew))"
   ]
  },
  {
   "cell_type": "markdown",
   "metadata": {},
   "source": [
    "### Define Kinematics"
   ]
  },
  {
   "cell_type": "code",
   "execution_count": 7,
   "metadata": {
    "collapsed": false
   },
   "outputs": [
    {
     "name": "stdout",
     "output_type": "stream",
     "text": [
      "v = \n"
     ]
    },
    {
     "data": {
      "text/latex": [
       "$$\\left[\\begin{matrix}- \\dot{q}_{0} r_{2} \\sin{\\left (q_{0} \\right )} - \\dot{q}_{0} r_{3} \\cos{\\left (q_{0} \\right )} + \\dot{q}_{1}\\\\\\dot{q}_{0} r_{2} \\cos{\\left (q_{0} \\right )} - \\dot{q}_{0} r_{3} \\sin{\\left (q_{0} \\right )} + \\dot{q}_{2}\\\\\\dot{q}_{4} - r_{2} \\left(\\dot{q}_{0} + \\dot{q}_{3}\\right) \\sin{\\left (q_{0} + q_{3} \\right )} - r_{3} \\left(\\dot{q}_{0} + \\dot{q}_{3}\\right) \\cos{\\left (q_{0} + q_{3} \\right )}\\\\\\dot{q}_{5} + r_{2} \\left(\\dot{q}_{0} + \\dot{q}_{3}\\right) \\cos{\\left (q_{0} + q_{3} \\right )} - r_{3} \\left(\\dot{q}_{0} + \\dot{q}_{3}\\right) \\sin{\\left (q_{0} + q_{3} \\right )}\\end{matrix}\\right]$$"
      ],
      "text/plain": [
       "⎡            -q̇₀⋅r₂⋅sin(q₀) - q̇₀⋅r₃⋅cos(q₀) + q̇₁             ⎤\n",
       "⎢                                                               ⎥\n",
       "⎢             q̇₀⋅r₂⋅cos(q₀) - q̇₀⋅r₃⋅sin(q₀) + q̇₂             ⎥\n",
       "⎢                                                               ⎥\n",
       "⎢q̇₄ - r₂⋅(q̇₀ + q̇₃)⋅sin(q₀ + q₃) - r₃⋅(q̇₀ + q̇₃)⋅cos(q₀ + q₃)⎥\n",
       "⎢                                                               ⎥\n",
       "⎣q̇₅ + r₂⋅(q̇₀ + q̇₃)⋅cos(q₀ + q₃) - r₃⋅(q̇₀ + q̇₃)⋅sin(q₀ + q₃)⎦"
      ]
     },
     "metadata": {},
     "output_type": "display_data"
    },
    {
     "name": "stdout",
     "output_type": "stream",
     "text": [
      "\n",
      "a = \n"
     ]
    },
    {
     "data": {
      "text/latex": [
       "$$\\left[\\begin{matrix}- \\ddot{q}_{0} r_{2} \\sin{\\left (q_{0} \\right )} - \\ddot{q}_{0} r_{3} \\cos{\\left (q_{0} \\right )} + \\ddot{q}_{1} - \\dot{q}_{0}^{2} r_{2} \\cos{\\left (q_{0} \\right )} + \\dot{q}_{0}^{2} r_{3} \\sin{\\left (q_{0} \\right )}\\\\\\ddot{q}_{0} r_{2} \\cos{\\left (q_{0} \\right )} - \\ddot{q}_{0} r_{3} \\sin{\\left (q_{0} \\right )} + \\ddot{q}_{2} - \\dot{q}_{0}^{2} r_{2} \\sin{\\left (q_{0} \\right )} - \\dot{q}_{0}^{2} r_{3} \\cos{\\left (q_{0} \\right )}\\\\\\ddot{q}_{4} - r_{2} \\left(\\ddot{q}_{0} + \\ddot{q}_{3}\\right) \\sin{\\left (q_{0} + q_{3} \\right )} - r_{2} \\left(\\dot{q}_{0} + \\dot{q}_{3}\\right)^{2} \\cos{\\left (q_{0} + q_{3} \\right )} - r_{3} \\left(\\ddot{q}_{0} + \\ddot{q}_{3}\\right) \\cos{\\left (q_{0} + q_{3} \\right )} + r_{3} \\left(\\dot{q}_{0} + \\dot{q}_{3}\\right)^{2} \\sin{\\left (q_{0} + q_{3} \\right )}\\\\\\ddot{q}_{5} + r_{2} \\left(\\ddot{q}_{0} + \\ddot{q}_{3}\\right) \\cos{\\left (q_{0} + q_{3} \\right )} - r_{2} \\left(\\dot{q}_{0} + \\dot{q}_{3}\\right)^{2} \\sin{\\left (q_{0} + q_{3} \\right )} - r_{3} \\left(\\ddot{q}_{0} + \\ddot{q}_{3}\\right) \\sin{\\left (q_{0} + q_{3} \\right )} - r_{3} \\left(\\dot{q}_{0} + \\dot{q}_{3}\\right)^{2} \\cos{\\left (q_{0} + q_{3} \\right )}\\end{matrix}\\right]$$"
      ],
      "text/plain": [
       "⎡                                                                     2       \n",
       "⎢                         -q̈₀⋅r₂⋅sin(q₀) - q̈₀⋅r₃⋅cos(q₀) + q̈₁ - q̇₀ ⋅r₂⋅cos\n",
       "⎢                                                                             \n",
       "⎢                                                                     2       \n",
       "⎢                          q̈₀⋅r₂⋅cos(q₀) - q̈₀⋅r₃⋅sin(q₀) + q̈₂ - q̇₀ ⋅r₂⋅sin\n",
       "⎢                                                                             \n",
       "⎢                                                  2                          \n",
       "⎢q̈₄ - r₂⋅(q̈₀ + q̈₃)⋅sin(q₀ + q₃) - r₂⋅(q̇₀ + q̇₃) ⋅cos(q₀ + q₃) - r₃⋅(q̈₀ + \n",
       "⎢                                                                             \n",
       "⎢                                                  2                          \n",
       "⎣q̈₅ + r₂⋅(q̈₀ + q̈₃)⋅cos(q₀ + q₃) - r₂⋅(q̇₀ + q̇₃) ⋅sin(q₀ + q₃) - r₃⋅(q̈₀ + \n",
       "\n",
       "          2                                     ⎤\n",
       "(q₀) + q̇₀ ⋅r₃⋅sin(q₀)                          ⎥\n",
       "                                                ⎥\n",
       "          2                                     ⎥\n",
       "(q₀) - q̇₀ ⋅r₃⋅cos(q₀)                          ⎥\n",
       "                                                ⎥\n",
       "                                  2             ⎥\n",
       "q̈₃)⋅cos(q₀ + q₃) + r₃⋅(q̇₀ + q̇₃) ⋅sin(q₀ + q₃)⎥\n",
       "                                                ⎥\n",
       "                                  2             ⎥\n",
       "q̈₃)⋅sin(q₀ + q₃) - r₃⋅(q̇₀ + q̇₃) ⋅cos(q₀ + q₃)⎦"
      ]
     },
     "metadata": {},
     "output_type": "display_data"
    }
   ],
   "source": [
    "# Define velocity of element endpoints (nodes)\n",
    "v = sym.simplify(udot + R*Omega_skew*s)\n",
    "print('v = ')\n",
    "display(v)\n",
    "\n",
    "# Define acceleration of element endpoints (nodes)\n",
    "a = sym.simplify(uddot + R*Omega_skew*Omega_skew*s + R*Alpha_skew*s)\n",
    "print('\\na = ')\n",
    "display(a)"
   ]
  },
  {
   "cell_type": "markdown",
   "metadata": {},
   "source": [
    "### Compute the Mass Matrix"
   ]
  },
  {
   "cell_type": "code",
   "execution_count": 80,
   "metadata": {
    "collapsed": false,
    "scrolled": true
   },
   "outputs": [
    {
     "name": "stdout",
     "output_type": "stream",
     "text": [
      "\n",
      "H = \n"
     ]
    },
    {
     "data": {
      "text/latex": [
       "$$\\left[\\begin{matrix}- \\frac{x}{2} + \\frac{1}{2} & 0 & \\frac{x}{2} + \\frac{1}{2} & 0\\\\0 & - \\frac{x}{2} + \\frac{1}{2} & 0 & \\frac{x}{2} + \\frac{1}{2}\\end{matrix}\\right]$$"
      ],
      "text/plain": [
       "⎡  x   1           x   1       ⎤\n",
       "⎢- ─ + ─     0     ─ + ─    0  ⎥\n",
       "⎢  2   2           2   2       ⎥\n",
       "⎢                              ⎥\n",
       "⎢           x   1         x   1⎥\n",
       "⎢   0     - ─ + ─    0    ─ + ─⎥\n",
       "⎣           2   2         2   2⎦"
      ]
     },
     "metadata": {},
     "output_type": "display_data"
    },
    {
     "name": "stdout",
     "output_type": "stream",
     "text": [
      "\n",
      "V = \n"
     ]
    },
    {
     "data": {
      "text/latex": [
       "$$\\left[\\begin{matrix}\\left(- \\frac{x}{2} + \\frac{1}{2}\\right) \\left(- \\dot{q}_{0} r_{2} \\sin{\\left (q_{0} \\right )} - \\dot{q}_{0} r_{3} \\cos{\\left (q_{0} \\right )} + \\dot{q}_{1}\\right) + \\left(\\frac{x}{2} + \\frac{1}{2}\\right) \\left(\\dot{q}_{4} - r_{2} \\left(\\dot{q}_{0} + \\dot{q}_{3}\\right) \\sin{\\left (q_{0} + q_{3} \\right )} - r_{3} \\left(\\dot{q}_{0} + \\dot{q}_{3}\\right) \\cos{\\left (q_{0} + q_{3} \\right )}\\right)\\\\\\left(- \\frac{x}{2} + \\frac{1}{2}\\right) \\left(\\dot{q}_{0} r_{2} \\cos{\\left (q_{0} \\right )} - \\dot{q}_{0} r_{3} \\sin{\\left (q_{0} \\right )} + \\dot{q}_{2}\\right) + \\left(\\frac{x}{2} + \\frac{1}{2}\\right) \\left(\\dot{q}_{5} + r_{2} \\left(\\dot{q}_{0} + \\dot{q}_{3}\\right) \\cos{\\left (q_{0} + q_{3} \\right )} - r_{3} \\left(\\dot{q}_{0} + \\dot{q}_{3}\\right) \\sin{\\left (q_{0} + q_{3} \\right )}\\right)\\end{matrix}\\right]$$"
      ],
      "text/plain": [
       "⎡⎛  x   1⎞                                            ⎛x   1⎞                 \n",
       "⎢⎜- ─ + ─⎟⋅(-q̇₀⋅r₂⋅sin(q₀) - q̇₀⋅r₃⋅cos(q₀) + q̇₁) + ⎜─ + ─⎟⋅(q̇₄ - r₂⋅(q̇₀ +\n",
       "⎢⎝  2   2⎠                                            ⎝2   2⎠                 \n",
       "⎢                                                                             \n",
       "⎢⎛  x   1⎞                                           ⎛x   1⎞                  \n",
       "⎢⎜- ─ + ─⎟⋅(q̇₀⋅r₂⋅cos(q₀) - q̇₀⋅r₃⋅sin(q₀) + q̇₂) + ⎜─ + ─⎟⋅(q̇₅ + r₂⋅(q̇₀ + \n",
       "⎣⎝  2   2⎠                                           ⎝2   2⎠                  \n",
       "\n",
       "                                                 ⎤\n",
       " q̇₃)⋅sin(q₀ + q₃) - r₃⋅(q̇₀ + q̇₃)⋅cos(q₀ + q₃))⎥\n",
       "                                                 ⎥\n",
       "                                                 ⎥\n",
       "                                                 ⎥\n",
       "q̇₃)⋅cos(q₀ + q₃) - r₃⋅(q̇₀ + q̇₃)⋅sin(q₀ + q₃)) ⎥\n",
       "                                                 ⎦"
      ]
     },
     "metadata": {},
     "output_type": "display_data"
    },
    {
     "name": "stdout",
     "output_type": "stream",
     "text": [
      "\n",
      "Vr = \n"
     ]
    },
    {
     "data": {
      "text/latex": [
       "$$\\left[\\begin{matrix}\\frac{1}{2} \\left(x - 1\\right) \\left(r_{2} \\sin{\\left (q_{0} \\right )} + r_{3} \\cos{\\left (q_{0} \\right )}\\right) - \\frac{1}{2} \\left(x + 1\\right) \\left(r_{2} \\sin{\\left (q_{0} + q_{3} \\right )} + r_{3} \\cos{\\left (q_{0} + q_{3} \\right )}\\right) & - \\frac{x}{2} + \\frac{1}{2} & 0 & - \\frac{1}{2} \\left(x + 1\\right) \\left(r_{2} \\sin{\\left (q_{0} + q_{3} \\right )} + r_{3} \\cos{\\left (q_{0} + q_{3} \\right )}\\right) & \\frac{x}{2} + \\frac{1}{2} & 0\\\\\\frac{1}{2} \\left(- x + 1\\right) \\left(r_{2} \\cos{\\left (q_{0} \\right )} - r_{3} \\sin{\\left (q_{0} \\right )}\\right) + \\frac{1}{2} \\left(x + 1\\right) \\left(r_{2} \\cos{\\left (q_{0} + q_{3} \\right )} - r_{3} \\sin{\\left (q_{0} + q_{3} \\right )}\\right) & 0 & - \\frac{x}{2} + \\frac{1}{2} & \\frac{1}{2} \\left(x + 1\\right) \\left(r_{2} \\cos{\\left (q_{0} + q_{3} \\right )} - r_{3} \\sin{\\left (q_{0} + q_{3} \\right )}\\right) & 0 & \\frac{x}{2} + \\frac{1}{2}\\end{matrix}\\right]$$"
      ],
      "text/plain": [
       "⎡(x - 1)⋅(r₂⋅sin(q₀) + r₃⋅cos(q₀))   (x + 1)⋅(r₂⋅sin(q₀ + q₃) + r₃⋅cos(q₀ + q₃\n",
       "⎢───────────────────────────────── - ─────────────────────────────────────────\n",
       "⎢                2                                        2                   \n",
       "⎢                                                                             \n",
       "⎢(-x + 1)⋅(r₂⋅cos(q₀) - r₃⋅sin(q₀))   (x + 1)⋅(r₂⋅cos(q₀ + q₃) - r₃⋅sin(q₀ + q\n",
       "⎢────────────────────────────────── + ────────────────────────────────────────\n",
       "⎣                2                                         2                  \n",
       "\n",
       "))     x   1           -(x + 1)⋅(r₂⋅sin(q₀ + q₃) + r₃⋅cos(q₀ + q₃))   x   1   \n",
       "──   - ─ + ─     0     ─────────────────────────────────────────────  ─ + ─   \n",
       "       2   2                                 2                        2   2   \n",
       "                                                                              \n",
       "₃))             x   1   (x + 1)⋅(r₂⋅cos(q₀ + q₃) - r₃⋅sin(q₀ + q₃))          x\n",
       "───     0     - ─ + ─   ───────────────────────────────────────────     0    ─\n",
       "                2   2                        2                               2\n",
       "\n",
       "    ⎤\n",
       " 0  ⎥\n",
       "    ⎥\n",
       "    ⎥\n",
       "   1⎥\n",
       " + ─⎥\n",
       "   2⎦"
      ]
     },
     "metadata": {},
     "output_type": "display_data"
    }
   ],
   "source": [
    "# Define shape function for element with one node at each end\n",
    "h = sym.symarray('h', 2)\n",
    "\n",
    "h[0] = sym.Rational(1,2)*(1 - x)\n",
    "h[1] = sym.Rational(1,2)*(1 + x)\n",
    "\n",
    "# Compute shape function matrix\n",
    "H = sym.Matrix([h[0]*sym.eye(2), h[1]*sym.eye(2)]).T\n",
    "dHdx = H.diff(x)\n",
    "print('\\nH = ')\n",
    "display(H)\n",
    "\n",
    "# Define position of any point \n",
    "# Rp = H*rp\n",
    "# print('\\nR = ')\n",
    "# display(Rp)\n",
    "\n",
    "# Define velocity of any point \n",
    "Vp = H*v\n",
    "print('\\nV = ')\n",
    "display(Vp)\n",
    "\n",
    "# Define velocity of any point \n",
    "Ap = H*a\n",
    "# print('\\nA = ')\n",
    "# display(Accel)\n",
    "\n",
    "# Compute partial velocities of the nodes\n",
    "Vr = sym.simplify(sym.Matrix([[sym.diff(Vp,qdot) for Vp in Vp] for qdot in qdot]).T)\n",
    "print('\\nVr = ')\n",
    "display(Vr)\n",
    "# print(Vr.shape)\n",
    "\n",
    "# Compute mass matrix\n",
    "M = pi*rho*sym.simplify(sym.Matrix(\n",
    "        [[sym.expand(sym.integrate(Vr[:,i].dot(Ap),('r_2',0,r),('r_3',0,r),(x,0,l))).coeff(qddot[j]) \n",
    "          for i in range(len(qddot))] for j in range(len(qddot))]))"
   ]
  },
  {
   "cell_type": "code",
   "execution_count": 81,
   "metadata": {
    "collapsed": false,
    "scrolled": true
   },
   "outputs": [
    {
     "name": "stdout",
     "output_type": "stream",
     "text": [
      "M_11 = \n"
     ]
    },
    {
     "data": {
      "text/latex": [
       "$$\\left[\\begin{matrix}\\frac{l \\pi}{9} r^{4} \\rho \\left(- l^{2} \\cos{\\left (q_{3} \\right )} + l^{2} + 3 \\cos{\\left (q_{3} \\right )} + 3\\right) & \\frac{l \\pi}{24} \\sqrt{2} r^{3} \\rho \\left(- l^{2} \\sin{\\left (q_{0} + \\frac{\\pi}{4} \\right )} + l^{2} \\sin{\\left (q_{0} + q_{3} + \\frac{\\pi}{4} \\right )} + 3 l \\sin{\\left (q_{0} + \\frac{\\pi}{4} \\right )} - 3 \\sin{\\left (q_{0} + \\frac{\\pi}{4} \\right )} - 3 \\sin{\\left (q_{0} + q_{3} + \\frac{\\pi}{4} \\right )}\\right) & \\frac{l \\pi}{24} \\sqrt{2} r^{3} \\rho \\left(l^{2} \\cos{\\left (q_{0} + \\frac{\\pi}{4} \\right )} - l^{2} \\cos{\\left (q_{0} + q_{3} + \\frac{\\pi}{4} \\right )} - 3 l \\cos{\\left (q_{0} + \\frac{\\pi}{4} \\right )} + 3 \\cos{\\left (q_{0} + \\frac{\\pi}{4} \\right )} + 3 \\cos{\\left (q_{0} + q_{3} + \\frac{\\pi}{4} \\right )}\\right)\\\\\\frac{l \\pi}{24} \\sqrt{2} r^{3} \\rho \\left(- l^{2} \\sin{\\left (q_{0} + \\frac{\\pi}{4} \\right )} + l^{2} \\sin{\\left (q_{0} + q_{3} + \\frac{\\pi}{4} \\right )} + 3 l \\sin{\\left (q_{0} + \\frac{\\pi}{4} \\right )} - 3 \\sin{\\left (q_{0} + \\frac{\\pi}{4} \\right )} - 3 \\sin{\\left (q_{0} + q_{3} + \\frac{\\pi}{4} \\right )}\\right) & \\frac{l \\pi}{12} r^{2} \\rho \\left(l^{2} - 3 l + 3\\right) & 0\\\\\\frac{l \\pi}{24} \\sqrt{2} r^{3} \\rho \\left(l^{2} \\cos{\\left (q_{0} + \\frac{\\pi}{4} \\right )} - l^{2} \\cos{\\left (q_{0} + q_{3} + \\frac{\\pi}{4} \\right )} - 3 l \\cos{\\left (q_{0} + \\frac{\\pi}{4} \\right )} + 3 \\cos{\\left (q_{0} + \\frac{\\pi}{4} \\right )} + 3 \\cos{\\left (q_{0} + q_{3} + \\frac{\\pi}{4} \\right )}\\right) & 0 & \\frac{l \\pi}{12} r^{2} \\rho \\left(l^{2} - 3 l + 3\\right)\\end{matrix}\\right]$$"
      ],
      "text/plain": [
       "⎡                                                                             \n",
       "⎢                                      4   ⎛   2            2                ⎞\n",
       "⎢                                 l⋅π⋅r ⋅ρ⋅⎝- l ⋅cos(q₃) + l  + 3⋅cos(q₃) + 3⎠\n",
       "⎢                                 ────────────────────────────────────────────\n",
       "⎢                                                      9                      \n",
       "⎢                                                                             \n",
       "⎢  ___      3   ⎛   2    ⎛     π⎞    2    ⎛          π⎞          ⎛     π⎞     \n",
       "⎢╲╱ 2 ⋅l⋅π⋅r ⋅ρ⋅⎜- l ⋅sin⎜q₀ + ─⎟ + l ⋅sin⎜q₀ + q₃ + ─⎟ + 3⋅l⋅sin⎜q₀ + ─⎟ - 3⋅\n",
       "⎢               ⎝        ⎝     4⎠         ⎝          4⎠          ⎝     4⎠     \n",
       "⎢─────────────────────────────────────────────────────────────────────────────\n",
       "⎢                                                      24                     \n",
       "⎢                                                                             \n",
       "⎢   ___      3   ⎛ 2    ⎛     π⎞    2    ⎛          π⎞          ⎛     π⎞      \n",
       "⎢ ╲╱ 2 ⋅l⋅π⋅r ⋅ρ⋅⎜l ⋅cos⎜q₀ + ─⎟ - l ⋅cos⎜q₀ + q₃ + ─⎟ - 3⋅l⋅cos⎜q₀ + ─⎟ + 3⋅c\n",
       "⎢                ⎝      ⎝     4⎠         ⎝          4⎠          ⎝     4⎠      \n",
       "⎢ ────────────────────────────────────────────────────────────────────────────\n",
       "⎣                                                      24                     \n",
       "\n",
       "                                     ___      3   ⎛   2    ⎛     π⎞    2    ⎛ \n",
       "                                   ╲╱ 2 ⋅l⋅π⋅r ⋅ρ⋅⎜- l ⋅sin⎜q₀ + ─⎟ + l ⋅sin⎜q\n",
       "                                                  ⎝        ⎝     4⎠         ⎝ \n",
       "                                   ───────────────────────────────────────────\n",
       "                                                                              \n",
       "                                                                              \n",
       "   ⎛     π⎞        ⎛          π⎞⎞                                             \n",
       "sin⎜q₀ + ─⎟ - 3⋅sin⎜q₀ + q₃ + ─⎟⎟                                             \n",
       "   ⎝     4⎠        ⎝          4⎠⎠                                             \n",
       "─────────────────────────────────                                             \n",
       "                                                                              \n",
       "                                                                              \n",
       "  ⎛     π⎞        ⎛          π⎞⎞                                              \n",
       "os⎜q₀ + ─⎟ + 3⋅cos⎜q₀ + q₃ + ─⎟⎟                                              \n",
       "  ⎝     4⎠        ⎝          4⎠⎠                                              \n",
       "────────────────────────────────                                              \n",
       "                                                                              \n",
       "\n",
       "         π⎞          ⎛     π⎞        ⎛     π⎞        ⎛          π⎞⎞    ___    \n",
       "₀ + q₃ + ─⎟ + 3⋅l⋅sin⎜q₀ + ─⎟ - 3⋅sin⎜q₀ + ─⎟ - 3⋅sin⎜q₀ + q₃ + ─⎟⎟  ╲╱ 2 ⋅l⋅π\n",
       "         4⎠          ⎝     4⎠        ⎝     4⎠        ⎝          4⎠⎠           \n",
       "───────────────────────────────────────────────────────────────────  ─────────\n",
       "           24                                                                 \n",
       "                                                                              \n",
       "                                                                              \n",
       "     2   ⎛ 2          ⎞                                                       \n",
       "l⋅π⋅r ⋅ρ⋅⎝l  - 3⋅l + 3⎠                                                       \n",
       "───────────────────────                                                       \n",
       "           12                                                                 \n",
       "                                                                              \n",
       "                                                                              \n",
       "                                                                              \n",
       "                                                                              \n",
       "           0                                                                  \n",
       "                                                                              \n",
       "\n",
       "  3   ⎛ 2    ⎛     π⎞    2    ⎛          π⎞          ⎛     π⎞        ⎛     π⎞ \n",
       "⋅r ⋅ρ⋅⎜l ⋅cos⎜q₀ + ─⎟ - l ⋅cos⎜q₀ + q₃ + ─⎟ - 3⋅l⋅cos⎜q₀ + ─⎟ + 3⋅cos⎜q₀ + ─⎟ \n",
       "      ⎝      ⎝     4⎠         ⎝          4⎠          ⎝     4⎠        ⎝     4⎠ \n",
       "──────────────────────────────────────────────────────────────────────────────\n",
       "                                            24                                \n",
       "                                                                              \n",
       "                                                                              \n",
       "                                                                              \n",
       "                                                                              \n",
       "                                            0                                 \n",
       "                                                                              \n",
       "                                                                              \n",
       "                                                                              \n",
       "                                      2   ⎛ 2          ⎞                      \n",
       "                                 l⋅π⋅r ⋅ρ⋅⎝l  - 3⋅l + 3⎠                      \n",
       "                                 ───────────────────────                      \n",
       "                                            12                                \n",
       "\n",
       "       ⎛          π⎞⎞⎤\n",
       "+ 3⋅cos⎜q₀ + q₃ + ─⎟⎟⎥\n",
       "       ⎝          4⎠⎠⎥\n",
       "─────────────────────⎥\n",
       "                     ⎥\n",
       "                     ⎥\n",
       "                     ⎥\n",
       "                     ⎥\n",
       "                     ⎥\n",
       "                     ⎥\n",
       "                     ⎥\n",
       "                     ⎥\n",
       "                     ⎥\n",
       "                     ⎥\n",
       "                     ⎥\n",
       "                     ⎥\n",
       "                     ⎦"
      ]
     },
     "metadata": {},
     "output_type": "display_data"
    },
    {
     "name": "stdout",
     "output_type": "stream",
     "text": [
      "\n",
      "M_22 = \n"
     ]
    },
    {
     "data": {
      "text/latex": [
       "$$\\left[\\begin{matrix}\\frac{l \\pi}{18} r^{4} \\rho \\left(l^{2} + 3 l + 3\\right) & - \\frac{l \\pi}{24} \\sqrt{2} r^{3} \\rho \\left(l^{2} + 3 l + 3\\right) \\sin{\\left (q_{0} + q_{3} + \\frac{\\pi}{4} \\right )} & \\frac{l \\pi}{24} \\sqrt{2} r^{3} \\rho \\left(l^{2} + 3 l + 3\\right) \\cos{\\left (q_{0} + q_{3} + \\frac{\\pi}{4} \\right )}\\\\- \\frac{l \\pi}{24} \\sqrt{2} r^{3} \\rho \\left(l^{2} + 3 l + 3\\right) \\sin{\\left (q_{0} + q_{3} + \\frac{\\pi}{4} \\right )} & \\frac{l \\pi}{12} r^{2} \\rho \\left(l^{2} + 3 l + 3\\right) & 0\\\\\\frac{l \\pi}{24} \\sqrt{2} r^{3} \\rho \\left(l^{2} + 3 l + 3\\right) \\cos{\\left (q_{0} + q_{3} + \\frac{\\pi}{4} \\right )} & 0 & \\frac{l \\pi}{12} r^{2} \\rho \\left(l^{2} + 3 l + 3\\right)\\end{matrix}\\right]$$"
      ],
      "text/plain": [
       "⎡                                                     ___      3   ⎛ 2        \n",
       "⎢                 4   ⎛ 2          ⎞               -╲╱ 2 ⋅l⋅π⋅r ⋅ρ⋅⎝l  + 3⋅l +\n",
       "⎢            l⋅π⋅r ⋅ρ⋅⎝l  + 3⋅l + 3⎠                                          \n",
       "⎢            ───────────────────────               ───────────────────────────\n",
       "⎢                       18                                                24  \n",
       "⎢                                                                             \n",
       "⎢   ___      3   ⎛ 2          ⎞    ⎛          π⎞                              \n",
       "⎢-╲╱ 2 ⋅l⋅π⋅r ⋅ρ⋅⎝l  + 3⋅l + 3⎠⋅sin⎜q₀ + q₃ + ─⎟                    2   ⎛ 2   \n",
       "⎢                                  ⎝          4⎠               l⋅π⋅r ⋅ρ⋅⎝l  + \n",
       "⎢────────────────────────────────────────────────              ───────────────\n",
       "⎢                       24                                                12  \n",
       "⎢                                                                             \n",
       "⎢   ___      3   ⎛ 2          ⎞    ⎛          π⎞                              \n",
       "⎢ ╲╱ 2 ⋅l⋅π⋅r ⋅ρ⋅⎝l  + 3⋅l + 3⎠⋅cos⎜q₀ + q₃ + ─⎟                              \n",
       "⎢                                  ⎝          4⎠                              \n",
       "⎢ ──────────────────────────────────────────────                          0   \n",
       "⎣                       24                                                    \n",
       "\n",
       "  ⎞    ⎛          π⎞     ___      3   ⎛ 2          ⎞    ⎛          π⎞⎤\n",
       " 3⎠⋅sin⎜q₀ + q₃ + ─⎟   ╲╱ 2 ⋅l⋅π⋅r ⋅ρ⋅⎝l  + 3⋅l + 3⎠⋅cos⎜q₀ + q₃ + ─⎟⎥\n",
       "       ⎝          4⎠                                    ⎝          4⎠⎥\n",
       "─────────────────────  ──────────────────────────────────────────────⎥\n",
       "                                             24                      ⎥\n",
       "                                                                     ⎥\n",
       "                                                                     ⎥\n",
       "       ⎞                                                             ⎥\n",
       "3⋅l + 3⎠                                                             ⎥\n",
       "────────                                     0                       ⎥\n",
       "                                                                     ⎥\n",
       "                                                                     ⎥\n",
       "                                                                     ⎥\n",
       "                                       2   ⎛ 2          ⎞            ⎥\n",
       "                                  l⋅π⋅r ⋅ρ⋅⎝l  + 3⋅l + 3⎠            ⎥\n",
       "                                  ───────────────────────            ⎥\n",
       "                                             12                      ⎦"
      ]
     },
     "metadata": {},
     "output_type": "display_data"
    },
    {
     "name": "stdout",
     "output_type": "stream",
     "text": [
      "\n",
      "M_12 = \n"
     ]
    },
    {
     "data": {
      "text/latex": [
       "$$\\left[\\begin{matrix}\\frac{l \\pi}{18} r^{4} \\rho \\left(- l^{2} \\cos{\\left (q_{3} \\right )} + l^{2} + 3 l + 3 \\cos{\\left (q_{3} \\right )} + 3\\right) & \\frac{l \\pi}{24} \\sqrt{2} r^{3} \\rho \\left(l^{2} \\sin{\\left (q_{0} + \\frac{\\pi}{4} \\right )} - l^{2} \\sin{\\left (q_{0} + q_{3} + \\frac{\\pi}{4} \\right )} - 3 l \\sin{\\left (q_{0} + q_{3} + \\frac{\\pi}{4} \\right )} - 3 \\sin{\\left (q_{0} + \\frac{\\pi}{4} \\right )} - 3 \\sin{\\left (q_{0} + q_{3} + \\frac{\\pi}{4} \\right )}\\right) & \\frac{l \\pi}{24} \\sqrt{2} r^{3} \\rho \\left(- l^{2} \\cos{\\left (q_{0} + \\frac{\\pi}{4} \\right )} + l^{2} \\cos{\\left (q_{0} + q_{3} + \\frac{\\pi}{4} \\right )} + 3 l \\cos{\\left (q_{0} + q_{3} + \\frac{\\pi}{4} \\right )} + 3 \\cos{\\left (q_{0} + \\frac{\\pi}{4} \\right )} + 3 \\cos{\\left (q_{0} + q_{3} + \\frac{\\pi}{4} \\right )}\\right)\\\\\\frac{l \\pi}{24} \\sqrt{2} r^{3} \\rho \\left(l^{2} - 3\\right) \\sin{\\left (q_{0} + q_{3} + \\frac{\\pi}{4} \\right )} & \\frac{l \\pi}{12} r^{2} \\rho \\left(- l^{2} + 3\\right) & 0\\\\\\frac{l \\pi}{24} \\sqrt{2} r^{3} \\rho \\left(- l^{2} + 3\\right) \\cos{\\left (q_{0} + q_{3} + \\frac{\\pi}{4} \\right )} & 0 & \\frac{l \\pi}{12} r^{2} \\rho \\left(- l^{2} + 3\\right)\\end{matrix}\\right]$$"
      ],
      "text/plain": [
       "⎡                                                      ___      3   ⎛ 2    ⎛  \n",
       "⎢     4   ⎛   2            2                      ⎞  ╲╱ 2 ⋅l⋅π⋅r ⋅ρ⋅⎜l ⋅sin⎜q₀\n",
       "⎢l⋅π⋅r ⋅ρ⋅⎝- l ⋅cos(q₃) + l  + 3⋅l + 3⋅cos(q₃) + 3⎠                 ⎝      ⎝  \n",
       "⎢──────────────────────────────────────────────────  ─────────────────────────\n",
       "⎢                        18                                                   \n",
       "⎢                                                                             \n",
       "⎢       ___      3   ⎛ 2    ⎞    ⎛          π⎞                                \n",
       "⎢     ╲╱ 2 ⋅l⋅π⋅r ⋅ρ⋅⎝l  - 3⎠⋅sin⎜q₀ + q₃ + ─⎟                                \n",
       "⎢                                ⎝          4⎠                                \n",
       "⎢     ────────────────────────────────────────                                \n",
       "⎢                        24                                                   \n",
       "⎢                                                                             \n",
       "⎢      ___      3   ⎛   2    ⎞    ⎛          π⎞                               \n",
       "⎢    ╲╱ 2 ⋅l⋅π⋅r ⋅ρ⋅⎝- l  + 3⎠⋅cos⎜q₀ + q₃ + ─⎟                               \n",
       "⎢                                 ⎝          4⎠                               \n",
       "⎢    ──────────────────────────────────────────                               \n",
       "⎣                        24                                                   \n",
       "\n",
       "   π⎞    2    ⎛          π⎞          ⎛          π⎞        ⎛     π⎞        ⎛   \n",
       " + ─⎟ - l ⋅sin⎜q₀ + q₃ + ─⎟ - 3⋅l⋅sin⎜q₀ + q₃ + ─⎟ - 3⋅sin⎜q₀ + ─⎟ - 3⋅sin⎜q₀ \n",
       "   4⎠         ⎝          4⎠          ⎝          4⎠        ⎝     4⎠        ⎝   \n",
       "──────────────────────────────────────────────────────────────────────────────\n",
       "                               24                                             \n",
       "                                                                              \n",
       "                                                                              \n",
       "                           2   ⎛   2    ⎞                                     \n",
       "                      l⋅π⋅r ⋅ρ⋅⎝- l  + 3⎠                                     \n",
       "                      ───────────────────                                     \n",
       "                               12                                             \n",
       "                                                                              \n",
       "                                                                              \n",
       "                                                                              \n",
       "                                                                              \n",
       "                               0                                              \n",
       "                                                                              \n",
       "\n",
       "       π⎞⎞    ___      3   ⎛   2    ⎛     π⎞    2    ⎛          π⎞          ⎛ \n",
       "+ q₃ + ─⎟⎟  ╲╱ 2 ⋅l⋅π⋅r ⋅ρ⋅⎜- l ⋅cos⎜q₀ + ─⎟ + l ⋅cos⎜q₀ + q₃ + ─⎟ + 3⋅l⋅cos⎜q\n",
       "       4⎠⎠                 ⎝        ⎝     4⎠         ⎝          4⎠          ⎝ \n",
       "──────────  ──────────────────────────────────────────────────────────────────\n",
       "                                                                     24       \n",
       "                                                                              \n",
       "                                                                              \n",
       "                                                                              \n",
       "                                                                              \n",
       "                                                                     0        \n",
       "                                                                              \n",
       "                                                                              \n",
       "                                                                              \n",
       "                                                                 2   ⎛   2    \n",
       "                                                            l⋅π⋅r ⋅ρ⋅⎝- l  + 3\n",
       "                                                            ──────────────────\n",
       "                                                                     12       \n",
       "\n",
       "         π⎞        ⎛     π⎞        ⎛          π⎞⎞⎤\n",
       "₀ + q₃ + ─⎟ + 3⋅cos⎜q₀ + ─⎟ + 3⋅cos⎜q₀ + q₃ + ─⎟⎟⎥\n",
       "         4⎠        ⎝     4⎠        ⎝          4⎠⎠⎥\n",
       "─────────────────────────────────────────────────⎥\n",
       "                                                 ⎥\n",
       "                                                 ⎥\n",
       "                                                 ⎥\n",
       "                                                 ⎥\n",
       "                                                 ⎥\n",
       "                                                 ⎥\n",
       "                                                 ⎥\n",
       "                                                 ⎥\n",
       "                                                 ⎥\n",
       "⎞                                                ⎥\n",
       "⎠                                                ⎥\n",
       "─                                                ⎥\n",
       "                                                 ⎦"
      ]
     },
     "metadata": {},
     "output_type": "display_data"
    },
    {
     "name": "stdout",
     "output_type": "stream",
     "text": [
      "\n",
      "M_21.T = \n"
     ]
    },
    {
     "data": {
      "text/latex": [
       "$$\\left[\\begin{matrix}\\frac{l \\pi}{18} r^{4} \\rho \\left(- l^{2} \\cos{\\left (q_{3} \\right )} + l^{2} + 3 l + 3 \\cos{\\left (q_{3} \\right )} + 3\\right) & \\frac{l \\pi}{24} \\sqrt{2} r^{3} \\rho \\left(l^{2} \\sin{\\left (q_{0} + \\frac{\\pi}{4} \\right )} - l^{2} \\sin{\\left (q_{0} + q_{3} + \\frac{\\pi}{4} \\right )} - 3 l \\sin{\\left (q_{0} + q_{3} + \\frac{\\pi}{4} \\right )} - 3 \\sin{\\left (q_{0} + \\frac{\\pi}{4} \\right )} - 3 \\sin{\\left (q_{0} + q_{3} + \\frac{\\pi}{4} \\right )}\\right) & \\frac{l \\pi}{24} \\sqrt{2} r^{3} \\rho \\left(- l^{2} \\cos{\\left (q_{0} + \\frac{\\pi}{4} \\right )} + l^{2} \\cos{\\left (q_{0} + q_{3} + \\frac{\\pi}{4} \\right )} + 3 l \\cos{\\left (q_{0} + q_{3} + \\frac{\\pi}{4} \\right )} + 3 \\cos{\\left (q_{0} + \\frac{\\pi}{4} \\right )} + 3 \\cos{\\left (q_{0} + q_{3} + \\frac{\\pi}{4} \\right )}\\right)\\\\\\frac{l \\pi}{24} \\sqrt{2} r^{3} \\rho \\left(l^{2} - 3\\right) \\sin{\\left (q_{0} + q_{3} + \\frac{\\pi}{4} \\right )} & \\frac{l \\pi}{12} r^{2} \\rho \\left(- l^{2} + 3\\right) & 0\\\\\\frac{l \\pi}{24} \\sqrt{2} r^{3} \\rho \\left(- l^{2} + 3\\right) \\cos{\\left (q_{0} + q_{3} + \\frac{\\pi}{4} \\right )} & 0 & \\frac{l \\pi}{12} r^{2} \\rho \\left(- l^{2} + 3\\right)\\end{matrix}\\right]$$"
      ],
      "text/plain": [
       "⎡                                                      ___      3   ⎛ 2    ⎛  \n",
       "⎢     4   ⎛   2            2                      ⎞  ╲╱ 2 ⋅l⋅π⋅r ⋅ρ⋅⎜l ⋅sin⎜q₀\n",
       "⎢l⋅π⋅r ⋅ρ⋅⎝- l ⋅cos(q₃) + l  + 3⋅l + 3⋅cos(q₃) + 3⎠                 ⎝      ⎝  \n",
       "⎢──────────────────────────────────────────────────  ─────────────────────────\n",
       "⎢                        18                                                   \n",
       "⎢                                                                             \n",
       "⎢       ___      3   ⎛ 2    ⎞    ⎛          π⎞                                \n",
       "⎢     ╲╱ 2 ⋅l⋅π⋅r ⋅ρ⋅⎝l  - 3⎠⋅sin⎜q₀ + q₃ + ─⎟                                \n",
       "⎢                                ⎝          4⎠                                \n",
       "⎢     ────────────────────────────────────────                                \n",
       "⎢                        24                                                   \n",
       "⎢                                                                             \n",
       "⎢      ___      3   ⎛   2    ⎞    ⎛          π⎞                               \n",
       "⎢    ╲╱ 2 ⋅l⋅π⋅r ⋅ρ⋅⎝- l  + 3⎠⋅cos⎜q₀ + q₃ + ─⎟                               \n",
       "⎢                                 ⎝          4⎠                               \n",
       "⎢    ──────────────────────────────────────────                               \n",
       "⎣                        24                                                   \n",
       "\n",
       "   π⎞    2    ⎛          π⎞          ⎛          π⎞        ⎛     π⎞        ⎛   \n",
       " + ─⎟ - l ⋅sin⎜q₀ + q₃ + ─⎟ - 3⋅l⋅sin⎜q₀ + q₃ + ─⎟ - 3⋅sin⎜q₀ + ─⎟ - 3⋅sin⎜q₀ \n",
       "   4⎠         ⎝          4⎠          ⎝          4⎠        ⎝     4⎠        ⎝   \n",
       "──────────────────────────────────────────────────────────────────────────────\n",
       "                               24                                             \n",
       "                                                                              \n",
       "                                                                              \n",
       "                           2   ⎛   2    ⎞                                     \n",
       "                      l⋅π⋅r ⋅ρ⋅⎝- l  + 3⎠                                     \n",
       "                      ───────────────────                                     \n",
       "                               12                                             \n",
       "                                                                              \n",
       "                                                                              \n",
       "                                                                              \n",
       "                                                                              \n",
       "                               0                                              \n",
       "                                                                              \n",
       "\n",
       "       π⎞⎞    ___      3   ⎛   2    ⎛     π⎞    2    ⎛          π⎞          ⎛ \n",
       "+ q₃ + ─⎟⎟  ╲╱ 2 ⋅l⋅π⋅r ⋅ρ⋅⎜- l ⋅cos⎜q₀ + ─⎟ + l ⋅cos⎜q₀ + q₃ + ─⎟ + 3⋅l⋅cos⎜q\n",
       "       4⎠⎠                 ⎝        ⎝     4⎠         ⎝          4⎠          ⎝ \n",
       "──────────  ──────────────────────────────────────────────────────────────────\n",
       "                                                                     24       \n",
       "                                                                              \n",
       "                                                                              \n",
       "                                                                              \n",
       "                                                                              \n",
       "                                                                     0        \n",
       "                                                                              \n",
       "                                                                              \n",
       "                                                                              \n",
       "                                                                 2   ⎛   2    \n",
       "                                                            l⋅π⋅r ⋅ρ⋅⎝- l  + 3\n",
       "                                                            ──────────────────\n",
       "                                                                     12       \n",
       "\n",
       "         π⎞        ⎛     π⎞        ⎛          π⎞⎞⎤\n",
       "₀ + q₃ + ─⎟ + 3⋅cos⎜q₀ + ─⎟ + 3⋅cos⎜q₀ + q₃ + ─⎟⎟⎥\n",
       "         4⎠        ⎝     4⎠        ⎝          4⎠⎠⎥\n",
       "─────────────────────────────────────────────────⎥\n",
       "                                                 ⎥\n",
       "                                                 ⎥\n",
       "                                                 ⎥\n",
       "                                                 ⎥\n",
       "                                                 ⎥\n",
       "                                                 ⎥\n",
       "                                                 ⎥\n",
       "                                                 ⎥\n",
       "                                                 ⎥\n",
       "⎞                                                ⎥\n",
       "⎠                                                ⎥\n",
       "─                                                ⎥\n",
       "                                                 ⎦"
      ]
     },
     "metadata": {},
     "output_type": "display_data"
    }
   ],
   "source": [
    "# print('\\nM = \\n')\n",
    "# display(M)\n",
    "\n",
    "print('M_11 = ')\n",
    "display(M[0:3,0:3])\n",
    "print('\\nM_22 = ')\n",
    "display(M[3:6,3:6])\n",
    "print('\\nM_12 = ')\n",
    "display(M[0:3,3:6])\n",
    "print('\\nM_21.T = ')\n",
    "display(M[3:6,0:3].T)"
   ]
  },
  {
   "cell_type": "code",
   "execution_count": 82,
   "metadata": {
    "collapsed": false
   },
   "outputs": [],
   "source": [
    "# sym.simplify()"
   ]
  },
  {
   "cell_type": "markdown",
   "metadata": {},
   "source": [
    "### Compute Internal forces "
   ]
  },
  {
   "cell_type": "markdown",
   "metadata": {},
   "source": [
    "#### 1. Transverse (Bending) Strain"
   ]
  },
  {
   "cell_type": "code",
   "execution_count": 12,
   "metadata": {
    "collapsed": false
   },
   "outputs": [],
   "source": [
    "# Orthogonal Matricies Not Extracted to Simplify Algebra\n",
    "R_interp = sym.simplify(H*sym.Matrix([R1,R2]))\n",
    "dT = sym.simplify(H.diff(x)*sym.Matrix([R1,R2]))\n",
    "kappa = sym.simplify(sym.Matrix([Axial_sym(dT*R_interp.T),'0','0','0']))\n",
    "# display(kappa)"
   ]
  },
  {
   "cell_type": "code",
   "execution_count": 13,
   "metadata": {
    "collapsed": false,
    "scrolled": true
   },
   "outputs": [
    {
     "data": {
      "text/latex": [
       "$$\\left[\\begin{matrix}\\frac{1}{2} \\left(- x + 1\\right) \\cos{\\left (q_{0} \\right )} + \\frac{1}{2} \\left(x + 1\\right) \\cos{\\left (q_{0} + q_{3} \\right )} & \\frac{1}{2} \\left(x - 1\\right) \\sin{\\left (q_{0} \\right )} - \\frac{1}{2} \\left(x + 1\\right) \\sin{\\left (q_{0} + q_{3} \\right )}\\\\\\frac{1}{2} \\left(- x + 1\\right) \\sin{\\left (q_{0} \\right )} + \\frac{1}{2} \\left(x + 1\\right) \\sin{\\left (q_{0} + q_{3} \\right )} & \\frac{1}{2} \\left(- x + 1\\right) \\cos{\\left (q_{0} \\right )} + \\frac{1}{2} \\left(x + 1\\right) \\cos{\\left (q_{0} + q_{3} \\right )}\\end{matrix}\\right]$$"
      ],
      "text/plain": [
       "⎡(-x + 1)⋅cos(q₀)   (x + 1)⋅cos(q₀ + q₃)  (x - 1)⋅sin(q₀)   (x + 1)⋅sin(q₀ + q\n",
       "⎢──────────────── + ────────────────────  ─────────────── - ──────────────────\n",
       "⎢       2                    2                   2                   2        \n",
       "⎢                                                                             \n",
       "⎢(-x + 1)⋅sin(q₀)   (x + 1)⋅sin(q₀ + q₃)  (-x + 1)⋅cos(q₀)   (x + 1)⋅cos(q₀ + \n",
       "⎢──────────────── + ────────────────────  ──────────────── + ─────────────────\n",
       "⎣       2                    2                   2                    2       \n",
       "\n",
       "₃) ⎤\n",
       "── ⎥\n",
       "   ⎥\n",
       "   ⎥\n",
       "q₃)⎥\n",
       "───⎥\n",
       "   ⎦"
      ]
     },
     "execution_count": 13,
     "metadata": {},
     "output_type": "execute_result"
    }
   ],
   "source": [
    "R_interp"
   ]
  },
  {
   "cell_type": "markdown",
   "metadata": {},
   "source": [
    "#### 2. Longitudinal (Axial) Strian"
   ]
  },
  {
   "cell_type": "code",
   "execution_count": 14,
   "metadata": {
    "collapsed": false
   },
   "outputs": [
    {
     "data": {
      "text/latex": [
       "$$\\left[\\begin{matrix}0\\\\- \\frac{q_{1}}{2} + \\frac{q_{4}}{2} - \\frac{x}{2} \\left(\\cos{\\left (q_{0} \\right )} - \\cos{\\left (q_{0} + q_{3} \\right )}\\right)\\\\0\\\\- \\frac{q_{2}}{2} + \\frac{q_{5}}{2} - \\frac{x}{2} \\left(\\sin{\\left (q_{0} \\right )} - \\sin{\\left (q_{0} + q_{3} \\right )}\\right)\\end{matrix}\\right]$$"
      ],
      "text/plain": [
       "⎡                  0                   ⎤\n",
       "⎢                                      ⎥\n",
       "⎢  q₁   q₄   x⋅(cos(q₀) - cos(q₀ + q₃))⎥\n",
       "⎢- ── + ── - ──────────────────────────⎥\n",
       "⎢  2    2                2             ⎥\n",
       "⎢                                      ⎥\n",
       "⎢                  0                   ⎥\n",
       "⎢                                      ⎥\n",
       "⎢  q₂   q₅   x⋅(sin(q₀) - sin(q₀ + q₃))⎥\n",
       "⎢- ── + ── - ──────────────────────────⎥\n",
       "⎣  2    2                2             ⎦"
      ]
     },
     "metadata": {},
     "output_type": "display_data"
    }
   ],
   "source": [
    "# Define Locations of Centroid\n",
    "x0_B = sym.Matrix(['x','0'])\n",
    "x0 = R_interp*x0_B\n",
    "\n",
    "# Define Newtonian Unit Vector x-dir\n",
    "n1 = sym.Matrix(['1','0'])\n",
    "\n",
    "# Interpolate Displacemnts\n",
    "u_terp = H*u\n",
    "\n",
    "# Derivatives w.r.t longitudinal beam coordinate\n",
    "du = u_terp.diff(x)\n",
    "dx0 = x0.diff(x)\n",
    "\n",
    "# Compute axial strain\n",
    "u_ax = (dx0 + du - R_interp*n1).simplify()\n",
    "epsilon = sym.Matrix(['0', u_ax[0], '0', u_ax[1]])\n",
    "# epsilon = u_ax\n",
    "display(epsilon)"
   ]
  },
  {
   "cell_type": "markdown",
   "metadata": {},
   "source": [
    "#### 3. Compute Internal Forces $Q_e = -\\frac{\\partial U}{\\partial e}$"
   ]
  },
  {
   "cell_type": "code",
   "execution_count": 15,
   "metadata": {
    "collapsed": false,
    "scrolled": true
   },
   "outputs": [],
   "source": [
    "\"\"\"\n",
    "Note: Sympy bug! Integrating a matrix returns a vector!!!\n",
    "\"\"\"\n",
    "# Transverse strain energy\n",
    "kappa_squared = (kappa.T*dHdx.T).dot(dHdx*kappa)\n",
    "Ut = 1/2*sym.integrate(E*I*kappa_squared, (x,0,l))"
   ]
  },
  {
   "cell_type": "code",
   "execution_count": 16,
   "metadata": {
    "collapsed": true
   },
   "outputs": [],
   "source": [
    "G = E/2.6\n",
    "C = sym.Matrix([[E*A, 0],[0, 5/6*G*A]])\n",
    "Ul = 1/2*sym.integrate(epsilon.T*dHdx.T*R_interp*C*R_interp.T*dHdx*epsilon, (x,0,l))[0]\n",
    "# Ul = 1/2*sym.integrate(epsilon.T*R_interp*C*R_interp.T*epsilon, (x,0,l))[0]"
   ]
  },
  {
   "cell_type": "code",
   "execution_count": 17,
   "metadata": {
    "collapsed": false
   },
   "outputs": [],
   "source": [
    "# Compute Total Energy\n",
    "U = Ul + Ut\n",
    "\n",
    "# Compute Internal Force Vector\n",
    "Qe = sym.Matrix([-sym.diff(U,qi) for qi in q])"
   ]
  },
  {
   "cell_type": "markdown",
   "metadata": {},
   "source": [
    "####4. Applied and body force vector"
   ]
  },
  {
   "cell_type": "code",
   "execution_count": 18,
   "metadata": {
    "collapsed": false
   },
   "outputs": [],
   "source": [
    "# Applied forces\n",
    "# Gravity body force\n",
    "fg = g*rho*sym.Matrix([0,-1])\n",
    "\n",
    "# Compute beta\n",
    "beta = sym.Matrix([sym.simplify(sym.integrate(Vr[:,j].dot(fg),('r_2',0,r),('r_3',0,r),(x,0,l)))\n",
    "                   + qe for j,qe in zip(range(len(q)),Qe)])\n",
    "Fg = sym.Matrix([sym.simplify(sym.integrate(Vr[:,j].dot(fg),('r_2',0,r),('r_3',0,r),(x,0,l)))\n",
    "                   for j in range(len(q))])"
   ]
  },
  {
   "cell_type": "code",
   "execution_count": 25,
   "metadata": {
    "collapsed": false
   },
   "outputs": [],
   "source": [
    "pickle.dump( M,    open( \"gebf-mass-matrix.dump\",   \"wb\" ) )\n",
    "pickle.dump( beta, open( \"gebf-force-vector.dump\",  \"wb\" ) )\n",
    "pickle.dump( U,    open( \"gebf-strain-energy.dump\", \"wb\" ) )\n",
    "# pickle.dump(PE, open(\"potential_enrgy\", \"wb\")) "
   ]
  },
  {
   "cell_type": "code",
   "execution_count": 26,
   "metadata": {
    "collapsed": false
   },
   "outputs": [],
   "source": [
    "M_func    = lambdify((E, A, I, r, rho, l, g, pi, q),    M, \"numpy\")\n",
    "beta_func = lambdify((E, A, I, r, rho, l, g, pi, q), beta, \"numpy\")\n",
    "U_func    = lambdify((E, A, I, r, rho, l, g, pi, q),    U, \"numpy\")"
   ]
  },
  {
   "cell_type": "code",
   "execution_count": 27,
   "metadata": {
    "collapsed": false
   },
   "outputs": [],
   "source": [
    "# Debugging functions to trace source of error \n",
    "Qe_func    = lambdify((E, A, I, r, rho, l, g, pi, q),    Qe, \"numpy\")\n",
    "Fg_func    = lambdify((E, A, I, r, rho, l, g, pi, q),    Fg, \"numpy\")\n",
    "Ut_func    = lambdify((E, A, I, r, rho, l, g, pi, q),    Ut, \"numpy\")\n",
    "Ul_func    = lambdify((E, A, I, r, rho, l, g, pi, q),    Ul, \"numpy\")\n",
    "# e2_func    = lambdify((E, A, I, r, rho, l, g, q), epsilon_squared, \"numpy\")"
   ]
  },
  {
   "cell_type": "code",
   "execution_count": 29,
   "metadata": {
    "collapsed": false
   },
   "outputs": [],
   "source": [
    "beta_num = beta_func(0.7e6, 0.0018, 1.215e-8, 0.02393, 5540, 0.12, 9.81, np.pi, np.zeros_like(q))\n",
    "M_num    = M_func(   0.7e6, 0.0018, 1.215e-8, 0.02393, 5540, 0.12, 9.81, np.pi, np.zeros_like(q))\n",
    "U_num    = U_func(   0.7e6, 0.0018, 1.215e-8, 0.02393, 5540, 0.12, 9.81, np.pi, np.zeros_like(q))"
   ]
  },
  {
   "cell_type": "code",
   "execution_count": 36,
   "metadata": {
    "collapsed": false
   },
   "outputs": [],
   "source": [
    "def zeta_func(q):\n",
    "    M_num    = M_func(   0.7e6, 0.0018, 1.215e-8, 0.02393, 5540, 0.12, 9.81, np.pi, q)\n",
    "    M11 = np.array(M_num[0:3,0:3])\n",
    "    M12 = np.array(M_num[0:3,3:6])\n",
    "    M21 = np.array(M_num[3:6,0:3])\n",
    "    M22 = np.array(M_num[3:6,3:6])\n",
    "\n",
    "    # For now use these definitions to cast Fic (constraint forces between GEBF elements) \n",
    "    # into generalized constraint forces\n",
    "    gamma11 = np.eye(3)\n",
    "    gamma12 = np.zeros((3,3))\n",
    "    gamma22 = np.eye(3)\n",
    "    gamma21 = np.zeros((3,3))\n",
    "\n",
    "    # partition beta into lambda13 and lambda23\n",
    "    gamma13 = np.array(beta_num[0:3])\n",
    "    gamma23 = np.array(beta_num[3:6])\n",
    "\n",
    "    # Commonly inverted quantities\n",
    "    iM11 = np.linalg.inv(M11)\n",
    "    iM22 = np.linalg.inv(M22)\n",
    "    Gamma1 = np.linalg.inv(M11 - M12.dot(iM22.dot(M21)))\n",
    "    Gamma2 = np.linalg.inv(M22 - M21.dot(iM11.dot(M12)))\n",
    "\n",
    "    # Compute all terms of the two handle equations\n",
    "    z11 = Gamma1.dot(gamma11 - M12.dot(iM22.dot(gamma21)))\n",
    "    z12 = Gamma1.dot(gamma12 - M12.dot(iM22.dot(gamma22)))\n",
    "    z21 = Gamma2.dot(gamma21 - M21.dot(iM11.dot(gamma11)))\n",
    "    z22 = Gamma2.dot(gamma22 - M21.dot(iM11.dot(gamma12)))\n",
    "\n",
    "    z13 = Gamma1.dot(gamma13 - M12.dot(iM22.dot(gamma23))).reshape((3,1))\n",
    "    z23 = Gamma2.dot(gamma23 - M21.dot(iM11.dot(gamma13))).reshape((3,1))\n",
    "    return M22"
   ]
  },
  {
   "cell_type": "code",
   "execution_count": 58,
   "metadata": {
    "collapsed": false
   },
   "outputs": [],
   "source": [
    "theta = np.linspace(0,2*np.pi,200)                                                                 \n",
    "\n",
    "q0GEBF = [np.array([theta,0,0,0,0,0]).reshape(6,1) for theta in theta]\n",
    "# Ul_theta = np.array([Ul_func(0.7e6, 0.0018, 1.215e-8, 0.02393, 5540, 0.12, 9.81, q0) for q0 in q0GEBF])\n",
    "# Ut_theta = np.array([Ut_func(0.7e6, 0.0018, 1.215e-8, 0.02393, 5540, 0.12, 9.81, q0) for q0 in q0GEBF])\n",
    "# Qe_theta = np.array([np.linalg.norm(Qe_func(0.7e6, 0.0018, 1.215e-8, 0.02393, 5540, 0.12, 9.81, q0)) for q0 in q0GEBF])                                                                   \n",
    "# Fg_theta = np.array([np.linalg.norm(Fg_func(0.7e6, 0.0018, 1.215e-8, 0.02393, 5540, 0.12, 9.81, q0)) for q0 in q0GEBF])                                                                   \n",
    "zeta_theta = np.array([np.linalg.cond(zeta_func(q0)) for q0 in q0GEBF])\n",
    "# M_norm = np.array([np.linalg.norm(M_func(0.7e6, 0.0018, 1.215e-8, 0.02393, 5540, 0.12, 9.81, q0)) for q0 in q0GEBF])\n",
    "M_theta = np.array([M_func(0.7e6, 0.0018, 1.215e-8, 0.02393, 5540, 0.12, 9.81, np.pi, q0) for q0 in q0GEBF])\n"
   ]
  },
  {
   "cell_type": "code",
   "execution_count": 59,
   "metadata": {
    "collapsed": false,
    "scrolled": true
   },
   "outputs": [],
   "source": [
    "# plt.plot(theta/np.pi, Ul_theta, '-g')\n",
    "# plt.show()"
   ]
  },
  {
   "cell_type": "code",
   "execution_count": 60,
   "metadata": {
    "collapsed": false
   },
   "outputs": [],
   "source": [
    "# plt.plot(theta/np.pi, Ut_theta, '-g')\n",
    "# plt.show()"
   ]
  },
  {
   "cell_type": "code",
   "execution_count": 61,
   "metadata": {
    "collapsed": false
   },
   "outputs": [],
   "source": [
    "# plt.plot(theta/np.pi, Qe_theta, '-g')\n",
    "# plt.show()"
   ]
  },
  {
   "cell_type": "code",
   "execution_count": 62,
   "metadata": {
    "collapsed": false
   },
   "outputs": [],
   "source": [
    "# ax = plt.gca()\n",
    "# ax.ticklabel_format(useOffset=False)\n",
    "# plt.semilogy(theta/np.pi, zeta_theta, '-r')\n",
    "# plt.show()"
   ]
  },
  {
   "cell_type": "code",
   "execution_count": 72,
   "metadata": {
    "collapsed": false
   },
   "outputs": [
    {
     "data": {
      "image/png": "[encoded data removed]",
      "text/plain": [
       "<matplotlib.figure.Figure at 0x1086027f0>"
      ]
     },
     "metadata": {},
     "output_type": "display_data"
    }
   ],
   "source": [
    "ax = plt.gca()\n",
    "ax.ticklabel_format(useOffset=False)\n",
    "plt.semilogy(theta/np.pi, M_theta[:,3,3])\n",
    "plt.show()"
   ]
  },
  {
   "cell_type": "code",
   "execution_count": 51,
   "metadata": {
    "collapsed": false
   },
   "outputs": [],
   "source": [
    "M_num = M_func(   0.7e6, 0.0018, 1.215e-8, 0.02393, 5540, 0.12, 9.81, np.pi, q0GEBF[90])"
   ]
  },
  {
   "cell_type": "code",
   "execution_count": 52,
   "metadata": {
    "collapsed": false
   },
   "outputs": [
    {
     "data": {
      "text/plain": [
       "matrix([[ 0.0005,  0.0044, -0.0084,  0.0002,  0.005 , -0.0095],\n",
       "        [ 0.0044,  0.2646,  0.    ,  0.0023,  0.2976,  0.    ],\n",
       "        [-0.0084,  0.    ,  0.2646, -0.0045,  0.    ,  0.2976],\n",
       "        [ 0.0002,  0.0023, -0.0045,  0.0001,  0.0027, -0.005 ],\n",
       "        [ 0.005 ,  0.2976,  0.    ,  0.0027,  0.3363,  0.    ],\n",
       "        [-0.0095,  0.    ,  0.2976, -0.005 ,  0.    ,  0.3363]])"
      ]
     },
     "execution_count": 52,
     "metadata": {},
     "output_type": "execute_result"
    }
   ],
   "source": [
    "M_num"
   ]
  },
  {
   "cell_type": "code",
   "execution_count": 56,
   "metadata": {
    "collapsed": false
   },
   "outputs": [
    {
     "data": {
      "text/latex": [
       "$$\\pi r^{2}$$"
      ],
      "text/plain": [
       "   2\n",
       "π⋅r "
      ]
     },
     "execution_count": 56,
     "metadata": {},
     "output_type": "execute_result"
    }
   ],
   "source": [
    "sym.integrate(pi, ('r_2',0,r), ('r_3',0,r))"
   ]
  },
  {
   "cell_type": "code",
   "execution_count": 55,
   "metadata": {
    "collapsed": false
   },
   "outputs": [
    {
     "data": {
      "text/latex": [
       "$$\\left[\\begin{matrix}0.00045658371652056 & -0.00672568993203082 & 0.00672568993203082\\\\-0.00672568993203082 & 0.264552215764991 & 0\\\\0.00672568993203082 & 0 & 0.264552215764991\\end{matrix}\\right]$$"
      ],
      "text/plain": [
       "⎡0.00045658371652056   -0.00672568993203082  0.00672568993203082⎤\n",
       "⎢                                                               ⎥\n",
       "⎢-0.00672568993203082   0.264552215764991             0         ⎥\n",
       "⎢                                                               ⎥\n",
       "⎣0.00672568993203082            0             0.264552215764991 ⎦"
      ]
     },
     "execution_count": 55,
     "metadata": {},
     "output_type": "execute_result"
    }
   ],
   "source": [
    "M[0:3,0:3].subs([(rho,5540),(l,0.12),(r,0.02393),(pi,np.pi), (q[0],0),(q[1],0),(q[2],0),(q[3],0),(q[4],0),(q[5],0)])"
   ]
  },
  {
   "cell_type": "code",
   "execution_count": null,
   "metadata": {
    "collapsed": true
   },
   "outputs": [],
   "source": []
  },
  {
   "cell_type": "code",
   "execution_count": null,
   "metadata": {
    "collapsed": true
   },
   "outputs": [],
   "source": []
  }
 ],
 "metadata": {
  "kernelspec": {
   "display_name": "Python 3",
   "language": "python",
   "name": "python3"
  },
  "language_info": {
   "codemirror_mode": {
    "name": "ipython",
    "version": 3
   },
   "file_extension": ".py",
   "mimetype": "text/x-python",
   "name": "python",
   "nbconvert_exporter": "python",
   "pygments_lexer": "ipython3",
   "version": "3.4.3"
  }
 },
 "nbformat": 4,
 "nbformat_minor": 0
}

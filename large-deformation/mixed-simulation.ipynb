{
 "cells": [
  {
   "cell_type": "code",
   "execution_count": 1,
   "metadata": {
    "collapsed": false
   },
   "outputs": [],
   "source": [
    "import pdb as pdb \n",
    "import math\n",
    "import time\n",
    "import numpy as np\n",
    "import scipy as sc\n",
    "import matplotlib.pyplot as plt\n",
    "from scipy.integrate import odeint\n",
    "import matplotlib.animation as animation\n",
    "\n",
    "import MBstructs as MB\n",
    "import MultiBodyFuncts as MBF\n",
    "import DCA\n",
    "\n",
    "np.set_printoptions(precision=4,suppress=True)"
   ]
  },
  {
   "cell_type": "markdown",
   "metadata": {},
   "source": [
    "#### Kinematic Sweep"
   ]
  },
  {
   "cell_type": "code",
   "execution_count": 2,
   "metadata": {
    "collapsed": false
   },
   "outputs": [],
   "source": [
    "# Kinematic sweep is trivial for planar n-link pendulum \n",
    "def kinematicsRigid2D(bodies,q,u):\n",
    "    for body,theta,omega in zip(bodies,np.cumsum(q),np.cumsum(u)):\n",
    "        body.omega = omega\n",
    "        body.CBN = MBF.DCM(theta)\n",
    "\n",
    "def kinematicsGEBF2D(bodies,q,u):\n",
    "    # slice state into 'qs' for each element \n",
    "    thetae = q[::3]\n",
    "    theta = np.cumsum(thetae)\n",
    "    \n",
    "    # slice into the two rotational coordinates for each body\n",
    "    theta1 = theta[0::2]\n",
    "    theta2 = theta[1::2]\n",
    "    for body,q0,q3 in zip(bodies,theta1, theta2):\n",
    "        body.theta1 = q0\n",
    "        body.theta2 = q3"
   ]
  },
  {
   "cell_type": "markdown",
   "metadata": {},
   "source": [
    "#### Used for Plotting"
   ]
  },
  {
   "cell_type": "code",
   "execution_count": 3,
   "metadata": {
    "collapsed": false
   },
   "outputs": [],
   "source": [
    "def get_system_topology(state):\n",
    "    ntsteps,nbodies = np.shape(state)\n",
    "    q = state[:,:nbodies/2]\n",
    "    theta = np.cumsum(q,1)\n",
    "    C = [[np.array([[np.cos(angle),-np.sin(angle)],\\\n",
    "                    [np.sin(angle), np.cos(angle)]]) \n",
    "      for angle in tstep] for tstep in theta]\n",
    "    R = [[np.dot(CBN,np.array([l,0])) for CBN in timestep] \\\n",
    "                                      for timestep in C]\n",
    "    R = [np.cumsum(r,0) for r in R]\n",
    "    \n",
    "    x = [np.hstack((np.array([0]),r[:,0])) for r in R]\n",
    "    y = [np.hstack((np.array([0]),r[:,1])) for r in R]\n",
    "    \n",
    "    return x,y\n",
    "\n",
    "def sys_update(x, y, line):\n",
    "    line.set_data(x, y)\n",
    "    return line,"
   ]
  },
  {
   "cell_type": "markdown",
   "metadata": {},
   "source": [
    "#### Energy Function for Solution Verification"
   ]
  },
  {
   "cell_type": "code",
   "execution_count": 4,
   "metadata": {
    "collapsed": false
   },
   "outputs": [],
   "source": [
    "def get_energy(bodies,state):\n",
    "    \n",
    "    ntsteps,nbodies = np.shape(state)\n",
    "    q = state[:,:nbodies/2]\n",
    "    u = state[:,nbodies/2:]\n",
    "\n",
    "    theta = np.cumsum(q,1)\n",
    "    omega = np.cumsum(u,1)\n",
    "\n",
    "    C = [[np.array([[np.cos(angle),-np.sin(angle)],\\\n",
    "                    [np.sin(angle), np.cos(angle)]]) for angle in tstep] \n",
    "                                                     for tstep in theta]\n",
    "\n",
    "    ## Potential Energy Calculation ##\n",
    "    # vector location of joints for all bodies\n",
    "    Rh2Body = [[np.dot(CBN,np.array([body.l,0])) \n",
    "                                      for (CBN,body) in zip(timestep,bodies)] \n",
    "                                      for timestep in C]\n",
    "    Rh2 = [np.cumsum(r,0) for r in Rh2Body]\n",
    "\n",
    "    # vector location of center of mass for all bodies\n",
    "    # from handle two\n",
    "    rcmBody = [[np.dot(CBN,np.array([-body.l/2,0])) \n",
    "                                        for (CBN,body) in zip(timestep,bodies)]\n",
    "                                        for timestep in C]\n",
    "\n",
    "    # locate the centers of mass w.r.t. origin\n",
    "    rcm = [np.array(Rbody + rbody) for Rbody,rbody in zip(Rh2,rcmBody)]\n",
    "\n",
    "    # slice out c.m. y position\n",
    "    ycm = [y[:,1] for y in rcm]\n",
    "\n",
    "    # compute heights of centers of mass\n",
    "    hcmRel = [body.l/2 for body in bodies]\n",
    "    lcm = np.cumsum([body.l for body in bodies])\n",
    "    lcm = lcm.tolist()\n",
    "    lcm.pop(len(bodies)-1)\n",
    "    lcm.insert(0,0)\n",
    "    lcm = np.array(lcm)\n",
    "    hcm = [lcm+hcmRel+y for y in ycm]\n",
    "\n",
    "    pe = np.sum([[9.81*body.m*h \n",
    "                for bodies,h in zip(bodies,timestep)]\n",
    "                for timestep in hcm],1)\n",
    "\n",
    "    ## Kinetic Energy Calculation ##\n",
    "    vh2Body = np.cumsum([[qdot*np.array([-R[1],R[0]]) \n",
    "                for qdot,R in zip(timestep,R)] \n",
    "                for timestep,R in zip(omega,Rh2Body)],1)\n",
    "\n",
    "    vcmBody = [[qdot*np.array([-r[1],r[0]]) \n",
    "                for qdot,r in zip(tstep,r_tstep)] \n",
    "                for tstep,r_tstep in zip(omega,rcmBody)]\n",
    "\n",
    "    vcm = vcmBody+vh2Body\n",
    "\n",
    "    keT = np.sum([[1/2*body.m*np.dot(v,v) \n",
    "                   for body,v in zip(bodies,timestep)] \n",
    "                   for timestep in vcm],1)\n",
    "\n",
    "    keR = np.sum([[1/2*body.I*qdot**2 \n",
    "                for body,qdot in zip(bodies,timestep)]\n",
    "                for timestep in omega],1)\n",
    "    ke = keT + keR\n",
    "    te = ke + pe\n",
    "    return ke,pe,te"
   ]
  },
  {
   "cell_type": "markdown",
   "metadata": {},
   "source": [
    "#### Functions to Extract Generalized Accelerations from Spatial Accelerations"
   ]
  },
  {
   "cell_type": "code",
   "execution_count": 5,
   "metadata": {
    "collapsed": true
   },
   "outputs": [],
   "source": [
    "# DCA returns Spatial Accelerations\n",
    "# Therefore, need to extract generalized accelerations\n",
    "def get_gen_accel_Rigid(nbodies, joints, accel):\n",
    "\n",
    "    udot = np.zeros((nbodies))\n",
    "    for j in range(nbodies):\n",
    "        if j == 0:\n",
    "            A1 = accel.pop(0)\n",
    "            udot[j] = np.dot(np.transpose(joints[j].P),A1)\n",
    "        else:\n",
    "            A2 = accel.pop(0)\n",
    "            A1 = accel.pop(0)\n",
    "            udot[j] = np.dot(np.transpose(joints[j].P),(A1-A2))\n",
    "    \n",
    "    #add the velocities to d_dt and return to the integrator\n",
    "    return udot \n",
    "\n",
    "def get_gen_accel_GEBF(nbodies, accel):\n",
    "    state_dot = np.array([qddot for qddot_body in accel for qddot in qddot_body],dtype=np.double).reshape(nGEBF*6)\n",
    "    return state_dot "
   ]
  },
  {
   "cell_type": "markdown",
   "metadata": {},
   "source": [
    "#### Function that calls kinematics, updates bodies inertial properties and calls DCA"
   ]
  },
  {
   "cell_type": "code",
   "execution_count": 6,
   "metadata": {
    "collapsed": false
   },
   "outputs": [],
   "source": [
    "def simulate(state,tspan,nbodies,bodiesGEBF,bodiesRigid,joints,BC1,BC2):\n",
    "    '''\n",
    "    This function extracts the generalized coordinates from the solution \n",
    "    of the equations of motion after calling the DCA to solve the equations of motion \n",
    "    '''\n",
    "    # only pin joints connecting rigid bodies\n",
    "    q = state[:nRIGID*ndofsRigid + nGEBF*ndofsGEBF]\n",
    "    u = state[nRIGID*ndofsRigid + nGEBF*ndofsGEBF:]\n",
    "    \n",
    "    # slice out rigid generalized coordinates and speeds from GEBF\n",
    "    qRigid = q[:nRIGID*ndofsRigid]\n",
    "    uRigid = u[:nRIGID*ndofsRigid]\n",
    "    qGEBF  = q[nRIGID*ndofsRigid:]\n",
    "    uGEBF  = u[nRIGID*ndofsRigid:]\n",
    "    \n",
    "    # Get the Kinematics 2D n-link Pendulum\n",
    "    kinematicsRigid2D(bodiesRigid,qRigid,uRigid)  \n",
    "    kinematicsGEBF2D(bodiesGEBF,qGEBF,uGEBF)\n",
    "    \n",
    "    # slice out generalized cooridnates\n",
    "    # and make a sublist for each body\n",
    "    # these u's are not generalized speeds these are the displacements of the nodes\n",
    "    u = qGEBF.tolist()\n",
    "    u = [u[i*ndofsGEBF:(i*ndofsGEBF)+ndofsGEBF] for i in range((int(len(u)/ndofsGEBF)))]\n",
    "\n",
    "    # 'pop' off the rotational coordinates \n",
    "    # those are dealt with through the 'kinematic' sweep\n",
    "    for ue in u:\n",
    "        ue.pop(3)\n",
    "        ue.pop(0)\n",
    "        \n",
    "    # compute the inverse inertial properties of the body \n",
    "    # with the updated generalized \n",
    "    for body,ue in zip(bodiesGEBF,u):\n",
    "        body.intProps('gebf',ue)\n",
    "\n",
    "    for body in bodiesRigid:\n",
    "        body.intProps('rigid')\n",
    "\n",
    "    # join the lists of bodies for a total list \n",
    "    # order matters\n",
    "    bodies = bodiesRigid + bodiesGEBF\n",
    "    \n",
    "    # Call the Recursive DCA Algorithm\n",
    "    # This returns a list of the form:\n",
    "    # [A11,A12,A21,A22,...,An1,An2]\n",
    "    # where Axy corresponds to the acceleration\n",
    "    # of the yth handle of the xth body\n",
    "    accel = DCA.solve(nbodies,0,bodies,joints,BC1,BC2)\n",
    "    \n",
    "    accelRigid = accel[:2*len(bodiesRigid)]\n",
    "    accelGEBF  = accel[2*len(bodiesRigid):]\n",
    "\n",
    "    # compute the generalized accelerations for kinematic joints\n",
    "    udot_Rigid = get_gen_accel_Rigid(len(bodiesRigid), joints, accelRigid)\n",
    "    udot_GEBF  = get_gen_accel_GEBF(len(bodiesGEBF), accelGEBF)\n",
    "    udot = np.hstack((udot_Rigid,udot_GEBF))\n",
    "\n",
    "    state_dot = np.hstack((state[nbodies:],udot))\n",
    "    return state_dot"
   ]
  },
  {
   "cell_type": "markdown",
   "metadata": {},
   "source": [
    "#### System Initilization"
   ]
  },
  {
   "cell_type": "code",
   "execution_count": 7,
   "metadata": {
    "collapsed": false
   },
   "outputs": [],
   "source": [
    "# number of bodies and GEBF elements and kinematic joints\n",
    "# *** NOTE: For testing pupposes DCA does NOT effectively work for one body\n",
    "#          - For one body DCA returns [A1 F1c A2 F2c]\n",
    "#          - For two or more bodies DCA returns [A1 A2] ***\n",
    "nRIGID = 2\n",
    "nGEBF  = 1\n",
    "\n",
    "nbodies = nGEBF + nRIGID\n",
    "\n",
    "nJKIN = nRIGID\n",
    "ndofsGEBF = 6\n",
    "ndofsRigid  = 1 # (one pin joint)\n",
    "\n",
    "# GEBF-Properties\n",
    "# Physical Properties\n",
    "A   =  0.0018\n",
    "I   =  1.215e-8\n",
    "L   =  1.2\n",
    "r   =  math.sqrt(A/math.pi)\n",
    "l = 1/12.0\n",
    "\n",
    "# Material Properties\n",
    "E   =  0.7e6\n",
    "rho =  5540\n",
    "\n",
    "# Create a list of Joints\n",
    "jointsKIN = [MB.Joint('revolute2D') for i in range(nJKIN)]\n",
    "# jointsKIN.append(MB.Joint('fixed'))\n",
    "jointsGEBF = [MB.Joint('fixed') for i in range (nGEBF)]\n",
    "joints = jointsKIN + jointsGEBF\n",
    "\n",
    "# Create a the list of bodies \n",
    "bodiesGEBF = [MB.Body() for i in range(nGEBF)]\n",
    "bodiesRigid = [MB.Body() for i in range(nRIGID)]\n",
    "for body in bodiesGEBF:\n",
    "    body.initialize('gebf', E, A, I, r, rho, l)\n",
    "for body in bodiesRigid:\n",
    "    body.initialize('rigid', 1.0,1.0,1/12)"
   ]
  },
  {
   "cell_type": "code",
   "execution_count": 8,
   "metadata": {
    "collapsed": false
   },
   "outputs": [
    {
     "data": {
      "text/plain": [
       "[<MBstructs.Joint at 0x107cc20b8>,\n",
       " <MBstructs.Joint at 0x107cc2128>,\n",
       " <MBstructs.Joint at 0x107cc20f0>]"
      ]
     },
     "execution_count": 8,
     "metadata": {},
     "output_type": "execute_result"
    }
   ],
   "source": [
    "joints"
   ]
  },
  {
   "cell_type": "markdown",
   "metadata": {},
   "source": [
    "#### Simulation Specifications"
   ]
  },
  {
   "cell_type": "code",
   "execution_count": 9,
   "metadata": {
    "collapsed": false
   },
   "outputs": [],
   "source": [
    "# start the rope from the horizontal qi = 0 for ALL i\n",
    "\n",
    "# sublists handy for initilization of bodies \n",
    "q0GEBF = [[0 for i in range(ndofsGEBF)] for i in range(nGEBF)]\n",
    "u0GEBF = [[0 for i in range(ndofsGEBF)] for i in range(nGEBF)]\n",
    "\n",
    "# All rigid bodies are connected by pin joints\n",
    "q0Rigid = [[0 for i in range(ndofsRigid)] for i in range(nRIGID)]\n",
    "u0Rigid = [[0 for i in range(ndofsRigid)] for i in range(nRIGID)]\n",
    "\n",
    "q0 = q0Rigid + q0GEBF\n",
    "u0 = u0Rigid + u0GEBF\n",
    "\n",
    "# flatten sub-lists into a single state vector\n",
    "q0 = np.array([q for q_body in q0 for q in q_body],dtype=np.double).squeeze()\n",
    "u0 = np.array([u for u_body in u0 for u in u_body],dtype=np.double).squeeze()\n",
    "\n",
    "state0 = np.hstack((q0,u0))\n",
    "\n",
    "# Length of time of the simulation\n",
    "tspan = np.arange(0,2,.001)"
   ]
  },
  {
   "cell_type": "code",
   "execution_count": 10,
   "metadata": {
    "collapsed": false
   },
   "outputs": [],
   "source": [
    "# odeint is the numerical integrator used\n",
    "state = odeint(simulate,state0,tspan,(nbodies,bodiesGEBF,bodiesRigid,joints,2,1))"
   ]
  },
  {
   "cell_type": "code",
   "execution_count": 11,
   "metadata": {
    "collapsed": false
   },
   "outputs": [],
   "source": [
    "# x,y = get_system_topology(state)"
   ]
  },
  {
   "cell_type": "code",
   "execution_count": 12,
   "metadata": {
    "collapsed": false
   },
   "outputs": [],
   "source": [
    "# # First set up the figure, the axis, and the plot element we want to animate\n",
    "# fig = plt.figure()\n",
    "# ax = plt.axes(xlim=(-3, 3), ylim=(-3, 3))\n",
    "# line, = ax.plot([], [], lw=2)\n",
    "\n",
    "# # initialization function: plot the background of each frame\n",
    "# def init():\n",
    "#     line.set_data([], [])\n",
    "#     return line,\n",
    "\n",
    "# # animation function.  This is called sequentially\n",
    "# def animate(i):\n",
    "#     line.set_data(x[i], y[i])\n",
    "#     return line,\n",
    "\n",
    "# # call the animator.  blit=True means only re-draw the parts that have changed.\n",
    "# anim = animation.FuncAnimation(fig, animate, init_func=init,\n",
    "#                                frames=len(x), repeat=False, interval=1, blit=False)\n",
    "\n",
    "# # save the animation as an mp4.  This requires ffmpeg or mencoder to be\n",
    "# # installed.  The extra_args ensure that the x264 codec is used, so that\n",
    "# # the video can be embedded in html5.  You may need to adjust this for\n",
    "# # your system: for more information, see\n",
    "# # http://matplotlib.sourceforge.net/api/animation_api.html\n",
    "# # anim.save('basic_animation.mp4', fps=30, extra_args=['-vcodec', 'libx264'])\n",
    "\n",
    "# plt.show()"
   ]
  },
  {
   "cell_type": "code",
   "execution_count": 13,
   "metadata": {
    "collapsed": false
   },
   "outputs": [],
   "source": [
    "ke,pe,te = get_energy(bodiesRigid,state)"
   ]
  },
  {
   "cell_type": "code",
   "execution_count": 14,
   "metadata": {
    "collapsed": false
   },
   "outputs": [
    {
     "data": {
      "image/png": "[encoded data removed]",
      "text/plain": [
       "<matplotlib.figure.Figure at 0x107e4a940>"
      ]
     },
     "metadata": {},
     "output_type": "display_data"
    },
    {
     "data": {
      "text/plain": [
       "<function matplotlib.pyplot.show>"
      ]
     },
     "execution_count": 14,
     "metadata": {},
     "output_type": "execute_result"
    },
    {
     "data": {
      "image/png": "[encoded data removed]",
      "text/plain": [
       "<matplotlib.figure.Figure at 0x1088ba048>"
      ]
     },
     "metadata": {},
     "output_type": "display_data"
    }
   ],
   "source": [
    "# The energy of the system is calculated and plotted\n",
    "%matplotlib inline\n",
    "plt.plot(tspan,te-te[0])\n",
    "plt.xlabel(\"Time [s]\")\n",
    "plt.ylabel(\"energy\")\n",
    "plt.title(\"System Energy\")\n",
    "plt.show()\n",
    "\n",
    "plt.plot(tspan,pe,tspan,ke)\n",
    "plt.xlabel(\"Time[s]\")\n",
    "plt.ylabel(\"energy\")\n",
    "plt.title(\"Kinetic and Potential Energy\")\n",
    "plt.show"
   ]
  },
  {
   "cell_type": "code",
   "execution_count": 19,
   "metadata": {
    "collapsed": true
   },
   "outputs": [],
   "source": [
    "%qtconsole"
   ]
  },
  {
   "cell_type": "code",
   "execution_count": null,
   "metadata": {
    "collapsed": true
   },
   "outputs": [],
   "source": []
  }
 ],
 "metadata": {
  "kernelspec": {
   "display_name": "Python 3",
   "language": "python",
   "name": "python3"
  },
  "language_info": {
   "codemirror_mode": {
    "name": "ipython",
    "version": 3
   },
   "file_extension": ".py",
   "mimetype": "text/x-python",
   "name": "python",
   "nbconvert_exporter": "python",
   "pygments_lexer": "ipython3",
   "version": "3.4.3"
  }
 },
 "nbformat": 4,
 "nbformat_minor": 0
}

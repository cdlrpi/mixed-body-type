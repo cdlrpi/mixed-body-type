{
 "cells": [
  {
   "cell_type": "code",
   "execution_count": 1,
   "metadata": {
    "collapsed": false
   },
   "outputs": [],
   "source": [
    "from twython import Twython"
   ]
  },
  {
   "cell_type": "code",
   "execution_count": 2,
   "metadata": {
    "collapsed": false
   },
   "outputs": [],
   "source": [
    "APP_KEY = 'KHw079t8zAxYxfSwp06JgfAjN'\n",
    "APP_SECRET = 'W3OpCeh6WxrmB3EM5K0s9qajXrW8ChJqsD44M9n5oRrUSPe46v'\n",
    "OAUTH_TOKEN = '114117265-c2jkGcy6E8FhMuAklkijaLMKl64HyX3xjUcaztOw'\n",
    "OAUTH_TOKEN_SECRET = 'KTFVEJU8B7yZ6kgHZwyyuDyT25lE3Vq3qzgfmxUoI1ChG'\n",
    "twitter = Twython(APP_KEY, APP_SECRET,\n",
    "                  OAUTH_TOKEN, OAUTH_TOKEN_SECRET)"
   ]
  },
  {
   "cell_type": "code",
   "execution_count": 3,
   "metadata": {
    "collapsed": false
   },
   "outputs": [],
   "source": [
    "# twitter.update_status(status=\"I'm tweeting from Python!\")\n",
    "followers = twitter.get_followers_list(screen_name='laflij')\n",
    "# twitter.send_direct_message(screen_name='laflij', text='Hi From Python')"
   ]
  },
  {
   "cell_type": "code",
   "execution_count": 4,
   "metadata": {
    "collapsed": false
   },
   "outputs": [
    {
     "data": {
      "text/plain": [
       "['wilsoneh', 'laflica', 'johnnycushing']"
      ]
     },
     "execution_count": 4,
     "metadata": {},
     "output_type": "execute_result"
    }
   ],
   "source": [
    "message_list = [follower[\"screen_name\"] for follower in followers[\"users\"][:3]]\n",
    "message_list"
   ]
  },
  {
   "cell_type": "code",
   "execution_count": 5,
   "metadata": {
    "collapsed": false
   },
   "outputs": [],
   "source": [
    "# for user in message_list:\n",
    "#     twitter.send_direct_message(screen_name=user, text='Hi From Python!')"
   ]
  },
  {
   "cell_type": "code",
   "execution_count": null,
   "metadata": {
    "collapsed": true
   },
   "outputs": [],
   "source": []
  }
 ],
 "metadata": {
  "kernelspec": {
   "display_name": "Python 3",
   "language": "python",
   "name": "python3"
  },
  "language_info": {
   "codemirror_mode": {
    "name": "ipython",
    "version": 3
   },
   "file_extension": ".py",
   "mimetype": "text/x-python",
   "name": "python",
   "nbconvert_exporter": "python",
   "pygments_lexer": "ipython3",
   "version": "3.4.3"
  }
 },
 "nbformat": 4,
 "nbformat_minor": 0
}

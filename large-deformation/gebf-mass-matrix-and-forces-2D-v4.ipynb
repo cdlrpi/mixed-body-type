{
 "cells": [
  {
   "cell_type": "markdown",
   "metadata": {},
   "source": [
    "# Beam Element - This notebook computes the mass-matrix and body-forces for later use"
   ]
  },
  {
   "cell_type": "markdown",
   "metadata": {},
   "source": [
    "1. 2D beam generalized coordinates (1 rotation 2 displacements) (Reduced dimensions so all matricies are subsequently invertible, Mii = 0 if some dof's are accounted for but  unused)\n",
    "2. Interpolation of roataion matricies WITHOUT orthogonalization (sympy struggling with too much algebra)\n",
    "3. Square(?) cross-section with dimension 'r'"
   ]
  },
  {
   "cell_type": "code",
   "execution_count": 1,
   "metadata": {
    "collapsed": false
   },
   "outputs": [],
   "source": [
    "import numpy as np\n",
    "import scipy as sp\n",
    "import sympy as sym\n",
    "import pickle\n",
    "\n",
    "from scipy import linalg\n",
    "from sympy import mpmath\n",
    "from sympy import cos, sin\n",
    "from sympy import lambdify\n",
    "\n",
    "from IPython.display import display\n",
    "from __future__ import division\n",
    "from sympy.interactive import printing\n",
    "printing.init_printing(use_latex=True)\n",
    "np.set_printoptions(precision=4,suppress=True)\n",
    "from sympy.interactive import printing\n",
    "\n",
    "\n",
    "import matplotlib.pyplot as plt\n",
    "%matplotlib inline"
   ]
  },
  {
   "cell_type": "markdown",
   "metadata": {},
   "source": [
    "#### Define Needed Functions"
   ]
  },
  {
   "cell_type": "code",
   "execution_count": 2,
   "metadata": {
    "collapsed": false
   },
   "outputs": [],
   "source": [
    "def Skew_sym(v):\n",
    "    \"\"\"\n",
    "    This function returns the skew symetric matrix \n",
    "    of the vector 'v' to affect the cross product of 'v'x'u'\n",
    "    \"\"\"\n",
    "    v_matrix = sym.Matrix([[  0 , -v[2]],\n",
    "                          [v[2],     0]])\n",
    "    return v_matrix"
   ]
  },
  {
   "cell_type": "code",
   "execution_count": 3,
   "metadata": {
    "collapsed": true
   },
   "outputs": [],
   "source": [
    "def Axial_sym(A):\n",
    "    '''\n",
    "    This funtcion returns the vector of the skew-symmectric matrix in 2D\n",
    "    '''\n",
    "    a_vec = 1/2*sym.Matrix([A[1,0] - A[0,1]])\n",
    "    return a_vec"
   ]
  },
  {
   "cell_type": "code",
   "execution_count": 4,
   "metadata": {
    "collapsed": false
   },
   "outputs": [],
   "source": [
    "def Rotate_sym(theta):\n",
    "    \"\"\"\n",
    "    This function returns the symbolic rotation matrix \n",
    "    for the simple 2D-rotation about the third axis\n",
    "    \"\"\"\n",
    "    R = sym.Matrix([[cos(theta),-sin(theta)],\n",
    "                    [sin(theta), cos(theta)]])\n",
    "    return R"
   ]
  },
  {
   "cell_type": "markdown",
   "metadata": {},
   "source": [
    "#### Define symbolic quantites"
   ]
  },
  {
   "cell_type": "code",
   "execution_count": 5,
   "metadata": {
    "collapsed": false
   },
   "outputs": [],
   "source": [
    "# symbolic system parameters \n",
    "E, G, I, A, rho, x, l, r, g  = sym.symbols('E G I A rho x l r g')\n",
    "\n",
    "# Kinematic values of previos nodes (generic)\n",
    "# e.g., omega_node  = omega + qdot\n",
    "theta = sym.Matrix(['theta_1','theta_2'])\n",
    "theta_dot = sym.Matrix(['thetadot_1','thetadot_2'])\n",
    "theta_ddot = sym.Matrix(['thetaddot_1','thetaddot_2'])\n",
    "omega = sym.Matrix(['omega_1','omega_2'])\n",
    "alpha = sym.Matrix(['alpha_1','alpha_2'])\n",
    "\n",
    "# coordinates of the point in the 2D cross-section\n",
    "# of nodes one and two \n",
    "s1 = sym.Matrix(['r_2','r_3'])\n",
    "s2 = sym.Matrix(['r_2','r_3'])\n",
    "s = sym.Matrix.vstack(s1,s2)\n",
    "\n",
    "# generalized coordinates\n",
    "# one rotation and two displacements per-node (two nodes per element)\n",
    "# in this version generalzied speeds are NOT ALWAYS qdots\n",
    "q = sym.Matrix(sym.symarray('q',6))\n",
    "qdot = sym.Matrix(sym.symarray('qdot',len(q)))\n",
    "qddot = sym.Matrix(sym.symarray('qddot',len(q)))\n",
    "\n",
    "# Deformations of Nodes (u's are not generalized speeds) \n",
    "u = sym.Matrix([q[1:3,0], q[4:6,0]])\n",
    "udot = sym.Matrix([qdot[1:3,0], qdot[4:8,0]])\n",
    "uddot = sym.Matrix([qddot[1:3,0], qddot[4:6,0]])\n",
    "\n",
    "# display([q,qdot,qddot])\n",
    "# display([u,udot,uddot])"
   ]
  },
  {
   "cell_type": "markdown",
   "metadata": {},
   "source": [
    "### Needed Matrix Quantities"
   ]
  },
  {
   "cell_type": "code",
   "execution_count": 6,
   "metadata": {
    "collapsed": false
   },
   "outputs": [],
   "source": [
    "# Kinematics of the 2D planar SINGLE element\n",
    "theta[0] = q[0]\n",
    "theta[1] = q[0] + q[3]\n",
    "theta_dot[0] = qdot[0]\n",
    "theta_dot[1] = qdot[0] + qdot[3]\n",
    "theta_ddot[0] = qddot[0]\n",
    "theta_ddot[1] = qddot[0] + qddot[3]\n",
    "\n",
    "# Rotation Matricies for each node\n",
    "R1 = Rotate_sym(theta[0])\n",
    "R2 = Rotate_sym(theta[1])\n",
    "\n",
    "# Angular Velocities and Accelerations are trivial for the 2D case\n",
    "# For each node\n",
    "omega1_skew = Skew_sym([0,0,omega[0]])\n",
    "omega2_skew = Skew_sym([0,0,omega[1]])\n",
    "alpha1_skew = Skew_sym([0,0,alpha[0]])\n",
    "alpha2_skew = Skew_sym([0,0,alpha[1]])\n",
    "\n",
    "\n",
    "# \"elemental\" rotation matrix\n",
    "R = sym.Matrix.vstack(sym.Matrix.hstack(R1,sym.zeros(2)), \\\n",
    "                      sym.Matrix.hstack(sym.zeros(2),R2))\n",
    "\n",
    "# \"elemental\" angular velocity matrix\n",
    "Omega_skew = sym.Matrix.vstack(sym.Matrix.hstack(omega1_skew,sym.zeros(2)), \\\n",
    "                               sym.Matrix.hstack(sym.zeros(2),omega2_skew))\n",
    "\n",
    "# \"elemental\" angular acceleration matrix\n",
    "Alpha_skew = sym.Matrix.vstack(sym.Matrix.hstack(alpha1_skew,sym.zeros(2)), \\\n",
    "                               sym.Matrix.hstack(sym.zeros(2),alpha2_skew))\n"
   ]
  },
  {
   "cell_type": "markdown",
   "metadata": {},
   "source": [
    "### Define Kinematics"
   ]
  },
  {
   "cell_type": "code",
   "execution_count": 7,
   "metadata": {
    "collapsed": false
   },
   "outputs": [
    {
     "name": "stdout",
     "output_type": "stream",
     "text": [
      "v = \n"
     ]
    },
    {
     "data": {
      "image/png": "[encoded data removed]",
      "text/latex": [
       "$$\\left[\\begin{matrix}- \\omega_{1} r_{2} \\sin{\\left (q_{0} \\right )} - \\omega_{1} r_{3} \\cos{\\left (q_{0} \\right )} + \\dot{q}_{1}\\\\\\omega_{1} r_{2} \\cos{\\left (q_{0} \\right )} - \\omega_{1} r_{3} \\sin{\\left (q_{0} \\right )} + \\dot{q}_{2}\\\\- \\omega_{2} r_{2} \\sin{\\left (q_{0} + q_{3} \\right )} - \\omega_{2} r_{3} \\cos{\\left (q_{0} + q_{3} \\right )} + \\dot{q}_{4}\\\\\\omega_{2} r_{2} \\cos{\\left (q_{0} + q_{3} \\right )} - \\omega_{2} r_{3} \\sin{\\left (q_{0} + q_{3} \\right )} + \\dot{q}_{5}\\end{matrix}\\right]$$"
      ],
      "text/plain": [
       "⎡     -ω₁⋅r₂⋅sin(q₀) - ω₁⋅r₃⋅cos(q₀) + q̇₁     ⎤\n",
       "⎢                                              ⎥\n",
       "⎢     ω₁⋅r₂⋅cos(q₀) - ω₁⋅r₃⋅sin(q₀) + q̇₂      ⎥\n",
       "⎢                                              ⎥\n",
       "⎢-ω₂⋅r₂⋅sin(q₀ + q₃) - ω₂⋅r₃⋅cos(q₀ + q₃) + q̇₄⎥\n",
       "⎢                                              ⎥\n",
       "⎣ω₂⋅r₂⋅cos(q₀ + q₃) - ω₂⋅r₃⋅sin(q₀ + q₃) + q̇₅ ⎦"
      ]
     },
     "metadata": {},
     "output_type": "display_data"
    },
    {
     "name": "stdout",
     "output_type": "stream",
     "text": [
      "\n",
      "a = \n"
     ]
    },
    {
     "data": {
      "image/png": "[encoded data removed]",
      "text/latex": [
       "$$\\left[\\begin{matrix}- \\alpha_{1} r_{2} \\sin{\\left (q_{0} \\right )} - \\alpha_{1} r_{3} \\cos{\\left (q_{0} \\right )} - \\omega_{1}^{2} r_{2} \\cos{\\left (q_{0} \\right )} + \\omega_{1}^{2} r_{3} \\sin{\\left (q_{0} \\right )} + \\ddot{q}_{1}\\\\\\alpha_{1} r_{2} \\cos{\\left (q_{0} \\right )} - \\alpha_{1} r_{3} \\sin{\\left (q_{0} \\right )} - \\omega_{1}^{2} r_{2} \\sin{\\left (q_{0} \\right )} - \\omega_{1}^{2} r_{3} \\cos{\\left (q_{0} \\right )} + \\ddot{q}_{2}\\\\- \\alpha_{2} r_{2} \\sin{\\left (q_{0} + q_{3} \\right )} - \\alpha_{2} r_{3} \\cos{\\left (q_{0} + q_{3} \\right )} - \\omega_{2}^{2} r_{2} \\cos{\\left (q_{0} + q_{3} \\right )} + \\omega_{2}^{2} r_{3} \\sin{\\left (q_{0} + q_{3} \\right )} + \\ddot{q}_{4}\\\\\\alpha_{2} r_{2} \\cos{\\left (q_{0} + q_{3} \\right )} - \\alpha_{2} r_{3} \\sin{\\left (q_{0} + q_{3} \\right )} - \\omega_{2}^{2} r_{2} \\sin{\\left (q_{0} + q_{3} \\right )} - \\omega_{2}^{2} r_{3} \\cos{\\left (q_{0} + q_{3} \\right )} + \\ddot{q}_{5}\\end{matrix}\\right]$$"
      ],
      "text/plain": [
       "⎡                                             2                2              \n",
       "⎢          -α₁⋅r₂⋅sin(q₀) - α₁⋅r₃⋅cos(q₀) - ω₁ ⋅r₂⋅cos(q₀) + ω₁ ⋅r₃⋅sin(q₀) + \n",
       "⎢                                                                             \n",
       "⎢                                            2                2               \n",
       "⎢          α₁⋅r₂⋅cos(q₀) - α₁⋅r₃⋅sin(q₀) - ω₁ ⋅r₂⋅sin(q₀) - ω₁ ⋅r₃⋅cos(q₀) + q\n",
       "⎢                                                                             \n",
       "⎢                                             2                     2         \n",
       "⎢-α₂⋅r₂⋅sin(q₀ + q₃) - α₂⋅r₃⋅cos(q₀ + q₃) - ω₂ ⋅r₂⋅cos(q₀ + q₃) + ω₂ ⋅r₃⋅sin(q\n",
       "⎢                                                                             \n",
       "⎢                                            2                     2          \n",
       "⎣α₂⋅r₂⋅cos(q₀ + q₃) - α₂⋅r₃⋅sin(q₀ + q₃) - ω₂ ⋅r₂⋅sin(q₀ + q₃) - ω₂ ⋅r₃⋅cos(q₀\n",
       "\n",
       "             ⎤\n",
       "q̈₁          ⎥\n",
       "             ⎥\n",
       "             ⎥\n",
       "̈₂           ⎥\n",
       "             ⎥\n",
       "             ⎥\n",
       "₀ + q₃) + q̈₄⎥\n",
       "             ⎥\n",
       "             ⎥\n",
       " + q₃) + q̈₅ ⎦"
      ]
     },
     "metadata": {},
     "output_type": "display_data"
    }
   ],
   "source": [
    "# Define velocity of element endpoints (nodes)\n",
    "v = sym.simplify(udot + R*Omega_skew*s)\n",
    "print('v = ')\n",
    "display(v)\n",
    "# Define acceleration of element endpoints (nodes)\n",
    "a = sym.simplify(uddot + R*Omega_skew*Omega_skew*s + R*Alpha_skew*s)\n",
    "print('\\na = ')\n",
    "display(a)"
   ]
  },
  {
   "cell_type": "markdown",
   "metadata": {},
   "source": [
    "### Compute the Mass Matrix"
   ]
  },
  {
   "cell_type": "code",
   "execution_count": 8,
   "metadata": {
    "collapsed": false,
    "scrolled": true
   },
   "outputs": [
    {
     "name": "stdout",
     "output_type": "stream",
     "text": [
      "\n",
      "H = \n"
     ]
    },
    {
     "data": {
      "image/png": "[encoded data removed]",
      "text/latex": [
       "$$\\left[\\begin{matrix}- \\frac{x}{2} + \\frac{1}{2} & 0 & \\frac{x}{2} + \\frac{1}{2} & 0\\\\0 & - \\frac{x}{2} + \\frac{1}{2} & 0 & \\frac{x}{2} + \\frac{1}{2}\\end{matrix}\\right]$$"
      ],
      "text/plain": [
       "⎡  x   1           x   1       ⎤\n",
       "⎢- ─ + ─     0     ─ + ─    0  ⎥\n",
       "⎢  2   2           2   2       ⎥\n",
       "⎢                              ⎥\n",
       "⎢           x   1         x   1⎥\n",
       "⎢   0     - ─ + ─    0    ─ + ─⎥\n",
       "⎣           2   2         2   2⎦"
      ]
     },
     "metadata": {},
     "output_type": "display_data"
    },
    {
     "name": "stdout",
     "output_type": "stream",
     "text": [
      "\n",
      "V = \n"
     ]
    },
    {
     "data": {
      "image/png": "[encoded data removed]",
      "text/latex": [
       "$$\\left[\\begin{matrix}\\left(- \\frac{x}{2} + \\frac{1}{2}\\right) \\left(- \\omega_{1} r_{2} \\sin{\\left (q_{0} \\right )} - \\omega_{1} r_{3} \\cos{\\left (q_{0} \\right )} + \\dot{q}_{1}\\right) + \\left(\\frac{x}{2} + \\frac{1}{2}\\right) \\left(- \\omega_{2} r_{2} \\sin{\\left (q_{0} + q_{3} \\right )} - \\omega_{2} r_{3} \\cos{\\left (q_{0} + q_{3} \\right )} + \\dot{q}_{4}\\right)\\\\\\left(- \\frac{x}{2} + \\frac{1}{2}\\right) \\left(\\omega_{1} r_{2} \\cos{\\left (q_{0} \\right )} - \\omega_{1} r_{3} \\sin{\\left (q_{0} \\right )} + \\dot{q}_{2}\\right) + \\left(\\frac{x}{2} + \\frac{1}{2}\\right) \\left(\\omega_{2} r_{2} \\cos{\\left (q_{0} + q_{3} \\right )} - \\omega_{2} r_{3} \\sin{\\left (q_{0} + q_{3} \\right )} + \\dot{q}_{5}\\right)\\end{matrix}\\right]$$"
      ],
      "text/plain": [
       "⎡⎛  x   1⎞                                          ⎛x   1⎞                   \n",
       "⎢⎜- ─ + ─⎟⋅(-ω₁⋅r₂⋅sin(q₀) - ω₁⋅r₃⋅cos(q₀) + q̇₁) + ⎜─ + ─⎟⋅(-ω₂⋅r₂⋅sin(q₀ + q\n",
       "⎢⎝  2   2⎠                                          ⎝2   2⎠                   \n",
       "⎢                                                                             \n",
       "⎢ ⎛  x   1⎞                                         ⎛x   1⎞                   \n",
       "⎢ ⎜- ─ + ─⎟⋅(ω₁⋅r₂⋅cos(q₀) - ω₁⋅r₃⋅sin(q₀) + q̇₂) + ⎜─ + ─⎟⋅(ω₂⋅r₂⋅cos(q₀ + q₃\n",
       "⎣ ⎝  2   2⎠                                         ⎝2   2⎠                   \n",
       "\n",
       "                              ⎤\n",
       "₃) - ω₂⋅r₃⋅cos(q₀ + q₃) + q̇₄)⎥\n",
       "                              ⎥\n",
       "                              ⎥\n",
       "                              ⎥\n",
       ") - ω₂⋅r₃⋅sin(q₀ + q₃) + q̇₅) ⎥\n",
       "                              ⎦"
      ]
     },
     "metadata": {},
     "output_type": "display_data"
    },
    {
     "name": "stdout",
     "output_type": "stream",
     "text": [
      "\n",
      "A = \n"
     ]
    },
    {
     "data": {
      "image/png": "[encoded data removed]",
      "text/latex": [
       "$$\\left[\\begin{matrix}\\left(- \\frac{x}{2} + \\frac{1}{2}\\right) \\left(- \\alpha_{1} r_{2} \\sin{\\left (q_{0} \\right )} - \\alpha_{1} r_{3} \\cos{\\left (q_{0} \\right )} - \\omega_{1}^{2} r_{2} \\cos{\\left (q_{0} \\right )} + \\omega_{1}^{2} r_{3} \\sin{\\left (q_{0} \\right )} + \\ddot{q}_{1}\\right) + \\left(\\frac{x}{2} + \\frac{1}{2}\\right) \\left(- \\alpha_{2} r_{2} \\sin{\\left (q_{0} + q_{3} \\right )} - \\alpha_{2} r_{3} \\cos{\\left (q_{0} + q_{3} \\right )} - \\omega_{2}^{2} r_{2} \\cos{\\left (q_{0} + q_{3} \\right )} + \\omega_{2}^{2} r_{3} \\sin{\\left (q_{0} + q_{3} \\right )} + \\ddot{q}_{4}\\right)\\\\\\left(- \\frac{x}{2} + \\frac{1}{2}\\right) \\left(\\alpha_{1} r_{2} \\cos{\\left (q_{0} \\right )} - \\alpha_{1} r_{3} \\sin{\\left (q_{0} \\right )} - \\omega_{1}^{2} r_{2} \\sin{\\left (q_{0} \\right )} - \\omega_{1}^{2} r_{3} \\cos{\\left (q_{0} \\right )} + \\ddot{q}_{2}\\right) + \\left(\\frac{x}{2} + \\frac{1}{2}\\right) \\left(\\alpha_{2} r_{2} \\cos{\\left (q_{0} + q_{3} \\right )} - \\alpha_{2} r_{3} \\sin{\\left (q_{0} + q_{3} \\right )} - \\omega_{2}^{2} r_{2} \\sin{\\left (q_{0} + q_{3} \\right )} - \\omega_{2}^{2} r_{3} \\cos{\\left (q_{0} + q_{3} \\right )} + \\ddot{q}_{5}\\right)\\end{matrix}\\right]$$"
      ],
      "text/plain": [
       "⎡⎛  x   1⎞ ⎛                                   2                2             \n",
       "⎢⎜- ─ + ─⎟⋅⎝-α₁⋅r₂⋅sin(q₀) - α₁⋅r₃⋅cos(q₀) - ω₁ ⋅r₂⋅cos(q₀) + ω₁ ⋅r₃⋅sin(q₀) +\n",
       "⎢⎝  2   2⎠                                                                    \n",
       "⎢                                                                             \n",
       "⎢ ⎛  x   1⎞ ⎛                                  2                2             \n",
       "⎢ ⎜- ─ + ─⎟⋅⎝α₁⋅r₂⋅cos(q₀) - α₁⋅r₃⋅sin(q₀) - ω₁ ⋅r₂⋅sin(q₀) - ω₁ ⋅r₃⋅cos(q₀) +\n",
       "⎣ ⎝  2   2⎠                                                                   \n",
       "\n",
       "    ⎞   ⎛x   1⎞ ⎛                                             2               \n",
       " q̈₁⎠ + ⎜─ + ─⎟⋅⎝-α₂⋅r₂⋅sin(q₀ + q₃) - α₂⋅r₃⋅cos(q₀ + q₃) - ω₂ ⋅r₂⋅cos(q₀ + q₃\n",
       "        ⎝2   2⎠                                                               \n",
       "                                                                              \n",
       "    ⎞   ⎛x   1⎞ ⎛                                            2                \n",
       " q̈₂⎠ + ⎜─ + ─⎟⋅⎝α₂⋅r₂⋅cos(q₀ + q₃) - α₂⋅r₃⋅sin(q₀ + q₃) - ω₂ ⋅r₂⋅sin(q₀ + q₃)\n",
       "        ⎝2   2⎠                                                               \n",
       "\n",
       "      2                      ⎞⎤\n",
       ") + ω₂ ⋅r₃⋅sin(q₀ + q₃) + q̈₄⎠⎥\n",
       "                              ⎥\n",
       "                              ⎥\n",
       "     2                      ⎞ ⎥\n",
       " - ω₂ ⋅r₃⋅cos(q₀ + q₃) + q̈₅⎠ ⎥\n",
       "                              ⎦"
      ]
     },
     "metadata": {},
     "output_type": "display_data"
    },
    {
     "name": "stdout",
     "output_type": "stream",
     "text": [
      "\n",
      "Vr = \n"
     ]
    },
    {
     "data": {
      "image/png": "[encoded data removed]",
      "text/latex": [
       "$$\\left[\\begin{matrix}\\frac{1}{2} \\left(x - 1\\right) \\left(r_{2} \\sin{\\left (q_{0} \\right )} + r_{3} \\cos{\\left (q_{0} \\right )}\\right) & - \\frac{x}{2} + \\frac{1}{2} & 0 & - \\frac{1}{2} \\left(x + 1\\right) \\left(r_{2} \\sin{\\left (q_{0} + q_{3} \\right )} + r_{3} \\cos{\\left (q_{0} + q_{3} \\right )}\\right) & \\frac{x}{2} + \\frac{1}{2} & 0\\\\\\frac{1}{2} \\left(- x + 1\\right) \\left(r_{2} \\cos{\\left (q_{0} \\right )} - r_{3} \\sin{\\left (q_{0} \\right )}\\right) & 0 & - \\frac{x}{2} + \\frac{1}{2} & \\frac{1}{2} \\left(x + 1\\right) \\left(r_{2} \\cos{\\left (q_{0} + q_{3} \\right )} - r_{3} \\sin{\\left (q_{0} + q_{3} \\right )}\\right) & 0 & \\frac{x}{2} + \\frac{1}{2}\\end{matrix}\\right]$$"
      ],
      "text/plain": [
       "⎡(x - 1)⋅(r₂⋅sin(q₀) + r₃⋅cos(q₀))     x   1           -(x + 1)⋅(r₂⋅sin(q₀ + q\n",
       "⎢─────────────────────────────────   - ─ + ─     0     ───────────────────────\n",
       "⎢                2                     2   2                                 2\n",
       "⎢                                                                             \n",
       "⎢(-x + 1)⋅(r₂⋅cos(q₀) - r₃⋅sin(q₀))             x   1   (x + 1)⋅(r₂⋅cos(q₀ + q\n",
       "⎢──────────────────────────────────     0     - ─ + ─   ──────────────────────\n",
       "⎣                2                              2   2                        2\n",
       "\n",
       "₃) + r₃⋅cos(q₀ + q₃))   x   1       ⎤\n",
       "──────────────────────  ─ + ─    0  ⎥\n",
       "                        2   2       ⎥\n",
       "                                    ⎥\n",
       "₃) - r₃⋅sin(q₀ + q₃))          x   1⎥\n",
       "─────────────────────     0    ─ + ─⎥\n",
       "                               2   2⎦"
      ]
     },
     "metadata": {},
     "output_type": "display_data"
    },
    {
     "name": "stdout",
     "output_type": "stream",
     "text": [
      "(2, 6)\n"
     ]
    }
   ],
   "source": [
    "# Define shape function for element with one node at each end\n",
    "h = sym.symarray('h', 2)\n",
    "\n",
    "h[0] = sym.Rational(1,2)*(1 - x)\n",
    "h[1] = sym.Rational(1,2)*(1 + x)\n",
    "\n",
    "# Compute shape function matrix\n",
    "H = sym.Matrix([h[0]*sym.eye(2), h[1]*sym.eye(2)]).T\n",
    "dHdx = H.diff(x)\n",
    "print('\\nH = ')\n",
    "display(H)\n",
    "\n",
    "# Define position of any point \n",
    "# Rp = H*rp\n",
    "# print('\\nR = ')\n",
    "# display(Rp)\n",
    "\n",
    "# Define velocity of any point \n",
    "Vp = H*v\n",
    "print('\\nV = ')\n",
    "display(Vp)\n",
    "\n",
    "# Define velocity of any point \n",
    "Ap = H*a\n",
    "print('\\nA = ')\n",
    "display(Ap)\n",
    "\n",
    "# generalized speeds need to be omega_i not qdot_i \n",
    "gen_speed = sym.Matrix.vstack(sym.Matrix.vstack(sym.Matrix([omega[0]]), sym.Matrix(qdot[1:3])), \n",
    "    sym.Matrix.vstack(sym.Matrix([omega[1]]), sym.Matrix(qdot[4:6])))\n",
    "\n",
    "# Compute partial velocities of the nodes\n",
    "Vr = sym.simplify(sym.Matrix([[sym.diff(V,u) for V in Vp] for u in gen_speed]).T)\n",
    "v_r = H\n",
    "print('\\nVr = ')\n",
    "display(Vr)\n",
    "print(Vr.shape)\n",
    "\n",
    "gen_accel = sym.Matrix.vstack(sym.Matrix.vstack(sym.Matrix([alpha[0]]), sym.Matrix(qddot[1:3])), \n",
    "    sym.Matrix.vstack(sym.Matrix([alpha[1]]), sym.Matrix(qddot[4:6])))\n",
    "\n",
    "# Compute mass matrix\n",
    "M = sym.simplify(sym.factor(sym.Matrix(\n",
    "            [[sym.expand(sym.integrate(Vr[:,i].dot(Ap)*rho,('r_2',0,r),('r_3',0,r),(x,0,l))).coeff(gen_accel[j]) \n",
    "              for i in range(len(gen_accel))] for j in range(len(gen_accel))])))"
   ]
  },
  {
   "cell_type": "code",
   "execution_count": 9,
   "metadata": {
    "collapsed": false
   },
   "outputs": [
    {
     "name": "stdout",
     "output_type": "stream",
     "text": [
      "M_11 = \n"
     ]
    },
    {
     "data": {
      "image/png": "[encoded data removed]",
      "text/latex": [
       "$$\\left[\\begin{matrix}\\frac{l \\rho}{18} r^{4} \\left(l^{2} - 3 l + 3\\right) & - \\frac{l \\rho}{24} \\sqrt{2} r^{3} \\left(l^{2} - 3 l + 3\\right) \\sin{\\left (q_{0} + \\frac{\\pi}{4} \\right )} & \\frac{l \\rho}{24} \\sqrt{2} r^{3} \\left(l^{2} - 3 l + 3\\right) \\cos{\\left (q_{0} + \\frac{\\pi}{4} \\right )}\\\\- \\frac{l \\rho}{24} \\sqrt{2} r^{3} \\left(l^{2} - 3 l + 3\\right) \\sin{\\left (q_{0} + \\frac{\\pi}{4} \\right )} & \\frac{l \\rho}{12} r^{2} \\left(l^{2} - 3 l + 3\\right) & 0\\\\\\frac{l \\rho}{24} \\sqrt{2} r^{3} \\left(l^{2} - 3 l + 3\\right) \\cos{\\left (q_{0} + \\frac{\\pi}{4} \\right )} & 0 & \\frac{l \\rho}{12} r^{2} \\left(l^{2} - 3 l + 3\\right)\\end{matrix}\\right]$$"
      ],
      "text/plain": [
       "⎡                                              ___    3   ⎛ 2          ⎞    ⎛ \n",
       "⎢             4   ⎛ 2          ⎞            -╲╱ 2 ⋅l⋅r ⋅ρ⋅⎝l  - 3⋅l + 3⎠⋅sin⎜q\n",
       "⎢          l⋅r ⋅ρ⋅⎝l  - 3⋅l + 3⎠                                            ⎝ \n",
       "⎢          ─────────────────────            ──────────────────────────────────\n",
       "⎢                    18                                         24            \n",
       "⎢                                                                             \n",
       "⎢   ___    3   ⎛ 2          ⎞    ⎛     π⎞                                     \n",
       "⎢-╲╱ 2 ⋅l⋅r ⋅ρ⋅⎝l  - 3⋅l + 3⎠⋅sin⎜q₀ + ─⎟                2   ⎛ 2          ⎞   \n",
       "⎢                                ⎝     4⎠             l⋅r ⋅ρ⋅⎝l  - 3⋅l + 3⎠   \n",
       "⎢─────────────────────────────────────────            ─────────────────────   \n",
       "⎢                    24                                         12            \n",
       "⎢                                                                             \n",
       "⎢   ___    3   ⎛ 2          ⎞    ⎛     π⎞                                     \n",
       "⎢ ╲╱ 2 ⋅l⋅r ⋅ρ⋅⎝l  - 3⋅l + 3⎠⋅cos⎜q₀ + ─⎟                                     \n",
       "⎢                                ⎝     4⎠                                     \n",
       "⎢ ───────────────────────────────────────                       0             \n",
       "⎣                    24                                                       \n",
       "\n",
       "    π⎞     ___    3   ⎛ 2          ⎞    ⎛     π⎞⎤\n",
       "₀ + ─⎟   ╲╱ 2 ⋅l⋅r ⋅ρ⋅⎝l  - 3⋅l + 3⎠⋅cos⎜q₀ + ─⎟⎥\n",
       "    4⎠                                  ⎝     4⎠⎥\n",
       "───────  ───────────────────────────────────────⎥\n",
       "                            24                  ⎥\n",
       "                                                ⎥\n",
       "                                                ⎥\n",
       "                                                ⎥\n",
       "                                                ⎥\n",
       "                            0                   ⎥\n",
       "                                                ⎥\n",
       "                                                ⎥\n",
       "                                                ⎥\n",
       "                     2   ⎛ 2          ⎞         ⎥\n",
       "                  l⋅r ⋅ρ⋅⎝l  - 3⋅l + 3⎠         ⎥\n",
       "                  ─────────────────────         ⎥\n",
       "                            12                  ⎦"
      ]
     },
     "metadata": {},
     "output_type": "display_data"
    },
    {
     "name": "stdout",
     "output_type": "stream",
     "text": [
      "\n",
      "M_22 = \n"
     ]
    },
    {
     "data": {
      "image/png": "[encoded data removed]",
      "text/latex": [
       "$$\\left[\\begin{matrix}\\frac{l \\rho}{18} r^{4} \\left(l^{2} + 3 l + 3\\right) & - \\frac{l \\rho}{24} \\sqrt{2} r^{3} \\left(l^{2} + 3 l + 3\\right) \\sin{\\left (q_{0} + q_{3} + \\frac{\\pi}{4} \\right )} & \\frac{l \\rho}{24} \\sqrt{2} r^{3} \\left(l^{2} + 3 l + 3\\right) \\cos{\\left (q_{0} + q_{3} + \\frac{\\pi}{4} \\right )}\\\\- \\frac{l \\rho}{24} \\sqrt{2} r^{3} \\left(l^{2} + 3 l + 3\\right) \\sin{\\left (q_{0} + q_{3} + \\frac{\\pi}{4} \\right )} & \\frac{l \\rho}{12} r^{2} \\left(l^{2} + 3 l + 3\\right) & 0\\\\\\frac{l \\rho}{24} \\sqrt{2} r^{3} \\left(l^{2} + 3 l + 3\\right) \\cos{\\left (q_{0} + q_{3} + \\frac{\\pi}{4} \\right )} & 0 & \\frac{l \\rho}{12} r^{2} \\left(l^{2} + 3 l + 3\\right)\\end{matrix}\\right]$$"
      ],
      "text/plain": [
       "⎡                                                   ___    3   ⎛ 2          ⎞ \n",
       "⎢               4   ⎛ 2          ⎞               -╲╱ 2 ⋅l⋅r ⋅ρ⋅⎝l  + 3⋅l + 3⎠⋅\n",
       "⎢            l⋅r ⋅ρ⋅⎝l  + 3⋅l + 3⎠                                            \n",
       "⎢            ─────────────────────               ─────────────────────────────\n",
       "⎢                      18                                              24     \n",
       "⎢                                                                             \n",
       "⎢   ___    3   ⎛ 2          ⎞    ⎛          π⎞                                \n",
       "⎢-╲╱ 2 ⋅l⋅r ⋅ρ⋅⎝l  + 3⋅l + 3⎠⋅sin⎜q₀ + q₃ + ─⎟                  2   ⎛ 2       \n",
       "⎢                                ⎝          4⎠               l⋅r ⋅ρ⋅⎝l  + 3⋅l \n",
       "⎢──────────────────────────────────────────────              ─────────────────\n",
       "⎢                      24                                              12     \n",
       "⎢                                                                             \n",
       "⎢   ___    3   ⎛ 2          ⎞    ⎛          π⎞                                \n",
       "⎢ ╲╱ 2 ⋅l⋅r ⋅ρ⋅⎝l  + 3⋅l + 3⎠⋅cos⎜q₀ + q₃ + ─⎟                                \n",
       "⎢                                ⎝          4⎠                                \n",
       "⎢ ────────────────────────────────────────────                         0      \n",
       "⎣                      24                                                     \n",
       "\n",
       "   ⎛          π⎞     ___    3   ⎛ 2          ⎞    ⎛          π⎞⎤\n",
       "sin⎜q₀ + q₃ + ─⎟   ╲╱ 2 ⋅l⋅r ⋅ρ⋅⎝l  + 3⋅l + 3⎠⋅cos⎜q₀ + q₃ + ─⎟⎥\n",
       "   ⎝          4⎠                                  ⎝          4⎠⎥\n",
       "─────────────────  ────────────────────────────────────────────⎥\n",
       "                                        24                     ⎥\n",
       "                                                               ⎥\n",
       "                                                               ⎥\n",
       "   ⎞                                                           ⎥\n",
       "+ 3⎠                                                           ⎥\n",
       "────                                    0                      ⎥\n",
       "                                                               ⎥\n",
       "                                                               ⎥\n",
       "                                                               ⎥\n",
       "                                 2   ⎛ 2          ⎞            ⎥\n",
       "                              l⋅r ⋅ρ⋅⎝l  + 3⋅l + 3⎠            ⎥\n",
       "                              ─────────────────────            ⎥\n",
       "                                        12                     ⎦"
      ]
     },
     "metadata": {},
     "output_type": "display_data"
    },
    {
     "name": "stdout",
     "output_type": "stream",
     "text": [
      "\n",
      "M_12 = \n"
     ]
    },
    {
     "data": {
      "image/png": "[encoded data removed]",
      "text/latex": [
       "$$\\left[\\begin{matrix}- \\frac{l \\rho}{18} r^{4} \\left(l^{2} - 3\\right) \\cos{\\left (q_{3} \\right )} & \\frac{l \\rho}{24} \\sqrt{2} r^{3} \\left(l^{2} - 3\\right) \\sin{\\left (q_{0} + \\frac{\\pi}{4} \\right )} & - \\frac{l \\rho}{24} \\sqrt{2} r^{3} \\left(l^{2} - 3\\right) \\cos{\\left (q_{0} + \\frac{\\pi}{4} \\right )}\\\\\\frac{l \\rho}{24} \\sqrt{2} r^{3} \\left(l^{2} - 3\\right) \\sin{\\left (q_{0} + q_{3} + \\frac{\\pi}{4} \\right )} & \\frac{l \\rho}{12} r^{2} \\left(- l^{2} + 3\\right) & 0\\\\- \\frac{l \\rho}{24} \\sqrt{2} r^{3} \\left(l^{2} - 3\\right) \\cos{\\left (q_{0} + q_{3} + \\frac{\\pi}{4} \\right )} & 0 & \\frac{l \\rho}{12} r^{2} \\left(- l^{2} + 3\\right)\\end{matrix}\\right]$$"
      ],
      "text/plain": [
       "⎡                                            ___    3   ⎛ 2    ⎞    ⎛     π⎞  \n",
       "⎢           4   ⎛ 2    ⎞                   ╲╱ 2 ⋅l⋅r ⋅ρ⋅⎝l  - 3⎠⋅sin⎜q₀ + ─⎟  \n",
       "⎢       -l⋅r ⋅ρ⋅⎝l  - 3⎠⋅cos(q₃)                                    ⎝     4⎠  \n",
       "⎢       ─────────────────────────          ─────────────────────────────────  \n",
       "⎢                   18                                     24                 \n",
       "⎢                                                                             \n",
       "⎢   ___    3   ⎛ 2    ⎞    ⎛          π⎞                                      \n",
       "⎢ ╲╱ 2 ⋅l⋅r ⋅ρ⋅⎝l  - 3⎠⋅sin⎜q₀ + q₃ + ─⎟              2   ⎛   2    ⎞          \n",
       "⎢                          ⎝          4⎠           l⋅r ⋅ρ⋅⎝- l  + 3⎠          \n",
       "⎢ ──────────────────────────────────────           ─────────────────          \n",
       "⎢                   24                                     12                 \n",
       "⎢                                                                             \n",
       "⎢   ___    3   ⎛ 2    ⎞    ⎛          π⎞                                      \n",
       "⎢-╲╱ 2 ⋅l⋅r ⋅ρ⋅⎝l  - 3⎠⋅cos⎜q₀ + q₃ + ─⎟                                      \n",
       "⎢                          ⎝          4⎠                                      \n",
       "⎢────────────────────────────────────────                  0                  \n",
       "⎣                   24                                                        \n",
       "\n",
       "   ___    3   ⎛ 2    ⎞    ⎛     π⎞ ⎤\n",
       "-╲╱ 2 ⋅l⋅r ⋅ρ⋅⎝l  - 3⎠⋅cos⎜q₀ + ─⎟ ⎥\n",
       "                          ⎝     4⎠ ⎥\n",
       "───────────────────────────────────⎥\n",
       "                 24                ⎥\n",
       "                                   ⎥\n",
       "                                   ⎥\n",
       "                                   ⎥\n",
       "                                   ⎥\n",
       "                 0                 ⎥\n",
       "                                   ⎥\n",
       "                                   ⎥\n",
       "                                   ⎥\n",
       "            2   ⎛   2    ⎞         ⎥\n",
       "         l⋅r ⋅ρ⋅⎝- l  + 3⎠         ⎥\n",
       "         ─────────────────         ⎥\n",
       "                 12                ⎦"
      ]
     },
     "metadata": {},
     "output_type": "display_data"
    },
    {
     "name": "stdout",
     "output_type": "stream",
     "text": [
      "\n",
      "M_21.T = \n"
     ]
    },
    {
     "data": {
      "image/png": "[encoded data removed]",
      "text/latex": [
       "$$\\left[\\begin{matrix}- \\frac{l \\rho}{18} r^{4} \\left(l^{2} - 3\\right) \\cos{\\left (q_{3} \\right )} & \\frac{l \\rho}{24} \\sqrt{2} r^{3} \\left(l^{2} - 3\\right) \\sin{\\left (q_{0} + \\frac{\\pi}{4} \\right )} & - \\frac{l \\rho}{24} \\sqrt{2} r^{3} \\left(l^{2} - 3\\right) \\cos{\\left (q_{0} + \\frac{\\pi}{4} \\right )}\\\\\\frac{l \\rho}{24} \\sqrt{2} r^{3} \\left(l^{2} - 3\\right) \\sin{\\left (q_{0} + q_{3} + \\frac{\\pi}{4} \\right )} & \\frac{l \\rho}{12} r^{2} \\left(- l^{2} + 3\\right) & 0\\\\- \\frac{l \\rho}{24} \\sqrt{2} r^{3} \\left(l^{2} - 3\\right) \\cos{\\left (q_{0} + q_{3} + \\frac{\\pi}{4} \\right )} & 0 & \\frac{l \\rho}{12} r^{2} \\left(- l^{2} + 3\\right)\\end{matrix}\\right]$$"
      ],
      "text/plain": [
       "⎡                                            ___    3   ⎛ 2    ⎞    ⎛     π⎞  \n",
       "⎢           4   ⎛ 2    ⎞                   ╲╱ 2 ⋅l⋅r ⋅ρ⋅⎝l  - 3⎠⋅sin⎜q₀ + ─⎟  \n",
       "⎢       -l⋅r ⋅ρ⋅⎝l  - 3⎠⋅cos(q₃)                                    ⎝     4⎠  \n",
       "⎢       ─────────────────────────          ─────────────────────────────────  \n",
       "⎢                   18                                     24                 \n",
       "⎢                                                                             \n",
       "⎢   ___    3   ⎛ 2    ⎞    ⎛          π⎞                                      \n",
       "⎢ ╲╱ 2 ⋅l⋅r ⋅ρ⋅⎝l  - 3⎠⋅sin⎜q₀ + q₃ + ─⎟              2   ⎛   2    ⎞          \n",
       "⎢                          ⎝          4⎠           l⋅r ⋅ρ⋅⎝- l  + 3⎠          \n",
       "⎢ ──────────────────────────────────────           ─────────────────          \n",
       "⎢                   24                                     12                 \n",
       "⎢                                                                             \n",
       "⎢   ___    3   ⎛ 2    ⎞    ⎛          π⎞                                      \n",
       "⎢-╲╱ 2 ⋅l⋅r ⋅ρ⋅⎝l  - 3⎠⋅cos⎜q₀ + q₃ + ─⎟                                      \n",
       "⎢                          ⎝          4⎠                                      \n",
       "⎢────────────────────────────────────────                  0                  \n",
       "⎣                   24                                                        \n",
       "\n",
       "   ___    3   ⎛ 2    ⎞    ⎛     π⎞ ⎤\n",
       "-╲╱ 2 ⋅l⋅r ⋅ρ⋅⎝l  - 3⎠⋅cos⎜q₀ + ─⎟ ⎥\n",
       "                          ⎝     4⎠ ⎥\n",
       "───────────────────────────────────⎥\n",
       "                 24                ⎥\n",
       "                                   ⎥\n",
       "                                   ⎥\n",
       "                                   ⎥\n",
       "                                   ⎥\n",
       "                 0                 ⎥\n",
       "                                   ⎥\n",
       "                                   ⎥\n",
       "                                   ⎥\n",
       "            2   ⎛   2    ⎞         ⎥\n",
       "         l⋅r ⋅ρ⋅⎝- l  + 3⎠         ⎥\n",
       "         ─────────────────         ⎥\n",
       "                 12                ⎦"
      ]
     },
     "metadata": {},
     "output_type": "display_data"
    }
   ],
   "source": [
    "# print('\\nM = \\n')\n",
    "# display(M)\n",
    "\n",
    "print('M_11 = ')\n",
    "display(M[0:3,0:3])\n",
    "print('\\nM_22 = ')\n",
    "display(M[3:6,3:6])\n",
    "print('\\nM_12 = ')\n",
    "display(M[0:3,3:6])\n",
    "print('\\nM_21.T = ')\n",
    "display(M[3:6,0:3].T)"
   ]
  },
  {
   "cell_type": "markdown",
   "metadata": {},
   "source": [
    "### Compute Internal forces "
   ]
  },
  {
   "cell_type": "markdown",
   "metadata": {},
   "source": [
    "#### 1. Transverse (Bending) Strain"
   ]
  },
  {
   "cell_type": "code",
   "execution_count": 10,
   "metadata": {
    "collapsed": false
   },
   "outputs": [],
   "source": [
    "# Orthogonal Matricies Not Extracted to Simplify Algebra\n",
    "R_interp = sym.simplify(H*sym.Matrix([R1,R2]))\n",
    "dT = sym.simplify(H.diff(x)*sym.Matrix([R1,R2]))\n",
    "kappa = sym.simplify(sym.Matrix([Axial_sym(dT*R_interp.T),'0','0','0']))\n",
    "# display(kappa)"
   ]
  },
  {
   "cell_type": "code",
   "execution_count": 11,
   "metadata": {
    "collapsed": false,
    "scrolled": true
   },
   "outputs": [
    {
     "data": {
      "image/png": "[encoded data removed]",
      "text/latex": [
       "$$\\left[\\begin{matrix}\\frac{1}{2} \\left(- x + 1\\right) \\cos{\\left (q_{0} \\right )} + \\frac{1}{2} \\left(x + 1\\right) \\cos{\\left (q_{0} + q_{3} \\right )} & \\frac{1}{2} \\left(x - 1\\right) \\sin{\\left (q_{0} \\right )} - \\frac{1}{2} \\left(x + 1\\right) \\sin{\\left (q_{0} + q_{3} \\right )}\\\\\\frac{1}{2} \\left(- x + 1\\right) \\sin{\\left (q_{0} \\right )} + \\frac{1}{2} \\left(x + 1\\right) \\sin{\\left (q_{0} + q_{3} \\right )} & \\frac{1}{2} \\left(- x + 1\\right) \\cos{\\left (q_{0} \\right )} + \\frac{1}{2} \\left(x + 1\\right) \\cos{\\left (q_{0} + q_{3} \\right )}\\end{matrix}\\right]$$"
      ],
      "text/plain": [
       "⎡(-x + 1)⋅cos(q₀)   (x + 1)⋅cos(q₀ + q₃)  (x - 1)⋅sin(q₀)   (x + 1)⋅sin(q₀ + q\n",
       "⎢──────────────── + ────────────────────  ─────────────── - ──────────────────\n",
       "⎢       2                    2                   2                   2        \n",
       "⎢                                                                             \n",
       "⎢(-x + 1)⋅sin(q₀)   (x + 1)⋅sin(q₀ + q₃)  (-x + 1)⋅cos(q₀)   (x + 1)⋅cos(q₀ + \n",
       "⎢──────────────── + ────────────────────  ──────────────── + ─────────────────\n",
       "⎣       2                    2                   2                    2       \n",
       "\n",
       "₃) ⎤\n",
       "── ⎥\n",
       "   ⎥\n",
       "   ⎥\n",
       "q₃)⎥\n",
       "───⎥\n",
       "   ⎦"
      ]
     },
     "execution_count": 11,
     "metadata": {},
     "output_type": "execute_result"
    }
   ],
   "source": [
    "R_interp"
   ]
  },
  {
   "cell_type": "markdown",
   "metadata": {},
   "source": [
    "#### 2. Longitudinal (Axial) Strian"
   ]
  },
  {
   "cell_type": "code",
   "execution_count": 12,
   "metadata": {
    "collapsed": false
   },
   "outputs": [
    {
     "data": {
      "image/png": "[encoded data removed]",
      "text/latex": [
       "$$\\left[\\begin{matrix}0\\\\- \\frac{q_{1}}{2} + \\frac{q_{4}}{2} - \\frac{x}{2} \\left(\\cos{\\left (q_{0} \\right )} - \\cos{\\left (q_{0} + q_{3} \\right )}\\right)\\\\0\\\\- \\frac{q_{2}}{2} + \\frac{q_{5}}{2} - \\frac{x}{2} \\left(\\sin{\\left (q_{0} \\right )} - \\sin{\\left (q_{0} + q_{3} \\right )}\\right)\\end{matrix}\\right]$$"
      ],
      "text/plain": [
       "⎡                  0                   ⎤\n",
       "⎢                                      ⎥\n",
       "⎢  q₁   q₄   x⋅(cos(q₀) - cos(q₀ + q₃))⎥\n",
       "⎢- ── + ── - ──────────────────────────⎥\n",
       "⎢  2    2                2             ⎥\n",
       "⎢                                      ⎥\n",
       "⎢                  0                   ⎥\n",
       "⎢                                      ⎥\n",
       "⎢  q₂   q₅   x⋅(sin(q₀) - sin(q₀ + q₃))⎥\n",
       "⎢- ── + ── - ──────────────────────────⎥\n",
       "⎣  2    2                2             ⎦"
      ]
     },
     "metadata": {},
     "output_type": "display_data"
    }
   ],
   "source": [
    "# Define Locations of Centroid\n",
    "x0_B = sym.Matrix(['x','0'])\n",
    "x0 = R_interp*x0_B\n",
    "\n",
    "# Define Newtonian Unit Vector x-dir\n",
    "n1 = sym.Matrix(['1','0'])\n",
    "\n",
    "# Interpolate Displacemnts\n",
    "u_terp = H*u\n",
    "\n",
    "# Derivatives w.r.t longitudinal beam coordinate\n",
    "du = u_terp.diff(x)\n",
    "dx0 = x0.diff(x)\n",
    "\n",
    "# Compute axial strain\n",
    "u_ax = (dx0 + du - R_interp*n1).simplify()\n",
    "epsilon = sym.Matrix(['0', u_ax[0], '0', u_ax[1]])\n",
    "# epsilon = u_ax\n",
    "display(epsilon)"
   ]
  },
  {
   "cell_type": "markdown",
   "metadata": {},
   "source": [
    "#### 3. Compute Internal Forces $Q_e = -\\frac{\\partial U}{\\partial e}$"
   ]
  },
  {
   "cell_type": "code",
   "execution_count": 13,
   "metadata": {
    "collapsed": false,
    "scrolled": true
   },
   "outputs": [],
   "source": [
    "\"\"\"\n",
    "Note: Sympy bug! Integrating a matrix returns a vector!!!\n",
    "\"\"\"\n",
    "# Transverse strain energy\n",
    "kappa_squared = (kappa.T*dHdx.T).dot(dHdx*kappa)\n",
    "Ut = 1/2*sym.integrate(E*I*kappa_squared, (x,0,l))"
   ]
  },
  {
   "cell_type": "code",
   "execution_count": 14,
   "metadata": {
    "collapsed": true
   },
   "outputs": [],
   "source": [
    "G = E/2.6\n",
    "C = sym.Matrix([[E*A, 0],[0, 5/6*G*A]])\n",
    "Ul = 1/2*sym.integrate(epsilon.T*dHdx.T*R_interp*C*R_interp.T*dHdx*epsilon, (x,0,l))[0]\n",
    "# Ul = 1/2*sym.integrate(epsilon.T*R_interp*C*R_interp.T*epsilon, (x,0,l))[0]"
   ]
  },
  {
   "cell_type": "code",
   "execution_count": 15,
   "metadata": {
    "collapsed": false
   },
   "outputs": [],
   "source": [
    "# Compute Total Energy\n",
    "U = Ul + Ut\n",
    "\n",
    "# Compute Internal Force Vector\n",
    "gen_coord = sym.Matrix.vstack(sym.Matrix.vstack(sym.Matrix([theta[0]]), sym.Matrix(qdot[1:3])), \n",
    "    sym.Matrix.vstack(sym.Matrix([theta[1]]), sym.Matrix(qdot[4:6])))\n",
    "Qe = sym.Matrix([-sym.diff(U,qi) for qi in q])"
   ]
  },
  {
   "cell_type": "markdown",
   "metadata": {},
   "source": [
    "####4. Applied and body force vector"
   ]
  },
  {
   "cell_type": "code",
   "execution_count": 16,
   "metadata": {
    "collapsed": false
   },
   "outputs": [],
   "source": [
    "# Applied forces\n",
    "# Gravity body force\n",
    "fg = g*rho*sym.Matrix([0,-1])\n",
    "\n",
    "# Compute beta\n",
    "beta = sym.Matrix([sym.simplify(sym.integrate(Vr[:,j].dot(fg),('r_2',0,r),('r_3',0,r),(x,0,l)))\n",
    "                   + qe for j,qe in zip(range(len(q)),Qe)])\n",
    "Fg = sym.Matrix([sym.simplify(sym.integrate(Vr[:,j].dot(fg),('r_2',0,r),('r_3',0,r),(x,0,l)))\n",
    "                   for j in range(len(q))])"
   ]
  },
  {
   "cell_type": "code",
   "execution_count": 17,
   "metadata": {
    "collapsed": false
   },
   "outputs": [],
   "source": [
    "pickle.dump( M,    open( \"gebf-mass-matrix.dump\",   \"wb\" ) )\n",
    "pickle.dump( beta, open( \"gebf-force-vector.dump\",  \"wb\" ) )\n",
    "pickle.dump( U,    open( \"gebf-strain-energy.dump\", \"wb\" ) )\n",
    "# pickle.dump(PE, open(\"potential_enrgy\", \"wb\")) "
   ]
  },
  {
   "cell_type": "code",
   "execution_count": 18,
   "metadata": {
    "collapsed": false
   },
   "outputs": [],
   "source": [
    "M_func    = lambdify((E, A, I, r, rho, l, g, q),    M, \"numpy\")\n",
    "beta_func = lambdify((E, A, I, r, rho, l, g, q), beta, \"numpy\")\n",
    "U_func    = lambdify((E, A, I, r, rho, l, g, q),    U, \"numpy\")"
   ]
  },
  {
   "cell_type": "code",
   "execution_count": 19,
   "metadata": {
    "collapsed": false
   },
   "outputs": [],
   "source": [
    "# Debugging functions to trace source of error \n",
    "Qe_func    = lambdify((E, A, I, r, rho, l, g, q),    Qe, \"numpy\")\n",
    "Fg_func    = lambdify((E, A, I, r, rho, l, g, q),    Fg, \"numpy\")\n",
    "Ut_func    = lambdify((E, A, I, r, rho, l, g, q),    Ut, \"numpy\")\n",
    "Ul_func    = lambdify((E, A, I, r, rho, l, g, q),    Ul, \"numpy\")\n",
    "# e2_func    = lambdify((E, A, I, r, rho, l, g, q), epsilon_squared, \"numpy\")"
   ]
  },
  {
   "cell_type": "code",
   "execution_count": 20,
   "metadata": {
    "collapsed": false
   },
   "outputs": [],
   "source": [
    "beta_num = beta_func(0.7e6, 0.0018, 1.215e-8, 0.02393, 5540, 0.12, 9.81, np.zeros_like(q))\n",
    "M_num    = M_func(   0.7e6, 0.0018, 1.215e-8, 0.02393, 5540, 0.12, 9.81, np.zeros_like(q))\n",
    "U_num    = U_func(   0.7e6, 0.0018, 1.215e-8, 0.02393, 5540, 0.12, 9.81, np.zeros_like(q))"
   ]
  },
  {
   "cell_type": "code",
   "execution_count": 21,
   "metadata": {
    "collapsed": false
   },
   "outputs": [],
   "source": [
    "def zeta_func(q):\n",
    "    M_num    = M_func(   0.7e6, 0.0018, 1.215e-8, 0.02393, 5540, 0.12, 9.81, q)\n",
    "    M11 = np.array(M_num[0:3,0:3])\n",
    "    M12 = np.array(M_num[0:3,3:6])\n",
    "    M21 = np.array(M_num[3:6,0:3])\n",
    "    M22 = np.array(M_num[3:6,3:6])\n",
    "\n",
    "    # For now use these definitions to cast Fic (constraint forces between GEBF elements) \n",
    "    # into generalized constraint forces\n",
    "    gamma11 = np.eye(3)\n",
    "    gamma12 = np.zeros((3,3))\n",
    "    gamma22 = np.eye(3)\n",
    "    gamma21 = np.zeros((3,3))\n",
    "\n",
    "    # partition beta into lambda13 and lambda23\n",
    "    gamma13 = np.array(beta_num[0:3])\n",
    "    gamma23 = np.array(beta_num[3:6])\n",
    "\n",
    "    # Commonly inverted quantities\n",
    "    iM11 = np.linalg.inv(M11)\n",
    "    iM22 = np.linalg.inv(M22)\n",
    "    Gamma1 = np.linalg.inv(M11 - M12.dot(iM22.dot(M21)))\n",
    "    Gamma2 = np.linalg.inv(M22 - M21.dot(iM11.dot(M12)))\n",
    "\n",
    "    # Compute all terms of the two handle equations\n",
    "    z11 = Gamma1.dot(gamma11 - M12.dot(iM22.dot(gamma21)))\n",
    "    z12 = Gamma1.dot(gamma12 - M12.dot(iM22.dot(gamma22)))\n",
    "    z21 = Gamma2.dot(gamma21 - M21.dot(iM11.dot(gamma11)))\n",
    "    z22 = Gamma2.dot(gamma22 - M21.dot(iM11.dot(gamma12)))\n",
    "\n",
    "    z13 = Gamma1.dot(gamma13 - M12.dot(iM22.dot(gamma23))).reshape((3,1))\n",
    "    z23 = Gamma2.dot(gamma23 - M21.dot(iM11.dot(gamma13))).reshape((3,1))\n",
    "    return z13"
   ]
  },
  {
   "cell_type": "code",
   "execution_count": 22,
   "metadata": {
    "collapsed": false
   },
   "outputs": [],
   "source": [
    "theta = np.linspace(0,2*np.pi,200)                                                                 \n",
    "\n",
    "q0GEBF = [np.array([theta,0,0,0,0,0]).reshape(6,1) for theta in theta]\n",
    "Ul_theta = np.array([Ul_func(0.7e6, 0.0018, 1.215e-8, 0.02393, 5540, 0.12, 9.81, q0) for q0      in q0GEBF])\n",
    "Ut_theta = np.array([Ut_func(0.7e6, 0.0018, 1.215e-8, 0.02393, 5540, 0.12, 9.81, q0) for q0      in q0GEBF])\n",
    "Qe_theta = np.array([np.linalg.norm(Qe_func(0.7e6, 0.0018, 1.215e-8, 0.02393, 5540, 0.12, 9.81, q0)) for q0 in q0GEBF])                                                                   \n",
    "Fg_theta = np.array([np.linalg.norm(Fg_func(0.7e6, 0.0018, 1.215e-8, 0.02393, 5540, 0.12, 9.81, q0)) for q0 in q0GEBF])                                                                   \n",
    "M_theta  = np.array([np.linalg.cond(M_func(0.7e6, 0.0018, 1.215e-8, 0.02393, 5540, 0.12, 9.81, q0)) for q0 in q0GEBF])                                                                   \n",
    "z13_theta = np.array([zeta_func(q0) for q0 in q0GEBF])                                                                   \n"
   ]
  },
  {
   "cell_type": "code",
   "execution_count": 23,
   "metadata": {
    "collapsed": false,
    "scrolled": true
   },
   "outputs": [
    {
     "data": {
      "image/png": "[encoded data removed]",
      "text/plain": [
       "<matplotlib.figure.Figure at 0x107ed1630>"
      ]
     },
     "metadata": {},
     "output_type": "display_data"
    }
   ],
   "source": [
    "plt.plot(theta/np.pi, Ul_theta, '-g')\n",
    "plt.show()"
   ]
  },
  {
   "cell_type": "code",
   "execution_count": 24,
   "metadata": {
    "collapsed": false
   },
   "outputs": [
    {
     "data": {
      "image/png": "[encoded data removed]",
      "text/plain": [
       "<matplotlib.figure.Figure at 0x1084912b0>"
      ]
     },
     "metadata": {},
     "output_type": "display_data"
    }
   ],
   "source": [
    "plt.plot(theta/np.pi, Ut_theta, '-g')\n",
    "plt.show()"
   ]
  },
  {
   "cell_type": "code",
   "execution_count": 25,
   "metadata": {
    "collapsed": false
   },
   "outputs": [
    {
     "data": {
      "image/png": "[encoded data removed]",
      "text/plain": [
       "<matplotlib.figure.Figure at 0x108486b00>"
      ]
     },
     "metadata": {},
     "output_type": "display_data"
    }
   ],
   "source": [
    "plt.plot(theta/np.pi, Qe_theta, '-g')\n",
    "plt.show()"
   ]
  },
  {
   "cell_type": "code",
   "execution_count": 26,
   "metadata": {
    "collapsed": false
   },
   "outputs": [
    {
     "data": {
      "image/png": "[encoded data removed]",
      "text/plain": [
       "<matplotlib.figure.Figure at 0x10859efd0>"
      ]
     },
     "metadata": {},
     "output_type": "display_data"
    }
   ],
   "source": [
    "plt.plot(theta/np.pi, z13_theta[:,0], '-r',\n",
    "         theta/np.pi, z13_theta[:,1], '-b',\n",
    "         theta/np.pi, z13_theta[:,2], '-g',)\n",
    "plt.show()"
   ]
  },
  {
   "cell_type": "code",
   "execution_count": 27,
   "metadata": {
    "collapsed": false
   },
   "outputs": [
    {
     "data": {
      "image/png": "[encoded data removed]",
      "text/plain": [
       "<matplotlib.figure.Figure at 0x1085c4ef0>"
      ]
     },
     "metadata": {},
     "output_type": "display_data"
    }
   ],
   "source": [
    "ax = plt.gca()\n",
    "ax.ticklabel_format(style='sci', scilimits=(0,0), useOffset=False)\n",
    "plt.plot(theta/np.pi, M_theta, '-r')\n",
    "plt.xlabel(r'$\\pi$', )\n",
    "plt.yticks()\n",
    "plt.show()"
   ]
  },
  {
   "cell_type": "code",
   "execution_count": 28,
   "metadata": {
    "collapsed": true
   },
   "outputs": [],
   "source": [
    "M_num    = M_func(   0.7e6, 0.0018, 1.215e-8, 0.02393, 5540, 0.12, 9.81, q0GEBF[90])"
   ]
  },
  {
   "cell_type": "code",
   "execution_count": 29,
   "metadata": {
    "collapsed": false
   },
   "outputs": [
    {
     "data": {
      "text/plain": [
       "matrix([[ 0.    ,  0.0007, -0.0013,  0.    ,  0.0007, -0.0014],\n",
       "        [ 0.0007,  0.0842,  0.    ,  0.0007,  0.0947,  0.    ],\n",
       "        [-0.0013,  0.    ,  0.0842, -0.0014,  0.    ,  0.0947],\n",
       "        [ 0.    ,  0.0007, -0.0014,  0.    ,  0.0008, -0.0016],\n",
       "        [ 0.0007,  0.0947,  0.    ,  0.0008,  0.1071,  0.    ],\n",
       "        [-0.0014,  0.    ,  0.0947, -0.0016,  0.    ,  0.1071]])"
      ]
     },
     "execution_count": 29,
     "metadata": {},
     "output_type": "execute_result"
    }
   ],
   "source": [
    "M_num"
   ]
  },
  {
   "cell_type": "code",
   "execution_count": 30,
   "metadata": {
    "collapsed": false
   },
   "outputs": [
    {
     "data": {
      "image/png": "[encoded data removed]",
      "text/latex": [
       "$$\\left ( 200, \\quad 1\\right )$$"
      ],
      "text/plain": [
       "(200, 1)"
      ]
     },
     "execution_count": 30,
     "metadata": {},
     "output_type": "execute_result"
    }
   ],
   "source": [
    "np.shape(z13_theta[:,0])"
   ]
  },
  {
   "cell_type": "code",
   "execution_count": 31,
   "metadata": {
    "collapsed": false
   },
   "outputs": [
    {
     "data": {
      "image/png": "[encoded data removed]",
      "text/latex": [
       "$$3.21481265176e-05$$"
      ],
      "text/plain": [
       "3.21481265176e-05"
      ]
     },
     "execution_count": 31,
     "metadata": {},
     "output_type": "execute_result"
    }
   ],
   "source": [
    "M_num[0,0]"
   ]
  },
  {
   "cell_type": "code",
   "execution_count": 32,
   "metadata": {
    "collapsed": false
   },
   "outputs": [
    {
     "data": {
      "image/png": "[encoded data removed]",
      "text/latex": [
       "$$0.00045950976$$"
      ],
      "text/plain": [
       "0.00045950976"
      ]
     },
     "execution_count": 32,
     "metadata": {},
     "output_type": "execute_result"
    }
   ],
   "source": [
    "1/12*(5540*0.024**2*0.12)*0.12**2"
   ]
  },
  {
   "cell_type": "code",
   "execution_count": null,
   "metadata": {
    "collapsed": true
   },
   "outputs": [],
   "source": []
  }
 ],
 "metadata": {
  "kernelspec": {
   "display_name": "Python 3",
   "language": "python",
   "name": "python3"
  },
  "language_info": {
   "codemirror_mode": {
    "name": "ipython",
    "version": 3
   },
   "file_extension": ".py",
   "mimetype": "text/x-python",
   "name": "python",
   "nbconvert_exporter": "python",
   "pygments_lexer": "ipython3",
   "version": "3.4.3"
  }
 },
 "nbformat": 4,
 "nbformat_minor": 0
}

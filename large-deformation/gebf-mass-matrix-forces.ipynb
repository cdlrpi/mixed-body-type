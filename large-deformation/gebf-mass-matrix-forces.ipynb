{
 "cells": [
  {
   "cell_type": "markdown",
   "metadata": {},
   "source": [
    "#Beam Element - This notebook computes the mass matrix and internal forces and outputs them for later use"
   ]
  },
  {
   "cell_type": "markdown",
   "metadata": {},
   "source": [
    "\n",
    "1. 2D beam generalized coordinates\n",
    "2. Interpolation of roataion matricies WITHOUT orthogonalization (sympy struggling with too much algebra)\n",
    "3. Centroid deformation only. (vector from centroid to the point = [0,0])\n"
   ]
  },
  {
   "cell_type": "code",
   "execution_count": 1,
   "metadata": {
    "collapsed": false
   },
   "outputs": [],
   "source": [
    "import numpy as np\n",
    "import scipy as sp\n",
    "import sympy as sym\n",
    "import pickle\n",
    "\n",
    "from scipy import linalg\n",
    "from sympy import mpmath\n",
    "from sympy import cos, sin\n",
    "\n",
    "from IPython.display import display\n",
    "from __future__ import division\n",
    "from sympy.interactive import printing\n",
    "printing.init_printing(use_latex='mathjax')"
   ]
  },
  {
   "cell_type": "markdown",
   "metadata": {},
   "source": [
    "#### Define Needed Functions"
   ]
  },
  {
   "cell_type": "code",
   "execution_count": 2,
   "metadata": {
    "collapsed": false
   },
   "outputs": [],
   "source": [
    "def Skew_sym(v):\n",
    "    \"\"\"\n",
    "    This function returns the skew symetric matrix \n",
    "    of the vector 'v' to affect the cross product of 'v'x'u'\n",
    "    \"\"\"\n",
    "    v_matrix = sym.Matrix([[  0 , -v[2],  v[1]],\n",
    "                          [v[2],     0,  -v[0]],\n",
    "                          [-v[1],  v[0],    0]])\n",
    "    return v_matrix"
   ]
  },
  {
   "cell_type": "code",
   "execution_count": 3,
   "metadata": {
    "collapsed": true
   },
   "outputs": [],
   "source": [
    "def Axial_sym(A):\n",
    "    a_vec = 1/2*sym.Matrix([A[2,1] - A[1,2], A[0,2] - A[2,0], A[1,0] - A[0,1]])\n",
    "    return a_vec"
   ]
  },
  {
   "cell_type": "code",
   "execution_count": 4,
   "metadata": {
    "collapsed": false
   },
   "outputs": [],
   "source": [
    "def Rotate_sym(theta):\n",
    "    \"\"\"\n",
    "    This function returns the symbolic rotation matrix \n",
    "    for the simple 2D-rotation about the third axis\n",
    "    \"\"\"\n",
    "    R = sym.Matrix([[cos(theta),-sin(theta), 0],\n",
    "                    [sin(theta), cos(theta), 0],[0,0,1]])\n",
    "    return R"
   ]
  },
  {
   "cell_type": "markdown",
   "metadata": {},
   "source": [
    "#### Define symbolic quantites"
   ]
  },
  {
   "cell_type": "code",
   "execution_count": 5,
   "metadata": {
    "collapsed": false
   },
   "outputs": [
    {
     "data": {
      "text/latex": [
       "$$\\left [ \\left[\\begin{matrix}q_{0}\\\\q_{1}\\\\q_{2}\\\\q_{3}\\\\q_{4}\\\\q_{5}\\\\q_{6}\\\\q_{7}\\end{matrix}\\right], \\quad \\left[\\begin{matrix}\\dot{q}_{0}\\\\\\dot{q}_{1}\\\\\\dot{q}_{2}\\\\\\dot{q}_{3}\\\\\\dot{q}_{4}\\\\\\dot{q}_{5}\\\\\\dot{q}_{6}\\\\\\dot{q}_{7}\\end{matrix}\\right], \\quad \\left[\\begin{matrix}\\ddot{q}_{0}\\\\\\ddot{q}_{1}\\\\\\ddot{q}_{2}\\\\\\ddot{q}_{3}\\\\\\ddot{q}_{4}\\\\\\ddot{q}_{5}\\\\\\ddot{q}_{6}\\\\\\ddot{q}_{7}\\end{matrix}\\right]\\right ]$$"
      ],
      "text/plain": [
       "⎡⎡q₀⎤, ⎡q̇₀⎤, ⎡q̈₀⎤⎤\n",
       "⎢⎢  ⎥  ⎢   ⎥  ⎢   ⎥⎥\n",
       "⎢⎢q₁⎥  ⎢q̇₁⎥  ⎢q̈₁⎥⎥\n",
       "⎢⎢  ⎥  ⎢   ⎥  ⎢   ⎥⎥\n",
       "⎢⎢q₂⎥  ⎢q̇₂⎥  ⎢q̈₂⎥⎥\n",
       "⎢⎢  ⎥  ⎢   ⎥  ⎢   ⎥⎥\n",
       "⎢⎢q₃⎥  ⎢q̇₃⎥  ⎢q̈₃⎥⎥\n",
       "⎢⎢  ⎥  ⎢   ⎥  ⎢   ⎥⎥\n",
       "⎢⎢q₄⎥  ⎢q̇₄⎥  ⎢q̈₄⎥⎥\n",
       "⎢⎢  ⎥  ⎢   ⎥  ⎢   ⎥⎥\n",
       "⎢⎢q₅⎥  ⎢q̇₅⎥  ⎢q̈₅⎥⎥\n",
       "⎢⎢  ⎥  ⎢   ⎥  ⎢   ⎥⎥\n",
       "⎢⎢q₆⎥  ⎢q̇₆⎥  ⎢q̈₆⎥⎥\n",
       "⎢⎢  ⎥  ⎢   ⎥  ⎢   ⎥⎥\n",
       "⎣⎣q₇⎦  ⎣q̇₇⎦  ⎣q̈₇⎦⎦"
      ]
     },
     "metadata": {},
     "output_type": "display_data"
    },
    {
     "data": {
      "text/latex": [
       "$$\\left [ \\left[\\begin{matrix}q_{0}\\\\q_{1}\\\\q_{2}\\\\q_{4}\\\\q_{5}\\\\q_{6}\\end{matrix}\\right], \\quad \\left[\\begin{matrix}\\dot{q}_{0}\\\\\\dot{q}_{1}\\\\\\dot{q}_{2}\\\\\\dot{q}_{4}\\\\\\dot{q}_{5}\\\\\\dot{q}_{6}\\end{matrix}\\right], \\quad \\left[\\begin{matrix}\\ddot{q}_{0}\\\\\\ddot{q}_{1}\\\\\\ddot{q}_{2}\\\\\\ddot{q}_{4}\\\\\\ddot{q}_{5}\\\\\\ddot{q}_{6}\\end{matrix}\\right]\\right ]$$"
      ],
      "text/plain": [
       "⎡⎡q₀⎤, ⎡q̇₀⎤, ⎡q̈₀⎤⎤\n",
       "⎢⎢  ⎥  ⎢   ⎥  ⎢   ⎥⎥\n",
       "⎢⎢q₁⎥  ⎢q̇₁⎥  ⎢q̈₁⎥⎥\n",
       "⎢⎢  ⎥  ⎢   ⎥  ⎢   ⎥⎥\n",
       "⎢⎢q₂⎥  ⎢q̇₂⎥  ⎢q̈₂⎥⎥\n",
       "⎢⎢  ⎥  ⎢   ⎥  ⎢   ⎥⎥\n",
       "⎢⎢q₄⎥  ⎢q̇₄⎥  ⎢q̈₄⎥⎥\n",
       "⎢⎢  ⎥  ⎢   ⎥  ⎢   ⎥⎥\n",
       "⎢⎢q₅⎥  ⎢q̇₅⎥  ⎢q̈₅⎥⎥\n",
       "⎢⎢  ⎥  ⎢   ⎥  ⎢   ⎥⎥\n",
       "⎣⎣q₆⎦  ⎣q̇₆⎦  ⎣q̈₆⎦⎦"
      ]
     },
     "metadata": {},
     "output_type": "display_data"
    }
   ],
   "source": [
    "# nodal positons, velocities, and accelerations\n",
    "\"\"\"\n",
    "    q = [u_1x,u_1y,u_1z,theta_1,u_2x,u_2y,u_2z,theta_2]\n",
    "    q = 1x6 for a 2D beam with 2 nodes (neglecting u_iz)\n",
    "\"\"\"\n",
    "\n",
    "# symbolic system parameters \n",
    "E, I, A, rho, x, l, tau_a = sym.symbols('E I A rho x l, tau_a')\n",
    "\n",
    "# Define radius consistent with Area used in simulation\n",
    "radius = 0.02393653682\n",
    "\n",
    "# Beam coordinates at cross-section 1 and 2\n",
    "# neglect cross section dimension (node diplacements only)\n",
    "# point 'p' is the centroid\n",
    "# r1 = sym.Matrix(['b','c'])\n",
    "# r2 = sym.Matrix(['b','c'])\n",
    "r1 = sym.Matrix(['r_x','r_y'])\n",
    "r2 = sym.Matrix(['r_x','r_y'])\n",
    "# r1 = sym.Matrix(['0','0'])\n",
    "# r2 = sym.Matrix(['0','0'])\n",
    "\n",
    "\n",
    "\n",
    "# locating the point in the cross section\n",
    "s1 = sym.Matrix([0, r1])\n",
    "s2 = sym.Matrix([0, r2])\n",
    "s = sym.Matrix.vstack(s1,s2)\n",
    "\n",
    "# generalized coordinates\n",
    "q = sym.Matrix(sym.symarray('q',8))\n",
    "# generalized speeds\n",
    "qdot = sym.Matrix(sym.symarray('qdot',len(q)))\n",
    "# generalized accelerations\n",
    "qddot = sym.Matrix(sym.symarray('qddot',len(q)))\n",
    "\n",
    "# Deformations of Nodes  \n",
    "u = sym.Matrix([q[0:3,0], q[4:7,0]])\n",
    "udot = sym.Matrix([qdot[0:3,0], qdot[4:7,0]])\n",
    "uddot = sym.Matrix([qddot[0:3,0], qddot[4:7,0]])\n",
    "\n",
    "display([q,qdot,qddot])\n",
    "display([u,udot,uddot])"
   ]
  },
  {
   "cell_type": "markdown",
   "metadata": {},
   "source": [
    "### Needed Matrix Quantities"
   ]
  },
  {
   "cell_type": "code",
   "execution_count": 6,
   "metadata": {
    "collapsed": false
   },
   "outputs": [],
   "source": [
    "# angular velocity for 2D case is trivial\n",
    "omega1_skew = Skew_sym([0,0,qdot[3]])\n",
    "omega2_skew = Skew_sym([0,0,qdot[7]])\n",
    "alpha1_skew = Skew_sym([0,0,qddot[3]])\n",
    "alpha2_skew = Skew_sym([0,0,qddot[7]])\n",
    "\n",
    "# 1D Roation at each node\n",
    "R1 = Rotate_sym(q[3])\n",
    "R2 = Rotate_sym(q[7])\n",
    "# display(R1,R2)\n",
    "\n",
    "# \"spatial\" rotation matrix\n",
    "R = sym.Matrix.vstack(sym.Matrix.hstack(R1,sym.zeros(3)), \\\n",
    "                      sym.Matrix.hstack(sym.zeros(3),R2))\n",
    "\n",
    "# \"spatial\" angular velocity matrix\n",
    "Omega_skew = sym.Matrix.vstack(sym.Matrix.hstack(omega1_skew,sym.zeros(3)), \\\n",
    "                               sym.Matrix.hstack(sym.zeros(3),omega2_skew))\n",
    "\n",
    "# \"spatial\" angular acceleration matrix\n",
    "Alpha_skew = sym.Matrix.vstack(sym.Matrix.hstack(alpha1_skew,sym.zeros(3)), \\\n",
    "                               sym.Matrix.hstack(sym.zeros(3),alpha2_skew))\n",
    "# display(Omega)"
   ]
  },
  {
   "cell_type": "markdown",
   "metadata": {},
   "source": [
    "### Define Kinematics"
   ]
  },
  {
   "cell_type": "code",
   "execution_count": 7,
   "metadata": {
    "collapsed": false
   },
   "outputs": [
    {
     "name": "stdout",
     "output_type": "stream",
     "text": [
      "v = \n"
     ]
    },
    {
     "data": {
      "text/latex": [
       "$$\\left[\\begin{matrix}\\dot{q}_{0} - \\dot{q}_{3} r_{x} \\cos{\\left (q_{3} \\right )}\\\\\\dot{q}_{1} - \\dot{q}_{3} r_{x} \\sin{\\left (q_{3} \\right )}\\\\\\dot{q}_{2}\\\\\\dot{q}_{4} - \\dot{q}_{7} r_{x} \\cos{\\left (q_{7} \\right )}\\\\\\dot{q}_{5} - \\dot{q}_{7} r_{x} \\sin{\\left (q_{7} \\right )}\\\\\\dot{q}_{6}\\end{matrix}\\right]$$"
      ],
      "text/plain": [
       "⎡q̇₀ - q̇₃⋅rₓ⋅cos(q₃)⎤\n",
       "⎢                    ⎥\n",
       "⎢q̇₁ - q̇₃⋅rₓ⋅sin(q₃)⎥\n",
       "⎢                    ⎥\n",
       "⎢        q̇₂         ⎥\n",
       "⎢                    ⎥\n",
       "⎢q̇₄ - q̇₇⋅rₓ⋅cos(q₇)⎥\n",
       "⎢                    ⎥\n",
       "⎢q̇₅ - q̇₇⋅rₓ⋅sin(q₇)⎥\n",
       "⎢                    ⎥\n",
       "⎣        q̇₆         ⎦"
      ]
     },
     "metadata": {},
     "output_type": "display_data"
    },
    {
     "name": "stdout",
     "output_type": "stream",
     "text": [
      "\n",
      "a = \n"
     ]
    },
    {
     "data": {
      "text/latex": [
       "$$\\left[\\begin{matrix}\\ddot{q}_{0} - \\ddot{q}_{3} r_{x} \\cos{\\left (q_{3} \\right )} + \\dot{q}_{3}^{2} r_{x} \\sin{\\left (q_{3} \\right )}\\\\\\ddot{q}_{1} - \\ddot{q}_{3} r_{x} \\sin{\\left (q_{3} \\right )} - \\dot{q}_{3}^{2} r_{x} \\cos{\\left (q_{3} \\right )}\\\\\\ddot{q}_{2}\\\\\\ddot{q}_{4} - \\ddot{q}_{7} r_{x} \\cos{\\left (q_{7} \\right )} + \\dot{q}_{7}^{2} r_{x} \\sin{\\left (q_{7} \\right )}\\\\\\ddot{q}_{5} - \\ddot{q}_{7} r_{x} \\sin{\\left (q_{7} \\right )} - \\dot{q}_{7}^{2} r_{x} \\cos{\\left (q_{7} \\right )}\\\\\\ddot{q}_{6}\\end{matrix}\\right]$$"
      ],
      "text/plain": [
       "⎡                          2           ⎤\n",
       "⎢q̈₀ - q̈₃⋅rₓ⋅cos(q₃) + q̇₃ ⋅rₓ⋅sin(q₃)⎥\n",
       "⎢                                      ⎥\n",
       "⎢                          2           ⎥\n",
       "⎢q̈₁ - q̈₃⋅rₓ⋅sin(q₃) - q̇₃ ⋅rₓ⋅cos(q₃)⎥\n",
       "⎢                                      ⎥\n",
       "⎢                 q̈₂                  ⎥\n",
       "⎢                                      ⎥\n",
       "⎢                          2           ⎥\n",
       "⎢q̈₄ - q̈₇⋅rₓ⋅cos(q₇) + q̇₇ ⋅rₓ⋅sin(q₇)⎥\n",
       "⎢                                      ⎥\n",
       "⎢                          2           ⎥\n",
       "⎢q̈₅ - q̈₇⋅rₓ⋅sin(q₇) - q̇₇ ⋅rₓ⋅cos(q₇)⎥\n",
       "⎢                                      ⎥\n",
       "⎣                 q̈₆                  ⎦"
      ]
     },
     "metadata": {},
     "output_type": "display_data"
    }
   ],
   "source": [
    "# Define velocity of element endpoints (nodes)\n",
    "v = sym.simplify(udot + R*Omega_skew*s)\n",
    "print('v = ')\n",
    "display(v)\n",
    "\n",
    "# Define acceleration of element endpoints (nodes)\n",
    "a = sym.simplify(uddot + R*Omega_skew*Omega_skew*s + R*Alpha_skew*s)\n",
    "print('\\na = ')\n",
    "display(a)"
   ]
  },
  {
   "cell_type": "markdown",
   "metadata": {},
   "source": [
    "### Compute the Mass Matrix"
   ]
  },
  {
   "cell_type": "code",
   "execution_count": 14,
   "metadata": {
    "collapsed": false
   },
   "outputs": [
    {
     "name": "stdout",
     "output_type": "stream",
     "text": [
      "\n",
      "H = \n"
     ]
    },
    {
     "data": {
      "text/latex": [
       "$$\\left[\\begin{matrix}- \\frac{x}{2} + \\frac{1}{2} & 0 & 0 & \\frac{x}{2} + \\frac{1}{2} & 0 & 0\\\\0 & - \\frac{x}{2} + \\frac{1}{2} & 0 & 0 & \\frac{x}{2} + \\frac{1}{2} & 0\\\\0 & 0 & - \\frac{x}{2} + \\frac{1}{2} & 0 & 0 & \\frac{x}{2} + \\frac{1}{2}\\end{matrix}\\right]$$"
      ],
      "text/plain": [
       "⎡  x   1                    x   1              ⎤\n",
       "⎢- ─ + ─     0        0     ─ + ─    0      0  ⎥\n",
       "⎢  2   2                    2   2              ⎥\n",
       "⎢                                              ⎥\n",
       "⎢           x   1                  x   1       ⎥\n",
       "⎢   0     - ─ + ─     0       0    ─ + ─    0  ⎥\n",
       "⎢           2   2                  2   2       ⎥\n",
       "⎢                                              ⎥\n",
       "⎢                    x   1                x   1⎥\n",
       "⎢   0        0     - ─ + ─    0      0    ─ + ─⎥\n",
       "⎣                    2   2                2   2⎦"
      ]
     },
     "metadata": {},
     "output_type": "display_data"
    },
    {
     "name": "stdout",
     "output_type": "stream",
     "text": [
      "\n",
      "V = \n"
     ]
    },
    {
     "data": {
      "text/latex": [
       "$$\\left[\\begin{matrix}\\left(\\dot{q}_{0} - \\dot{q}_{3} r_{x} \\cos{\\left (q_{3} \\right )}\\right) \\left(- \\frac{x}{2} + \\frac{1}{2}\\right) + \\left(\\dot{q}_{4} - \\dot{q}_{7} r_{x} \\cos{\\left (q_{7} \\right )}\\right) \\left(\\frac{x}{2} + \\frac{1}{2}\\right)\\\\\\left(\\dot{q}_{1} - \\dot{q}_{3} r_{x} \\sin{\\left (q_{3} \\right )}\\right) \\left(- \\frac{x}{2} + \\frac{1}{2}\\right) + \\left(\\dot{q}_{5} - \\dot{q}_{7} r_{x} \\sin{\\left (q_{7} \\right )}\\right) \\left(\\frac{x}{2} + \\frac{1}{2}\\right)\\\\\\dot{q}_{2} \\left(- \\frac{x}{2} + \\frac{1}{2}\\right) + \\dot{q}_{6} \\left(\\frac{x}{2} + \\frac{1}{2}\\right)\\end{matrix}\\right]$$"
      ],
      "text/plain": [
       "⎡                       ⎛  x   1⎞                          ⎛x   1⎞⎤\n",
       "⎢(q̇₀ - q̇₃⋅rₓ⋅cos(q₃))⋅⎜- ─ + ─⎟ + (q̇₄ - q̇₇⋅rₓ⋅cos(q₇))⋅⎜─ + ─⎟⎥\n",
       "⎢                       ⎝  2   2⎠                          ⎝2   2⎠⎥\n",
       "⎢                                                                 ⎥\n",
       "⎢                       ⎛  x   1⎞                          ⎛x   1⎞⎥\n",
       "⎢(q̇₁ - q̇₃⋅rₓ⋅sin(q₃))⋅⎜- ─ + ─⎟ + (q̇₅ - q̇₇⋅rₓ⋅sin(q₇))⋅⎜─ + ─⎟⎥\n",
       "⎢                       ⎝  2   2⎠                          ⎝2   2⎠⎥\n",
       "⎢                                                                 ⎥\n",
       "⎢                       ⎛  x   1⎞       ⎛x   1⎞                   ⎥\n",
       "⎢                   q̇₂⋅⎜- ─ + ─⎟ + q̇₆⋅⎜─ + ─⎟                   ⎥\n",
       "⎣                       ⎝  2   2⎠       ⎝2   2⎠                   ⎦"
      ]
     },
     "metadata": {},
     "output_type": "display_data"
    },
    {
     "name": "stdout",
     "output_type": "stream",
     "text": [
      "\n",
      "Vr = \n"
     ]
    },
    {
     "data": {
      "text/latex": [
       "$$\\left[\\begin{matrix}- \\frac{x}{2} + \\frac{1}{2} & 0 & 0 & - r_{x} \\left(- \\frac{x}{2} + \\frac{1}{2}\\right) \\cos{\\left (q_{3} \\right )} & \\frac{x}{2} + \\frac{1}{2} & 0 & 0 & - r_{x} \\left(\\frac{x}{2} + \\frac{1}{2}\\right) \\cos{\\left (q_{7} \\right )}\\\\0 & - \\frac{x}{2} + \\frac{1}{2} & 0 & - r_{x} \\left(- \\frac{x}{2} + \\frac{1}{2}\\right) \\sin{\\left (q_{3} \\right )} & 0 & \\frac{x}{2} + \\frac{1}{2} & 0 & - r_{x} \\left(\\frac{x}{2} + \\frac{1}{2}\\right) \\sin{\\left (q_{7} \\right )}\\\\0 & 0 & - \\frac{x}{2} + \\frac{1}{2} & 0 & 0 & 0 & \\frac{x}{2} + \\frac{1}{2} & 0\\end{matrix}\\right]$$"
      ],
      "text/plain": [
       "⎡  x   1                        ⎛  x   1⎞          x   1                    ⎛x\n",
       "⎢- ─ + ─     0        0     -rₓ⋅⎜- ─ + ─⎟⋅cos(q₃)  ─ + ─    0      0    -rₓ⋅⎜─\n",
       "⎢  2   2                        ⎝  2   2⎠          2   2                    ⎝2\n",
       "⎢                                                                             \n",
       "⎢           x   1               ⎛  x   1⎞                 x   1             ⎛x\n",
       "⎢   0     - ─ + ─     0     -rₓ⋅⎜- ─ + ─⎟⋅sin(q₃)    0    ─ + ─    0    -rₓ⋅⎜─\n",
       "⎢           2   2               ⎝  2   2⎠                 2   2             ⎝2\n",
       "⎢                                                                             \n",
       "⎢                    x   1                                       x   1        \n",
       "⎢   0        0     - ─ + ─            0              0      0    ─ + ─        \n",
       "⎣                    2   2                                       2   2        \n",
       "\n",
       "   1⎞        ⎤\n",
       " + ─⎟⋅cos(q₇)⎥\n",
       "   2⎠        ⎥\n",
       "             ⎥\n",
       "   1⎞        ⎥\n",
       " + ─⎟⋅sin(q₇)⎥\n",
       "   2⎠        ⎥\n",
       "             ⎥\n",
       "             ⎥\n",
       "   0         ⎥\n",
       "             ⎦"
      ]
     },
     "metadata": {},
     "output_type": "display_data"
    },
    {
     "name": "stdout",
     "output_type": "stream",
     "text": [
      "M_11 = \n"
     ]
    },
    {
     "data": {
      "text/latex": [
       "$$\\left[\\begin{matrix}1.0 l \\rho \\left(4.7746482911268 \\cdot 10^{-5} l^{2} - 0.000143239448733804 l + 0.000143239448733804\\right) & 0 & 0 & - 3.0 l \\rho \\left(1.90480907705178 \\cdot 10^{-7} l^{2} - 5.71442723115533 \\cdot 10^{-7} l + 5.71442723115533 \\cdot 10^{-7}\\right) \\cos{\\left (q_{3} \\right )}\\\\0 & 1.0 l \\rho \\left(4.7746482911268 \\cdot 10^{-5} l^{2} - 0.000143239448733804 l + 0.000143239448733804\\right) & 0 & - 3.0 l \\rho \\left(1.90480907705178 \\cdot 10^{-7} l^{2} - 5.71442723115533 \\cdot 10^{-7} l + 5.71442723115533 \\cdot 10^{-7}\\right) \\sin{\\left (q_{3} \\right )}\\\\0 & 0 & 1.0 l \\rho \\left(4.7746482911268 \\cdot 10^{-5} l^{2} - 0.000143239448733804 l + 0.000143239448733804\\right) & 0\\\\- 3.0 l \\rho \\left(1.90480907705178 \\cdot 10^{-7} l^{2} - 5.71442723115533 \\cdot 10^{-7} l + 5.71442723115533 \\cdot 10^{-7}\\right) \\cos{\\left (q_{3} \\right )} & - 3.0 l \\rho \\left(1.90480907705178 \\cdot 10^{-7} l^{2} - 5.71442723115533 \\cdot 10^{-7} l + 5.71442723115533 \\cdot 10^{-7}\\right) \\sin{\\left (q_{3} \\right )} & 0 & 0\\end{matrix}\\right]$$"
      ],
      "text/plain": [
       "⎡            ⎛                    2                                           \n",
       "⎢    1.0⋅l⋅ρ⋅⎝4.7746482911268e-5⋅l  - - -0.000143239448733804⋅l + 0.0001432394\n",
       "⎢                                                                             \n",
       "⎢                                                                             \n",
       "⎢                                            0                                \n",
       "⎢                                                                             \n",
       "⎢                                                                             \n",
       "⎢                                            0                                \n",
       "⎢                                                                             \n",
       "⎢         ⎛                     2                                             \n",
       "⎣-3.0⋅l⋅ρ⋅⎝1.90480907705178e-7⋅l  - - -5.71442723115533e-7⋅l + 5.7144272311553\n",
       "\n",
       "        ⎞                                                                     \n",
       "48733804⎠                                                  0                  \n",
       "                                                                              \n",
       "                           ⎛                    2                             \n",
       "                   1.0⋅l⋅ρ⋅⎝4.7746482911268e-5⋅l  - - -0.000143239448733804⋅l \n",
       "                                                                              \n",
       "                                                                              \n",
       "                                                           0                  \n",
       "                                                                              \n",
       "    ⎞                   ⎛                     2                               \n",
       "3e-7⎠⋅cos(q₃)  -3.0⋅l⋅ρ⋅⎝1.90480907705178e-7⋅l  - - -5.71442723115533e-7⋅l + 5\n",
       "\n",
       "                                                                              \n",
       "                                                                     0        \n",
       "                                                                              \n",
       "                      ⎞                                                       \n",
       "+ 0.000143239448733804⎠                                              0        \n",
       "                                                                              \n",
       "                                     ⎛                    2                   \n",
       "                             1.0⋅l⋅ρ⋅⎝4.7746482911268e-5⋅l  - - -0.00014323944\n",
       "                                                                              \n",
       "                  ⎞                                                           \n",
       ".71442723115533e-7⎠⋅sin(q₃)                                          0        \n",
       "\n",
       "                                            ⎛                     2           \n",
       "                                   -3.0⋅l⋅ρ⋅⎝1.90480907705178e-7⋅l  - - -5.714\n",
       "                                                                              \n",
       "                                            ⎛                     2           \n",
       "                                   -3.0⋅l⋅ρ⋅⎝1.90480907705178e-7⋅l  - - -5.714\n",
       "                                                                              \n",
       "                                ⎞                                             \n",
       "8733804⋅l + 0.000143239448733804⎠                                             \n",
       "                                                                              \n",
       "                                                                              \n",
       "                                                                              \n",
       "\n",
       "                                      ⎞        ⎤\n",
       "42723115533e-7⋅l + 5.71442723115533e-7⎠⋅cos(q₃)⎥\n",
       "                                               ⎥\n",
       "                                      ⎞        ⎥\n",
       "42723115533e-7⋅l + 5.71442723115533e-7⎠⋅sin(q₃)⎥\n",
       "                                               ⎥\n",
       "                                               ⎥\n",
       " 0                                             ⎥\n",
       "                                               ⎥\n",
       "                                               ⎥\n",
       " 0                                             ⎦"
      ]
     },
     "metadata": {},
     "output_type": "display_data"
    },
    {
     "name": "stdout",
     "output_type": "stream",
     "text": [
      "\n",
      "M_22 = \n"
     ]
    },
    {
     "data": {
      "text/latex": [
       "$$\\left[\\begin{matrix}1.0 l \\rho \\left(4.7746482911268 \\cdot 10^{-5} l^{2} + 0.000143239448733804 l + 0.000143239448733804\\right) & 0 & 0 & - 3.0 l \\rho \\left(1.90480907705178 \\cdot 10^{-7} l^{2} + 5.71442723115533 \\cdot 10^{-7} l + 5.71442723115533 \\cdot 10^{-7}\\right) \\cos{\\left (q_{7} \\right )}\\\\0 & 1.0 l \\rho \\left(4.7746482911268 \\cdot 10^{-5} l^{2} + 0.000143239448733804 l + 0.000143239448733804\\right) & 0 & - 3.0 l \\rho \\left(1.90480907705178 \\cdot 10^{-7} l^{2} + 5.71442723115533 \\cdot 10^{-7} l + 5.71442723115533 \\cdot 10^{-7}\\right) \\sin{\\left (q_{7} \\right )}\\\\0 & 0 & 1.0 l \\rho \\left(4.7746482911268 \\cdot 10^{-5} l^{2} + 0.000143239448733804 l + 0.000143239448733804\\right) & 0\\\\- 3.0 l \\rho \\left(1.90480907705178 \\cdot 10^{-7} l^{2} + 5.71442723115533 \\cdot 10^{-7} l + 5.71442723115533 \\cdot 10^{-7}\\right) \\cos{\\left (q_{7} \\right )} & - 3.0 l \\rho \\left(1.90480907705178 \\cdot 10^{-7} l^{2} + 5.71442723115533 \\cdot 10^{-7} l + 5.71442723115533 \\cdot 10^{-7}\\right) \\sin{\\left (q_{7} \\right )} & 0 & 0\\end{matrix}\\right]$$"
      ],
      "text/plain": [
       "⎡            ⎛                    2                                           \n",
       "⎢    1.0⋅l⋅ρ⋅⎝4.7746482911268e-5⋅l  + 0.000143239448733804⋅l + 0.0001432394487\n",
       "⎢                                                                             \n",
       "⎢                                                                             \n",
       "⎢                                           0                                 \n",
       "⎢                                                                             \n",
       "⎢                                                                             \n",
       "⎢                                           0                                 \n",
       "⎢                                                                             \n",
       "⎢         ⎛                     2                                             \n",
       "⎣-3.0⋅l⋅ρ⋅⎝1.90480907705178e-7⋅l  + 5.71442723115533e-7⋅l + 5.71442723115533e-\n",
       "\n",
       "     ⎞                                                                        \n",
       "33804⎠                                                 0                      \n",
       "                                                                              \n",
       "                        ⎛                    2                                \n",
       "                1.0⋅l⋅ρ⋅⎝4.7746482911268e-5⋅l  + 0.000143239448733804⋅l + 0.00\n",
       "                                                                              \n",
       "                                                                              \n",
       "                                                       0                      \n",
       "                                                                              \n",
       " ⎞                   ⎛                     2                                  \n",
       "7⎠⋅cos(q₇)  -3.0⋅l⋅ρ⋅⎝1.90480907705178e-7⋅l  + 5.71442723115533e-7⋅l + 5.71442\n",
       "\n",
       "                                                                              \n",
       "                                                              0               \n",
       "                                                                              \n",
       "                ⎞                                                             \n",
       "0143239448733804⎠                                             0               \n",
       "                                                                              \n",
       "                               ⎛                    2                         \n",
       "                       1.0⋅l⋅ρ⋅⎝4.7746482911268e-5⋅l  + 0.000143239448733804⋅l\n",
       "                                                                              \n",
       "            ⎞                                                                 \n",
       "723115533e-7⎠⋅sin(q₇)                                         0               \n",
       "\n",
       "                                   ⎛                     2                    \n",
       "                          -3.0⋅l⋅ρ⋅⎝1.90480907705178e-7⋅l  + 5.71442723115533e\n",
       "                                                                              \n",
       "                                   ⎛                     2                    \n",
       "                          -3.0⋅l⋅ρ⋅⎝1.90480907705178e-7⋅l  + 5.71442723115533e\n",
       "                                                                              \n",
       "                       ⎞                                                      \n",
       " + 0.000143239448733804⎠                                             0        \n",
       "                                                                              \n",
       "                                                                              \n",
       "                                                                     0        \n",
       "\n",
       "                          ⎞        ⎤\n",
       "-7⋅l + 5.71442723115533e-7⎠⋅cos(q₇)⎥\n",
       "                                   ⎥\n",
       "                          ⎞        ⎥\n",
       "-7⋅l + 5.71442723115533e-7⎠⋅sin(q₇)⎥\n",
       "                                   ⎥\n",
       "                                   ⎥\n",
       "                                   ⎥\n",
       "                                   ⎥\n",
       "                                   ⎥\n",
       "                                   ⎦"
      ]
     },
     "metadata": {},
     "output_type": "display_data"
    },
    {
     "name": "stdout",
     "output_type": "stream",
     "text": [
      "\n",
      "M_12 = \n"
     ]
    },
    {
     "data": {
      "text/latex": [
       "$$\\left[\\begin{matrix}- 1.0 l \\rho \\left(4.7746482911268 \\cdot 10^{-5} l^{2} - 0.000143239448733804\\right) & 0 & 0 & 3.0 l \\rho \\left(1.90480907705178 \\cdot 10^{-7} l^{2} - 5.71442723115533 \\cdot 10^{-7}\\right) \\cos{\\left (q_{7} \\right )}\\\\0 & - 1.0 l \\rho \\left(4.7746482911268 \\cdot 10^{-5} l^{2} - 0.000143239448733804\\right) & 0 & 3.0 l \\rho \\left(1.90480907705178 \\cdot 10^{-7} l^{2} - 5.71442723115533 \\cdot 10^{-7}\\right) \\sin{\\left (q_{7} \\right )}\\\\0 & 0 & - 1.0 l \\rho \\left(4.7746482911268 \\cdot 10^{-5} l^{2} - 0.000143239448733804\\right) & 0\\\\3.0 l \\rho \\left(1.90480907705178 \\cdot 10^{-7} l^{2} - 5.71442723115533 \\cdot 10^{-7}\\right) \\cos{\\left (q_{3} \\right )} & 3.0 l \\rho \\left(1.90480907705178 \\cdot 10^{-7} l^{2} - 5.71442723115533 \\cdot 10^{-7}\\right) \\sin{\\left (q_{3} \\right )} & 0 & 0\\end{matrix}\\right]$$"
      ],
      "text/plain": [
       "⎡            ⎛                    2                       ⎞                   \n",
       "⎢   -1.0⋅l⋅ρ⋅⎝4.7746482911268e-5⋅l  - 0.000143239448733804⎠                   \n",
       "⎢                                                                             \n",
       "⎢                                                                            ⎛\n",
       "⎢                              0                                    -1.0⋅l⋅ρ⋅⎝\n",
       "⎢                                                                             \n",
       "⎢                                                                             \n",
       "⎢                              0                                              \n",
       "⎢                                                                             \n",
       "⎢        ⎛                     2                      ⎞                  ⎛    \n",
       "⎣3.0⋅l⋅ρ⋅⎝1.90480907705178e-7⋅l  - 5.71442723115533e-7⎠⋅cos(q₃)  3.0⋅l⋅ρ⋅⎝1.90\n",
       "\n",
       "                                                                              \n",
       "                 0                                                            \n",
       "                                                                              \n",
       "                    2                       ⎞                                 \n",
       "4.7746482911268e-5⋅l  - 0.000143239448733804⎠                                 \n",
       "                                                                              \n",
       "                                                            ⎛                 \n",
       "                 0                                 -1.0⋅l⋅ρ⋅⎝4.7746482911268e-\n",
       "                                                                              \n",
       "                 2                      ⎞                                     \n",
       "480907705178e-7⋅l  - 5.71442723115533e-7⎠⋅sin(q₃)                             \n",
       "\n",
       "                                      ⎛                     2                 \n",
       "0                             3.0⋅l⋅ρ⋅⎝1.90480907705178e-7⋅l  - 5.714427231155\n",
       "                                                                              \n",
       "                                      ⎛                     2                 \n",
       "0                             3.0⋅l⋅ρ⋅⎝1.90480907705178e-7⋅l  - 5.714427231155\n",
       "                                                                              \n",
       "   2                       ⎞                                                  \n",
       "5⋅l  - 0.000143239448733804⎠                                0                 \n",
       "                                                                              \n",
       "                                                                              \n",
       "0                                                           0                 \n",
       "\n",
       "     ⎞        ⎤\n",
       "33e-7⎠⋅cos(q₇)⎥\n",
       "              ⎥\n",
       "     ⎞        ⎥\n",
       "33e-7⎠⋅sin(q₇)⎥\n",
       "              ⎥\n",
       "              ⎥\n",
       "              ⎥\n",
       "              ⎥\n",
       "              ⎥\n",
       "              ⎦"
      ]
     },
     "metadata": {},
     "output_type": "display_data"
    },
    {
     "name": "stdout",
     "output_type": "stream",
     "text": [
      "\n",
      "M_21.T = \n"
     ]
    },
    {
     "data": {
      "text/latex": [
       "$$\\left[\\begin{matrix}- 1.0 l \\rho \\left(4.7746482911268 \\cdot 10^{-5} l^{2} - 0.000143239448733804\\right) & 0 & 0 & 3.0 l \\rho \\left(1.90480907705178 \\cdot 10^{-7} l^{2} - 5.71442723115533 \\cdot 10^{-7}\\right) \\cos{\\left (q_{7} \\right )}\\\\0 & - 1.0 l \\rho \\left(4.7746482911268 \\cdot 10^{-5} l^{2} - 0.000143239448733804\\right) & 0 & 3.0 l \\rho \\left(1.90480907705178 \\cdot 10^{-7} l^{2} - 5.71442723115533 \\cdot 10^{-7}\\right) \\sin{\\left (q_{7} \\right )}\\\\0 & 0 & - 1.0 l \\rho \\left(4.7746482911268 \\cdot 10^{-5} l^{2} - 0.000143239448733804\\right) & 0\\\\3.0 l \\rho \\left(1.90480907705178 \\cdot 10^{-7} l^{2} - 5.71442723115533 \\cdot 10^{-7}\\right) \\cos{\\left (q_{3} \\right )} & 3.0 l \\rho \\left(1.90480907705178 \\cdot 10^{-7} l^{2} - 5.71442723115533 \\cdot 10^{-7}\\right) \\sin{\\left (q_{3} \\right )} & 0 & 0\\end{matrix}\\right]$$"
      ],
      "text/plain": [
       "⎡            ⎛                    2                       ⎞                   \n",
       "⎢   -1.0⋅l⋅ρ⋅⎝4.7746482911268e-5⋅l  - 0.000143239448733804⎠                   \n",
       "⎢                                                                             \n",
       "⎢                                                                            ⎛\n",
       "⎢                              0                                    -1.0⋅l⋅ρ⋅⎝\n",
       "⎢                                                                             \n",
       "⎢                                                                             \n",
       "⎢                              0                                              \n",
       "⎢                                                                             \n",
       "⎢        ⎛                     2                      ⎞                  ⎛    \n",
       "⎣3.0⋅l⋅ρ⋅⎝1.90480907705178e-7⋅l  - 5.71442723115533e-7⎠⋅cos(q₃)  3.0⋅l⋅ρ⋅⎝1.90\n",
       "\n",
       "                                                                              \n",
       "                 0                                                            \n",
       "                                                                              \n",
       "                    2                       ⎞                                 \n",
       "4.7746482911268e-5⋅l  - 0.000143239448733804⎠                                 \n",
       "                                                                              \n",
       "                                                            ⎛                 \n",
       "                 0                                 -1.0⋅l⋅ρ⋅⎝4.7746482911268e-\n",
       "                                                                              \n",
       "                 2                      ⎞                                     \n",
       "480907705178e-7⋅l  - 5.71442723115533e-7⎠⋅sin(q₃)                             \n",
       "\n",
       "                                      ⎛                     2                 \n",
       "0                             3.0⋅l⋅ρ⋅⎝1.90480907705178e-7⋅l  - 5.714427231155\n",
       "                                                                              \n",
       "                                      ⎛                     2                 \n",
       "0                             3.0⋅l⋅ρ⋅⎝1.90480907705178e-7⋅l  - 5.714427231155\n",
       "                                                                              \n",
       "   2                       ⎞                                                  \n",
       "5⋅l  - 0.000143239448733804⎠                                0                 \n",
       "                                                                              \n",
       "                                                                              \n",
       "0                                                           0                 \n",
       "\n",
       "     ⎞        ⎤\n",
       "33e-7⎠⋅cos(q₇)⎥\n",
       "              ⎥\n",
       "     ⎞        ⎥\n",
       "33e-7⎠⋅sin(q₇)⎥\n",
       "              ⎥\n",
       "              ⎥\n",
       "              ⎥\n",
       "              ⎥\n",
       "              ⎥\n",
       "              ⎦"
      ]
     },
     "metadata": {},
     "output_type": "display_data"
    }
   ],
   "source": [
    "# Define shape function for element with one node at each end\n",
    "h = sym.symarray('h', 2)\n",
    "\n",
    "h[0] = sym.Rational(1,2)*(1 - x)\n",
    "h[1] = sym.Rational(1,2)*(1 + x)\n",
    "\n",
    "# Compute shape function matrix\n",
    "H = sym.expand(sym.Matrix([h[0]*sym.eye(3), h[1]*sym.eye(3)])).T\n",
    "print('\\nH = ')\n",
    "display(H)\n",
    "\n",
    "# Define velocity of any point \n",
    "Vp = H*v\n",
    "print('\\nV = ')\n",
    "display(Vp)\n",
    "\n",
    "# Define velocity of any point \n",
    "Ap = H*a\n",
    "# print('\\nA = ')\n",
    "# display(Accel)\n",
    "\n",
    "# Compute partial velocities of the nodes\n",
    "Vr = sym.Matrix([[sym.diff(Vp,qdot) for Vp in Vp] for qdot in qdot]).T\n",
    "# v_r = H\n",
    "print('\\nVr = ')\n",
    "display(Vr)\n",
    "# print(Vr.shape)\n",
    "\n",
    "# Compute mass matrix\n",
    "M = sym.factor(sym.Matrix([[sym.expand(sym.integrate(Vr[:,i].dot(Ap)*rho,('r_x',0,radius),('r_y',0,radius),(x,0,l))).coeff(qddot[j]) \\\n",
    "                            for i in range(len(qddot))] for j in range(len(qddot))]))\n",
    "# print('\\nM = \\n')\n",
    "# display(M)\n",
    "\n",
    "print('M_11 = ')\n",
    "display(M[0:4,0:4])\n",
    "print('\\nM_22 = ')\n",
    "display(M[4:8,4:8])\n",
    "print('\\nM_12 = ')\n",
    "display(M[0:4,4:8])\n",
    "print('\\nM_21.T = ')\n",
    "display(M[4:8,0:4].T)\n",
    "pickle.dump( M, open( \"gebf-mass-matrix.dump\", \"wb\" ) )"
   ]
  },
  {
   "cell_type": "markdown",
   "metadata": {},
   "source": [
    "### Compute Internal forces "
   ]
  },
  {
   "cell_type": "markdown",
   "metadata": {},
   "source": [
    "#### 1. Transverse (Bending) Strain"
   ]
  },
  {
   "cell_type": "code",
   "execution_count": 9,
   "metadata": {
    "collapsed": false
   },
   "outputs": [],
   "source": [
    "''' Orthogonal Matricies Not Extracted to Simplify Algebra'''\n",
    "R_interp = sym.simplify(H*sym.Matrix([R1,R2]))\n",
    "dT = sym.simplify(H.diff(x)*sym.Matrix([R1,R2]))\n",
    "kappa = sym.simplify(sym.Matrix([Axial_sym(dT*R_interp.T), '0', '0', '0']))\n",
    "# display(kappa)"
   ]
  },
  {
   "cell_type": "markdown",
   "metadata": {},
   "source": [
    "#### 2. Longitudinal (Axial) Strian"
   ]
  },
  {
   "cell_type": "code",
   "execution_count": 10,
   "metadata": {
    "collapsed": false
   },
   "outputs": [],
   "source": [
    "# Define Locations of Centroid \n",
    "x01 = sym.Matrix(['0','0','0'])\n",
    "x02 = sym.Matrix(['1','0','0'])\n",
    "\n",
    "# Define Newtonian Unit Vector x-dir\n",
    "n1 = sym.Matrix(['1','0','0'])\n",
    "\n",
    "# Interpolate Displacemnts\n",
    "u_int = H*u\n",
    "x_int = H*sym.Matrix([x01,x02])\n",
    "\n",
    "# Derivatives w.r.t longitudinal beam coordinate\n",
    "du = u_int.diff(x)\n",
    "dx0 = x_int.diff(x)\n",
    "\n",
    "# Compute axial strain\n",
    "epsilon = sym.simplify(sym.Matrix([dx0 + du - R_interp*n1, '0', '0', '0']))\n",
    "# display(epsilon)"
   ]
  },
  {
   "cell_type": "markdown",
   "metadata": {},
   "source": [
    "#### Compute Internal Forces $Q_e = \\frac{\\partial U}{\\partial e}$"
   ]
  },
  {
   "cell_type": "code",
   "execution_count": 11,
   "metadata": {
    "collapsed": false
   },
   "outputs": [],
   "source": [
    "# Transverse strain energy\n",
    "Ut = 1/2*sym.integrate(E*I*kappa.dot(H.diff(x).T*H.diff(x)*kappa), (x,0,l))\n",
    "# Longitudinal strain energy\n",
    "Ul = 1/2*sym.integrate(E*A*epsilon.dot(H.diff(x).T*H.diff(x)*epsilon), (x,0,l))\n",
    "\n",
    "# Compute Total Energy\n",
    "U = Ul + Ut\n",
    "\n",
    "# Compute Internal Force Vector\n",
    "Qe = sym.Matrix([sym.simplify(sym.expand(sym.diff(-U,q))) for q in q])"
   ]
  },
  {
   "cell_type": "markdown",
   "metadata": {},
   "source": [
    "### Applied and body force vector"
   ]
  },
  {
   "cell_type": "code",
   "execution_count": 12,
   "metadata": {
    "collapsed": false
   },
   "outputs": [],
   "source": [
    "# Applied forces\n",
    "# Gravity body force\n",
    "fg = rho*9.81*A*sym.Matrix([0,-1,0])\n",
    "\n",
    "# Applied torque\n",
    "# torque_app = sym.Matrix([0,0,tau_a])\n",
    "\n",
    "# Compute beta\n",
    "# beta = sym.Matrix([sym.simplify(sym.integrate(vr.dot(fg), (x,0,l)) + qe) \n",
    "#                    for vr,qe in zip(V_r,Qe)])\n",
    "beta = sym.Matrix([sym.simplify(sym.integrate(Vr[:,j].dot(fg),('r_x',0,radius),('r_y',0,radius),(x,0,l)))\n",
    "                   + qe for j,qe in zip(range(len(q)),Qe)])\n",
    "pickle.dump( beta, open( \"gebf-force-vector.dump\", \"wb\" ) )"
   ]
  },
  {
   "cell_type": "code",
   "execution_count": 13,
   "metadata": {
    "collapsed": false
   },
   "outputs": [
    {
     "data": {
      "text/latex": [
       "$$\\left[\\begin{matrix}A E l \\left(0.03125 l \\cos{\\left (q_{3} \\right )} - 0.03125 l \\cos{\\left (q_{7} \\right )} - 0.0625 q_{0} + 0.0625 q_{4} - 0.0625 \\cos{\\left (q_{3} \\right )} - 0.0625 \\cos{\\left (q_{7} \\right )} + 0.0625\\right)\\\\A E l \\left(0.03125 l \\sin{\\left (q_{3} \\right )} - 0.03125 l \\sin{\\left (q_{7} \\right )} - 0.0625 q_{1} + 0.0625 q_{5} - 0.0625 \\sin{\\left (q_{3} \\right )} - 0.0625 \\sin{\\left (q_{7} \\right )}\\right) + A l \\rho \\left(0.00140517899207862 l - 0.00281035798415723\\right)\\\\A E l \\left(- 0.0625 q_{2} + 0.0625 q_{6}\\right)\\\\A l \\rho \\left(- 1.68175593412901 \\cdot 10^{-5} l + 3.36351186825803 \\cdot 10^{-5}\\right) \\sin{\\left (q_{3} \\right )} + E l \\left(- 0.0208333333333333 A l^{2} \\sin{\\left (q_{3} - q_{7} \\right )} - 0.03125 A l q_{0} \\sin{\\left (q_{3} \\right )} + 0.03125 A l q_{1} \\cos{\\left (q_{3} \\right )} + 0.03125 A l q_{4} \\sin{\\left (q_{3} \\right )} - 0.03125 A l q_{5} \\cos{\\left (q_{3} \\right )} + 0.03125 A l \\sin{\\left (q_{3} \\right )} + 0.0625 A q_{0} \\sin{\\left (q_{3} \\right )} - 0.0625 A q_{1} \\cos{\\left (q_{3} \\right )} - 0.0625 A q_{4} \\sin{\\left (q_{3} \\right )} + 0.0625 A q_{5} \\cos{\\left (q_{3} \\right )} - 0.0625 A \\sin{\\left (q_{3} \\right )} + 0.0625 A \\sin{\\left (q_{3} - q_{7} \\right )} - 0.03125 I \\sin{\\left (2 q_{3} - 2 q_{7} \\right )}\\right)\\\\A E l \\left(- 0.03125 l \\cos{\\left (q_{3} \\right )} + 0.03125 l \\cos{\\left (q_{7} \\right )} + 0.0625 q_{0} - 0.0625 q_{4} + 0.0625 \\cos{\\left (q_{3} \\right )} + 0.0625 \\cos{\\left (q_{7} \\right )} - 0.0625\\right)\\\\A E l \\left(- 0.03125 l \\sin{\\left (q_{3} \\right )} + 0.03125 l \\sin{\\left (q_{7} \\right )} + 0.0625 q_{1} - 0.0625 q_{5} + 0.0625 \\sin{\\left (q_{3} \\right )} + 0.0625 \\sin{\\left (q_{7} \\right )}\\right) - A l \\rho \\left(0.00140517899207862 l + 0.00281035798415723\\right)\\\\A E l \\left(0.0625 q_{2} - 0.0625 q_{6}\\right)\\\\A l \\rho \\left(1.68175593412901 \\cdot 10^{-5} l + 3.36351186825803 \\cdot 10^{-5}\\right) \\sin{\\left (q_{7} \\right )} + E l \\left(0.0208333333333333 A l^{2} \\sin{\\left (q_{3} - q_{7} \\right )} + 0.03125 A l q_{0} \\sin{\\left (q_{7} \\right )} - 0.03125 A l q_{1} \\cos{\\left (q_{7} \\right )} - 0.03125 A l q_{4} \\sin{\\left (q_{7} \\right )} + 0.03125 A l q_{5} \\cos{\\left (q_{7} \\right )} - 0.03125 A l \\sin{\\left (q_{7} \\right )} + 0.0625 A q_{0} \\sin{\\left (q_{7} \\right )} - 0.0625 A q_{1} \\cos{\\left (q_{7} \\right )} - 0.0625 A q_{4} \\sin{\\left (q_{7} \\right )} + 0.0625 A q_{5} \\cos{\\left (q_{7} \\right )} - 0.0625 A \\sin{\\left (q_{7} \\right )} - 0.0625 A \\sin{\\left (q_{3} - q_{7} \\right )} + 0.03125 I \\sin{\\left (2 q_{3} - 2 q_{7} \\right )}\\right)\\end{matrix}\\right]$$"
      ],
      "text/plain": [
       "⎡                                                                             \n",
       "⎢                                                                             \n",
       "⎢                                                                             \n",
       "⎢                                                                             \n",
       "⎢                                                                             \n",
       "⎢                                                                             \n",
       "⎢                                                                      ⎛      \n",
       "⎢A⋅l⋅ρ⋅(-- -1.68175593412901e-5⋅l + 3.36351186825803e-5)⋅sin(q₃) + E⋅l⋅⎝- - -0\n",
       "⎢                                                                             \n",
       "⎢                                                                             \n",
       "⎢                                                                             \n",
       "⎢                                                                             \n",
       "⎢                                                                             \n",
       "⎢                                                                             \n",
       "⎢                                                                             \n",
       "⎢                                                                     ⎛       \n",
       "⎣   A⋅l⋅ρ⋅(1.68175593412901e-5⋅l + 3.36351186825803e-5)⋅sin(q₇) + E⋅l⋅⎝0.02083\n",
       "\n",
       "                                                                   A⋅E⋅l⋅(0.03\n",
       "                                                                              \n",
       "                                             A⋅E⋅l⋅(0.03125⋅l⋅sin(q₃) - - -0.0\n",
       "                                                                              \n",
       "                                                                              \n",
       "                                                                              \n",
       "                     2                                                        \n",
       ".0208333333333333⋅A⋅l ⋅sin(q₃ - q₇) - - -0.03125⋅A⋅l⋅q₀⋅sin(q₃) + 0.03125⋅A⋅l⋅\n",
       "                                                                              \n",
       "                                                                      A⋅E⋅l⋅(-\n",
       "                                                                              \n",
       "                                               A⋅E⋅l⋅(-- -0.03125⋅l⋅sin(q₃) + \n",
       "                                                                              \n",
       "                                                                              \n",
       "                                                                              \n",
       "               2                                                              \n",
       "33333333333⋅A⋅l ⋅sin(q₃ - q₇) + 0.03125⋅A⋅l⋅q₀⋅sin(q₇) - - -0.03125⋅A⋅l⋅q₁⋅cos\n",
       "\n",
       "125⋅l⋅cos(q₃) - - -0.03125⋅l⋅cos(q₇) - - -0.0625⋅q₀ + 0.0625⋅q₄ - - -0.0625⋅co\n",
       "                                                                              \n",
       "3125⋅l⋅sin(q₇) - - -0.0625⋅q₁ + 0.0625⋅q₅ - - -0.0625⋅sin(q₃) - - -0.0625⋅sin(\n",
       "                                                                              \n",
       "                                   A⋅E⋅l⋅(-- -0.0625⋅q₂ + 0.0625⋅q₆)          \n",
       "                                                                              \n",
       "                                                                              \n",
       "q₁⋅cos(q₃) + 0.03125⋅A⋅l⋅q₄⋅sin(q₃) - - -0.03125⋅A⋅l⋅q₅⋅cos(q₃) + 0.03125⋅A⋅l⋅\n",
       "                                                                              \n",
       "- -0.03125⋅l⋅cos(q₃) + 0.03125⋅l⋅cos(q₇) + 0.0625⋅q₀ - - -0.0625⋅q₄ + 0.0625⋅c\n",
       "                                                                              \n",
       "0.03125⋅l⋅sin(q₇) + 0.0625⋅q₁ - - -0.0625⋅q₅ + 0.0625⋅sin(q₃) + 0.0625⋅sin(q₇)\n",
       "                                                                              \n",
       "                                   A⋅E⋅l⋅(0.0625⋅q₂ - - -0.0625⋅q₆)           \n",
       "                                                                              \n",
       "                                                                              \n",
       "(q₇) - - -0.03125⋅A⋅l⋅q₄⋅sin(q₇) + 0.03125⋅A⋅l⋅q₅⋅cos(q₇) - - -0.03125⋅A⋅l⋅sin\n",
       "\n",
       "s(q₃) - - -0.0625⋅cos(q₇) + 0.0625)                                           \n",
       "                                                                              \n",
       "q₇)) + A⋅l⋅ρ⋅(0.00140517899207862⋅l - 0.00281035798415723)                    \n",
       "                                                                              \n",
       "                                                                              \n",
       "                                                                              \n",
       "                                                                              \n",
       "sin(q₃) + 0.0625⋅A⋅q₀⋅sin(q₃) - - -0.0625⋅A⋅q₁⋅cos(q₃) - - -0.0625⋅A⋅q₄⋅sin(q₃\n",
       "                                                                              \n",
       "os(q₃) + 0.0625⋅cos(q₇) - 0.0625)                                             \n",
       "                                                                              \n",
       ") - A⋅l⋅ρ⋅(0.00140517899207862⋅l + 0.00281035798415723)                       \n",
       "                                                                              \n",
       "                                                                              \n",
       "                                                                              \n",
       "                                                                              \n",
       "(q₇) + 0.0625⋅A⋅q₀⋅sin(q₇) - - -0.0625⋅A⋅q₁⋅cos(q₇) - - -0.0625⋅A⋅q₄⋅sin(q₇) +\n",
       "\n",
       "                                                                              \n",
       "                                                                              \n",
       "                                                                              \n",
       "                                                                              \n",
       "                                                                              \n",
       "                                                                              \n",
       "                                                                              \n",
       ") + 0.0625⋅A⋅q₅⋅cos(q₃) - - -0.0625⋅A⋅sin(q₃) + 0.0625⋅A⋅sin(q₃ - q₇) - - -0.0\n",
       "                                                                              \n",
       "                                                                              \n",
       "                                                                              \n",
       "                                                                              \n",
       "                                                                              \n",
       "                                                                              \n",
       "                                                                              \n",
       "                                                                              \n",
       " 0.0625⋅A⋅q₅⋅cos(q₇) - - -0.0625⋅A⋅sin(q₇) - - -0.0625⋅A⋅sin(q₃ - q₇) + 0.0312\n",
       "\n",
       "                        ⎤\n",
       "                        ⎥\n",
       "                        ⎥\n",
       "                        ⎥\n",
       "                        ⎥\n",
       "                        ⎥\n",
       "                       ⎞⎥\n",
       "3125⋅I⋅sin(2⋅q₃ - 2⋅q₇)⎠⎥\n",
       "                        ⎥\n",
       "                        ⎥\n",
       "                        ⎥\n",
       "                        ⎥\n",
       "                        ⎥\n",
       "                        ⎥\n",
       "                        ⎥\n",
       "                    ⎞   ⎥\n",
       "5⋅I⋅sin(2⋅q₃ - 2⋅q₇)⎠   ⎦"
      ]
     },
     "metadata": {},
     "output_type": "display_data"
    }
   ],
   "source": [
    "display(beta)"
   ]
  },
  {
   "cell_type": "code",
   "execution_count": null,
   "metadata": {
    "collapsed": true
   },
   "outputs": [],
   "source": []
  }
 ],
 "metadata": {
  "kernelspec": {
   "display_name": "Python 3",
   "language": "python",
   "name": "python3"
  },
  "language_info": {
   "codemirror_mode": {
    "name": "ipython",
    "version": 3
   },
   "file_extension": ".py",
   "mimetype": "text/x-python",
   "name": "python",
   "nbconvert_exporter": "python",
   "pygments_lexer": "ipython3",
   "version": "3.4.3"
  }
 },
 "nbformat": 4,
 "nbformat_minor": 0
}

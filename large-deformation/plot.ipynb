{
 "cells": [
  {
   "cell_type": "markdown",
   "metadata": {},
   "source": [
    "## This notebook simulates a cantilever beam"
   ]
  },
  {
   "cell_type": "code",
   "execution_count": 1,
   "metadata": {
    "collapsed": false
   },
   "outputs": [],
   "source": [
    "import numpy as np\n",
    "import matplotlib.pyplot as plt\n",
    "import matplotlib.animation as animation\n",
    "%matplotlib inline"
   ]
  },
  {
   "cell_type": "code",
   "execution_count": 2,
   "metadata": {
    "collapsed": true
   },
   "outputs": [],
   "source": [
    "# t = 0.005\n",
    "# dt = 0.0001\n",
    "# tspan = np.arange(0,t,dt)\n",
    "# ntsteps = tspan.size"
   ]
  },
  {
   "cell_type": "code",
   "execution_count": 3,
   "metadata": {
    "collapsed": false
   },
   "outputs": [],
   "source": [
    "# x = np.fromfile('x.out')\n",
    "# x = np.array_split(x,ntsteps)\n",
    "# y = np.fromfile('y.out')\n",
    "# y = np.array_split(y,ntsteps)"
   ]
  },
  {
   "cell_type": "code",
   "execution_count": 4,
   "metadata": {
    "collapsed": false
   },
   "outputs": [],
   "source": [
    "# fig = plt.figure()\n",
    "# ax = fig.add_subplot(111, autoscale_on=False, xlim=(0.0, 0.3), ylim=(-0.1, 0.1))\n",
    "# ax.grid()\n",
    "\n",
    "# line, = ax.plot([], [], 'o-', lw=2)\n",
    "# time_template = 'time = %.001fs'\n",
    "# time_text = ax.text(0.05, 0.9, '', transform=ax.transAxes)\n",
    "\n",
    "# def init():\n",
    "#     line.set_data([], [])\n",
    "#     time_text.set_text('')\n",
    "#     return line, time_text\n",
    "\n",
    "# def animate(i):\n",
    "#     thisx = x[i]\n",
    "#     thisy = y[i]\n",
    "\n",
    "#     line.set_data(thisx, thisy)\n",
    "#     time_text.set_text(time_template%(i*dt))\n",
    "#     return line, time_text\n",
    "\n",
    "# ani = animation.FuncAnimation(fig, animate, np.arange(1, len(y)),\n",
    "#     interval = 10, blit=False, init_func=init)\n",
    "\n",
    "# #ani.save('double_pendulum.mp4', fps=15)\n",
    "# plt.show()"
   ]
  },
  {
   "cell_type": "code",
   "execution_count": 7,
   "metadata": {
    "collapsed": false
   },
   "outputs": [],
   "source": [
    "theta = np.fromfile('theta.data')\n",
    "Ul_theta1 = np.fromfile('strainEnergy1.data')\n",
    "Ul_theta2 = np.fromfile('strainEnergy2.data')"
   ]
  },
  {
   "cell_type": "code",
   "execution_count": 8,
   "metadata": {
    "collapsed": false
   },
   "outputs": [
    {
     "data": {
      "image/png": "[encoded data removed]",
      "text/plain": [
       "<matplotlib.figure.Figure at 0x106751358>"
      ]
     },
     "metadata": {},
     "output_type": "display_data"
    }
   ],
   "source": [
    "line, = plt.plot(theta/np.pi, Ul_theta1, '-b', linewidth=2)\n",
    "plt.show()"
   ]
  },
  {
   "cell_type": "code",
   "execution_count": 9,
   "metadata": {
    "collapsed": false
   },
   "outputs": [
    {
     "data": {
      "image/png": "[encoded data removed]",
      "text/plain": [
       "<matplotlib.figure.Figure at 0x106853470>"
      ]
     },
     "metadata": {},
     "output_type": "display_data"
    }
   ],
   "source": [
    "line, = plt.plot(theta/np.pi, Ul_theta2, '-b', linewidth=2)\n",
    "plt.show()"
   ]
  },
  {
   "cell_type": "code",
   "execution_count": null,
   "metadata": {
    "collapsed": true
   },
   "outputs": [],
   "source": []
  }
 ],
 "metadata": {
  "kernelspec": {
   "display_name": "Python 3",
   "language": "python",
   "name": "python3"
  },
  "language_info": {
   "codemirror_mode": {
    "name": "ipython",
    "version": 3
   },
   "file_extension": ".py",
   "mimetype": "text/x-python",
   "name": "python",
   "nbconvert_exporter": "python",
   "pygments_lexer": "ipython3",
   "version": "3.4.3"
  }
 },
 "nbformat": 4,
 "nbformat_minor": 0
}

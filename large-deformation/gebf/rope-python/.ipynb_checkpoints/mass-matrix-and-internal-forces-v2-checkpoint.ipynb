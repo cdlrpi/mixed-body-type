{
 "metadata": {
  "name": "",
  "signature": "sha256:76144ef5f3935729103d1697d5722a15cabd6f9e911db234b2af42e6bd9bae8a"
 },
 "nbformat": 3,
 "nbformat_minor": 0,
 "worksheets": [
  {
   "cells": [
    {
     "cell_type": "markdown",
     "metadata": {},
     "source": [
      "#Beam Element - This notebook computes the mass matrix and internal forces and outputs them for later use"
     ]
    },
    {
     "cell_type": "code",
     "collapsed": false,
     "input": [
      "import numpy as np\n",
      "import scipy as sp\n",
      "import sympy as sym\n",
      "import pickle\n",
      "\n",
      "from sympy import cos, sin\n",
      "\n",
      "from IPython.display import display\n",
      "from __future__ import division\n",
      "from sympy.interactive import printing\n",
      "printing.init_printing(use_latex='mathjax')"
     ],
     "language": "python",
     "metadata": {},
     "outputs": []
    },
    {
     "cell_type": "code",
     "collapsed": false,
     "input": [
      "sym.mpmath.mp.pretty=True"
     ],
     "language": "python",
     "metadata": {},
     "outputs": []
    },
    {
     "cell_type": "code",
     "collapsed": false,
     "input": [
      "def Skew_sym(v):\n",
      "    \"\"\"\n",
      "    This function returns the skew symetric matrix \n",
      "    of the vector 'v' to affect the cross product of 'v'x'u'\n",
      "    \"\"\"\n",
      "    v_skew = sym.Matrix([[  0 , -v[2],  v[1]],\n",
      "                         [v[2],     0, -v[0]],\n",
      "                         [-v[1],  v[0],    0]])\n",
      "    return v_skew"
     ],
     "language": "python",
     "metadata": {},
     "outputs": []
    },
    {
     "cell_type": "code",
     "collapsed": false,
     "input": [
      "def Rotate_sym(theta):\n",
      "    \"\"\"\n",
      "    This function returns the symbolic rotation matrix \n",
      "    for the simple 2D-rotation about the third axis\n",
      "    \"\"\"\n",
      "    R = sym.Matrix([[cos(theta), sin(theta), 0],\n",
      "                   [-sin(theta), cos(theta), 0],[0,0,1]])\n",
      "    return R"
     ],
     "language": "python",
     "metadata": {},
     "outputs": []
    },
    {
     "cell_type": "markdown",
     "metadata": {},
     "source": [
      "#### Define symbolic quantites"
     ]
    },
    {
     "cell_type": "code",
     "collapsed": false,
     "input": [
      "# nodal positons, velocities, and accelerations\n",
      "\"\"\"\n",
      "\"\"\"\n",
      "\n",
      "# symbolic system parameters \n",
      "E, I, A, rho, x, l, tau_a = sym.symbols('E I A rho x l, tau_a')\n",
      "\n",
      "# Beam coordinates at cross-section 1 and 2\n",
      "r1 = sym.Matrix(['r_1x','r_1y'])\n",
      "r2 = sym.Matrix(['r_2x','r_2y'])\n",
      "\n",
      "# Deformation coordinates\n",
      "u = sym.Matrix(['u_1x','u_1y','u_1z','u_2x','u_2y','u_2z'])\n",
      "udot = sym.Matrix(['udot_1x','udot_1y','udot_1z','udot_2x','udot_2y','udot_2z'])\n",
      "uddot = sym.Matrix(['uddot_1x','uddot_1y','uddot_1z','uddot_2x','uddot_2y','uddot_2z'])\n",
      "\n",
      "theta = sym.Matrix(['theta_1x','theta_1y','theta_1z','theta_2x','theta_2y','theta_2z'])\n",
      "omega = sym.Matrix(['omega_1x','omega_1y','omega_1z','omega_2x','omega_2y','omega_2z'])\n",
      "alpha = sym.Matrix(['alpha_1x','alpha_1y','alpha_1z','alpha_2x','alpha_2y','alpha_2z'])\n",
      "\n",
      "# locating the point in the cross section\n",
      "s1 = sym.Matrix([0, r1])\n",
      "s2 = sym.Matrix([0, r2])\n",
      "s = sym.Matrix.vstack(s1,s2)\n",
      "\n",
      "# define state variables\n",
      "e = sym.Matrix([u[3:6,0], theta[0:3,0], u[3:6,0], theta[3:6,0]])\n",
      "edot = sym.Matrix([udot[0:3,0], omega[0:3,0], udot[3:6,0], omega[3:6,0]])\n",
      "eddot = sym.Matrix([uddot[0:3,0], alpha[0:3,0], uddot[3:6,0], alpha[3:6,0]])\n",
      "# e = u\n",
      "# edot = udot\n",
      "# eddot = uddot\n",
      "display(s)\n",
      "display([e,edot,eddot])"
     ],
     "language": "python",
     "metadata": {},
     "outputs": []
    },
    {
     "cell_type": "markdown",
     "metadata": {},
     "source": [
      "### Needed Matrix Quantities"
     ]
    },
    {
     "cell_type": "code",
     "collapsed": false,
     "input": [
      "# angular velocity for 2D case is trivial\n",
      "omega1_skew = Skew_sym(omega[0:3,0])\n",
      "omega2_skew = Skew_sym(omega[3:6,0])\n",
      "alpha1_skew = Skew_sym(alpha[0:3,0])\n",
      "alpha2_skew = Skew_sym(alpha[3:6,0])\n",
      "\n",
      "# Rotation for a 2D problem\n",
      "R1 = Rotate_sym(theta[2])\n",
      "R2 = Rotate_sym(theta[5])\n",
      "# display(R1,R2)\n",
      "\n",
      "# \"spatial\" rotation matrix\n",
      "R = sym.Matrix.vstack(sym.Matrix.hstack(R1,sym.zeros(3)), \\\n",
      "                      sym.Matrix.hstack(sym.zeros(3),R2))\n",
      "\n",
      "# \"spatial\" angular velocity matrix\n",
      "Omega_skew = sym.Matrix.vstack(sym.Matrix.hstack(omega1_skew,sym.zeros(3)), \\\n",
      "                               sym.Matrix.hstack(sym.zeros(3),omega2_skew))\n",
      "\n",
      "# \"spatial\" angular acceleration matrix\n",
      "Alpha_skew = sym.Matrix.vstack(sym.Matrix.hstack(alpha1_skew,sym.zeros(3)), \\\n",
      "                               sym.Matrix.hstack(sym.zeros(3),alpha2_skew))\n",
      "# display(Omega)"
     ],
     "language": "python",
     "metadata": {},
     "outputs": []
    },
    {
     "cell_type": "markdown",
     "metadata": {},
     "source": [
      "### Define Kinematics"
     ]
    },
    {
     "cell_type": "code",
     "collapsed": false,
     "input": [
      "# Define velocity of element endpoints (nodes)\n",
      "v = sym.simplify(udot + R*Omega_skew*s)\n",
      "print('v = ')\n",
      "display(v)\n",
      "\n",
      "# Define acceleration of element endpoints (nodes)\n",
      "a = sym.simplify(uddot + R*Omega_skew*Omega_skew*s + R*Alpha_skew*s)\n",
      "print('\\na = ')\n",
      "display(a)"
     ],
     "language": "python",
     "metadata": {},
     "outputs": []
    },
    {
     "cell_type": "markdown",
     "metadata": {},
     "source": [
      "### Compute the Mass Matrix"
     ]
    },
    {
     "cell_type": "code",
     "collapsed": false,
     "input": [
      "# Define shape function for element with one node at each end\n",
      "h = sym.symarray('h', 2)\n",
      "\n",
      "h[0] = sym.Rational(1,2)*(1 - x)\n",
      "h[1] = sym.Rational(1,2)*(1 + x)\n",
      "\n",
      "# Compute shape function matrix\n",
      "H = sym.expand(sym.Matrix([h[0]*sym.eye(3), h[1]*sym.eye(3)])).T\n",
      "print('\\nH = ')\n",
      "display(H.T)\n",
      "\n",
      "# Define velocity of any point \n",
      "Vp = H*v\n",
      "print('\\nV = ')\n",
      "display(V)\n",
      "\n",
      "# Define velocity of any point \n",
      "Ap = H*a\n",
      "# print('\\nA = ')\n",
      "# display(Accel)\n",
      "\n",
      "# Compute partial velocities of the nodes\n",
      "Vr = sym.Matrix([[sym.diff(Vp[j],edot[i]) \n",
      "                         for j in range(len(Vp))] for i in range(len(edot))]).T\n",
      "# v_r = H\n",
      "print('\\nVr = ')\n",
      "display(Vr.T)\n",
      "print(Vr.shape)\n",
      "\n",
      "# # Compute mass matrix\n",
      "# M = sym.Matrix([[sym.expand(sym.integrate(Vr[:,i].dot(Ap)*rho*A,(x,0,l))).coeff(eddot[j]) for i in range(len(eddot))]\n",
      "#                 for j in range(len(eddot))])\n",
      "# print('\\nM = \\n')\n",
      "# display(M)\n",
      "# pickle.dump( M, open( \"mass-matrix.dump\", \"wb\" ) )"
     ],
     "language": "python",
     "metadata": {},
     "outputs": []
    },
    {
     "cell_type": "code",
     "collapsed": false,
     "input": [
      "sym.factor(M,A*rho*l)"
     ],
     "language": "python",
     "metadata": {},
     "outputs": []
    },
    {
     "cell_type": "markdown",
     "metadata": {},
     "source": [
      "### Compute Internal forces "
     ]
    },
    {
     "cell_type": "markdown",
     "metadata": {},
     "source": [
      "#### Compute Longitudinal Strain Energy"
     ]
    },
    {
     "cell_type": "code",
     "collapsed": false,
     "input": [],
     "language": "python",
     "metadata": {},
     "outputs": []
    },
    {
     "cell_type": "markdown",
     "metadata": {},
     "source": [
      "#### Compute Transverse Strain Energy"
     ]
    },
    {
     "cell_type": "code",
     "collapsed": false,
     "input": [],
     "language": "python",
     "metadata": {},
     "outputs": []
    },
    {
     "cell_type": "markdown",
     "metadata": {},
     "source": [
      "#### Compute Internal Forces $Q_e = \\frac{\\partial U}{\\partial e}$"
     ]
    },
    {
     "cell_type": "code",
     "collapsed": false,
     "input": [],
     "language": "python",
     "metadata": {},
     "outputs": []
    },
    {
     "cell_type": "markdown",
     "metadata": {},
     "source": [
      "### Applied and body force vector"
     ]
    },
    {
     "cell_type": "code",
     "collapsed": false,
     "input": [],
     "language": "python",
     "metadata": {},
     "outputs": []
    }
   ],
   "metadata": {}
  }
 ]
}
{
 "metadata": {
  "name": "",
  "signature": "sha256:a6e7665d6f4720b738acb7fd33409d034ba7cba9bd06159475f1c32fc07d9f7a"
 },
 "nbformat": 3,
 "nbformat_minor": 0,
 "worksheets": [
  {
   "cells": [
    {
     "cell_type": "markdown",
     "metadata": {},
     "source": [
      "#Beam Element - This notebook computes the mass matrix and internal forces and outputs them for later use"
     ]
    },
    {
     "cell_type": "code",
     "collapsed": false,
     "input": [
      "import numpy as np\n",
      "import scipy as sp\n",
      "import sympy as sym\n",
      "import pickle\n",
      "\n",
      "from sympy import cos, sin\n",
      "\n",
      "from IPython.display import display\n",
      "\n",
      "from sympy import init_printing\n",
      "init_printing(use_latex=True)"
     ],
     "language": "python",
     "metadata": {},
     "outputs": [],
     "prompt_number": 1
    },
    {
     "cell_type": "markdown",
     "metadata": {},
     "source": [
      "#### Define symbolic quantites for coordinates"
     ]
    },
    {
     "cell_type": "code",
     "collapsed": false,
     "input": [
      "# nodal positons, velocities, and accelerations\n",
      "\"\"\"\n",
      "\n",
      "\"\"\"\n",
      "\n",
      "# Beam coordinates\n",
      "r = sym.Matrix(sym.symarray('r',4))\n",
      "\n",
      "# Deformation coordinates\n",
      "uu = sym.Matrix(sym.symarray('u',4))\n",
      "u = sym.Matrix(uu[1:4])\n",
      "uu_dot = sym.Matrix(sym.symarray('udot',len(uu)))\n",
      "u_dot = sym.Matrix(uu_dot[1:4])\n",
      "uu_ddot = sym.Matrix(sym.symarray('uddot',len(uu)))\n",
      "u_ddot = sym.Matrix(uu_ddot[1:4])\n",
      "\n",
      "# # Rotation coordinates\n",
      "omega = sym.Matrix(sym.symarray('omega',4))\n",
      "alpha = sym.Matrix(sym.symarray('omega',4))\n",
      "theta = sym.Matrix(sym.symarray('theta',4))\n",
      "theta_dot = sym.Matrix(sym.symarray('thetadot',4))\n",
      "theta_ddot = sym.Matrix(sym.symarray('thetaddot',4))\n",
      "# display(theta, theta_dot, theta_ddot)\n",
      "\n",
      "# symbolic system parameters \n",
      "E, I, A, rho, x, l, tau_a = sym.symbols('E I A rho x l, tau_a')\n",
      "\n",
      "# Define the state vector\n",
      "# e = sym.Matrix([u[0], u[1], u[2], theta[0], theta[1], theta[2]])\n",
      "e_dot = sym.Matrix([u_dot[0], u_dot[1], u_dot[2], theta_dot[1], theta_dot[2], theta_dot[3]])\n",
      "e_ddot = sym.Matrix([u_ddot[0], u_ddot[1], u_ddot[2], theta_ddot[1], theta_ddot[2], theta_ddot[3]])"
     ],
     "language": "python",
     "metadata": {},
     "outputs": [],
     "prompt_number": 2
    },
    {
     "cell_type": "code",
     "collapsed": false,
     "input": [
      "s = [0, r[2], r[3]]\n",
      "display(s)"
     ],
     "language": "python",
     "metadata": {},
     "outputs": [
      {
       "latex": [
        "$$\\left [ 0, \\quad r_{2}, \\quad r_{3}\\right ]$$"
       ],
       "metadata": {},
       "output_type": "display_data",
       "png": "[encoded data removed]",
       "text": [
        "[0, r\u2082, r\u2083]"
       ]
      }
     ],
     "prompt_number": 3
    },
    {
     "cell_type": "markdown",
     "metadata": {},
     "source": [
      "### Needed Quantities"
     ]
    },
    {
     "cell_type": "code",
     "collapsed": false,
     "input": [
      "# Define the vector locating the point in the cross-section\n",
      "s = sym.Matrix([0,r[2],r[3]])\n",
      "# display(s)\n",
      "\n",
      "# angular velocity for 2D case is trivial\n",
      "omega_skew = sym.Matrix([[0,-theta_dot[3], 0],[theta_dot[3], 0, 0],[0, 0, 0]])\n",
      "# omega_skew = sym.Matrix([[0, -omega[3], omega[2]],[omega[3], 0, -omega[1]],[-omega[2], omega[1], 0]])\n",
      "\n",
      "# angular acceleration for 2D case is also trivial\n",
      "# alpha_skew = sym.Matrix([[0,-theta_ddot, 0],[theta_ddot, 0, 0],[0, 0, 0]])\n",
      "alpha_skew = sym.Matrix([[0, -alpha[3], alpha[2]],[alpha[3], 0, -alpha[1]],[-alpha[2], alpha[1], 0]])\n",
      "\n",
      "# Define the rotation matrix (2D problem)\n",
      "R = sym.Matrix([[cos(theta[3]), sin(theta[3]), 1],[-sin(theta[3]), cos(theta[3]), 1],[0,0,1]])\n",
      "# display(R)"
     ],
     "language": "python",
     "metadata": {},
     "outputs": [],
     "prompt_number": 4
    },
    {
     "cell_type": "markdown",
     "metadata": {},
     "source": [
      "### Define Kinematics"
     ]
    },
    {
     "cell_type": "code",
     "collapsed": false,
     "input": [
      "# Define velocity of element endpoints (nodes)\n",
      "v = u_dot + R*omega_skew*s\n",
      "print('velocity of any point = ')\n",
      "display(v)\n",
      "\n",
      "a = u_ddot + R*omega_skew*omega_skew*s + R*alpha_skew*s\n",
      "print('\\nacceleration of any point = ')\n",
      "display(a)"
     ],
     "language": "python",
     "metadata": {},
     "outputs": [
      {
       "output_type": "stream",
       "stream": "stdout",
       "text": [
        "velocity of any point = \n"
       ]
      },
      {
       "latex": [
        "$$\\left[\\begin{matrix}- r_{2} \\dot{\\theta}_{3} \\cos{\\left (\\theta_{3} \\right )} + \\dot{u}_{1}\\\\r_{2} \\dot{\\theta}_{3} \\sin{\\left (\\theta_{3} \\right )} + \\dot{u}_{2}\\\\\\dot{u}_{3}\\end{matrix}\\right]$$"
       ],
       "metadata": {},
       "output_type": "display_data",
       "png": "[encoded data removed]",
       "text": [
        "\u23a1-r\u2082\u22c5\u03b8\u0307\u2083\u22c5cos(\u03b8\u2083) + u\u0307\u2081\u23a4\n",
        "\u23a2                     \u23a5\n",
        "\u23a2r\u2082\u22c5\u03b8\u0307\u2083\u22c5sin(\u03b8\u2083) + u\u0307\u2082 \u23a5\n",
        "\u23a2                     \u23a5\n",
        "\u23a3         u\u0307\u2083         \u23a6"
       ]
      },
      {
       "output_type": "stream",
       "stream": "stdout",
       "text": [
        "\n",
        "acceleration of any point = \n"
       ]
      },
      {
       "latex": [
        "$$\\left[\\begin{matrix}- r_{2} \\dot{\\theta}_{3}^{2} \\sin{\\left (\\theta_{3} \\right )} + r_{2} \\left(\\omega_{1} - \\omega_{3} \\cos{\\left (\\theta_{3} \\right )}\\right) + r_{3} \\left(- \\omega_{1} \\sin{\\left (\\theta_{3} \\right )} + \\omega_{2} \\cos{\\left (\\theta_{3} \\right )}\\right) + \\ddot{u}_{1}\\\\- r_{2} \\dot{\\theta}_{3}^{2} \\cos{\\left (\\theta_{3} \\right )} + r_{2} \\left(\\omega_{1} + \\omega_{3} \\sin{\\left (\\theta_{3} \\right )}\\right) + r_{3} \\left(- \\omega_{1} \\cos{\\left (\\theta_{3} \\right )} - \\omega_{2} \\sin{\\left (\\theta_{3} \\right )}\\right) + \\ddot{u}_{2}\\\\\\omega_{1} r_{2} + \\ddot{u}_{3}\\end{matrix}\\right]$$"
       ],
       "metadata": {},
       "output_type": "display_data",
       "png": "[encoded data removed]",
       "text": [
        "\u23a1        2                                                                    \n",
        "\u23a2- r\u2082\u22c5\u03b8\u0307\u2083 \u22c5sin(\u03b8\u2083) + r\u2082\u22c5(\u03c9\u2081 - \u03c9\u2083\u22c5cos(\u03b8\u2083)) + r\u2083\u22c5(-\u03c9\u2081\u22c5sin(\u03b8\u2083) + \u03c9\u2082\u22c5cos(\u03b8\u2083)) + u\u0308\n",
        "\u23a2                                                                             \n",
        "\u23a2        2                                                                    \n",
        "\u23a2- r\u2082\u22c5\u03b8\u0307\u2083 \u22c5cos(\u03b8\u2083) + r\u2082\u22c5(\u03c9\u2081 + \u03c9\u2083\u22c5sin(\u03b8\u2083)) + r\u2083\u22c5(-\u03c9\u2081\u22c5cos(\u03b8\u2083) - \u03c9\u2082\u22c5sin(\u03b8\u2083)) + u\u0308\n",
        "\u23a2                                                                             \n",
        "\u23a3                                 \u03c9\u2081\u22c5r\u2082 + u\u0308\u2083                                 \n",
        "\n",
        " \u23a4\n",
        "\u2081\u23a5\n",
        " \u23a5\n",
        " \u23a5\n",
        "\u2082\u23a5\n",
        " \u23a5\n",
        " \u23a6"
       ]
      }
     ],
     "prompt_number": 5
    },
    {
     "cell_type": "markdown",
     "metadata": {},
     "source": [
      "### Compute the Mass Matrix"
     ]
    },
    {
     "cell_type": "code",
     "collapsed": false,
     "input": [
      "# Define shape function for element with one node at each end\n",
      "h = sym.symarray('h', 2)\n",
      "\n",
      "h[0] = 1/2*(1 - x)\n",
      "h[1] = 1/2*(1 + x)\n",
      "\n",
      "# Compute shape function matrix\n",
      "H = sym.expand(sym.Matrix([h[0]*sym.eye(3), h[1]*sym.eye(3)])).T\n",
      "display(H)\n",
      "print(H.shape)\n",
      "print(v.T.shape)\n",
      "\n",
      "# Define velocity of any point \n",
      "V = H*v.T\n",
      "\n",
      "# Compute partial velocities of the nodes\n",
      "v_r = sym.Matrix([[sym.diff(V[j],e_dot[i]) \n",
      "                         for j in range(len(v))] for i in range(len(e_dot))]).T\n",
      "print('v_r = ')\n",
      "display(v_r)\n",
      "\n",
      "# # Compute mass matrix\n",
      "# M = sym.Matrix([[sym.expand(sym.integrate(v_r[:,j].dot(a)*rho*A,(x,0,l))).coeff(e_ddot[i]) for i in range(len(e_dot))]\n",
      "#                 for j in range(len(e_dot))])\n",
      "# print('\\nM = ')\n",
      "# display(M)"
     ],
     "language": "python",
     "metadata": {},
     "outputs": [
      {
       "latex": [
        "$$\\left[\\begin{matrix}- 0.5 x + 0.5 & 0 & 0 & 0.5 x + 0.5 & 0 & 0\\\\0 & - 0.5 x + 0.5 & 0 & 0 & 0.5 x + 0.5 & 0\\\\0 & 0 & - 0.5 x + 0.5 & 0 & 0 & 0.5 x + 0.5\\end{matrix}\\right]$$"
       ],
       "metadata": {},
       "output_type": "display_data",
       "png": "[encoded data removed]",
       "text": [
        "\u23a1-- -0.5\u22c5x + 0.5         0                0         0.5\u22c5x + 0.5       0       \n",
        "\u23a2                                                                             \n",
        "\u23a2       0         -- -0.5\u22c5x + 0.5         0              0       0.5\u22c5x + 0.5  \n",
        "\u23a2                                                                             \n",
        "\u23a3       0                0         -- -0.5\u22c5x + 0.5       0            0       \n",
        "\n",
        "     0     \u23a4\n",
        "           \u23a5\n",
        "     0     \u23a5\n",
        "           \u23a5\n",
        "0.5\u22c5x + 0.5\u23a6"
       ]
      },
      {
       "output_type": "stream",
       "stream": "stdout",
       "text": [
        "(3, 6)\n",
        "(1, 3)\n"
       ]
      },
      {
       "ename": "ShapeError",
       "evalue": "Matrices size mismatch.",
       "output_type": "pyerr",
       "traceback": [
        "\u001b[0;31m---------------------------------------------------------------------------\u001b[0m\n\u001b[0;31mShapeError\u001b[0m                                Traceback (most recent call last)",
        "\u001b[0;32m<ipython-input-9-b6c9697a833d>\u001b[0m in \u001b[0;36m<module>\u001b[0;34m()\u001b[0m\n\u001b[1;32m     12\u001b[0m \u001b[0;34m\u001b[0m\u001b[0m\n\u001b[1;32m     13\u001b[0m \u001b[0;31m# Define velocity of any point\u001b[0m\u001b[0;34m\u001b[0m\u001b[0;34m\u001b[0m\u001b[0m\n\u001b[0;32m---> 14\u001b[0;31m \u001b[0mV\u001b[0m \u001b[0;34m=\u001b[0m \u001b[0mH\u001b[0m\u001b[0;34m*\u001b[0m\u001b[0mv\u001b[0m\u001b[0;34m.\u001b[0m\u001b[0mT\u001b[0m\u001b[0;34m\u001b[0m\u001b[0m\n\u001b[0m\u001b[1;32m     15\u001b[0m \u001b[0;34m\u001b[0m\u001b[0m\n\u001b[1;32m     16\u001b[0m \u001b[0;31m# Compute partial velocities of the nodes\u001b[0m\u001b[0;34m\u001b[0m\u001b[0;34m\u001b[0m\u001b[0m\n",
        "\u001b[0;32m/Users/laflij/Software/anaconda/envs/py34/lib/python3.4/site-packages/sympy/matrices/matrices.py\u001b[0m in \u001b[0;36m__mul__\u001b[0;34m(self, other)\u001b[0m\n\u001b[1;32m    512\u001b[0m             \u001b[0mB\u001b[0m \u001b[0;34m=\u001b[0m \u001b[0mother\u001b[0m\u001b[0;34m\u001b[0m\u001b[0m\n\u001b[1;32m    513\u001b[0m             \u001b[0;32mif\u001b[0m \u001b[0mA\u001b[0m\u001b[0;34m.\u001b[0m\u001b[0mcols\u001b[0m \u001b[0;34m!=\u001b[0m \u001b[0mB\u001b[0m\u001b[0;34m.\u001b[0m\u001b[0mrows\u001b[0m\u001b[0;34m:\u001b[0m\u001b[0;34m\u001b[0m\u001b[0m\n\u001b[0;32m--> 514\u001b[0;31m                 \u001b[0;32mraise\u001b[0m \u001b[0mShapeError\u001b[0m\u001b[0;34m(\u001b[0m\u001b[0;34m\"Matrices size mismatch.\"\u001b[0m\u001b[0;34m)\u001b[0m\u001b[0;34m\u001b[0m\u001b[0m\n\u001b[0m\u001b[1;32m    515\u001b[0m             \u001b[0;32mif\u001b[0m \u001b[0mA\u001b[0m\u001b[0;34m.\u001b[0m\u001b[0mcols\u001b[0m \u001b[0;34m==\u001b[0m \u001b[0;36m0\u001b[0m\u001b[0;34m:\u001b[0m\u001b[0;34m\u001b[0m\u001b[0m\n\u001b[1;32m    516\u001b[0m                 \u001b[0;32mreturn\u001b[0m \u001b[0mclassof\u001b[0m\u001b[0;34m(\u001b[0m\u001b[0mA\u001b[0m\u001b[0;34m,\u001b[0m \u001b[0mB\u001b[0m\u001b[0;34m)\u001b[0m\u001b[0;34m.\u001b[0m\u001b[0m_new\u001b[0m\u001b[0;34m(\u001b[0m\u001b[0mA\u001b[0m\u001b[0;34m.\u001b[0m\u001b[0mrows\u001b[0m\u001b[0;34m,\u001b[0m \u001b[0mB\u001b[0m\u001b[0;34m.\u001b[0m\u001b[0mcols\u001b[0m\u001b[0;34m,\u001b[0m \u001b[0;32mlambda\u001b[0m \u001b[0mi\u001b[0m\u001b[0;34m,\u001b[0m \u001b[0mj\u001b[0m\u001b[0;34m:\u001b[0m \u001b[0;36m0\u001b[0m\u001b[0;34m)\u001b[0m\u001b[0;34m\u001b[0m\u001b[0m\n",
        "\u001b[0;31mShapeError\u001b[0m: Matrices size mismatch."
       ]
      }
     ],
     "prompt_number": 9
    },
    {
     "cell_type": "markdown",
     "metadata": {},
     "source": [
      "### Compute Internal forces "
     ]
    },
    {
     "cell_type": "markdown",
     "metadata": {},
     "source": [
      "#### Compute Longitudinal Strain Energy"
     ]
    },
    {
     "cell_type": "code",
     "collapsed": false,
     "input": [],
     "language": "python",
     "metadata": {},
     "outputs": [],
     "prompt_number": 6
    },
    {
     "cell_type": "markdown",
     "metadata": {},
     "source": [
      "#### Compute Transverse Strain Energy"
     ]
    },
    {
     "cell_type": "code",
     "collapsed": false,
     "input": [],
     "language": "python",
     "metadata": {},
     "outputs": [],
     "prompt_number": 6
    },
    {
     "cell_type": "markdown",
     "metadata": {},
     "source": [
      "#### Compute Internal Forces $Q_e = \\frac{\\partial U}{\\partial e}$"
     ]
    },
    {
     "cell_type": "code",
     "collapsed": false,
     "input": [],
     "language": "python",
     "metadata": {},
     "outputs": [],
     "prompt_number": 6
    },
    {
     "cell_type": "markdown",
     "metadata": {},
     "source": [
      "### Applied and body force vector"
     ]
    },
    {
     "cell_type": "code",
     "collapsed": false,
     "input": [],
     "language": "python",
     "metadata": {},
     "outputs": [],
     "prompt_number": 6
    }
   ],
   "metadata": {}
  }
 ]
}
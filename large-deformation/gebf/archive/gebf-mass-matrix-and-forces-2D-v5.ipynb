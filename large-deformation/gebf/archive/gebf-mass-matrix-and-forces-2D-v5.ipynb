{
 "cells": [
  {
   "cell_type": "markdown",
   "metadata": {},
   "source": [
    "# Beam Element - This notebook computes the mass-matrix and body-forces for later use"
   ]
  },
  {
   "cell_type": "markdown",
   "metadata": {},
   "source": [
    "1. 2D beam generalized coordinates (1 rotation 2 displacements) (Reduced dimensions so all matricies are subsequently invertible, Mii = 0 if some dof's are accounted for but  unused)\n",
    "2. Interpolation of roataion matricies WITHOUT orthogonalization (sympy struggling with too much algebra)\n",
    "3. Square(?) cross-section with dimension 'r'"
   ]
  },
  {
   "cell_type": "code",
   "execution_count": 1,
   "metadata": {
    "collapsed": false
   },
   "outputs": [],
   "source": [
    "import numpy as np\n",
    "import scipy as sp\n",
    "import sympy as sym\n",
    "import pickle\n",
    "\n",
    "from scipy import linalg\n",
    "from sympy import mpmath\n",
    "from sympy import cos, sin\n",
    "from sympy import lambdify\n",
    "\n",
    "from IPython.display import display\n",
    "from __future__ import division\n",
    "from sympy.interactive import printing\n",
    "printing.init_printing(use_latex=True)\n",
    "np.set_printoptions(precision=4,suppress=True)\n",
    "from sympy.interactive import printing\n",
    "\n",
    "\n",
    "import matplotlib.pyplot as plt\n",
    "%matplotlib inline"
   ]
  },
  {
   "cell_type": "markdown",
   "metadata": {},
   "source": [
    "#### Define Needed Functions"
   ]
  },
  {
   "cell_type": "code",
   "execution_count": 2,
   "metadata": {
    "collapsed": false
   },
   "outputs": [],
   "source": [
    "def Skew_sym(v):\n",
    "    \"\"\"\n",
    "    This function returns the skew symetric matrix \n",
    "    of the vector 'v' to affect the cross product of 'v'x'u'\n",
    "    \"\"\"\n",
    "    v_matrix = sym.Matrix([[  0 , -v[2]],\n",
    "                          [v[2],     0]])\n",
    "    return v_matrix"
   ]
  },
  {
   "cell_type": "code",
   "execution_count": 3,
   "metadata": {
    "collapsed": true
   },
   "outputs": [],
   "source": [
    "def Axial_sym(A):\n",
    "    '''\n",
    "    This funtcion returns the vector of the skew-symmectric matrix in 2D\n",
    "    '''\n",
    "    a_vec = 1/2*sym.Matrix([A[1,0] - A[0,1]])\n",
    "    return a_vec"
   ]
  },
  {
   "cell_type": "code",
   "execution_count": 4,
   "metadata": {
    "collapsed": false
   },
   "outputs": [],
   "source": [
    "def Rotate_sym(theta):\n",
    "    \"\"\"\n",
    "    This function returns the symbolic rotation matrix \n",
    "    for the simple 2D-rotation about the third axis\n",
    "    \"\"\"\n",
    "    R = sym.Matrix([[cos(theta),-sin(theta)],\n",
    "                    [sin(theta), cos(theta)]])\n",
    "    return R"
   ]
  },
  {
   "cell_type": "markdown",
   "metadata": {},
   "source": [
    "#### Define symbolic quantites"
   ]
  },
  {
   "cell_type": "code",
   "execution_count": 5,
   "metadata": {
    "collapsed": false
   },
   "outputs": [
    {
     "name": "stdout",
     "output_type": "stream",
     "text": [
      "\n",
      "H = \n"
     ]
    },
    {
     "data": {
      "image/png": "[encoded data removed]",
      "text/latex": [
       "$$\\left[\\begin{matrix}- \\frac{x}{2} + \\frac{1}{2} & 0 & \\frac{x}{2} + \\frac{1}{2} & 0\\\\0 & - \\frac{x}{2} + \\frac{1}{2} & 0 & \\frac{x}{2} + \\frac{1}{2}\\end{matrix}\\right]$$"
      ],
      "text/plain": [
       "⎡  x   1           x   1       ⎤\n",
       "⎢- ─ + ─     0     ─ + ─    0  ⎥\n",
       "⎢  2   2           2   2       ⎥\n",
       "⎢                              ⎥\n",
       "⎢           x   1         x   1⎥\n",
       "⎢   0     - ─ + ─    0    ─ + ─⎥\n",
       "⎣           2   2         2   2⎦"
      ]
     },
     "metadata": {},
     "output_type": "display_data"
    }
   ],
   "source": [
    "# symbolic system parameters \n",
    "E, G, I, A, rho, x, l, r, g, pi  = sym.symbols('E G I A rho x l r g pi')\n",
    "\n",
    "# Kinematic values of previos nodes (generic)\n",
    "# e.g., omega_node  = omega + qdot\n",
    "theta = sym.Matrix(['theta_1','theta_2'])\n",
    "theta_dot = sym.Matrix(['thetadot_1','thetadot_2'])\n",
    "theta_ddot = sym.Matrix(['thetaddot_1','thetaddot_2'])\n",
    "omega = sym.Matrix(['omega_1','omega_2'])\n",
    "alpha = sym.Matrix(['alpha_1','alpha_2'])\n",
    "\n",
    "# coordinates of the point in the 2D cross-section\n",
    "# of nodes one and two \n",
    "s = sym.Matrix(['r_2','r_3'])\n",
    "\n",
    "# generalized coordinates\n",
    "# one rotation and two displacements per-node (two nodes per element)\n",
    "# in this version generalzied speeds are NOT ALWAYS qdots\n",
    "q = sym.Matrix(sym.symarray('q',6))\n",
    "qdot = sym.Matrix(sym.symarray('qdot',len(q)))\n",
    "qddot = sym.Matrix(sym.symarray('qddot',len(q)))\n",
    "\n",
    "# Deformations of Nodes (u's are not generalized speeds) \n",
    "u = sym.Matrix([q[1:3,0], q[4:6,0]])\n",
    "udot = sym.Matrix([qdot[1:3,0], qdot[4:8,0]])\n",
    "uddot = sym.Matrix([qddot[1:3,0], qddot[4:6,0]])\n",
    "\n",
    "# Define shape function matrix and it's derivative\n",
    "h = sym.symarray('h', 2)\n",
    "h[0] = sym.Rational(1,2)*(1 - x)\n",
    "h[1] = sym.Rational(1,2)*(1 + x)\n",
    "H = sym.Matrix([h[0]*sym.eye(2), h[1]*sym.eye(2)]).T\n",
    "dHdx = H.diff(x)\n",
    "print('\\nH = ')\n",
    "display(H)\n",
    "\n",
    "# display([q,qdot,qddot])\n",
    "# display([u,udot,uddot])"
   ]
  },
  {
   "cell_type": "markdown",
   "metadata": {},
   "source": [
    "### Needed Matrix Quantities"
   ]
  },
  {
   "cell_type": "code",
   "execution_count": 6,
   "metadata": {
    "collapsed": false
   },
   "outputs": [],
   "source": [
    "# Kinematics of the 2D planar SINGLE element\n",
    "# theta[0] = q[0]\n",
    "# theta[1] = q[0] + q[3]\n",
    "# theta_dot[0] = qdot[0]\n",
    "# theta_dot[1] = qdot[0] + qdot[3]\n",
    "# theta_ddot[0] = qddot[0]\n",
    "# theta_ddot[1] = qddot[0] + qddot[3]\n",
    "\n",
    "# Rotation Matricies for each node\n",
    "R1 = Rotate_sym(theta[0])\n",
    "R2 = Rotate_sym(theta[1])\n",
    "\n",
    "# Angular Velocities and Accelerations are trivial for the 2D case\n",
    "# For each node\n",
    "omega1_skew = Skew_sym([0,0,omega[0]])\n",
    "omega2_skew = Skew_sym([0,0,omega[1]])\n",
    "alpha1_skew = Skew_sym([0,0,alpha[0]])\n",
    "alpha2_skew = Skew_sym([0,0,alpha[1]])\n",
    "\n",
    "\n",
    "# # \"elemental\" rotation matrix\n",
    "# R = sym.Matrix.vstack(sym.Matrix.hstack(R1,sym.zeros(2)), \\\n",
    "#                       sym.Matrix.hstack(sym.zeros(2),R2))\n",
    "\n",
    "# # \"elemental\" angular velocity matrix\n",
    "# Omega_skew = sym.Matrix.vstack(sym.Matrix.hstack(omega1_skew,sym.zeros(2)), \\\n",
    "#                                sym.Matrix.hstack(sym.zeros(2),omega2_skew))\n",
    "\n",
    "# # \"elemental\" angular acceleration matrix\n",
    "# Alpha_skew = sym.Matrix.vstack(sym.Matrix.hstack(alpha1_skew,sym.zeros(2)), \\\n",
    "#                                sym.Matrix.hstack(sym.zeros(2),alpha2_skew))\n"
   ]
  },
  {
   "cell_type": "markdown",
   "metadata": {},
   "source": [
    "### Define Kinematics"
   ]
  },
  {
   "cell_type": "code",
   "execution_count": 7,
   "metadata": {
    "collapsed": false
   },
   "outputs": [
    {
     "name": "stdout",
     "output_type": "stream",
     "text": [
      "vP = \n"
     ]
    },
    {
     "data": {
      "image/png": "[encoded data removed]",
      "text/latex": [
       "$$\\left[\\begin{matrix}- \\frac{\\dot{q}_{1}}{2} \\left(x - 1\\right) + \\frac{\\dot{q}_{4}}{2} \\left(x + 1\\right) + \\frac{r_{2}}{2} \\left(\\omega_{1} \\left(x - 1\\right) \\sin{\\left (\\theta_{1} \\right )} - \\omega_{2} \\left(x + 1\\right) \\sin{\\left (\\theta_{2} \\right )}\\right) + \\frac{r_{3}}{2} \\left(\\omega_{1} \\left(x - 1\\right) \\cos{\\left (\\theta_{1} \\right )} - \\omega_{2} \\left(x + 1\\right) \\cos{\\left (\\theta_{2} \\right )}\\right)\\\\- \\frac{\\dot{q}_{2}}{2} \\left(x - 1\\right) + \\frac{\\dot{q}_{5}}{2} \\left(x + 1\\right) - \\frac{r_{2}}{2} \\left(\\omega_{1} \\left(x - 1\\right) \\cos{\\left (\\theta_{1} \\right )} - \\omega_{2} \\left(x + 1\\right) \\cos{\\left (\\theta_{2} \\right )}\\right) + \\frac{r_{3}}{2} \\left(\\omega_{1} \\left(x - 1\\right) \\sin{\\left (\\theta_{1} \\right )} - \\omega_{2} \\left(x + 1\\right) \\sin{\\left (\\theta_{2} \\right )}\\right)\\end{matrix}\\right]$$"
      ],
      "text/plain": [
       "⎡  q̇₁⋅(x - 1)   q̇₄⋅(x + 1)   r₂⋅(ω₁⋅(x - 1)⋅sin(θ₁) - ω₂⋅(x + 1)⋅sin(θ₂))   \n",
       "⎢- ─────────── + ─────────── + ──────────────────────────────────────────── + \n",
       "⎢       2             2                             2                         \n",
       "⎢                                                                             \n",
       "⎢  q̇₂⋅(x - 1)   q̇₅⋅(x + 1)   r₂⋅(ω₁⋅(x - 1)⋅cos(θ₁) - ω₂⋅(x + 1)⋅cos(θ₂))   \n",
       "⎢- ─────────── + ─────────── - ──────────────────────────────────────────── + \n",
       "⎣       2             2                             2                         \n",
       "\n",
       "r₃⋅(ω₁⋅(x - 1)⋅cos(θ₁) - ω₂⋅(x + 1)⋅cos(θ₂))⎤\n",
       "────────────────────────────────────────────⎥\n",
       "                     2                      ⎥\n",
       "                                            ⎥\n",
       "r₃⋅(ω₁⋅(x - 1)⋅sin(θ₁) - ω₂⋅(x + 1)⋅sin(θ₂))⎥\n",
       "────────────────────────────────────────────⎥\n",
       "                     2                      ⎦"
      ]
     },
     "metadata": {},
     "output_type": "display_data"
    },
    {
     "name": "stdout",
     "output_type": "stream",
     "text": [
      "\n",
      "aP = \n"
     ]
    },
    {
     "data": {
      "image/png": "[encoded data removed]",
      "text/latex": [
       "$$\\left[\\begin{matrix}- \\frac{\\ddot{q}_{1}}{2} \\left(x - 1\\right) + \\frac{\\ddot{q}_{4}}{2} \\left(x + 1\\right) + \\frac{r_{2}}{2} \\left(\\alpha_{1} \\left(x - 1\\right) \\sin{\\left (\\theta_{1} \\right )} - \\alpha_{2} \\left(x + 1\\right) \\sin{\\left (\\theta_{2} \\right )}\\right) + \\frac{r_{2}}{2} \\left(\\omega_{1}^{2} \\left(x - 1\\right) \\cos{\\left (\\theta_{1} \\right )} - \\omega_{2}^{2} \\left(x + 1\\right) \\cos{\\left (\\theta_{2} \\right )}\\right) + \\frac{r_{3}}{2} \\left(\\alpha_{1} \\left(x - 1\\right) \\cos{\\left (\\theta_{1} \\right )} - \\alpha_{2} \\left(x + 1\\right) \\cos{\\left (\\theta_{2} \\right )}\\right) - \\frac{r_{3}}{2} \\left(\\omega_{1}^{2} \\left(x - 1\\right) \\sin{\\left (\\theta_{1} \\right )} - \\omega_{2}^{2} \\left(x + 1\\right) \\sin{\\left (\\theta_{2} \\right )}\\right)\\\\- \\frac{\\ddot{q}_{2}}{2} \\left(x - 1\\right) + \\frac{\\ddot{q}_{5}}{2} \\left(x + 1\\right) - \\frac{r_{2}}{2} \\left(\\alpha_{1} \\left(x - 1\\right) \\cos{\\left (\\theta_{1} \\right )} - \\alpha_{2} \\left(x + 1\\right) \\cos{\\left (\\theta_{2} \\right )}\\right) + \\frac{r_{2}}{2} \\left(\\omega_{1}^{2} \\left(x - 1\\right) \\sin{\\left (\\theta_{1} \\right )} - \\omega_{2}^{2} \\left(x + 1\\right) \\sin{\\left (\\theta_{2} \\right )}\\right) + \\frac{r_{3}}{2} \\left(\\alpha_{1} \\left(x - 1\\right) \\sin{\\left (\\theta_{1} \\right )} - \\alpha_{2} \\left(x + 1\\right) \\sin{\\left (\\theta_{2} \\right )}\\right) + \\frac{r_{3}}{2} \\left(\\omega_{1}^{2} \\left(x - 1\\right) \\cos{\\left (\\theta_{1} \\right )} - \\omega_{2}^{2} \\left(x + 1\\right) \\cos{\\left (\\theta_{2} \\right )}\\right)\\end{matrix}\\right]$$"
      ],
      "text/plain": [
       "⎡                                                                             \n",
       "⎢  q̈₁⋅(x - 1)   q̈₄⋅(x + 1)   r₂⋅(α₁⋅(x - 1)⋅sin(θ₁) - α₂⋅(x + 1)⋅sin(θ₂))   \n",
       "⎢- ─────────── + ─────────── + ──────────────────────────────────────────── + \n",
       "⎢       2             2                             2                         \n",
       "⎢                                                                             \n",
       "⎢                                                                             \n",
       "⎢  q̈₂⋅(x - 1)   q̈₅⋅(x + 1)   r₂⋅(α₁⋅(x - 1)⋅cos(θ₁) - α₂⋅(x + 1)⋅cos(θ₂))   \n",
       "⎢- ─────────── + ─────────── - ──────────────────────────────────────────── + \n",
       "⎣       2             2                             2                         \n",
       "\n",
       "   ⎛  2                     2                ⎞                                \n",
       "r₂⋅⎝ω₁ ⋅(x - 1)⋅cos(θ₁) - ω₂ ⋅(x + 1)⋅cos(θ₂)⎠   r₃⋅(α₁⋅(x - 1)⋅cos(θ₁) - α₂⋅(\n",
       "────────────────────────────────────────────── + ─────────────────────────────\n",
       "                      2                                               2       \n",
       "                                                                              \n",
       "   ⎛  2                     2                ⎞                                \n",
       "r₂⋅⎝ω₁ ⋅(x - 1)⋅sin(θ₁) - ω₂ ⋅(x + 1)⋅sin(θ₂)⎠   r₃⋅(α₁⋅(x - 1)⋅sin(θ₁) - α₂⋅(\n",
       "────────────────────────────────────────────── + ─────────────────────────────\n",
       "                      2                                               2       \n",
       "\n",
       "                     ⎛  2                     2                ⎞⎤\n",
       "x + 1)⋅cos(θ₂))   r₃⋅⎝ω₁ ⋅(x - 1)⋅sin(θ₁) - ω₂ ⋅(x + 1)⋅sin(θ₂)⎠⎥\n",
       "─────────────── - ──────────────────────────────────────────────⎥\n",
       "                                        2                       ⎥\n",
       "                                                                ⎥\n",
       "                     ⎛  2                     2                ⎞⎥\n",
       "x + 1)⋅sin(θ₂))   r₃⋅⎝ω₁ ⋅(x - 1)⋅cos(θ₁) - ω₂ ⋅(x + 1)⋅cos(θ₂)⎠⎥\n",
       "─────────────── + ──────────────────────────────────────────────⎥\n",
       "                                        2                       ⎦"
      ]
     },
     "metadata": {},
     "output_type": "display_data"
    }
   ],
   "source": [
    "# Define velocity of element endpoints (nodes)\n",
    "vP = sym.simplify(H*udot + H*sym.Matrix([R1*omega1_skew,R2*omega2_skew])*s)\n",
    "print('vP = ')\n",
    "display(vP)\n",
    "\n",
    "# Define acceleration of element endpoints (nodes)\n",
    "aP = sym.simplify(H*uddot + \n",
    "                H*sym.Matrix([R1*alpha1_skew,R2*alpha2_skew])*s +\n",
    "                H*sym.Matrix([R1*omega1_skew*omega1_skew,R2*omega2_skew*omega2_skew])*s)\n",
    "print('\\naP = ')\n",
    "display(aP)"
   ]
  },
  {
   "cell_type": "markdown",
   "metadata": {},
   "source": [
    "### Compute the Mass Matrix"
   ]
  },
  {
   "cell_type": "code",
   "execution_count": 21,
   "metadata": {
    "collapsed": false,
    "scrolled": true
   },
   "outputs": [
    {
     "name": "stdout",
     "output_type": "stream",
     "text": [
      "\n",
      "VrP = \n"
     ]
    },
    {
     "data": {
      "image/png": "[encoded data removed]",
      "text/latex": [
       "$$\\left[\\begin{matrix}\\frac{1}{2} \\left(x - 1\\right) \\left(r_{2} \\sin{\\left (\\theta_{1} \\right )} + r_{3} \\cos{\\left (\\theta_{1} \\right )}\\right) & - \\frac{x}{2} + \\frac{1}{2} & 0 & - \\frac{1}{2} \\left(x + 1\\right) \\left(r_{2} \\sin{\\left (\\theta_{2} \\right )} + r_{3} \\cos{\\left (\\theta_{2} \\right )}\\right) & \\frac{x}{2} + \\frac{1}{2} & 0\\\\\\frac{1}{2} \\left(x - 1\\right) \\left(- r_{2} \\cos{\\left (\\theta_{1} \\right )} + r_{3} \\sin{\\left (\\theta_{1} \\right )}\\right) & 0 & - \\frac{x}{2} + \\frac{1}{2} & \\frac{1}{2} \\left(x + 1\\right) \\left(r_{2} \\cos{\\left (\\theta_{2} \\right )} - r_{3} \\sin{\\left (\\theta_{2} \\right )}\\right) & 0 & \\frac{x}{2} + \\frac{1}{2}\\end{matrix}\\right]$$"
      ],
      "text/plain": [
       "⎡(x - 1)⋅(r₂⋅sin(θ₁) + r₃⋅cos(θ₁))     x   1           -(x + 1)⋅(r₂⋅sin(θ₂) + \n",
       "⎢─────────────────────────────────   - ─ + ─     0     ───────────────────────\n",
       "⎢                2                     2   2                            2     \n",
       "⎢                                                                             \n",
       "⎢(x - 1)⋅(-r₂⋅cos(θ₁) + r₃⋅sin(θ₁))             x   1   (x + 1)⋅(r₂⋅cos(θ₂) - \n",
       "⎢──────────────────────────────────     0     - ─ + ─   ──────────────────────\n",
       "⎣                2                              2   2                   2     \n",
       "\n",
       "r₃⋅cos(θ₂))   x   1       ⎤\n",
       "────────────  ─ + ─    0  ⎥\n",
       "              2   2       ⎥\n",
       "                          ⎥\n",
       "r₃⋅sin(θ₂))          x   1⎥\n",
       "───────────     0    ─ + ─⎥\n",
       "                     2   2⎦"
      ]
     },
     "metadata": {},
     "output_type": "display_data"
    }
   ],
   "source": [
    "# generalized speeds need to be omega_i not qdot_i \n",
    "gen_speed = sym.Matrix.vstack(sym.Matrix.vstack(sym.Matrix([omega[0]]), sym.Matrix(qdot[1:3])), \n",
    "    sym.Matrix.vstack(sym.Matrix([omega[1]]), sym.Matrix(qdot[4:6])))\n",
    "\n",
    "# Compute partial velocities of the nodes\n",
    "VrP = sym.simplify(sym.Matrix([[v.diff(u) for v in vP] for u in gen_speed]).T)\n",
    "print('\\nVrP = ')\n",
    "display(VrP)\n",
    "\n",
    "gen_accel = sym.Matrix.vstack(sym.Matrix.vstack(sym.Matrix([alpha[0]]), sym.Matrix(qddot[1:3])), \n",
    "    sym.Matrix.vstack(sym.Matrix([alpha[1]]), sym.Matrix(qddot[4:6])))\n",
    "\n",
    "# Compute mass matrix\n",
    "M = sym.simplify(sym.Matrix(\n",
    "            [[sym.expand(sym.integrate(VrP[:,i].dot(aP)*rho,(x,0,l),('r_2',0,r),('r_3',0,r))).coeff(gen_accel[j]) \n",
    "              for i in range(len(gen_accel))] for j in range(len(gen_accel))]))"
   ]
  },
  {
   "cell_type": "code",
   "execution_count": 22,
   "metadata": {
    "collapsed": false
   },
   "outputs": [
    {
     "name": "stdout",
     "output_type": "stream",
     "text": [
      "M_11 = \n"
     ]
    },
    {
     "data": {
      "image/png": "[encoded data removed]",
      "text/latex": [
       "$$\\left[\\begin{matrix}\\frac{l \\rho}{18} r^{4} \\left(l^{2} - 3 l + 3\\right) & \\frac{l \\rho}{24} \\sqrt{2} r^{3} \\left(- l^{2} + 3 l - 3\\right) \\sin{\\left (\\theta_{1} + \\frac{\\pi}{4} \\right )} & \\frac{l \\rho}{24} \\sqrt{2} r^{3} \\left(l^{2} - 3 l + 3\\right) \\cos{\\left (\\theta_{1} + \\frac{\\pi}{4} \\right )}\\\\\\frac{l \\rho}{24} \\sqrt{2} r^{3} \\left(- l^{2} + 3 l - 3\\right) \\sin{\\left (\\theta_{1} + \\frac{\\pi}{4} \\right )} & \\frac{l \\rho}{12} r^{2} \\left(l^{2} - 3 l + 3\\right) & 0\\\\\\frac{l \\rho}{24} \\sqrt{2} r^{3} \\left(l^{2} - 3 l + 3\\right) \\cos{\\left (\\theta_{1} + \\frac{\\pi}{4} \\right )} & 0 & \\frac{l \\rho}{12} r^{2} \\left(l^{2} - 3 l + 3\\right)\\end{matrix}\\right]$$"
      ],
      "text/plain": [
       "⎡                                             ___    3   ⎛   2          ⎞    ⎛\n",
       "⎢             4   ⎛ 2          ⎞            ╲╱ 2 ⋅l⋅r ⋅ρ⋅⎝- l  + 3⋅l - 3⎠⋅sin⎜\n",
       "⎢          l⋅r ⋅ρ⋅⎝l  - 3⋅l + 3⎠                                             ⎝\n",
       "⎢          ─────────────────────            ──────────────────────────────────\n",
       "⎢                    18                                         24            \n",
       "⎢                                                                             \n",
       "⎢  ___    3   ⎛   2          ⎞    ⎛     π⎞                                    \n",
       "⎢╲╱ 2 ⋅l⋅r ⋅ρ⋅⎝- l  + 3⋅l - 3⎠⋅sin⎜θ₁ + ─⎟               2   ⎛ 2          ⎞   \n",
       "⎢                                 ⎝     4⎠            l⋅r ⋅ρ⋅⎝l  - 3⋅l + 3⎠   \n",
       "⎢─────────────────────────────────────────            ─────────────────────   \n",
       "⎢                    24                                         12            \n",
       "⎢                                                                             \n",
       "⎢   ___    3   ⎛ 2          ⎞    ⎛     π⎞                                     \n",
       "⎢ ╲╱ 2 ⋅l⋅r ⋅ρ⋅⎝l  - 3⋅l + 3⎠⋅cos⎜θ₁ + ─⎟                                     \n",
       "⎢                                ⎝     4⎠                                     \n",
       "⎢ ───────────────────────────────────────                       0             \n",
       "⎣                    24                                                       \n",
       "\n",
       "     π⎞    ___    3   ⎛ 2          ⎞    ⎛     π⎞⎤\n",
       "θ₁ + ─⎟  ╲╱ 2 ⋅l⋅r ⋅ρ⋅⎝l  - 3⋅l + 3⎠⋅cos⎜θ₁ + ─⎟⎥\n",
       "     4⎠                                 ⎝     4⎠⎥\n",
       "───────  ───────────────────────────────────────⎥\n",
       "                            24                  ⎥\n",
       "                                                ⎥\n",
       "                                                ⎥\n",
       "                                                ⎥\n",
       "                                                ⎥\n",
       "                            0                   ⎥\n",
       "                                                ⎥\n",
       "                                                ⎥\n",
       "                                                ⎥\n",
       "                     2   ⎛ 2          ⎞         ⎥\n",
       "                  l⋅r ⋅ρ⋅⎝l  - 3⋅l + 3⎠         ⎥\n",
       "                  ─────────────────────         ⎥\n",
       "                            12                  ⎦"
      ]
     },
     "metadata": {},
     "output_type": "display_data"
    },
    {
     "name": "stdout",
     "output_type": "stream",
     "text": [
      "\n",
      "M_22 = \n"
     ]
    },
    {
     "data": {
      "image/png": "[encoded data removed]",
      "text/latex": [
       "$$\\left[\\begin{matrix}\\frac{l \\rho}{18} r^{4} \\left(l^{2} + 3 l + 3\\right) & - \\frac{l \\rho}{24} \\sqrt{2} r^{3} \\left(l^{2} + 3 l + 3\\right) \\sin{\\left (\\theta_{2} + \\frac{\\pi}{4} \\right )} & \\frac{l \\rho}{24} \\sqrt{2} r^{3} \\left(l^{2} + 3 l + 3\\right) \\cos{\\left (\\theta_{2} + \\frac{\\pi}{4} \\right )}\\\\- \\frac{l \\rho}{24} \\sqrt{2} r^{3} \\left(l^{2} + 3 l + 3\\right) \\sin{\\left (\\theta_{2} + \\frac{\\pi}{4} \\right )} & \\frac{l \\rho}{12} r^{2} \\left(l^{2} + 3 l + 3\\right) & 0\\\\\\frac{l \\rho}{24} \\sqrt{2} r^{3} \\left(l^{2} + 3 l + 3\\right) \\cos{\\left (\\theta_{2} + \\frac{\\pi}{4} \\right )} & 0 & \\frac{l \\rho}{12} r^{2} \\left(l^{2} + 3 l + 3\\right)\\end{matrix}\\right]$$"
      ],
      "text/plain": [
       "⎡                                              ___    3   ⎛ 2          ⎞    ⎛ \n",
       "⎢             4   ⎛ 2          ⎞            -╲╱ 2 ⋅l⋅r ⋅ρ⋅⎝l  + 3⋅l + 3⎠⋅sin⎜θ\n",
       "⎢          l⋅r ⋅ρ⋅⎝l  + 3⋅l + 3⎠                                            ⎝ \n",
       "⎢          ─────────────────────            ──────────────────────────────────\n",
       "⎢                    18                                         24            \n",
       "⎢                                                                             \n",
       "⎢   ___    3   ⎛ 2          ⎞    ⎛     π⎞                                     \n",
       "⎢-╲╱ 2 ⋅l⋅r ⋅ρ⋅⎝l  + 3⋅l + 3⎠⋅sin⎜θ₂ + ─⎟                2   ⎛ 2          ⎞   \n",
       "⎢                                ⎝     4⎠             l⋅r ⋅ρ⋅⎝l  + 3⋅l + 3⎠   \n",
       "⎢─────────────────────────────────────────            ─────────────────────   \n",
       "⎢                    24                                         12            \n",
       "⎢                                                                             \n",
       "⎢   ___    3   ⎛ 2          ⎞    ⎛     π⎞                                     \n",
       "⎢ ╲╱ 2 ⋅l⋅r ⋅ρ⋅⎝l  + 3⋅l + 3⎠⋅cos⎜θ₂ + ─⎟                                     \n",
       "⎢                                ⎝     4⎠                                     \n",
       "⎢ ───────────────────────────────────────                       0             \n",
       "⎣                    24                                                       \n",
       "\n",
       "    π⎞     ___    3   ⎛ 2          ⎞    ⎛     π⎞⎤\n",
       "₂ + ─⎟   ╲╱ 2 ⋅l⋅r ⋅ρ⋅⎝l  + 3⋅l + 3⎠⋅cos⎜θ₂ + ─⎟⎥\n",
       "    4⎠                                  ⎝     4⎠⎥\n",
       "───────  ───────────────────────────────────────⎥\n",
       "                            24                  ⎥\n",
       "                                                ⎥\n",
       "                                                ⎥\n",
       "                                                ⎥\n",
       "                                                ⎥\n",
       "                            0                   ⎥\n",
       "                                                ⎥\n",
       "                                                ⎥\n",
       "                                                ⎥\n",
       "                     2   ⎛ 2          ⎞         ⎥\n",
       "                  l⋅r ⋅ρ⋅⎝l  + 3⋅l + 3⎠         ⎥\n",
       "                  ─────────────────────         ⎥\n",
       "                            12                  ⎦"
      ]
     },
     "metadata": {},
     "output_type": "display_data"
    },
    {
     "name": "stdout",
     "output_type": "stream",
     "text": [
      "\n",
      "M_12 = \n"
     ]
    },
    {
     "data": {
      "image/png": "[encoded data removed]",
      "text/latex": [
       "$$\\left[\\begin{matrix}\\frac{l \\rho}{18} r^{4} \\left(- l^{2} + 3\\right) \\cos{\\left (\\theta_{1} - \\theta_{2} \\right )} & \\frac{l \\rho}{24} \\sqrt{2} r^{3} \\left(l^{2} - 3\\right) \\sin{\\left (\\theta_{1} + \\frac{\\pi}{4} \\right )} & \\frac{l \\rho}{24} \\sqrt{2} r^{3} \\left(- l^{2} + 3\\right) \\cos{\\left (\\theta_{1} + \\frac{\\pi}{4} \\right )}\\\\\\frac{l \\rho}{24} \\sqrt{2} r^{3} \\left(l^{2} - 3\\right) \\sin{\\left (\\theta_{2} + \\frac{\\pi}{4} \\right )} & \\frac{l \\rho}{12} r^{2} \\left(- l^{2} + 3\\right) & 0\\\\\\frac{l \\rho}{24} \\sqrt{2} r^{3} \\left(- l^{2} + 3\\right) \\cos{\\left (\\theta_{2} + \\frac{\\pi}{4} \\right )} & 0 & \\frac{l \\rho}{12} r^{2} \\left(- l^{2} + 3\\right)\\end{matrix}\\right]$$"
      ],
      "text/plain": [
       "⎡                                       ___    3   ⎛ 2    ⎞    ⎛     π⎞    ___\n",
       "⎢     4   ⎛   2    ⎞                  ╲╱ 2 ⋅l⋅r ⋅ρ⋅⎝l  - 3⎠⋅sin⎜θ₁ + ─⎟  ╲╱ 2 \n",
       "⎢  l⋅r ⋅ρ⋅⎝- l  + 3⎠⋅cos(θ₁ - θ₂)                              ⎝     4⎠       \n",
       "⎢  ──────────────────────────────     ─────────────────────────────────  ─────\n",
       "⎢                18                                   24                      \n",
       "⎢                                                                             \n",
       "⎢   ___    3   ⎛ 2    ⎞    ⎛     π⎞                                           \n",
       "⎢ ╲╱ 2 ⋅l⋅r ⋅ρ⋅⎝l  - 3⎠⋅sin⎜θ₂ + ─⎟              2   ⎛   2    ⎞               \n",
       "⎢                          ⎝     4⎠           l⋅r ⋅ρ⋅⎝- l  + 3⎠               \n",
       "⎢ ─────────────────────────────────           ─────────────────               \n",
       "⎢                 24                                  12                      \n",
       "⎢                                                                             \n",
       "⎢  ___    3   ⎛   2    ⎞    ⎛     π⎞                                          \n",
       "⎢╲╱ 2 ⋅l⋅r ⋅ρ⋅⎝- l  + 3⎠⋅cos⎜θ₂ + ─⎟                                          \n",
       "⎢                           ⎝     4⎠                                          \n",
       "⎢───────────────────────────────────                  0                       \n",
       "⎣                 24                                                          \n",
       "\n",
       "    3   ⎛   2    ⎞    ⎛     π⎞⎤\n",
       "⋅l⋅r ⋅ρ⋅⎝- l  + 3⎠⋅cos⎜θ₁ + ─⎟⎥\n",
       "                      ⎝     4⎠⎥\n",
       "──────────────────────────────⎥\n",
       "            24                ⎥\n",
       "                              ⎥\n",
       "                              ⎥\n",
       "                              ⎥\n",
       "                              ⎥\n",
       "            0                 ⎥\n",
       "                              ⎥\n",
       "                              ⎥\n",
       "                              ⎥\n",
       "       2   ⎛   2    ⎞         ⎥\n",
       "    l⋅r ⋅ρ⋅⎝- l  + 3⎠         ⎥\n",
       "    ─────────────────         ⎥\n",
       "            12                ⎦"
      ]
     },
     "metadata": {},
     "output_type": "display_data"
    },
    {
     "name": "stdout",
     "output_type": "stream",
     "text": [
      "\n",
      "M_21.T = \n"
     ]
    },
    {
     "data": {
      "image/png": "[encoded data removed]",
      "text/latex": [
       "$$\\left[\\begin{matrix}\\frac{l \\rho}{18} r^{4} \\left(- l^{2} + 3\\right) \\cos{\\left (\\theta_{1} - \\theta_{2} \\right )} & \\frac{l \\rho}{24} \\sqrt{2} r^{3} \\left(l^{2} - 3\\right) \\sin{\\left (\\theta_{1} + \\frac{\\pi}{4} \\right )} & \\frac{l \\rho}{24} \\sqrt{2} r^{3} \\left(- l^{2} + 3\\right) \\cos{\\left (\\theta_{1} + \\frac{\\pi}{4} \\right )}\\\\\\frac{l \\rho}{24} \\sqrt{2} r^{3} \\left(l^{2} - 3\\right) \\sin{\\left (\\theta_{2} + \\frac{\\pi}{4} \\right )} & \\frac{l \\rho}{12} r^{2} \\left(- l^{2} + 3\\right) & 0\\\\\\frac{l \\rho}{24} \\sqrt{2} r^{3} \\left(- l^{2} + 3\\right) \\cos{\\left (\\theta_{2} + \\frac{\\pi}{4} \\right )} & 0 & \\frac{l \\rho}{12} r^{2} \\left(- l^{2} + 3\\right)\\end{matrix}\\right]$$"
      ],
      "text/plain": [
       "⎡                                       ___    3   ⎛ 2    ⎞    ⎛     π⎞    ___\n",
       "⎢     4   ⎛   2    ⎞                  ╲╱ 2 ⋅l⋅r ⋅ρ⋅⎝l  - 3⎠⋅sin⎜θ₁ + ─⎟  ╲╱ 2 \n",
       "⎢  l⋅r ⋅ρ⋅⎝- l  + 3⎠⋅cos(θ₁ - θ₂)                              ⎝     4⎠       \n",
       "⎢  ──────────────────────────────     ─────────────────────────────────  ─────\n",
       "⎢                18                                   24                      \n",
       "⎢                                                                             \n",
       "⎢   ___    3   ⎛ 2    ⎞    ⎛     π⎞                                           \n",
       "⎢ ╲╱ 2 ⋅l⋅r ⋅ρ⋅⎝l  - 3⎠⋅sin⎜θ₂ + ─⎟              2   ⎛   2    ⎞               \n",
       "⎢                          ⎝     4⎠           l⋅r ⋅ρ⋅⎝- l  + 3⎠               \n",
       "⎢ ─────────────────────────────────           ─────────────────               \n",
       "⎢                 24                                  12                      \n",
       "⎢                                                                             \n",
       "⎢  ___    3   ⎛   2    ⎞    ⎛     π⎞                                          \n",
       "⎢╲╱ 2 ⋅l⋅r ⋅ρ⋅⎝- l  + 3⎠⋅cos⎜θ₂ + ─⎟                                          \n",
       "⎢                           ⎝     4⎠                                          \n",
       "⎢───────────────────────────────────                  0                       \n",
       "⎣                 24                                                          \n",
       "\n",
       "    3   ⎛   2    ⎞    ⎛     π⎞⎤\n",
       "⋅l⋅r ⋅ρ⋅⎝- l  + 3⎠⋅cos⎜θ₁ + ─⎟⎥\n",
       "                      ⎝     4⎠⎥\n",
       "──────────────────────────────⎥\n",
       "            24                ⎥\n",
       "                              ⎥\n",
       "                              ⎥\n",
       "                              ⎥\n",
       "                              ⎥\n",
       "            0                 ⎥\n",
       "                              ⎥\n",
       "                              ⎥\n",
       "                              ⎥\n",
       "       2   ⎛   2    ⎞         ⎥\n",
       "    l⋅r ⋅ρ⋅⎝- l  + 3⎠         ⎥\n",
       "    ─────────────────         ⎥\n",
       "            12                ⎦"
      ]
     },
     "metadata": {},
     "output_type": "display_data"
    }
   ],
   "source": [
    "# print('\\nM = \\n')\n",
    "# display(M)\n",
    "\n",
    "print('M_11 = ')\n",
    "display(M[0:3,0:3])\n",
    "print('\\nM_22 = ')\n",
    "display(M[3:6,3:6])\n",
    "print('\\nM_12 = ')\n",
    "display(M[0:3,3:6])\n",
    "print('\\nM_21.T = ')\n",
    "display(M[3:6,0:3].T)"
   ]
  },
  {
   "cell_type": "markdown",
   "metadata": {},
   "source": [
    "### Compute Internal forces "
   ]
  },
  {
   "cell_type": "markdown",
   "metadata": {},
   "source": [
    "#### 1. Transverse (Bending) Strain"
   ]
  },
  {
   "cell_type": "code",
   "execution_count": 23,
   "metadata": {
    "collapsed": false
   },
   "outputs": [],
   "source": [
    "# Orthogonal Matricies Not Extracted to Simplify Algebra\n",
    "R_interp  = H*sym.Matrix([R1,R2])\n",
    "dT = sym.factor(H.diff(x)*sym.Matrix([R1,R2]))\n",
    "kappa = sym.factor(sym.Matrix([Axial_sym(dT*R_interp.T),'0','0','0']))\n",
    "# display(kappa)"
   ]
  },
  {
   "cell_type": "code",
   "execution_count": 24,
   "metadata": {
    "collapsed": false,
    "scrolled": true
   },
   "outputs": [
    {
     "data": {
      "image/png": "[encoded data removed]",
      "text/latex": [
       "$$\\left[\\begin{matrix}\\left(- \\frac{x}{2} + \\frac{1}{2}\\right) \\cos{\\left (\\theta_{1} \\right )} + \\left(\\frac{x}{2} + \\frac{1}{2}\\right) \\cos{\\left (\\theta_{2} \\right )} & - \\left(- \\frac{x}{2} + \\frac{1}{2}\\right) \\sin{\\left (\\theta_{1} \\right )} - \\left(\\frac{x}{2} + \\frac{1}{2}\\right) \\sin{\\left (\\theta_{2} \\right )}\\\\\\left(- \\frac{x}{2} + \\frac{1}{2}\\right) \\sin{\\left (\\theta_{1} \\right )} + \\left(\\frac{x}{2} + \\frac{1}{2}\\right) \\sin{\\left (\\theta_{2} \\right )} & \\left(- \\frac{x}{2} + \\frac{1}{2}\\right) \\cos{\\left (\\theta_{1} \\right )} + \\left(\\frac{x}{2} + \\frac{1}{2}\\right) \\cos{\\left (\\theta_{2} \\right )}\\end{matrix}\\right]$$"
      ],
      "text/plain": [
       "⎡⎛  x   1⎞           ⎛x   1⎞            ⎛  x   1⎞           ⎛x   1⎞        ⎤\n",
       "⎢⎜- ─ + ─⎟⋅cos(θ₁) + ⎜─ + ─⎟⋅cos(θ₂)  - ⎜- ─ + ─⎟⋅sin(θ₁) - ⎜─ + ─⎟⋅sin(θ₂)⎥\n",
       "⎢⎝  2   2⎠           ⎝2   2⎠            ⎝  2   2⎠           ⎝2   2⎠        ⎥\n",
       "⎢                                                                          ⎥\n",
       "⎢⎛  x   1⎞           ⎛x   1⎞           ⎛  x   1⎞           ⎛x   1⎞         ⎥\n",
       "⎢⎜- ─ + ─⎟⋅sin(θ₁) + ⎜─ + ─⎟⋅sin(θ₂)   ⎜- ─ + ─⎟⋅cos(θ₁) + ⎜─ + ─⎟⋅cos(θ₂) ⎥\n",
       "⎣⎝  2   2⎠           ⎝2   2⎠           ⎝  2   2⎠           ⎝2   2⎠         ⎦"
      ]
     },
     "execution_count": 24,
     "metadata": {},
     "output_type": "execute_result"
    }
   ],
   "source": [
    "R_interp"
   ]
  },
  {
   "cell_type": "markdown",
   "metadata": {},
   "source": [
    "#### 2. Longitudinal (Axial) Strian"
   ]
  },
  {
   "cell_type": "code",
   "execution_count": 25,
   "metadata": {
    "collapsed": false
   },
   "outputs": [
    {
     "data": {
      "image/png": "[encoded data removed]",
      "text/latex": [
       "$$\\left[\\begin{matrix}0\\\\- \\frac{1}{2} \\left(q_{1} - q_{4} + x \\cos{\\left (\\theta_{1} \\right )} - x \\cos{\\left (\\theta_{2} \\right )}\\right)\\\\0\\\\- \\frac{1}{2} \\left(q_{2} - q_{5} + x \\sin{\\left (\\theta_{1} \\right )} - x \\sin{\\left (\\theta_{2} \\right )}\\right)\\end{matrix}\\right]$$"
      ],
      "text/plain": [
       "⎡                 0                 ⎤\n",
       "⎢                                   ⎥\n",
       "⎢-(q₁ - q₄ + x⋅cos(θ₁) - x⋅cos(θ₂)) ⎥\n",
       "⎢───────────────────────────────────⎥\n",
       "⎢                 2                 ⎥\n",
       "⎢                                   ⎥\n",
       "⎢                 0                 ⎥\n",
       "⎢                                   ⎥\n",
       "⎢-(q₂ - q₅ + x⋅sin(θ₁) - x⋅sin(θ₂)) ⎥\n",
       "⎢───────────────────────────────────⎥\n",
       "⎣                 2                 ⎦"
      ]
     },
     "metadata": {},
     "output_type": "display_data"
    }
   ],
   "source": [
    "# Define Locations of Centroid\n",
    "x0_B = sym.Matrix(['x','0'])\n",
    "x0 = R_interp*x0_B\n",
    "\n",
    "# Define Newtonian Unit Vector x-dir\n",
    "n1 = sym.Matrix(['1','0'])\n",
    "\n",
    "# Interpolate Displacemnts\n",
    "u_terp = H*u\n",
    "\n",
    "# Derivatives w.r.t longitudinal beam coordinate\n",
    "du = u_terp.diff(x)\n",
    "dx0 = x0.diff(x)\n",
    "\n",
    "# Compute axial strain\n",
    "u_ax = sym.factor(dx0 + du - R_interp*n1)\n",
    "epsilon = sym.Matrix(['0', u_ax[0], '0', u_ax[1]])\n",
    "# epsilon = u_ax\n",
    "display(epsilon)"
   ]
  },
  {
   "cell_type": "markdown",
   "metadata": {},
   "source": [
    "#### 3. Compute Internal Forces $Q_e = -\\frac{\\partial U}{\\partial e}$"
   ]
  },
  {
   "cell_type": "code",
   "execution_count": 26,
   "metadata": {
    "collapsed": false,
    "scrolled": true
   },
   "outputs": [],
   "source": [
    "\"\"\"\n",
    "Note: Sympy bug! Integrating a matrix returns a vector!!!\n",
    "\"\"\"\n",
    "# Transverse strain energy\n",
    "kappa_squared = (kappa.T*dHdx.T).dot(dHdx*kappa)\n",
    "Ut = 1/2*sym.integrate(E*I*kappa_squared, (x,0,l))"
   ]
  },
  {
   "cell_type": "code",
   "execution_count": 27,
   "metadata": {
    "collapsed": true
   },
   "outputs": [],
   "source": [
    "G = E/2.6\n",
    "C = sym.Matrix([[E*A, 0],[0, 5/6*G*A]])\n",
    "Ul = 1/2*sym.integrate(epsilon.T*dHdx.T*R_interp*C*R_interp.T*dHdx*epsilon, (x,0,l))[0]\n",
    "# Ul = 1/2*sym.integrate(epsilon.T*R_interp*C*R_interp.T*epsilon, (x,0,l))[0]"
   ]
  },
  {
   "cell_type": "code",
   "execution_count": 28,
   "metadata": {
    "collapsed": false
   },
   "outputs": [],
   "source": [
    "# Compute Total Energy\n",
    "U = Ul + Ut\n",
    "\n",
    "# Compute Internal Force Vector\n",
    "gen_coord = sym.Matrix.vstack(sym.Matrix.vstack(sym.Matrix([theta[0]]), sym.Matrix(qdot[1:3])), \n",
    "    sym.Matrix.vstack(sym.Matrix([theta[1]]), sym.Matrix(qdot[4:6])))\n",
    "Qe = sym.Matrix([-sym.diff(U,qi) for qi in gen_coord])"
   ]
  },
  {
   "cell_type": "markdown",
   "metadata": {},
   "source": [
    "####4. Applied and body force vector"
   ]
  },
  {
   "cell_type": "code",
   "execution_count": 29,
   "metadata": {
    "collapsed": false
   },
   "outputs": [],
   "source": [
    "# Applied forces\n",
    "# Gravity body force\n",
    "fg = g*rho*sym.Matrix([0,-1])\n",
    "# beta = sym.Matrix([sym.factor(sym.integrate(VrP[:,j].dot(fg),('r_2',0,r),('r_3',0,r),(x,0,l)))\n",
    "#                    + qe for j,qe in zip(range(len(q)),Qe)])\n",
    "Fg = sym.Matrix([sym.simplify(sym.integrate(VrP[:,j].dot(fg),('r_2',0,r),('r_3',0,r),(x,0,l)))\n",
    "                   for j in range(len(gen_coord))])\n",
    "beta = Qe + Fg"
   ]
  },
  {
   "cell_type": "code",
   "execution_count": 30,
   "metadata": {
    "collapsed": false
   },
   "outputs": [],
   "source": [
    "pickle.dump( M,    open( \"gebf-mass-matrix.dump\",   \"wb\" ) )\n",
    "pickle.dump( beta, open( \"gebf-force-vector.dump\",  \"wb\" ) )\n",
    "pickle.dump( U,    open( \"gebf-strain-energy.dump\", \"wb\" ) )\n",
    "# pickle.dump(PE, open(\"potential_enrgy\", \"wb\")) "
   ]
  },
  {
   "cell_type": "code",
   "execution_count": 31,
   "metadata": {
    "collapsed": false
   },
   "outputs": [],
   "source": [
    "M_func    = lambdify((E, A, I, r, rho, l, g, pi, q),    M, \"numpy\")\n",
    "beta_func = lambdify((E, A, I, r, rho, l, g, pi, q), beta, \"numpy\")\n",
    "U_func    = lambdify((E, A, I, r, rho, l, g, pi, q),    U, \"numpy\")"
   ]
  },
  {
   "cell_type": "code",
   "execution_count": 32,
   "metadata": {
    "collapsed": false
   },
   "outputs": [],
   "source": [
    "# Debugging functions to trace source of error \n",
    "Qe_func = lambdify((E, A, I, r, rho, l, g, pi, q),    Qe, \"numpy\")\n",
    "Fg_func = lambdify((E, A, I, r, rho, l, g, pi, q),    Fg, \"numpy\")\n",
    "Ut_func = lambdify((E, A, I, r, rho, l, g, pi, q),    Ut, \"numpy\")\n",
    "Ul_func = lambdify((E, A, I, r, rho, l, g, pi, q),    Ul, \"numpy\")"
   ]
  },
  {
   "cell_type": "code",
   "execution_count": 33,
   "metadata": {
    "collapsed": false
   },
   "outputs": [
    {
     "ename": "AttributeError",
     "evalue": "'Symbol' object has no attribute 'sin'",
     "output_type": "error",
     "traceback": [
      "\u001b[0;31m---------------------------------------------------------------------------\u001b[0m",
      "\u001b[0;31mAttributeError\u001b[0m                            Traceback (most recent call last)",
      "\u001b[0;32m<ipython-input-33-b4818f81f5b7>\u001b[0m in \u001b[0;36m<module>\u001b[0;34m()\u001b[0m\n\u001b[0;32m----> 1\u001b[0;31m \u001b[0mbeta_num\u001b[0m \u001b[0;34m=\u001b[0m \u001b[0mbeta_func\u001b[0m\u001b[0;34m(\u001b[0m\u001b[0;36m0.7e6\u001b[0m\u001b[0;34m,\u001b[0m \u001b[0;36m0.0018\u001b[0m\u001b[0;34m,\u001b[0m \u001b[0;36m1.215e-8\u001b[0m\u001b[0;34m,\u001b[0m \u001b[0;36m0.02393\u001b[0m\u001b[0;34m,\u001b[0m \u001b[0;36m5540\u001b[0m\u001b[0;34m,\u001b[0m \u001b[0;36m0.12\u001b[0m\u001b[0;34m,\u001b[0m \u001b[0;36m9.81\u001b[0m\u001b[0;34m,\u001b[0m \u001b[0;36m3.14\u001b[0m\u001b[0;34m,\u001b[0m \u001b[0mnp\u001b[0m\u001b[0;34m.\u001b[0m\u001b[0mzeros_like\u001b[0m\u001b[0;34m(\u001b[0m\u001b[0mq\u001b[0m\u001b[0;34m)\u001b[0m\u001b[0;34m)\u001b[0m\u001b[0;34m\u001b[0m\u001b[0m\n\u001b[0m\u001b[1;32m      2\u001b[0m \u001b[0mM_num\u001b[0m    \u001b[0;34m=\u001b[0m \u001b[0mM_func\u001b[0m\u001b[0;34m(\u001b[0m   \u001b[0;36m0.7e6\u001b[0m\u001b[0;34m,\u001b[0m \u001b[0;36m0.0018\u001b[0m\u001b[0;34m,\u001b[0m \u001b[0;36m1.215e-8\u001b[0m\u001b[0;34m,\u001b[0m \u001b[0;36m0.02393\u001b[0m\u001b[0;34m,\u001b[0m \u001b[0;36m5540\u001b[0m\u001b[0;34m,\u001b[0m \u001b[0;36m0.12\u001b[0m\u001b[0;34m,\u001b[0m \u001b[0;36m9.81\u001b[0m\u001b[0;34m,\u001b[0m \u001b[0;36m3.14\u001b[0m\u001b[0;34m,\u001b[0m \u001b[0mnp\u001b[0m\u001b[0;34m.\u001b[0m\u001b[0mzeros_like\u001b[0m\u001b[0;34m(\u001b[0m\u001b[0mq\u001b[0m\u001b[0;34m)\u001b[0m\u001b[0;34m)\u001b[0m\u001b[0;34m\u001b[0m\u001b[0m\n\u001b[1;32m      3\u001b[0m \u001b[0mU_num\u001b[0m    \u001b[0;34m=\u001b[0m \u001b[0mU_func\u001b[0m\u001b[0;34m(\u001b[0m   \u001b[0;36m0.7e6\u001b[0m\u001b[0;34m,\u001b[0m \u001b[0;36m0.0018\u001b[0m\u001b[0;34m,\u001b[0m \u001b[0;36m1.215e-8\u001b[0m\u001b[0;34m,\u001b[0m \u001b[0;36m0.02393\u001b[0m\u001b[0;34m,\u001b[0m \u001b[0;36m5540\u001b[0m\u001b[0;34m,\u001b[0m \u001b[0;36m0.12\u001b[0m\u001b[0;34m,\u001b[0m \u001b[0;36m9.81\u001b[0m\u001b[0;34m,\u001b[0m \u001b[0;36m3.14\u001b[0m\u001b[0;34m,\u001b[0m \u001b[0mnp\u001b[0m\u001b[0;34m.\u001b[0m\u001b[0mzeros_like\u001b[0m\u001b[0;34m(\u001b[0m\u001b[0mq\u001b[0m\u001b[0;34m)\u001b[0m\u001b[0;34m)\u001b[0m\u001b[0;34m\u001b[0m\u001b[0m\n",
      "\u001b[0;32m/Users/laflij/Software/anaconda/envs/py34/lib/python3.4/site-packages/numpy/__init__.py\u001b[0m in \u001b[0;36m<lambda>\u001b[0;34m(_0, _1, _2, _3, _4, _5, _6, _7, _8)\u001b[0m\n",
      "\u001b[0;32m/Users/laflij/Software/anaconda/envs/py34/lib/python3.4/site-packages/numpy/__init__.py\u001b[0m in \u001b[0;36m<lambda>\u001b[0;34m(_Dummy_206, _Dummy_207, _Dummy_208, _Dummy_209, _Dummy_210, _Dummy_211, _Dummy_212, _Dummy_213, _Dummy_214, _Dummy_215, _Dummy_216, _Dummy_217, _Dummy_218, _Dummy_219)\u001b[0m\n",
      "\u001b[0;31mAttributeError\u001b[0m: 'Symbol' object has no attribute 'sin'"
     ]
    }
   ],
   "source": [
    "beta_num = beta_func(0.7e6, 0.0018, 1.215e-8, 0.02393, 5540, 0.12, 9.81, 3.14, np.zeros_like(q))\n",
    "M_num    = M_func(   0.7e6, 0.0018, 1.215e-8, 0.02393, 5540, 0.12, 9.81, 3.14, np.zeros_like(q))\n",
    "U_num    = U_func(   0.7e6, 0.0018, 1.215e-8, 0.02393, 5540, 0.12, 9.81, 3.14, np.zeros_like(q))"
   ]
  },
  {
   "cell_type": "code",
   "execution_count": null,
   "metadata": {
    "collapsed": false
   },
   "outputs": [],
   "source": [
    "def zeta_func(q):\n",
    "    M_num    = M_func(   0.7e6, 0.0018, 1.215e-8, 0.02393, 5540, 0.12, 9.81, 3.14, q)\n",
    "    M11 = np.array(M_num[0:3,0:3])\n",
    "    M12 = np.array(M_num[0:3,3:6])\n",
    "    M21 = np.array(M_num[3:6,0:3])\n",
    "    M22 = np.array(M_num[3:6,3:6])\n",
    "\n",
    "    # For now use these definitions to cast Fic (constraint forces between GEBF elements) \n",
    "    # into generalized constraint forces\n",
    "    gamma11 = np.eye(3)\n",
    "    gamma12 = np.zeros((3,3))\n",
    "    gamma22 = np.eye(3)\n",
    "    gamma21 = np.zeros((3,3))\n",
    "\n",
    "    # partition beta into lambda13 and lambda23\n",
    "    gamma13 = np.array(beta_num[0:3])\n",
    "    gamma23 = np.array(beta_num[3:6])\n",
    "\n",
    "\n",
    "    # Commonly inverted quantities\n",
    "    iM11 = np.linalg.inv(M11)\n",
    "    iM22 = np.linalg.inv(M22)\n",
    "    Gamma1 = np.linalg.inv(M11 - M12.dot(iM22.dot(M21)))\n",
    "    Gamma2 = np.linalg.inv(M22 - M21.dot(iM11.dot(M12)))\n",
    "\n",
    "    # Compute all terms of the two handle equations\n",
    "    z11 = Gamma1.dot(gamma11)\n",
    "    z12 = Gamma1.dot(M12.dot(iM22.dot(gamma22)))\n",
    "    z21 = Gamma2.dot(M21.dot(iM11.dot(gamma11)))\n",
    "    z22 = Gamma2.dot(gamma22)\n",
    "\n",
    "    z13 = Gamma1.dot(gamma13 - M12.dot(iM22.dot(gamma23))).reshape((3,1))\n",
    "    z23 = Gamma2.dot(gamma23 - M21.dot(iM11.dot(gamma13))).reshape((3,1))\n",
    "    return z23"
   ]
  },
  {
   "cell_type": "code",
   "execution_count": null,
   "metadata": {
    "collapsed": false
   },
   "outputs": [],
   "source": [
    "theta = np.linspace(0,2*np.pi,200)                                                                 \n",
    "\n",
    "q0GEBF   = [np.array([theta,0,0,0,0,0]).reshape(6,1) for theta in theta]\n",
    "Ul_theta = np.array([Ul_func(0.7e6, 0.0018, 1.215e-8, 0.02393, 5540, 0.12, 9.81, np.pi, q0) for q0 in q0GEBF])\n",
    "Ut_theta = np.array([Ut_func(0.7e6, 0.0018, 1.215e-8, 0.02393, 5540, 0.12, 9.81, np.pi, q0) for q0 in q0GEBF])\n",
    "Qe_theta = np.array([Qe_func(0.7e6, 0.0018, 1.215e-8, 0.02393, 5540, 0.12, 9.81, np.pi, q0) for q0 in q0GEBF])                                                                   \n",
    "Fg_theta = np.array([Fg_func(0.7e6, 0.0018, 1.215e-8, 0.02393, 5540, 0.12, 9.81, np.pi, q0) for q0 in q0GEBF])                                                                   \n",
    "M_theta  = np.array([ M_func(0.7e6, 0.0018, 1.215e-8, 0.02393, 5540, 0.12, 9.81, np.pi, q0) for q0 in q0GEBF]) \n",
    "\n",
    "beta_theta  = np.array([beta_func(0.7e6, 0.0018, 1.215e-8, 0.02393, 5540, 0.12, 9.81, np.pi, q0) for q0 in q0GEBF])                                                                   \n",
    "z13_theta   = np.array([zeta_func(q0) for q0 in q0GEBF])                                                                   \n"
   ]
  },
  {
   "cell_type": "code",
   "execution_count": null,
   "metadata": {
    "collapsed": false,
    "scrolled": true
   },
   "outputs": [],
   "source": [
    "plt.plot(theta/np.pi, Ul_theta, '-g')\n",
    "plt.show()"
   ]
  },
  {
   "cell_type": "code",
   "execution_count": null,
   "metadata": {
    "collapsed": false
   },
   "outputs": [],
   "source": [
    "plt.plot(theta/np.pi, Ut_theta, '-g')\n",
    "plt.show()"
   ]
  },
  {
   "cell_type": "code",
   "execution_count": null,
   "metadata": {
    "collapsed": false
   },
   "outputs": [],
   "source": [
    "for i in range(len(Qe_theta[0,:])):\n",
    "    plt.plot(theta/np.pi, Qe_theta[:,i])\n",
    "plt.show()"
   ]
  },
  {
   "cell_type": "code",
   "execution_count": null,
   "metadata": {
    "collapsed": false
   },
   "outputs": [],
   "source": [
    "for i in range(len(Fg_theta[0,:])):\n",
    "    plt.plot(theta/np.pi, Fg_theta[:,i])\n",
    "plt.show()"
   ]
  },
  {
   "cell_type": "code",
   "execution_count": null,
   "metadata": {
    "collapsed": false
   },
   "outputs": [],
   "source": [
    "for i in range(len(z13_theta[0,:])):\n",
    "    plt.plot(theta/np.pi, z13_theta[:,i])\n",
    "plt.show()"
   ]
  },
  {
   "cell_type": "code",
   "execution_count": null,
   "metadata": {
    "collapsed": false
   },
   "outputs": [],
   "source": [
    "ax = plt.gca()\n",
    "ax.ticklabel_format(style='sci', scilimits=(0,0), useOffset=False)\n",
    "plt.plot(theta/np.pi, np.array([np.linalg.cond(m) for m in M_theta]), '-r')\n",
    "plt.xlabel(r'$\\pi$', )\n",
    "plt.yticks()\n",
    "plt.show()"
   ]
  },
  {
   "cell_type": "code",
   "execution_count": null,
   "metadata": {
    "collapsed": false
   },
   "outputs": [],
   "source": [
    "M_func(   0.7e6, 0.0018, 1.215e-8, 0.02393, 5540, 0.12, 9.81, np.pi, np.zeros_like(q))"
   ]
  },
  {
   "cell_type": "code",
   "execution_count": null,
   "metadata": {
    "collapsed": false
   },
   "outputs": [],
   "source": [
    "beta_func(0.7e6, 0.0018, 1.215e-8, 0.02393, 5540, 0.12, 9.81, np.pi, np.zeros_like(q))"
   ]
  },
  {
   "cell_type": "code",
   "execution_count": null,
   "metadata": {
    "collapsed": false
   },
   "outputs": [],
   "source": [
    "zeta_func(np.zeros_like(q))"
   ]
  },
  {
   "cell_type": "code",
   "execution_count": null,
   "metadata": {
    "collapsed": false
   },
   "outputs": [],
   "source": [
    "Fg_theta[0,:]"
   ]
  },
  {
   "cell_type": "code",
   "execution_count": null,
   "metadata": {
    "collapsed": false
   },
   "outputs": [],
   "source": [
    "np.linalg.inv(M_func(   0.7e6, 0.0018, 1.215e-8, 0.02393, 5540, 0.12, 9.81, np.pi, np.zeros_like(q))).dot(Fg_theta[1,:])"
   ]
  },
  {
   "cell_type": "code",
   "execution_count": null,
   "metadata": {
    "collapsed": false
   },
   "outputs": [],
   "source": [
    "Fg"
   ]
  },
  {
   "cell_type": "code",
   "execution_count": null,
   "metadata": {
    "collapsed": false
   },
   "outputs": [],
   "source": [
    "sym.Matrix([VrP[:,j].dot(fg)\n",
    "                   for j in range(len(q))])"
   ]
  },
  {
   "cell_type": "code",
   "execution_count": null,
   "metadata": {
    "collapsed": true
   },
   "outputs": [],
   "source": [
    "# M.inv()*Fg1"
   ]
  },
  {
   "cell_type": "code",
   "execution_count": null,
   "metadata": {
    "collapsed": true
   },
   "outputs": [],
   "source": []
  },
  {
   "cell_type": "code",
   "execution_count": null,
   "metadata": {
    "collapsed": true
   },
   "outputs": [],
   "source": []
  },
  {
   "cell_type": "code",
   "execution_count": null,
   "metadata": {
    "collapsed": true
   },
   "outputs": [],
   "source": []
  }
 ],
 "metadata": {
  "kernelspec": {
   "display_name": "Python 3",
   "language": "python",
   "name": "python3"
  },
  "language_info": {
   "codemirror_mode": {
    "name": "ipython",
    "version": 3
   },
   "file_extension": ".py",
   "mimetype": "text/x-python",
   "name": "python",
   "nbconvert_exporter": "python",
   "pygments_lexer": "ipython3",
   "version": "3.4.3"
  }
 },
 "nbformat": 4,
 "nbformat_minor": 0
}

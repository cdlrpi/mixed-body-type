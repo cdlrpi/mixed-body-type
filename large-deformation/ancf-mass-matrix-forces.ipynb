{
 "cells": [
  {
   "cell_type": "markdown",
   "metadata": {},
   "source": [
    "# This notebook performs a simulation of a rope where ANCF is used to model the large deformation"
   ]
  },
  {
   "cell_type": "markdown",
   "metadata": {},
   "source": [
    "### Generalized form of Jourdain's Principle is used to develop the mass matrix"
   ]
  },
  {
   "cell_type": "code",
   "execution_count": 1,
   "metadata": {
    "collapsed": false
   },
   "outputs": [],
   "source": [
    "import numpy as np\n",
    "import scipy as sp\n",
    "import sympy as sym\n",
    "import pickle\n",
    "\n",
    "from IPython.display import display\n",
    "\n",
    "from sympy import init_printing\n",
    "init_printing(use_latex=True)"
   ]
  },
  {
   "cell_type": "markdown",
   "metadata": {},
   "source": [
    "#### Define symbolic quantites"
   ]
  },
  {
   "cell_type": "code",
   "execution_count": 2,
   "metadata": {
    "collapsed": false
   },
   "outputs": [],
   "source": [
    "# nodal positons, velocities, and accelerations\n",
    "\"\"\"\n",
    "    e = [r1x r1y dr1xdx dr1ydx r2x r2y dr2xdx dr2ydx]\n",
    "    e = 1x8 for a 2D beam\n",
    "\"\"\"\n",
    "\n",
    "# nodal positions\n",
    "e = sym.Matrix(sym.symarray('e',8))\n",
    "# nodal velocities\n",
    "e_dot = sym.Matrix(sym.symarray('edot',len(e)))\n",
    "# nodal accelerations\n",
    "e_ddot = sym.Matrix(sym.symarray('eddot',len(e)))\n",
    "\n",
    "# symbolic system parameters \n",
    "E, I, A, rho, x, l, tau_a = sym.symbols('E I A rho x l tau_a')\n",
    "# x = sym.symbols('x')\n"
   ]
  },
  {
   "cell_type": "markdown",
   "metadata": {},
   "source": [
    "### Compute the Mass Matrix"
   ]
  },
  {
   "cell_type": "code",
   "execution_count": 3,
   "metadata": {
    "collapsed": false
   },
   "outputs": [],
   "source": [
    "# define shape functions\n",
    "s = sym.symarray('s',4)\n",
    "\n",
    "s[0] = 1-3*(x/l)**2+2*(x/l)**3;\n",
    "s[1] = x/l-2*(x/l)**2+(x/l)**3;\n",
    "s[2] = 3*(x/l)**2-2*(x/l)**3;\n",
    "s[3] = (x/l)**3-(x/l)**2;\n",
    "\n",
    "# compute shape function matrix\n",
    "S = sym.expand(sym.Matrix([s[0]*sym.eye(2), l*s[1]*sym.eye(2), s[2]*sym.eye(2), l*s[3]*sym.eye(2)])).T\n",
    "# print('S = ')\n",
    "# display(S)\n",
    "\n",
    "\n",
    "# define velocity of all points on the beam\n",
    "# print(S.shape)\n",
    "# print(e_dot.shape)\n",
    "Vp = S*e_dot\n",
    "# print('\\nVp = ')\n",
    "# display(Vp)\n",
    "\n",
    "# define partial velocities of the nodes \n",
    "V_r = sym.Matrix([[sym.diff(Vp[j],e_dot[i]) for j in range(len(Vp))] for i in range(len(e))]).T\n",
    "# print('\\nV_r = ')\n",
    "# display(V_r)\n",
    "# print()\n",
    "\n",
    "# define acceleration of the nodes\n",
    "Ap = S*e_ddot\n",
    "# print('\\nAp = ')\n",
    "# display(Ap)\n",
    "# print()\n",
    "\n",
    "M = sym.Matrix([[sym.expand(sym.integrate(V_r[:,j].dot(Ap)*rho*A,(x,0,l))).coeff(e_ddot[i]) for i in range(len(e))]\n",
    "                for j in range(len(e))])\n",
    "# print('\\nM = ')\n",
    "# display(M)\n",
    "pickle.dump( M, open( \"ancf-mass-matrix.dump\", \"wb\" ) )"
   ]
  },
  {
   "cell_type": "markdown",
   "metadata": {},
   "source": [
    "### Compute Internal forces\n",
    "(Berzeri, Shabana - 2000 - DEVELOPMENT OF SIMPLE MODELS FOR THE ELASTIC FORCES IN THE ABSOLUTE NODAL CO-ORDINATE FORMULATION)"
   ]
  },
  {
   "cell_type": "markdown",
   "metadata": {},
   "source": [
    "#### Compute Longitudinal Strain Energy"
   ]
  },
  {
   "cell_type": "code",
   "execution_count": 4,
   "metadata": {
    "collapsed": false
   },
   "outputs": [],
   "source": [
    "# Compute epsilon with approximation 2 (78)\n",
    "er = sym.Matrix([0, 0, 1, 0, 1, 0, 1, 0])\n",
    "# diff_S_squared = sym.simplify(sym.expand(S.diff(x).T*S.diff(x)))\n",
    "# epsilon_squared = sym.simplify((1/2*(e - er).T.dot(diff_S_squared*(e + er)))**2)\n",
    "# diff_S_squared = sym.simplify(sym.expand(S.diff(x).T*S.diff(x)))\n",
    "dSdx = S.diff(x)\n",
    "epsilon_squared = sym.simplify((1/2*(e - er).T*dSdx.T).dot(dSdx*(e + er))**2)\n",
    "# display(epsilon_squared)\n",
    "\n",
    "Ul = sym.simplify(1/2*sym.integrate(E*A*epsilon_squared, (x,0,l)))"
   ]
  },
  {
   "cell_type": "code",
   "execution_count": 5,
   "metadata": {
    "collapsed": false
   },
   "outputs": [],
   "source": [
    "# diff_S_squared"
   ]
  },
  {
   "cell_type": "code",
   "execution_count": 6,
   "metadata": {
    "collapsed": false
   },
   "outputs": [
    {
     "data": {
      "image/png": "[encoded data removed]",
      "text/latex": [
       "$$\\left[\\begin{matrix}e_{0}\\\\e_{1}\\\\e_{2} - 1\\\\e_{3}\\\\e_{4} - 1\\\\e_{5}\\\\e_{6} - 1\\\\e_{7}\\end{matrix}\\right]$$"
      ],
      "text/plain": [
       "⎡  e₀  ⎤\n",
       "⎢      ⎥\n",
       "⎢  e₁  ⎥\n",
       "⎢      ⎥\n",
       "⎢e₂ - 1⎥\n",
       "⎢      ⎥\n",
       "⎢  e₃  ⎥\n",
       "⎢      ⎥\n",
       "⎢e₄ - 1⎥\n",
       "⎢      ⎥\n",
       "⎢  e₅  ⎥\n",
       "⎢      ⎥\n",
       "⎢e₆ - 1⎥\n",
       "⎢      ⎥\n",
       "⎣  e₇  ⎦"
      ]
     },
     "execution_count": 6,
     "metadata": {},
     "output_type": "execute_result"
    }
   ],
   "source": [
    "(e-er)"
   ]
  },
  {
   "cell_type": "markdown",
   "metadata": {},
   "source": [
    "#### Compute Transverse Strain Energy"
   ]
  },
  {
   "cell_type": "code",
   "execution_count": 18,
   "metadata": {
    "collapsed": false
   },
   "outputs": [],
   "source": [
    "# Compute kappa (approximation 1: small longitudinal deformation - fine for rope)\n",
    "kappa_squared = sym.simplify(sym.expand(e.dot(S.diff(x,x).T*S.diff(x,x)*e)))\n",
    "# display(kappa_squared)\n",
    "\n",
    "# Compute Transverse Strain Energy\n",
    "Ut = 1/2*sym.integrate(E*I*kappa_squared, (x,0,l))"
   ]
  },
  {
   "cell_type": "markdown",
   "metadata": {},
   "source": [
    "#### Compute Internal Forces $Q_e = \\frac{\\partial U}{\\partial e}$"
   ]
  },
  {
   "cell_type": "code",
   "execution_count": 19,
   "metadata": {
    "collapsed": false
   },
   "outputs": [],
   "source": [
    "# Compute Total Energy\n",
    "U = Ul + Ut\n",
    "\n",
    "# Compute Internal Force Vector\n",
    "Qe = sym.Matrix([sym.simplify(sym.expand(sym.diff(-U,node))) for node in e])"
   ]
  },
  {
   "cell_type": "code",
   "execution_count": 9,
   "metadata": {
    "collapsed": false
   },
   "outputs": [],
   "source": [
    "# sym.simplify(sym.diff(Ul,e[0]))\n",
    "# sym.simplify(sym.diff(Ut,e[0]))"
   ]
  },
  {
   "cell_type": "code",
   "execution_count": 10,
   "metadata": {
    "collapsed": false
   },
   "outputs": [],
   "source": [
    "# sym.simplify(sym.diff(Ut,e[0]))"
   ]
  },
  {
   "cell_type": "markdown",
   "metadata": {},
   "source": [
    "### Applied and body force vector"
   ]
  },
  {
   "cell_type": "code",
   "execution_count": 20,
   "metadata": {
    "collapsed": false
   },
   "outputs": [],
   "source": [
    "# Applied forces\n",
    "# Gravity body force\n",
    "fg = rho*9.81*A*sym.Matrix([0,-1])\n",
    "\n",
    "# Applied torque\n",
    "# torque_app = sym.Matrix([0,0,tau_a])\n",
    "\n",
    "# Compute beta\n",
    "# beta = sym.Matrix([sym.simplify(sym.integrate(vr.dot(fg), (x,0,l)) + qe) \n",
    "#                    for vr,qe in zip(V_r,Qe)])\n",
    "beta = sym.Matrix([sym.simplify(sym.integrate(V_r[:,j].dot(fg), (x,0,l))) \n",
    "                   + qe for j,qe in zip(range(len(e)),Qe)])\n",
    "pickle.dump( beta, open( \"ancf-force-vector.dump\", \"wb\" ) )"
   ]
  },
  {
   "cell_type": "code",
   "execution_count": 21,
   "metadata": {
    "collapsed": false
   },
   "outputs": [
    {
     "data": {
      "text/plain": [
       "array([ 0.  ,  0.  ,  1.  ,  0.  ,  0.12,  0.  ,  1.  ,  0.  ,  0.12,\n",
       "        0.  ,  1.  ,  0.  ,  0.24,  0.  ,  1.  ,  0.  ])"
      ]
     },
     "metadata": {},
     "output_type": "display_data"
    }
   ],
   "source": [
    "n = 2\n",
    "theta = 0\n",
    "\n",
    "modulus = 0.7e6\n",
    "inertia = 1.215e-8\n",
    "length = 0.12\n",
    "area = 0.0018\n",
    "density = 5540\n",
    "\n",
    "\n",
    "state = np.array([[(i*length-length)*np.cos(theta), (i*length-length)*np.sin(theta), np.cos(theta), np.sin(theta),\n",
    "                   (i*length)*np.cos(theta),        (i*length)*np.sin(theta),        np.cos(theta), np.sin(theta)] \n",
    "             for i in range(1,n+1)]).reshape(1,n*8).squeeze()\n",
    "display(state)"
   ]
  },
  {
   "cell_type": "code",
   "execution_count": 22,
   "metadata": {
    "collapsed": false,
    "scrolled": true
   },
   "outputs": [],
   "source": [
    "from numpy.linalg import inv\n",
    "\n",
    "# Load symbolic mass matrix\n",
    "M = pickle.load( open( \"ancf-mass-matrix.dump\", \"rb\" ) ).subs([(A, area), (l, length), (rho, density)])\n",
    "\n",
    "# load the body and applied force vector (this still has sympolic 'e' values)\n",
    "beta = pickle.load( open( \"ancf-force-vector.dump\", \"rb\" ) ).subs([(E, modulus), (A, area), \\\n",
    "                                                                   (I, inertia), (rho, density), (l, length)])\n",
    "# Partition mass matrix\n",
    "M11 = np.array(M[0:4,0:4])\n",
    "M12 = np.array(M[0:4,4:8])\n",
    "M21 = np.array(M[4:8,0:4])\n",
    "M22 = np.array(M[4:8,4:8])\n",
    "\n",
    "# For now \n",
    "lambda11 = np.eye(4)\n",
    "lambda12 = np.zeros((4,4))\n",
    "lambda22 = np.eye(4)\n",
    "lambda21 = np.zeros((4,4))\n",
    "\n",
    "# fully numberic (initial) values for body and applied forces\n",
    "\n",
    "e_sub = [(e, ei) for e, ei in zip(e, state[:8])]\n",
    "beta = beta.subs(e_sub)\n",
    "\n",
    "# partition beta into lambda13 and lambda23\n",
    "lambda13 = np.array(beta[0:4])\n",
    "lambda23 = np.array(beta[4:8])\n",
    "# Commonly inverted quantities\n",
    "Gamma = inv(M11 - M12*inv(M22)*M21)\n",
    "iM22 = inv(M22)\n",
    "\n",
    "# Compute all terms of the two handle equations\n",
    "zeta11 = Gamma.dot(lambda11 - M12.dot(iM22.dot(lambda21)))\n",
    "zeta12 = Gamma.dot(lambda12 - M12.dot(iM22.dot(lambda22)))\n",
    "zeta13 = Gamma.dot(lambda13 - M12.dot(iM22.dot(lambda23)))\n",
    "\n",
    "zeta21 = iM22.dot(lambda21 - M21.dot(lambda11))\n",
    "zeta22 = iM22.dot(lambda22 - M21.dot(lambda12))\n",
    "zeta23 = iM22.dot(lambda23 - M21.dot(lambda13))"
   ]
  },
  {
   "cell_type": "code",
   "execution_count": 23,
   "metadata": {
    "collapsed": false
   },
   "outputs": [],
   "source": [
    "Ul_test = sym.simplify(sym.diff(Ul,e[0]).subs(e_sub).subs(\\\n",
    "                [(E, modulus), (A, area), (I, inertia), (rho, density), (l, length)]))\n",
    "Ut_test = sym.simplify(sym.diff(Ut,e[0]).subs(e_sub).subs(\\\n",
    "                [(E, modulus), (A, area), (I, inertia), (rho, density), (l, length)]))"
   ]
  },
  {
   "cell_type": "code",
   "execution_count": 24,
   "metadata": {
    "collapsed": false
   },
   "outputs": [
    {
     "data": {
      "image/png": "[encoded data removed]",
      "text/latex": [
       "$$63360.0000000084$$"
      ],
      "text/plain": [
       "63360.0000000084"
      ]
     },
     "metadata": {},
     "output_type": "display_data"
    }
   ],
   "source": [
    "display(Ul_test)"
   ]
  },
  {
   "cell_type": "code",
   "execution_count": 25,
   "metadata": {
    "collapsed": false
   },
   "outputs": [],
   "source": [
    "# beta"
   ]
  },
  {
   "cell_type": "code",
   "execution_count": 17,
   "metadata": {
    "collapsed": false
   },
   "outputs": [],
   "source": [
    "# state[:8]"
   ]
  },
  {
   "cell_type": "code",
   "execution_count": null,
   "metadata": {
    "collapsed": true
   },
   "outputs": [],
   "source": []
  }
 ],
 "metadata": {
  "kernelspec": {
   "display_name": "Python 3",
   "language": "python",
   "name": "python3"
  },
  "language_info": {
   "codemirror_mode": {
    "name": "ipython",
    "version": 3
   },
   "file_extension": ".py",
   "mimetype": "text/x-python",
   "name": "python",
   "nbconvert_exporter": "python",
   "pygments_lexer": "ipython3",
   "version": "3.4.3"
  }
 },
 "nbformat": 4,
 "nbformat_minor": 0
}

{
 "cells": [
  {
   "cell_type": "markdown",
   "metadata": {},
   "source": [
    "# This notebook performs a simulation of a rope where ANCF is used to model the large deformation"
   ]
  },
  {
   "cell_type": "markdown",
   "metadata": {},
   "source": [
    "### Generalized form of Jourdain's Principle is used to develop the mass matrix"
   ]
  },
  {
   "cell_type": "code",
   "execution_count": 1,
   "metadata": {
    "collapsed": false
   },
   "outputs": [],
   "source": [
    "import numpy as np\n",
    "import scipy as sp\n",
    "import sympy as sym\n",
    "import pickle\n",
    "\n",
    "from IPython.display import display\n",
    "\n",
    "from sympy import init_printing\n",
    "init_printing(use_latex=True)"
   ]
  },
  {
   "cell_type": "markdown",
   "metadata": {},
   "source": [
    "#### Define symbolic quantites"
   ]
  },
  {
   "cell_type": "code",
   "execution_count": 2,
   "metadata": {
    "collapsed": false
   },
   "outputs": [],
   "source": [
    "# nodal positons, velocities, and accelerations\n",
    "\"\"\"\n",
    "    e = [r1x r1y dr1xdx dr1ydx r2x r2y dr2xdx dr2ydx]\n",
    "    e = 1x8 for a 2D beam\n",
    "\"\"\"\n",
    "\n",
    "# nodal positions\n",
    "e = sym.Matrix(sym.symarray('e',8))\n",
    "# nodal velocities\n",
    "e_dot = sym.Matrix(sym.symarray('edot',len(e)))\n",
    "# nodal accelerations\n",
    "e_ddot = sym.Matrix(sym.symarray('eddot',len(e)))\n",
    "\n",
    "# symbolic system parameters \n",
    "E, I, A, rho, x, l, tau_a = sym.symbols('E I A rho x l tau_a')"
   ]
  },
  {
   "cell_type": "markdown",
   "metadata": {},
   "source": [
    "### Compute the Mass Matrix"
   ]
  },
  {
   "cell_type": "code",
   "execution_count": 3,
   "metadata": {
    "collapsed": false
   },
   "outputs": [
    {
     "name": "stdout",
     "output_type": "stream",
     "text": [
      "S = \n"
     ]
    },
    {
     "data": {
      "text/plain": [
       "Matrix([\n",
       "[1 - 3*x**2/l**2 + 2*x**3/l**3,                             0, x - 2*x**2/l + x**3/l**2,                        0, 3*x**2/l**2 - 2*x**3/l**3,                         0, -x**2/l + x**3/l**2,                   0],\n",
       "[                            0, 1 - 3*x**2/l**2 + 2*x**3/l**3,                        0, x - 2*x**2/l + x**3/l**2,                         0, 3*x**2/l**2 - 2*x**3/l**3,                   0, -x**2/l + x**3/l**2]])"
      ]
     },
     "metadata": {},
     "output_type": "display_data"
    },
    {
     "name": "stdout",
     "output_type": "stream",
     "text": [
      "\n",
      "Vp = \n"
     ]
    },
    {
     "data": {
      "text/plain": [
       "Matrix([\n",
       "[edot_0*(1 - 3*x**2/l**2 + 2*x**3/l**3) + edot_2*(x - 2*x**2/l + x**3/l**2) + edot_4*(3*x**2/l**2 - 2*x**3/l**3) + edot_6*(-x**2/l + x**3/l**2)],\n",
       "[edot_1*(1 - 3*x**2/l**2 + 2*x**3/l**3) + edot_3*(x - 2*x**2/l + x**3/l**2) + edot_5*(3*x**2/l**2 - 2*x**3/l**3) + edot_7*(-x**2/l + x**3/l**2)]])"
      ]
     },
     "metadata": {},
     "output_type": "display_data"
    },
    {
     "name": "stdout",
     "output_type": "stream",
     "text": [
      "\n",
      "V_r = \n"
     ]
    },
    {
     "data": {
      "text/plain": [
       "Matrix([\n",
       "[1 - 3*x**2/l**2 + 2*x**3/l**3,                             0, x - 2*x**2/l + x**3/l**2,                        0, 3*x**2/l**2 - 2*x**3/l**3,                         0, -x**2/l + x**3/l**2,                   0],\n",
       "[                            0, 1 - 3*x**2/l**2 + 2*x**3/l**3,                        0, x - 2*x**2/l + x**3/l**2,                         0, 3*x**2/l**2 - 2*x**3/l**3,                   0, -x**2/l + x**3/l**2]])"
      ]
     },
     "metadata": {},
     "output_type": "display_data"
    },
    {
     "name": "stdout",
     "output_type": "stream",
     "text": [
      "\n",
      "Ap = \n"
     ]
    },
    {
     "data": {
      "text/plain": [
       "Matrix([\n",
       "[eddot_0*(1 - 3*x**2/l**2 + 2*x**3/l**3) + eddot_2*(x - 2*x**2/l + x**3/l**2) + eddot_4*(3*x**2/l**2 - 2*x**3/l**3) + eddot_6*(-x**2/l + x**3/l**2)],\n",
       "[eddot_1*(1 - 3*x**2/l**2 + 2*x**3/l**3) + eddot_3*(x - 2*x**2/l + x**3/l**2) + eddot_5*(3*x**2/l**2 - 2*x**3/l**3) + eddot_7*(-x**2/l + x**3/l**2)]])"
      ]
     },
     "metadata": {},
     "output_type": "display_data"
    },
    {
     "name": "stdout",
     "output_type": "stream",
     "text": [
      "\n",
      "M = \n"
     ]
    },
    {
     "data": {
      "text/plain": [
       "Matrix([\n",
       "[     13*A*l*rho/35,                  0, 11*A*l**2*rho/210,                 0,       9*A*l*rho/70,                  0, -13*A*l**2*rho/420,                  0],\n",
       "[                 0,      13*A*l*rho/35,                 0, 11*A*l**2*rho/210,                  0,       9*A*l*rho/70,                  0, -13*A*l**2*rho/420],\n",
       "[ 11*A*l**2*rho/210,                  0,    A*l**3*rho/105,                 0,  13*A*l**2*rho/420,                  0,    -A*l**3*rho/140,                  0],\n",
       "[                 0,  11*A*l**2*rho/210,                 0,    A*l**3*rho/105,                  0,  13*A*l**2*rho/420,                  0,    -A*l**3*rho/140],\n",
       "[      9*A*l*rho/70,                  0, 13*A*l**2*rho/420,                 0,      13*A*l*rho/35,                  0, -11*A*l**2*rho/210,                  0],\n",
       "[                 0,       9*A*l*rho/70,                 0, 13*A*l**2*rho/420,                  0,      13*A*l*rho/35,                  0, -11*A*l**2*rho/210],\n",
       "[-13*A*l**2*rho/420,                  0,   -A*l**3*rho/140,                 0, -11*A*l**2*rho/210,                  0,     A*l**3*rho/105,                  0],\n",
       "[                 0, -13*A*l**2*rho/420,                 0,   -A*l**3*rho/140,                  0, -11*A*l**2*rho/210,                  0,     A*l**3*rho/105]])"
      ]
     },
     "metadata": {},
     "output_type": "display_data"
    }
   ],
   "source": [
    "# define shape functions\n",
    "s = sym.symarray('s',4)\n",
    "\n",
    "s[0] = 1-3*(x/l)**2+2*(x/l)**3;\n",
    "s[1] = x/l-2*(x/l)**2+(x/l)**3;\n",
    "s[2] = 3*(x/l)**2-2*(x/l)**3;\n",
    "s[3] = (x/l)**3-(x/l)**2;\n",
    "\n",
    "# compute shape function matrix\n",
    "S = sym.expand(sym.Matrix([s[0]*sym.eye(2), l*s[1]*sym.eye(2), s[2]*sym.eye(2), l*s[3]*sym.eye(2)])).T\n",
    "print('S = ')\n",
    "display(S)\n",
    "\n",
    "\n",
    "# define velocity of all points on the beam\n",
    "# print(S.shape)\n",
    "# print(e_dot.shape)\n",
    "Vp = S*e_dot\n",
    "print('\\nVp = ')\n",
    "display(Vp)\n",
    "\n",
    "# define partial velocities of the nodes \n",
    "V_r = sym.Matrix([[sym.diff(Vp[j],e_dot[i]) for j in range(len(Vp))] for i in range(len(e))]).T\n",
    "print('\\nV_r = ')\n",
    "display(V_r)\n",
    "# print()\n",
    "\n",
    "# define acceleration of the nodes\n",
    "Ap = S*e_ddot\n",
    "print('\\nAp = ')\n",
    "display(Ap)\n",
    "# print()\n",
    "\n",
    "M = sym.Matrix([[sym.expand(sym.integrate(V_r[:,j].dot(Ap)*rho*A,(x,0,l))).coeff(e_ddot[i]) for i in range(len(e))]\n",
    "                for j in range(len(e))])\n",
    "print('\\nM = ')\n",
    "display(M)\n",
    "pickle.dump( M, open( \"mass-matrix.dump\", \"wb\" ) )"
   ]
  },
  {
   "cell_type": "markdown",
   "metadata": {},
   "source": [
    "### Compute Internal forces\n",
    "(Berzeri, Shabana - 2000 - DEVELOPMENT OF SIMPLE MODELS FOR THE ELASTIC FORCES IN THE ABSOLUTE NODAL CO-ORDINATE FORMULATION)"
   ]
  },
  {
   "cell_type": "markdown",
   "metadata": {},
   "source": [
    "#### Compute Longitudinal Strain Energy"
   ]
  },
  {
   "cell_type": "code",
   "execution_count": 4,
   "metadata": {
    "collapsed": false
   },
   "outputs": [],
   "source": [
    "# Compute epsilon with approximation 2 (78)\n",
    "er = sym.Matrix([0, 0, 1, 0, 1, 0, 1, 0])\n",
    "epsilon_squared = sym.simplify(sym.expand(1/2*(e - er).dot(S.diff(x).T*S.diff(x)*(e + er))))\n",
    "# display(epsilon_squared)\n",
    "\n",
    "Ul = 1/2*sym.integrate(E*A*epsilon_squared, (x,0,l))"
   ]
  },
  {
   "cell_type": "markdown",
   "metadata": {},
   "source": [
    "#### Compute Transverse Strain Energy"
   ]
  },
  {
   "cell_type": "code",
   "execution_count": 5,
   "metadata": {
    "collapsed": false
   },
   "outputs": [],
   "source": [
    "# Compute kappa (approximation 1: small longitudinal deformation - fine for rope)\n",
    "kappa_squared = sym.simplify(sym.expand(e.dot(S.diff(x,x).T*S.diff(x,x)*e)))\n",
    "# display(kappa_squared)\n",
    "\n",
    "# Compute Transverse Strain Energy\n",
    "Ut = 1/2*sym.integrate(E*I*kappa_squared, (x,0,l))"
   ]
  },
  {
   "cell_type": "markdown",
   "metadata": {},
   "source": [
    "#### Compute Internal Forces $Q_e = \\frac{\\partial U}{\\partial e}$"
   ]
  },
  {
   "cell_type": "code",
   "execution_count": 6,
   "metadata": {
    "collapsed": false
   },
   "outputs": [],
   "source": [
    "# Compute Total Energy\n",
    "U = Ul + Ut\n",
    "\n",
    "# Compute Internal Force Vector\n",
    "Qe = sym.Matrix([sym.simplify(sym.expand(sym.diff(-U,node))) for node in e])"
   ]
  },
  {
   "cell_type": "markdown",
   "metadata": {},
   "source": [
    "### Applied and body force vector"
   ]
  },
  {
   "cell_type": "code",
   "execution_count": 7,
   "metadata": {
    "collapsed": false
   },
   "outputs": [],
   "source": [
    "# Applied forces\n",
    "# Gravity body force\n",
    "fg = rho*9.81*A*sym.Matrix([0,-1])\n",
    "\n",
    "# Applied torque\n",
    "# torque_app = sym.Matrix([0,0,tau_a])\n",
    "\n",
    "# Compute beta\n",
    "# beta = sym.Matrix([sym.simplify(sym.integrate(vr.dot(fg), (x,0,l)) + qe) \n",
    "#                    for vr,qe in zip(V_r,Qe)])\n",
    "beta = sym.Matrix([sym.simplify(sym.integrate(V_r[:,j].dot(fg), (x,0,l)))\n",
    "                   + qe for j,qe in zip(range(len(e)),Qe)])\n",
    "pickle.dump( beta, open( \"force-vector.dump\", \"wb\" ) )"
   ]
  },
  {
   "cell_type": "code",
   "execution_count": 8,
   "metadata": {
    "collapsed": false
   },
   "outputs": [
    {
     "data": {
      "text/plain": [
       "Matrix([\n",
       "[                  0],\n",
       "[   -981*A*l*rho/200],\n",
       "[                  0],\n",
       "[-327*A*l**2*rho/400],\n",
       "[                  0],\n",
       "[   -981*A*l*rho/200],\n",
       "[                  0],\n",
       "[ 327*A*l**2*rho/400]])"
      ]
     },
     "metadata": {},
     "output_type": "display_data"
    }
   ],
   "source": [
    "display(sym.nsimplify(beta))"
   ]
  },
  {
   "cell_type": "code",
   "execution_count": 4,
   "metadata": {
    "collapsed": false
   },
   "outputs": [
    {
     "name": "stdout",
     "output_type": "stream",
     "text": [
      "1\n",
      "2\n",
      "3\n",
      "4\n",
      "5\n",
      "6\n",
      "7\n",
      "8\n",
      "9\n"
     ]
    },
    {
     "data": {
      "text/plain": [
       "[None, None, None, None, None, None, None, None, None]"
      ]
     },
     "execution_count": 4,
     "metadata": {},
     "output_type": "execute_result"
    }
   ],
   "source": [
    "x = np.arange(1,10,1)\n",
    "[print(x) for x in x]"
   ]
  },
  {
   "cell_type": "code",
   "execution_count": 7,
   "metadata": {
    "collapsed": true
   },
   "outputs": [],
   "source": [
    "y = [x+2 for x in x ]"
   ]
  },
  {
   "cell_type": "code",
   "execution_count": 8,
   "metadata": {
    "collapsed": false
   },
   "outputs": [
    {
     "data": {
      "text/plain": [
       "[3, 4, 5, 6, 7, 8, 9, 10, 11]"
      ]
     },
     "execution_count": 8,
     "metadata": {},
     "output_type": "execute_result"
    }
   ],
   "source": [
    "y"
   ]
  },
  {
   "cell_type": "code",
   "execution_count": null,
   "metadata": {
    "collapsed": true
   },
   "outputs": [],
   "source": []
  }
 ],
 "metadata": {
  "kernelspec": {
   "display_name": "Python 2",
   "language": "python",
   "name": "python2"
  },
  "language_info": {
   "codemirror_mode": {
    "name": "ipython",
    "version": 2
   },
   "file_extension": ".py",
   "mimetype": "text/x-python",
   "name": "python",
   "nbconvert_exporter": "python",
   "pygments_lexer": "ipython2",
   "version": "2.7.10"
  }
 },
 "nbformat": 4,
 "nbformat_minor": 0
}

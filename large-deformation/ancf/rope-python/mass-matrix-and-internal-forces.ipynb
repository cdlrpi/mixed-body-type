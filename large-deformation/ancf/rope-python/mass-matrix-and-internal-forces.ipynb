{
 "cells": [
  {
   "cell_type": "markdown",
   "metadata": {},
   "source": [
    "# This notebook performs a simulation of a rope where ANCF is used to model the large deformation"
   ]
  },
  {
   "cell_type": "markdown",
   "metadata": {},
   "source": [
    "### Generalized form of Jourdain's Principle is used to develop the mass matrix"
   ]
  },
  {
   "cell_type": "code",
   "execution_count": 1,
   "metadata": {
    "collapsed": false
   },
   "outputs": [],
   "source": [
    "import numpy as np\n",
    "import scipy as sp\n",
    "import sympy as sym\n",
    "import pickle\n",
    "\n",
    "from IPython.display import display\n",
    "\n",
    "from sympy import init_printing\n",
    "init_printing(use_latex=True)"
   ]
  },
  {
   "cell_type": "markdown",
   "metadata": {},
   "source": [
    "#### Define symbolic quantites"
   ]
  },
  {
   "cell_type": "code",
   "execution_count": 2,
   "metadata": {
    "collapsed": false
   },
   "outputs": [],
   "source": [
    "# nodal positons, velocities, and accelerations\n",
    "\"\"\"\n",
    "    e = [r1x r1y dr1xdx dr1ydx r2x r2y dr2xdx dr2ydx]\n",
    "    e = 1x8 for a 2D beam\n",
    "\"\"\"\n",
    "\n",
    "# nodal positions\n",
    "e = sym.Matrix(sym.symarray('e',8))\n",
    "# nodal velocities\n",
    "e_dot = sym.Matrix(sym.symarray('edot',len(e)))\n",
    "# nodal accelerations\n",
    "e_ddot = sym.Matrix(sym.symarray('eddot',len(e)))\n",
    "\n",
    "# symbolic system parameters \n",
    "E, I, A, rho, x, l, tau_a = sym.symbols('E I A rho x l tau_a')"
   ]
  },
  {
   "cell_type": "markdown",
   "metadata": {},
   "source": [
    "### Compute the Mass Matrix"
   ]
  },
  {
   "cell_type": "code",
   "execution_count": 3,
   "metadata": {
    "collapsed": false
   },
   "outputs": [
    {
     "name": "stdout",
     "output_type": "stream",
     "text": [
      "S = \n"
     ]
    },
    {
     "data": {
      "image/png": "[encoded data removed]",
      "text/latex": [
       "$$\\left[\\begin{matrix}1 - \\frac{3 x^{2}}{l^{2}} + \\frac{2 x^{3}}{l^{3}} & 0 & x - \\frac{2 x^{2}}{l} + \\frac{x^{3}}{l^{2}} & 0 & \\frac{3 x^{2}}{l^{2}} - \\frac{2 x^{3}}{l^{3}} & 0 & - \\frac{x^{2}}{l} + \\frac{x^{3}}{l^{2}} & 0\\\\0 & 1 - \\frac{3 x^{2}}{l^{2}} + \\frac{2 x^{3}}{l^{3}} & 0 & x - \\frac{2 x^{2}}{l} + \\frac{x^{3}}{l^{2}} & 0 & \\frac{3 x^{2}}{l^{2}} - \\frac{2 x^{3}}{l^{3}} & 0 & - \\frac{x^{2}}{l} + \\frac{x^{3}}{l^{2}}\\end{matrix}\\right]$$"
      ],
      "text/plain": [
       "⎡       2      3                          2    3                    2      3  \n",
       "⎢    3⋅x    2⋅x                        2⋅x    x                  3⋅x    2⋅x   \n",
       "⎢1 - ──── + ────         0         x - ──── + ──        0        ──── - ────  \n",
       "⎢      2      3                         l      2                   2      3   \n",
       "⎢     l      l                                l                   l      l    \n",
       "⎢                                                                             \n",
       "⎢                        2      3                        2    3               \n",
       "⎢                     3⋅x    2⋅x                      2⋅x    x                \n",
       "⎢       0         1 - ──── + ────        0        x - ──── + ──       0       \n",
       "⎢                       2      3                       l      2               \n",
       "⎣                      l      l                              l                \n",
       "\n",
       "                2    3           ⎤\n",
       "               x    x            ⎥\n",
       "     0       - ── + ──      0    ⎥\n",
       "               l     2           ⎥\n",
       "                    l            ⎥\n",
       "                                 ⎥\n",
       "   2      3                2    3⎥\n",
       "3⋅x    2⋅x                x    x ⎥\n",
       "──── - ────      0      - ── + ──⎥\n",
       "  2      3                l     2⎥\n",
       " l      l                      l ⎦"
      ]
     },
     "metadata": {},
     "output_type": "display_data"
    },
    {
     "name": "stdout",
     "output_type": "stream",
     "text": [
      "\n",
      "Vp = \n"
     ]
    },
    {
     "data": {
      "image/png": "[encoded data removed]",
      "text/latex": [
       "$$\\left[\\begin{matrix}\\dot{e}_{0} \\left(1 - \\frac{3 x^{2}}{l^{2}} + \\frac{2 x^{3}}{l^{3}}\\right) + \\dot{e}_{2} \\left(x - \\frac{2 x^{2}}{l} + \\frac{x^{3}}{l^{2}}\\right) + \\dot{e}_{4} \\left(\\frac{3 x^{2}}{l^{2}} - \\frac{2 x^{3}}{l^{3}}\\right) + \\dot{e}_{6} \\left(- \\frac{x^{2}}{l} + \\frac{x^{3}}{l^{2}}\\right)\\\\\\dot{e}_{1} \\left(1 - \\frac{3 x^{2}}{l^{2}} + \\frac{2 x^{3}}{l^{3}}\\right) + \\dot{e}_{3} \\left(x - \\frac{2 x^{2}}{l} + \\frac{x^{3}}{l^{2}}\\right) + \\dot{e}_{5} \\left(\\frac{3 x^{2}}{l^{2}} - \\frac{2 x^{3}}{l^{3}}\\right) + \\dot{e}_{7} \\left(- \\frac{x^{2}}{l} + \\frac{x^{3}}{l^{2}}\\right)\\end{matrix}\\right]$$"
      ],
      "text/plain": [
       "⎡    ⎛       2      3⎞       ⎛       2    3⎞       ⎛   2      3⎞       ⎛   2  \n",
       "⎢    ⎜    3⋅x    2⋅x ⎟       ⎜    2⋅x    x ⎟       ⎜3⋅x    2⋅x ⎟       ⎜  x   \n",
       "⎢ė₀⋅⎜1 - ──── + ────⎟ + ė₂⋅⎜x - ──── + ──⎟ + ė₄⋅⎜──── - ────⎟ + ė₆⋅⎜- ── +\n",
       "⎢    ⎜      2      3 ⎟       ⎜     l      2⎟       ⎜  2      3 ⎟       ⎜  l   \n",
       "⎢    ⎝     l      l  ⎠       ⎝           l ⎠       ⎝ l      l  ⎠       ⎝      \n",
       "⎢                                                                             \n",
       "⎢    ⎛       2      3⎞       ⎛       2    3⎞       ⎛   2      3⎞       ⎛   2  \n",
       "⎢    ⎜    3⋅x    2⋅x ⎟       ⎜    2⋅x    x ⎟       ⎜3⋅x    2⋅x ⎟       ⎜  x   \n",
       "⎢ė₁⋅⎜1 - ──── + ────⎟ + ė₃⋅⎜x - ──── + ──⎟ + ė₅⋅⎜──── - ────⎟ + ė₇⋅⎜- ── +\n",
       "⎢    ⎜      2      3 ⎟       ⎜     l      2⎟       ⎜  2      3 ⎟       ⎜  l   \n",
       "⎣    ⎝     l      l  ⎠       ⎝           l ⎠       ⎝ l      l  ⎠       ⎝      \n",
       "\n",
       "  3⎞⎤\n",
       " x ⎟⎥\n",
       " ──⎟⎥\n",
       "  2⎟⎥\n",
       " l ⎠⎥\n",
       "    ⎥\n",
       "  3⎞⎥\n",
       " x ⎟⎥\n",
       " ──⎟⎥\n",
       "  2⎟⎥\n",
       " l ⎠⎦"
      ]
     },
     "metadata": {},
     "output_type": "display_data"
    },
    {
     "name": "stdout",
     "output_type": "stream",
     "text": [
      "\n",
      "V_r = \n"
     ]
    },
    {
     "data": {
      "image/png": "[encoded data removed]",
      "text/latex": [
       "$$\\left[\\begin{matrix}1 - \\frac{3 x^{2}}{l^{2}} + \\frac{2 x^{3}}{l^{3}} & 0 & x - \\frac{2 x^{2}}{l} + \\frac{x^{3}}{l^{2}} & 0 & \\frac{3 x^{2}}{l^{2}} - \\frac{2 x^{3}}{l^{3}} & 0 & - \\frac{x^{2}}{l} + \\frac{x^{3}}{l^{2}} & 0\\\\0 & 1 - \\frac{3 x^{2}}{l^{2}} + \\frac{2 x^{3}}{l^{3}} & 0 & x - \\frac{2 x^{2}}{l} + \\frac{x^{3}}{l^{2}} & 0 & \\frac{3 x^{2}}{l^{2}} - \\frac{2 x^{3}}{l^{3}} & 0 & - \\frac{x^{2}}{l} + \\frac{x^{3}}{l^{2}}\\end{matrix}\\right]$$"
      ],
      "text/plain": [
       "⎡       2      3                          2    3                    2      3  \n",
       "⎢    3⋅x    2⋅x                        2⋅x    x                  3⋅x    2⋅x   \n",
       "⎢1 - ──── + ────         0         x - ──── + ──        0        ──── - ────  \n",
       "⎢      2      3                         l      2                   2      3   \n",
       "⎢     l      l                                l                   l      l    \n",
       "⎢                                                                             \n",
       "⎢                        2      3                        2    3               \n",
       "⎢                     3⋅x    2⋅x                      2⋅x    x                \n",
       "⎢       0         1 - ──── + ────        0        x - ──── + ──       0       \n",
       "⎢                       2      3                       l      2               \n",
       "⎣                      l      l                              l                \n",
       "\n",
       "                2    3           ⎤\n",
       "               x    x            ⎥\n",
       "     0       - ── + ──      0    ⎥\n",
       "               l     2           ⎥\n",
       "                    l            ⎥\n",
       "                                 ⎥\n",
       "   2      3                2    3⎥\n",
       "3⋅x    2⋅x                x    x ⎥\n",
       "──── - ────      0      - ── + ──⎥\n",
       "  2      3                l     2⎥\n",
       " l      l                      l ⎦"
      ]
     },
     "metadata": {},
     "output_type": "display_data"
    },
    {
     "name": "stdout",
     "output_type": "stream",
     "text": [
      "\n",
      "Ap = \n"
     ]
    },
    {
     "data": {
      "image/png": "[encoded data removed]",
      "text/latex": [
       "$$\\left[\\begin{matrix}\\ddot{e}_{0} \\left(1 - \\frac{3 x^{2}}{l^{2}} + \\frac{2 x^{3}}{l^{3}}\\right) + \\ddot{e}_{2} \\left(x - \\frac{2 x^{2}}{l} + \\frac{x^{3}}{l^{2}}\\right) + \\ddot{e}_{4} \\left(\\frac{3 x^{2}}{l^{2}} - \\frac{2 x^{3}}{l^{3}}\\right) + \\ddot{e}_{6} \\left(- \\frac{x^{2}}{l} + \\frac{x^{3}}{l^{2}}\\right)\\\\\\ddot{e}_{1} \\left(1 - \\frac{3 x^{2}}{l^{2}} + \\frac{2 x^{3}}{l^{3}}\\right) + \\ddot{e}_{3} \\left(x - \\frac{2 x^{2}}{l} + \\frac{x^{3}}{l^{2}}\\right) + \\ddot{e}_{5} \\left(\\frac{3 x^{2}}{l^{2}} - \\frac{2 x^{3}}{l^{3}}\\right) + \\ddot{e}_{7} \\left(- \\frac{x^{2}}{l} + \\frac{x^{3}}{l^{2}}\\right)\\end{matrix}\\right]$$"
      ],
      "text/plain": [
       "⎡    ⎛       2      3⎞       ⎛       2    3⎞       ⎛   2      3⎞       ⎛   2  \n",
       "⎢    ⎜    3⋅x    2⋅x ⎟       ⎜    2⋅x    x ⎟       ⎜3⋅x    2⋅x ⎟       ⎜  x   \n",
       "⎢ë₀⋅⎜1 - ──── + ────⎟ + ë₂⋅⎜x - ──── + ──⎟ + ë₄⋅⎜──── - ────⎟ + ë₆⋅⎜- ── +\n",
       "⎢    ⎜      2      3 ⎟       ⎜     l      2⎟       ⎜  2      3 ⎟       ⎜  l   \n",
       "⎢    ⎝     l      l  ⎠       ⎝           l ⎠       ⎝ l      l  ⎠       ⎝      \n",
       "⎢                                                                             \n",
       "⎢    ⎛       2      3⎞       ⎛       2    3⎞       ⎛   2      3⎞       ⎛   2  \n",
       "⎢    ⎜    3⋅x    2⋅x ⎟       ⎜    2⋅x    x ⎟       ⎜3⋅x    2⋅x ⎟       ⎜  x   \n",
       "⎢ë₁⋅⎜1 - ──── + ────⎟ + ë₃⋅⎜x - ──── + ──⎟ + ë₅⋅⎜──── - ────⎟ + ë₇⋅⎜- ── +\n",
       "⎢    ⎜      2      3 ⎟       ⎜     l      2⎟       ⎜  2      3 ⎟       ⎜  l   \n",
       "⎣    ⎝     l      l  ⎠       ⎝           l ⎠       ⎝ l      l  ⎠       ⎝      \n",
       "\n",
       "  3⎞⎤\n",
       " x ⎟⎥\n",
       " ──⎟⎥\n",
       "  2⎟⎥\n",
       " l ⎠⎥\n",
       "    ⎥\n",
       "  3⎞⎥\n",
       " x ⎟⎥\n",
       " ──⎟⎥\n",
       "  2⎟⎥\n",
       " l ⎠⎦"
      ]
     },
     "metadata": {},
     "output_type": "display_data"
    },
    {
     "name": "stdout",
     "output_type": "stream",
     "text": [
      "\n",
      "M = \n"
     ]
    },
    {
     "data": {
      "image/png": "[encoded data removed]",
      "text/latex": [
       "$$\\left[\\begin{matrix}\\frac{13 A}{35} l \\rho & 0 & \\frac{11 A}{210} l^{2} \\rho & 0 & \\frac{9 A}{70} l \\rho & 0 & - \\frac{13 A}{420} l^{2} \\rho & 0\\\\0 & \\frac{13 A}{35} l \\rho & 0 & \\frac{11 A}{210} l^{2} \\rho & 0 & \\frac{9 A}{70} l \\rho & 0 & - \\frac{13 A}{420} l^{2} \\rho\\\\\\frac{11 A}{210} l^{2} \\rho & 0 & \\frac{A \\rho}{105} l^{3} & 0 & \\frac{13 A}{420} l^{2} \\rho & 0 & - \\frac{A \\rho}{140} l^{3} & 0\\\\0 & \\frac{11 A}{210} l^{2} \\rho & 0 & \\frac{A \\rho}{105} l^{3} & 0 & \\frac{13 A}{420} l^{2} \\rho & 0 & - \\frac{A \\rho}{140} l^{3}\\\\\\frac{9 A}{70} l \\rho & 0 & \\frac{13 A}{420} l^{2} \\rho & 0 & \\frac{13 A}{35} l \\rho & 0 & - \\frac{11 A}{210} l^{2} \\rho & 0\\\\0 & \\frac{9 A}{70} l \\rho & 0 & \\frac{13 A}{420} l^{2} \\rho & 0 & \\frac{13 A}{35} l \\rho & 0 & - \\frac{11 A}{210} l^{2} \\rho\\\\- \\frac{13 A}{420} l^{2} \\rho & 0 & - \\frac{A \\rho}{140} l^{3} & 0 & - \\frac{11 A}{210} l^{2} \\rho & 0 & \\frac{A \\rho}{105} l^{3} & 0\\\\0 & - \\frac{13 A}{420} l^{2} \\rho & 0 & - \\frac{A \\rho}{140} l^{3} & 0 & - \\frac{11 A}{210} l^{2} \\rho & 0 & \\frac{A \\rho}{105} l^{3}\\end{matrix}\\right]$$"
      ],
      "text/plain": [
       "⎡                                2                                            \n",
       "⎢ 13⋅A⋅l⋅ρ                 11⋅A⋅l ⋅ρ               9⋅A⋅l⋅ρ                 -13\n",
       "⎢ ────────         0       ─────────      0        ───────         0       ───\n",
       "⎢    35                       210                     70                      \n",
       "⎢                                                                             \n",
       "⎢                                           2                                 \n",
       "⎢              13⋅A⋅l⋅ρ               11⋅A⋅l ⋅ρ                 9⋅A⋅l⋅ρ       \n",
       "⎢     0        ────────        0      ─────────       0         ───────       \n",
       "⎢                 35                     210                       70         \n",
       "⎢                                                                             \n",
       "⎢       2                      3                        2                     \n",
       "⎢ 11⋅A⋅l ⋅ρ                 A⋅l ⋅ρ                13⋅A⋅l ⋅ρ                 -A\n",
       "⎢ ─────────        0        ──────        0       ─────────        0        ──\n",
       "⎢    210                     105                     420                      \n",
       "⎢                                                                             \n",
       "⎢                    2                    3                          2        \n",
       "⎢              11⋅A⋅l ⋅ρ               A⋅l ⋅ρ                  13⋅A⋅l ⋅ρ      \n",
       "⎢     0        ─────────       0       ──────         0        ─────────      \n",
       "⎢                 210                   105                       420         \n",
       "⎢                                                                             \n",
       "⎢                                2                                            \n",
       "⎢  9⋅A⋅l⋅ρ                 13⋅A⋅l ⋅ρ              13⋅A⋅l⋅ρ                 -11\n",
       "⎢  ───────         0       ─────────      0       ────────         0       ───\n",
       "⎢     70                      420                    35                       \n",
       "⎢                                                                             \n",
       "⎢                                           2                                 \n",
       "⎢               9⋅A⋅l⋅ρ               13⋅A⋅l ⋅ρ                13⋅A⋅l⋅ρ       \n",
       "⎢     0         ───────        0      ─────────       0        ────────       \n",
       "⎢                  70                    420                      35          \n",
       "⎢                                                                             \n",
       "⎢       2                      3                        2                     \n",
       "⎢-13⋅A⋅l ⋅ρ                -A⋅l ⋅ρ               -11⋅A⋅l ⋅ρ                  A\n",
       "⎢───────────       0       ────────       0      ───────────       0         ─\n",
       "⎢    420                     140                     210                      \n",
       "⎢                                                                             \n",
       "⎢                    2                    3                          2        \n",
       "⎢             -13⋅A⋅l ⋅ρ              -A⋅l ⋅ρ                 -11⋅A⋅l ⋅ρ      \n",
       "⎢     0       ───────────      0      ────────        0       ───────────     \n",
       "⎣                 420                   140                       210         \n",
       "\n",
       "    2                ⎤\n",
       "⋅A⋅l ⋅ρ              ⎥\n",
       "────────       0     ⎥\n",
       " 420                 ⎥\n",
       "                     ⎥\n",
       "                 2   ⎥\n",
       "          -13⋅A⋅l ⋅ρ ⎥\n",
       "  0       ───────────⎥\n",
       "              420    ⎥\n",
       "                     ⎥\n",
       "  3                  ⎥\n",
       "⋅l ⋅ρ                ⎥\n",
       "──────         0     ⎥\n",
       "140                  ⎥\n",
       "                     ⎥\n",
       "               3     ⎥\n",
       "           -A⋅l ⋅ρ   ⎥\n",
       "  0        ────────  ⎥\n",
       "             140     ⎥\n",
       "                     ⎥\n",
       "    2                ⎥\n",
       "⋅A⋅l ⋅ρ              ⎥\n",
       "────────       0     ⎥\n",
       " 210                 ⎥\n",
       "                     ⎥\n",
       "                 2   ⎥\n",
       "          -11⋅A⋅l ⋅ρ ⎥\n",
       "  0       ───────────⎥\n",
       "              210    ⎥\n",
       "                     ⎥\n",
       "  3                  ⎥\n",
       "⋅l ⋅ρ                ⎥\n",
       "─────          0     ⎥\n",
       "105                  ⎥\n",
       "                     ⎥\n",
       "               3     ⎥\n",
       "            A⋅l ⋅ρ   ⎥\n",
       "  0         ──────   ⎥\n",
       "             105     ⎦"
      ]
     },
     "metadata": {},
     "output_type": "display_data"
    }
   ],
   "source": [
    "# define shape functions\n",
    "s = sym.symarray('s',4)\n",
    "\n",
    "s[0] = 1-3*(x/l)**2+2*(x/l)**3;\n",
    "s[1] = x/l-2*(x/l)**2+(x/l)**3;\n",
    "s[2] = 3*(x/l)**2-2*(x/l)**3;\n",
    "s[3] = (x/l)**3-(x/l)**2;\n",
    "\n",
    "# compute shape function matrix\n",
    "S = sym.expand(sym.Matrix([s[0]*sym.eye(2), l*s[1]*sym.eye(2), s[2]*sym.eye(2), l*s[3]*sym.eye(2)])).T\n",
    "print('S = ')\n",
    "display(S)\n",
    "\n",
    "\n",
    "# define velocity of all points on the beam\n",
    "# print(S.shape)\n",
    "# print(e_dot.shape)\n",
    "Vp = S*e_dot\n",
    "print('\\nVp = ')\n",
    "display(Vp)\n",
    "\n",
    "# define partial velocities of the nodes \n",
    "V_r = sym.Matrix([[sym.diff(Vp[j],e_dot[i]) for j in range(len(Vp))] for i in range(len(e))]).T\n",
    "print('\\nV_r = ')\n",
    "display(V_r)\n",
    "# print()\n",
    "\n",
    "# define acceleration of the nodes\n",
    "Ap = S*e_ddot\n",
    "print('\\nAp = ')\n",
    "display(Ap)\n",
    "# print()\n",
    "\n",
    "M = sym.Matrix([[sym.expand(sym.integrate(V_r[:,j].dot(Ap)*rho*A,(x,0,l))).coeff(e_ddot[i]) for i in range(len(e))]\n",
    "                for j in range(len(e))])\n",
    "print('\\nM = ')\n",
    "display(M)\n",
    "pickle.dump( M, open( \"mass-matrix.dump\", \"wb\" ) )"
   ]
  },
  {
   "cell_type": "markdown",
   "metadata": {},
   "source": [
    "### Compute Internal forces\n",
    "(Berzeri, Shabana - 2000 - DEVELOPMENT OF SIMPLE MODELS FOR THE ELASTIC FORCES IN THE ABSOLUTE NODAL CO-ORDINATE FORMULATION)"
   ]
  },
  {
   "cell_type": "markdown",
   "metadata": {},
   "source": [
    "#### Compute Longitudinal Strain Energy"
   ]
  },
  {
   "cell_type": "code",
   "execution_count": 4,
   "metadata": {
    "collapsed": false
   },
   "outputs": [],
   "source": [
    "# Compute epsilon with approximation 2 (78)\n",
    "er = sym.Matrix([0, 0, 1, 0, 1, 0, 1, 0])\n",
    "epsilon_squared = sym.simplify(sym.expand(1/2*(e - er).dot(S.diff(x).T*S.diff(x)*(e + er))))\n",
    "# display(epsilon_squared)\n",
    "\n",
    "Ul = 1/2*sym.integrate(E*A*epsilon_squared, (x,0,l))"
   ]
  },
  {
   "cell_type": "markdown",
   "metadata": {},
   "source": [
    "#### Compute Transverse Strain Energy"
   ]
  },
  {
   "cell_type": "code",
   "execution_count": 5,
   "metadata": {
    "collapsed": false
   },
   "outputs": [],
   "source": [
    "# Compute kappa (approximation 1: small longitudinal deformation - fine for rope)\n",
    "kappa_squared = sym.simplify(sym.expand(e.dot(S.diff(x,x).T*S.diff(x,x)*e)))\n",
    "# display(kappa_squared)\n",
    "\n",
    "# Compute Transverse Strain Energy\n",
    "Ut = 1/2*sym.integrate(E*I*kappa_squared, (x,0,l))"
   ]
  },
  {
   "cell_type": "markdown",
   "metadata": {},
   "source": [
    "#### Compute Internal Forces $Q_e = \\frac{\\partial U}{\\partial e}$"
   ]
  },
  {
   "cell_type": "code",
   "execution_count": 6,
   "metadata": {
    "collapsed": false
   },
   "outputs": [],
   "source": [
    "# Compute Total Energy\n",
    "U = Ul + Ut\n",
    "\n",
    "# Compute Internal Force Vector\n",
    "Qe = sym.Matrix([sym.simplify(sym.expand(sym.diff(-U,node))) for node in e])"
   ]
  },
  {
   "cell_type": "markdown",
   "metadata": {},
   "source": [
    "### Applied and body force vector"
   ]
  },
  {
   "cell_type": "code",
   "execution_count": 7,
   "metadata": {
    "collapsed": false
   },
   "outputs": [],
   "source": [
    "# Applied forces\n",
    "# Gravity body force\n",
    "fg = rho*9.81*A*sym.Matrix([0,-1])\n",
    "\n",
    "# Applied torque\n",
    "# torque_app = sym.Matrix([0,0,tau_a])\n",
    "\n",
    "# Compute beta\n",
    "# beta = sym.Matrix([sym.simplify(sym.integrate(vr.dot(fg), (x,0,l)) + qe) \n",
    "#                    for vr,qe in zip(V_r,Qe)])\n",
    "beta = sym.Matrix([sym.simplify(sym.integrate(V_r[:,j].dot(fg), (x,0,l)))\n",
    "                   + qe for j,qe in zip(range(len(e)),Qe)])\n",
    "pickle.dump( beta, open( \"force-vector.dump\", \"wb\" ) )"
   ]
  },
  {
   "cell_type": "code",
   "execution_count": 8,
   "metadata": {
    "collapsed": false
   },
   "outputs": [
    {
     "data": {
      "image/png": "[encoded data removed]",
      "text/latex": [
       "$$\\left[\\begin{matrix}\\frac{E}{l^{3}} \\left(- A l^{3} \\left(0.0499999999999998 e_{2} + 0.05 e_{6}\\right) + A l^{2} \\left(- 0.6 e_{0} + 0.6 e_{4}\\right) - 6.0 I l \\left(e_{2} + e_{6}\\right) + I \\left(- 12.0 e_{0} + 12.0 e_{4}\\right)\\right)\\\\- 4.905 A l \\rho + \\frac{E}{l^{3}} \\left(- A l^{3} \\left(0.0499999999999998 e_{3} + 0.05 e_{7}\\right) + A l^{2} \\left(- 0.6 e_{1} + 0.6 e_{5}\\right) - 6.0 I l \\left(e_{3} + e_{7}\\right) + I \\left(- 12.0 e_{1} + 12.0 e_{5}\\right)\\right)\\\\\\frac{E}{l^{2}} \\left(A l^{2} \\left(- 0.0499999999999998 e_{0} - 0.0666666666666664 e_{2} l + 0.0499999999999998 e_{4} + 0.0166666666666668 e_{6} l\\right) - I l \\left(4.0 e_{2} + 2.0 e_{6}\\right) + I \\left(- 6.0 e_{0} + 6.0 e_{4}\\right)\\right)\\\\- 0.8175 A l^{2} \\rho + \\frac{E}{l^{2}} \\left(A l^{2} \\left(- 0.0499999999999998 e_{1} - 0.0666666666666664 e_{3} l + 0.0499999999999998 e_{5} + 0.0166666666666668 e_{7} l\\right) - I l \\left(4.0 e_{3} + 2.0 e_{7}\\right) + I \\left(- 6.0 e_{1} + 6.0 e_{5}\\right)\\right)\\\\\\frac{E}{l^{3}} \\left(A l^{3} \\left(0.0499999999999998 e_{2} + 0.05 e_{6}\\right) + A l^{2} \\left(0.6 e_{0} - 0.6 e_{4}\\right) + 6.0 I l \\left(e_{2} + e_{6}\\right) + I \\left(12.0 e_{0} - 12.0 e_{4}\\right)\\right)\\\\- 4.905 A l \\rho + \\frac{E}{l^{3}} \\left(A l^{3} \\left(0.0499999999999998 e_{3} + 0.05 e_{7}\\right) + A l^{2} \\left(0.6 e_{1} - 0.6 e_{5}\\right) + 6.0 I l \\left(e_{3} + e_{7}\\right) + I \\left(12.0 e_{1} - 12.0 e_{5}\\right)\\right)\\\\\\frac{E}{l^{2}} \\left(A l^{2} \\left(- 0.05 e_{0} + 0.0166666666666668 e_{2} l + 0.05 e_{4} - 0.0666666666666667 e_{6} l\\right) - I l \\left(2.0 e_{2} + 4.0 e_{6}\\right) + I \\left(- 6.0 e_{0} + 6.0 e_{4}\\right)\\right)\\\\0.8175 A l^{2} \\rho + \\frac{E}{l^{2}} \\left(A l^{2} \\left(- 0.05 e_{1} + 0.0166666666666668 e_{3} l + 0.05 e_{5} - 0.0666666666666667 e_{7} l\\right) - I l \\left(2.0 e_{3} + 4.0 e_{7}\\right) + I \\left(- 6.0 e_{1} + 6.0 e_{5}\\right)\\right)\\end{matrix}\\right]$$"
      ],
      "text/plain": [
       "⎡                               ⎛     3                                       \n",
       "⎢                             E⋅⎝- A⋅l ⋅(0.0499999999999998⋅e₂ + 0.05⋅e₆) + A⋅\n",
       "⎢                             ────────────────────────────────────────────────\n",
       "⎢                                                                             \n",
       "⎢                                                                             \n",
       "⎢                                                                             \n",
       "⎢                                          ⎛     3                            \n",
       "⎢                                        E⋅⎝- A⋅l ⋅(0.0499999999999998⋅e₃ + 0.\n",
       "⎢                   --4.905⋅(-1)⋅A⋅l⋅ρ + ─────────────────────────────────────\n",
       "⎢                                                                             \n",
       "⎢                                                                             \n",
       "⎢                                                                             \n",
       "⎢            ⎛   2                                                            \n",
       "⎢          E⋅⎝A⋅l ⋅(-- -0.0499999999999998⋅e₀ - - -0.0666666666666664⋅e₂⋅l + 0\n",
       "⎢          ───────────────────────────────────────────────────────────────────\n",
       "⎢                                                                             \n",
       "⎢                                                                             \n",
       "⎢                                                                             \n",
       "⎢                       ⎛   2                                                 \n",
       "⎢               2     E⋅⎝A⋅l ⋅(-- -0.0499999999999998⋅e₁ - - -0.06666666666666\n",
       "⎢- - -0.8175⋅A⋅l ⋅ρ + ────────────────────────────────────────────────────────\n",
       "⎢                                                                             \n",
       "⎢                                                                             \n",
       "⎢                                                                             \n",
       "⎢                                    ⎛   3                                    \n",
       "⎢                                  E⋅⎝A⋅l ⋅(0.0499999999999998⋅e₂ + 0.05⋅e₆) +\n",
       "⎢                                  ───────────────────────────────────────────\n",
       "⎢                                                                             \n",
       "⎢                                                                             \n",
       "⎢                                                                             \n",
       "⎢                                               ⎛   3                         \n",
       "⎢                                             E⋅⎝A⋅l ⋅(0.0499999999999998⋅e₃ +\n",
       "⎢                        --4.905⋅(-1)⋅A⋅l⋅ρ + ────────────────────────────────\n",
       "⎢                                                                             \n",
       "⎢                                                                             \n",
       "⎢                                                                             \n",
       "⎢                          ⎛   2                                              \n",
       "⎢                        E⋅⎝A⋅l ⋅(-- -0.05⋅e₀ + 0.0166666666666668⋅e₂⋅l + 0.05\n",
       "⎢                        ─────────────────────────────────────────────────────\n",
       "⎢                                                                             \n",
       "⎢                                                                             \n",
       "⎢                                                                             \n",
       "⎢                                  ⎛   2                                      \n",
       "⎢                          2     E⋅⎝A⋅l ⋅(-- -0.05⋅e₁ + 0.0166666666666668⋅e₃⋅\n",
       "⎢                0.8175⋅A⋅l ⋅ρ + ─────────────────────────────────────────────\n",
       "⎢                                                                             \n",
       "⎣                                                                             \n",
       "\n",
       " 2                                                                            \n",
       "l ⋅(-- -0.6⋅e₀ + 0.6⋅e₄) - -6.0⋅(-1)⋅I⋅l⋅(e₂ + e₆) + I⋅(--12.0⋅(-1)⋅e₀ + 12.0⋅\n",
       "──────────────────────────────────────────────────────────────────────────────\n",
       "                 3                                                            \n",
       "                l                                                             \n",
       "                                                                              \n",
       "            2                                                                 \n",
       "05⋅e₇) + A⋅l ⋅(-- -0.6⋅e₁ + 0.6⋅e₅) - -6.0⋅(-1)⋅I⋅l⋅(e₃ + e₇) + I⋅(--12.0⋅(-1)\n",
       "──────────────────────────────────────────────────────────────────────────────\n",
       "                            3                                                 \n",
       "                           l                                                  \n",
       "                                                                              \n",
       "                                                                              \n",
       ".0499999999999998⋅e₄ + 0.0166666666666668⋅e₆⋅l) - I⋅l⋅(4.0⋅e₂ + 2.0⋅e₆) + I⋅(-\n",
       "──────────────────────────────────────────────────────────────────────────────\n",
       "                 2                                                            \n",
       "                l                                                             \n",
       "                                                                              \n",
       "                                                                              \n",
       "64⋅e₃⋅l + 0.0499999999999998⋅e₅ + 0.0166666666666668⋅e₇⋅l) - I⋅l⋅(4.0⋅e₃ + 2.0\n",
       "──────────────────────────────────────────────────────────────────────────────\n",
       "                            2                                                 \n",
       "                           l                                                  \n",
       "                                                                              \n",
       "    2                                                                       ⎞ \n",
       " A⋅l ⋅(0.6⋅e₀ - - -0.6⋅e₄) + 6.0⋅I⋅l⋅(e₂ + e₆) + I⋅(12.0⋅e₀ - -12.0⋅(-1)⋅e₄)⎠ \n",
       "───────────────────────────────────────────────────────────────────────────── \n",
       "                 3                                                            \n",
       "                l                                                             \n",
       "                                                                              \n",
       "               2                                                              \n",
       " 0.05⋅e₇) + A⋅l ⋅(0.6⋅e₁ - - -0.6⋅e₅) + 6.0⋅I⋅l⋅(e₃ + e₇) + I⋅(12.0⋅e₁ - -12.0\n",
       "──────────────────────────────────────────────────────────────────────────────\n",
       "                            3                                                 \n",
       "                           l                                                  \n",
       "                                                                              \n",
       "                                                                              \n",
       "⋅e₄ - - -0.0666666666666667⋅e₆⋅l) - I⋅l⋅(2.0⋅e₂ + 4.0⋅e₆) + I⋅(--6.0⋅(-1)⋅e₀ +\n",
       "──────────────────────────────────────────────────────────────────────────────\n",
       "                 2                                                            \n",
       "                l                                                             \n",
       "                                                                              \n",
       "                                                                              \n",
       "l + 0.05⋅e₅ - - -0.0666666666666667⋅e₇⋅l) - I⋅l⋅(2.0⋅e₃ + 4.0⋅e₇) + I⋅(--6.0⋅(\n",
       "──────────────────────────────────────────────────────────────────────────────\n",
       "                         2                                                    \n",
       "                        l                                                     \n",
       "\n",
       "   ⎞                              ⎤\n",
       "e₄)⎠                              ⎥\n",
       "────                              ⎥\n",
       "                                  ⎥\n",
       "                                  ⎥\n",
       "                                  ⎥\n",
       "              ⎞                   ⎥\n",
       "⋅e₁ + 12.0⋅e₅)⎠                   ⎥\n",
       "───────────────                   ⎥\n",
       "                                  ⎥\n",
       "                                  ⎥\n",
       "                                  ⎥\n",
       "                      ⎞           ⎥\n",
       "-6.0⋅(-1)⋅e₀ + 6.0⋅e₄)⎠           ⎥\n",
       "───────────────────────           ⎥\n",
       "                                  ⎥\n",
       "                                  ⎥\n",
       "                                  ⎥\n",
       "                                 ⎞⎥\n",
       "⋅e₇) + I⋅(--6.0⋅(-1)⋅e₁ + 6.0⋅e₅)⎠⎥\n",
       "──────────────────────────────────⎥\n",
       "                                  ⎥\n",
       "                                  ⎥\n",
       "                                  ⎥\n",
       "                                  ⎥\n",
       "                                  ⎥\n",
       "                                  ⎥\n",
       "                                  ⎥\n",
       "                                  ⎥\n",
       "                                  ⎥\n",
       "         ⎞                        ⎥\n",
       "⋅(-1)⋅e₅)⎠                        ⎥\n",
       "──────────                        ⎥\n",
       "                                  ⎥\n",
       "                                  ⎥\n",
       "                                  ⎥\n",
       "        ⎞                         ⎥\n",
       " 6.0⋅e₄)⎠                         ⎥\n",
       "─────────                         ⎥\n",
       "                                  ⎥\n",
       "                                  ⎥\n",
       "                                  ⎥\n",
       "                ⎞                 ⎥\n",
       "-1)⋅e₁ + 6.0⋅e₅)⎠                 ⎥\n",
       "─────────────────                 ⎥\n",
       "                                  ⎥\n",
       "                                  ⎦"
      ]
     },
     "metadata": {},
     "output_type": "display_data"
    }
   ],
   "source": [
    "display(beta)"
   ]
  },
  {
   "cell_type": "code",
   "execution_count": 4,
   "metadata": {
    "collapsed": false
   },
   "outputs": [
    {
     "name": "stdout",
     "output_type": "stream",
     "text": [
      "1\n",
      "2\n",
      "3\n",
      "4\n",
      "5\n",
      "6\n",
      "7\n",
      "8\n",
      "9\n"
     ]
    },
    {
     "data": {
      "text/plain": [
       "[None, None, None, None, None, None, None, None, None]"
      ]
     },
     "execution_count": 4,
     "metadata": {},
     "output_type": "execute_result"
    }
   ],
   "source": [
    "x = np.arange(1,10,1)\n",
    "[print(x) for x in x]"
   ]
  },
  {
   "cell_type": "code",
   "execution_count": 7,
   "metadata": {
    "collapsed": true
   },
   "outputs": [],
   "source": [
    "y = [x+2 for x in x ]"
   ]
  },
  {
   "cell_type": "code",
   "execution_count": 8,
   "metadata": {
    "collapsed": false
   },
   "outputs": [
    {
     "data": {
      "text/plain": [
       "[3, 4, 5, 6, 7, 8, 9, 10, 11]"
      ]
     },
     "execution_count": 8,
     "metadata": {},
     "output_type": "execute_result"
    }
   ],
   "source": [
    "y"
   ]
  },
  {
   "cell_type": "code",
   "execution_count": null,
   "metadata": {
    "collapsed": true
   },
   "outputs": [],
   "source": []
  }
 ],
 "metadata": {
  "kernelspec": {
   "display_name": "Python 3",
   "language": "python",
   "name": "python3"
  },
  "language_info": {
   "codemirror_mode": {
    "name": "ipython",
    "version": 3
   },
   "file_extension": ".py",
   "mimetype": "text/x-python",
   "name": "python",
   "nbconvert_exporter": "python",
   "pygments_lexer": "ipython3",
   "version": "3.4.3"
  }
 },
 "nbformat": 4,
 "nbformat_minor": 0
}

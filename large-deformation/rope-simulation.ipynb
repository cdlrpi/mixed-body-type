{
 "cells": [
  {
   "cell_type": "markdown",
   "metadata": {},
   "source": [
    "## This notebook runs a simulation of a rope using ANCF elements to model the flexibility and the DCA to form and solve the equations of motion"
   ]
  },
  {
   "cell_type": "code",
   "execution_count": 1,
   "metadata": {
    "collapsed": false
   },
   "outputs": [],
   "source": [
    "import math\n",
    "import pickle \n",
    "import numpy as np\n",
    "import scipy as sp\n",
    "import sympy as sym\n",
    "import matplotlib.pyplot as plt\n",
    "import MBstructs as MB\n",
    "import MultiBodyFuncts as MBF\n",
    "import dca_recursive\n",
    "import contextlib\n",
    "\n",
    "from numpy.linalg import inv\n",
    "from scipy.integrate import odeint\n",
    "\n",
    "%matplotlib inline"
   ]
  },
  {
   "cell_type": "code",
   "execution_count": 2,
   "metadata": {
    "collapsed": false
   },
   "outputs": [],
   "source": [
    "@contextlib.contextmanager\n",
    "def printoptions(*args, **kwargs):\n",
    "    original = np.get_printoptions()\n",
    "    np.set_printoptions(*args, **kwargs)\n",
    "    yield \n",
    "    np.set_printoptions(**original)"
   ]
  },
  {
   "cell_type": "code",
   "execution_count": 3,
   "metadata": {
    "collapsed": true
   },
   "outputs": [],
   "source": [
    "# system specific kinematic sweep \n",
    "def kinematics(bodies,q,u):\n",
    "    \n",
    "    for body,theta,omega in zip(bodies,np.cumsum(q),np.cumsum(u)):\n",
    "        body.omega = omega\n",
    "        body.CBN = MBF.DCM(theta)"
   ]
  },
  {
   "cell_type": "code",
   "execution_count": 10,
   "metadata": {
    "collapsed": false
   },
   "outputs": [
    {
     "name": "stdout",
     "output_type": "stream",
     "text": [
      "[  1.57079633   1.           2.           3.           1.           2.           3.\n",
      "   1.           2.           3.           1.           2.           3.           1.\n",
      "   2.           3.           1.           2.           3.           1.           2.\n",
      "   3.           1.           2.           3.           1.           2.           3.\n",
      "   1.           2.           3.           1.           2.           3.           1.\n",
      "   2.           3.           0.          11.          22.          33.          11.\n",
      "  22.          33.          11.          22.          33.          11.          22.\n",
      "  33.          11.          22.          33.          11.          22.          33.\n",
      "  11.          22.          33.          11.          22.          33.          11.\n",
      "  22.          33.          11.          22.          33.          11.          22.\n",
      "  33.          11.          22.          33.        ]\n"
     ]
    }
   ],
   "source": [
    "q0GEBF = [[1, 2, 3] for i in range(nGEBF)]\n",
    "u0GEBF = [[11, 22, 33] for i in range(nGEBF)]\n",
    "\n",
    "q0KIN =  [[np.pi/2]] + [[0.0 for i in range(ndofsKIN)] for i in range(nJKIN-1)]\n",
    "u0KIN =  [[0] for i in range(nJKIN)]\n",
    "\n",
    "q0 = np.array([q for pos in q0KIN+q0GEBF for q in pos]).squeeze()\n",
    "u0 = np.array([q for pos in u0KIN+u0GEBF for q in pos]).squeeze()\n",
    "state0 = np.hstack((q0,u0))\n",
    "\n",
    "print(state0)"
   ]
  },
  {
   "cell_type": "code",
   "execution_count": null,
   "metadata": {
    "collapsed": true
   },
   "outputs": [],
   "source": [
    "qstate0.pop()"
   ]
  },
  {
   "cell_type": "code",
   "execution_count": 4,
   "metadata": {
    "collapsed": false
   },
   "outputs": [],
   "source": [
    "def simulate(state, t, nbodies, bodies, joints, BC1, BC2):\n",
    "    \"\"\"\n",
    "    \n",
    "    \"\"\" \n",
    "    q = state[:nbodies]\n",
    "    u = state[nbodies:]\n",
    "    \n",
    "    # update state depedent quantities (all quantities for GEBF so just re-initialize)\n",
    "    bodiesGEBF = [MB.GEBF_Element(E, I, r, rho, l, q)  for q in q0GEBF]     \n",
    "\n",
    "    # DCA returns the eddot vector\n",
    "    sol = dca_recursive(nbodies,0,bodies,joints,BC1,BC2)\n",
    "    \n",
    "    #loop to fill d_dt with the acceleration values\n",
    "    d_dt=np.zeros((2*n))\n",
    "    for j in range(0,n):\n",
    "        if j == 0:\n",
    "            A1=ll.pop(0)\n",
    "            d_dt[j+n]=np.dot(np.transpose(joints[j].P),A1)\n",
    "        else:\n",
    "            A2= ll.pop(0)\n",
    "            A1=ll.pop(0)\n",
    "            d_dt[j+n]=np.dot(np.transpose(joints[j].P),(A1-A2))\n",
    "    \n",
    "    #add the velocities to d_dt and return to the integrator\n",
    "    d_dt[:n]=state[n:]\n",
    "    return d_dt "
   ]
  },
  {
   "cell_type": "markdown",
   "metadata": {},
   "source": [
    "### System Variables"
   ]
  },
  {
   "cell_type": "code",
   "execution_count": 5,
   "metadata": {
    "collapsed": false
   },
   "outputs": [],
   "source": [
    "# number of bodies and GEBF elements and kinematic joints\n",
    "nGEBF = 4\n",
    "nRIGID = 0\n",
    "nbodies = nGEBF + nRIGID\n",
    "\n",
    "# number of degrees of freedom for the \n",
    "# 2D-GEBF element with a single planar rotation and two planar displacements (2 nodes)\n",
    "ndofsGEBF = 3\n",
    "ndofsKIN  = 1 # (one pin joint)"
   ]
  },
  {
   "cell_type": "markdown",
   "metadata": {},
   "source": [
    "### Initial Conditions"
   ]
  },
  {
   "cell_type": "code",
   "execution_count": 6,
   "metadata": {
    "collapsed": false
   },
   "outputs": [],
   "source": [
    "# start the rope from the horizontal \n",
    "# Compute initial generalized coordinates\n",
    "# q = [theta1, u_1x, u_1y, theta2, u_2x','u_2y']\n",
    "# u = q_dot\n",
    "# state = [q, u]\n",
    "q0GEBF = [[0.0 for i in range(ndofsGEBF)] for i in range(nGEBF)]\n",
    "u0GEBF = [[0.0 for i in range(ndofsGEBF)] for i in range(nGEBF)]\n",
    "\n",
    "q0KIN =  [[np.pi/2]] + [[0.0 for i in range(ndofsKIN)] for i in range(nJKIN-1)]\n",
    "u0KIN =  [[0.0 for i in range(ndofsKIN)] for i in range(nJKIN)]\n",
    "\n",
    "q0 = np.array([q for pos in q0KIN+q0GEBF for q in pos]).squeeze()\n",
    "u0 = np.array([q for pos in u0KIN+u0GEBF for q in pos]).squeeze()\n",
    "state0 = np.hstack((q0,u0))\n",
    "# print(state0)"
   ]
  },
  {
   "cell_type": "markdown",
   "metadata": {},
   "source": [
    "### Initilize the joints and bodies of the system \n",
    "12 GEBF bodies hooked to the ground by one kinematic joint"
   ]
  },
  {
   "cell_type": "code",
   "execution_count": 7,
   "metadata": {
    "collapsed": false
   },
   "outputs": [],
   "source": [
    "# Create a list of Joints\n",
    "jointsKIN = [MB.Joint('revolute2D') for i in range(nJKIN)]\n",
    "jointsGEBF = [MB.Joint('gebf') for i in range (nGEBF-1)]\n",
    "joints = jointsKIN + jointsGEBF\n",
    "\n",
    "# GEBF-Properties\n",
    "# Physical Properties\n",
    "A   =  0.0018\n",
    "I   =  1.215e-8\n",
    "L   =  1.2\n",
    "r   =  math.sqrt(A/math.pi)\n",
    "l   =  L/nGEBF\n",
    "\n",
    "# Material Properties\n",
    "E   =  0.7e6\n",
    "rho =  5540\n",
    "\n",
    "bodiesGEBF = [MB.Body() for i in range(nGEBF)]\n",
    "for body in bodiesGEBF:\n",
    "    body.initialize('gebf', E, A, I, r, rho, l)"
   ]
  },
  {
   "cell_type": "code",
   "execution_count": 9,
   "metadata": {
    "collapsed": false
   },
   "outputs": [],
   "source": [
    "# # For systems with bodies of different type:\n",
    "# #   bodies are numbered from left to right\n",
    "\n",
    "# # initialize(bodies, y, n) (rigid bodies)\n",
    "\n",
    "# # Material Properties\n",
    "# E   =  0.7e6\n",
    "# rho =  5540\n",
    "\n",
    "# # update state depedent quantities (all quantities for GEBF so just re-initialize)\n",
    "# bodiesGEBF = [MB.GEBF_Element2D(E, A, I, r, rho, l, q)  for q in q0GEBF]\n",
    "# bodies = bodiesGEBF\n",
    "\n",
    "# # # DCA returns the eddot vector\n",
    "# # sol = dca_recursive.solve(nbodies,0,bodies,joints,2,1)\n",
    "\n",
    "# # uKIN = np.dot(np.transpose(joints[0].P*sol.pop(0)))\n",
    "# # uGEBF = [sol.pop(0)[2:6].reshape(1,4) for i in range(5)]"
   ]
  },
  {
   "cell_type": "markdown",
   "metadata": {},
   "source": [
    "### Integration"
   ]
  },
  {
   "cell_type": "code",
   "execution_count": null,
   "metadata": {
    "collapsed": false
   },
   "outputs": [],
   "source": [
    "# Length of time of the simulation\n",
    "tspan = np.arange(0,5,.001)\n",
    "# odeint is the numerical integrator used\n",
    "state = odeint(simulate,state0,tspan,(n,0,bodies,joints,2,1))"
   ]
  },
  {
   "cell_type": "code",
   "execution_count": null,
   "metadata": {
    "collapsed": false
   },
   "outputs": [],
   "source": [
    "# Energy Calculation\n",
    "#--------------------\n",
    "#The energy of the system is calculated and plotted\n",
    "\n",
    "energy=MBF.PendEnergy(y,elements)\n",
    "KE=energy[:,0]\n",
    "PE=energy[:,1]\n",
    "TE=energy[:,2]\n",
    "\n",
    "plt.plot(t,TE-TE[0])\n",
    "plt.xlabel(\"Time [s]\")\n",
    "plt.ylabel(\"energy\")\n",
    "plt.title(\"System Energy\")\n",
    "plt.show()\n",
    "\n",
    "plt.plot(t,PE,Time,KE)\n",
    "plt.xlabel(\"Time[s]\")\n",
    "plt.ylabel(\"energy\")\n",
    "plt.title(\"Kinetic and Potential Energy\")\n",
    "plt.show"
   ]
  },
  {
   "cell_type": "code",
   "execution_count": null,
   "metadata": {
    "collapsed": false
   },
   "outputs": [],
   "source": [
    "# Solution Plot\n",
    "#--------------------\n",
    "plt.plot(Time,yy[:,:n])\n",
    "plt.xlabel(\"Time [s]\")\n",
    "plt.ylabel(\"Generalized Coordinates [Rad]\")\n",
    "plt.title(\"System Response\")\n",
    "\n",
    "plt.show()\n",
    "\n",
    "plt.plot(Time,yy[:,n:])\n",
    "plt.xlabel((\"Time[s]\"))\n",
    "plt.ylabel((\"Generalized Speeds [Rad/s]\"))\n",
    "plt.title(\"System Response\")\n",
    "\n",
    "plt.show()"
   ]
  },
  {
   "cell_type": "code",
   "execution_count": null,
   "metadata": {
    "collapsed": false
   },
   "outputs": [],
   "source": [
    "25%2"
   ]
  },
  {
   "cell_type": "code",
   "execution_count": null,
   "metadata": {
    "collapsed": false
   },
   "outputs": [],
   "source": [
    "import math\n",
    "print(math.trunc(40/2))\n",
    "print(40//2)"
   ]
  },
  {
   "cell_type": "code",
   "execution_count": null,
   "metadata": {
    "collapsed": false
   },
   "outputs": [],
   "source": [
    "test = [np.linspace(1,4,4).reshape(4,1) for i in range(5)]"
   ]
  },
  {
   "cell_type": "code",
   "execution_count": null,
   "metadata": {
    "collapsed": false
   },
   "outputs": [],
   "source": [
    "test"
   ]
  },
  {
   "cell_type": "code",
   "execution_count": null,
   "metadata": {
    "collapsed": false
   },
   "outputs": [],
   "source": [
    "[test.pop(0)[2:5].reshape(1,2) for i in range(5)]"
   ]
  },
  {
   "cell_type": "code",
   "execution_count": null,
   "metadata": {
    "collapsed": true
   },
   "outputs": [],
   "source": [
    "l = 1\n",
    "r = np.array([l/2,0,0])"
   ]
  },
  {
   "cell_type": "code",
   "execution_count": null,
   "metadata": {
    "collapsed": false
   },
   "outputs": [],
   "source": [
    "np.hstack(([1,0,0],np.vstack(([r[1], r[0]],np.eye(2)))))"
   ]
  },
  {
   "cell_type": "code",
   "execution_count": null,
   "metadata": {
    "collapsed": false
   },
   "outputs": [],
   "source": [
    "np.array([r[1], r[0]])"
   ]
  },
  {
   "cell_type": "code",
   "execution_count": null,
   "metadata": {
    "collapsed": false
   },
   "outputs": [],
   "source": [
    "np.hstack((np.array([[1],[0],[0]]),np.vstack(([r[1], r[0]],np.eye(2)))))"
   ]
  },
  {
   "cell_type": "code",
   "execution_count": null,
   "metadata": {
    "collapsed": true
   },
   "outputs": [],
   "source": [
    "I  =500\n",
    "m = 23"
   ]
  },
  {
   "cell_type": "code",
   "execution_count": null,
   "metadata": {
    "collapsed": false
   },
   "outputs": [],
   "source": [
    "np.hstack(((np.array([[I],[0],[0]]),np.vstack((np.zeros((1,2)),m*np.eye(2))))))"
   ]
  },
  {
   "cell_type": "code",
   "execution_count": null,
   "metadata": {
    "collapsed": true
   },
   "outputs": [],
   "source": []
  }
 ],
 "metadata": {
  "kernelspec": {
   "display_name": "Python 3",
   "language": "python",
   "name": "python3"
  },
  "language_info": {
   "codemirror_mode": {
    "name": "ipython",
    "version": 3
   },
   "file_extension": ".py",
   "mimetype": "text/x-python",
   "name": "python",
   "nbconvert_exporter": "python",
   "pygments_lexer": "ipython3",
   "version": "3.4.3"
  }
 },
 "nbformat": 4,
 "nbformat_minor": 0
}

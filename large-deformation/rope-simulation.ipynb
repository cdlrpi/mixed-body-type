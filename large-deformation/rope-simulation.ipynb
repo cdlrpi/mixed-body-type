{
 "cells": [
  {
   "cell_type": "code",
   "execution_count": 1,
   "metadata": {
    "collapsed": true
   },
   "outputs": [],
   "source": [
    "import math\n",
    "import time\n",
    "import numpy as np\n",
    "import scipy as sc\n",
    "import matplotlib.pyplot as plt\n",
    "from scipy.integrate import odeint\n",
    "import matplotlib.animation as animation\n",
    "\n",
    "import MBstructs as MB\n",
    "import MultiBodyFuncts as MBF\n",
    "import DCA\n",
    "\n",
    "np.set_printoptions(precision=4,suppress=True)"
   ]
  },
  {
   "cell_type": "markdown",
   "metadata": {},
   "source": [
    "#### Kinematic Sweep"
   ]
  },
  {
   "cell_type": "code",
   "execution_count": 2,
   "metadata": {
    "collapsed": true
   },
   "outputs": [],
   "source": [
    "# Kinematic sweep is trivial for planar n-link pendulum \n",
    "# def kinematics(bodies,q,u):\n",
    "#     for body,theta,omega in zip(bodies,np.cumsum(q),np.cumsum(u)):\n",
    "#         print(theta)\n",
    "#         body.omega = omega\n",
    "#         print(omega)\n",
    "#         body.CBN = MBF.DCM(theta)\n",
    "#         print(body.CBN)\n",
    "def kinematics(bodies,state):\n",
    "    \n",
    "    # slice state into 'qs' for each element \n",
    "    qe = state[:len(state0)/2:3]\n",
    "    theta = np.cumsum(qe)\n",
    "    \n",
    "    # slice into the two rotational coordinates for each body\n",
    "    theta1 = theta[0::2]\n",
    "    theta2 = theta[1::2]\n",
    "    for body,q0,q3 in zip(bodies,theta1, theta2):\n",
    "        body.theta1 = q0\n",
    "        body.theta2 = q3"
   ]
  },
  {
   "cell_type": "markdown",
   "metadata": {},
   "source": [
    "#### Used for Plotting"
   ]
  },
  {
   "cell_type": "code",
   "execution_count": 3,
   "metadata": {
    "collapsed": false
   },
   "outputs": [],
   "source": [
    "def get_system_topology(state):\n",
    "    ntsteps,nbodies = np.shape(state)\n",
    "    q = state[:,:nbodies/2]\n",
    "    theta = np.cumsum(q,1)\n",
    "    C = [[np.array([[np.cos(angle),-np.sin(angle)],\\\n",
    "                    [np.sin(angle), np.cos(angle)]]) \n",
    "      for angle in tstep] for tstep in theta]\n",
    "    R = [[np.dot(CBN,np.array([l,0])) for CBN in timestep] \\\n",
    "                                      for timestep in C]\n",
    "    R = [np.cumsum(r,0) for r in R]\n",
    "    \n",
    "    x = [np.hstack((np.array([0]),r[:,0])) for r in R]\n",
    "    y = [np.hstack((np.array([0]),r[:,1])) for r in R]\n",
    "    \n",
    "    return x,y\n",
    "\n",
    "def sys_update(x, y, line):\n",
    "    line.set_data(x, y)\n",
    "    return line,"
   ]
  },
  {
   "cell_type": "markdown",
   "metadata": {},
   "source": [
    "#### Energy Function for Solution Verification"
   ]
  },
  {
   "cell_type": "code",
   "execution_count": 4,
   "metadata": {
    "collapsed": false
   },
   "outputs": [],
   "source": [
    "def get_energy(bodies,state):\n",
    "    \n",
    "    ntsteps,nbodies = np.shape(state)\n",
    "    q = state[:,:nbodies/2]\n",
    "    u = state[:,nbodies/2:]\n",
    "\n",
    "    theta = np.cumsum(q,1)\n",
    "    omega = np.cumsum(u,1)\n",
    "\n",
    "    C = [[np.array([[np.cos(angle),-np.sin(angle)],\\\n",
    "                    [np.sin(angle), np.cos(angle)]]) for angle in tstep] \n",
    "                                                     for tstep in theta]\n",
    "\n",
    "    ## Potential Energy Calculation ##\n",
    "    # vector location of joints for all bodies\n",
    "    Rh2Body = [[np.dot(CBN,np.array([l,0])) \n",
    "                                      for CBN in timestep] \n",
    "                                      for timestep in C]\n",
    "    Rh2 = [np.cumsum(r,0) for r in Rh2Body]\n",
    "\n",
    "    # vector location of center of mass for all bodies\n",
    "    # from handle two\n",
    "    rcmBody = [[np.dot(CBN,np.array([-l/2,0])) \n",
    "                                        for CBN in timestep]\n",
    "                                        for timestep in C]\n",
    "\n",
    "    # locate the centers of mass w.r.t. origin\n",
    "    rcm = [np.array(Rbody + rbody) for Rbody,rbody in zip(Rh2,rcmBody)]\n",
    "\n",
    "    # slice out c.m. y position\n",
    "    ycm = [y[:,1] for y in rcm]\n",
    "\n",
    "    # compute heights of centers of mass\n",
    "    hcmRel = [body.l/2 for body in bodies]\n",
    "    lcm = np.cumsum([body.l for body in bodies])\n",
    "    lcm = lcm.tolist()\n",
    "    lcm.pop(len(bodies)-1)\n",
    "    lcm.insert(0,0)\n",
    "    lcm = np.array(lcm)\n",
    "    hcm = [lcm+hcmRel+y for y in ycm]\n",
    "\n",
    "    pe = np.sum([[9.81*body.m*h \n",
    "                for bodies,h in zip(bodies,timestep)]\n",
    "                for timestep in hcm],1)\n",
    "\n",
    "    ## Kinetic Energy Calculation ##\n",
    "    vh2Body = np.cumsum([[qdot*np.array([-R[1],R[0]]) \n",
    "                for qdot,R in zip(timestep,R)] \n",
    "                for timestep,R in zip(omega,Rh2Body)],1)\n",
    "\n",
    "    vcmBody = [[qdot*np.array([-r[1],r[0]]) \n",
    "                for qdot,r in zip(tstep,r_tstep)] \n",
    "                for tstep,r_tstep in zip(omega,rcmBody)]\n",
    "\n",
    "    vcm = vcmBody+vh2Body\n",
    "\n",
    "    keT = np.sum([[1/2*body.m*np.dot(v,v) \n",
    "                   for body,v in zip(bodies,timestep)] \n",
    "                   for timestep in vcm],1)\n",
    "\n",
    "    keR = np.sum([[1/2*body.I*qdot**2 \n",
    "                for body,qdot in zip(bodies,timestep)]\n",
    "                for timestep in omega],1)\n",
    "    ke = keT + keR\n",
    "    te = ke+pe\n",
    "    return ke,pe,te"
   ]
  },
  {
   "cell_type": "markdown",
   "metadata": {},
   "source": [
    "#### Function that calls kinematics, updates bodies inertial properties and calls DCA"
   ]
  },
  {
   "cell_type": "code",
   "execution_count": 5,
   "metadata": {
    "collapsed": true
   },
   "outputs": [],
   "source": [
    "def simulate(state,tspan,n,bodies,joints,BC1,BC2):\n",
    "    '''\n",
    "    his function extracts the generalized coordinates from the solution \n",
    "    of the equations of motion after calling the DCA to solve the equations of motion \n",
    "    '''\n",
    "    q = state[:n]\n",
    "    u = state[n:]\n",
    "    # Get the Kinematics 2D n-link Pendulum\n",
    "    kinematics(bodies,state)    \n",
    "    \n",
    "    # slice out generalized cooridnates\n",
    "    # and make a sublist for each body\n",
    "    u = state[:len(state)/2].tolist()\n",
    "    u = [u[i*6:(i*6)+6] for i in range((int(len(u)/6)))]\n",
    "\n",
    "    # 'pop' off the rotational coordinates \n",
    "    # those are dealt with through the 'kinematic' sweep\n",
    "    for ue in u:\n",
    "        ue.pop(3)\n",
    "        ue.pop(0)\n",
    "        \n",
    "    # compute the inverse inertial properties of the body \n",
    "    # with the updated generalized \n",
    "    for body,ue in zip(bodies,u):\n",
    "        body.intProps('gebf',ue)\n",
    "    \n",
    "    # DCA returns the eddot vector\n",
    "    sol = DCA.solve(nbodies,0,bodies,joints,BC1,BC2)\n",
    "    \n",
    "    qddot = np.array([qddot for qddot_body in sol for qddot in qddot_body],dtype=np.double).reshape(nGEBF*6)\n",
    "    state_dot = np.hstack((state[len(state)/2:],qddot))\n",
    "    return state_dot \n",
    "    \n",
    "    #Call the Recursive DCA Algorithm\n",
    "    #This returns a list of the form:\n",
    "    #[A11,A12,A21,A22,...,An1,An2]\n",
    "    #where Axy corresponds to the acceleration\n",
    "    #of the yth handle of the xth body\n",
    "#     ll=DCA.openR(n,0,bodies,joints,BC1,BC2)\n",
    "\n",
    "#     #loop to fill d_dt with the acceleration values\n",
    "#     d_dt=np.zeros((2*n))\n",
    "#     for j in range(0,n):\n",
    "#         if j == 0:\n",
    "#             A1=ll.pop(0)\n",
    "#             d_dt[j+n]=np.dot(np.transpose(joints[j].P),A1)\n",
    "#         else:\n",
    "#             A2= ll.pop(0)\n",
    "#             A1=ll.pop(0)\n",
    "#             d_dt[j+n]=np.dot(np.transpose(joints[j].P),(A1-A2))\n",
    "    \n",
    "#     #add the velocities to d_dt and return to the integrator\n",
    "#     d_dt[:n]=state[n:]\n",
    "#     return d_dt "
   ]
  },
  {
   "cell_type": "markdown",
   "metadata": {},
   "source": [
    "#### System Initilization"
   ]
  },
  {
   "cell_type": "code",
   "execution_count": 6,
   "metadata": {
    "collapsed": false
   },
   "outputs": [],
   "source": [
    "# number of bodies and GEBF elements and kinematic joints\n",
    "nGEBF = 2\n",
    "nRIGID = 0\n",
    "nJKIN = 1\n",
    "nbodies = nGEBF + nRIGID\n",
    "\n",
    "# number of degrees of freedom for the \n",
    "# 2D-GEBF element with a single planar rotation \n",
    "# and two planar displacements (2 nodes per element)\n",
    "ndofsGEBF = 6\n",
    "ndofsKIN  = 1 # (one pin joint)\n",
    "\n",
    "# GEBF-Properties\n",
    "# Physical Properties\n",
    "A   =  0.0018\n",
    "I   =  1.215e-8\n",
    "L   =  1.2\n",
    "r   =  math.sqrt(A/math.pi)\n",
    "l   =  L/nGEBF\n",
    "\n",
    "# Material Properties\n",
    "E   =  0.7e6\n",
    "rho =  5540\n",
    "\n",
    "\n",
    "\n",
    "# Create a list of Joints\n",
    "jointsKIN = [MB.Joint('revolute2D') for i in range(nJKIN)]\n",
    "jointsGEBF = [MB.Joint('gebf') for i in range (nGEBF-1)]\n",
    "joints = jointsKIN + jointsGEBF\n",
    "\n",
    "# Create a the list of bodies \n",
    "bodiesGEBF = [MB.Body() for i in range(nGEBF)]\n",
    "for body in bodiesGEBF:\n",
    "    body.initialize('gebf', E, A, I, r, rho, l)\n",
    "bodies = bodiesGEBF\n",
    "\n",
    "# for body in bodiesRIGID:\n",
    "#     body.initialize(m,l,I)\n",
    "# bodies = bodiesRIGID"
   ]
  },
  {
   "cell_type": "markdown",
   "metadata": {},
   "source": [
    "#### Simulation Specifications"
   ]
  },
  {
   "cell_type": "code",
   "execution_count": 7,
   "metadata": {
    "collapsed": true
   },
   "outputs": [],
   "source": [
    "# start the rope from the horizontal \n",
    "# Compute initial generalized coordinates\n",
    "# q = [theta1, u_1x, u_1y, theta2, u_2x','u_2y']\n",
    "# u = q_dot\n",
    "# state = [q, u]\n",
    "\n",
    "# sublists handy for initilization of bodies \n",
    "q0GEBF = [[0 for i in range(ndofsGEBF)] for i in range(nGEBF)]\n",
    "u0GEBF = [[0 for i in range(ndofsGEBF)] for i in range(nGEBF)]\n",
    "\n",
    "# flatten sub-lists into a single state vector\n",
    "q0 = np.array([q for q_body in q0GEBF for q in q_body],dtype=np.double).squeeze()\n",
    "u0 = np.array([u for u_body in u0GEBF for u in u_body],dtype=np.double).squeeze()\n",
    "state0 = np.hstack((q0,u0))\n",
    "\n",
    "# Length of time of the simulation\n",
    "tspan = np.arange(0,.0002,.0001)"
   ]
  },
  {
   "cell_type": "markdown",
   "metadata": {},
   "source": [
    "#### Simulate it"
   ]
  },
  {
   "cell_type": "code",
   "execution_count": 8,
   "metadata": {
    "collapsed": false
   },
   "outputs": [],
   "source": [
    "# odeint is the numerical integrator used\n",
    "state = odeint(simulate,state0,tspan,(nbodies,bodies,joints,2,1))"
   ]
  },
  {
   "cell_type": "code",
   "execution_count": 9,
   "metadata": {
    "collapsed": true
   },
   "outputs": [],
   "source": [
    "# x,y = get_system_topology(state)"
   ]
  },
  {
   "cell_type": "code",
   "execution_count": 10,
   "metadata": {
    "collapsed": false
   },
   "outputs": [],
   "source": [
    "# # First set up the figure, the axis, and the plot element we want to animate\n",
    "# fig = plt.figure()\n",
    "# ax = plt.axes(xlim=(-3, 3), ylim=(-3, 3))\n",
    "# line, = ax.plot([], [], lw=2)\n",
    "\n",
    "# # initialization function: plot the background of each frame\n",
    "# def init():\n",
    "#     line.set_data([], [])\n",
    "#     return line,\n",
    "\n",
    "# # animation function.  This is called sequentially\n",
    "# def animate(i):\n",
    "#     line.set_data(x[i], y[i])\n",
    "#     return line,\n",
    "\n",
    "# # call the animator.  blit=True means only re-draw the parts that have changed.\n",
    "# anim = animation.FuncAnimation(fig, animate, init_func=init,\n",
    "#                                frames=len(x), repeat=False, interval=1, blit=False)\n",
    "\n",
    "# # save the animation as an mp4.  This requires ffmpeg or mencoder to be\n",
    "# # installed.  The extra_args ensure that the x264 codec is used, so that\n",
    "# # the video can be embedded in html5.  You may need to adjust this for\n",
    "# # your system: for more information, see\n",
    "# # http://matplotlib.sourceforge.net/api/animation_api.html\n",
    "# # anim.save('basic_animation.mp4', fps=30, extra_args=['-vcodec', 'libx264'])\n",
    "\n",
    "# plt.show()"
   ]
  },
  {
   "cell_type": "code",
   "execution_count": 11,
   "metadata": {
    "collapsed": false
   },
   "outputs": [],
   "source": [
    "# ke,pe,te = get_energy(bodies,state)"
   ]
  },
  {
   "cell_type": "code",
   "execution_count": 12,
   "metadata": {
    "collapsed": false
   },
   "outputs": [],
   "source": [
    "# # The energy of the system is calculated and plotted\n",
    "# %matplotlib inline\n",
    "# plt.plot(tspan,te-te[0])\n",
    "# plt.xlabel(\"Time [s]\")\n",
    "# plt.ylabel(\"energy\")\n",
    "# plt.title(\"System Energy\")\n",
    "# plt.show()\n",
    "\n",
    "# plt.plot(tspan,pe,tspan,ke)\n",
    "# plt.xlabel(\"Time[s]\")\n",
    "# plt.ylabel(\"energy\")\n",
    "# plt.title(\"Kinetic and Potential Energy\")\n",
    "# plt.show"
   ]
  },
  {
   "cell_type": "code",
   "execution_count": 13,
   "metadata": {
    "collapsed": false
   },
   "outputs": [
    {
     "name": "stdout",
     "output_type": "stream",
     "text": [
      "[ 0.  0.  0.  0.  0.  0.  0.  0.  0.  0.  0.  0.  0.  0.  0.  0.  0.  0.\n",
      "  0.  0.  0.  0.  0.  0.]\n",
      "[-0.      0.      0.      0.0002 -0.      0.      0.0002 -0.      0.\n",
      "  0.0001 -0.      0.     -0.7071  0.      0.      3.1512 -0.0659  0.0661\n",
      "  3.1512 -0.0659  0.0661  1.0759 -0.0304  0.0305]\n"
     ]
    }
   ],
   "source": [
    "for y in state:\n",
    "    print(y)"
   ]
  },
  {
   "cell_type": "code",
   "execution_count": null,
   "metadata": {
    "collapsed": true
   },
   "outputs": [],
   "source": []
  }
 ],
 "metadata": {
  "kernelspec": {
   "display_name": "Python 3",
   "language": "python",
   "name": "python3"
  },
  "language_info": {
   "codemirror_mode": {
    "name": "ipython",
    "version": 3
   },
   "file_extension": ".py",
   "mimetype": "text/x-python",
   "name": "python",
   "nbconvert_exporter": "python",
   "pygments_lexer": "ipython3",
   "version": "3.4.3"
  }
 },
 "nbformat": 4,
 "nbformat_minor": 0
}

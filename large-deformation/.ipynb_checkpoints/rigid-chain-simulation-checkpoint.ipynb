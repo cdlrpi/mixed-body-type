{
 "cells": [
  {
   "cell_type": "code",
   "execution_count": 1,
   "metadata": {
    "collapsed": false
   },
   "outputs": [],
   "source": [
    "import pdb as pdb \n",
    "import math\n",
    "import time\n",
    "import numpy as np\n",
    "import scipy as sc\n",
    "from scipy.integrate import odeint\n",
    "\n",
    "import matplotlib.pyplot as plt\n",
    "import matplotlib.animation as animation\n",
    "\n",
    "import MBstructs as MBS\n",
    "import MBfuncts as MBF\n",
    "import DCA\n",
    "\n",
    "from IPython.display import display\n",
    "from __future__ import division\n",
    "from sympy.interactive import printing\n",
    "printing.init_printing(use_latex='mathjax')\n",
    "np.set_printoptions(precision=4,suppress=True)"
   ]
  },
  {
   "cell_type": "code",
   "execution_count": 2,
   "metadata": {
    "collapsed": true
   },
   "outputs": [],
   "source": [
    "def simulate(state,tspan,nbodies,bodiesGEBF,bodiesRigid,joints,BC1,BC2):\n",
    "    '''\n",
    "    his function extracts the generalized coordinates from the solution \n",
    "    of the equations of motion after calling the DCA to solve the equations of motion \n",
    "    '''\n",
    "    # only pin joints connecting rigid bodies\n",
    "    q = state[:nRIGID*ndofsRigid + nGEBF*ndofsGEBF]\n",
    "    u = state[nRIGID*ndofsRigid + nGEBF*ndofsGEBF:]\n",
    "    \n",
    "    # slice out rigid generalized coordinates and speeds from GEBF\n",
    "    qRigid = q[:nRIGID*ndofsRigid]\n",
    "    uRigid = u[:nRIGID*ndofsRigid]\n",
    "    qGEBF =  q[nRIGID*ndofsRigid:]\n",
    "    uGEBF =  u[nRIGID*ndofsRigid:]\n",
    "    \n",
    "    # Get the Kinematics 2D n-link Pendulum\n",
    "    MBF.kinematics_Rigid2D(bodiesRigid,qRigid,uRigid)  \n",
    "    MBF.kinematics_GEBF2D(bodiesGEBF,qGEBF,uGEBF)\n",
    "    \n",
    "    # slice out generalized cooridnates\n",
    "    # and make a sublist for each body\n",
    "    # these u's are not generalized speeds these are the displacements of the nodes\n",
    "    u = qGEBF.tolist()\n",
    "    u = [u[i*ndofsGEBF:(i*ndofsGEBF)+ndofsGEBF] for i in range((int(len(u)/ndofsGEBF)))]\n",
    "\n",
    "    # 'pop' off the rotational coordinates \n",
    "    # those are dealt with through the 'kinematic' sweep\n",
    "    for ue in u:\n",
    "        ue.pop(3)\n",
    "        ue.pop(0)\n",
    "        \n",
    "    # compute the inverse inertial properties of the body \n",
    "    # with the updated generalized \n",
    "    for body,ue in zip(bodiesGEBF,u):\n",
    "        body.intProps('gebf',ue)\n",
    "\n",
    "    for body in bodiesRigid:\n",
    "        body.intProps('rigid')\n",
    "\n",
    "    # join the lists of bodies for a total list \n",
    "    # order matters\n",
    "    bodies = bodiesRigid + bodiesGEBF\n",
    "    \n",
    "    # Call the Recursive DCA Algorithm\n",
    "    # This returns a list of the form:\n",
    "    # [A11,A12,A21,A22,...,An1,An2]\n",
    "    # where Axy corresponds to the acceleration\n",
    "    # of the yth handle of the xth body\n",
    "    accel = DCA.solve(nbodies,0,bodies,joints,BC1,BC2)\n",
    "    \n",
    "    # compute the generalized accelerations for rigid bodies\n",
    "    udot = MBF.get_gen_accel_Rigid(nbodies, joints, accel)\n",
    "    state_dot = np.hstack((state[nbodies:],udot))\n",
    "    \n",
    "    return state_dot"
   ]
  },
  {
   "cell_type": "code",
   "execution_count": 3,
   "metadata": {
    "collapsed": false
   },
   "outputs": [],
   "source": [
    "# number of bodies and GEBF elements and kinematic joints\n",
    "# *** NOTE: For testing pupposes DCA does NOT effectively work for one body\n",
    "#          - For one body DCA returns [A1 F1c A2 F2c]\n",
    "#          - For two or more bodies DCA returns [A1 A2] ***\n",
    "nGEBF = 0\n",
    "nRIGID = 4\n",
    "\n",
    "nbodies = nGEBF + nRIGID\n",
    "\n",
    "nJKIN = 4\n",
    "ndofsGEBF = 6\n",
    "ndofsRigid  = 1 # (one pin joint)\n",
    "\n",
    "# GEBF-Properties\n",
    "# Physical Properties\n",
    "A   =  0.0018\n",
    "I   =  1.215e-8\n",
    "L   =  1.2\n",
    "r   =  math.sqrt(A/math.pi)\n",
    "l   =  0.12\n",
    "\n",
    "# Material Properties\n",
    "E   =  0.7e6\n",
    "rho =  5540\n",
    "\n",
    "# Create a list of Joints\n",
    "jointsKIN = [MBS.Joint('revolute2D') for i in range(nJKIN-1)]\n",
    "jointsGEBF = [MBS.Joint('fixed') for i in range (1)]\n",
    "joints = jointsKIN + jointsGEBF\n",
    "\n",
    "# Create a the list of bodies \n",
    "bodiesGEBF = [MBS.Body() for i in range(nGEBF)]\n",
    "bodiesRigid = [MBS.Body() for i in range(nRIGID)]\n",
    "for body in bodiesGEBF:\n",
    "    body.initialize('gebf', E, A, I, r, rho, l)\n",
    "for body in bodiesRigid:\n",
    "    body.initialize('rigid', 1.0,1.0,0.12)"
   ]
  },
  {
   "cell_type": "code",
   "execution_count": 4,
   "metadata": {
    "collapsed": true
   },
   "outputs": [],
   "source": [
    "# start the rope from the horizontal qi = 0 for ALL i\n",
    "\n",
    "# sublists handy for initilization of bodies \n",
    "q0GEBF = [[0 for i in range(ndofsGEBF)] for i in range(nGEBF)]\n",
    "u0GEBF = [[0 for i in range(ndofsGEBF)] for i in range(nGEBF)]\n",
    "\n",
    "# All rigid bodies are connected by pin joints\n",
    "q0Rigid = [[0 for i in range(ndofsRigid)] for i in range(nRIGID)]\n",
    "u0Rigid = [[0 for i in range(ndofsRigid)] for i in range(nRIGID)]\n",
    "q0Rigid[0][0] = -np.pi/2\n",
    "u0Rigid[0][0] = -0.1\n",
    "\n",
    "q0 = q0Rigid + q0GEBF\n",
    "u0 = u0Rigid + u0GEBF\n",
    "\n",
    "# flatten sub-lists into a single state vector\n",
    "q0 = np.array([q for q_body in q0 for q in q_body],dtype=np.double).squeeze()\n",
    "u0 = np.array([u for u_body in u0 for u in u_body],dtype=np.double).squeeze()\n",
    "\n",
    "state0 = np.hstack((q0,u0))\n",
    "\n",
    "# Length of time of the simulation\n",
    "dt = .01\n",
    "t_final = 5\n",
    "tspan = np.arange(0,t_final,dt)"
   ]
  },
  {
   "cell_type": "code",
   "execution_count": 5,
   "metadata": {
    "collapsed": false
   },
   "outputs": [
    {
     "ename": "ValueError",
     "evalue": "shapes (3,3) and (2,) not aligned: 3 (dim 1) != 2 (dim 0)",
     "output_type": "error",
     "traceback": [
      "\u001b[0;31m---------------------------------------------------------------------------\u001b[0m",
      "\u001b[0;31mValueError\u001b[0m                                Traceback (most recent call last)",
      "\u001b[0;32m<ipython-input-5-90797b6afa10>\u001b[0m in \u001b[0;36m<module>\u001b[0;34m()\u001b[0m\n\u001b[1;32m      1\u001b[0m \u001b[0;31m# odeint is the numerical integrator used\u001b[0m\u001b[0;34m\u001b[0m\u001b[0;34m\u001b[0m\u001b[0m\n\u001b[0;32m----> 2\u001b[0;31m \u001b[0mstate\u001b[0m \u001b[0;34m=\u001b[0m \u001b[0modeint\u001b[0m\u001b[0;34m(\u001b[0m\u001b[0msimulate\u001b[0m\u001b[0;34m,\u001b[0m\u001b[0mstate0\u001b[0m\u001b[0;34m,\u001b[0m\u001b[0mtspan\u001b[0m\u001b[0;34m,\u001b[0m\u001b[0;34m(\u001b[0m\u001b[0mnbodies\u001b[0m\u001b[0;34m,\u001b[0m\u001b[0mbodiesGEBF\u001b[0m\u001b[0;34m,\u001b[0m\u001b[0mbodiesRigid\u001b[0m\u001b[0;34m,\u001b[0m\u001b[0mjoints\u001b[0m\u001b[0;34m,\u001b[0m\u001b[0;36m2\u001b[0m\u001b[0;34m,\u001b[0m\u001b[0;36m1\u001b[0m\u001b[0;34m)\u001b[0m\u001b[0;34m)\u001b[0m\u001b[0;34m\u001b[0m\u001b[0m\n\u001b[0m",
      "\u001b[0;32m/Users/laflij/Software/anaconda/envs/py34/lib/python3.4/site-packages/scipy/integrate/odepack.py\u001b[0m in \u001b[0;36modeint\u001b[0;34m(func, y0, t, args, Dfun, col_deriv, full_output, ml, mu, rtol, atol, tcrit, h0, hmax, hmin, ixpr, mxstep, mxhnil, mxordn, mxords, printmessg)\u001b[0m\n\u001b[1;32m    151\u001b[0m     output = _odepack.odeint(func, y0, t, args, Dfun, col_deriv, ml, mu,\n\u001b[1;32m    152\u001b[0m                              \u001b[0mfull_output\u001b[0m\u001b[0;34m,\u001b[0m \u001b[0mrtol\u001b[0m\u001b[0;34m,\u001b[0m \u001b[0matol\u001b[0m\u001b[0;34m,\u001b[0m \u001b[0mtcrit\u001b[0m\u001b[0;34m,\u001b[0m \u001b[0mh0\u001b[0m\u001b[0;34m,\u001b[0m \u001b[0mhmax\u001b[0m\u001b[0;34m,\u001b[0m \u001b[0mhmin\u001b[0m\u001b[0;34m,\u001b[0m\u001b[0;34m\u001b[0m\u001b[0m\n\u001b[0;32m--> 153\u001b[0;31m                              ixpr, mxstep, mxhnil, mxordn, mxords)\n\u001b[0m\u001b[1;32m    154\u001b[0m     \u001b[0;32mif\u001b[0m \u001b[0moutput\u001b[0m\u001b[0;34m[\u001b[0m\u001b[0;34m-\u001b[0m\u001b[0;36m1\u001b[0m\u001b[0;34m]\u001b[0m \u001b[0;34m<\u001b[0m \u001b[0;36m0\u001b[0m\u001b[0;34m:\u001b[0m\u001b[0;34m\u001b[0m\u001b[0m\n\u001b[1;32m    155\u001b[0m         \u001b[0mwarning_msg\u001b[0m \u001b[0;34m=\u001b[0m \u001b[0m_msgs\u001b[0m\u001b[0;34m[\u001b[0m\u001b[0moutput\u001b[0m\u001b[0;34m[\u001b[0m\u001b[0;34m-\u001b[0m\u001b[0;36m1\u001b[0m\u001b[0;34m]\u001b[0m\u001b[0;34m]\u001b[0m \u001b[0;34m+\u001b[0m \u001b[0;34m\" Run with full_output = 1 to get quantitative information.\"\u001b[0m\u001b[0;34m\u001b[0m\u001b[0m\n",
      "\u001b[0;32m<ipython-input-2-faf476d8afbf>\u001b[0m in \u001b[0;36msimulate\u001b[0;34m(state, tspan, nbodies, bodiesGEBF, bodiesRigid, joints, BC1, BC2)\u001b[0m\n\u001b[1;32m     47\u001b[0m     \u001b[0;31m# where Axy corresponds to the acceleration\u001b[0m\u001b[0;34m\u001b[0m\u001b[0;34m\u001b[0m\u001b[0m\n\u001b[1;32m     48\u001b[0m     \u001b[0;31m# of the yth handle of the xth body\u001b[0m\u001b[0;34m\u001b[0m\u001b[0;34m\u001b[0m\u001b[0m\n\u001b[0;32m---> 49\u001b[0;31m     \u001b[0maccel\u001b[0m \u001b[0;34m=\u001b[0m \u001b[0mDCA\u001b[0m\u001b[0;34m.\u001b[0m\u001b[0msolve\u001b[0m\u001b[0;34m(\u001b[0m\u001b[0mnbodies\u001b[0m\u001b[0;34m,\u001b[0m\u001b[0;36m0\u001b[0m\u001b[0;34m,\u001b[0m\u001b[0mbodies\u001b[0m\u001b[0;34m,\u001b[0m\u001b[0mjoints\u001b[0m\u001b[0;34m,\u001b[0m\u001b[0mBC1\u001b[0m\u001b[0;34m,\u001b[0m\u001b[0mBC2\u001b[0m\u001b[0;34m)\u001b[0m\u001b[0;34m\u001b[0m\u001b[0m\n\u001b[0m\u001b[1;32m     50\u001b[0m \u001b[0;34m\u001b[0m\u001b[0m\n\u001b[1;32m     51\u001b[0m     \u001b[0;31m# compute the generalized accelerations for rigid bodies\u001b[0m\u001b[0;34m\u001b[0m\u001b[0;34m\u001b[0m\u001b[0m\n",
      "\u001b[0;32m/Users/laflij/Research/code/mixed-body-type/large-deformation/DCA.py\u001b[0m in \u001b[0;36msolve\u001b[0;34m(n, i, bodies, joints, BC1, BC2)\u001b[0m\n\u001b[1;32m    102\u001b[0m                 F=-1*(np.dot(joints[j+1].D,np.dot(newbds[j].Xinv,np.dot(joints[j+1].D.T,\\\n\u001b[1;32m    103\u001b[0m                         (np.dot(bodies[2*j].z21,newsol[k+1])-np.dot(bodies[2*j+1].z12,sol[4*j+3])+\\\n\u001b[0;32m--> 104\u001b[0;31m                         bodies[2*j].z23-bodies[2*j+1].z13)))))\n\u001b[0m\u001b[1;32m    105\u001b[0m                 \u001b[0;31m#A2 is the acceleration of handle 2 of body k\u001b[0m\u001b[0;34m\u001b[0m\u001b[0;34m\u001b[0m\u001b[0m\n\u001b[1;32m    106\u001b[0m                 \u001b[0mA2\u001b[0m\u001b[0;34m=\u001b[0m\u001b[0mnp\u001b[0m\u001b[0;34m.\u001b[0m\u001b[0mdot\u001b[0m\u001b[0;34m(\u001b[0m\u001b[0mbodies\u001b[0m\u001b[0;34m[\u001b[0m\u001b[0;36m2\u001b[0m\u001b[0;34m*\u001b[0m\u001b[0mj\u001b[0m\u001b[0;34m]\u001b[0m\u001b[0;34m.\u001b[0m\u001b[0mz21\u001b[0m\u001b[0;34m,\u001b[0m\u001b[0mnewsol\u001b[0m\u001b[0;34m[\u001b[0m\u001b[0mk\u001b[0m\u001b[0;34m+\u001b[0m\u001b[0;36m1\u001b[0m\u001b[0;34m]\u001b[0m\u001b[0;34m)\u001b[0m\u001b[0;34m+\u001b[0m\u001b[0mnp\u001b[0m\u001b[0;34m.\u001b[0m\u001b[0mdot\u001b[0m\u001b[0;34m(\u001b[0m\u001b[0mbodies\u001b[0m\u001b[0;34m[\u001b[0m\u001b[0;36m2\u001b[0m\u001b[0;34m*\u001b[0m\u001b[0mj\u001b[0m\u001b[0;34m]\u001b[0m\u001b[0;34m.\u001b[0m\u001b[0mz22\u001b[0m\u001b[0;34m,\u001b[0m\u001b[0mF\u001b[0m\u001b[0;34m)\u001b[0m\u001b[0;34m+\u001b[0m\u001b[0mbodies\u001b[0m\u001b[0;34m[\u001b[0m\u001b[0;36m2\u001b[0m\u001b[0;34m*\u001b[0m\u001b[0mj\u001b[0m\u001b[0;34m]\u001b[0m\u001b[0;34m.\u001b[0m\u001b[0mz23\u001b[0m\u001b[0;34m\u001b[0m\u001b[0m\n",
      "\u001b[0;31mValueError\u001b[0m: shapes (3,3) and (2,) not aligned: 3 (dim 1) != 2 (dim 0)"
     ]
    }
   ],
   "source": [
    "# odeint is the numerical integrator used\n",
    "state = odeint(simulate,state0,tspan,(nbodies,bodiesGEBF,bodiesRigid,joints,2,1))"
   ]
  },
  {
   "cell_type": "code",
   "execution_count": null,
   "metadata": {
    "collapsed": false
   },
   "outputs": [],
   "source": [
    "ke,pe,te = MBF.get_energy_Rigid(bodiesRigid,state)"
   ]
  },
  {
   "cell_type": "code",
   "execution_count": null,
   "metadata": {
    "collapsed": false
   },
   "outputs": [],
   "source": [
    "q = state[:,:nRIGID*ndofsRigid + nGEBF*ndofsGEBF]\n",
    "u = state[:,nRIGID*ndofsRigid + nGEBF*ndofsGEBF:]\n",
    "\n",
    "# slice out rigid generalized coordinates and speeds from GEBF\n",
    "qRigid = q[:,:nRIGID*ndofsRigid]\n",
    "uRigid = u[:,:nRIGID*ndofsRigid]\n",
    "qGEBF  = q[:,nRIGID*ndofsRigid:]\n",
    "uGEBF  = u[:,nRIGID*ndofsRigid:]\n",
    "\n",
    "x,y = MBF.get_topology_2DRigid(qRigid,0.12)"
   ]
  },
  {
   "cell_type": "code",
   "execution_count": null,
   "metadata": {
    "collapsed": false
   },
   "outputs": [],
   "source": [
    "fig = plt.figure()\n",
    "ax = fig.add_subplot(111, autoscale_on=False, xlim=(-(nbodies+1)*l,(nbodies+1)*l), \n",
    "                                              ylim=(-(nbodies+1)*l,(nbodies+1)*l))\n",
    "ax.grid()\n",
    "\n",
    "line, = ax.plot([], [], 'o-', lw=2)\n",
    "time_template = 'time = %0.2fs'\n",
    "time_text = ax.text(0.05, 0.9, '', transform=ax.transAxes)\n",
    "\n",
    "def init():\n",
    "    line.set_data([], [])\n",
    "    time_text.set_text('')\n",
    "    return line, time_text\n",
    "\n",
    "def animate(i):\n",
    "#     thisx = [0, x[i][1], x[i][2]]\n",
    "#     thisy = [0, y[i][1], y[i][2]]\n",
    "    thisx = x[i]\n",
    "    thisy = y[i]\n",
    "\n",
    "    line.set_data(thisx, thisy)\n",
    "    time_text.set_text(time_template%(i*dt))\n",
    "    return line, time_text\n",
    "\n",
    "ani = animation.FuncAnimation(fig, animate, np.arange(1, len(y)),\n",
    "    interval = 1, blit=False, init_func=init)\n",
    "\n",
    "#ani.save('double_pendulum.mp4', fps=15)\n",
    "plt.show()"
   ]
  },
  {
   "cell_type": "code",
   "execution_count": null,
   "metadata": {
    "collapsed": false
   },
   "outputs": [],
   "source": [
    "# # The energy of the system is calculated and plotted\n",
    "# %matplotlib inline\n",
    "# plt.plot(tspan,te-te[0])\n",
    "# plt.xlabel(\"Time [s]\")\n",
    "# plt.ylabel(\"energy\")\n",
    "# plt.title(\"System Energy\")\n",
    "# plt.show()\n",
    "\n",
    "# plt.plot(tspan,pe,tspan,ke)\n",
    "# plt.xlabel(\"Time[s]\")\n",
    "# plt.ylabel(\"energy\")\n",
    "# plt.title(\"Kinetic and Potential Energy\")\n",
    "# plt.show"
   ]
  },
  {
   "cell_type": "code",
   "execution_count": 6,
   "metadata": {
    "collapsed": true
   },
   "outputs": [],
   "source": [
    "%qtconsole"
   ]
  },
  {
   "cell_type": "code",
   "execution_count": null,
   "metadata": {
    "collapsed": true
   },
   "outputs": [],
   "source": []
  }
 ],
 "metadata": {
  "kernelspec": {
   "display_name": "Python 3",
   "language": "python",
   "name": "python3"
  },
  "language_info": {
   "codemirror_mode": {
    "name": "ipython",
    "version": 3
   },
   "file_extension": ".py",
   "mimetype": "text/x-python",
   "name": "python",
   "nbconvert_exporter": "python",
   "pygments_lexer": "ipython3",
   "version": "3.4.3"
  }
 },
 "nbformat": 4,
 "nbformat_minor": 0
}

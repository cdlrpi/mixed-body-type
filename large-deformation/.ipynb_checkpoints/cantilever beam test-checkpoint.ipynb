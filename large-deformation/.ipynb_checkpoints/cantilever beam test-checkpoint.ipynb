{
 "cells": [
  {
   "cell_type": "markdown",
   "metadata": {},
   "source": [
    "## This notebook simulates a cantilever beam"
   ]
  },
  {
   "cell_type": "code",
   "execution_count": 1,
   "metadata": {
    "collapsed": false
   },
   "outputs": [],
   "source": [
    "import pdb as pdb \n",
    "import math\n",
    "import time\n",
    "import numpy as np\n",
    "import scipy as sc\n",
    "from scipy.integrate import odeint\n",
    "\n",
    "import matplotlib.pyplot as plt\n",
    "import matplotlib.animation as animation\n",
    "\n",
    "import MBstructs as MB\n",
    "import MultiBodyFuncts as MBF\n",
    "import DCA\n",
    "\n",
    "from IPython.display import display\n",
    "from __future__ import division\n",
    "from sympy.interactive import printing\n",
    "printing.init_printing(use_latex='mathjax')\n",
    "np.set_printoptions(precision=4,suppress=True)"
   ]
  },
  {
   "cell_type": "markdown",
   "metadata": {},
   "source": [
    "#### Used for Plotting"
   ]
  },
  {
   "cell_type": "code",
   "execution_count": 2,
   "metadata": {
    "collapsed": false
   },
   "outputs": [],
   "source": [
    "# once these work they should be moved to class functions \n",
    "def get_topology_2DRigid(q):\n",
    "\n",
    "    theta = np.cumsum(q,1)\n",
    "    C = [[np.array([[np.cos(angle),-np.sin(angle)],\\\n",
    "                    [np.sin(angle), np.cos(angle)]]) \n",
    "      for angle in tstep] for tstep in theta]\n",
    "    R = [[np.dot(CBN,np.array([l,0])) for CBN in timestep] \\\n",
    "                                      for timestep in C]\n",
    "    R = [np.cumsum(r,0) for r in R]\n",
    "\n",
    "    x = [np.hstack((np.array([0]),r[:,0])) for r in R]\n",
    "    y = [np.hstack((np.array([0]),r[:,1])) for r in R]\n",
    "\n",
    "    return x,y\n",
    "    \n",
    "def get_topology_2DGEBF(q,r0,nelements,npoints):\n",
    "    \n",
    "    # delete rotational degrees of freedom\n",
    "    # remaining dof's are theta1,x1,y1,theta2,x2,y2 --> x1,y1,x2,y2 \n",
    "    ntsteps, len_q = np.shape(q)\n",
    "    \n",
    "    displacements = np.delete(q,range(0,len_q,3),1)\n",
    "    \n",
    "    # compute position of each node\n",
    "    position = np.vstack((r0,displacements))\n",
    "    position = np.cumsum(position,0)\n",
    "    \n",
    "    position_element = np.array_split(position,nelements,axis=1)\n",
    "    \n",
    "    \n",
    "    # interpolate \n",
    "    x = np.linspace(-1,1,npoints)\n",
    "    h1 = (1/2)*(1 - x)\n",
    "    h2 = (1/2)*(1 + x)\n",
    "\n",
    "    # Compute shape function matrix\n",
    "    H = np.array([np.hstack((h1*np.eye(2), h2*np.eye(2))) \n",
    "                  for h1,h2 in zip(h1,h2)]).reshape(2*npoints,4).T\n",
    "    \n",
    "    # Interpolate the X and Y cooridnates\n",
    "    xy = np.hstack(np.array([np.dot(position_element,H) \n",
    "                             for position_element in position_element]))\n",
    "    \n",
    "    x = np.array_split(xy[:,0::2],ntsteps)\n",
    "    y = np.array_split(xy[:,1::2],ntsteps)\n",
    "    return x,y\n",
    "    \n",
    "def sys_update(x, y, line):\n",
    "    line.set_data(x, y)\n",
    "    return line,"
   ]
  },
  {
   "cell_type": "markdown",
   "metadata": {},
   "source": [
    "#### Energy Function for Solution Verification"
   ]
  },
  {
   "cell_type": "code",
   "execution_count": 3,
   "metadata": {
    "collapsed": true
   },
   "outputs": [],
   "source": [
    "def get_energy_Rigid(bodies,state):\n",
    "    \n",
    "    ntsteps,nbodies = np.shape(state)\n",
    "    q = state[:,:nbodies/2]\n",
    "    u = state[:,nbodies/2:]\n",
    "\n",
    "    theta = np.cumsum(q,1)\n",
    "    omega = np.cumsum(u,1)\n",
    "\n",
    "    C = [[np.array([[np.cos(angle),-np.sin(angle)],\\\n",
    "                    [np.sin(angle), np.cos(angle)]]) for angle in tstep] \n",
    "                                                     for tstep in theta]\n",
    "\n",
    "    ## Potential Energy Calculation ##\n",
    "    # vector location of joints for all bodies\n",
    "    Rh2Body = [[np.dot(CBN,np.array([body.l,0])) \n",
    "                                      for (CBN,body) in zip(timestep,bodies)] \n",
    "                                      for timestep in C]\n",
    "    Rh2 = [np.cumsum(r,0) for r in Rh2Body]\n",
    "\n",
    "    # vector location of center of mass for all bodies\n",
    "    # from handle two\n",
    "    rcmBody = [[np.dot(CBN,np.array([-body.l/2,0])) \n",
    "                                        for (CBN,body) in zip(timestep,bodies)]\n",
    "                                        for timestep in C]\n",
    "\n",
    "    # locate the centers of mass w.r.t. origin\n",
    "    rcm = [np.array(Rbody + rbody) for Rbody,rbody in zip(Rh2,rcmBody)]\n",
    "\n",
    "    # slice out c.m. y position\n",
    "    ycm = [y[:,1] for y in rcm]\n",
    "\n",
    "    # compute heights of centers of mass\n",
    "    hcmRel = [body.l/2 for body in bodies]\n",
    "    lcm = np.cumsum([body.l for body in bodies])\n",
    "    lcm = lcm.tolist()\n",
    "    lcm.pop(len(bodies)-1)\n",
    "    lcm.insert(0,0)\n",
    "    lcm = np.array(lcm)\n",
    "    hcm = [lcm+hcmRel+y for y in ycm]\n",
    "\n",
    "    pe = np.sum([[9.81*body.m*h \n",
    "                for bodies,h in zip(bodies,timestep)]\n",
    "                for timestep in hcm],1)\n",
    "\n",
    "    ## Kinetic Energy Calculation ##\n",
    "    vh2Body = np.cumsum([[qdot*np.array([-R[1],R[0]]) \n",
    "                for qdot,R in zip(timestep,R)] \n",
    "                for timestep,R in zip(omega,Rh2Body)],1)\n",
    "\n",
    "    vcmBody = [[qdot*np.array([-r[1],r[0]]) \n",
    "                for qdot,r in zip(tstep,r_tstep)] \n",
    "                for tstep,r_tstep in zip(omega,rcmBody)]\n",
    "\n",
    "    vcm = vcmBody+vh2Body\n",
    "\n",
    "    keT = np.sum([[1/2*body.m*np.dot(v,v) \n",
    "                   for body,v in zip(bodies,timestep)] \n",
    "                   for timestep in vcm],1)\n",
    "\n",
    "    keR = np.sum([[1/2*body.I*qdot**2 \n",
    "                for body,qdot in zip(bodies,timestep)]\n",
    "                for timestep in omega],1)\n",
    "    ke = keT + keR\n",
    "    te = ke + pe\n",
    "    return ke,pe,te"
   ]
  },
  {
   "cell_type": "markdown",
   "metadata": {},
   "source": [
    "#### Functions to Extract Generalized Accelerations from Spatial Accelerations"
   ]
  },
  {
   "cell_type": "code",
   "execution_count": 4,
   "metadata": {
    "collapsed": true
   },
   "outputs": [],
   "source": [
    "# DCA returns Spatial Accelerations\n",
    "# Therefore, need to extract generalized accelerations\n",
    "def get_gen_accel_Rigid(nbodies, joints, accel):\n",
    "\n",
    "        udot = np.zeros((nbodies))\n",
    "        for j in range(nbodies):\n",
    "            if j == 0:\n",
    "                A1 = accel.pop(0)\n",
    "                udot[j] = np.dot(np.transpose(joints[j].P),A1)\n",
    "            else:\n",
    "                A2 = accel.pop(0)\n",
    "                A1 = accel.pop(0)\n",
    "                udot[j] = np.dot(np.transpose(joints[j].P),(A1-A2))\n",
    "        \n",
    "        #add the velocities to d_dt and return to the integrator\n",
    "        return udot \n",
    "\n",
    "def get_gen_accel_GEBF(nbodies, accel):\n",
    "    state_dot = np.array(accel,dtype=np.double).reshape(nGEBF*ndofsGEBF)\n",
    "    return state_dot "
   ]
  },
  {
   "cell_type": "markdown",
   "metadata": {},
   "source": [
    "#### Function that calls kinematics, updates bodies inertial properties and calls DCA"
   ]
  },
  {
   "cell_type": "code",
   "execution_count": 5,
   "metadata": {
    "collapsed": true
   },
   "outputs": [],
   "source": [
    "def kinematics_Rigid2D(bodies,q,u):\n",
    "    for body,theta,omega in zip(bodies,np.cumsum(q),np.cumsum(u)):\n",
    "        body.omega = omega\n",
    "        body.CBN = MBF.DCM(theta)\n",
    "            \n",
    "def kinematics_GEBF2D(bodies,q,u):\n",
    "    # slice state into 'qs' for each element \n",
    "    thetae = q[::3]\n",
    "    theta = np.cumsum(thetae)\n",
    "\n",
    "    # slice into the two rotational coordinates for each body\n",
    "    theta1 = theta[0::2]\n",
    "    theta2 = theta[1::2]\n",
    "    for body,q0,q3 in zip(bodies, theta1, theta2):\n",
    "        body.theta1 = q0\n",
    "        body.theta2 = q3\n"
   ]
  },
  {
   "cell_type": "code",
   "execution_count": 6,
   "metadata": {
    "collapsed": false
   },
   "outputs": [],
   "source": [
    "def simulate(state,tspan,nbodies,bodiesGEBF,bodiesRigid,joints,BC1,BC2):\n",
    "    '''\n",
    "    This function extracts the generalized coordinates from the solution \n",
    "    of the equations of motion after calling the DCA to solve the equations of motion \n",
    "    '''\n",
    "    # only pin joints connecting rigid bodies\n",
    "    q = state[:nRIGID*ndofsRigid + nGEBF*ndofsGEBF]\n",
    "    u = state[nRIGID*ndofsRigid + nGEBF*ndofsGEBF:]\n",
    "    \n",
    "    # slice out rigid generalized coordinates and speeds from GEBF\n",
    "    qRigid = q[:nRIGID*ndofsRigid]\n",
    "    uRigid = u[:nRIGID*ndofsRigid]\n",
    "    qGEBF  = q[nRIGID*ndofsRigid:]\n",
    "    uGEBF  = u[nRIGID*ndofsRigid:]\n",
    "    \n",
    "    # Update the Kinematics 2D n-link Pendulum\n",
    "    # Now that these functions \"woe\n",
    "    # This should be a class function for each body type not an absolute function\n",
    "    # e.g., [body.updateKin for body in bodies]\n",
    "    kinematics_Rigid2D(bodiesRigid,qRigid,uRigid)  \n",
    "    kinematics_GEBF2D(bodiesGEBF,qGEBF,uGEBF)\n",
    "    \n",
    "    # slice out generalized cooridnates\n",
    "    # and make a sublist for each body\n",
    "    # these u's are not generalized speeds these are the displacements of the nodes\n",
    "    u = qGEBF.tolist()\n",
    "    u = [u[i*ndofsGEBF:(i*ndofsGEBF)+ndofsGEBF] for i in range((int(len(u)/ndofsGEBF)))]\n",
    "\n",
    "    # 'pop' off the rotational coordinates \n",
    "    # those are dealt with through the 'kinematic' sweep\n",
    "    for ue in u:\n",
    "        ue.pop(3)\n",
    "        ue.pop(0)\n",
    "        \n",
    "    # compute the inverse inertial properties of the body \n",
    "    # with the updated generalized speeds\n",
    "    for body,ue in zip(bodiesGEBF,u):\n",
    "        body.intProps('gebf',ue)\n",
    "\n",
    "    for body in bodiesRigid:\n",
    "        body.intProps('rigid')\n",
    "\n",
    "    # join the lists of bodies for a total list \n",
    "    # order matters\n",
    "    bodies = bodiesRigid + bodiesGEBF\n",
    "    \n",
    "    # Call the Recursive DCA Algorithm\n",
    "    # This returns a list of the form:\n",
    "    # [A11,A12,A21,A22,...,An1,An2]\n",
    "    # where Axy corresponds to the acceleration\n",
    "    # of the yth handle of the xth body\n",
    "    accel = DCA.solve(nbodies,0,bodies,joints,BC1,BC2)\n",
    "    \n",
    "    accelRigid = accel[:2*len(bodiesRigid)]\n",
    "    accelGEBF  = accel[2*len(bodiesRigid):]\n",
    "\n",
    "    # compute the generalized accelerations for kinematic joints\n",
    "    udot_Rigid = get_gen_accel_Rigid(len(bodiesRigid), joints, accelRigid)\n",
    "    udot_GEBF  = get_gen_accel_GEBF(len(bodiesGEBF), accelGEBF)\n",
    "    udot = np.hstack((udot_Rigid,udot_GEBF))\n",
    "\n",
    "    state_dot = np.hstack((state[nRIGID*ndofsRigid + nGEBF*ndofsGEBF:],udot))\n",
    "    return state_dot"
   ]
  },
  {
   "cell_type": "markdown",
   "metadata": {},
   "source": [
    "#### System Initilization"
   ]
  },
  {
   "cell_type": "code",
   "execution_count": 7,
   "metadata": {
    "collapsed": false
   },
   "outputs": [],
   "source": [
    "# number of bodies and GEBF elements and kinematic joints\n",
    "# *** NOTE: For testing pupposes DCA does NOT effectively work for one body\n",
    "#          - For one body DCA returns [A1 F1c A2 F2c]\n",
    "#          - For two or more bodies DCA returns [A1 A2] ***\n",
    "nRIGID = 0\n",
    "nGEBF  = 2\n",
    "\n",
    "nbodies = nGEBF + nRIGID\n",
    "\n",
    "nJKIN = 0\n",
    "ndofsGEBF = 6   # (x,y,theta per joint)\n",
    "ndofsRigid  = 1 # (one pin joint)\n",
    "\n",
    "# GEBF-Properties\n",
    "# Physical Properties\n",
    "A   =  0.0018\n",
    "I   =  1.215e-8\n",
    "L   =  1.2\n",
    "r   =  math.sqrt(A/math.pi)\n",
    "l = L/10.0\n",
    "\n",
    "# Material Properties\n",
    "E   =  0.7e6\n",
    "rho =  5540\n",
    "\n",
    "# Create a list of Joints\n",
    "jointsKIN = [MB.Joint('revolute2D') for i in range(nJKIN)]\n",
    "jointsGEBF = [MB.Joint('fixed') for i in range (nGEBF)]\n",
    "joints = jointsKIN + jointsGEBF\n",
    "\n",
    "# Create a the list of bodies \n",
    "bodiesGEBF = [MB.Body() for i in range(nGEBF)]\n",
    "bodiesRigid = [MB.Body() for i in range(nRIGID)]\n",
    "for body in bodiesGEBF:\n",
    "    body.initialize('gebf', E, A, I, r, rho, l)\n",
    "for body in bodiesRigid:\n",
    "    body.initialize('rigid', 1.0,1.0,1/12.0)"
   ]
  },
  {
   "cell_type": "markdown",
   "metadata": {},
   "source": [
    "#### Simulation Specifications"
   ]
  },
  {
   "cell_type": "code",
   "execution_count": 8,
   "metadata": {
    "collapsed": false
   },
   "outputs": [],
   "source": [
    "# start the rope from the horizontal qi = 0 for ALL i\n",
    "\n",
    "# sublists handy for initilization of bodies \n",
    "q0GEBF = [[0 for i in range(ndofsGEBF)] for i in range(nGEBF)]\n",
    "u0GEBF = [[0 for i in range(ndofsGEBF)] for i in range(nGEBF)]\n",
    "\n",
    "# All rigid bodies are connected by pin joints\n",
    "q0Rigid = [[0 for i in range(ndofsRigid)] for i in range(nRIGID)]\n",
    "u0Rigid = [[0 for i in range(ndofsRigid)] for i in range(nRIGID)]\n",
    "\n",
    "q0 = q0Rigid + q0GEBF\n",
    "u0 = u0Rigid + u0GEBF\n",
    "\n",
    "# flatten sub-lists into a single state vector\n",
    "q0 = np.array([q for q_body in q0 for q in q_body],dtype=np.double).squeeze()\n",
    "u0 = np.array([u for u_body in u0 for u in u_body],dtype=np.double).squeeze()\n",
    "\n",
    "state0 = np.hstack((q0,u0))\n",
    "\n",
    "# Length of time of the simulation\n",
    "t = 0.005\n",
    "dt = 0.0001\n",
    "tspan = np.arange(0,t,dt)"
   ]
  },
  {
   "cell_type": "code",
   "execution_count": null,
   "metadata": {
    "collapsed": false
   },
   "outputs": [],
   "source": [
    "q = state0[:nRIGID*ndofsRigid + nGEBF*ndofsGEBF]\n",
    "u = state0[nRIGID*ndofsRigid + nGEBF*ndofsGEBF:]\n",
    "\n",
    "# slice out rigid generalized coordinates and speeds from GEBF\n",
    "qRigid = q[:nRIGID*ndofsRigid]\n",
    "uRigid = u[:nRIGID*ndofsRigid]\n",
    "qGEBF  = q[nRIGID*ndofsRigid:]\n",
    "uGEBF  = u[nRIGID*ndofsRigid:]\n",
    "\n",
    "# Get the Kinematics 2D n-link Pendulum\n",
    "kinematics_Rigid2D(bodiesRigid,qRigid,uRigid)  \n",
    "kinematics_GEBF2D(bodiesGEBF,qGEBF,uGEBF)\n",
    "\n",
    "# slice out generalized cooridnates\n",
    "# and make a sublist for each body\n",
    "# these u's are not generalized speeds these are the deformations of the nodes\n",
    "u = qGEBF.tolist()\n",
    "u = [u[i*ndofsGEBF:(i*ndofsGEBF)+ndofsGEBF] for i in range((int(len(u)/ndofsGEBF)))]\n",
    "\n",
    "# 'pop' off the rotational coordinates \n",
    "# those are dealt with through the 'kinematic' sweep\n",
    "for ue in u:\n",
    "    ue.pop(3)\n",
    "    ue.pop(0)\n",
    "# re-do above using np.delete() no need for all these lists\n",
    "\n",
    "# compute the inverse inertial properties of the body \n",
    "# with the updated generalized \n",
    "for body,ue in zip(bodiesGEBF,u):\n",
    "    body.intProps('gebf',ue)\n",
    "\n",
    "for body in bodiesRigid:\n",
    "    body.intProps('rigid')\n",
    "\n",
    "bodies = bodiesRigid+bodiesGEBF\n",
    "# [display([body.z13, body.z23]) for body in bodies]"
   ]
  },
  {
   "cell_type": "code",
   "execution_count": null,
   "metadata": {
    "collapsed": false
   },
   "outputs": [],
   "source": [
    "# odeint is the numerical integrator used\n",
    "state = odeint(simulate,state0,tspan,(nbodies,bodiesGEBF,bodiesRigid,joints,2,1))"
   ]
  },
  {
   "cell_type": "code",
   "execution_count": null,
   "metadata": {
    "collapsed": false
   },
   "outputs": [],
   "source": [
    "q = state[:,:nRIGID*ndofsRigid + nGEBF*ndofsGEBF]\n",
    "u = state[:,nRIGID*ndofsRigid + nGEBF*ndofsGEBF:]\n",
    "\n",
    "# slice out rigid generalized coordinates and speeds from GEBF\n",
    "qRigid = q[:,:nRIGID*ndofsRigid]\n",
    "uRigid = u[:,:nRIGID*ndofsRigid]\n",
    "qGEBF  = q[:,nRIGID*ndofsRigid:]\n",
    "uGEBF  = u[:,nRIGID*ndofsRigid:]\n",
    "\n",
    "# x,y = get_topology_2DRigid(qRigid)\n",
    "r0 = np.array([[l*i, 0, l*(i+1), 0] \n",
    "               for i in range(nGEBF)],dtype=np.double).reshape(1,ndofsGEBF*nGEBF - 2*nGEBF)\n",
    "\n",
    "# Interpolate between nodes with npoints, and compute absolute positions of nodes for plotting\n",
    "npoints = 10\n",
    "x,y = get_topology_2DGEBF(qGEBF, r0, nGEBF, npoints)"
   ]
  },
  {
   "cell_type": "code",
   "execution_count": null,
   "metadata": {
    "collapsed": false
   },
   "outputs": [],
   "source": [
    "# ke,pe,te = get_energy_Rigid(bodiesRigid,state)"
   ]
  },
  {
   "cell_type": "code",
   "execution_count": null,
   "metadata": {
    "collapsed": false
   },
   "outputs": [],
   "source": [
    "# # The energy of the system is calculated and plotted\n",
    "# %matplotlib inline \n",
    "# plt.plot(tspan,te-te[0])\n",
    "# plt.xlabel(\"Time [s]\")\n",
    "# plt.ylabel(\"energy\")\n",
    "# plt.title(\"System Energy\")\n",
    "# plt.show()\n",
    "\n",
    "# plt.plot(tspan,pe,tspan,ke)\n",
    "# plt.xlabel(\"Time[s]\")\n",
    "# plt.ylabel(\"energy\")\n",
    "# plt.title(\"Kinetic and Potential Energy\")\n",
    "# plt.show"
   ]
  },
  {
   "cell_type": "code",
   "execution_count": null,
   "metadata": {
    "collapsed": true
   },
   "outputs": [],
   "source": [
    "# %qtconsole"
   ]
  },
  {
   "cell_type": "code",
   "execution_count": null,
   "metadata": {
    "collapsed": false
   },
   "outputs": [],
   "source": [
    "fig = plt.figure()\n",
    "ax = fig.add_subplot(111, autoscale_on=False, xlim=(0.0, 0.3), ylim=(-0.1, 0.1))\n",
    "ax.grid()\n",
    "\n",
    "line, = ax.plot([], [], 'o-', lw=2)\n",
    "time_template = 'time = %.001fs'\n",
    "time_text = ax.text(0.05, 0.9, '', transform=ax.transAxes)\n",
    "\n",
    "def init():\n",
    "    line.set_data([], [])\n",
    "    time_text.set_text('')\n",
    "    return line, time_text\n",
    "\n",
    "def animate(i):\n",
    "    thisx = x[i]\n",
    "    thisy = y[i]\n",
    "\n",
    "    line.set_data(thisx, thisy)\n",
    "    time_text.set_text(time_template%(i*dt))\n",
    "    return line, time_text\n",
    "\n",
    "ani = animation.FuncAnimation(fig, animate, np.arange(1, len(y)),\n",
    "    interval = 10, blit=False, init_func=init)\n",
    "\n",
    "#ani.save('double_pendulum.mp4', fps=15)\n",
    "plt.show()"
   ]
  },
  {
   "cell_type": "code",
   "execution_count": null,
   "metadata": {
    "collapsed": true
   },
   "outputs": [],
   "source": [
    "%qtconsole"
   ]
  },
  {
   "cell_type": "code",
   "execution_count": null,
   "metadata": {
    "collapsed": true
   },
   "outputs": [],
   "source": [
    "np.arange()"
   ]
  }
 ],
 "metadata": {
  "kernelspec": {
   "display_name": "Python 3",
   "language": "python",
   "name": "python3"
  },
  "language_info": {
   "codemirror_mode": {
    "name": "ipython",
    "version": 3
   },
   "file_extension": ".py",
   "mimetype": "text/x-python",
   "name": "python",
   "nbconvert_exporter": "python",
   "pygments_lexer": "ipython3",
   "version": "3.4.3"
  }
 },
 "nbformat": 4,
 "nbformat_minor": 0
}

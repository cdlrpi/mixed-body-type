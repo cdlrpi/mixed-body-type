{
 "cells": [
  {
   "cell_type": "markdown",
   "metadata": {},
   "source": [
    "# This notebook performs a simulation of a rope where ANCF is used to model the large deformation"
   ]
  },
  {
   "cell_type": "markdown",
   "metadata": {},
   "source": [
    "### Generalized form of Jourdain's Principle is used to develop the mass matrix\n",
    "### No Applied Torques ( partial angular velocities not formulated)"
   ]
  },
  {
   "cell_type": "code",
   "execution_count": 2,
   "metadata": {
    "collapsed": false
   },
   "outputs": [],
   "source": [
    "import numpy as np\n",
    "import scipy as sp\n",
    "import sympy as sym\n",
    "import pickle\n",
    "\n",
    "from sympy import lambdify\n",
    "\n",
    "from IPython.display import display\n",
    "from __future__ import division\n",
    "from sympy.interactive import printing\n",
    "printing.init_printing(use_latex='mathjax')\n",
    "np.set_printoptions(precision=4,suppress=True)"
   ]
  },
  {
   "cell_type": "markdown",
   "metadata": {},
   "source": [
    "#### Define symbolic quantites"
   ]
  },
  {
   "cell_type": "code",
   "execution_count": 3,
   "metadata": {
    "collapsed": false
   },
   "outputs": [],
   "source": [
    "# nodal positons, velocities, and accelerations\n",
    "\"\"\"\n",
    "    e = [r1x r1y dr1xdx dr1ydx r2x r2y dr2xdx dr2ydx]\n",
    "    e = 1x8 for a 2D beam\n",
    "\"\"\"\n",
    "\n",
    "# nodal positions\n",
    "e = sym.Matrix(sym.symarray('e',8))\n",
    "# nodal velocities\n",
    "e_dot = sym.Matrix(sym.symarray('edot',len(e)))\n",
    "# nodal accelerations\n",
    "e_ddot = sym.Matrix(sym.symarray('eddot',len(e)))\n",
    "\n",
    "# symbolic system parameters \n",
    "E, I, A, rho, x, l, tau_a = sym.symbols('E I A rho x l tau_a')\n",
    "# x = sym.symbols('x')\n"
   ]
  },
  {
   "cell_type": "markdown",
   "metadata": {},
   "source": [
    "### Compute the Mass Matrix"
   ]
  },
  {
   "cell_type": "code",
   "execution_count": 4,
   "metadata": {
    "collapsed": false
   },
   "outputs": [],
   "source": [
    "# define shape functions\n",
    "s = sym.symarray('s',4)\n",
    "\n",
    "s[0] = 1-3*(x/l)**2+2*(x/l)**3;\n",
    "s[1] = x/l-2*(x/l)**2+(x/l)**3;\n",
    "s[2] = 3*(x/l)**2-2*(x/l)**3;\n",
    "s[3] = (x/l)**3-(x/l)**2;\n",
    "\n",
    "# compute shape function matrix\n",
    "S = sym.expand(sym.Matrix([s[0]*sym.eye(2), l*s[1]*sym.eye(2), s[2]*sym.eye(2), l*s[3]*sym.eye(2)])).T\n",
    "# print('S = ')\n",
    "# display(S)\n",
    "\n",
    "\n",
    "# define velocity of all points on the beam\n",
    "# print(S.shape)\n",
    "# print(e_dot.shape)\n",
    "Vp = S*e_dot\n",
    "# print('\\nVp = ')\n",
    "# display(Vp)\n",
    "\n",
    "# define partial velocities of the nodes \n",
    "V_r = sym.Matrix([[sym.diff(Vp[j],e_dot[i]) for j in range(len(Vp))] for i in range(len(e))]).T\n",
    "# print('\\nV_r = ')\n",
    "# display(V_r)\n",
    "# print()\n",
    "\n",
    "# define acceleration of the nodes\n",
    "Ap = S*e_ddot\n",
    "# print('\\nAp = ')\n",
    "# display(Ap)\n",
    "# print()\n",
    "\n",
    "M = sym.Matrix([[sym.expand(sym.integrate(V_r[:,j].dot(Ap)*rho*A,(x,0,l))).coeff(e_ddot[i]) for i in range(len(e))]\n",
    "                for j in range(len(e))])\n",
    "# print('\\nM = ')\n",
    "# display(M)\n",
    "pickle.dump( M, open( \"ancf-mass-matrix.dump\", \"wb\" ) )"
   ]
  },
  {
   "cell_type": "markdown",
   "metadata": {},
   "source": [
    "### Compute Internal forces\n",
    "(Berzeri, Shabana - 2000 - DEVELOPMENT OF SIMPLE MODELS FOR THE ELASTIC FORCES IN THE ABSOLUTE NODAL CO-ORDINATE FORMULATION)"
   ]
  },
  {
   "cell_type": "markdown",
   "metadata": {},
   "source": [
    "#### Compute Longitudinal Strain Energy"
   ]
  },
  {
   "cell_type": "code",
   "execution_count": 5,
   "metadata": {
    "collapsed": false
   },
   "outputs": [],
   "source": [
    "# Compute epsilon with approximation 2 (43)\n",
    "er = sym.Matrix([0, 0, 1, 0, l, 0, 1, 0])\n",
    "dSdx = S.diff(x)\n",
    "epsilon_squared = sym.simplify((1/2*(e - er).T*dSdx.T).dot(dSdx*(e + er))**2)\n",
    "# display(epsilon_squared)\n",
    "\n",
    "Ul = sym.simplify(1/2*sym.integrate(E*A*epsilon_squared, (x,0,l)))"
   ]
  },
  {
   "cell_type": "markdown",
   "metadata": {},
   "source": [
    "#### Compute Transverse Strain Energy"
   ]
  },
  {
   "cell_type": "code",
   "execution_count": 6,
   "metadata": {
    "collapsed": false
   },
   "outputs": [],
   "source": [
    "# Compute kappa (approximation 1: small longitudinal deformation - fine for rope) (72)\n",
    "d2Sdx2 = S.diff(x,x)\n",
    "kappa_squared = sym.simplify(sym.expand((e.T*d2Sdx2.T).dot(d2Sdx2*e)))\n",
    "# display(kappa_squared)\n",
    "\n",
    "# Compute Transverse Strain Energy\n",
    "Ut = 1/2*sym.integrate(E*I*kappa_squared, (x,0,l))"
   ]
  },
  {
   "cell_type": "markdown",
   "metadata": {},
   "source": [
    "#### Compute Internal Forces $Q_e = \\frac{\\partial U}{\\partial e}$"
   ]
  },
  {
   "cell_type": "code",
   "execution_count": 7,
   "metadata": {
    "collapsed": false
   },
   "outputs": [],
   "source": [
    "# Compute Total Energy\n",
    "U = Ul + Ut\n",
    "\n",
    "# Compute Internal Force Vector\n",
    "Qe = sym.Matrix([sym.simplify(sym.expand(sym.diff(-U,node))) for node in e])"
   ]
  },
  {
   "cell_type": "markdown",
   "metadata": {},
   "source": [
    "### Applied and body force vector"
   ]
  },
  {
   "cell_type": "code",
   "execution_count": 8,
   "metadata": {
    "collapsed": false
   },
   "outputs": [],
   "source": [
    "# Applied forces\n",
    "# Gravity body force\n",
    "fg = rho*9.81*A*sym.Matrix([0,-1])\n",
    "\n",
    "# Applied torque\n",
    "# torque_app = sym.Matrix([0,0,tau_a])\n",
    "\n",
    "# Compute beta\n",
    "beta = sym.Matrix([sym.simplify(sym.integrate(V_r[:,j].dot(fg), (x,0,l))) \n",
    "                   + qe for j,qe in zip(range(len(e)),Qe)])\n",
    "pickle.dump( beta, open( \"ancf-force-vector.dump\", \"wb\" ) )"
   ]
  },
  {
   "cell_type": "code",
   "execution_count": 9,
   "metadata": {
    "collapsed": false
   },
   "outputs": [
    {
     "ename": "NameError",
     "evalue": "name 'r' is not defined",
     "output_type": "error",
     "traceback": [
      "\u001b[0;31m---------------------------------------------------------------------------\u001b[0m",
      "\u001b[0;31mNameError\u001b[0m                                 Traceback (most recent call last)",
      "\u001b[0;32m<ipython-input-9-a3f822c759d3>\u001b[0m in \u001b[0;36m<module>\u001b[0;34m()\u001b[0m\n\u001b[0;32m----> 1\u001b[0;31m \u001b[0mM\u001b[0m \u001b[0;34m=\u001b[0m \u001b[0mlambdify\u001b[0m\u001b[0;34m(\u001b[0m\u001b[0;34m(\u001b[0m\u001b[0mr\u001b[0m\u001b[0;34m,\u001b[0m \u001b[0mrho\u001b[0m\u001b[0;34m,\u001b[0m \u001b[0ml\u001b[0m\u001b[0;34m,\u001b[0m \u001b[0me\u001b[0m\u001b[0;34m)\u001b[0m\u001b[0;34m,\u001b[0m \u001b[0mM_sym\u001b[0m\u001b[0;34m,\u001b[0m \u001b[0;34m\"numpy\"\u001b[0m\u001b[0;34m)\u001b[0m\u001b[0;34m\u001b[0m\u001b[0m\n\u001b[0m\u001b[1;32m      2\u001b[0m \u001b[0mM_num\u001b[0m \u001b[0;34m=\u001b[0m \u001b[0mM\u001b[0m\u001b[0;34m(\u001b[0m\u001b[0mnp\u001b[0m\u001b[0;34m.\u001b[0m\u001b[0msqrt\u001b[0m\u001b[0;34m(\u001b[0m\u001b[0;36m0.0018\u001b[0m\u001b[0;34m/\u001b[0m\u001b[0mnp\u001b[0m\u001b[0;34m.\u001b[0m\u001b[0mpi\u001b[0m\u001b[0;34m)\u001b[0m\u001b[0;34m,\u001b[0m\u001b[0;36m5540\u001b[0m\u001b[0;34m,\u001b[0m\u001b[0;36m0.12\u001b[0m\u001b[0;34m,\u001b[0m\u001b[0mnp\u001b[0m\u001b[0;34m.\u001b[0m\u001b[0mzeros_like\u001b[0m\u001b[0;34m(\u001b[0m\u001b[0mq\u001b[0m\u001b[0;34m)\u001b[0m\u001b[0;34m)\u001b[0m\u001b[0;34m\u001b[0m\u001b[0m\n\u001b[1;32m      3\u001b[0m \u001b[0mM_num\u001b[0m\u001b[0;34m\u001b[0m\u001b[0m\n",
      "\u001b[0;31mNameError\u001b[0m: name 'r' is not defined"
     ]
    }
   ],
   "source": [
    "# M = lambdify((r, rho, l, e), M_sym, \"numpy\")\n",
    "# M_num = M(np.sqrt(0.0018/np.pi),5540,0.12,np.zeros_like(q))\n",
    "# M_num"
   ]
  },
  {
   "cell_type": "code",
   "execution_count": null,
   "metadata": {
    "collapsed": true
   },
   "outputs": [],
   "source": []
  }
 ],
 "metadata": {
  "kernelspec": {
   "display_name": "Python 3",
   "language": "python",
   "name": "python3"
  },
  "language_info": {
   "codemirror_mode": {
    "name": "ipython",
    "version": 3
   },
   "file_extension": ".py",
   "mimetype": "text/x-python",
   "name": "python",
   "nbconvert_exporter": "python",
   "pygments_lexer": "ipython3",
   "version": "3.4.3"
  }
 },
 "nbformat": 4,
 "nbformat_minor": 0
}

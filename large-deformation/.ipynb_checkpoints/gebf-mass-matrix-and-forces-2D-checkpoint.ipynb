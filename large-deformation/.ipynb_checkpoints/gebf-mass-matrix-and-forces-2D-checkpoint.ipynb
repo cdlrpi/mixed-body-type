{
 "cells": [
  {
   "cell_type": "markdown",
   "metadata": {},
   "source": [
    "#Beam Element - This notebook computes the mass matrix and internal forces and outputs them for later use"
   ]
  },
  {
   "cell_type": "markdown",
   "metadata": {},
   "source": [
    "\n",
    "1. 2D beam generalized coordinates (1 rotation 2 displacements) (Reduced dimensions so all matricies are subsequently invertible, Mii = 0 if some dof's are accounted for but  unused)\n",
    "2. Interpolation of roataion matricies WITHOUT orthogonalization (sympy struggling with too much algebra)\n",
    "3. Circular cross-section with radius 'r'"
   ]
  },
  {
   "cell_type": "code",
   "execution_count": 1,
   "metadata": {
    "collapsed": false
   },
   "outputs": [],
   "source": [
    "import numpy as np\n",
    "import scipy as sp\n",
    "import sympy as sym\n",
    "import pickle\n",
    "\n",
    "from scipy import linalg\n",
    "from sympy import mpmath\n",
    "from sympy import cos, sin\n",
    "\n",
    "from IPython.display import display\n",
    "from __future__ import division\n",
    "from sympy.interactive import printing\n",
    "printing.init_printing(use_latex='mathjax')\n",
    "np.set_printoptions(precision=4,suppress=True)"
   ]
  },
  {
   "cell_type": "markdown",
   "metadata": {},
   "source": [
    "#### Define Needed Functions"
   ]
  },
  {
   "cell_type": "code",
   "execution_count": 2,
   "metadata": {
    "collapsed": false
   },
   "outputs": [],
   "source": [
    "def Skew_sym(v):\n",
    "    \"\"\"\n",
    "    This function returns the skew symetric matrix \n",
    "    of the vector 'v' to affect the cross product of 'v'x'u'\n",
    "    \"\"\"\n",
    "    v_matrix = sym.Matrix([[  0 , -v[2]],\n",
    "                          [v[2],     0]])\n",
    "    return v_matrix"
   ]
  },
  {
   "cell_type": "code",
   "execution_count": 3,
   "metadata": {
    "collapsed": true
   },
   "outputs": [],
   "source": [
    "def Axial_sym(A):\n",
    "    '''\n",
    "    This funtcion returns the vector of the skew-symmectric matrix in 2D\n",
    "    '''\n",
    "    a_vec = 1/2*sym.Matrix([A[1,0] - A[0,1]])\n",
    "    return a_vec"
   ]
  },
  {
   "cell_type": "code",
   "execution_count": 4,
   "metadata": {
    "collapsed": false
   },
   "outputs": [],
   "source": [
    "def Rotate_sym(theta):\n",
    "    \"\"\"\n",
    "    This function returns the symbolic rotation matrix \n",
    "    for the simple 2D-rotation about the third axis\n",
    "    \"\"\"\n",
    "    R = sym.Matrix([[cos(theta),-sin(theta)],\n",
    "                    [sin(theta), cos(theta)]])\n",
    "    return R"
   ]
  },
  {
   "cell_type": "markdown",
   "metadata": {},
   "source": [
    "#### Define symbolic quantites"
   ]
  },
  {
   "cell_type": "code",
   "execution_count": 5,
   "metadata": {
    "collapsed": false
   },
   "outputs": [],
   "source": [
    "# symbolic system parameters \n",
    "E, I, A, rho, x, l, r = sym.symbols('E I A rho x l r')\n",
    "\n",
    "# Kinematic values of previos nodes (generic)\n",
    "# e.g., omega_node  = omega + qdot\n",
    "theta = sym.Matrix(['theta_1','theta_2'])\n",
    "omega = sym.Matrix(['omega_1','omega_2'])\n",
    "alpha = sym.Matrix(['alpha_1','alpha_2'])\n",
    "\n",
    "# coordinates of the point in the 2D cross-section\n",
    "# of nodes one and two \n",
    "s1 = sym.Matrix(['r_x','r_y'])\n",
    "s2 = sym.Matrix(['r_x','r_y'])\n",
    "s = sym.Matrix.vstack(s1,s2)\n",
    "\n",
    "# generalized coordinates\n",
    "# one rotation and two displacements per-node (two nodes per element)\n",
    "# in this version generalzied speeds are qdots\n",
    "q = sym.Matrix(sym.symarray('q',6))\n",
    "qdot = sym.Matrix(sym.symarray('qdot',len(q)))\n",
    "qddot = sym.Matrix(sym.symarray('qddot',len(q)))\n",
    "\n",
    "# Deformations of Nodes (u's are not generalized speeds) \n",
    "u = sym.Matrix([q[1:3,0], q[4:6,0]])\n",
    "udot = sym.Matrix([qdot[1:3,0], qdot[4:8,0]])\n",
    "uddot = sym.Matrix([qddot[1:3,0], qddot[4:6,0]])\n",
    "\n",
    "# display([q,qdot,qddot])\n",
    "# display([u,udot,uddot])"
   ]
  },
  {
   "cell_type": "markdown",
   "metadata": {},
   "source": [
    "### Needed Matrix Quantities"
   ]
  },
  {
   "cell_type": "code",
   "execution_count": 6,
   "metadata": {
    "collapsed": false
   },
   "outputs": [],
   "source": [
    "\"\"\" \n",
    "Some cheating here: \n",
    "q0,q3 and q0dot,q3dot are really theta_1j, theta_2j and omega_1j, omega_2j\n",
    "\"\"\"\n",
    "# angular position and velocity for 2D using relative coordinates\n",
    "# the sum of the respective quantites of bodies 1 - bodyj-1 \n",
    "# Kinematics are trivial for the planar case:\n",
    "# theta_j, omega_j =  sum(q1 ... qj), sum(q1dot ... qjdot), j = 1 ... nbodies\n",
    "\n",
    "R1 = Rotate_sym(q[0])\n",
    "R2 = Rotate_sym(q[3])\n",
    "\n",
    "omega1_skew = Skew_sym([0,0,qdot[0]])\n",
    "omega2_skew = Skew_sym([0,0,qdot[3]])\n",
    "\n",
    "# Only true for planar case\n",
    "alpha1_skew = Skew_sym([0,0,qddot[0]])\n",
    "alpha2_skew = Skew_sym([0,0,qddot[3]])\n",
    "\n",
    "# # 1D Roation at each node\n",
    "# R1 = Rotate_sym(theta[0])*Rotate_sym(q[0])\n",
    "# R2 = Rotate_sym(theta[1])*Rotate_sym(q[3])\n",
    "\n",
    "# omega1_skew = Skew_sym([0,0,omega[0]]) + Skew_sym([0,0,qdot[0]])\n",
    "# omega2_skew = Skew_sym([0,0,omega[1]]) + Skew_sym([0,0,qdot[3]])\n",
    "\n",
    "# # Only true for planar case\n",
    "# alpha1_skew = Skew_sym([0,0,alpha[0]]) + Skew_sym([0,0,qddot[0]])\n",
    "# alpha2_skew = Skew_sym([0,0,alpha[1]]) + Skew_sym([0,0,qddot[3]])\n",
    "\n",
    "\n",
    "# display(R1,R2)\n",
    "\n",
    "# \"spatial\" rotation matrix\n",
    "R = sym.Matrix.vstack(sym.Matrix.hstack(R1,sym.zeros(2)), \\\n",
    "                      sym.Matrix.hstack(sym.zeros(2),R2))\n",
    "\n",
    "# \"spatial\" angular velocity matrix\n",
    "Omega_skew = sym.Matrix.vstack(sym.Matrix.hstack(omega1_skew,sym.zeros(2)), \\\n",
    "                               sym.Matrix.hstack(sym.zeros(2),omega2_skew))\n",
    "\n",
    "# \"spatial\" angular acceleration matrix\n",
    "Alpha_skew = sym.Matrix.vstack(sym.Matrix.hstack(alpha1_skew,sym.zeros(2)), \\\n",
    "                               sym.Matrix.hstack(sym.zeros(2),alpha2_skew))\n",
    "# display(Omega)"
   ]
  },
  {
   "cell_type": "markdown",
   "metadata": {},
   "source": [
    "### Define Kinematics"
   ]
  },
  {
   "cell_type": "code",
   "execution_count": 7,
   "metadata": {
    "collapsed": false
   },
   "outputs": [
    {
     "name": "stdout",
     "output_type": "stream",
     "text": [
      "v = \n"
     ]
    },
    {
     "data": {
      "text/latex": [
       "$$\\left[\\begin{matrix}- \\dot{q}_{0} r_{x} \\sin{\\left (q_{0} \\right )} - \\dot{q}_{0} r_{y} \\cos{\\left (q_{0} \\right )} + \\dot{q}_{1}\\\\\\dot{q}_{0} r_{x} \\cos{\\left (q_{0} \\right )} - \\dot{q}_{0} r_{y} \\sin{\\left (q_{0} \\right )} + \\dot{q}_{2}\\\\- \\dot{q}_{3} r_{x} \\sin{\\left (q_{3} \\right )} - \\dot{q}_{3} r_{y} \\cos{\\left (q_{3} \\right )} + \\dot{q}_{4}\\\\\\dot{q}_{3} r_{x} \\cos{\\left (q_{3} \\right )} - \\dot{q}_{3} r_{y} \\sin{\\left (q_{3} \\right )} + \\dot{q}_{5}\\end{matrix}\\right]$$"
      ],
      "text/plain": [
       "⎡-q̇₀⋅rₓ⋅sin(q₀) - q̇₀⋅r_y⋅cos(q₀) + q̇₁⎤\n",
       "⎢                                       ⎥\n",
       "⎢q̇₀⋅rₓ⋅cos(q₀) - q̇₀⋅r_y⋅sin(q₀) + q̇₂ ⎥\n",
       "⎢                                       ⎥\n",
       "⎢-q̇₃⋅rₓ⋅sin(q₃) - q̇₃⋅r_y⋅cos(q₃) + q̇₄⎥\n",
       "⎢                                       ⎥\n",
       "⎣q̇₃⋅rₓ⋅cos(q₃) - q̇₃⋅r_y⋅sin(q₃) + q̇₅ ⎦"
      ]
     },
     "metadata": {},
     "output_type": "display_data"
    },
    {
     "name": "stdout",
     "output_type": "stream",
     "text": [
      "\n",
      "a = \n"
     ]
    },
    {
     "data": {
      "text/latex": [
       "$$\\left[\\begin{matrix}- \\ddot{q}_{0} r_{x} \\sin{\\left (q_{0} \\right )} - \\ddot{q}_{0} r_{y} \\cos{\\left (q_{0} \\right )} + \\ddot{q}_{1} - \\dot{q}_{0}^{2} r_{x} \\cos{\\left (q_{0} \\right )} + \\dot{q}_{0}^{2} r_{y} \\sin{\\left (q_{0} \\right )}\\\\\\ddot{q}_{0} r_{x} \\cos{\\left (q_{0} \\right )} - \\ddot{q}_{0} r_{y} \\sin{\\left (q_{0} \\right )} + \\ddot{q}_{2} - \\dot{q}_{0}^{2} r_{x} \\sin{\\left (q_{0} \\right )} - \\dot{q}_{0}^{2} r_{y} \\cos{\\left (q_{0} \\right )}\\\\- \\ddot{q}_{3} r_{x} \\sin{\\left (q_{3} \\right )} - \\ddot{q}_{3} r_{y} \\cos{\\left (q_{3} \\right )} + \\ddot{q}_{4} - \\dot{q}_{3}^{2} r_{x} \\cos{\\left (q_{3} \\right )} + \\dot{q}_{3}^{2} r_{y} \\sin{\\left (q_{3} \\right )}\\\\\\ddot{q}_{3} r_{x} \\cos{\\left (q_{3} \\right )} - \\ddot{q}_{3} r_{y} \\sin{\\left (q_{3} \\right )} + \\ddot{q}_{5} - \\dot{q}_{3}^{2} r_{x} \\sin{\\left (q_{3} \\right )} - \\dot{q}_{3}^{2} r_{y} \\cos{\\left (q_{3} \\right )}\\end{matrix}\\right]$$"
      ],
      "text/plain": [
       "⎡                                             2                 2            ⎤\n",
       "⎢-q̈₀⋅rₓ⋅sin(q₀) - q̈₀⋅r_y⋅cos(q₀) + q̈₁ - q̇₀ ⋅rₓ⋅cos(q₀) + q̇₀ ⋅r_y⋅sin(q₀)⎥\n",
       "⎢                                                                            ⎥\n",
       "⎢                                            2                 2             ⎥\n",
       "⎢q̈₀⋅rₓ⋅cos(q₀) - q̈₀⋅r_y⋅sin(q₀) + q̈₂ - q̇₀ ⋅rₓ⋅sin(q₀) - q̇₀ ⋅r_y⋅cos(q₀) ⎥\n",
       "⎢                                                                            ⎥\n",
       "⎢                                             2                 2            ⎥\n",
       "⎢-q̈₃⋅rₓ⋅sin(q₃) - q̈₃⋅r_y⋅cos(q₃) + q̈₄ - q̇₃ ⋅rₓ⋅cos(q₃) + q̇₃ ⋅r_y⋅sin(q₃)⎥\n",
       "⎢                                                                            ⎥\n",
       "⎢                                            2                 2             ⎥\n",
       "⎣q̈₃⋅rₓ⋅cos(q₃) - q̈₃⋅r_y⋅sin(q₃) + q̈₅ - q̇₃ ⋅rₓ⋅sin(q₃) - q̇₃ ⋅r_y⋅cos(q₃) ⎦"
      ]
     },
     "metadata": {},
     "output_type": "display_data"
    }
   ],
   "source": [
    "# Define velocity of element endpoints (nodes)\n",
    "v = sym.simplify(udot + R*Omega_skew*s)\n",
    "print('v = ')\n",
    "display(v)\n",
    "\n",
    "# Define acceleration of element endpoints (nodes)\n",
    "a = sym.simplify(uddot + R*Omega_skew*Omega_skew*s + R*Alpha_skew*s)\n",
    "print('\\na = ')\n",
    "display(a)"
   ]
  },
  {
   "cell_type": "markdown",
   "metadata": {},
   "source": [
    "### Compute the Mass Matrix"
   ]
  },
  {
   "cell_type": "code",
   "execution_count": 18,
   "metadata": {
    "collapsed": false
   },
   "outputs": [
    {
     "name": "stdout",
     "output_type": "stream",
     "text": [
      "\n",
      "H = \n"
     ]
    },
    {
     "data": {
      "text/latex": [
       "$$\\left[\\begin{matrix}- \\frac{x}{2} + \\frac{1}{2} & 0 & \\frac{x}{2} + \\frac{1}{2} & 0\\\\0 & - \\frac{x}{2} + \\frac{1}{2} & 0 & \\frac{x}{2} + \\frac{1}{2}\\end{matrix}\\right]$$"
      ],
      "text/plain": [
       "⎡  x   1           x   1       ⎤\n",
       "⎢- ─ + ─     0     ─ + ─    0  ⎥\n",
       "⎢  2   2           2   2       ⎥\n",
       "⎢                              ⎥\n",
       "⎢           x   1         x   1⎥\n",
       "⎢   0     - ─ + ─    0    ─ + ─⎥\n",
       "⎣           2   2         2   2⎦"
      ]
     },
     "metadata": {},
     "output_type": "display_data"
    },
    {
     "name": "stdout",
     "output_type": "stream",
     "text": [
      "\n",
      "V = \n"
     ]
    },
    {
     "data": {
      "text/latex": [
       "$$\\left[\\begin{matrix}\\left(- \\frac{x}{2} + \\frac{1}{2}\\right) \\left(- \\dot{q}_{0} r_{x} \\sin{\\left (q_{0} \\right )} - \\dot{q}_{0} r_{y} \\cos{\\left (q_{0} \\right )} + \\dot{q}_{1}\\right) + \\left(\\frac{x}{2} + \\frac{1}{2}\\right) \\left(- \\dot{q}_{3} r_{x} \\sin{\\left (q_{3} \\right )} - \\dot{q}_{3} r_{y} \\cos{\\left (q_{3} \\right )} + \\dot{q}_{4}\\right)\\\\\\left(- \\frac{x}{2} + \\frac{1}{2}\\right) \\left(\\dot{q}_{0} r_{x} \\cos{\\left (q_{0} \\right )} - \\dot{q}_{0} r_{y} \\sin{\\left (q_{0} \\right )} + \\dot{q}_{2}\\right) + \\left(\\frac{x}{2} + \\frac{1}{2}\\right) \\left(\\dot{q}_{3} r_{x} \\cos{\\left (q_{3} \\right )} - \\dot{q}_{3} r_{y} \\sin{\\left (q_{3} \\right )} + \\dot{q}_{5}\\right)\\end{matrix}\\right]$$"
      ],
      "text/plain": [
       "⎡⎛  x   1⎞                                             ⎛x   1⎞                \n",
       "⎢⎜- ─ + ─⎟⋅(-q̇₀⋅rₓ⋅sin(q₀) - q̇₀⋅r_y⋅cos(q₀) + q̇₁) + ⎜─ + ─⎟⋅(-q̇₃⋅rₓ⋅sin(q₃\n",
       "⎢⎝  2   2⎠                                             ⎝2   2⎠                \n",
       "⎢                                                                             \n",
       "⎢ ⎛  x   1⎞                                            ⎛x   1⎞                \n",
       "⎢ ⎜- ─ + ─⎟⋅(q̇₀⋅rₓ⋅cos(q₀) - q̇₀⋅r_y⋅sin(q₀) + q̇₂) + ⎜─ + ─⎟⋅(q̇₃⋅rₓ⋅cos(q₃)\n",
       "⎣ ⎝  2   2⎠                                            ⎝2   2⎠                \n",
       "\n",
       "                          ⎤\n",
       ") - q̇₃⋅r_y⋅cos(q₃) + q̇₄)⎥\n",
       "                          ⎥\n",
       "                          ⎥\n",
       "                          ⎥\n",
       " - q̇₃⋅r_y⋅sin(q₃) + q̇₅) ⎥\n",
       "                          ⎦"
      ]
     },
     "metadata": {},
     "output_type": "display_data"
    },
    {
     "name": "stdout",
     "output_type": "stream",
     "text": [
      "\n",
      "Vr = \n"
     ]
    },
    {
     "data": {
      "text/latex": [
       "$$\\left[\\begin{matrix}\\frac{1}{2} \\left(x - 1\\right) \\left(r_{x} \\sin{\\left (q_{0} \\right )} + r_{y} \\cos{\\left (q_{0} \\right )}\\right) & - \\frac{x}{2} + \\frac{1}{2} & 0 & - \\frac{1}{2} \\left(x + 1\\right) \\left(r_{x} \\sin{\\left (q_{3} \\right )} + r_{y} \\cos{\\left (q_{3} \\right )}\\right) & \\frac{x}{2} + \\frac{1}{2} & 0\\\\\\frac{1}{2} \\left(- x + 1\\right) \\left(r_{x} \\cos{\\left (q_{0} \\right )} - r_{y} \\sin{\\left (q_{0} \\right )}\\right) & 0 & - \\frac{x}{2} + \\frac{1}{2} & \\frac{1}{2} \\left(x + 1\\right) \\left(r_{x} \\cos{\\left (q_{3} \\right )} - r_{y} \\sin{\\left (q_{3} \\right )}\\right) & 0 & \\frac{x}{2} + \\frac{1}{2}\\end{matrix}\\right]$$"
      ],
      "text/plain": [
       "⎡(x - 1)⋅(rₓ⋅sin(q₀) + r_y⋅cos(q₀))     x   1           -(x + 1)⋅(rₓ⋅sin(q₃) +\n",
       "⎢──────────────────────────────────   - ─ + ─     0     ──────────────────────\n",
       "⎢                2                      2   2                            2    \n",
       "⎢                                                                             \n",
       "⎢(-x + 1)⋅(rₓ⋅cos(q₀) - r_y⋅sin(q₀))             x   1   (x + 1)⋅(rₓ⋅cos(q₃) -\n",
       "⎢───────────────────────────────────     0     - ─ + ─   ─────────────────────\n",
       "⎣                 2                              2   2                   2    \n",
       "\n",
       " r_y⋅cos(q₃))   x   1       ⎤\n",
       "──────────────  ─ + ─    0  ⎥\n",
       "                2   2       ⎥\n",
       "                            ⎥\n",
       " r_y⋅sin(q₃))          x   1⎥\n",
       "─────────────     0    ─ + ─⎥\n",
       "                       2   2⎦"
      ]
     },
     "metadata": {},
     "output_type": "display_data"
    }
   ],
   "source": [
    "# Define shape function for element with one node at each end\n",
    "h = sym.symarray('h', 2)\n",
    "\n",
    "h[0] = sym.Rational(1,2)*(1 - x)\n",
    "h[1] = sym.Rational(1,2)*(1 + x)\n",
    "\n",
    "# Compute shape function matrix\n",
    "H = sym.Matrix([h[0]*sym.eye(2), h[1]*sym.eye(2)]).T\n",
    "print('\\nH = ')\n",
    "display(H)\n",
    "\n",
    "# Define velocity of any point \n",
    "Vp = H*v\n",
    "print('\\nV = ')\n",
    "display(Vp)\n",
    "\n",
    "# Define velocity of any point \n",
    "Ap = H*a\n",
    "# print('\\nA = ')\n",
    "# display(Accel)\n",
    "\n",
    "# Compute partial velocities of the nodes\n",
    "Vr = sym.simplify(sym.Matrix([[sym.diff(Vp,qdot) for Vp in Vp] for qdot in qdot]).T)\n",
    "# v_r = H\n",
    "print('\\nVr = ')\n",
    "display(Vr)\n",
    "# print(Vr.shape)\n",
    "\n",
    "# Compute mass matrix\n",
    "M = np.pi*sym.simplify(sym.factor(sym.Matrix(\n",
    "            [[sym.expand(sym.integrate(Vr[:,i].dot(Ap)*rho,('r_x',0,r),('r_y',0,r),(x,0,l))).coeff(qddot[j]) \n",
    "              for i in range(len(qddot))] for j in range(len(qddot))])))\n",
    "\n",
    "# pickle.dump( M, open( \"gebf-mass-matrix.dump\", \"wb\" ) )"
   ]
  },
  {
   "cell_type": "code",
   "execution_count": 19,
   "metadata": {
    "collapsed": false
   },
   "outputs": [
    {
     "name": "stdout",
     "output_type": "stream",
     "text": [
      "M_11 = \n"
     ]
    },
    {
     "data": {
      "text/latex": [
       "$$\\left[\\begin{matrix}0.174532925199433 l r^{4} \\rho \\left(l^{2} - 3 l + 3\\right) & - 0.130899693899575 \\sqrt{2} l r^{3} \\rho \\left(l^{2} - 3 l + 3\\right) \\sin{\\left (q_{0} + \\frac{\\pi}{4} \\right )} & 0.130899693899575 \\sqrt{2} l r^{3} \\rho \\left(l^{2} - 3 l + 3\\right) \\cos{\\left (q_{0} + \\frac{\\pi}{4} \\right )}\\\\- 0.130899693899575 \\sqrt{2} l r^{3} \\rho \\left(l^{2} - 3 l + 3\\right) \\sin{\\left (q_{0} + \\frac{\\pi}{4} \\right )} & 0.261799387799149 l r^{2} \\rho \\left(l^{2} - 3 l + 3\\right) & 0\\\\0.130899693899575 \\sqrt{2} l r^{3} \\rho \\left(l^{2} - 3 l + 3\\right) \\cos{\\left (q_{0} + \\frac{\\pi}{4} \\right )} & 0 & 0.261799387799149 l r^{2} \\rho \\left(l^{2} - 3 l + 3\\right)\\end{matrix}\\right]$$"
      ],
      "text/plain": [
       "⎡                              4   ⎛ 2          ⎞                             \n",
       "⎢         0.174532925199433⋅l⋅r ⋅ρ⋅⎝l  - 3⋅l + 3⎠            -0.13089969389957\n",
       "⎢                                                                             \n",
       "⎢                                                                             \n",
       "⎢                     ___    3   ⎛ 2          ⎞    ⎛     π⎞                   \n",
       "⎢-0.130899693899575⋅╲╱ 2 ⋅l⋅r ⋅ρ⋅⎝l  - 3⋅l + 3⎠⋅sin⎜q₀ + ─⎟           0.261799\n",
       "⎢                                                  ⎝     4⎠                   \n",
       "⎢                                                                             \n",
       "⎢                    ___    3   ⎛ 2          ⎞    ⎛     π⎞                    \n",
       "⎢0.130899693899575⋅╲╱ 2 ⋅l⋅r ⋅ρ⋅⎝l  - 3⋅l + 3⎠⋅cos⎜q₀ + ─⎟                    \n",
       "⎣                                                 ⎝     4⎠                    \n",
       "\n",
       "    ___    3   ⎛ 2          ⎞    ⎛     π⎞                      ___    3   ⎛ 2 \n",
       "5⋅╲╱ 2 ⋅l⋅r ⋅ρ⋅⎝l  - 3⋅l + 3⎠⋅sin⎜q₀ + ─⎟  0.130899693899575⋅╲╱ 2 ⋅l⋅r ⋅ρ⋅⎝l  \n",
       "                                 ⎝     4⎠                                     \n",
       "                                                                              \n",
       "             2   ⎛ 2          ⎞                                               \n",
       "387799149⋅l⋅r ⋅ρ⋅⎝l  - 3⋅l + 3⎠                                        0      \n",
       "                                                                              \n",
       "                                                                              \n",
       "                                                                         2   ⎛\n",
       "           0                                        0.261799387799149⋅l⋅r ⋅ρ⋅⎝\n",
       "                                                                              \n",
       "\n",
       "         ⎞    ⎛     π⎞⎤\n",
       "- 3⋅l + 3⎠⋅cos⎜q₀ + ─⎟⎥\n",
       "              ⎝     4⎠⎥\n",
       "                      ⎥\n",
       "                      ⎥\n",
       "                      ⎥\n",
       "                      ⎥\n",
       "                      ⎥\n",
       " 2          ⎞         ⎥\n",
       "l  - 3⋅l + 3⎠         ⎥\n",
       "                      ⎦"
      ]
     },
     "metadata": {},
     "output_type": "display_data"
    },
    {
     "name": "stdout",
     "output_type": "stream",
     "text": [
      "\n",
      "M_22 = \n"
     ]
    },
    {
     "data": {
      "text/latex": [
       "$$\\left[\\begin{matrix}0.174532925199433 l r^{4} \\rho \\left(l^{2} + 3 l + 3\\right) & - 0.130899693899575 \\sqrt{2} l r^{3} \\rho \\left(l^{2} + 3 l + 3\\right) \\sin{\\left (q_{3} + \\frac{\\pi}{4} \\right )} & 0.130899693899575 \\sqrt{2} l r^{3} \\rho \\left(l^{2} + 3 l + 3\\right) \\cos{\\left (q_{3} + \\frac{\\pi}{4} \\right )}\\\\- 0.130899693899575 \\sqrt{2} l r^{3} \\rho \\left(l^{2} + 3 l + 3\\right) \\sin{\\left (q_{3} + \\frac{\\pi}{4} \\right )} & 0.261799387799149 l r^{2} \\rho \\left(l^{2} + 3 l + 3\\right) & 0\\\\0.130899693899575 \\sqrt{2} l r^{3} \\rho \\left(l^{2} + 3 l + 3\\right) \\cos{\\left (q_{3} + \\frac{\\pi}{4} \\right )} & 0 & 0.261799387799149 l r^{2} \\rho \\left(l^{2} + 3 l + 3\\right)\\end{matrix}\\right]$$"
      ],
      "text/plain": [
       "⎡                              4   ⎛ 2          ⎞                             \n",
       "⎢         0.174532925199433⋅l⋅r ⋅ρ⋅⎝l  + 3⋅l + 3⎠            -0.13089969389957\n",
       "⎢                                                                             \n",
       "⎢                                                                             \n",
       "⎢                     ___    3   ⎛ 2          ⎞    ⎛     π⎞                   \n",
       "⎢-0.130899693899575⋅╲╱ 2 ⋅l⋅r ⋅ρ⋅⎝l  + 3⋅l + 3⎠⋅sin⎜q₃ + ─⎟           0.261799\n",
       "⎢                                                  ⎝     4⎠                   \n",
       "⎢                                                                             \n",
       "⎢                    ___    3   ⎛ 2          ⎞    ⎛     π⎞                    \n",
       "⎢0.130899693899575⋅╲╱ 2 ⋅l⋅r ⋅ρ⋅⎝l  + 3⋅l + 3⎠⋅cos⎜q₃ + ─⎟                    \n",
       "⎣                                                 ⎝     4⎠                    \n",
       "\n",
       "    ___    3   ⎛ 2          ⎞    ⎛     π⎞                      ___    3   ⎛ 2 \n",
       "5⋅╲╱ 2 ⋅l⋅r ⋅ρ⋅⎝l  + 3⋅l + 3⎠⋅sin⎜q₃ + ─⎟  0.130899693899575⋅╲╱ 2 ⋅l⋅r ⋅ρ⋅⎝l  \n",
       "                                 ⎝     4⎠                                     \n",
       "                                                                              \n",
       "             2   ⎛ 2          ⎞                                               \n",
       "387799149⋅l⋅r ⋅ρ⋅⎝l  + 3⋅l + 3⎠                                        0      \n",
       "                                                                              \n",
       "                                                                              \n",
       "                                                                         2   ⎛\n",
       "           0                                        0.261799387799149⋅l⋅r ⋅ρ⋅⎝\n",
       "                                                                              \n",
       "\n",
       "         ⎞    ⎛     π⎞⎤\n",
       "+ 3⋅l + 3⎠⋅cos⎜q₃ + ─⎟⎥\n",
       "              ⎝     4⎠⎥\n",
       "                      ⎥\n",
       "                      ⎥\n",
       "                      ⎥\n",
       "                      ⎥\n",
       "                      ⎥\n",
       " 2          ⎞         ⎥\n",
       "l  + 3⋅l + 3⎠         ⎥\n",
       "                      ⎦"
      ]
     },
     "metadata": {},
     "output_type": "display_data"
    },
    {
     "name": "stdout",
     "output_type": "stream",
     "text": [
      "\n",
      "M_12 = \n"
     ]
    },
    {
     "data": {
      "text/latex": [
       "$$\\left[\\begin{matrix}- 0.174532925199433 l r^{4} \\rho \\left(l^{2} - 3\\right) \\cos{\\left (q_{0} - q_{3} \\right )} & 0.130899693899575 \\sqrt{2} l r^{3} \\rho \\left(l^{2} - 3\\right) \\sin{\\left (q_{0} + \\frac{\\pi}{4} \\right )} & - 0.130899693899575 \\sqrt{2} l r^{3} \\rho \\left(l^{2} - 3\\right) \\cos{\\left (q_{0} + \\frac{\\pi}{4} \\right )}\\\\0.130899693899575 \\sqrt{2} l r^{3} \\rho \\left(l^{2} - 3\\right) \\sin{\\left (q_{3} + \\frac{\\pi}{4} \\right )} & 0.261799387799149 l r^{2} \\rho \\left(- l^{2} + 3\\right) & 0\\\\- 0.130899693899575 \\sqrt{2} l r^{3} \\rho \\left(l^{2} - 3\\right) \\cos{\\left (q_{3} + \\frac{\\pi}{4} \\right )} & 0 & 0.261799387799149 l r^{2} \\rho \\left(- l^{2} + 3\\right)\\end{matrix}\\right]$$"
      ],
      "text/plain": [
       "⎡                        4   ⎛ 2    ⎞                                      ___\n",
       "⎢  -0.174532925199433⋅l⋅r ⋅ρ⋅⎝l  - 3⎠⋅cos(q₀ - q₃)     0.130899693899575⋅╲╱ 2 \n",
       "⎢                                                                             \n",
       "⎢                                                                             \n",
       "⎢                    ___    3   ⎛ 2    ⎞    ⎛     π⎞                          \n",
       "⎢0.130899693899575⋅╲╱ 2 ⋅l⋅r ⋅ρ⋅⎝l  - 3⎠⋅sin⎜q₃ + ─⎟           0.2617993877991\n",
       "⎢                                           ⎝     4⎠                          \n",
       "⎢                                                                             \n",
       "⎢                     ___    3   ⎛ 2    ⎞    ⎛     π⎞                         \n",
       "⎢-0.130899693899575⋅╲╱ 2 ⋅l⋅r ⋅ρ⋅⎝l  - 3⎠⋅cos⎜q₃ + ─⎟                         \n",
       "⎣                                            ⎝     4⎠                         \n",
       "\n",
       "    3   ⎛ 2    ⎞    ⎛     π⎞                       ___    3   ⎛ 2    ⎞    ⎛   \n",
       "⋅l⋅r ⋅ρ⋅⎝l  - 3⎠⋅sin⎜q₀ + ─⎟  -0.130899693899575⋅╲╱ 2 ⋅l⋅r ⋅ρ⋅⎝l  - 3⎠⋅cos⎜q₀ \n",
       "                    ⎝     4⎠                                              ⎝   \n",
       "                                                                              \n",
       "      2   ⎛   2    ⎞                                                          \n",
       "49⋅l⋅r ⋅ρ⋅⎝- l  + 3⎠                                   0                      \n",
       "                                                                              \n",
       "                                                                              \n",
       "                                                           2   ⎛   2    ⎞     \n",
       "  0                                   0.261799387799149⋅l⋅r ⋅ρ⋅⎝- l  + 3⎠     \n",
       "                                                                              \n",
       "\n",
       "  π⎞⎤\n",
       "+ ─⎟⎥\n",
       "  4⎠⎥\n",
       "    ⎥\n",
       "    ⎥\n",
       "    ⎥\n",
       "    ⎥\n",
       "    ⎥\n",
       "    ⎥\n",
       "    ⎥\n",
       "    ⎦"
      ]
     },
     "metadata": {},
     "output_type": "display_data"
    },
    {
     "name": "stdout",
     "output_type": "stream",
     "text": [
      "\n",
      "M_21.T = \n"
     ]
    },
    {
     "data": {
      "text/latex": [
       "$$\\left[\\begin{matrix}- 0.174532925199433 l r^{4} \\rho \\left(l^{2} - 3\\right) \\cos{\\left (q_{0} - q_{3} \\right )} & 0.130899693899575 \\sqrt{2} l r^{3} \\rho \\left(l^{2} - 3\\right) \\sin{\\left (q_{0} + \\frac{\\pi}{4} \\right )} & - 0.130899693899575 \\sqrt{2} l r^{3} \\rho \\left(l^{2} - 3\\right) \\cos{\\left (q_{0} + \\frac{\\pi}{4} \\right )}\\\\0.130899693899575 \\sqrt{2} l r^{3} \\rho \\left(l^{2} - 3\\right) \\sin{\\left (q_{3} + \\frac{\\pi}{4} \\right )} & 0.261799387799149 l r^{2} \\rho \\left(- l^{2} + 3\\right) & 0\\\\- 0.130899693899575 \\sqrt{2} l r^{3} \\rho \\left(l^{2} - 3\\right) \\cos{\\left (q_{3} + \\frac{\\pi}{4} \\right )} & 0 & 0.261799387799149 l r^{2} \\rho \\left(- l^{2} + 3\\right)\\end{matrix}\\right]$$"
      ],
      "text/plain": [
       "⎡                        4   ⎛ 2    ⎞                                      ___\n",
       "⎢  -0.174532925199433⋅l⋅r ⋅ρ⋅⎝l  - 3⎠⋅cos(q₀ - q₃)     0.130899693899575⋅╲╱ 2 \n",
       "⎢                                                                             \n",
       "⎢                                                                             \n",
       "⎢                    ___    3   ⎛ 2    ⎞    ⎛     π⎞                          \n",
       "⎢0.130899693899575⋅╲╱ 2 ⋅l⋅r ⋅ρ⋅⎝l  - 3⎠⋅sin⎜q₃ + ─⎟           0.2617993877991\n",
       "⎢                                           ⎝     4⎠                          \n",
       "⎢                                                                             \n",
       "⎢                     ___    3   ⎛ 2    ⎞    ⎛     π⎞                         \n",
       "⎢-0.130899693899575⋅╲╱ 2 ⋅l⋅r ⋅ρ⋅⎝l  - 3⎠⋅cos⎜q₃ + ─⎟                         \n",
       "⎣                                            ⎝     4⎠                         \n",
       "\n",
       "    3   ⎛ 2    ⎞    ⎛     π⎞                       ___    3   ⎛ 2    ⎞    ⎛   \n",
       "⋅l⋅r ⋅ρ⋅⎝l  - 3⎠⋅sin⎜q₀ + ─⎟  -0.130899693899575⋅╲╱ 2 ⋅l⋅r ⋅ρ⋅⎝l  - 3⎠⋅cos⎜q₀ \n",
       "                    ⎝     4⎠                                              ⎝   \n",
       "                                                                              \n",
       "      2   ⎛   2    ⎞                                                          \n",
       "49⋅l⋅r ⋅ρ⋅⎝- l  + 3⎠                                   0                      \n",
       "                                                                              \n",
       "                                                                              \n",
       "                                                           2   ⎛   2    ⎞     \n",
       "  0                                   0.261799387799149⋅l⋅r ⋅ρ⋅⎝- l  + 3⎠     \n",
       "                                                                              \n",
       "\n",
       "  π⎞⎤\n",
       "+ ─⎟⎥\n",
       "  4⎠⎥\n",
       "    ⎥\n",
       "    ⎥\n",
       "    ⎥\n",
       "    ⎥\n",
       "    ⎥\n",
       "    ⎥\n",
       "    ⎥\n",
       "    ⎦"
      ]
     },
     "metadata": {},
     "output_type": "display_data"
    }
   ],
   "source": [
    "# print('\\nM = \\n')\n",
    "# display(M)\n",
    "\n",
    "print('M_11 = ')\n",
    "display(M[0:3,0:3])\n",
    "print('\\nM_22 = ')\n",
    "display(M[3:6,3:6])\n",
    "print('\\nM_12 = ')\n",
    "display(M[0:3,3:6])\n",
    "print('\\nM_21.T = ')\n",
    "display(M[3:6,0:3].T)"
   ]
  },
  {
   "cell_type": "markdown",
   "metadata": {},
   "source": [
    "### Compute Internal forces "
   ]
  },
  {
   "cell_type": "markdown",
   "metadata": {},
   "source": [
    "#### 1. Transverse (Bending) Strain"
   ]
  },
  {
   "cell_type": "code",
   "execution_count": 20,
   "metadata": {
    "collapsed": false
   },
   "outputs": [],
   "source": [
    "# Orthogonal Matricies Not Extracted to Simplify Algebra\n",
    "R_interp = sym.simplify(H*sym.Matrix([R1,R2]))\n",
    "dT = sym.simplify(H.diff(x)*sym.Matrix([R1,R2]))\n",
    "kappa = sym.simplify(sym.Matrix([Axial_sym(dT*R_interp.T),'0','0','0']))\n",
    "# display(kappa)"
   ]
  },
  {
   "cell_type": "markdown",
   "metadata": {},
   "source": [
    "#### 2. Longitudinal (Axial) Strian"
   ]
  },
  {
   "cell_type": "code",
   "execution_count": 21,
   "metadata": {
    "collapsed": false
   },
   "outputs": [],
   "source": [
    "# Define Locations of Centroid \n",
    "x0 = sym.Matrix(['x','0'])\n",
    "\n",
    "# Define Newtonian Unit Vector x-dir\n",
    "n1 = sym.Matrix(['1','0'])\n",
    "\n",
    "# Interpolate Displacemnts\n",
    "u_int = H*u\n",
    "\n",
    "# Derivatives w.r.t longitudinal beam coordinate\n",
    "du = u_int.diff(x)\n",
    "dx0 = x0.diff(x)\n",
    "\n",
    "# Compute axial strain\n",
    "u_ax = dx0 + du - R_interp*n1\n",
    "epsilon = sym.simplify(sym.Matrix(['0', u_ax[0], '0', u_ax[1]]))\n",
    "# display(epsilon)"
   ]
  },
  {
   "cell_type": "markdown",
   "metadata": {},
   "source": [
    "#### 3. Compute Internal Forces $Q_e = \\frac{\\partial U}{\\partial e}$"
   ]
  },
  {
   "cell_type": "code",
   "execution_count": 22,
   "metadata": {
    "collapsed": false
   },
   "outputs": [],
   "source": [
    "\"\"\"\n",
    "Note: Sympy bug! Integrating a matrix returns a vector!!!\n",
    "\"\"\"\n",
    "# derivative of shapefunction matrix\n",
    "dHdx = H.diff(x)\n",
    "\n",
    "# Transverse strain energy\n",
    "kappa_squared = (kappa.T*dHdx.T).dot(dHdx*kappa)\n",
    "Ut = 1/2*sym.integrate(E*I*kappa_squared, (x,0,l))\n",
    "\n",
    "# Longitudinal strain energy\n",
    "epsilon_squared = (epsilon.T*dHdx.T).dot(dHdx*epsilon)\n",
    "Ul = 1/2*sym.integrate(E*A*epsilon_squared, (x,0,l))\n",
    "\n",
    "# Compute Total Energy\n",
    "U = Ul + Ut\n",
    "\n",
    "# Compute Internal Force Vector\n",
    "Qe = sym.Matrix([sym.simplify(sym.expand(sym.diff(-U,qi))) for qi in q])"
   ]
  },
  {
   "cell_type": "markdown",
   "metadata": {},
   "source": [
    "####4. Applied and body force vector"
   ]
  },
  {
   "cell_type": "code",
   "execution_count": 23,
   "metadata": {
    "collapsed": false
   },
   "outputs": [],
   "source": [
    "# Applied forces\n",
    "# Gravity body force\n",
    "fg = -9.81*rho*np.pi*sym.Matrix([0,1])\n",
    "\n",
    "# Applied torque (not considered at this time, no partial angular velocities)\n",
    "# torque_app = sym.Matrix([0,0,tau_a])\n",
    "\n",
    "# Compute beta\n",
    "beta = sym.Matrix([sym.simplify(sym.integrate(Vr[:,j].dot(fg),('r_x',0,r),('r_y',0,r),(x,0,l)))\n",
    "                   + qe for j,qe in zip(range(len(q)),Qe)])\n",
    "# pickle.dump( beta, open( \"gebf-force-vector.dump\", \"wb\" ) )"
   ]
  },
  {
   "cell_type": "code",
   "execution_count": 24,
   "metadata": {
    "collapsed": true
   },
   "outputs": [],
   "source": [
    "# pickle.dump(U, open(\"strain_energy\", \"wb\"))"
   ]
  },
  {
   "cell_type": "code",
   "execution_count": 25,
   "metadata": {
    "collapsed": false
   },
   "outputs": [],
   "source": [
    "from sympy import lambdify\n",
    "M_func    = lambdify((E, A, I, r, rho, l, q),    M, \"numpy\")\n",
    "beta_func = lambdify((E, A, I, r, rho, l, q), beta, \"numpy\")"
   ]
  },
  {
   "cell_type": "code",
   "execution_count": 26,
   "metadata": {
    "collapsed": false
   },
   "outputs": [
    {
     "data": {
      "text/plain": [
       "matrix([[-0.    ],\n",
       "        [-0.    ],\n",
       "        [-5.5173],\n",
       "        [-0.    ],\n",
       "        [ 0.    ],\n",
       "        [-6.2217]])"
      ]
     },
     "execution_count": 26,
     "metadata": {},
     "output_type": "execute_result"
    }
   ],
   "source": [
    "beta_num = beta_func(0.7e6, 0.0018, 1.215e-8, np.sqrt(0.0018/np.pi), 5540, 0.12, np.zeros_like(q))\n",
    "M_num    = M_func(   0.7e6, 0.0018, 1.215e-8, np.sqrt(0.0018/np.pi), 5540, 0.12, np.zeros_like(q))\n",
    "beta_num"
   ]
  },
  {
   "cell_type": "code",
   "execution_count": 27,
   "metadata": {
    "collapsed": false
   },
   "outputs": [],
   "source": [
    "M11 = np.array(M_num[0:3,0:3])\n",
    "M12 = np.array(M_num[0:3,3:6])\n",
    "M21 = np.array(M_num[3:6,0:3])\n",
    "M22 = np.array(M_num[3:6,3:6])\n",
    "\n",
    "# For now use these definitions to cast Fic (constraint forces between GEBF elements) \n",
    "# into generalized constraint forces\n",
    "gamma11 = np.eye(3)\n",
    "gamma12 = np.zeros((3,3))\n",
    "gamma22 = np.eye(3)\n",
    "gamma21 = np.zeros((3,3))\n",
    "\n",
    "# partition beta into lambda13 and lambda23\n",
    "gamma13 = np.array(beta_num[0:3])\n",
    "gamma23 = np.array(beta_num[3:6])\n",
    "\n",
    "\n",
    "# Commonly inverted quantities\n",
    "iM11 = np.linalg.inv(M11)\n",
    "iM22 = np.linalg.inv(M22)\n",
    "Gamma1 = np.linalg.inv(M11 - M12.dot(iM22.dot(M21)))\n",
    "Gamma2 = np.linalg.inv(M22 - M21.dot(iM11.dot(M12)))\n",
    "\n",
    "# Compute all terms of the two handle equations\n",
    "z11 = Gamma1.dot(gamma11 - M12.dot(iM22.dot(gamma21)))\n",
    "z12 = Gamma1.dot(gamma12 - M12.dot(iM22.dot(gamma22)))\n",
    "z21 = Gamma2.dot(gamma21 - M21.dot(iM11.dot(gamma11)))\n",
    "z22 = Gamma2.dot(gamma22 - M21.dot(iM11.dot(gamma12)))\n",
    "\n",
    "z13 = Gamma1.dot(gamma13 - M12.dot(iM22.dot(gamma23))).reshape((3,1))\n",
    "z23 = Gamma2.dot(gamma23 - M21.dot(iM11.dot(gamma13))).reshape((3,1))"
   ]
  },
  {
   "cell_type": "code",
   "execution_count": 28,
   "metadata": {
    "collapsed": false
   },
   "outputs": [
    {
     "name": "stdout",
     "output_type": "stream",
     "text": [
      "[[ 1229.5012]\n",
      " [   14.715 ]\n",
      " [  -24.525 ]]\n",
      "\n",
      "[[ 1229.5012]\n",
      " [   14.715 ]\n",
      " [  -24.525 ]]\n"
     ]
    }
   ],
   "source": [
    "print(z13)\n",
    "print()\n",
    "print(z23)"
   ]
  },
  {
   "cell_type": "code",
   "execution_count": null,
   "metadata": {
    "collapsed": true
   },
   "outputs": [],
   "source": []
  },
  {
   "cell_type": "code",
   "execution_count": null,
   "metadata": {
    "collapsed": true
   },
   "outputs": [],
   "source": []
  }
 ],
 "metadata": {
  "kernelspec": {
   "display_name": "Python 3",
   "language": "python",
   "name": "python3"
  },
  "language_info": {
   "codemirror_mode": {
    "name": "ipython",
    "version": 3
   },
   "file_extension": ".py",
   "mimetype": "text/x-python",
   "name": "python",
   "nbconvert_exporter": "python",
   "pygments_lexer": "ipython3",
   "version": "3.4.3"
  }
 },
 "nbformat": 4,
 "nbformat_minor": 0
}

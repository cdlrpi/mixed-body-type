{
 "cells": [
  {
   "cell_type": "markdown",
   "metadata": {},
   "source": [
    "## This notebook runs a simulation of a rope using ANCF elements to model the flexibility and the DCA to form and solve the equations of motion"
   ]
  },
  {
   "cell_type": "code",
   "execution_count": 1,
   "metadata": {
    "collapsed": false
   },
   "outputs": [],
   "source": [
    "import math\n",
    "import pickle \n",
    "import numpy as np\n",
    "import scipy as sp\n",
    "import sympy as sym\n",
    "import matplotlib.pyplot as plt\n",
    "import MBstructs as MB\n",
    "import MultiBodyFuncts as MBF\n",
    "import dca_recursive\n",
    "import contextlib\n",
    "\n",
    "from numpy.linalg import inv\n",
    "from scipy.integrate import odeint\n",
    "\n",
    "%matplotlib inline"
   ]
  },
  {
   "cell_type": "code",
   "execution_count": 2,
   "metadata": {
    "collapsed": false
   },
   "outputs": [],
   "source": [
    "@contextlib.contextmanager\n",
    "def printoptions(*args, **kwargs):\n",
    "    original = np.get_printoptions()\n",
    "    np.set_printoptions(*args, **kwargs)\n",
    "    yield \n",
    "    np.set_printoptions(**original)"
   ]
  },
  {
   "cell_type": "code",
   "execution_count": 3,
   "metadata": {
    "collapsed": true
   },
   "outputs": [],
   "source": [
    "# system specific kinematic sweep\n",
    "# this really just updates the orientation of the GEBF element\n",
    "def kinematics(bodies,state):\n",
    "    \n",
    "    # slice state into 'qs' for each element \n",
    "    qe = state[:len(state0)/2:3]\n",
    "    theta = np.cumsum(qe)\n",
    "    \n",
    "    # slice into the two rotational coordinates for each body\n",
    "    theta1 = theta[0::2]\n",
    "    theta2 = theta[1::2]\n",
    "    for body,q0,q3 in zip(bodies,theta1, theta2):\n",
    "        body.theta1 = q0\n",
    "        body.theta2 = q3"
   ]
  },
  {
   "cell_type": "code",
   "execution_count": 4,
   "metadata": {
    "collapsed": false
   },
   "outputs": [],
   "source": [
    "# q0GEBF = [[1, 0, 0, 1, 0, 0] for i in range(nGEBF)]\n",
    "# q0GEBF[0][0] = np.pi/2\n",
    "# u0GEBF = [[11, 0.0, 0.0, 11, 0.0, 0.0] for i in range(nGEBF)]\n",
    "\n",
    "# # q0RIGID =  [[np.pi/2]] + [[0.0 for i in range(ndofsRIGID)] for i in range(nRIGID)]\n",
    "# # u0RIGID =  [[0] for i in range(nRIGID)]\n",
    "\n",
    "# q0 = np.array([q for pos in q0GEBF for q in pos]).squeeze()\n",
    "# u0 = np.array([q for pos in u0GEBF for q in pos]).squeeze()\n",
    "# state0 = np.hstack((q0,u0))\n",
    "\n",
    "# print(state0)"
   ]
  },
  {
   "cell_type": "code",
   "execution_count": 5,
   "metadata": {
    "collapsed": false
   },
   "outputs": [],
   "source": [
    "# qe = state0[:len(state0)/2:3]\n",
    "# print(qe)\n",
    "# theta = np.cumsum(qe)\n",
    "# print(theta)\n",
    "# ue = state0[len(state0)/2::3]\n",
    "# print(ue)\n",
    "# theta_dot = np.cumsum(ue)\n",
    "# print(theta_dot)"
   ]
  },
  {
   "cell_type": "code",
   "execution_count": 6,
   "metadata": {
    "collapsed": false
   },
   "outputs": [],
   "source": [
    "#  [theta[0]] + q0GEBF[0][1:3] + [theta[1]] + q0GEBF[0][4:6]"
   ]
  },
  {
   "cell_type": "code",
   "execution_count": 7,
   "metadata": {
    "collapsed": false
   },
   "outputs": [],
   "source": [
    "# qe[1:2]"
   ]
  },
  {
   "cell_type": "code",
   "execution_count": 8,
   "metadata": {
    "collapsed": false
   },
   "outputs": [],
   "source": [
    "# u = state0[:len(state0)/2].tolist()\n",
    "# # print(u)\n",
    "# uu = [u[i*ndofsGEBF:(i*ndofsGEBF)+ndofsGEBF] for i in range((int(len(u)/ndofsGEBF)))]\n",
    "# print('uu = ',uu)\n",
    "# for sublist in uu:\n",
    "#     print('ui = ', sublist)\n",
    "#     sublist.pop(3)\n",
    "#     print('ui = ', sublist)\n",
    "#     sublist.pop(0) \n",
    "#     print('ui = ', sublist)\n",
    "# print(uu)"
   ]
  },
  {
   "cell_type": "code",
   "execution_count": 9,
   "metadata": {
    "collapsed": false
   },
   "outputs": [],
   "source": [
    "# uu[0][:2]\n",
    "# uu[0][2:]"
   ]
  },
  {
   "cell_type": "code",
   "execution_count": 10,
   "metadata": {
    "collapsed": false
   },
   "outputs": [],
   "source": [
    "def simulate(state, tspan, nbodies, bodies, joints, BC1, BC2):\n",
    "    \"\"\"\n",
    "    This function calls the kinematic update and extracts\n",
    "    the generalized coordinated from the accelerations\n",
    "    \"\"\" \n",
    "   \n",
    "    # update the kinematics of the body\n",
    "    kinematics(bodies,state)\n",
    "\n",
    "    # slice out generalized cooridnates\n",
    "    # and make a sublist for each body\n",
    "    u = state[:len(state)/2].tolist()\n",
    "    u = [u[i*6:(i*6)+6] for i in range((int(len(u)/6)))]\n",
    "\n",
    "    # 'pop' off the rotational coordinates \n",
    "    # those are dealt with through the 'kinematic' sweep\n",
    "    for ue in u:\n",
    "        ue.pop(3)\n",
    "        ue.pop(0)\n",
    "        \n",
    "    # compute the inverse inertial properties of the body \n",
    "    # with the updated generalized \n",
    "    for body,ue in zip(bodies,u):\n",
    "        body.intProps('gebf',ue)\n",
    "    \n",
    "    # DCA returns the eddot vector\n",
    "    sol = dca_recursive.solve(nbodies,0,bodies,joints,BC1,BC2)\n",
    "    \n",
    "    qddot = np.array([qddot for qddot_body in sol for qddot in qddot_body],dtype=np.double).reshape(nGEBF*6)\n",
    "    state_dot = np.hstack((state[len(state)/2:],qddot))\n",
    "    return state_dot "
   ]
  },
  {
   "cell_type": "markdown",
   "metadata": {},
   "source": [
    "### System Variables"
   ]
  },
  {
   "cell_type": "code",
   "execution_count": 11,
   "metadata": {
    "collapsed": false
   },
   "outputs": [],
   "source": [
    "# number of bodies and GEBF elements and kinematic joints\n",
    "nGEBF = 2\n",
    "nRIGID = 0\n",
    "nJKIN = 1\n",
    "nbodies = nGEBF + nRIGID\n",
    "\n",
    "# number of degrees of freedom for the \n",
    "# 2D-GEBF element with a single planar rotation \n",
    "# and two planar displacements (2 nodes per element)\n",
    "ndofsGEBF = 6\n",
    "ndofsKIN  = 1 # (one pin joint)"
   ]
  },
  {
   "cell_type": "markdown",
   "metadata": {},
   "source": [
    "### Initial Conditions"
   ]
  },
  {
   "cell_type": "code",
   "execution_count": 12,
   "metadata": {
    "collapsed": false
   },
   "outputs": [],
   "source": [
    "# start the rope from the horizontal \n",
    "# Compute initial generalized coordinates\n",
    "# q = [theta1, u_1x, u_1y, theta2, u_2x','u_2y']\n",
    "# u = q_dot\n",
    "# state = [q, u]\n",
    "\n",
    "# sublists handy for initilization of bodies \n",
    "q0GEBF = [[0 for i in range(ndofsGEBF)] for i in range(nGEBF)]\n",
    "q0GEBF[0][0] = np.pi/2\n",
    "u0GEBF = [[0 for i in range(ndofsGEBF)] for i in range(nGEBF)]\n",
    "\n",
    "# flatten sub-lists into a single state vector\n",
    "q0 = np.array([q for q_body in q0GEBF for q in q_body],dtype=np.double).squeeze()\n",
    "u0 = np.array([u for u_body in u0GEBF for u in u_body],dtype=np.double).squeeze()\n",
    "state0 = np.hstack((q0,u0))\n",
    "# print(state0)"
   ]
  },
  {
   "cell_type": "markdown",
   "metadata": {},
   "source": [
    "### Initilize the joints and bodies of the system \n",
    "12 GEBF bodies hooked to the ground by one kinematic joint"
   ]
  },
  {
   "cell_type": "code",
   "execution_count": null,
   "metadata": {
    "collapsed": false
   },
   "outputs": [],
   "source": [
    "# Create a list of Joints\n",
    "jointsKIN = [MB.Joint('revolute2D') for i in range(nJKIN)]\n",
    "jointsGEBF = [MB.Joint('gebf') for i in range (nGEBF-1)]\n",
    "joints = jointsKIN + jointsGEBF\n",
    "\n",
    "# GEBF-Properties\n",
    "# Physical Properties\n",
    "A   =  0.0018\n",
    "I   =  1.215e-8\n",
    "L   =  1.2\n",
    "r   =  math.sqrt(A/math.pi)\n",
    "l   =  L/nGEBF\n",
    "\n",
    "# Material Properties\n",
    "E   =  0.7e6\n",
    "rho =  5540\n",
    "\n",
    "bodiesGEBF = [MB.Body() for i in range(nGEBF)]\n",
    "for body in bodiesGEBF:\n",
    "    body.initialize('gebf', E, A, I, r, rho, l)\n",
    "bodies = bodiesGEBF"
   ]
  },
  {
   "cell_type": "markdown",
   "metadata": {},
   "source": [
    "### Integration"
   ]
  },
  {
   "cell_type": "code",
   "execution_count": null,
   "metadata": {
    "collapsed": false
   },
   "outputs": [],
   "source": [
    "# Length of time of the simulation\n",
    "tspan = np.arange(0,5,.0001)\n",
    "# odeint is the numerical integrator used\n",
    "state = odeint(simulate,state0,tspan,(nbodies,bodies,joints,2,1))"
   ]
  },
  {
   "cell_type": "code",
   "execution_count": null,
   "metadata": {
    "collapsed": false
   },
   "outputs": [],
   "source": [
    "# # update the kinematics of the body\n",
    "# kinematics(bodies,state0)\n",
    "\n",
    "# # slice out u's (displacements not qdot) \n",
    "# # and make a sublist for each body\n",
    "# u = state0[:len(state0)/2].tolist()\n",
    "# u = [u[i*6:(i*6)+6] for i in range((int(len(u)/6)))]\n",
    "# for ue in u:\n",
    "#     ue.pop(3)\n",
    "#     ue.pop(0)\n",
    "# for body,ue in zip(bodies,u):\n",
    "#     body.intProps('gebf',ue)\n",
    "\n",
    "# # DCA returns the eddot vector\n",
    "# sol = dca_recursive.solve(nbodies,0,bodies,joints,2,1)"
   ]
  },
  {
   "cell_type": "code",
   "execution_count": null,
   "metadata": {
    "collapsed": true
   },
   "outputs": [],
   "source": [
    "# [q for q_body in q0GEBF for q in q_body]"
   ]
  },
  {
   "cell_type": "code",
   "execution_count": null,
   "metadata": {
    "collapsed": false
   },
   "outputs": [],
   "source": [
    "# np.array([qddot for qddot_body in sol for qddot in qddot_body]).reshape(nGEBF*6)"
   ]
  },
  {
   "cell_type": "code",
   "execution_count": null,
   "metadata": {
    "collapsed": true
   },
   "outputs": [],
   "source": []
  },
  {
   "cell_type": "code",
   "execution_count": null,
   "metadata": {
    "collapsed": true
   },
   "outputs": [],
   "source": []
  }
 ],
 "metadata": {
  "kernelspec": {
   "display_name": "Python 3",
   "language": "python",
   "name": "python3"
  },
  "language_info": {
   "codemirror_mode": {
    "name": "ipython",
    "version": 3
   },
   "file_extension": ".py",
   "mimetype": "text/x-python",
   "name": "python",
   "nbconvert_exporter": "python",
   "pygments_lexer": "ipython3",
   "version": "3.4.3"
  }
 },
 "nbformat": 4,
 "nbformat_minor": 0
}

{
 "cells": [
  {
   "cell_type": "markdown",
   "metadata": {},
   "source": [
    "# Beam Element - This notebook computes the mass-matrix and body-forces for later use"
   ]
  },
  {
   "cell_type": "code",
   "execution_count": 1,
   "metadata": {
    "collapsed": false
   },
   "outputs": [],
   "source": [
    "import numpy as np\n",
    "import scipy as sp\n",
    "import sympy as sym\n",
    "import pickle\n",
    "\n",
    "from scipy import linalg\n",
    "from sympy import mpmath\n",
    "from sympy import cos, sin\n",
    "from sympy import lambdify\n",
    "\n",
    "from IPython.display import display\n",
    "from __future__ import division\n",
    "from sympy.interactive import printing\n",
    "printing.init_printing(use_latex=True)\n",
    "np.set_printoptions(precision=4,suppress=True)\n",
    "from sympy.interactive import printing\n",
    "\n",
    "\n",
    "import matplotlib.pyplot as plt\n",
    "%matplotlib inline"
   ]
  },
  {
   "cell_type": "markdown",
   "metadata": {},
   "source": [
    "#### Define Needed Functions"
   ]
  },
  {
   "cell_type": "code",
   "execution_count": 2,
   "metadata": {
    "collapsed": false
   },
   "outputs": [],
   "source": [
    "def Skew_sym(v):\n",
    "    \"\"\"\n",
    "    This function returns the skew symetric matrix \n",
    "    of the vector 'v' to affect the cross product of 'v'x'u'\n",
    "    \"\"\"\n",
    "    v_matrix = sym.Matrix([[  0 , -v[2]],\n",
    "                          [v[2],     0]])\n",
    "    return v_matrix"
   ]
  },
  {
   "cell_type": "code",
   "execution_count": 3,
   "metadata": {
    "collapsed": true
   },
   "outputs": [],
   "source": [
    "def Axial_sym(A):\n",
    "    '''\n",
    "    This funtcion returns the vector of the skew-symmectric matrix in 2D\n",
    "    '''\n",
    "    a_vec = 1/2*sym.Matrix([A[1,0] - A[0,1]])\n",
    "    return a_vec"
   ]
  },
  {
   "cell_type": "code",
   "execution_count": 4,
   "metadata": {
    "collapsed": false
   },
   "outputs": [],
   "source": [
    "def Rotate_sym(theta):\n",
    "    \"\"\"\n",
    "    This function returns the symbolic rotation matrix \n",
    "    for the simple 2D-rotation about the third axis\n",
    "    \"\"\"\n",
    "    R = sym.Matrix([[sym.cos(theta),-sym.sin(theta)],\n",
    "                    [sym.sin(theta), sym.cos(theta)]])\n",
    "    return R"
   ]
  },
  {
   "cell_type": "markdown",
   "metadata": {},
   "source": [
    "#### Define symbolic quantites"
   ]
  },
  {
   "cell_type": "code",
   "execution_count": 5,
   "metadata": {
    "collapsed": false
   },
   "outputs": [
    {
     "name": "stdout",
     "output_type": "stream",
     "text": [
      "\n",
      "H = \n"
     ]
    },
    {
     "data": {
      "image/png": "[encoded data removed]",
      "text/latex": [
       "$$\\left[\\begin{matrix}- \\frac{x}{2} + \\frac{1}{2} & 0 & \\frac{x}{2} + \\frac{1}{2} & 0\\\\0 & - \\frac{x}{2} + \\frac{1}{2} & 0 & \\frac{x}{2} + \\frac{1}{2}\\end{matrix}\\right]$$"
      ],
      "text/plain": [
       "⎡  x   1           x   1       ⎤\n",
       "⎢- ─ + ─     0     ─ + ─    0  ⎥\n",
       "⎢  2   2           2   2       ⎥\n",
       "⎢                              ⎥\n",
       "⎢           x   1         x   1⎥\n",
       "⎢   0     - ─ + ─    0    ─ + ─⎥\n",
       "⎣           2   2         2   2⎦"
      ]
     },
     "metadata": {},
     "output_type": "display_data"
    }
   ],
   "source": [
    "# symbolic system parameters \n",
    "E, G, I, A, rho, x, l, r, g  = sym.symbols('E G I A rho x l r g')\n",
    "\n",
    "# Kinematic values of previos nodes (generic)\n",
    "# e.g., omega_node  = omega + qdot\n",
    "theta = sym.Matrix(['theta_1','theta_2'])\n",
    "theta_dot = sym.Matrix(['thetadot_1','thetadot_2'])\n",
    "theta_ddot = sym.Matrix(['thetaddot_1','thetaddot_2'])\n",
    "omega = sym.Matrix(['omega_1','omega_2'])\n",
    "alpha = sym.Matrix(['alpha_1','alpha_2'])\n",
    "\n",
    "# coordinates of the point in the 2D cross-section\n",
    "# of nodes one and two \n",
    "s = sym.Matrix(['r_2','r_3'])\n",
    "\n",
    "# generalized coordinates\n",
    "# one rotation and two displacements per-node (two nodes per element)\n",
    "# in this version generalzied speeds are NOT ALWAYS qdots\n",
    "q = sym.Matrix(sym.symarray('q',6))\n",
    "qdot = sym.Matrix(sym.symarray('qdot',len(q)))\n",
    "qddot = sym.Matrix(sym.symarray('qddot',len(q)))\n",
    "\n",
    "# Deformations of Nodes (u's are not generalized speeds) \n",
    "u = sym.Matrix([q[1:3,0], q[4:6,0]])\n",
    "udot = sym.Matrix([qdot[1:3,0], qdot[4:8,0]])\n",
    "uddot = sym.Matrix([qddot[1:3,0], qddot[4:6,0]])\n",
    "\n",
    "# display([q,qdot,qddot])\n",
    "# display([u,udot,uddot])\n",
    "\n",
    "\n",
    "# Define shape function for element with one node at each end\n",
    "h = sym.symarray('h', 2)\n",
    "h[0] = sym.Rational(1,2)*(1 - x)\n",
    "h[1] = sym.Rational(1,2)*(1 + x)\n",
    "\n",
    "# Compute shape function matrix\n",
    "H = sym.Matrix([h[0]*sym.eye(2), h[1]*sym.eye(2)]).T\n",
    "dHdx = H.diff(x)\n",
    "print('\\nH = ')\n",
    "display(H)"
   ]
  },
  {
   "cell_type": "markdown",
   "metadata": {},
   "source": [
    "### Needed Matrix Quantities"
   ]
  },
  {
   "cell_type": "code",
   "execution_count": 6,
   "metadata": {
    "collapsed": false
   },
   "outputs": [],
   "source": [
    "# Kinematics of the 2D planar SINGLE element\n",
    "theta[0] = q[0]\n",
    "theta[1] = q[0] + q[3]\n",
    "theta_dot[0] = qdot[0]\n",
    "theta_dot[1] = qdot[0] + qdot[3]\n",
    "theta_ddot[0] = qddot[0]\n",
    "theta_ddot[1] = qddot[0] + qddot[3]\n",
    "\n",
    "# Rotation Matricies for each node\n",
    "R1 = Rotate_sym(theta[0])\n",
    "R2 = Rotate_sym(theta[1])\n",
    "\n",
    "# Angular Velocities and Accelerations are trivial for the 2D case\n",
    "# For each node\n",
    "omega1_skew = Skew_sym([0,0,omega[0]])\n",
    "omega2_skew = Skew_sym([0,0,omega[1]])\n",
    "alpha1_skew = Skew_sym([0,0,alpha[0]])\n",
    "alpha2_skew = Skew_sym([0,0,alpha[1]])\n",
    "\n",
    "R_interp = H*sym.Matrix.vstack(R1,R2)\n"
   ]
  },
  {
   "cell_type": "markdown",
   "metadata": {},
   "source": [
    "### Define Kinematics"
   ]
  },
  {
   "cell_type": "code",
   "execution_count": 7,
   "metadata": {
    "collapsed": false
   },
   "outputs": [
    {
     "name": "stdout",
     "output_type": "stream",
     "text": [
      "vp = \n"
     ]
    },
    {
     "data": {
      "image/png": "[encoded data removed]",
      "text/latex": [
       "$$\\left[\\begin{matrix}\\dot{q}_{1} \\left(- \\frac{x}{2} + \\frac{1}{2}\\right) + \\dot{q}_{4} \\left(\\frac{x}{2} + \\frac{1}{2}\\right) + r_{2} \\left(- \\omega_{1} \\left(- \\frac{x}{2} + \\frac{1}{2}\\right) - \\omega_{2} \\left(\\frac{x}{2} + \\frac{1}{2}\\right)\\right) \\left(\\left(- \\frac{x}{2} + \\frac{1}{2}\\right) \\sin{\\left (q_{0} \\right )} + \\left(\\frac{x}{2} + \\frac{1}{2}\\right) \\sin{\\left (q_{0} + q_{3} \\right )}\\right) + r_{3} \\left(- \\omega_{1} \\left(- \\frac{x}{2} + \\frac{1}{2}\\right) - \\omega_{2} \\left(\\frac{x}{2} + \\frac{1}{2}\\right)\\right) \\left(\\left(- \\frac{x}{2} + \\frac{1}{2}\\right) \\cos{\\left (q_{0} \\right )} + \\left(\\frac{x}{2} + \\frac{1}{2}\\right) \\cos{\\left (q_{0} + q_{3} \\right )}\\right)\\\\\\dot{q}_{2} \\left(- \\frac{x}{2} + \\frac{1}{2}\\right) + \\dot{q}_{5} \\left(\\frac{x}{2} + \\frac{1}{2}\\right) + r_{2} \\left(\\omega_{1} \\left(- \\frac{x}{2} + \\frac{1}{2}\\right) + \\omega_{2} \\left(\\frac{x}{2} + \\frac{1}{2}\\right)\\right) \\left(\\left(- \\frac{x}{2} + \\frac{1}{2}\\right) \\cos{\\left (q_{0} \\right )} + \\left(\\frac{x}{2} + \\frac{1}{2}\\right) \\cos{\\left (q_{0} + q_{3} \\right )}\\right) + r_{3} \\left(\\omega_{1} \\left(- \\frac{x}{2} + \\frac{1}{2}\\right) + \\omega_{2} \\left(\\frac{x}{2} + \\frac{1}{2}\\right)\\right) \\left(- \\left(- \\frac{x}{2} + \\frac{1}{2}\\right) \\sin{\\left (q_{0} \\right )} - \\left(\\frac{x}{2} + \\frac{1}{2}\\right) \\sin{\\left (q_{0} + q_{3} \\right )}\\right)\\end{matrix}\\right]$$"
      ],
      "text/plain": [
       "⎡    ⎛  x   1⎞       ⎛x   1⎞      ⎛     ⎛  x   1⎞      ⎛x   1⎞⎞ ⎛⎛  x   1⎞    \n",
       "⎢q̇₁⋅⎜- ─ + ─⎟ + q̇₄⋅⎜─ + ─⎟ + r₂⋅⎜- ω₁⋅⎜- ─ + ─⎟ - ω₂⋅⎜─ + ─⎟⎟⋅⎜⎜- ─ + ─⎟⋅sin\n",
       "⎢    ⎝  2   2⎠       ⎝2   2⎠      ⎝     ⎝  2   2⎠      ⎝2   2⎠⎠ ⎝⎝  2   2⎠    \n",
       "⎢                                                                             \n",
       "⎢     ⎛  x   1⎞       ⎛x   1⎞      ⎛   ⎛  x   1⎞      ⎛x   1⎞⎞ ⎛⎛  x   1⎞     \n",
       "⎢ q̇₂⋅⎜- ─ + ─⎟ + q̇₅⋅⎜─ + ─⎟ + r₂⋅⎜ω₁⋅⎜- ─ + ─⎟ + ω₂⋅⎜─ + ─⎟⎟⋅⎜⎜- ─ + ─⎟⋅cos(\n",
       "⎣     ⎝  2   2⎠       ⎝2   2⎠      ⎝   ⎝  2   2⎠      ⎝2   2⎠⎠ ⎝⎝  2   2⎠     \n",
       "\n",
       "       ⎛x   1⎞             ⎞      ⎛     ⎛  x   1⎞      ⎛x   1⎞⎞ ⎛⎛  x   1⎞    \n",
       "(q₀) + ⎜─ + ─⎟⋅sin(q₀ + q₃)⎟ + r₃⋅⎜- ω₁⋅⎜- ─ + ─⎟ - ω₂⋅⎜─ + ─⎟⎟⋅⎜⎜- ─ + ─⎟⋅cos\n",
       "       ⎝2   2⎠             ⎠      ⎝     ⎝  2   2⎠      ⎝2   2⎠⎠ ⎝⎝  2   2⎠    \n",
       "                                                                              \n",
       "      ⎛x   1⎞             ⎞      ⎛   ⎛  x   1⎞      ⎛x   1⎞⎞ ⎛  ⎛  x   1⎞     \n",
       "q₀) + ⎜─ + ─⎟⋅cos(q₀ + q₃)⎟ + r₃⋅⎜ω₁⋅⎜- ─ + ─⎟ + ω₂⋅⎜─ + ─⎟⎟⋅⎜- ⎜- ─ + ─⎟⋅sin(\n",
       "      ⎝2   2⎠             ⎠      ⎝   ⎝  2   2⎠      ⎝2   2⎠⎠ ⎝  ⎝  2   2⎠     \n",
       "\n",
       "       ⎛x   1⎞             ⎞⎤\n",
       "(q₀) + ⎜─ + ─⎟⋅cos(q₀ + q₃)⎟⎥\n",
       "       ⎝2   2⎠             ⎠⎥\n",
       "                            ⎥\n",
       "      ⎛x   1⎞             ⎞ ⎥\n",
       "q₀) - ⎜─ + ─⎟⋅sin(q₀ + q₃)⎟ ⎥\n",
       "      ⎝2   2⎠             ⎠ ⎦"
      ]
     },
     "metadata": {},
     "output_type": "display_data"
    },
    {
     "name": "stdout",
     "output_type": "stream",
     "text": [
      "\n",
      "ap = \n"
     ]
    },
    {
     "data": {
      "image/png": "[encoded data removed]",
      "text/latex": [
       "$$\\left[\\begin{matrix}\\ddot{q}_{1} \\left(- \\frac{x}{2} + \\frac{1}{2}\\right) + \\ddot{q}_{4} \\left(\\frac{x}{2} + \\frac{1}{2}\\right) + r_{2} \\left(- \\alpha_{1} \\left(- \\frac{x}{2} + \\frac{1}{2}\\right) - \\alpha_{2} \\left(\\frac{x}{2} + \\frac{1}{2}\\right)\\right) \\left(\\left(- \\frac{x}{2} + \\frac{1}{2}\\right) \\sin{\\left (q_{0} \\right )} + \\left(\\frac{x}{2} + \\frac{1}{2}\\right) \\sin{\\left (q_{0} + q_{3} \\right )}\\right) + r_{2} \\left(- \\omega_{1}^{2} \\left(- \\frac{x}{2} + \\frac{1}{2}\\right) - \\omega_{2}^{2} \\left(\\frac{x}{2} + \\frac{1}{2}\\right)\\right) \\left(\\left(- \\frac{x}{2} + \\frac{1}{2}\\right) \\cos{\\left (q_{0} \\right )} + \\left(\\frac{x}{2} + \\frac{1}{2}\\right) \\cos{\\left (q_{0} + q_{3} \\right )}\\right) + r_{3} \\left(- \\alpha_{1} \\left(- \\frac{x}{2} + \\frac{1}{2}\\right) - \\alpha_{2} \\left(\\frac{x}{2} + \\frac{1}{2}\\right)\\right) \\left(\\left(- \\frac{x}{2} + \\frac{1}{2}\\right) \\cos{\\left (q_{0} \\right )} + \\left(\\frac{x}{2} + \\frac{1}{2}\\right) \\cos{\\left (q_{0} + q_{3} \\right )}\\right) + r_{3} \\left(- \\omega_{1}^{2} \\left(- \\frac{x}{2} + \\frac{1}{2}\\right) - \\omega_{2}^{2} \\left(\\frac{x}{2} + \\frac{1}{2}\\right)\\right) \\left(- \\left(- \\frac{x}{2} + \\frac{1}{2}\\right) \\sin{\\left (q_{0} \\right )} - \\left(\\frac{x}{2} + \\frac{1}{2}\\right) \\sin{\\left (q_{0} + q_{3} \\right )}\\right)\\\\\\ddot{q}_{2} \\left(- \\frac{x}{2} + \\frac{1}{2}\\right) + \\ddot{q}_{5} \\left(\\frac{x}{2} + \\frac{1}{2}\\right) + r_{2} \\left(\\alpha_{1} \\left(- \\frac{x}{2} + \\frac{1}{2}\\right) + \\alpha_{2} \\left(\\frac{x}{2} + \\frac{1}{2}\\right)\\right) \\left(\\left(- \\frac{x}{2} + \\frac{1}{2}\\right) \\cos{\\left (q_{0} \\right )} + \\left(\\frac{x}{2} + \\frac{1}{2}\\right) \\cos{\\left (q_{0} + q_{3} \\right )}\\right) + r_{2} \\left(- \\omega_{1}^{2} \\left(- \\frac{x}{2} + \\frac{1}{2}\\right) - \\omega_{2}^{2} \\left(\\frac{x}{2} + \\frac{1}{2}\\right)\\right) \\left(\\left(- \\frac{x}{2} + \\frac{1}{2}\\right) \\sin{\\left (q_{0} \\right )} + \\left(\\frac{x}{2} + \\frac{1}{2}\\right) \\sin{\\left (q_{0} + q_{3} \\right )}\\right) + r_{3} \\left(\\alpha_{1} \\left(- \\frac{x}{2} + \\frac{1}{2}\\right) + \\alpha_{2} \\left(\\frac{x}{2} + \\frac{1}{2}\\right)\\right) \\left(- \\left(- \\frac{x}{2} + \\frac{1}{2}\\right) \\sin{\\left (q_{0} \\right )} - \\left(\\frac{x}{2} + \\frac{1}{2}\\right) \\sin{\\left (q_{0} + q_{3} \\right )}\\right) + r_{3} \\left(- \\omega_{1}^{2} \\left(- \\frac{x}{2} + \\frac{1}{2}\\right) - \\omega_{2}^{2} \\left(\\frac{x}{2} + \\frac{1}{2}\\right)\\right) \\left(\\left(- \\frac{x}{2} + \\frac{1}{2}\\right) \\cos{\\left (q_{0} \\right )} + \\left(\\frac{x}{2} + \\frac{1}{2}\\right) \\cos{\\left (q_{0} + q_{3} \\right )}\\right)\\end{matrix}\\right]$$"
      ],
      "text/plain": [
       "⎡    ⎛  x   1⎞       ⎛x   1⎞      ⎛     ⎛  x   1⎞      ⎛x   1⎞⎞ ⎛⎛  x   1⎞    \n",
       "⎢q̈₁⋅⎜- ─ + ─⎟ + q̈₄⋅⎜─ + ─⎟ + r₂⋅⎜- α₁⋅⎜- ─ + ─⎟ - α₂⋅⎜─ + ─⎟⎟⋅⎜⎜- ─ + ─⎟⋅sin\n",
       "⎢    ⎝  2   2⎠       ⎝2   2⎠      ⎝     ⎝  2   2⎠      ⎝2   2⎠⎠ ⎝⎝  2   2⎠    \n",
       "⎢                                                                             \n",
       "⎢      ⎛  x   1⎞       ⎛x   1⎞      ⎛   ⎛  x   1⎞      ⎛x   1⎞⎞ ⎛⎛  x   1⎞    \n",
       "⎢  q̈₂⋅⎜- ─ + ─⎟ + q̈₅⋅⎜─ + ─⎟ + r₂⋅⎜α₁⋅⎜- ─ + ─⎟ + α₂⋅⎜─ + ─⎟⎟⋅⎜⎜- ─ + ─⎟⋅cos\n",
       "⎣      ⎝  2   2⎠       ⎝2   2⎠      ⎝   ⎝  2   2⎠      ⎝2   2⎠⎠ ⎝⎝  2   2⎠    \n",
       "\n",
       "       ⎛x   1⎞             ⎞      ⎛    2 ⎛  x   1⎞     2 ⎛x   1⎞⎞ ⎛⎛  x   1⎞  \n",
       "(q₀) + ⎜─ + ─⎟⋅sin(q₀ + q₃)⎟ + r₂⋅⎜- ω₁ ⋅⎜- ─ + ─⎟ - ω₂ ⋅⎜─ + ─⎟⎟⋅⎜⎜- ─ + ─⎟⋅c\n",
       "       ⎝2   2⎠             ⎠      ⎝      ⎝  2   2⎠       ⎝2   2⎠⎠ ⎝⎝  2   2⎠  \n",
       "                                                                              \n",
       "       ⎛x   1⎞             ⎞      ⎛    2 ⎛  x   1⎞     2 ⎛x   1⎞⎞ ⎛⎛  x   1⎞  \n",
       "(q₀) + ⎜─ + ─⎟⋅cos(q₀ + q₃)⎟ + r₂⋅⎜- ω₁ ⋅⎜- ─ + ─⎟ - ω₂ ⋅⎜─ + ─⎟⎟⋅⎜⎜- ─ + ─⎟⋅s\n",
       "       ⎝2   2⎠             ⎠      ⎝      ⎝  2   2⎠       ⎝2   2⎠⎠ ⎝⎝  2   2⎠  \n",
       "\n",
       "         ⎛x   1⎞             ⎞      ⎛     ⎛  x   1⎞      ⎛x   1⎞⎞ ⎛⎛  x   1⎞  \n",
       "os(q₀) + ⎜─ + ─⎟⋅cos(q₀ + q₃)⎟ + r₃⋅⎜- α₁⋅⎜- ─ + ─⎟ - α₂⋅⎜─ + ─⎟⎟⋅⎜⎜- ─ + ─⎟⋅c\n",
       "         ⎝2   2⎠             ⎠      ⎝     ⎝  2   2⎠      ⎝2   2⎠⎠ ⎝⎝  2   2⎠  \n",
       "                                                                              \n",
       "         ⎛x   1⎞             ⎞      ⎛   ⎛  x   1⎞      ⎛x   1⎞⎞ ⎛  ⎛  x   1⎞  \n",
       "in(q₀) + ⎜─ + ─⎟⋅sin(q₀ + q₃)⎟ + r₃⋅⎜α₁⋅⎜- ─ + ─⎟ + α₂⋅⎜─ + ─⎟⎟⋅⎜- ⎜- ─ + ─⎟⋅s\n",
       "         ⎝2   2⎠             ⎠      ⎝   ⎝  2   2⎠      ⎝2   2⎠⎠ ⎝  ⎝  2   2⎠  \n",
       "\n",
       "         ⎛x   1⎞             ⎞      ⎛    2 ⎛  x   1⎞     2 ⎛x   1⎞⎞ ⎛  ⎛  x   \n",
       "os(q₀) + ⎜─ + ─⎟⋅cos(q₀ + q₃)⎟ + r₃⋅⎜- ω₁ ⋅⎜- ─ + ─⎟ - ω₂ ⋅⎜─ + ─⎟⎟⋅⎜- ⎜- ─ + \n",
       "         ⎝2   2⎠             ⎠      ⎝      ⎝  2   2⎠       ⎝2   2⎠⎠ ⎝  ⎝  2   \n",
       "                                                                              \n",
       "         ⎛x   1⎞             ⎞      ⎛    2 ⎛  x   1⎞     2 ⎛x   1⎞⎞ ⎛⎛  x   1⎞\n",
       "in(q₀) - ⎜─ + ─⎟⋅sin(q₀ + q₃)⎟ + r₃⋅⎜- ω₁ ⋅⎜- ─ + ─⎟ - ω₂ ⋅⎜─ + ─⎟⎟⋅⎜⎜- ─ + ─⎟\n",
       "         ⎝2   2⎠             ⎠      ⎝      ⎝  2   2⎠       ⎝2   2⎠⎠ ⎝⎝  2   2⎠\n",
       "\n",
       "1⎞           ⎛x   1⎞             ⎞⎤\n",
       "─⎟⋅sin(q₀) - ⎜─ + ─⎟⋅sin(q₀ + q₃)⎟⎥\n",
       "2⎠           ⎝2   2⎠             ⎠⎥\n",
       "                                  ⎥\n",
       "           ⎛x   1⎞             ⎞  ⎥\n",
       "⋅cos(q₀) + ⎜─ + ─⎟⋅cos(q₀ + q₃)⎟  ⎥\n",
       "           ⎝2   2⎠             ⎠  ⎦"
      ]
     },
     "metadata": {},
     "output_type": "display_data"
    }
   ],
   "source": [
    "# Define velocity of element endpoints (nodes)\n",
    "vP = H*udot + H*sym.Matrix.vstack(omega1_skew,omega2_skew)*R_interp*s\n",
    "print('vp = ')\n",
    "display(vP)\n",
    "# Define acceleration of element endpoints (nodes)\n",
    "aP = H*uddot + H*sym.Matrix.vstack(alpha1_skew,alpha2_skew)*R_interp*s + \\\n",
    "               H*sym.Matrix.vstack(omega1_skew*omega1_skew,omega2_skew*omega2_skew)*R_interp*s\n",
    "print('\\nap = ')\n",
    "display(aP)"
   ]
  },
  {
   "cell_type": "markdown",
   "metadata": {},
   "source": [
    "### Compute the Mass Matrix"
   ]
  },
  {
   "cell_type": "code",
   "execution_count": 8,
   "metadata": {
    "collapsed": false,
    "scrolled": true
   },
   "outputs": [
    {
     "name": "stdout",
     "output_type": "stream",
     "text": [
      "\n",
      "VrP = \n"
     ]
    },
    {
     "data": {
      "image/png": "[encoded data removed]",
      "text/latex": [
       "$$\\left[\\begin{matrix}r_{2} \\left(\\frac{x}{2} - \\frac{1}{2}\\right) \\left(\\left(- \\frac{x}{2} + \\frac{1}{2}\\right) \\sin{\\left (q_{0} \\right )} + \\left(\\frac{x}{2} + \\frac{1}{2}\\right) \\sin{\\left (q_{0} + q_{3} \\right )}\\right) + r_{3} \\left(\\frac{x}{2} - \\frac{1}{2}\\right) \\left(\\left(- \\frac{x}{2} + \\frac{1}{2}\\right) \\cos{\\left (q_{0} \\right )} + \\left(\\frac{x}{2} + \\frac{1}{2}\\right) \\cos{\\left (q_{0} + q_{3} \\right )}\\right) & - \\frac{x}{2} + \\frac{1}{2} & 0 & r_{2} \\left(- \\frac{x}{2} - \\frac{1}{2}\\right) \\left(\\left(- \\frac{x}{2} + \\frac{1}{2}\\right) \\sin{\\left (q_{0} \\right )} + \\left(\\frac{x}{2} + \\frac{1}{2}\\right) \\sin{\\left (q_{0} + q_{3} \\right )}\\right) + r_{3} \\left(- \\frac{x}{2} - \\frac{1}{2}\\right) \\left(\\left(- \\frac{x}{2} + \\frac{1}{2}\\right) \\cos{\\left (q_{0} \\right )} + \\left(\\frac{x}{2} + \\frac{1}{2}\\right) \\cos{\\left (q_{0} + q_{3} \\right )}\\right) & \\frac{x}{2} + \\frac{1}{2} & 0\\\\r_{2} \\left(- \\frac{x}{2} + \\frac{1}{2}\\right) \\left(\\left(- \\frac{x}{2} + \\frac{1}{2}\\right) \\cos{\\left (q_{0} \\right )} + \\left(\\frac{x}{2} + \\frac{1}{2}\\right) \\cos{\\left (q_{0} + q_{3} \\right )}\\right) + r_{3} \\left(- \\frac{x}{2} + \\frac{1}{2}\\right) \\left(- \\left(- \\frac{x}{2} + \\frac{1}{2}\\right) \\sin{\\left (q_{0} \\right )} - \\left(\\frac{x}{2} + \\frac{1}{2}\\right) \\sin{\\left (q_{0} + q_{3} \\right )}\\right) & 0 & - \\frac{x}{2} + \\frac{1}{2} & r_{2} \\left(\\frac{x}{2} + \\frac{1}{2}\\right) \\left(\\left(- \\frac{x}{2} + \\frac{1}{2}\\right) \\cos{\\left (q_{0} \\right )} + \\left(\\frac{x}{2} + \\frac{1}{2}\\right) \\cos{\\left (q_{0} + q_{3} \\right )}\\right) + r_{3} \\left(\\frac{x}{2} + \\frac{1}{2}\\right) \\left(- \\left(- \\frac{x}{2} + \\frac{1}{2}\\right) \\sin{\\left (q_{0} \\right )} - \\left(\\frac{x}{2} + \\frac{1}{2}\\right) \\sin{\\left (q_{0} + q_{3} \\right )}\\right) & 0 & \\frac{x}{2} + \\frac{1}{2}\\end{matrix}\\right]$$"
      ],
      "text/plain": [
       "⎡      ⎛x   1⎞ ⎛⎛  x   1⎞           ⎛x   1⎞             ⎞      ⎛x   1⎞ ⎛⎛  x  \n",
       "⎢   r₂⋅⎜─ - ─⎟⋅⎜⎜- ─ + ─⎟⋅sin(q₀) + ⎜─ + ─⎟⋅sin(q₀ + q₃)⎟ + r₃⋅⎜─ - ─⎟⋅⎜⎜- ─ +\n",
       "⎢      ⎝2   2⎠ ⎝⎝  2   2⎠           ⎝2   2⎠             ⎠      ⎝2   2⎠ ⎝⎝  2  \n",
       "⎢                                                                             \n",
       "⎢   ⎛  x   1⎞ ⎛⎛  x   1⎞           ⎛x   1⎞             ⎞      ⎛  x   1⎞ ⎛  ⎛  \n",
       "⎢r₂⋅⎜- ─ + ─⎟⋅⎜⎜- ─ + ─⎟⋅cos(q₀) + ⎜─ + ─⎟⋅cos(q₀ + q₃)⎟ + r₃⋅⎜- ─ + ─⎟⋅⎜- ⎜- \n",
       "⎣   ⎝  2   2⎠ ⎝⎝  2   2⎠           ⎝2   2⎠             ⎠      ⎝  2   2⎠ ⎝  ⎝  \n",
       "\n",
       " 1⎞           ⎛x   1⎞             ⎞       x   1              ⎛  x   1⎞ ⎛⎛  x  \n",
       " ─⎟⋅cos(q₀) + ⎜─ + ─⎟⋅cos(q₀ + q₃)⎟     - ─ + ─     0     r₂⋅⎜- ─ - ─⎟⋅⎜⎜- ─ +\n",
       " 2⎠           ⎝2   2⎠             ⎠       2   2              ⎝  2   2⎠ ⎝⎝  2  \n",
       "                                                                              \n",
       "x   1⎞           ⎛x   1⎞             ⎞             x   1      ⎛x   1⎞ ⎛⎛  x   \n",
       "─ + ─⎟⋅sin(q₀) - ⎜─ + ─⎟⋅sin(q₀ + q₃)⎟     0     - ─ + ─   r₂⋅⎜─ + ─⎟⋅⎜⎜- ─ + \n",
       "2   2⎠           ⎝2   2⎠             ⎠             2   2      ⎝2   2⎠ ⎝⎝  2   \n",
       "\n",
       " 1⎞           ⎛x   1⎞             ⎞      ⎛  x   1⎞ ⎛⎛  x   1⎞           ⎛x   1\n",
       " ─⎟⋅sin(q₀) + ⎜─ + ─⎟⋅sin(q₀ + q₃)⎟ + r₃⋅⎜- ─ - ─⎟⋅⎜⎜- ─ + ─⎟⋅cos(q₀) + ⎜─ + ─\n",
       " 2⎠           ⎝2   2⎠             ⎠      ⎝  2   2⎠ ⎝⎝  2   2⎠           ⎝2   2\n",
       "                                                                              \n",
       "1⎞           ⎛x   1⎞             ⎞      ⎛x   1⎞ ⎛  ⎛  x   1⎞           ⎛x   1⎞\n",
       "─⎟⋅cos(q₀) + ⎜─ + ─⎟⋅cos(q₀ + q₃)⎟ + r₃⋅⎜─ + ─⎟⋅⎜- ⎜- ─ + ─⎟⋅sin(q₀) - ⎜─ + ─⎟\n",
       "2⎠           ⎝2   2⎠             ⎠      ⎝2   2⎠ ⎝  ⎝  2   2⎠           ⎝2   2⎠\n",
       "\n",
       "⎞             ⎞  x   1       ⎤\n",
       "⎟⋅cos(q₀ + q₃)⎟  ─ + ─    0  ⎥\n",
       "⎠             ⎠  2   2       ⎥\n",
       "                             ⎥\n",
       "             ⎞          x   1⎥\n",
       "⋅sin(q₀ + q₃)⎟     0    ─ + ─⎥\n",
       "             ⎠          2   2⎦"
      ]
     },
     "metadata": {},
     "output_type": "display_data"
    }
   ],
   "source": [
    "# generalized speeds need to be omega_i not qdot_i \n",
    "gen_speed = sym.Matrix.vstack(sym.Matrix.vstack(sym.Matrix([omega[0]]), sym.Matrix(qdot[1:3])), \n",
    "    sym.Matrix.vstack(sym.Matrix([omega[1]]), sym.Matrix(qdot[4:6])))\n",
    "\n",
    "# Compute partial velocities of the nodes\n",
    "VrP = sym.Matrix([[sym.diff(v,u) for v in vP] for u in gen_speed]).T\n",
    "print('\\nVrP = ')\n",
    "display(VrP)\n",
    "\n",
    "gen_accel = sym.Matrix.vstack(sym.Matrix.vstack(sym.Matrix([alpha[0]]), sym.Matrix(qddot[1:3])), \n",
    "    sym.Matrix.vstack(sym.Matrix([alpha[1]]), sym.Matrix(qddot[4:6])))\n",
    "\n",
    "# Compute mass matrix\n",
    "M = sym.simplify(sym.Matrix(\n",
    "            [[sym.expand(sym.integrate(VrP[:,i].dot(aP)*rho,('r_2',0,r),('r_3',0,r),(x,0,l))).coeff(gen_accel[j]) \n",
    "              for i in range(len(gen_accel))] for j in range(len(gen_accel))]))"
   ]
  },
  {
   "cell_type": "code",
   "execution_count": 9,
   "metadata": {
    "collapsed": false
   },
   "outputs": [
    {
     "name": "stdout",
     "output_type": "stream",
     "text": [
      "M_11 = \n"
     ]
    },
    {
     "data": {
      "image/png": "[encoded data removed]",
      "text/latex": [
       "$$\\left[\\begin{matrix}\\frac{l \\rho}{360} r^{4} \\left(- 6 l^{4} \\cos{\\left (q_{3} \\right )} + 6 l^{4} + 15 l^{3} \\cos{\\left (q_{3} \\right )} - 15 l^{3} + 20 l^{2} - 30 l \\cos{\\left (q_{3} \\right )} - 30 l + 30 \\cos{\\left (q_{3} \\right )} + 30\\right) & \\frac{l \\rho}{192} \\sqrt{2} r^{3} \\left(3 l^{3} \\sin{\\left (q_{0} + \\frac{\\pi}{4} \\right )} - 3 l^{3} \\sin{\\left (q_{0} + q_{3} + \\frac{\\pi}{4} \\right )} - 12 l^{2} \\sin{\\left (q_{0} + \\frac{\\pi}{4} \\right )} + 4 l^{2} \\sin{\\left (q_{0} + q_{3} + \\frac{\\pi}{4} \\right )} + 18 l \\sin{\\left (q_{0} + \\frac{\\pi}{4} \\right )} + 6 l \\sin{\\left (q_{0} + q_{3} + \\frac{\\pi}{4} \\right )} - 12 \\sin{\\left (q_{0} + \\frac{\\pi}{4} \\right )} - 12 \\sin{\\left (q_{0} + q_{3} + \\frac{\\pi}{4} \\right )}\\right) & \\frac{l \\rho}{192} \\sqrt{2} r^{3} \\left(- 3 l^{3} \\cos{\\left (q_{0} + \\frac{\\pi}{4} \\right )} + 3 l^{3} \\cos{\\left (q_{0} + q_{3} + \\frac{\\pi}{4} \\right )} + 12 l^{2} \\cos{\\left (q_{0} + \\frac{\\pi}{4} \\right )} - 4 l^{2} \\cos{\\left (q_{0} + q_{3} + \\frac{\\pi}{4} \\right )} - 18 l \\cos{\\left (q_{0} + \\frac{\\pi}{4} \\right )} - 6 l \\cos{\\left (q_{0} + q_{3} + \\frac{\\pi}{4} \\right )} + 12 \\cos{\\left (q_{0} + \\frac{\\pi}{4} \\right )} + 12 \\cos{\\left (q_{0} + q_{3} + \\frac{\\pi}{4} \\right )}\\right)\\\\\\frac{l \\rho}{192} \\sqrt{2} r^{3} \\left(3 l^{3} \\sin{\\left (q_{0} + \\frac{\\pi}{4} \\right )} - 3 l^{3} \\sin{\\left (q_{0} + q_{3} + \\frac{\\pi}{4} \\right )} - 12 l^{2} \\sin{\\left (q_{0} + \\frac{\\pi}{4} \\right )} + 4 l^{2} \\sin{\\left (q_{0} + q_{3} + \\frac{\\pi}{4} \\right )} + 18 l \\sin{\\left (q_{0} + \\frac{\\pi}{4} \\right )} + 6 l \\sin{\\left (q_{0} + q_{3} + \\frac{\\pi}{4} \\right )} - 12 \\sin{\\left (q_{0} + \\frac{\\pi}{4} \\right )} - 12 \\sin{\\left (q_{0} + q_{3} + \\frac{\\pi}{4} \\right )}\\right) & \\frac{l \\rho}{12} r^{2} \\left(l^{2} - 3 l + 3\\right) & 0\\\\\\frac{l \\rho}{192} \\sqrt{2} r^{3} \\left(- 3 l^{3} \\cos{\\left (q_{0} + \\frac{\\pi}{4} \\right )} + 3 l^{3} \\cos{\\left (q_{0} + q_{3} + \\frac{\\pi}{4} \\right )} + 12 l^{2} \\cos{\\left (q_{0} + \\frac{\\pi}{4} \\right )} - 4 l^{2} \\cos{\\left (q_{0} + q_{3} + \\frac{\\pi}{4} \\right )} - 18 l \\cos{\\left (q_{0} + \\frac{\\pi}{4} \\right )} - 6 l \\cos{\\left (q_{0} + q_{3} + \\frac{\\pi}{4} \\right )} + 12 \\cos{\\left (q_{0} + \\frac{\\pi}{4} \\right )} + 12 \\cos{\\left (q_{0} + q_{3} + \\frac{\\pi}{4} \\right )}\\right) & 0 & \\frac{l \\rho}{12} r^{2} \\left(l^{2} - 3 l + 3\\right)\\end{matrix}\\right]$$"
      ],
      "text/plain": [
       "⎡                                                                             \n",
       "⎢                                           4   ⎛     4              4       3\n",
       "⎢                                        l⋅r ⋅ρ⋅⎝- 6⋅l ⋅cos(q₃) + 6⋅l  + 15⋅l \n",
       "⎢                                        ─────────────────────────────────────\n",
       "⎢                                                                             \n",
       "⎢                                                                             \n",
       "⎢   ___    3   ⎛   3    ⎛     π⎞      3    ⎛          π⎞       2    ⎛     π⎞  \n",
       "⎢ ╲╱ 2 ⋅l⋅r ⋅ρ⋅⎜3⋅l ⋅sin⎜q₀ + ─⎟ - 3⋅l ⋅sin⎜q₀ + q₃ + ─⎟ - 12⋅l ⋅sin⎜q₀ + ─⎟ +\n",
       "⎢              ⎝        ⎝     4⎠           ⎝          4⎠            ⎝     4⎠  \n",
       "⎢ ────────────────────────────────────────────────────────────────────────────\n",
       "⎢                                                                             \n",
       "⎢                                                                             \n",
       "⎢  ___    3   ⎛     3    ⎛     π⎞      3    ⎛          π⎞       2    ⎛     π⎞ \n",
       "⎢╲╱ 2 ⋅l⋅r ⋅ρ⋅⎜- 3⋅l ⋅cos⎜q₀ + ─⎟ + 3⋅l ⋅cos⎜q₀ + q₃ + ─⎟ + 12⋅l ⋅cos⎜q₀ + ─⎟ \n",
       "⎢             ⎝          ⎝     4⎠           ⎝          4⎠            ⎝     4⎠ \n",
       "⎢─────────────────────────────────────────────────────────────────────────────\n",
       "⎣                                                                             \n",
       "\n",
       "                                                                              \n",
       "               3       2                                        ⎞             \n",
       "⋅cos(q₃) - 15⋅l  + 20⋅l  - 30⋅l⋅cos(q₃) - 30⋅l + 30⋅cos(q₃) + 30⎠             \n",
       "─────────────────────────────────────────────────────────────────             \n",
       "            360                                                               \n",
       "                                                                              \n",
       "    2    ⎛          π⎞           ⎛     π⎞          ⎛          π⎞         ⎛    \n",
       " 4⋅l ⋅sin⎜q₀ + q₃ + ─⎟ + 18⋅l⋅sin⎜q₀ + ─⎟ + 6⋅l⋅sin⎜q₀ + q₃ + ─⎟ - 12⋅sin⎜q₀ +\n",
       "         ⎝          4⎠           ⎝     4⎠          ⎝          4⎠         ⎝    \n",
       "──────────────────────────────────────────────────────────────────────────────\n",
       "            192                                                               \n",
       "                                                                              \n",
       "     2    ⎛          π⎞           ⎛     π⎞          ⎛          π⎞         ⎛   \n",
       "- 4⋅l ⋅cos⎜q₀ + q₃ + ─⎟ - 18⋅l⋅cos⎜q₀ + ─⎟ - 6⋅l⋅cos⎜q₀ + q₃ + ─⎟ + 12⋅cos⎜q₀ \n",
       "          ⎝          4⎠           ⎝     4⎠          ⎝          4⎠         ⎝   \n",
       "──────────────────────────────────────────────────────────────────────────────\n",
       "            192                                                               \n",
       "\n",
       "                               ___    3   ⎛   3    ⎛     π⎞      3    ⎛       \n",
       "                             ╲╱ 2 ⋅l⋅r ⋅ρ⋅⎜3⋅l ⋅sin⎜q₀ + ─⎟ - 3⋅l ⋅sin⎜q₀ + q₃\n",
       "                                          ⎝        ⎝     4⎠           ⎝       \n",
       "                             ─────────────────────────────────────────────────\n",
       "                                                                              \n",
       "                                                                              \n",
       " π⎞         ⎛          π⎞⎞                                                    \n",
       " ─⎟ - 12⋅sin⎜q₀ + q₃ + ─⎟⎟                                                    \n",
       " 4⎠         ⎝          4⎠⎠                                                    \n",
       "──────────────────────────                                                    \n",
       "                                                                              \n",
       "                                                                              \n",
       "  π⎞         ⎛          π⎞⎞                                                   \n",
       "+ ─⎟ + 12⋅cos⎜q₀ + q₃ + ─⎟⎟                                                   \n",
       "  4⎠         ⎝          4⎠⎠                                                   \n",
       "───────────────────────────                                                   \n",
       "                                                                              \n",
       "\n",
       "   π⎞       2    ⎛     π⎞      2    ⎛          π⎞           ⎛     π⎞          \n",
       " + ─⎟ - 12⋅l ⋅sin⎜q₀ + ─⎟ + 4⋅l ⋅sin⎜q₀ + q₃ + ─⎟ + 18⋅l⋅sin⎜q₀ + ─⎟ + 6⋅l⋅sin\n",
       "   4⎠            ⎝     4⎠           ⎝          4⎠           ⎝     4⎠          \n",
       "──────────────────────────────────────────────────────────────────────────────\n",
       "                                       192                                    \n",
       "                                                                              \n",
       "                                                                              \n",
       "                                 2   ⎛ 2          ⎞                           \n",
       "                              l⋅r ⋅ρ⋅⎝l  - 3⋅l + 3⎠                           \n",
       "                              ─────────────────────                           \n",
       "                                        12                                    \n",
       "                                                                              \n",
       "                                                                              \n",
       "                                                                              \n",
       "                                                                              \n",
       "                                        0                                     \n",
       "                                                                              \n",
       "\n",
       "⎛          π⎞         ⎛     π⎞         ⎛          π⎞⎞    ___    3   ⎛     3   \n",
       "⎜q₀ + q₃ + ─⎟ - 12⋅sin⎜q₀ + ─⎟ - 12⋅sin⎜q₀ + q₃ + ─⎟⎟  ╲╱ 2 ⋅l⋅r ⋅ρ⋅⎜- 3⋅l ⋅co\n",
       "⎝          4⎠         ⎝     4⎠         ⎝          4⎠⎠               ⎝         \n",
       "─────────────────────────────────────────────────────  ───────────────────────\n",
       "                                                                              \n",
       "                                                                              \n",
       "                                                                              \n",
       "                                                                              \n",
       "                                                                              \n",
       "                                                                              \n",
       "                                                                              \n",
       "                                                                              \n",
       "                                                                              \n",
       "                                                                              \n",
       "                                                                              \n",
       "                                                                              \n",
       "                                                                              \n",
       "\n",
       " ⎛     π⎞      3    ⎛          π⎞       2    ⎛     π⎞      2    ⎛          π⎞ \n",
       "s⎜q₀ + ─⎟ + 3⋅l ⋅cos⎜q₀ + q₃ + ─⎟ + 12⋅l ⋅cos⎜q₀ + ─⎟ - 4⋅l ⋅cos⎜q₀ + q₃ + ─⎟ \n",
       " ⎝     4⎠           ⎝          4⎠            ⎝     4⎠           ⎝          4⎠ \n",
       "──────────────────────────────────────────────────────────────────────────────\n",
       "                                                                  192         \n",
       "                                                                              \n",
       "                                                                              \n",
       "                                                                              \n",
       "                                                                              \n",
       "                                                                   0          \n",
       "                                                                              \n",
       "                                                                              \n",
       "                                                                              \n",
       "                                                            2   ⎛ 2          ⎞\n",
       "                                                         l⋅r ⋅ρ⋅⎝l  - 3⋅l + 3⎠\n",
       "                                                         ─────────────────────\n",
       "                                                                   12         \n",
       "\n",
       "          ⎛     π⎞          ⎛          π⎞         ⎛     π⎞         ⎛          \n",
       "- 18⋅l⋅cos⎜q₀ + ─⎟ - 6⋅l⋅cos⎜q₀ + q₃ + ─⎟ + 12⋅cos⎜q₀ + ─⎟ + 12⋅cos⎜q₀ + q₃ + \n",
       "          ⎝     4⎠          ⎝          4⎠         ⎝     4⎠         ⎝          \n",
       "──────────────────────────────────────────────────────────────────────────────\n",
       "                                                                              \n",
       "                                                                              \n",
       "                                                                              \n",
       "                                                                              \n",
       "                                                                              \n",
       "                                                                              \n",
       "                                                                              \n",
       "                                                                              \n",
       "                                                                              \n",
       "                                                                              \n",
       "                                                                              \n",
       "                                                                              \n",
       "                                                                              \n",
       "\n",
       "π⎞⎞⎤\n",
       "─⎟⎟⎥\n",
       "4⎠⎠⎥\n",
       "───⎥\n",
       "   ⎥\n",
       "   ⎥\n",
       "   ⎥\n",
       "   ⎥\n",
       "   ⎥\n",
       "   ⎥\n",
       "   ⎥\n",
       "   ⎥\n",
       "   ⎥\n",
       "   ⎥\n",
       "   ⎥\n",
       "   ⎥\n",
       "   ⎦"
      ]
     },
     "metadata": {},
     "output_type": "display_data"
    },
    {
     "name": "stdout",
     "output_type": "stream",
     "text": [
      "\n",
      "M_22 = \n"
     ]
    },
    {
     "data": {
      "image/png": "[encoded data removed]",
      "text/latex": [
       "$$\\left[\\begin{matrix}\\frac{l \\rho}{360} r^{4} \\left(- 6 l^{4} \\cos{\\left (q_{3} \\right )} + 6 l^{4} - 15 l^{3} \\cos{\\left (q_{3} \\right )} + 15 l^{3} + 20 l^{2} + 30 l \\cos{\\left (q_{3} \\right )} + 30 l + 30 \\cos{\\left (q_{3} \\right )} + 30\\right) & \\frac{l \\rho}{192} \\sqrt{2} r^{3} \\left(3 l^{3} \\sin{\\left (q_{0} + \\frac{\\pi}{4} \\right )} - 3 l^{3} \\sin{\\left (q_{0} + q_{3} + \\frac{\\pi}{4} \\right )} + 4 l^{2} \\sin{\\left (q_{0} + \\frac{\\pi}{4} \\right )} - 12 l^{2} \\sin{\\left (q_{0} + q_{3} + \\frac{\\pi}{4} \\right )} - 6 l \\sin{\\left (q_{0} + \\frac{\\pi}{4} \\right )} - 18 l \\sin{\\left (q_{0} + q_{3} + \\frac{\\pi}{4} \\right )} - 12 \\sin{\\left (q_{0} + \\frac{\\pi}{4} \\right )} - 12 \\sin{\\left (q_{0} + q_{3} + \\frac{\\pi}{4} \\right )}\\right) & \\frac{l \\rho}{192} \\sqrt{2} r^{3} \\left(- 3 l^{3} \\cos{\\left (q_{0} + \\frac{\\pi}{4} \\right )} + 3 l^{3} \\cos{\\left (q_{0} + q_{3} + \\frac{\\pi}{4} \\right )} - 4 l^{2} \\cos{\\left (q_{0} + \\frac{\\pi}{4} \\right )} + 12 l^{2} \\cos{\\left (q_{0} + q_{3} + \\frac{\\pi}{4} \\right )} + 6 l \\cos{\\left (q_{0} + \\frac{\\pi}{4} \\right )} + 18 l \\cos{\\left (q_{0} + q_{3} + \\frac{\\pi}{4} \\right )} + 12 \\cos{\\left (q_{0} + \\frac{\\pi}{4} \\right )} + 12 \\cos{\\left (q_{0} + q_{3} + \\frac{\\pi}{4} \\right )}\\right)\\\\\\frac{l \\rho}{192} \\sqrt{2} r^{3} \\left(3 l^{3} \\sin{\\left (q_{0} + \\frac{\\pi}{4} \\right )} - 3 l^{3} \\sin{\\left (q_{0} + q_{3} + \\frac{\\pi}{4} \\right )} + 4 l^{2} \\sin{\\left (q_{0} + \\frac{\\pi}{4} \\right )} - 12 l^{2} \\sin{\\left (q_{0} + q_{3} + \\frac{\\pi}{4} \\right )} - 6 l \\sin{\\left (q_{0} + \\frac{\\pi}{4} \\right )} - 18 l \\sin{\\left (q_{0} + q_{3} + \\frac{\\pi}{4} \\right )} - 12 \\sin{\\left (q_{0} + \\frac{\\pi}{4} \\right )} - 12 \\sin{\\left (q_{0} + q_{3} + \\frac{\\pi}{4} \\right )}\\right) & \\frac{l \\rho}{12} r^{2} \\left(l^{2} + 3 l + 3\\right) & 0\\\\\\frac{l \\rho}{192} \\sqrt{2} r^{3} \\left(- 3 l^{3} \\cos{\\left (q_{0} + \\frac{\\pi}{4} \\right )} + 3 l^{3} \\cos{\\left (q_{0} + q_{3} + \\frac{\\pi}{4} \\right )} - 4 l^{2} \\cos{\\left (q_{0} + \\frac{\\pi}{4} \\right )} + 12 l^{2} \\cos{\\left (q_{0} + q_{3} + \\frac{\\pi}{4} \\right )} + 6 l \\cos{\\left (q_{0} + \\frac{\\pi}{4} \\right )} + 18 l \\cos{\\left (q_{0} + q_{3} + \\frac{\\pi}{4} \\right )} + 12 \\cos{\\left (q_{0} + \\frac{\\pi}{4} \\right )} + 12 \\cos{\\left (q_{0} + q_{3} + \\frac{\\pi}{4} \\right )}\\right) & 0 & \\frac{l \\rho}{12} r^{2} \\left(l^{2} + 3 l + 3\\right)\\end{matrix}\\right]$$"
      ],
      "text/plain": [
       "⎡                                                                             \n",
       "⎢                                           4   ⎛     4              4       3\n",
       "⎢                                        l⋅r ⋅ρ⋅⎝- 6⋅l ⋅cos(q₃) + 6⋅l  - 15⋅l \n",
       "⎢                                        ─────────────────────────────────────\n",
       "⎢                                                                             \n",
       "⎢                                                                             \n",
       "⎢   ___    3   ⎛   3    ⎛     π⎞      3    ⎛          π⎞      2    ⎛     π⎞   \n",
       "⎢ ╲╱ 2 ⋅l⋅r ⋅ρ⋅⎜3⋅l ⋅sin⎜q₀ + ─⎟ - 3⋅l ⋅sin⎜q₀ + q₃ + ─⎟ + 4⋅l ⋅sin⎜q₀ + ─⎟ - \n",
       "⎢              ⎝        ⎝     4⎠           ⎝          4⎠           ⎝     4⎠   \n",
       "⎢ ────────────────────────────────────────────────────────────────────────────\n",
       "⎢                                                                             \n",
       "⎢                                                                             \n",
       "⎢  ___    3   ⎛     3    ⎛     π⎞      3    ⎛          π⎞      2    ⎛     π⎞  \n",
       "⎢╲╱ 2 ⋅l⋅r ⋅ρ⋅⎜- 3⋅l ⋅cos⎜q₀ + ─⎟ + 3⋅l ⋅cos⎜q₀ + q₃ + ─⎟ - 4⋅l ⋅cos⎜q₀ + ─⎟ +\n",
       "⎢             ⎝          ⎝     4⎠           ⎝          4⎠           ⎝     4⎠  \n",
       "⎢─────────────────────────────────────────────────────────────────────────────\n",
       "⎣                                                                             \n",
       "\n",
       "                                                                              \n",
       "               3       2                                        ⎞             \n",
       "⋅cos(q₃) + 15⋅l  + 20⋅l  + 30⋅l⋅cos(q₃) + 30⋅l + 30⋅cos(q₃) + 30⎠             \n",
       "─────────────────────────────────────────────────────────────────             \n",
       "            360                                                               \n",
       "                                                                              \n",
       "    2    ⎛          π⎞          ⎛     π⎞           ⎛          π⎞         ⎛    \n",
       "12⋅l ⋅sin⎜q₀ + q₃ + ─⎟ - 6⋅l⋅sin⎜q₀ + ─⎟ - 18⋅l⋅sin⎜q₀ + q₃ + ─⎟ - 12⋅sin⎜q₀ +\n",
       "         ⎝          4⎠          ⎝     4⎠           ⎝          4⎠         ⎝    \n",
       "──────────────────────────────────────────────────────────────────────────────\n",
       "            192                                                               \n",
       "                                                                              \n",
       "     2    ⎛          π⎞          ⎛     π⎞           ⎛          π⎞         ⎛   \n",
       " 12⋅l ⋅cos⎜q₀ + q₃ + ─⎟ + 6⋅l⋅cos⎜q₀ + ─⎟ + 18⋅l⋅cos⎜q₀ + q₃ + ─⎟ + 12⋅cos⎜q₀ \n",
       "          ⎝          4⎠          ⎝     4⎠           ⎝          4⎠         ⎝   \n",
       "──────────────────────────────────────────────────────────────────────────────\n",
       "            192                                                               \n",
       "\n",
       "                               ___    3   ⎛   3    ⎛     π⎞      3    ⎛       \n",
       "                             ╲╱ 2 ⋅l⋅r ⋅ρ⋅⎜3⋅l ⋅sin⎜q₀ + ─⎟ - 3⋅l ⋅sin⎜q₀ + q₃\n",
       "                                          ⎝        ⎝     4⎠           ⎝       \n",
       "                             ─────────────────────────────────────────────────\n",
       "                                                                              \n",
       "                                                                              \n",
       " π⎞         ⎛          π⎞⎞                                                    \n",
       " ─⎟ - 12⋅sin⎜q₀ + q₃ + ─⎟⎟                                                    \n",
       " 4⎠         ⎝          4⎠⎠                                                    \n",
       "──────────────────────────                                                    \n",
       "                                                                              \n",
       "                                                                              \n",
       "  π⎞         ⎛          π⎞⎞                                                   \n",
       "+ ─⎟ + 12⋅cos⎜q₀ + q₃ + ─⎟⎟                                                   \n",
       "  4⎠         ⎝          4⎠⎠                                                   \n",
       "───────────────────────────                                                   \n",
       "                                                                              \n",
       "\n",
       "   π⎞      2    ⎛     π⎞       2    ⎛          π⎞          ⎛     π⎞           \n",
       " + ─⎟ + 4⋅l ⋅sin⎜q₀ + ─⎟ - 12⋅l ⋅sin⎜q₀ + q₃ + ─⎟ - 6⋅l⋅sin⎜q₀ + ─⎟ - 18⋅l⋅sin\n",
       "   4⎠           ⎝     4⎠            ⎝          4⎠          ⎝     4⎠           \n",
       "──────────────────────────────────────────────────────────────────────────────\n",
       "                                       192                                    \n",
       "                                                                              \n",
       "                                                                              \n",
       "                                 2   ⎛ 2          ⎞                           \n",
       "                              l⋅r ⋅ρ⋅⎝l  + 3⋅l + 3⎠                           \n",
       "                              ─────────────────────                           \n",
       "                                        12                                    \n",
       "                                                                              \n",
       "                                                                              \n",
       "                                                                              \n",
       "                                                                              \n",
       "                                        0                                     \n",
       "                                                                              \n",
       "\n",
       "⎛          π⎞         ⎛     π⎞         ⎛          π⎞⎞    ___    3   ⎛     3   \n",
       "⎜q₀ + q₃ + ─⎟ - 12⋅sin⎜q₀ + ─⎟ - 12⋅sin⎜q₀ + q₃ + ─⎟⎟  ╲╱ 2 ⋅l⋅r ⋅ρ⋅⎜- 3⋅l ⋅co\n",
       "⎝          4⎠         ⎝     4⎠         ⎝          4⎠⎠               ⎝         \n",
       "─────────────────────────────────────────────────────  ───────────────────────\n",
       "                                                                              \n",
       "                                                                              \n",
       "                                                                              \n",
       "                                                                              \n",
       "                                                                              \n",
       "                                                                              \n",
       "                                                                              \n",
       "                                                                              \n",
       "                                                                              \n",
       "                                                                              \n",
       "                                                                              \n",
       "                                                                              \n",
       "                                                                              \n",
       "\n",
       " ⎛     π⎞      3    ⎛          π⎞      2    ⎛     π⎞       2    ⎛          π⎞ \n",
       "s⎜q₀ + ─⎟ + 3⋅l ⋅cos⎜q₀ + q₃ + ─⎟ - 4⋅l ⋅cos⎜q₀ + ─⎟ + 12⋅l ⋅cos⎜q₀ + q₃ + ─⎟ \n",
       " ⎝     4⎠           ⎝          4⎠           ⎝     4⎠            ⎝          4⎠ \n",
       "──────────────────────────────────────────────────────────────────────────────\n",
       "                                                                  192         \n",
       "                                                                              \n",
       "                                                                              \n",
       "                                                                              \n",
       "                                                                              \n",
       "                                                                   0          \n",
       "                                                                              \n",
       "                                                                              \n",
       "                                                                              \n",
       "                                                            2   ⎛ 2          ⎞\n",
       "                                                         l⋅r ⋅ρ⋅⎝l  + 3⋅l + 3⎠\n",
       "                                                         ─────────────────────\n",
       "                                                                   12         \n",
       "\n",
       "         ⎛     π⎞           ⎛          π⎞         ⎛     π⎞         ⎛          \n",
       "+ 6⋅l⋅cos⎜q₀ + ─⎟ + 18⋅l⋅cos⎜q₀ + q₃ + ─⎟ + 12⋅cos⎜q₀ + ─⎟ + 12⋅cos⎜q₀ + q₃ + \n",
       "         ⎝     4⎠           ⎝          4⎠         ⎝     4⎠         ⎝          \n",
       "──────────────────────────────────────────────────────────────────────────────\n",
       "                                                                              \n",
       "                                                                              \n",
       "                                                                              \n",
       "                                                                              \n",
       "                                                                              \n",
       "                                                                              \n",
       "                                                                              \n",
       "                                                                              \n",
       "                                                                              \n",
       "                                                                              \n",
       "                                                                              \n",
       "                                                                              \n",
       "                                                                              \n",
       "\n",
       "π⎞⎞⎤\n",
       "─⎟⎟⎥\n",
       "4⎠⎠⎥\n",
       "───⎥\n",
       "   ⎥\n",
       "   ⎥\n",
       "   ⎥\n",
       "   ⎥\n",
       "   ⎥\n",
       "   ⎥\n",
       "   ⎥\n",
       "   ⎥\n",
       "   ⎥\n",
       "   ⎥\n",
       "   ⎥\n",
       "   ⎥\n",
       "   ⎦"
      ]
     },
     "metadata": {},
     "output_type": "display_data"
    },
    {
     "name": "stdout",
     "output_type": "stream",
     "text": [
      "\n",
      "M_12 = \n"
     ]
    },
    {
     "data": {
      "image/png": "[encoded data removed]",
      "text/latex": [
       "$$\\left[\\begin{matrix}\\frac{l \\rho}{720} r^{4} \\left(12 l^{4} \\cos{\\left (q_{3} \\right )} - 12 l^{4} - 40 l^{2} \\cos{\\left (q_{3} \\right )} + 60 \\cos{\\left (q_{3} \\right )} + 60\\right) & \\frac{l \\rho}{192} \\sqrt{2} r^{3} \\left(- 3 l^{3} \\sin{\\left (q_{0} + \\frac{\\pi}{4} \\right )} + 3 l^{3} \\sin{\\left (q_{0} + q_{3} + \\frac{\\pi}{4} \\right )} + 4 l^{2} \\sin{\\left (q_{0} + \\frac{\\pi}{4} \\right )} + 4 l^{2} \\sin{\\left (q_{0} + q_{3} + \\frac{\\pi}{4} \\right )} + 6 l \\sin{\\left (q_{0} + \\frac{\\pi}{4} \\right )} - 6 l \\sin{\\left (q_{0} + q_{3} + \\frac{\\pi}{4} \\right )} - 12 \\sin{\\left (q_{0} + \\frac{\\pi}{4} \\right )} - 12 \\sin{\\left (q_{0} + q_{3} + \\frac{\\pi}{4} \\right )}\\right) & \\frac{l \\rho}{192} \\sqrt{2} r^{3} \\left(3 l^{3} \\cos{\\left (q_{0} + \\frac{\\pi}{4} \\right )} - 3 l^{3} \\cos{\\left (q_{0} + q_{3} + \\frac{\\pi}{4} \\right )} - 4 l^{2} \\cos{\\left (q_{0} + \\frac{\\pi}{4} \\right )} - 4 l^{2} \\cos{\\left (q_{0} + q_{3} + \\frac{\\pi}{4} \\right )} - 6 l \\cos{\\left (q_{0} + \\frac{\\pi}{4} \\right )} + 6 l \\cos{\\left (q_{0} + q_{3} + \\frac{\\pi}{4} \\right )} + 12 \\cos{\\left (q_{0} + \\frac{\\pi}{4} \\right )} + 12 \\cos{\\left (q_{0} + q_{3} + \\frac{\\pi}{4} \\right )}\\right)\\\\\\frac{l \\rho}{192} \\sqrt{2} r^{3} \\left(- 3 l^{3} \\sin{\\left (q_{0} + \\frac{\\pi}{4} \\right )} + 3 l^{3} \\sin{\\left (q_{0} + q_{3} + \\frac{\\pi}{4} \\right )} + 4 l^{2} \\sin{\\left (q_{0} + \\frac{\\pi}{4} \\right )} + 4 l^{2} \\sin{\\left (q_{0} + q_{3} + \\frac{\\pi}{4} \\right )} + 6 l \\sin{\\left (q_{0} + \\frac{\\pi}{4} \\right )} - 6 l \\sin{\\left (q_{0} + q_{3} + \\frac{\\pi}{4} \\right )} - 12 \\sin{\\left (q_{0} + \\frac{\\pi}{4} \\right )} - 12 \\sin{\\left (q_{0} + q_{3} + \\frac{\\pi}{4} \\right )}\\right) & \\frac{l \\rho}{12} r^{2} \\left(- l^{2} + 3\\right) & 0\\\\\\frac{l \\rho}{192} \\sqrt{2} r^{3} \\left(3 l^{3} \\cos{\\left (q_{0} + \\frac{\\pi}{4} \\right )} - 3 l^{3} \\cos{\\left (q_{0} + q_{3} + \\frac{\\pi}{4} \\right )} - 4 l^{2} \\cos{\\left (q_{0} + \\frac{\\pi}{4} \\right )} - 4 l^{2} \\cos{\\left (q_{0} + q_{3} + \\frac{\\pi}{4} \\right )} - 6 l \\cos{\\left (q_{0} + \\frac{\\pi}{4} \\right )} + 6 l \\cos{\\left (q_{0} + q_{3} + \\frac{\\pi}{4} \\right )} + 12 \\cos{\\left (q_{0} + \\frac{\\pi}{4} \\right )} + 12 \\cos{\\left (q_{0} + q_{3} + \\frac{\\pi}{4} \\right )}\\right) & 0 & \\frac{l \\rho}{12} r^{2} \\left(- l^{2} + 3\\right)\\end{matrix}\\right]$$"
      ],
      "text/plain": [
       "⎡                                                                             \n",
       "⎢                                                             4   ⎛    4      \n",
       "⎢                                                          l⋅r ⋅ρ⋅⎝12⋅l ⋅cos(q\n",
       "⎢                                                          ───────────────────\n",
       "⎢                                                                             \n",
       "⎢                                                                             \n",
       "⎢  ___    3   ⎛     3    ⎛     π⎞      3    ⎛          π⎞      2    ⎛     π⎞  \n",
       "⎢╲╱ 2 ⋅l⋅r ⋅ρ⋅⎜- 3⋅l ⋅sin⎜q₀ + ─⎟ + 3⋅l ⋅sin⎜q₀ + q₃ + ─⎟ + 4⋅l ⋅sin⎜q₀ + ─⎟ +\n",
       "⎢             ⎝          ⎝     4⎠           ⎝          4⎠           ⎝     4⎠  \n",
       "⎢─────────────────────────────────────────────────────────────────────────────\n",
       "⎢                                                                             \n",
       "⎢                                                                             \n",
       "⎢   ___    3   ⎛   3    ⎛     π⎞      3    ⎛          π⎞      2    ⎛     π⎞   \n",
       "⎢ ╲╱ 2 ⋅l⋅r ⋅ρ⋅⎜3⋅l ⋅cos⎜q₀ + ─⎟ - 3⋅l ⋅cos⎜q₀ + q₃ + ─⎟ - 4⋅l ⋅cos⎜q₀ + ─⎟ - \n",
       "⎢              ⎝        ⎝     4⎠           ⎝          4⎠           ⎝     4⎠   \n",
       "⎢ ────────────────────────────────────────────────────────────────────────────\n",
       "⎣                                                                             \n",
       "\n",
       "                                                                              \n",
       "         4       2                          ⎞                                 \n",
       "₃) - 12⋅l  - 40⋅l ⋅cos(q₃) + 60⋅cos(q₃) + 60⎠                                 \n",
       "─────────────────────────────────────────────                                 \n",
       "           720                                                                \n",
       "                                                                              \n",
       "    2    ⎛          π⎞          ⎛     π⎞          ⎛          π⎞         ⎛     \n",
       " 4⋅l ⋅sin⎜q₀ + q₃ + ─⎟ + 6⋅l⋅sin⎜q₀ + ─⎟ - 6⋅l⋅sin⎜q₀ + q₃ + ─⎟ - 12⋅sin⎜q₀ + \n",
       "         ⎝          4⎠          ⎝     4⎠          ⎝          4⎠         ⎝     \n",
       "──────────────────────────────────────────────────────────────────────────────\n",
       "           192                                                                \n",
       "                                                                              \n",
       "   2    ⎛          π⎞          ⎛     π⎞          ⎛          π⎞         ⎛     π\n",
       "4⋅l ⋅cos⎜q₀ + q₃ + ─⎟ - 6⋅l⋅cos⎜q₀ + ─⎟ + 6⋅l⋅cos⎜q₀ + q₃ + ─⎟ + 12⋅cos⎜q₀ + ─\n",
       "        ⎝          4⎠          ⎝     4⎠          ⎝          4⎠         ⎝     4\n",
       "──────────────────────────────────────────────────────────────────────────────\n",
       "           192                                                                \n",
       "\n",
       "                             ___    3   ⎛     3    ⎛     π⎞      3    ⎛       \n",
       "                           ╲╱ 2 ⋅l⋅r ⋅ρ⋅⎜- 3⋅l ⋅sin⎜q₀ + ─⎟ + 3⋅l ⋅sin⎜q₀ + q₃\n",
       "                                        ⎝          ⎝     4⎠           ⎝       \n",
       "                           ───────────────────────────────────────────────────\n",
       "                                                                              \n",
       "                                                                              \n",
       "π⎞         ⎛          π⎞⎞                                                     \n",
       "─⎟ - 12⋅sin⎜q₀ + q₃ + ─⎟⎟                                                     \n",
       "4⎠         ⎝          4⎠⎠                                                     \n",
       "─────────────────────────                                                     \n",
       "                                                                              \n",
       "                                                                              \n",
       "⎞         ⎛          π⎞⎞                                                      \n",
       "⎟ + 12⋅cos⎜q₀ + q₃ + ─⎟⎟                                                      \n",
       "⎠         ⎝          4⎠⎠                                                      \n",
       "────────────────────────                                                      \n",
       "                                                                              \n",
       "\n",
       "   π⎞      2    ⎛     π⎞      2    ⎛          π⎞          ⎛     π⎞          ⎛ \n",
       " + ─⎟ + 4⋅l ⋅sin⎜q₀ + ─⎟ + 4⋅l ⋅sin⎜q₀ + q₃ + ─⎟ + 6⋅l⋅sin⎜q₀ + ─⎟ - 6⋅l⋅sin⎜q\n",
       "   4⎠           ⎝     4⎠           ⎝          4⎠          ⎝     4⎠          ⎝ \n",
       "──────────────────────────────────────────────────────────────────────────────\n",
       "                                     192                                      \n",
       "                                                                              \n",
       "                                                                              \n",
       "                                 2   ⎛   2    ⎞                               \n",
       "                              l⋅r ⋅ρ⋅⎝- l  + 3⎠                               \n",
       "                              ─────────────────                               \n",
       "                                      12                                      \n",
       "                                                                              \n",
       "                                                                              \n",
       "                                                                              \n",
       "                                                                              \n",
       "                                      0                                       \n",
       "                                                                              \n",
       "\n",
       "         π⎞         ⎛     π⎞         ⎛          π⎞⎞    ___    3   ⎛   3    ⎛  \n",
       "₀ + q₃ + ─⎟ - 12⋅sin⎜q₀ + ─⎟ - 12⋅sin⎜q₀ + q₃ + ─⎟⎟  ╲╱ 2 ⋅l⋅r ⋅ρ⋅⎜3⋅l ⋅cos⎜q₀\n",
       "         4⎠         ⎝     4⎠         ⎝          4⎠⎠               ⎝        ⎝  \n",
       "───────────────────────────────────────────────────  ─────────────────────────\n",
       "                                                                              \n",
       "                                                                              \n",
       "                                                                              \n",
       "                                                                              \n",
       "                                                                              \n",
       "                                                                              \n",
       "                                                                              \n",
       "                                                                              \n",
       "                                                                              \n",
       "                                                                              \n",
       "                                                                              \n",
       "                                                                              \n",
       "                                                                              \n",
       "\n",
       "   π⎞      3    ⎛          π⎞      2    ⎛     π⎞      2    ⎛          π⎞      \n",
       " + ─⎟ - 3⋅l ⋅cos⎜q₀ + q₃ + ─⎟ - 4⋅l ⋅cos⎜q₀ + ─⎟ - 4⋅l ⋅cos⎜q₀ + q₃ + ─⎟ - 6⋅l\n",
       "   4⎠           ⎝          4⎠           ⎝     4⎠           ⎝          4⎠      \n",
       "──────────────────────────────────────────────────────────────────────────────\n",
       "                                                              192             \n",
       "                                                                              \n",
       "                                                                              \n",
       "                                                                              \n",
       "                                                                              \n",
       "                                                               0              \n",
       "                                                                              \n",
       "                                                                              \n",
       "                                                                              \n",
       "                                                          2   ⎛   2    ⎞      \n",
       "                                                       l⋅r ⋅ρ⋅⎝- l  + 3⎠      \n",
       "                                                       ─────────────────      \n",
       "                                                               12             \n",
       "\n",
       "    ⎛     π⎞          ⎛          π⎞         ⎛     π⎞         ⎛          π⎞⎞⎤\n",
       "⋅cos⎜q₀ + ─⎟ + 6⋅l⋅cos⎜q₀ + q₃ + ─⎟ + 12⋅cos⎜q₀ + ─⎟ + 12⋅cos⎜q₀ + q₃ + ─⎟⎟⎥\n",
       "    ⎝     4⎠          ⎝          4⎠         ⎝     4⎠         ⎝          4⎠⎠⎥\n",
       "───────────────────────────────────────────────────────────────────────────⎥\n",
       "                                                                           ⎥\n",
       "                                                                           ⎥\n",
       "                                                                           ⎥\n",
       "                                                                           ⎥\n",
       "                                                                           ⎥\n",
       "                                                                           ⎥\n",
       "                                                                           ⎥\n",
       "                                                                           ⎥\n",
       "                                                                           ⎥\n",
       "                                                                           ⎥\n",
       "                                                                           ⎥\n",
       "                                                                           ⎥\n",
       "                                                                           ⎦"
      ]
     },
     "metadata": {},
     "output_type": "display_data"
    },
    {
     "name": "stdout",
     "output_type": "stream",
     "text": [
      "\n",
      "M_21.T = \n"
     ]
    },
    {
     "data": {
      "image/png": "[encoded data removed]",
      "text/latex": [
       "$$\\left[\\begin{matrix}\\frac{l \\rho}{720} r^{4} \\left(12 l^{4} \\cos{\\left (q_{3} \\right )} - 12 l^{4} - 40 l^{2} \\cos{\\left (q_{3} \\right )} + 60 \\cos{\\left (q_{3} \\right )} + 60\\right) & \\frac{l \\rho}{192} \\sqrt{2} r^{3} \\left(- 3 l^{3} \\sin{\\left (q_{0} + \\frac{\\pi}{4} \\right )} + 3 l^{3} \\sin{\\left (q_{0} + q_{3} + \\frac{\\pi}{4} \\right )} + 4 l^{2} \\sin{\\left (q_{0} + \\frac{\\pi}{4} \\right )} + 4 l^{2} \\sin{\\left (q_{0} + q_{3} + \\frac{\\pi}{4} \\right )} + 6 l \\sin{\\left (q_{0} + \\frac{\\pi}{4} \\right )} - 6 l \\sin{\\left (q_{0} + q_{3} + \\frac{\\pi}{4} \\right )} - 12 \\sin{\\left (q_{0} + \\frac{\\pi}{4} \\right )} - 12 \\sin{\\left (q_{0} + q_{3} + \\frac{\\pi}{4} \\right )}\\right) & \\frac{l \\rho}{192} \\sqrt{2} r^{3} \\left(3 l^{3} \\cos{\\left (q_{0} + \\frac{\\pi}{4} \\right )} - 3 l^{3} \\cos{\\left (q_{0} + q_{3} + \\frac{\\pi}{4} \\right )} - 4 l^{2} \\cos{\\left (q_{0} + \\frac{\\pi}{4} \\right )} - 4 l^{2} \\cos{\\left (q_{0} + q_{3} + \\frac{\\pi}{4} \\right )} - 6 l \\cos{\\left (q_{0} + \\frac{\\pi}{4} \\right )} + 6 l \\cos{\\left (q_{0} + q_{3} + \\frac{\\pi}{4} \\right )} + 12 \\cos{\\left (q_{0} + \\frac{\\pi}{4} \\right )} + 12 \\cos{\\left (q_{0} + q_{3} + \\frac{\\pi}{4} \\right )}\\right)\\\\\\frac{l \\rho}{192} \\sqrt{2} r^{3} \\left(- 3 l^{3} \\sin{\\left (q_{0} + \\frac{\\pi}{4} \\right )} + 3 l^{3} \\sin{\\left (q_{0} + q_{3} + \\frac{\\pi}{4} \\right )} + 4 l^{2} \\sin{\\left (q_{0} + \\frac{\\pi}{4} \\right )} + 4 l^{2} \\sin{\\left (q_{0} + q_{3} + \\frac{\\pi}{4} \\right )} + 6 l \\sin{\\left (q_{0} + \\frac{\\pi}{4} \\right )} - 6 l \\sin{\\left (q_{0} + q_{3} + \\frac{\\pi}{4} \\right )} - 12 \\sin{\\left (q_{0} + \\frac{\\pi}{4} \\right )} - 12 \\sin{\\left (q_{0} + q_{3} + \\frac{\\pi}{4} \\right )}\\right) & \\frac{l \\rho}{12} r^{2} \\left(- l^{2} + 3\\right) & 0\\\\\\frac{l \\rho}{192} \\sqrt{2} r^{3} \\left(3 l^{3} \\cos{\\left (q_{0} + \\frac{\\pi}{4} \\right )} - 3 l^{3} \\cos{\\left (q_{0} + q_{3} + \\frac{\\pi}{4} \\right )} - 4 l^{2} \\cos{\\left (q_{0} + \\frac{\\pi}{4} \\right )} - 4 l^{2} \\cos{\\left (q_{0} + q_{3} + \\frac{\\pi}{4} \\right )} - 6 l \\cos{\\left (q_{0} + \\frac{\\pi}{4} \\right )} + 6 l \\cos{\\left (q_{0} + q_{3} + \\frac{\\pi}{4} \\right )} + 12 \\cos{\\left (q_{0} + \\frac{\\pi}{4} \\right )} + 12 \\cos{\\left (q_{0} + q_{3} + \\frac{\\pi}{4} \\right )}\\right) & 0 & \\frac{l \\rho}{12} r^{2} \\left(- l^{2} + 3\\right)\\end{matrix}\\right]$$"
      ],
      "text/plain": [
       "⎡                                                                             \n",
       "⎢                                                             4   ⎛    4      \n",
       "⎢                                                          l⋅r ⋅ρ⋅⎝12⋅l ⋅cos(q\n",
       "⎢                                                          ───────────────────\n",
       "⎢                                                                             \n",
       "⎢                                                                             \n",
       "⎢  ___    3   ⎛     3    ⎛     π⎞      3    ⎛          π⎞      2    ⎛     π⎞  \n",
       "⎢╲╱ 2 ⋅l⋅r ⋅ρ⋅⎜- 3⋅l ⋅sin⎜q₀ + ─⎟ + 3⋅l ⋅sin⎜q₀ + q₃ + ─⎟ + 4⋅l ⋅sin⎜q₀ + ─⎟ +\n",
       "⎢             ⎝          ⎝     4⎠           ⎝          4⎠           ⎝     4⎠  \n",
       "⎢─────────────────────────────────────────────────────────────────────────────\n",
       "⎢                                                                             \n",
       "⎢                                                                             \n",
       "⎢   ___    3   ⎛   3    ⎛     π⎞      3    ⎛          π⎞      2    ⎛     π⎞   \n",
       "⎢ ╲╱ 2 ⋅l⋅r ⋅ρ⋅⎜3⋅l ⋅cos⎜q₀ + ─⎟ - 3⋅l ⋅cos⎜q₀ + q₃ + ─⎟ - 4⋅l ⋅cos⎜q₀ + ─⎟ - \n",
       "⎢              ⎝        ⎝     4⎠           ⎝          4⎠           ⎝     4⎠   \n",
       "⎢ ────────────────────────────────────────────────────────────────────────────\n",
       "⎣                                                                             \n",
       "\n",
       "                                                                              \n",
       "         4       2                          ⎞                                 \n",
       "₃) - 12⋅l  - 40⋅l ⋅cos(q₃) + 60⋅cos(q₃) + 60⎠                                 \n",
       "─────────────────────────────────────────────                                 \n",
       "           720                                                                \n",
       "                                                                              \n",
       "    2    ⎛          π⎞          ⎛     π⎞          ⎛          π⎞         ⎛     \n",
       " 4⋅l ⋅sin⎜q₀ + q₃ + ─⎟ + 6⋅l⋅sin⎜q₀ + ─⎟ - 6⋅l⋅sin⎜q₀ + q₃ + ─⎟ - 12⋅sin⎜q₀ + \n",
       "         ⎝          4⎠          ⎝     4⎠          ⎝          4⎠         ⎝     \n",
       "──────────────────────────────────────────────────────────────────────────────\n",
       "           192                                                                \n",
       "                                                                              \n",
       "   2    ⎛          π⎞          ⎛     π⎞          ⎛          π⎞         ⎛     π\n",
       "4⋅l ⋅cos⎜q₀ + q₃ + ─⎟ - 6⋅l⋅cos⎜q₀ + ─⎟ + 6⋅l⋅cos⎜q₀ + q₃ + ─⎟ + 12⋅cos⎜q₀ + ─\n",
       "        ⎝          4⎠          ⎝     4⎠          ⎝          4⎠         ⎝     4\n",
       "──────────────────────────────────────────────────────────────────────────────\n",
       "           192                                                                \n",
       "\n",
       "                             ___    3   ⎛     3    ⎛     π⎞      3    ⎛       \n",
       "                           ╲╱ 2 ⋅l⋅r ⋅ρ⋅⎜- 3⋅l ⋅sin⎜q₀ + ─⎟ + 3⋅l ⋅sin⎜q₀ + q₃\n",
       "                                        ⎝          ⎝     4⎠           ⎝       \n",
       "                           ───────────────────────────────────────────────────\n",
       "                                                                              \n",
       "                                                                              \n",
       "π⎞         ⎛          π⎞⎞                                                     \n",
       "─⎟ - 12⋅sin⎜q₀ + q₃ + ─⎟⎟                                                     \n",
       "4⎠         ⎝          4⎠⎠                                                     \n",
       "─────────────────────────                                                     \n",
       "                                                                              \n",
       "                                                                              \n",
       "⎞         ⎛          π⎞⎞                                                      \n",
       "⎟ + 12⋅cos⎜q₀ + q₃ + ─⎟⎟                                                      \n",
       "⎠         ⎝          4⎠⎠                                                      \n",
       "────────────────────────                                                      \n",
       "                                                                              \n",
       "\n",
       "   π⎞      2    ⎛     π⎞      2    ⎛          π⎞          ⎛     π⎞          ⎛ \n",
       " + ─⎟ + 4⋅l ⋅sin⎜q₀ + ─⎟ + 4⋅l ⋅sin⎜q₀ + q₃ + ─⎟ + 6⋅l⋅sin⎜q₀ + ─⎟ - 6⋅l⋅sin⎜q\n",
       "   4⎠           ⎝     4⎠           ⎝          4⎠          ⎝     4⎠          ⎝ \n",
       "──────────────────────────────────────────────────────────────────────────────\n",
       "                                     192                                      \n",
       "                                                                              \n",
       "                                                                              \n",
       "                                 2   ⎛   2    ⎞                               \n",
       "                              l⋅r ⋅ρ⋅⎝- l  + 3⎠                               \n",
       "                              ─────────────────                               \n",
       "                                      12                                      \n",
       "                                                                              \n",
       "                                                                              \n",
       "                                                                              \n",
       "                                                                              \n",
       "                                      0                                       \n",
       "                                                                              \n",
       "\n",
       "         π⎞         ⎛     π⎞         ⎛          π⎞⎞    ___    3   ⎛   3    ⎛  \n",
       "₀ + q₃ + ─⎟ - 12⋅sin⎜q₀ + ─⎟ - 12⋅sin⎜q₀ + q₃ + ─⎟⎟  ╲╱ 2 ⋅l⋅r ⋅ρ⋅⎜3⋅l ⋅cos⎜q₀\n",
       "         4⎠         ⎝     4⎠         ⎝          4⎠⎠               ⎝        ⎝  \n",
       "───────────────────────────────────────────────────  ─────────────────────────\n",
       "                                                                              \n",
       "                                                                              \n",
       "                                                                              \n",
       "                                                                              \n",
       "                                                                              \n",
       "                                                                              \n",
       "                                                                              \n",
       "                                                                              \n",
       "                                                                              \n",
       "                                                                              \n",
       "                                                                              \n",
       "                                                                              \n",
       "                                                                              \n",
       "\n",
       "   π⎞      3    ⎛          π⎞      2    ⎛     π⎞      2    ⎛          π⎞      \n",
       " + ─⎟ - 3⋅l ⋅cos⎜q₀ + q₃ + ─⎟ - 4⋅l ⋅cos⎜q₀ + ─⎟ - 4⋅l ⋅cos⎜q₀ + q₃ + ─⎟ - 6⋅l\n",
       "   4⎠           ⎝          4⎠           ⎝     4⎠           ⎝          4⎠      \n",
       "──────────────────────────────────────────────────────────────────────────────\n",
       "                                                              192             \n",
       "                                                                              \n",
       "                                                                              \n",
       "                                                                              \n",
       "                                                                              \n",
       "                                                               0              \n",
       "                                                                              \n",
       "                                                                              \n",
       "                                                                              \n",
       "                                                          2   ⎛   2    ⎞      \n",
       "                                                       l⋅r ⋅ρ⋅⎝- l  + 3⎠      \n",
       "                                                       ─────────────────      \n",
       "                                                               12             \n",
       "\n",
       "    ⎛     π⎞          ⎛          π⎞         ⎛     π⎞         ⎛          π⎞⎞⎤\n",
       "⋅cos⎜q₀ + ─⎟ + 6⋅l⋅cos⎜q₀ + q₃ + ─⎟ + 12⋅cos⎜q₀ + ─⎟ + 12⋅cos⎜q₀ + q₃ + ─⎟⎟⎥\n",
       "    ⎝     4⎠          ⎝          4⎠         ⎝     4⎠         ⎝          4⎠⎠⎥\n",
       "───────────────────────────────────────────────────────────────────────────⎥\n",
       "                                                                           ⎥\n",
       "                                                                           ⎥\n",
       "                                                                           ⎥\n",
       "                                                                           ⎥\n",
       "                                                                           ⎥\n",
       "                                                                           ⎥\n",
       "                                                                           ⎥\n",
       "                                                                           ⎥\n",
       "                                                                           ⎥\n",
       "                                                                           ⎥\n",
       "                                                                           ⎥\n",
       "                                                                           ⎥\n",
       "                                                                           ⎦"
      ]
     },
     "metadata": {},
     "output_type": "display_data"
    }
   ],
   "source": [
    "# print('\\nM = \\n')\n",
    "# display(M)\n",
    "\n",
    "print('M_11 = ')\n",
    "display(M[0:3,0:3])\n",
    "print('\\nM_22 = ')\n",
    "display(M[3:6,3:6])\n",
    "print('\\nM_12 = ')\n",
    "display(M[0:3,3:6])\n",
    "print('\\nM_21.T = ')\n",
    "display(M[3:6,0:3].T)"
   ]
  },
  {
   "cell_type": "markdown",
   "metadata": {},
   "source": [
    "### Compute Internal forces "
   ]
  },
  {
   "cell_type": "markdown",
   "metadata": {},
   "source": [
    "#### 1. Transverse (Bending) Strain"
   ]
  },
  {
   "cell_type": "code",
   "execution_count": 10,
   "metadata": {
    "collapsed": false
   },
   "outputs": [],
   "source": [
    "# Orthogonal Matricies Not Extracted to Simplify Algebra\n",
    "dT = sym.simplify(H.diff(x)*sym.Matrix([R1,R2]))\n",
    "kappa = sym.simplify(sym.Matrix([Axial_sym(dT*R_interp.T),'0','0','0']))\n",
    "# display(kappa)"
   ]
  },
  {
   "cell_type": "markdown",
   "metadata": {},
   "source": [
    "#### 2. Longitudinal (Axial) Strian"
   ]
  },
  {
   "cell_type": "code",
   "execution_count": 11,
   "metadata": {
    "collapsed": false
   },
   "outputs": [],
   "source": [
    "# Define Locations of Centroid\n",
    "x0_B = sym.Matrix(['x','0'])\n",
    "x0 = R_interp*x0_B\n",
    "\n",
    "# Define Newtonian Unit Vector x-dir\n",
    "n1 = sym.Matrix(['1','0'])\n",
    "\n",
    "\n",
    "# Derivatives w.r.t longitudinal beam coordinate\n",
    "du = (H*u).diff(x)\n",
    "dx0 = x0.diff(x)\n",
    "\n",
    "# Compute axial strain\n",
    "u_ax = dx0 + du - R_interp*n1\n",
    "epsilon = sym.Matrix(['0', u_ax[0], '0', u_ax[1]])\n",
    "# epsilon = u_ax\n",
    "# display(epsilon)"
   ]
  },
  {
   "cell_type": "markdown",
   "metadata": {},
   "source": [
    "#### 3. Compute Internal Forces $Q_e = -\\frac{\\partial U}{\\partial e}$"
   ]
  },
  {
   "cell_type": "code",
   "execution_count": 12,
   "metadata": {
    "collapsed": false,
    "scrolled": true
   },
   "outputs": [],
   "source": [
    "\"\"\"\n",
    "Note: Sympy bug! Integrating a matrix returns a vector!!!\n",
    "\"\"\"\n",
    "# Transverse strain energy\n",
    "kappa_squared = (kappa.T*dHdx.T).dot(dHdx*kappa)\n",
    "Ut = 1/2*sym.integrate(E*I*kappa_squared, (x,0,l))"
   ]
  },
  {
   "cell_type": "code",
   "execution_count": 13,
   "metadata": {
    "collapsed": true
   },
   "outputs": [],
   "source": [
    "G = E/2.6\n",
    "C = sym.Matrix([[E*A, 0],[0, 5/6*G*A]])\n",
    "Ul = 1/2*sym.integrate(epsilon.T*dHdx.T*R_interp*C*R_interp.T*dHdx*epsilon, (x,0,l))[0]\n",
    "# Ul = 1/2*sym.integrate(epsilon.T*R_interp*C*R_interp.T*epsilon, (x,0,l))[0]"
   ]
  },
  {
   "cell_type": "code",
   "execution_count": 14,
   "metadata": {
    "collapsed": false
   },
   "outputs": [],
   "source": [
    "# Compute Total Energy\n",
    "U = Ul + Ut\n",
    "\n",
    "# Compute Internal Force Vector\n",
    "gen_coord = sym.Matrix.vstack(sym.Matrix.vstack(sym.Matrix([theta[0]]), sym.Matrix(qdot[1:3])), \n",
    "    sym.Matrix.vstack(sym.Matrix([theta[1]]), sym.Matrix(qdot[4:6])))\n",
    "Qe = sym.Matrix([-sym.diff(U,qi) for qi in q])"
   ]
  },
  {
   "cell_type": "markdown",
   "metadata": {},
   "source": [
    "####4. Applied and body force vector"
   ]
  },
  {
   "cell_type": "code",
   "execution_count": 15,
   "metadata": {
    "collapsed": false
   },
   "outputs": [],
   "source": [
    "# Applied forces\n",
    "# Gravity body force\n",
    "fg = g*rho*sym.Matrix([0,-1])\n",
    "\n",
    "# Compute beta\n",
    "beta = sym.Matrix([sym.simplify(sym.integrate(VrP[:,j].dot(fg),('r_2',0,r),('r_3',0,r),(x,0,l)))\n",
    "                   + qe for j,qe in zip(range(len(q)),Qe)])\n",
    "Fg = sym.Matrix([sym.simplify(sym.integrate(VrP[:,j].dot(fg),('r_2',0,r),('r_3',0,r),(x,0,l)))\n",
    "                   for j in range(len(q))])"
   ]
  },
  {
   "cell_type": "code",
   "execution_count": 16,
   "metadata": {
    "collapsed": false
   },
   "outputs": [],
   "source": [
    "pickle.dump( M,    open( \"gebf-mass-matrix.dump\",   \"wb\" ) )\n",
    "pickle.dump( beta, open( \"gebf-force-vector.dump\",  \"wb\" ) )\n",
    "pickle.dump( U,    open( \"gebf-strain-energy.dump\", \"wb\" ) )\n",
    "# pickle.dump(PE, open(\"potential_enrgy\", \"wb\")) "
   ]
  },
  {
   "cell_type": "code",
   "execution_count": 17,
   "metadata": {
    "collapsed": false
   },
   "outputs": [],
   "source": [
    "M_func    = lambdify((E, A, I, r, rho, l, g, q),    M, \"numpy\")\n",
    "beta_func = lambdify((E, A, I, r, rho, l, g, q), beta, \"numpy\")\n",
    "U_func    = lambdify((E, A, I, r, rho, l, g, q),    U, \"numpy\")"
   ]
  },
  {
   "cell_type": "code",
   "execution_count": 18,
   "metadata": {
    "collapsed": false
   },
   "outputs": [],
   "source": [
    "# Debugging functions to trace source of error \n",
    "Qe_func    = lambdify((E, A, I, r, rho, l, g, q), Qe, \"numpy\")\n",
    "Fg_func    = lambdify((E, A, I, r, rho, l, g, q), Fg, \"numpy\")\n",
    "Ut_func    = lambdify((E, A, I, r, rho, l, g, q), Ut, \"numpy\")\n",
    "Ul_func    = lambdify((E, A, I, r, rho, l, g, q), Ul, \"numpy\")"
   ]
  },
  {
   "cell_type": "code",
   "execution_count": 19,
   "metadata": {
    "collapsed": false
   },
   "outputs": [],
   "source": [
    "def zeta_func(q):\n",
    "    M_num    = M_func(   0.7e6, 0.0018, 1.215e-8, 0.02393, 5540, 0.12, 9.81, q)\n",
    "    beta_num = beta_func(   0.7e6, 0.0018, 1.215e-8, 0.02393, 5540, 0.12, 9.81, q)\n",
    "    M11 = np.array(M_num[0:3,0:3])\n",
    "    M12 = np.array(M_num[0:3,3:6])\n",
    "    M21 = np.array(M_num[3:6,0:3])\n",
    "    M22 = np.array(M_num[3:6,3:6])\n",
    "\n",
    "    # For now use these definitions to cast Fic (constraint forces between GEBF elements) \n",
    "    # into generalized constraint forces\n",
    "    gamma11 = np.eye(3)\n",
    "    gamma12 = np.zeros((3,3))\n",
    "    gamma22 = np.eye(3)\n",
    "    gamma21 = np.zeros((3,3))\n",
    "\n",
    "    # partition beta into lambda13 and lambda23\n",
    "    gamma13 = np.array(beta_num[0:3])\n",
    "    gamma23 = np.array(beta_num[3:6])\n",
    "\n",
    "    # Commonly inverted quantities\n",
    "    iM11 = np.linalg.inv(M11)\n",
    "    iM22 = np.linalg.inv(M22)\n",
    "    Gamma1 = np.linalg.inv(M11 - M12.dot(iM22.dot(M21)))\n",
    "    Gamma2 = np.linalg.inv(M22 - M21.dot(iM11.dot(M12)))\n",
    "\n",
    "    # Compute all terms of the two handle equations\n",
    "    z11 = Gamma1.dot(gamma11 - M12.dot(iM22.dot(gamma21)))\n",
    "    z12 = Gamma1.dot(gamma12 - M12.dot(iM22.dot(gamma22)))\n",
    "    z21 = Gamma2.dot(gamma21 - M21.dot(iM11.dot(gamma11)))\n",
    "    z22 = Gamma2.dot(gamma22 - M21.dot(iM11.dot(gamma12)))\n",
    "\n",
    "    z13 = Gamma1.dot(gamma13 - M12.dot(iM22.dot(gamma23))).reshape((3,1))\n",
    "    z23 = Gamma2.dot(gamma23 - M21.dot(iM11.dot(gamma13))).reshape((3,1))\n",
    "    return z13"
   ]
  },
  {
   "cell_type": "code",
   "execution_count": 54,
   "metadata": {
    "collapsed": false
   },
   "outputs": [],
   "source": [
    "theta = np.linspace(0,2*3.14,200)\n",
    "\n",
    "q0GEBF = [np.array([0,0,0,0,val/3.14,0]).reshape(6,1) for val in theta]\n",
    "\n",
    "Ul_theta = np.array([Ul_func(0.7e6, 0.0018, 1.215e-8, 0.02393, 5540, 0.12, 9.81, q0) for q0 in q0GEBF])\n",
    "Ut_theta = np.array([Ut_func(0.7e6, 0.0018, 1.215e-8, 0.02393, 5540, 0.12, 9.81, q0) for q0 in q0GEBF])\n",
    "Qe_theta = np.array([np.linalg.norm(Qe_func(0.7e6, 0.0018, 1.215e-8, 0.02393, 5540, 0.12, 9.81, q0)) for q0 in q0GEBF])                                                                   \n",
    "Fg_theta = np.array([np.linalg.norm(Fg_func(0.7e6, 0.0018, 1.215e-8, 0.02393, 5540, 0.12, 9.81, q0)) for q0 in q0GEBF])                                                                   \n",
    "M_theta  = np.array([np.linalg.cond(M_func(0.7e6, 0.0018, 1.215e-8, 0.02393, 5540, 0.12, 9.81, q0)) for q0 in q0GEBF])                                                                   \n",
    "z13_theta = np.array([zeta_func(q0) for q0 in q0GEBF])                                                                   \n"
   ]
  },
  {
   "cell_type": "code",
   "execution_count": 55,
   "metadata": {
    "collapsed": false,
    "scrolled": true
   },
   "outputs": [
    {
     "data": {
      "image/png": "[encoded data removed]",
      "text/plain": [
       "<matplotlib.figure.Figure at 0x109a0b278>"
      ]
     },
     "metadata": {},
     "output_type": "display_data"
    }
   ],
   "source": [
    "plt.rc('text', usetex=True)\n",
    "plt.rc('font', family='serif')\n",
    "plt.plot(theta/np.pi, Ul_theta)\n",
    "plt.title('Axial Strain')\n",
    "plt.ylabel('Strain Energy')\n",
    "plt.xlabel('$n\\pi$')\n",
    "plt.show()"
   ]
  },
  {
   "cell_type": "code",
   "execution_count": 56,
   "metadata": {
    "collapsed": false
   },
   "outputs": [
    {
     "data": {
      "image/png": "[encoded data removed]",
      "text/plain": [
       "<matplotlib.figure.Figure at 0x108ba0668>"
      ]
     },
     "metadata": {},
     "output_type": "display_data"
    }
   ],
   "source": [
    "plt.rc('text', usetex=True)\n",
    "plt.rc('font', family='serif')\n",
    "plt.plot(theta/np.pi, Ut_theta)\n",
    "plt.title('Bending Strain')\n",
    "plt.ylabel('Strain Energy')\n",
    "plt.xlabel('$n\\pi$')\n",
    "plt.show()"
   ]
  },
  {
   "cell_type": "code",
   "execution_count": 57,
   "metadata": {
    "collapsed": false
   },
   "outputs": [
    {
     "data": {
      "image/png": "[encoded data removed]",
      "text/plain": [
       "<matplotlib.figure.Figure at 0x10874b828>"
      ]
     },
     "metadata": {},
     "output_type": "display_data"
    }
   ],
   "source": [
    "plt.rc('text', usetex=True)\n",
    "plt.rc('font', family='serif')\n",
    "plt.plot(theta/np.pi, Qe_theta)\n",
    "plt.ylabel(r'$\\frac{ - \\partial U}{q_i}$')\n",
    "plt.xlabel('$n\\pi$')\n",
    "plt.show()"
   ]
  },
  {
   "cell_type": "code",
   "execution_count": 58,
   "metadata": {
    "collapsed": false
   },
   "outputs": [
    {
     "data": {
      "image/png": "[encoded data removed]",
      "text/plain": [
       "<matplotlib.figure.Figure at 0x108d856d8>"
      ]
     },
     "metadata": {},
     "output_type": "display_data"
    }
   ],
   "source": [
    "plt.rc('text', usetex=True)\n",
    "plt.rc('font', family='serif')\n",
    "for i in range(3):\n",
    "    plt.plot(theta/np.pi, z13_theta[:,i])\n",
    "plt.ylabel(r'$\\zeta_{13}$')\n",
    "plt.xlabel('$n\\pi$')\n",
    "plt.legend(['1', '2', '3'])\n",
    "plt.show()"
   ]
  },
  {
   "cell_type": "code",
   "execution_count": 59,
   "metadata": {
    "collapsed": false
   },
   "outputs": [],
   "source": [
    "# ax = plt.gca()\n",
    "# ax.ticklabel_format(style='sci', scilimits=(0,0), useOffset=False)\n",
    "# plt.plot(theta/np.pi, M_theta, '-r')\n",
    "# plt.xlabel(r'$\\pi$', )\n",
    "# plt.yticks()\n",
    "# plt.show()"
   ]
  },
  {
   "cell_type": "code",
   "execution_count": null,
   "metadata": {
    "collapsed": true
   },
   "outputs": [],
   "source": []
  },
  {
   "cell_type": "code",
   "execution_count": null,
   "metadata": {
    "collapsed": true
   },
   "outputs": [],
   "source": [
    "--existing kernel-3186.json"
   ]
  },
  {
   "cell_type": "code",
   "execution_count": null,
   "metadata": {
    "collapsed": true
   },
   "outputs": [],
   "source": []
  }
 ],
 "metadata": {
  "kernelspec": {
   "display_name": "Python 3",
   "language": "python",
   "name": "python3"
  },
  "language_info": {
   "codemirror_mode": {
    "name": "ipython",
    "version": 3
   },
   "file_extension": ".py",
   "mimetype": "text/x-python",
   "name": "python",
   "nbconvert_exporter": "python",
   "pygments_lexer": "ipython3",
   "version": "3.4.3"
  }
 },
 "nbformat": 4,
 "nbformat_minor": 0
}

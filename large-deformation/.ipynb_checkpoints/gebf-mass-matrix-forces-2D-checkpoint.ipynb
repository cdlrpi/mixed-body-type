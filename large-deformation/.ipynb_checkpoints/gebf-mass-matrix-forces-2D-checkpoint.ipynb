{
 "cells": [
  {
   "cell_type": "markdown",
   "metadata": {},
   "source": [
    "#Beam Element - This notebook computes the mass matrix and internal forces and outputs them for later use"
   ]
  },
  {
   "cell_type": "markdown",
   "metadata": {},
   "source": [
    "\n",
    "1. 2D beam generalized coordinates (1 rotation 2 displacements) (Reduced dimensions so all matricies are subsequently invertible, Mii = 0 if some dof's are accounted for but  unused)\n",
    "2. Interpolation of roataion matricies WITHOUT orthogonalization (sympy struggling with too much algebra)\n",
    "3. Circular cross-section with radius 'r'"
   ]
  },
  {
   "cell_type": "code",
   "execution_count": 1,
   "metadata": {
    "collapsed": false
   },
   "outputs": [],
   "source": [
    "import numpy as np\n",
    "import scipy as sp\n",
    "import sympy as sym\n",
    "import pickle\n",
    "\n",
    "from scipy import linalg\n",
    "from sympy import mpmath\n",
    "from sympy import cos, sin\n",
    "\n",
    "from IPython.display import display\n",
    "from __future__ import division\n",
    "from sympy.interactive import printing\n",
    "printing.init_printing(use_latex='mathjax')"
   ]
  },
  {
   "cell_type": "markdown",
   "metadata": {},
   "source": [
    "#### Define Needed Functions"
   ]
  },
  {
   "cell_type": "code",
   "execution_count": 2,
   "metadata": {
    "collapsed": false
   },
   "outputs": [],
   "source": [
    "def Skew_sym(v):\n",
    "    \"\"\"\n",
    "    This function returns the skew symetric matrix \n",
    "    of the vector 'v' to affect the cross product of 'v'x'u'\n",
    "    \"\"\"\n",
    "    v_matrix = sym.Matrix([[  0 , -v[2]],\n",
    "                          [v[2],     0]])\n",
    "    return v_matrix"
   ]
  },
  {
   "cell_type": "code",
   "execution_count": 3,
   "metadata": {
    "collapsed": true
   },
   "outputs": [],
   "source": [
    "def Axial_sym(A):\n",
    "    '''\n",
    "    This funtcion returns the vector of the skew-symmectric matrix in 2D\n",
    "    '''\n",
    "    a_vec = 1/2*sym.Matrix([A[1,0] - A[0,1]])\n",
    "    return a_vec"
   ]
  },
  {
   "cell_type": "code",
   "execution_count": 4,
   "metadata": {
    "collapsed": false
   },
   "outputs": [],
   "source": [
    "def Rotate_sym(theta):\n",
    "    \"\"\"\n",
    "    This function returns the symbolic rotation matrix \n",
    "    for the simple 2D-rotation about the third axis\n",
    "    \"\"\"\n",
    "    R = sym.Matrix([[cos(theta),-sin(theta)],\n",
    "                    [sin(theta), cos(theta)]])\n",
    "    return R"
   ]
  },
  {
   "cell_type": "markdown",
   "metadata": {},
   "source": [
    "#### Define symbolic quantites"
   ]
  },
  {
   "cell_type": "code",
   "execution_count": 5,
   "metadata": {
    "collapsed": false
   },
   "outputs": [],
   "source": [
    "# symbolic system parameters \n",
    "E, I, A, rho, x, l, r = sym.symbols('E I A rho x l r')\n",
    "\n",
    "# Kinematic values of previos nodes (generic)\n",
    "# e.g., omega_node  = omega + qdot\n",
    "theta = sym.Matrix(['theta_1','theta_2'])\n",
    "omega = sym.Matrix(['omega_1','omega_2'])\n",
    "alpha = sym.Matrix(['alpha_1','alpha_2'])\n",
    "\n",
    "# coordinates of the point in the 2D cross-section\n",
    "# of nodes one and two \n",
    "s1 = sym.Matrix(['r_x','r_y'])\n",
    "s2 = sym.Matrix(['r_x','r_y'])\n",
    "s = sym.Matrix.vstack(s1,s2)\n",
    "\n",
    "# generalized coordinates\n",
    "# one rotation and two displacements per-node (two nodes)\n",
    "q = sym.Matrix(sym.symarray('q',6))\n",
    "qdot = sym.Matrix(sym.symarray('qdot',len(q)))\n",
    "qddot = sym.Matrix(sym.symarray('qddot',len(q)))\n",
    "\n",
    "# Deformations of Nodes  \n",
    "u = sym.Matrix([q[1:3,0], q[4:6,0]])\n",
    "udot = sym.Matrix([qdot[1:3,0], qdot[4:8,0]])\n",
    "uddot = sym.Matrix([qddot[1:3,0], qddot[4:6,0]])\n",
    "\n",
    "# display([q,qdot,qddot])\n",
    "# display([u,udot,uddot])"
   ]
  },
  {
   "cell_type": "markdown",
   "metadata": {},
   "source": [
    "### Needed Matrix Quantities"
   ]
  },
  {
   "cell_type": "code",
   "execution_count": 6,
   "metadata": {
    "collapsed": false
   },
   "outputs": [],
   "source": [
    "# angular velocity for 2D using relative coordinates \n",
    "omega1_skew = Skew_sym([0,0,omega[0]]) + Skew_sym([0,0,qdot[0]])\n",
    "omega2_skew = Skew_sym([0,0,omega[1]]) + Skew_sym([0,0,qdot[3]])\n",
    "\n",
    "# Only true for planar case\n",
    "alpha1_skew = Skew_sym([0,0,alpha[0]]) + Skew_sym([0,0,qdot[0]])\n",
    "alpha2_skew = Skew_sym([0,0,alpha[1]]) + Skew_sym([0,0,qdot[3]])\n",
    "\n",
    "# 1D Roation at each node\n",
    "R1 = Rotate_sym(theta[0]) + Rotate_sym(q[0])\n",
    "R2 = Rotate_sym(theta[1]) + Rotate_sym(q[3])\n",
    "# display(R1,R2)\n",
    "\n",
    "# \"spatial\" rotation matrix\n",
    "R = sym.Matrix.vstack(sym.Matrix.hstack(R1,sym.zeros(2)), \\\n",
    "                      sym.Matrix.hstack(sym.zeros(2),R2))\n",
    "\n",
    "# \"spatial\" angular velocity matrix\n",
    "Omega_skew = sym.Matrix.vstack(sym.Matrix.hstack(omega1_skew,sym.zeros(2)), \\\n",
    "                               sym.Matrix.hstack(sym.zeros(2),omega2_skew))\n",
    "\n",
    "# \"spatial\" angular acceleration matrix\n",
    "Alpha_skew = sym.Matrix.vstack(sym.Matrix.hstack(alpha1_skew,sym.zeros(2)), \\\n",
    "                               sym.Matrix.hstack(sym.zeros(2),alpha2_skew))\n",
    "# display(Omega)"
   ]
  },
  {
   "cell_type": "markdown",
   "metadata": {},
   "source": [
    "### Define Kinematics"
   ]
  },
  {
   "cell_type": "code",
   "execution_count": 7,
   "metadata": {
    "collapsed": false
   },
   "outputs": [
    {
     "name": "stdout",
     "output_type": "stream",
     "text": [
      "v = \n"
     ]
    },
    {
     "data": {
      "text/latex": [
       "$$\\left[\\begin{matrix}\\dot{q}_{1} - r_{x} \\left(\\omega_{1} + \\dot{q}_{0}\\right) \\left(\\sin{\\left (q_{0} \\right )} + \\sin{\\left (\\theta_{1} \\right )}\\right) - r_{y} \\left(\\omega_{1} + \\dot{q}_{0}\\right) \\left(\\cos{\\left (q_{0} \\right )} + \\cos{\\left (\\theta_{1} \\right )}\\right)\\\\\\dot{q}_{2} + r_{x} \\left(\\omega_{1} + \\dot{q}_{0}\\right) \\left(\\cos{\\left (q_{0} \\right )} + \\cos{\\left (\\theta_{1} \\right )}\\right) - r_{y} \\left(\\omega_{1} + \\dot{q}_{0}\\right) \\left(\\sin{\\left (q_{0} \\right )} + \\sin{\\left (\\theta_{1} \\right )}\\right)\\\\\\dot{q}_{4} - r_{x} \\left(\\omega_{2} + \\dot{q}_{3}\\right) \\left(\\sin{\\left (q_{3} \\right )} + \\sin{\\left (\\theta_{2} \\right )}\\right) - r_{y} \\left(\\omega_{2} + \\dot{q}_{3}\\right) \\left(\\cos{\\left (q_{3} \\right )} + \\cos{\\left (\\theta_{2} \\right )}\\right)\\\\\\dot{q}_{5} + r_{x} \\left(\\omega_{2} + \\dot{q}_{3}\\right) \\left(\\cos{\\left (q_{3} \\right )} + \\cos{\\left (\\theta_{2} \\right )}\\right) - r_{y} \\left(\\omega_{2} + \\dot{q}_{3}\\right) \\left(\\sin{\\left (q_{3} \\right )} + \\sin{\\left (\\theta_{2} \\right )}\\right)\\end{matrix}\\right]$$"
      ],
      "text/plain": [
       "⎡q̇₁ - rₓ⋅(ω₁ + q̇₀)⋅(sin(q₀) + sin(θ₁)) - r_y⋅(ω₁ + q̇₀)⋅(cos(q₀) + cos(θ₁))⎤\n",
       "⎢                                                                            ⎥\n",
       "⎢q̇₂ + rₓ⋅(ω₁ + q̇₀)⋅(cos(q₀) + cos(θ₁)) - r_y⋅(ω₁ + q̇₀)⋅(sin(q₀) + sin(θ₁))⎥\n",
       "⎢                                                                            ⎥\n",
       "⎢q̇₄ - rₓ⋅(ω₂ + q̇₃)⋅(sin(q₃) + sin(θ₂)) - r_y⋅(ω₂ + q̇₃)⋅(cos(q₃) + cos(θ₂))⎥\n",
       "⎢                                                                            ⎥\n",
       "⎣q̇₅ + rₓ⋅(ω₂ + q̇₃)⋅(cos(q₃) + cos(θ₂)) - r_y⋅(ω₂ + q̇₃)⋅(sin(q₃) + sin(θ₂))⎦"
      ]
     },
     "metadata": {},
     "output_type": "display_data"
    },
    {
     "name": "stdout",
     "output_type": "stream",
     "text": [
      "\n",
      "a = \n"
     ]
    },
    {
     "data": {
      "text/latex": [
       "$$\\left[\\begin{matrix}\\ddot{q}_{1} - r_{x} \\left(\\alpha_{1} + \\dot{q}_{0}\\right) \\left(\\sin{\\left (q_{0} \\right )} + \\sin{\\left (\\theta_{1} \\right )}\\right) - r_{x} \\left(\\omega_{1} + \\dot{q}_{0}\\right)^{2} \\left(\\cos{\\left (q_{0} \\right )} + \\cos{\\left (\\theta_{1} \\right )}\\right) - r_{y} \\left(\\alpha_{1} + \\dot{q}_{0}\\right) \\left(\\cos{\\left (q_{0} \\right )} + \\cos{\\left (\\theta_{1} \\right )}\\right) + r_{y} \\left(\\omega_{1} + \\dot{q}_{0}\\right)^{2} \\left(\\sin{\\left (q_{0} \\right )} + \\sin{\\left (\\theta_{1} \\right )}\\right)\\\\\\ddot{q}_{2} + r_{x} \\left(\\alpha_{1} + \\dot{q}_{0}\\right) \\left(\\cos{\\left (q_{0} \\right )} + \\cos{\\left (\\theta_{1} \\right )}\\right) - r_{x} \\left(\\omega_{1} + \\dot{q}_{0}\\right)^{2} \\left(\\sin{\\left (q_{0} \\right )} + \\sin{\\left (\\theta_{1} \\right )}\\right) - r_{y} \\left(\\alpha_{1} + \\dot{q}_{0}\\right) \\left(\\sin{\\left (q_{0} \\right )} + \\sin{\\left (\\theta_{1} \\right )}\\right) - r_{y} \\left(\\omega_{1} + \\dot{q}_{0}\\right)^{2} \\left(\\cos{\\left (q_{0} \\right )} + \\cos{\\left (\\theta_{1} \\right )}\\right)\\\\\\ddot{q}_{4} - r_{x} \\left(\\alpha_{2} + \\dot{q}_{3}\\right) \\left(\\sin{\\left (q_{3} \\right )} + \\sin{\\left (\\theta_{2} \\right )}\\right) - r_{x} \\left(\\omega_{2} + \\dot{q}_{3}\\right)^{2} \\left(\\cos{\\left (q_{3} \\right )} + \\cos{\\left (\\theta_{2} \\right )}\\right) - r_{y} \\left(\\alpha_{2} + \\dot{q}_{3}\\right) \\left(\\cos{\\left (q_{3} \\right )} + \\cos{\\left (\\theta_{2} \\right )}\\right) + r_{y} \\left(\\omega_{2} + \\dot{q}_{3}\\right)^{2} \\left(\\sin{\\left (q_{3} \\right )} + \\sin{\\left (\\theta_{2} \\right )}\\right)\\\\\\ddot{q}_{5} + r_{x} \\left(\\alpha_{2} + \\dot{q}_{3}\\right) \\left(\\cos{\\left (q_{3} \\right )} + \\cos{\\left (\\theta_{2} \\right )}\\right) - r_{x} \\left(\\omega_{2} + \\dot{q}_{3}\\right)^{2} \\left(\\sin{\\left (q_{3} \\right )} + \\sin{\\left (\\theta_{2} \\right )}\\right) - r_{y} \\left(\\alpha_{2} + \\dot{q}_{3}\\right) \\left(\\sin{\\left (q_{3} \\right )} + \\sin{\\left (\\theta_{2} \\right )}\\right) - r_{y} \\left(\\omega_{2} + \\dot{q}_{3}\\right)^{2} \\left(\\cos{\\left (q_{3} \\right )} + \\cos{\\left (\\theta_{2} \\right )}\\right)\\end{matrix}\\right]$$"
      ],
      "text/plain": [
       "⎡                                                       2                     \n",
       "⎢q̈₁ - rₓ⋅(α₁ + q̇₀)⋅(sin(q₀) + sin(θ₁)) - rₓ⋅(ω₁ + q̇₀) ⋅(cos(q₀) + cos(θ₁)) \n",
       "⎢                                                                             \n",
       "⎢                                                       2                     \n",
       "⎢q̈₂ + rₓ⋅(α₁ + q̇₀)⋅(cos(q₀) + cos(θ₁)) - rₓ⋅(ω₁ + q̇₀) ⋅(sin(q₀) + sin(θ₁)) \n",
       "⎢                                                                             \n",
       "⎢                                                       2                     \n",
       "⎢q̈₄ - rₓ⋅(α₂ + q̇₃)⋅(sin(q₃) + sin(θ₂)) - rₓ⋅(ω₂ + q̇₃) ⋅(cos(q₃) + cos(θ₂)) \n",
       "⎢                                                                             \n",
       "⎢                                                       2                     \n",
       "⎣q̈₅ + rₓ⋅(α₂ + q̇₃)⋅(cos(q₃) + cos(θ₂)) - rₓ⋅(ω₂ + q̇₃) ⋅(sin(q₃) + sin(θ₂)) \n",
       "\n",
       "                                                     2                    ⎤\n",
       "- r_y⋅(α₁ + q̇₀)⋅(cos(q₀) + cos(θ₁)) + r_y⋅(ω₁ + q̇₀) ⋅(sin(q₀) + sin(θ₁))⎥\n",
       "                                                                          ⎥\n",
       "                                                     2                    ⎥\n",
       "- r_y⋅(α₁ + q̇₀)⋅(sin(q₀) + sin(θ₁)) - r_y⋅(ω₁ + q̇₀) ⋅(cos(q₀) + cos(θ₁))⎥\n",
       "                                                                          ⎥\n",
       "                                                     2                    ⎥\n",
       "- r_y⋅(α₂ + q̇₃)⋅(cos(q₃) + cos(θ₂)) + r_y⋅(ω₂ + q̇₃) ⋅(sin(q₃) + sin(θ₂))⎥\n",
       "                                                                          ⎥\n",
       "                                                     2                    ⎥\n",
       "- r_y⋅(α₂ + q̇₃)⋅(sin(q₃) + sin(θ₂)) - r_y⋅(ω₂ + q̇₃) ⋅(cos(q₃) + cos(θ₂))⎦"
      ]
     },
     "metadata": {},
     "output_type": "display_data"
    }
   ],
   "source": [
    "# Define velocity of element endpoints (nodes)\n",
    "v = sym.simplify(udot + R*Omega_skew*s)\n",
    "print('v = ')\n",
    "display(v)\n",
    "\n",
    "# Define acceleration of element endpoints (nodes)\n",
    "a = sym.simplify(uddot + R*Omega_skew*Omega_skew*s + R*Alpha_skew*s)\n",
    "print('\\na = ')\n",
    "display(a)"
   ]
  },
  {
   "cell_type": "markdown",
   "metadata": {},
   "source": [
    "### Compute the Mass Matrix"
   ]
  },
  {
   "cell_type": "code",
   "execution_count": null,
   "metadata": {
    "collapsed": false
   },
   "outputs": [
    {
     "name": "stdout",
     "output_type": "stream",
     "text": [
      "\n",
      "H = \n"
     ]
    },
    {
     "data": {
      "text/latex": [
       "$$\\left[\\begin{matrix}- \\frac{x}{2} + \\frac{1}{2} & 0 & \\frac{x}{2} + \\frac{1}{2} & 0\\\\0 & - \\frac{x}{2} + \\frac{1}{2} & 0 & \\frac{x}{2} + \\frac{1}{2}\\end{matrix}\\right]$$"
      ],
      "text/plain": [
       "⎡  x   1           x   1       ⎤\n",
       "⎢- ─ + ─     0     ─ + ─    0  ⎥\n",
       "⎢  2   2           2   2       ⎥\n",
       "⎢                              ⎥\n",
       "⎢           x   1         x   1⎥\n",
       "⎢   0     - ─ + ─    0    ─ + ─⎥\n",
       "⎣           2   2         2   2⎦"
      ]
     },
     "metadata": {},
     "output_type": "display_data"
    },
    {
     "name": "stdout",
     "output_type": "stream",
     "text": [
      "\n",
      "V = \n"
     ]
    },
    {
     "data": {
      "text/latex": [
       "$$\\left[\\begin{matrix}\\left(- \\frac{x}{2} + \\frac{1}{2}\\right) \\left(\\dot{q}_{1} - r_{x} \\left(\\omega_{1} + \\dot{q}_{0}\\right) \\left(\\sin{\\left (q_{0} \\right )} + \\sin{\\left (\\theta_{1} \\right )}\\right) - r_{y} \\left(\\omega_{1} + \\dot{q}_{0}\\right) \\left(\\cos{\\left (q_{0} \\right )} + \\cos{\\left (\\theta_{1} \\right )}\\right)\\right) + \\left(\\frac{x}{2} + \\frac{1}{2}\\right) \\left(\\dot{q}_{4} - r_{x} \\left(\\omega_{2} + \\dot{q}_{3}\\right) \\left(\\sin{\\left (q_{3} \\right )} + \\sin{\\left (\\theta_{2} \\right )}\\right) - r_{y} \\left(\\omega_{2} + \\dot{q}_{3}\\right) \\left(\\cos{\\left (q_{3} \\right )} + \\cos{\\left (\\theta_{2} \\right )}\\right)\\right)\\\\\\left(- \\frac{x}{2} + \\frac{1}{2}\\right) \\left(\\dot{q}_{2} + r_{x} \\left(\\omega_{1} + \\dot{q}_{0}\\right) \\left(\\cos{\\left (q_{0} \\right )} + \\cos{\\left (\\theta_{1} \\right )}\\right) - r_{y} \\left(\\omega_{1} + \\dot{q}_{0}\\right) \\left(\\sin{\\left (q_{0} \\right )} + \\sin{\\left (\\theta_{1} \\right )}\\right)\\right) + \\left(\\frac{x}{2} + \\frac{1}{2}\\right) \\left(\\dot{q}_{5} + r_{x} \\left(\\omega_{2} + \\dot{q}_{3}\\right) \\left(\\cos{\\left (q_{3} \\right )} + \\cos{\\left (\\theta_{2} \\right )}\\right) - r_{y} \\left(\\omega_{2} + \\dot{q}_{3}\\right) \\left(\\sin{\\left (q_{3} \\right )} + \\sin{\\left (\\theta_{2} \\right )}\\right)\\right)\\end{matrix}\\right]$$"
      ],
      "text/plain": [
       "⎡⎛  x   1⎞                                                                    \n",
       "⎢⎜- ─ + ─⎟⋅(q̇₁ - rₓ⋅(ω₁ + q̇₀)⋅(sin(q₀) + sin(θ₁)) - r_y⋅(ω₁ + q̇₀)⋅(cos(q₀) \n",
       "⎢⎝  2   2⎠                                                                    \n",
       "⎢                                                                             \n",
       "⎢⎛  x   1⎞                                                                    \n",
       "⎢⎜- ─ + ─⎟⋅(q̇₂ + rₓ⋅(ω₁ + q̇₀)⋅(cos(q₀) + cos(θ₁)) - r_y⋅(ω₁ + q̇₀)⋅(sin(q₀) \n",
       "⎣⎝  2   2⎠                                                                    \n",
       "\n",
       "              ⎛x   1⎞                                                         \n",
       "+ cos(θ₁))) + ⎜─ + ─⎟⋅(q̇₄ - rₓ⋅(ω₂ + q̇₃)⋅(sin(q₃) + sin(θ₂)) - r_y⋅(ω₂ + q̇₃\n",
       "              ⎝2   2⎠                                                         \n",
       "                                                                              \n",
       "              ⎛x   1⎞                                                         \n",
       "+ sin(θ₁))) + ⎜─ + ─⎟⋅(q̇₅ + rₓ⋅(ω₂ + q̇₃)⋅(cos(q₃) + cos(θ₂)) - r_y⋅(ω₂ + q̇₃\n",
       "              ⎝2   2⎠                                                         \n",
       "\n",
       "                      ⎤\n",
       ")⋅(cos(q₃) + cos(θ₂)))⎥\n",
       "                      ⎥\n",
       "                      ⎥\n",
       "                      ⎥\n",
       ")⋅(sin(q₃) + sin(θ₂)))⎥\n",
       "                      ⎦"
      ]
     },
     "metadata": {},
     "output_type": "display_data"
    },
    {
     "name": "stdout",
     "output_type": "stream",
     "text": [
      "\n",
      "Vr = \n"
     ]
    },
    {
     "data": {
      "text/latex": [
       "$$\\left[\\begin{matrix}\\left(- \\frac{x}{2} + \\frac{1}{2}\\right) \\left(- r_{x} \\left(\\sin{\\left (q_{0} \\right )} + \\sin{\\left (\\theta_{1} \\right )}\\right) - r_{y} \\left(\\cos{\\left (q_{0} \\right )} + \\cos{\\left (\\theta_{1} \\right )}\\right)\\right) & - \\frac{x}{2} + \\frac{1}{2} & 0 & \\left(\\frac{x}{2} + \\frac{1}{2}\\right) \\left(- r_{x} \\left(\\sin{\\left (q_{3} \\right )} + \\sin{\\left (\\theta_{2} \\right )}\\right) - r_{y} \\left(\\cos{\\left (q_{3} \\right )} + \\cos{\\left (\\theta_{2} \\right )}\\right)\\right) & \\frac{x}{2} + \\frac{1}{2} & 0\\\\\\left(- \\frac{x}{2} + \\frac{1}{2}\\right) \\left(r_{x} \\left(\\cos{\\left (q_{0} \\right )} + \\cos{\\left (\\theta_{1} \\right )}\\right) - r_{y} \\left(\\sin{\\left (q_{0} \\right )} + \\sin{\\left (\\theta_{1} \\right )}\\right)\\right) & 0 & - \\frac{x}{2} + \\frac{1}{2} & \\left(\\frac{x}{2} + \\frac{1}{2}\\right) \\left(r_{x} \\left(\\cos{\\left (q_{3} \\right )} + \\cos{\\left (\\theta_{2} \\right )}\\right) - r_{y} \\left(\\sin{\\left (q_{3} \\right )} + \\sin{\\left (\\theta_{2} \\right )}\\right)\\right) & 0 & \\frac{x}{2} + \\frac{1}{2}\\end{matrix}\\right]$$"
      ],
      "text/plain": [
       "⎡⎛  x   1⎞                                                        x   1       \n",
       "⎢⎜- ─ + ─⎟⋅(-rₓ⋅(sin(q₀) + sin(θ₁)) - r_y⋅(cos(q₀) + cos(θ₁)))  - ─ + ─     0 \n",
       "⎢⎝  2   2⎠                                                        2   2       \n",
       "⎢                                                                             \n",
       "⎢⎛  x   1⎞                                                                 x  \n",
       "⎢⎜- ─ + ─⎟⋅(rₓ⋅(cos(q₀) + cos(θ₁)) - r_y⋅(sin(q₀) + sin(θ₁)))      0     - ─ +\n",
       "⎣⎝  2   2⎠                                                                 2  \n",
       "\n",
       "    ⎛x   1⎞                                                      x   1       ⎤\n",
       "    ⎜─ + ─⎟⋅(-rₓ⋅(sin(q₃) + sin(θ₂)) - r_y⋅(cos(q₃) + cos(θ₂)))  ─ + ─    0  ⎥\n",
       "    ⎝2   2⎠                                                      2   2       ⎥\n",
       "                                                                             ⎥\n",
       " 1  ⎛x   1⎞                                                             x   1⎥\n",
       " ─  ⎜─ + ─⎟⋅(rₓ⋅(cos(q₃) + cos(θ₂)) - r_y⋅(sin(q₃) + sin(θ₂)))     0    ─ + ─⎥\n",
       " 2  ⎝2   2⎠                                                             2   2⎦"
      ]
     },
     "metadata": {},
     "output_type": "display_data"
    }
   ],
   "source": [
    "# Define shape function for element with one node at each end\n",
    "h = sym.symarray('h', 2)\n",
    "\n",
    "h[0] = sym.Rational(1,2)*(1 - x)\n",
    "h[1] = sym.Rational(1,2)*(1 + x)\n",
    "\n",
    "# Compute shape function matrix\n",
    "H = sym.expand(sym.Matrix([h[0]*sym.eye(2), h[1]*sym.eye(2)])).T\n",
    "print('\\nH = ')\n",
    "display(H)\n",
    "\n",
    "# Define velocity of any point \n",
    "Vp = H*v\n",
    "print('\\nV = ')\n",
    "display(Vp)\n",
    "\n",
    "# Define velocity of any point \n",
    "Ap = H*a\n",
    "# print('\\nA = ')\n",
    "# display(Accel)\n",
    "\n",
    "# Compute partial velocities of the nodes\n",
    "Vr = sym.Matrix([[sym.diff(Vp,qdot) for Vp in Vp] for qdot in qdot]).T\n",
    "# v_r = H\n",
    "print('\\nVr = ')\n",
    "display(Vr)\n",
    "# print(Vr.shape)\n",
    "\n",
    "# Compute mass matrix\n",
    "M = sym.factor(sym.Matrix([[sym.expand(sym.integrate(Vr[:,i].dot(Ap)*rho,('r_x',0,r),('r_y',0,r),(x,0,l))).coeff(qddot[j]) \\\n",
    "                            for i in range(len(qddot))] for j in range(len(qddot))]))\n",
    "\n",
    "pickle.dump( M, open( \"gebf-mass-matrix.dump\", \"wb\" ) )"
   ]
  },
  {
   "cell_type": "code",
   "execution_count": null,
   "metadata": {
    "collapsed": false
   },
   "outputs": [],
   "source": [
    "# print('\\nM = \\n')\n",
    "# display(M)\n",
    "\n",
    "print('M_11 = ')\n",
    "display(M[0:3,0:3])\n",
    "print('\\nM_22 = ')\n",
    "display(M[3:6,3:6])\n",
    "print('\\nM_12 = ')\n",
    "display(M[0:3,3:6])\n",
    "print('\\nM_21.T = ')\n",
    "display(M[3:6,0:3].T)"
   ]
  },
  {
   "cell_type": "markdown",
   "metadata": {},
   "source": [
    "### Compute Internal forces "
   ]
  },
  {
   "cell_type": "markdown",
   "metadata": {},
   "source": [
    "#### 1. Transverse (Bending) Strain"
   ]
  },
  {
   "cell_type": "code",
   "execution_count": null,
   "metadata": {
    "collapsed": false
   },
   "outputs": [],
   "source": [
    "# Orthogonal Matricies Not Extracted to Simplify Algebra\n",
    "R_interp = sym.simplify(H*sym.Matrix([R1,R2]))\n",
    "dT = sym.simplify(H.diff(x)*sym.Matrix([R1,R2]))\n",
    "kappa = sym.simplify(sym.Matrix([Axial_sym(dT*R_interp.T),'0', '0', '0']))\n",
    "display(kappa)"
   ]
  },
  {
   "cell_type": "markdown",
   "metadata": {},
   "source": [
    "#### 2. Longitudinal (Axial) Strian"
   ]
  },
  {
   "cell_type": "code",
   "execution_count": null,
   "metadata": {
    "collapsed": false
   },
   "outputs": [],
   "source": [
    "# Define Locations of Centroid \n",
    "x01 = sym.Matrix(['0','0'])\n",
    "x02 = sym.Matrix(['1','0'])\n",
    "\n",
    "# Define Newtonian Unit Vector x-dir\n",
    "n1 = sym.Matrix(['1','0'])\n",
    "\n",
    "# Interpolate Displacemnts\n",
    "u_int = H*u\n",
    "x_int = H*sym.Matrix([x01,x02])\n",
    "\n",
    "# Derivatives w.r.t longitudinal beam coordinate\n",
    "du = u_int.diff(x)\n",
    "dx0 = x_int.diff(x)\n",
    "\n",
    "# Compute axial strain\n",
    "epsilon = sym.simplify(sym.Matrix.vstack(sym.Matrix(['0','0']), dx0 + du - R_interp*n1))\n",
    "# display(epsilon)"
   ]
  },
  {
   "cell_type": "markdown",
   "metadata": {},
   "source": [
    "#### 3. Compute Internal Forces $Q_e = \\frac{\\partial U}{\\partial e}$"
   ]
  },
  {
   "cell_type": "code",
   "execution_count": null,
   "metadata": {
    "collapsed": false
   },
   "outputs": [],
   "source": [
    "# Transverse strain energy\n",
    "Ut = 1/2*sym.integrate(E*I*kappa.dot(H.diff(x).T*H.diff(x)*kappa), (x,0,l))\n",
    "# Longitudinal strain energy\n",
    "Ul = 1/2*sym.integrate(E*A*epsilon.dot(H.diff(x).T*H.diff(x)*epsilon), (x,0,l))\n",
    "\n",
    "# Compute Total Energy\n",
    "U = Ul + Ut\n",
    "\n",
    "# Compute Internal Force Vector\n",
    "Qe = sym.Matrix([sym.simplify(sym.expand(sym.diff(-U,q))) for q in q])"
   ]
  },
  {
   "cell_type": "markdown",
   "metadata": {},
   "source": [
    "####4. Applied and body force vector"
   ]
  },
  {
   "cell_type": "code",
   "execution_count": null,
   "metadata": {
    "collapsed": false
   },
   "outputs": [],
   "source": [
    "# Applied forces\n",
    "# Gravity body force\n",
    "fg = 9.81*sym.Matrix([0,-1])\n",
    "\n",
    "# Applied torque\n",
    "# torque_app = sym.Matrix([0,0,tau_a])\n",
    "\n",
    "# Compute beta\n",
    "beta = sym.Matrix([sym.simplify(sym.integrate(Vr[:,j].dot(fg),('r_x',0,r),('r_y',0,r),(x,0,l)))\n",
    "                   + qe for j,qe in zip(range(len(q)),Qe)])\n",
    "\n",
    "pickle.dump( beta, open( \"gebf-beta.dump\", \"wb\" ) )"
   ]
  },
  {
   "cell_type": "code",
   "execution_count": null,
   "metadata": {
    "collapsed": false
   },
   "outputs": [],
   "source": [
    "display(beta)"
   ]
  },
  {
   "cell_type": "code",
   "execution_count": null,
   "metadata": {
    "collapsed": false
   },
   "outputs": [],
   "source": []
  }
 ],
 "metadata": {
  "kernelspec": {
   "display_name": "Python 3",
   "language": "python",
   "name": "python3"
  },
  "language_info": {
   "codemirror_mode": {
    "name": "ipython",
    "version": 3
   },
   "file_extension": ".py",
   "mimetype": "text/x-python",
   "name": "python",
   "nbconvert_exporter": "python",
   "pygments_lexer": "ipython3",
   "version": "3.4.3"
  }
 },
 "nbformat": 4,
 "nbformat_minor": 0
}

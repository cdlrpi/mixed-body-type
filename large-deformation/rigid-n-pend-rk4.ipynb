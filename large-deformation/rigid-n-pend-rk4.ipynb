{
 "cells": [
  {
   "cell_type": "markdown",
   "metadata": {},
   "source": [
    "## This notebook simulates a cantilever beam"
   ]
  },
  {
   "cell_type": "code",
   "execution_count": 1,
   "metadata": {
    "collapsed": false
   },
   "outputs": [],
   "source": [
    "import math\n",
    "import time\n",
    "import cProfile\n",
    "import pdb as pdb \n",
    "import numpy as np\n",
    "import scipy as sc\n",
    "from scipy.integrate import odeint\n",
    "\n",
    "import matplotlib.pyplot as plt\n",
    "import matplotlib.animation as animation\n",
    "\n",
    "import MBstructs as MBS\n",
    "import MultiBodyFuncts as MBF\n",
    "import DCA\n",
    "\n",
    "from IPython.display import display\n",
    "from __future__ import division\n",
    "from sympy.interactive import printing\n",
    "printing.init_printing(use_latex='mathjax')\n",
    "np.set_printoptions(precision=4,suppress=True)"
   ]
  },
  {
   "cell_type": "code",
   "execution_count": 2,
   "metadata": {
    "collapsed": false
   },
   "outputs": [],
   "source": [
    "def myRK4(func, state0, tspan, *args):\n",
    "    \"\"\"\n",
    "    Inputs:\n",
    "        func - function that returns the derivatives of the state variables\n",
    "          x0 - starting conditions\n",
    "           t - array of time values \n",
    "   Outputs:\n",
    "       w - approximate solution at the mesh-points (time-steps)\n",
    "    \"\"\"\n",
    "    dt = np.max(np.diff(tspan))\n",
    "    nsteps = len(tspan)\n",
    "    state = np.zeros((nsteps-1,len(state0)))\n",
    "    state = np.vstack((state0,state))\n",
    "        \n",
    "    for i in range(len(tspan)-1):\n",
    "        k1 = dt*func(state[i,:],        tspan,*args)\n",
    "        k2 = dt*func(state[i,:] + k1/2, tspan,*args)\n",
    "        k3 = dt*func(state[i,:] + k2/2, tspan,*args)\n",
    "        k4 = dt*func(state[i,:] + k3,   tspan,*args)\n",
    "        \n",
    "        state[i+1,:] = state[i,:] + (1/6*((k1)+(2*k2)+(2*k3)+(k4))).reshape(1,len(state0))\n",
    "    return state"
   ]
  },
  {
   "cell_type": "code",
   "execution_count": 3,
   "metadata": {
    "collapsed": false
   },
   "outputs": [],
   "source": [
    "def simulate(state,tspan,bodiesGEBF,bodiesRigid,joints,BC1,BC2):\n",
    "    '''\n",
    "    This function extracts the generalized coordinates from the solution \n",
    "    of the equations of motion after calling the DCA to solve the equations of motion \n",
    "    '''\n",
    "    \n",
    "    nGEBF = len(bodiesGEBF)\n",
    "    nRIGID = len(bodiesRigid)\n",
    "    \n",
    "    # only pin joints connecting rigid bodies\n",
    "    q = state[:nRIGID*ndofsRigid + nGEBF*ndofsGEBF]\n",
    "    u = state[nRIGID*ndofsRigid + nGEBF*ndofsGEBF:]\n",
    "    \n",
    "    # slice out rigid generalized coordinates and speeds from GEBF\n",
    "    qRigid = q[:nRIGID*ndofsRigid]\n",
    "    uRigid = u[:nRIGID*ndofsRigid]\n",
    "    qGEBF  = q[nRIGID*ndofsRigid:]\n",
    "    uGEBF  = u[nRIGID*ndofsRigid:]\n",
    "    \n",
    "    # Update the Kinematics 2D n-link Pendulum\n",
    "    # Now that these functions \"woe\n",
    "    # This should be a class function for each body type not an absolute function\n",
    "    # e.g., [body.updateKin for body in bodies]\n",
    "        \n",
    "    MBF.kinematics_Rigid2D(bodiesRigid,qRigid,uRigid)  \n",
    "    MBF.kinematics_GEBF2D(bodiesGEBF,qGEBF,uGEBF)\n",
    "    \n",
    "    # slice out generalized cooridnates\n",
    "    # and make a sublist for each body\n",
    "    # these u's are not generalized speeds these are the displacements of the nodes\n",
    "    u = qGEBF.tolist()\n",
    "    u = [u[i*ndofsGEBF:(i*ndofsGEBF)+ndofsGEBF] for i in range((int(len(u)/ndofsGEBF)))]\n",
    "\n",
    "    # 'pop' off the rotational coordinates \n",
    "    # those are dealt with through the 'kinematic' sweep\n",
    "    for ue in u:\n",
    "        ue.pop(3)\n",
    "        ue.pop(0)\n",
    "        \n",
    "    # compute the inverse inertial properties of the body \n",
    "    # with the updated generalized speeds\n",
    "    for body,ue in zip(bodiesGEBF,u):\n",
    "        body.intProps('gebf',ue)\n",
    "\n",
    "    for body in bodiesRigid:\n",
    "        body.intProps('rigid')\n",
    "\n",
    "    # join the lists of bodies for a total list \n",
    "    # order matters\n",
    "    bodies = bodiesRigid + bodiesGEBF\n",
    "    \n",
    "    # Call the Recursive DCA Algorithm\n",
    "    # This returns a list of the form:\n",
    "    # [A11,A12,A21,A22,...,An1,An2]\n",
    "    # where Axy corresponds to the acceleration\n",
    "    # of the yth handle of the xth body\n",
    "    accel = DCA.solve(nbodies,0,bodies,joints,BC1,BC2)\n",
    "    \n",
    "    accelRigid = accel[:2*len(bodiesRigid)]\n",
    "    accelGEBF  = accel[2*len(bodiesRigid):]\n",
    "\n",
    "    # compute the generalized accelerations for kinematic joints\n",
    "    udot_Rigid = MBF.get_gen_accel_Rigid(nRIGID, joints, accelRigid)\n",
    "    udot_GEBF  = MBF.get_gen_accel_GEBF(nGEBF, accelGEBF)\n",
    "    udot = np.hstack((udot_Rigid,udot_GEBF))\n",
    "\n",
    "    state_dot = np.hstack((state[nRIGID*ndofsRigid + nGEBF*ndofsGEBF:],udot))\n",
    "    return state_dot"
   ]
  },
  {
   "cell_type": "markdown",
   "metadata": {},
   "source": [
    "### Simulation Specifications"
   ]
  },
  {
   "cell_type": "code",
   "execution_count": 4,
   "metadata": {
    "collapsed": false
   },
   "outputs": [],
   "source": [
    "# number of bodies and GEBF elements and kinematic joints\n",
    "# *** NOTE: For testing pupposes DCA does NOT effectively work for one body\n",
    "#          - For one body DCA returns [A1 F1c A2 F2c]\n",
    "#          - For two or more bodies DCA returns [A1 A2] ***\n",
    "nRIGID = 2\n",
    "nGEBF  = 0\n",
    "\n",
    "nbodies = nGEBF + nRIGID\n",
    "\n",
    "nJKIN = 2\n",
    "ndofsGEBF = 6   # (x,y,theta per joint)\n",
    "ndofsRigid  = 1 # (one pin joint)\n",
    "\n",
    "# GEBF-Properties\n",
    "# Physical Properties\n",
    "A   =  0.0018\n",
    "I   =  1.215e-8\n",
    "L   =  1.2\n",
    "r   =  math.sqrt(A/math.pi)\n",
    "l = L/10.0\n",
    "\n",
    "# Material Properties\n",
    "E   =  0.7e6\n",
    "rho =  5540\n",
    "\n",
    "# Length of time of the simulation and time-step\n",
    "t_final = 1\n",
    "dt = 0.01\n",
    "tspan = np.arange(0,t_final,dt)"
   ]
  },
  {
   "cell_type": "markdown",
   "metadata": {},
   "source": [
    "### Initilization"
   ]
  },
  {
   "cell_type": "code",
   "execution_count": 5,
   "metadata": {
    "collapsed": true
   },
   "outputs": [],
   "source": [
    "# Create a list of Joints\n",
    "jointsKIN = [MBS.Joint('revolute2D') for i in range(nJKIN)]\n",
    "jointsGEBF = [MBS.Joint('fixed') for i in range (nGEBF)]\n",
    "joints = jointsKIN + jointsGEBF\n",
    "\n",
    "# Create a the list of bodies \n",
    "bodiesGEBF = [MBS.Body() for i in range(nGEBF)]\n",
    "bodiesRigid = [MBS.Body() for i in range(nRIGID)]\n",
    "for body in bodiesGEBF:\n",
    "    body.initialize('gebf', E, A, I, r, rho, l)\n",
    "for body in bodiesRigid:\n",
    "    body.initialize('rigid', 1.0,1.0,1/12.0)\n",
    "    \n",
    "# start the rope from the horizontal qi = 0 for ALL i\n",
    "\n",
    "# sublists handy for initilization of bodies \n",
    "q0GEBF = [[0 for i in range(ndofsGEBF)] for i in range(nGEBF)]\n",
    "u0GEBF = [[0 for i in range(ndofsGEBF)] for i in range(nGEBF)]\n",
    "\n",
    "# All rigid bodies are connected by pin joints\n",
    "q0Rigid = [[0 for i in range(ndofsRigid)] for i in range(nRIGID)]\n",
    "u0Rigid = [[0 for i in range(ndofsRigid)] for i in range(nRIGID)]\n",
    "\n",
    "q0 = q0Rigid + q0GEBF\n",
    "u0 = u0Rigid + u0GEBF\n",
    "\n",
    "# flatten sub-lists into a single state vector\n",
    "q0 = np.array([q for q_body in q0 for q in q_body],dtype=np.double).squeeze()\n",
    "u0 = np.array([u for u_body in u0 for u in u_body],dtype=np.double).squeeze()\n",
    "\n",
    "state0 = np.hstack((q0,u0))"
   ]
  },
  {
   "cell_type": "code",
   "execution_count": 6,
   "metadata": {
    "collapsed": false
   },
   "outputs": [],
   "source": [
    "# %%prun -s cumulative \n",
    "state =  myRK4(simulate,state0,tspan, bodiesGEBF,bodiesRigid,joints,2,1)\n",
    "# state = odeint(simulate,state0,tspan,(bodiesGEBF,bodiesRigid,joints,2,1))"
   ]
  },
  {
   "cell_type": "code",
   "execution_count": 7,
   "metadata": {
    "collapsed": false
   },
   "outputs": [],
   "source": [
    "q = state[:,:nRIGID*ndofsRigid + nGEBF*ndofsGEBF]\n",
    "u = state[:,nRIGID*ndofsRigid + nGEBF*ndofsGEBF:]\n",
    "\n",
    "# slice out rigid generalized coordinates and speeds from GEBF\n",
    "qRigid = q[:,:nRIGID*ndofsRigid]\n",
    "uRigid = u[:,:nRIGID*ndofsRigid]\n",
    "qGEBF  = q[:,nRIGID*ndofsRigid:]\n",
    "uGEBF  = u[:,nRIGID*ndofsRigid:]\n",
    "\n",
    "# x,y = get_topology_2DRigid(qRigid)\n",
    "r0 = np.array([[l*i, 0, l*(i+1), 0] \n",
    "               for i in range(nGEBF)],dtype=np.double).reshape(1,ndofsGEBF*nGEBF - 2*nGEBF)\n",
    "\n",
    "# Interpolate between nodes with npoints, and compute absolute positions of nodes for plotting\n",
    "# npoints = 10\n",
    "# x,y = MBF.get_topology_2DGEBF(qGEBF, r0, nGEBF, npoints)"
   ]
  },
  {
   "cell_type": "code",
   "execution_count": 8,
   "metadata": {
    "collapsed": false
   },
   "outputs": [],
   "source": [
    "ke,pe,te = MBF.get_energy_Rigid(bodiesRigid,state)"
   ]
  },
  {
   "cell_type": "code",
   "execution_count": 9,
   "metadata": {
    "collapsed": false
   },
   "outputs": [],
   "source": [
    "x,y = MBF.get_topology_2DRigid(qRigid,bodiesRigid)"
   ]
  },
  {
   "cell_type": "code",
   "execution_count": 10,
   "metadata": {
    "collapsed": false
   },
   "outputs": [],
   "source": [
    "# fig = plt.figure()\n",
    "# ax = fig.add_subplot(111, autoscale_on=False, xlim=(-0.3, 0.3), ylim=(-0.3, 0.3))\n",
    "# ax.grid()\n",
    "\n",
    "# line, = ax.plot([], [], 'o-', lw=2)\n",
    "# time_template = 'time = %.001fs'\n",
    "# time_text = ax.text(0.05, 0.9, '', transform=ax.transAxes)\n",
    "\n",
    "# def init():\n",
    "#     line.set_data([], [])\n",
    "#     time_text.set_text('')\n",
    "#     return line, time_text\n",
    "\n",
    "# def sys_update(x, y, line):\n",
    "#     line.set_data(x, y)\n",
    "#     return line,\n",
    "\n",
    "\n",
    "# def animate(i):\n",
    "#     thisx = x[i]\n",
    "#     thisy = y[i]\n",
    "\n",
    "#     line.set_data(thisx, thisy)\n",
    "#     time_text.set_text(time_template%(i*dt))\n",
    "#     return line, time_text\n",
    "\n",
    "# ani = animation.FuncAnimation(fig, animate, np.arange(1, len(y)),\n",
    "#     interval = 10, blit=False, init_func=init)\n",
    "\n",
    "# #ani.save('double_pendulum.mp4', fps=15)\n",
    "# plt.show()"
   ]
  },
  {
   "cell_type": "code",
   "execution_count": 11,
   "metadata": {
    "collapsed": false
   },
   "outputs": [
    {
     "data": {
      "image/png": "[encoded data removed]",
      "text/plain": [
       "<matplotlib.figure.Figure at 0x108337dd8>"
      ]
     },
     "metadata": {},
     "output_type": "display_data"
    },
    {
     "data": {
      "text/plain": [
       "<function matplotlib.pyplot.show>"
      ]
     },
     "execution_count": 11,
     "metadata": {},
     "output_type": "execute_result"
    },
    {
     "data": {
      "image/png": "[encoded data removed]",
      "text/plain": [
       "<matplotlib.figure.Figure at 0x10842f128>"
      ]
     },
     "metadata": {},
     "output_type": "display_data"
    }
   ],
   "source": [
    "# The energy of the system is calculated and plotted\n",
    "%matplotlib inline \n",
    "plt.plot(tspan,te-te[0])\n",
    "plt.xlabel(\"Time [s]\")\n",
    "plt.ylabel(\"energy\")\n",
    "plt.title(\"System Energy\")\n",
    "plt.show()\n",
    "\n",
    "plt.plot(tspan,pe,tspan,ke)\n",
    "plt.xlabel(\"Time[s]\")\n",
    "plt.ylabel(\"energy\")\n",
    "plt.title(\"Kinetic and Potential Energy\")\n",
    "plt.show"
   ]
  },
  {
   "cell_type": "code",
   "execution_count": 12,
   "metadata": {
    "collapsed": true
   },
   "outputs": [],
   "source": [
    "%qtconsole"
   ]
  },
  {
   "cell_type": "code",
   "execution_count": null,
   "metadata": {
    "collapsed": true
   },
   "outputs": [],
   "source": []
  }
 ],
 "metadata": {
  "kernelspec": {
   "display_name": "Python 3",
   "language": "python",
   "name": "python3"
  },
  "language_info": {
   "codemirror_mode": {
    "name": "ipython",
    "version": 3
   },
   "file_extension": ".py",
   "mimetype": "text/x-python",
   "name": "python",
   "nbconvert_exporter": "python",
   "pygments_lexer": "ipython3",
   "version": "3.4.3"
  }
 },
 "nbformat": 4,
 "nbformat_minor": 0
}

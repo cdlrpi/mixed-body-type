{
 "cells": [
  {
   "cell_type": "code",
   "execution_count": 1,
   "metadata": {
    "collapsed": false
   },
   "outputs": [],
   "source": [
    "import sympy as sym\n",
    "\n",
    "from sympy.interactive import printing\n",
    "printing.init_printing(use_latex='mathjax')"
   ]
  },
  {
   "cell_type": "code",
   "execution_count": 2,
   "metadata": {
    "collapsed": false
   },
   "outputs": [],
   "source": [
    "x, l = sym.symbols('x l')\n",
    "h = sym.symarray('h', 2)\n",
    "\n",
    "h[0] = sym.Rational(1,2)*(1 - x)\n",
    "h[1] = sym.Rational(1,2)*(1 + x)\n",
    "\n",
    "H = sym.expand(sym.Matrix([h[0]*sym.eye(2), h[1]*sym.eye(2)])).T"
   ]
  },
  {
   "cell_type": "code",
   "execution_count": 3,
   "metadata": {
    "collapsed": true
   },
   "outputs": [],
   "source": [
    "D = H.T*H"
   ]
  },
  {
   "cell_type": "code",
   "execution_count": 4,
   "metadata": {
    "collapsed": false
   },
   "outputs": [
    {
     "data": {
      "text/latex": [
       "$$\\left[\\begin{matrix}\\left(- \\frac{x}{2} + \\frac{1}{2}\\right)^{2} & 0 & \\left(- \\frac{x}{2} + \\frac{1}{2}\\right) \\left(\\frac{x}{2} + \\frac{1}{2}\\right) & 0\\\\0 & \\left(- \\frac{x}{2} + \\frac{1}{2}\\right)^{2} & 0 & \\left(- \\frac{x}{2} + \\frac{1}{2}\\right) \\left(\\frac{x}{2} + \\frac{1}{2}\\right)\\\\\\left(- \\frac{x}{2} + \\frac{1}{2}\\right) \\left(\\frac{x}{2} + \\frac{1}{2}\\right) & 0 & \\left(\\frac{x}{2} + \\frac{1}{2}\\right)^{2} & 0\\\\0 & \\left(- \\frac{x}{2} + \\frac{1}{2}\\right) \\left(\\frac{x}{2} + \\frac{1}{2}\\right) & 0 & \\left(\\frac{x}{2} + \\frac{1}{2}\\right)^{2}\\end{matrix}\\right]$$"
      ],
      "text/plain": [
       "⎡            2                                                             ⎤\n",
       "⎢   ⎛  x   1⎞                          ⎛  x   1⎞ ⎛x   1⎞                   ⎥\n",
       "⎢   ⎜- ─ + ─⎟               0          ⎜- ─ + ─⎟⋅⎜─ + ─⎟          0        ⎥\n",
       "⎢   ⎝  2   2⎠                          ⎝  2   2⎠ ⎝2   2⎠                   ⎥\n",
       "⎢                                                                          ⎥\n",
       "⎢                               2                                          ⎥\n",
       "⎢                      ⎛  x   1⎞                          ⎛  x   1⎞ ⎛x   1⎞⎥\n",
       "⎢        0             ⎜- ─ + ─⎟               0          ⎜- ─ + ─⎟⋅⎜─ + ─⎟⎥\n",
       "⎢                      ⎝  2   2⎠                          ⎝  2   2⎠ ⎝2   2⎠⎥\n",
       "⎢                                                                          ⎥\n",
       "⎢                                                 2                        ⎥\n",
       "⎢⎛  x   1⎞ ⎛x   1⎞                         ⎛x   1⎞                         ⎥\n",
       "⎢⎜- ─ + ─⎟⋅⎜─ + ─⎟          0              ⎜─ + ─⎟                0        ⎥\n",
       "⎢⎝  2   2⎠ ⎝2   2⎠                         ⎝2   2⎠                         ⎥\n",
       "⎢                                                                          ⎥\n",
       "⎢                                                                    2     ⎥\n",
       "⎢                   ⎛  x   1⎞ ⎛x   1⎞                         ⎛x   1⎞      ⎥\n",
       "⎢        0          ⎜- ─ + ─⎟⋅⎜─ + ─⎟          0              ⎜─ + ─⎟      ⎥\n",
       "⎣                   ⎝  2   2⎠ ⎝2   2⎠                         ⎝2   2⎠      ⎦"
      ]
     },
     "execution_count": 4,
     "metadata": {},
     "output_type": "execute_result"
    }
   ],
   "source": [
    "D"
   ]
  },
  {
   "cell_type": "code",
   "execution_count": 5,
   "metadata": {
    "collapsed": false
   },
   "outputs": [
    {
     "data": {
      "text/latex": [
       "$$\\left[\\begin{matrix}\\frac{l^{3}}{12} - \\frac{l^{2}}{4} + \\frac{l}{4}\\\\0\\\\- \\frac{l^{3}}{12} + \\frac{l}{4}\\\\0\\\\0\\\\\\frac{l^{3}}{12} - \\frac{l^{2}}{4} + \\frac{l}{4}\\\\0\\\\- \\frac{l^{3}}{12} + \\frac{l}{4}\\\\- \\frac{l^{3}}{12} + \\frac{l}{4}\\\\0\\\\\\frac{l^{3}}{12} + \\frac{l^{2}}{4} + \\frac{l}{4}\\\\0\\\\0\\\\- \\frac{l^{3}}{12} + \\frac{l}{4}\\\\0\\\\\\frac{l^{3}}{12} + \\frac{l^{2}}{4} + \\frac{l}{4}\\end{matrix}\\right]$$"
      ],
      "text/plain": [
       "⎡ 3    2    ⎤\n",
       "⎢l    l    l⎥\n",
       "⎢── - ── + ─⎥\n",
       "⎢12   4    4⎥\n",
       "⎢           ⎥\n",
       "⎢     0     ⎥\n",
       "⎢           ⎥\n",
       "⎢    3      ⎥\n",
       "⎢   l    l  ⎥\n",
       "⎢ - ── + ─  ⎥\n",
       "⎢   12   4  ⎥\n",
       "⎢           ⎥\n",
       "⎢     0     ⎥\n",
       "⎢           ⎥\n",
       "⎢     0     ⎥\n",
       "⎢           ⎥\n",
       "⎢ 3    2    ⎥\n",
       "⎢l    l    l⎥\n",
       "⎢── - ── + ─⎥\n",
       "⎢12   4    4⎥\n",
       "⎢           ⎥\n",
       "⎢     0     ⎥\n",
       "⎢           ⎥\n",
       "⎢    3      ⎥\n",
       "⎢   l    l  ⎥\n",
       "⎢ - ── + ─  ⎥\n",
       "⎢   12   4  ⎥\n",
       "⎢           ⎥\n",
       "⎢    3      ⎥\n",
       "⎢   l    l  ⎥\n",
       "⎢ - ── + ─  ⎥\n",
       "⎢   12   4  ⎥\n",
       "⎢           ⎥\n",
       "⎢     0     ⎥\n",
       "⎢           ⎥\n",
       "⎢ 3    2    ⎥\n",
       "⎢l    l    l⎥\n",
       "⎢── + ── + ─⎥\n",
       "⎢12   4    4⎥\n",
       "⎢           ⎥\n",
       "⎢     0     ⎥\n",
       "⎢           ⎥\n",
       "⎢     0     ⎥\n",
       "⎢           ⎥\n",
       "⎢    3      ⎥\n",
       "⎢   l    l  ⎥\n",
       "⎢ - ── + ─  ⎥\n",
       "⎢   12   4  ⎥\n",
       "⎢           ⎥\n",
       "⎢     0     ⎥\n",
       "⎢           ⎥\n",
       "⎢ 3    2    ⎥\n",
       "⎢l    l    l⎥\n",
       "⎢── + ── + ─⎥\n",
       "⎣12   4    4⎦"
      ]
     },
     "execution_count": 5,
     "metadata": {},
     "output_type": "execute_result"
    }
   ],
   "source": [
    "sym.integrate(D,(x,0,l))"
   ]
  },
  {
   "cell_type": "code",
   "execution_count": null,
   "metadata": {
    "collapsed": true
   },
   "outputs": [],
   "source": []
  }
 ],
 "metadata": {
  "kernelspec": {
   "display_name": "Python 3",
   "language": "python",
   "name": "python3"
  },
  "language_info": {
   "codemirror_mode": {
    "name": "ipython",
    "version": 3
   },
   "file_extension": ".py",
   "mimetype": "text/x-python",
   "name": "python",
   "nbconvert_exporter": "python",
   "pygments_lexer": "ipython3",
   "version": "3.4.3"
  }
 },
 "nbformat": 4,
 "nbformat_minor": 0
}

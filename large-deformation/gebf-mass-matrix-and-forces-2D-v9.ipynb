{
 "cells": [
  {
   "cell_type": "markdown",
   "metadata": {},
   "source": [
    "# Beam Element - This notebook computes the mass-matrix and body-forces for later use"
   ]
  },
  {
   "cell_type": "code",
   "execution_count": 1,
   "metadata": {
    "collapsed": false
   },
   "outputs": [],
   "source": [
    "import numpy as np\n",
    "import scipy as sp\n",
    "import sympy as sym\n",
    "import pickle\n",
    "\n",
    "from scipy import linalg\n",
    "from sympy import mpmath\n",
    "from sympy import cos, sin\n",
    "from sympy import lambdify\n",
    "\n",
    "from IPython.display import display\n",
    "from __future__ import division\n",
    "from sympy.interactive import printing\n",
    "printing.init_printing(use_latex=True)\n",
    "np.set_printoptions(precision=4,suppress=True)\n",
    "from sympy.interactive import printing\n",
    "\n",
    "\n",
    "import matplotlib.pyplot as plt\n",
    "%matplotlib inline"
   ]
  },
  {
   "cell_type": "code",
   "execution_count": 2,
   "metadata": {
    "collapsed": true
   },
   "outputs": [],
   "source": [
    "# np.linalg.inv()"
   ]
  },
  {
   "cell_type": "markdown",
   "metadata": {},
   "source": [
    "#### Define Needed Functions"
   ]
  },
  {
   "cell_type": "code",
   "execution_count": 3,
   "metadata": {
    "collapsed": false
   },
   "outputs": [],
   "source": [
    "def Skew_sym(v):\n",
    "    \"\"\"\n",
    "    This function returns the skew symetric matrix \n",
    "    of the vector 'v' to affect the cross product of 'v'x'u'\n",
    "    \"\"\"\n",
    "    v_matrix = sym.Matrix([[  0 , -v[2]],\n",
    "                          [v[2],     0]])\n",
    "    return v_matrix"
   ]
  },
  {
   "cell_type": "code",
   "execution_count": 4,
   "metadata": {
    "collapsed": true
   },
   "outputs": [],
   "source": [
    "def Axial_sym(A):\n",
    "    '''\n",
    "    This funtcion returns the vector of the skew-symmectric matrix in 2D\n",
    "    '''\n",
    "    a_vec = 1/2*sym.Matrix([A[1,0] - A[0,1]])\n",
    "    return a_vec"
   ]
  },
  {
   "cell_type": "code",
   "execution_count": 5,
   "metadata": {
    "collapsed": false
   },
   "outputs": [],
   "source": [
    "def Rotate_sym(theta):\n",
    "    \"\"\"\n",
    "    This function returns the symbolic rotation matrix \n",
    "    for the simple 2D-rotation about the third axis\n",
    "    \"\"\"\n",
    "    R = sym.Matrix([[sym.cos(theta), -sym.sin(theta)],\n",
    "                    [sym.sin(theta),  sym.cos(theta)]])\n",
    "    return R"
   ]
  },
  {
   "cell_type": "markdown",
   "metadata": {},
   "source": [
    "#### Define symbolic quantites"
   ]
  },
  {
   "cell_type": "code",
   "execution_count": 6,
   "metadata": {
    "collapsed": false
   },
   "outputs": [
    {
     "name": "stdout",
     "output_type": "stream",
     "text": [
      "\n",
      "H = \n"
     ]
    },
    {
     "data": {
      "image/png": "[encoded data removed]",
      "text/latex": [
       "$$\\left[\\begin{matrix}1 - \\frac{x}{l} & 0 & \\frac{x}{l} & 0\\\\0 & 1 - \\frac{x}{l} & 0 & \\frac{x}{l}\\end{matrix}\\right]$$"
      ],
      "text/plain": [
       "⎡    x         x   ⎤\n",
       "⎢1 - ─    0    ─  0⎥\n",
       "⎢    l         l   ⎥\n",
       "⎢                  ⎥\n",
       "⎢           x     x⎥\n",
       "⎢  0    1 - ─  0  ─⎥\n",
       "⎣           l     l⎦"
      ]
     },
     "metadata": {},
     "output_type": "display_data"
    }
   ],
   "source": [
    "# symbolic system parameters \n",
    "E, G, I, A, rho, x, l, r, g, pi, m, a, b= sym.symbols('E G I A rho x l r g, pi, m, a, b')\n",
    "\n",
    "# Kinematic values of previos nodes (generic)\n",
    "# e.g., omega_node  = omega + qdot\n",
    "theta = sym.Matrix(['theta_1','theta_2'])\n",
    "theta_dot = sym.Matrix(['thetadot_1','thetadot_2'])\n",
    "theta_ddot = sym.Matrix(['thetaddot_1','thetaddot_2'])\n",
    "omega = sym.Matrix(['omega_1','omega_2'])\n",
    "alpha = sym.Matrix(['alpha_1','alpha_2'])\n",
    "\n",
    "# coordinates of the point in the 2D cross-section\n",
    "# of nodes one and two \n",
    "s = sym.Matrix(['r_1','r_2'])\n",
    "s[0] = 0\n",
    "\n",
    "# generalized coordinates\n",
    "# one rotation and two displacements per-node (two nodes per element)\n",
    "# in this version generalzied speeds are NOT ALWAYS qdots\n",
    "q = sym.Matrix(sym.symarray('q',6))\n",
    "qdot = sym.Matrix(sym.symarray('qdot',len(q)))\n",
    "qddot = sym.Matrix(sym.symarray('qddot',len(q)))\n",
    "\n",
    "# Deformations of Nodes (u's are not generalized speeds) \n",
    "delta = sym.Matrix([q[1:3,0], q[4:6,0]])\n",
    "deltadot = sym.Matrix([qdot[1:3,0], qdot[4:8,0]])\n",
    "deltaddot = sym.Matrix([qddot[1:3,0], qddot[4:6,0]])\n",
    "# display([q,qdot,qddot])\n",
    "# display([u,udot,uddot])\n",
    "\n",
    "# Define shape function for element with one node at each end\n",
    "h = sym.symarray('h', 2)\n",
    "h[0] = (1 - x/l)\n",
    "h[1] = (x/l)\n",
    "\n",
    "# Compute shape function matrix\n",
    "H = sym.Matrix([h[0]*sym.eye(2), h[1]*sym.eye(2)]).T\n",
    "dHdx = H.diff(x)\n",
    "print('\\nH = ')\n",
    "display(H)"
   ]
  },
  {
   "cell_type": "code",
   "execution_count": 7,
   "metadata": {
    "collapsed": false
   },
   "outputs": [
    {
     "data": {
      "image/png": "[encoded data removed]",
      "text/latex": [
       "$$\\left[\\begin{matrix}q_{4}\\\\q_{5}\\end{matrix}\\right]$$"
      ],
      "text/plain": [
       "⎡q₄⎤\n",
       "⎢  ⎥\n",
       "⎣q₅⎦"
      ]
     },
     "execution_count": 7,
     "metadata": {},
     "output_type": "execute_result"
    }
   ],
   "source": [
    "(H*delta).subs(x,l)"
   ]
  },
  {
   "cell_type": "markdown",
   "metadata": {},
   "source": [
    "### Needed Matrix Quantities"
   ]
  },
  {
   "cell_type": "code",
   "execution_count": 8,
   "metadata": {
    "collapsed": false
   },
   "outputs": [],
   "source": [
    "# Kinematics of the 2D planar SINGLE element\n",
    "# theta[0] = q[0]\n",
    "# theta[1] = q[0] + q[3]\n",
    "# theta_dot[0] = qdot[0]\n",
    "# theta_dot[1] = qdot[0] + qdot[3]\n",
    "# theta_ddot[0] = qddot[0]\n",
    "# theta_ddot[1] = qddot[0] + qddot[3]\n",
    "\n",
    "# Rotation Matricies for each node\n",
    "R1 = Rotate_sym(theta[0])\n",
    "R2 = Rotate_sym(theta[1])\n",
    "\n",
    "# Angular Velocities and Accelerations are trivial for the 2D case\n",
    "# For each node\n",
    "omega1_skew = Skew_sym([0,0,omega[0]])\n",
    "omega2_skew = Skew_sym([0,0,omega[1]])\n",
    "alpha1_skew = Skew_sym([0,0,alpha[0]])\n",
    "alpha2_skew = Skew_sym([0,0,alpha[1]])\n",
    "\n",
    "R_interp = H*sym.Matrix.vstack(R1,R2)\n"
   ]
  },
  {
   "cell_type": "code",
   "execution_count": 9,
   "metadata": {
    "collapsed": false
   },
   "outputs": [
    {
     "data": {
      "image/png": "[encoded data removed]",
      "text/latex": [
       "$$\\left[\\begin{matrix}\\ddot{q}_{1} \\left(1 - \\frac{x}{l}\\right) + \\frac{\\ddot{q}_{4} x}{l}\\\\\\ddot{q}_{2} \\left(1 - \\frac{x}{l}\\right) + \\frac{\\ddot{q}_{5} x}{l}\\end{matrix}\\right]$$"
      ],
      "text/plain": [
       "⎡    ⎛    x⎞   q̈₄⋅x⎤\n",
       "⎢q̈₁⋅⎜1 - ─⎟ + ─────⎥\n",
       "⎢    ⎝    l⎠     l  ⎥\n",
       "⎢                   ⎥\n",
       "⎢    ⎛    x⎞   q̈₅⋅x⎥\n",
       "⎢q̈₂⋅⎜1 - ─⎟ + ─────⎥\n",
       "⎣    ⎝    l⎠     l  ⎦"
      ]
     },
     "execution_count": 9,
     "metadata": {},
     "output_type": "execute_result"
    }
   ],
   "source": [
    "H*deltaddot"
   ]
  },
  {
   "cell_type": "markdown",
   "metadata": {},
   "source": [
    "### Define Kinematics"
   ]
  },
  {
   "cell_type": "code",
   "execution_count": 10,
   "metadata": {
    "collapsed": false
   },
   "outputs": [
    {
     "data": {
      "image/png": "[encoded data removed]",
      "text/latex": [
       "$$\\left[\\begin{matrix}0 & - \\alpha_{1} \\left(1 - \\frac{x}{l}\\right) - \\frac{\\alpha_{2} x}{l}\\\\\\alpha_{1} \\left(1 - \\frac{x}{l}\\right) + \\frac{\\alpha_{2} x}{l} & 0\\end{matrix}\\right]$$"
      ],
      "text/plain": [
       "⎡                        ⎛    x⎞   α₂⋅x⎤\n",
       "⎢        0          - α₁⋅⎜1 - ─⎟ - ────⎥\n",
       "⎢                        ⎝    l⎠    l  ⎥\n",
       "⎢                                      ⎥\n",
       "⎢   ⎛    x⎞   α₂⋅x                     ⎥\n",
       "⎢α₁⋅⎜1 - ─⎟ + ────           0         ⎥\n",
       "⎣   ⎝    l⎠    l                       ⎦"
      ]
     },
     "execution_count": 10,
     "metadata": {},
     "output_type": "execute_result"
    }
   ],
   "source": [
    "H*sym.Matrix.vstack(alpha1_skew,alpha2_skew)"
   ]
  },
  {
   "cell_type": "code",
   "execution_count": 11,
   "metadata": {
    "collapsed": false
   },
   "outputs": [
    {
     "data": {
      "image/png": "[encoded data removed]",
      "text/latex": [
       "$$\\left[\\begin{matrix}r_{2} \\left(- \\left(1 - \\frac{x}{l}\\right) \\sin{\\left (\\theta_{1} \\right )} - \\frac{x}{l} \\sin{\\left (\\theta_{2} \\right )}\\right)\\\\r_{2} \\left(\\left(1 - \\frac{x}{l}\\right) \\cos{\\left (\\theta_{1} \\right )} + \\frac{x}{l} \\cos{\\left (\\theta_{2} \\right )}\\right)\\end{matrix}\\right]$$"
      ],
      "text/plain": [
       "⎡   ⎛  ⎛    x⎞           x⋅sin(θ₂)⎞⎤\n",
       "⎢r₂⋅⎜- ⎜1 - ─⎟⋅sin(θ₁) - ─────────⎟⎥\n",
       "⎢   ⎝  ⎝    l⎠               l    ⎠⎥\n",
       "⎢                                  ⎥\n",
       "⎢    ⎛⎛    x⎞           x⋅cos(θ₂)⎞ ⎥\n",
       "⎢ r₂⋅⎜⎜1 - ─⎟⋅cos(θ₁) + ─────────⎟ ⎥\n",
       "⎣    ⎝⎝    l⎠               l    ⎠ ⎦"
      ]
     },
     "execution_count": 11,
     "metadata": {},
     "output_type": "execute_result"
    }
   ],
   "source": [
    "R_interp*s"
   ]
  },
  {
   "cell_type": "code",
   "execution_count": 12,
   "metadata": {
    "collapsed": false,
    "scrolled": true
   },
   "outputs": [
    {
     "name": "stdout",
     "output_type": "stream",
     "text": [
      "vp = \n"
     ]
    },
    {
     "data": {
      "image/png": "[encoded data removed]",
      "text/latex": [
       "$$\\left[\\begin{matrix}\\frac{1}{l^{2}} \\left(l \\left(\\dot{q}_{1} \\left(l - x\\right) + \\dot{q}_{4} x\\right) - r_{2} \\left(\\omega_{1} \\left(l - x\\right) + \\omega_{2} x\\right) \\left(x \\cos{\\left (\\theta_{2} \\right )} + \\left(l - x\\right) \\cos{\\left (\\theta_{1} \\right )}\\right)\\right)\\\\\\frac{1}{l^{2}} \\left(l \\left(\\dot{q}_{2} \\left(l - x\\right) + \\dot{q}_{5} x\\right) - r_{2} \\left(\\omega_{1} \\left(l - x\\right) + \\omega_{2} x\\right) \\left(x \\sin{\\left (\\theta_{2} \\right )} + \\left(l - x\\right) \\sin{\\left (\\theta_{1} \\right )}\\right)\\right)\\end{matrix}\\right]$$"
      ],
      "text/plain": [
       "⎡l⋅(q̇₁⋅(l - x) + q̇₄⋅x) - r₂⋅(ω₁⋅(l - x) + ω₂⋅x)⋅(x⋅cos(θ₂) + (l - x)⋅cos(θ₁)\n",
       "⎢─────────────────────────────────────────────────────────────────────────────\n",
       "⎢                                       2                                     \n",
       "⎢                                      l                                      \n",
       "⎢                                                                             \n",
       "⎢l⋅(q̇₂⋅(l - x) + q̇₅⋅x) - r₂⋅(ω₁⋅(l - x) + ω₂⋅x)⋅(x⋅sin(θ₂) + (l - x)⋅sin(θ₁)\n",
       "⎢─────────────────────────────────────────────────────────────────────────────\n",
       "⎢                                       2                                     \n",
       "⎣                                      l                                      \n",
       "\n",
       ")⎤\n",
       "─⎥\n",
       " ⎥\n",
       " ⎥\n",
       " ⎥\n",
       ")⎥\n",
       "─⎥\n",
       " ⎥\n",
       " ⎦"
      ]
     },
     "metadata": {},
     "output_type": "display_data"
    },
    {
     "name": "stdout",
     "output_type": "stream",
     "text": [
      "\n",
      "ap = \n"
     ]
    },
    {
     "data": {
      "image/png": "[encoded data removed]",
      "text/latex": [
       "$$\\left[\\begin{matrix}\\frac{1}{l^{2}} \\left(l \\left(\\ddot{q}_{1} \\left(l - x\\right) + \\ddot{q}_{4} x\\right) + r_{2} \\left(- \\left(\\alpha_{1} \\left(l - x\\right) + \\alpha_{2} x\\right) \\left(x \\cos{\\left (\\theta_{2} \\right )} + \\left(l - x\\right) \\cos{\\left (\\theta_{1} \\right )}\\right) + \\left(\\omega_{1}^{2} \\left(l - x\\right) + \\omega_{2}^{2} x\\right) \\left(x \\sin{\\left (\\theta_{2} \\right )} + \\left(l - x\\right) \\sin{\\left (\\theta_{1} \\right )}\\right)\\right)\\right)\\\\\\frac{1}{l^{2}} \\left(l \\left(\\ddot{q}_{2} \\left(l - x\\right) + \\ddot{q}_{5} x\\right) + r_{2} \\left(- \\left(\\alpha_{1} \\left(l - x\\right) + \\alpha_{2} x\\right) \\left(x \\sin{\\left (\\theta_{2} \\right )} + \\left(l - x\\right) \\sin{\\left (\\theta_{1} \\right )}\\right) + \\left(\\omega_{1}^{2} \\left(- l + x\\right) - \\omega_{2}^{2} x\\right) \\left(x \\cos{\\left (\\theta_{2} \\right )} + \\left(l - x\\right) \\cos{\\left (\\theta_{1} \\right )}\\right)\\right)\\right)\\end{matrix}\\right]$$"
      ],
      "text/plain": [
       "⎡                             ⎛                                               \n",
       "⎢l⋅(q̈₁⋅(l - x) + q̈₄⋅x) + r₂⋅⎝-(α₁⋅(l - x) + α₂⋅x)⋅(x⋅cos(θ₂) + (l - x)⋅cos(θ\n",
       "⎢─────────────────────────────────────────────────────────────────────────────\n",
       "⎢                                                                    2        \n",
       "⎢                                                                   l         \n",
       "⎢                                                                             \n",
       "⎢                             ⎛                                               \n",
       "⎢l⋅(q̈₂⋅(l - x) + q̈₅⋅x) + r₂⋅⎝-(α₁⋅(l - x) + α₂⋅x)⋅(x⋅sin(θ₂) + (l - x)⋅sin(θ\n",
       "⎢─────────────────────────────────────────────────────────────────────────────\n",
       "⎢                                                                    2        \n",
       "⎣                                                                   l         \n",
       "\n",
       "      ⎛  2             2  ⎞                              ⎞ ⎤\n",
       "₁)) + ⎝ω₁ ⋅(l - x) + ω₂ ⋅x⎠⋅(x⋅sin(θ₂) + (l - x)⋅sin(θ₁))⎠ ⎥\n",
       "────────────────────────────────────────────────────────── ⎥\n",
       "                                                           ⎥\n",
       "                                                           ⎥\n",
       "                                                           ⎥\n",
       "      ⎛  2              2  ⎞                              ⎞⎥\n",
       "₁)) + ⎝ω₁ ⋅(-l + x) - ω₂ ⋅x⎠⋅(x⋅cos(θ₂) + (l - x)⋅cos(θ₁))⎠⎥\n",
       "───────────────────────────────────────────────────────────⎥\n",
       "                                                           ⎥\n",
       "                                                           ⎦"
      ]
     },
     "metadata": {},
     "output_type": "display_data"
    }
   ],
   "source": [
    "# Define velocity of element endpoints (nodes)\n",
    "vP = sym.simplify(H*deltadot + H*sym.Matrix.vstack(omega1_skew,omega2_skew)*R_interp*s)\n",
    "print('vp = ')\n",
    "display(vP)\n",
    "# Define acceleration of element endpoints (nodes)\n",
    "aP = sym.simplify(H*deltaddot + H*sym.Matrix.vstack(alpha1_skew,alpha2_skew)*R_interp*s + \\\n",
    "               H*sym.Matrix.vstack(omega1_skew*omega1_skew,omega2_skew*omega2_skew)*R_interp*s)\n",
    "print('\\nap = ')\n",
    "display(aP)"
   ]
  },
  {
   "cell_type": "markdown",
   "metadata": {},
   "source": [
    "### Compute the Mass Matrix"
   ]
  },
  {
   "cell_type": "code",
   "execution_count": 13,
   "metadata": {
    "collapsed": false,
    "scrolled": true
   },
   "outputs": [
    {
     "name": "stdout",
     "output_type": "stream",
     "text": [
      "\n",
      "VrP = \n"
     ]
    },
    {
     "data": {
      "image/png": "[encoded data removed]",
      "text/latex": [
       "$$\\left [ \\left[\\begin{matrix}- \\frac{r_{2}}{l^{2}} \\left(l - x\\right) \\left(x \\cos{\\left (\\theta_{2} \\right )} + \\left(l - x\\right) \\cos{\\left (\\theta_{1} \\right )}\\right)\\\\- \\frac{r_{2}}{l^{2}} \\left(l - x\\right) \\left(x \\sin{\\left (\\theta_{2} \\right )} + \\left(l - x\\right) \\sin{\\left (\\theta_{1} \\right )}\\right)\\end{matrix}\\right], \\quad \\left[\\begin{matrix}\\frac{1}{l} \\left(l - x\\right)\\\\0\\end{matrix}\\right], \\quad \\left[\\begin{matrix}0\\\\\\frac{1}{l} \\left(l - x\\right)\\end{matrix}\\right], \\quad \\left[\\begin{matrix}- \\frac{r_{2} x}{l^{2}} \\left(x \\cos{\\left (\\theta_{2} \\right )} + \\left(l - x\\right) \\cos{\\left (\\theta_{1} \\right )}\\right)\\\\- \\frac{r_{2} x}{l^{2}} \\left(x \\sin{\\left (\\theta_{2} \\right )} + \\left(l - x\\right) \\sin{\\left (\\theta_{1} \\right )}\\right)\\end{matrix}\\right], \\quad \\left[\\begin{matrix}\\frac{x}{l}\\\\0\\end{matrix}\\right], \\quad \\left[\\begin{matrix}0\\\\\\frac{x}{l}\\end{matrix}\\right]\\right ]$$"
      ],
      "text/plain": [
       "⎡⎡-r₂⋅(l - x)⋅(x⋅cos(θ₂) + (l - x)⋅cos(θ₁)) ⎤  ⎡l - x⎤           ⎡-r₂⋅x⋅(x⋅cos\n",
       "⎢⎢──────────────────────────────────────────⎥, ⎢─────⎥, ⎡  0  ⎤, ⎢────────────\n",
       "⎢⎢                     2                    ⎥  ⎢  l  ⎥  ⎢     ⎥  ⎢            \n",
       "⎢⎢                    l                     ⎥  ⎢     ⎥  ⎢l - x⎥  ⎢            \n",
       "⎢⎢                                          ⎥  ⎣  0  ⎦  ⎢─────⎥  ⎢            \n",
       "⎢⎢-r₂⋅(l - x)⋅(x⋅sin(θ₂) + (l - x)⋅sin(θ₁)) ⎥           ⎣  l  ⎦  ⎢-r₂⋅x⋅(x⋅sin\n",
       "⎢⎢──────────────────────────────────────────⎥                    ⎢────────────\n",
       "⎢⎢                     2                    ⎥                    ⎢            \n",
       "⎣⎣                    l                     ⎦                    ⎣            \n",
       "\n",
       "(θ₂) + (l - x)⋅cos(θ₁)) ⎤  ⎡x⎤     ⎤\n",
       "────────────────────────⎥, ⎢─⎥, ⎡0⎤⎥\n",
       "      2                 ⎥  ⎢l⎥  ⎢ ⎥⎥\n",
       "     l                  ⎥  ⎢ ⎥  ⎢x⎥⎥\n",
       "                        ⎥  ⎣0⎦  ⎢─⎥⎥\n",
       "(θ₂) + (l - x)⋅sin(θ₁)) ⎥       ⎣l⎦⎥\n",
       "────────────────────────⎥          ⎥\n",
       "      2                 ⎥          ⎥\n",
       "     l                  ⎦          ⎦"
      ]
     },
     "metadata": {},
     "output_type": "display_data"
    }
   ],
   "source": [
    "# generalized speeds need to be omega_i not qdot_i \n",
    "gen_speed = sym.Matrix.vstack(sym.Matrix.vstack(sym.Matrix([omega[0]]), sym.Matrix(qdot[1:3])), \n",
    "    sym.Matrix.vstack(sym.Matrix([omega[1]]), sym.Matrix(qdot[4:6])))\n",
    "\n",
    "# Compute partial velocities of the nodes\n",
    "VrP = [sym.Matrix([sym.diff(v,u) for v in vP]) for u in gen_speed]\n",
    "# VrP = sym.Matrix([[sym.diff(v,u) for v in vP] for u in gen_speed]).T\n",
    "print('\\nVrP = ')\n",
    "display(VrP)\n",
    "\n",
    "gen_accel = sym.Matrix.vstack(sym.Matrix.vstack(sym.Matrix([alpha[0]]), sym.Matrix(qddot[1:3])), \n",
    "    sym.Matrix.vstack(sym.Matrix([alpha[1]]), sym.Matrix(qddot[4:6])))\n",
    "\n",
    "RHS = sym.Matrix([sym.factor(sym.integrate(pi*rho*vr.dot(aP), ('r_2',0,r),('r_3',0,r),(x,0,l))) for vr in VrP])\n",
    "# Compute mass matrix\n",
    "M = sym.expand_trig(sym.simplify(sym.Matrix([[sym.factor(sym.expand(rhs).coeff(udot)) for udot in gen_accel] for rhs in RHS])))\n",
    "# M = sym.simplify(sym.Matrix(\n",
    "#             [[sym.expand(sym.integrate(VrP[:,i].dot(aP)*rho,('r_2',0,r),('r_3',0,r),(x,0,l))).coeff(gen_accel[j]) \n",
    "#               for i in range(len(gen_accel))] for j in range(len(gen_accel))]))\n",
    "\n",
    "F_rem = sym.factor(RHS - M*gen_accel)"
   ]
  },
  {
   "cell_type": "code",
   "execution_count": 14,
   "metadata": {
    "collapsed": false
   },
   "outputs": [
    {
     "data": {
      "image/png": "[encoded data removed]",
      "text/latex": [
       "$$\\left[\\begin{matrix}\\frac{m r^{2}}{9} & - \\frac{m r}{6} & 0 & \\frac{m r^{2}}{18} & - \\frac{m r}{12} & 0\\\\- \\frac{m r}{6} & \\frac{m}{3} & 0 & - \\frac{m r}{12} & \\frac{m}{6} & 0\\\\0 & 0 & \\frac{m}{3} & 0 & 0 & \\frac{m}{6}\\\\\\frac{m r^{2}}{18} & - \\frac{m r}{12} & 0 & \\frac{m r^{2}}{9} & - \\frac{m r}{6} & 0\\\\- \\frac{m r}{12} & \\frac{m}{6} & 0 & - \\frac{m r}{6} & \\frac{m}{3} & 0\\\\0 & 0 & \\frac{m}{6} & 0 & 0 & \\frac{m}{3}\\end{matrix}\\right]$$"
      ],
      "text/plain": [
       "⎡   2                2           ⎤\n",
       "⎢m⋅r    -m⋅r      m⋅r    -m⋅r    ⎥\n",
       "⎢────   ─────  0  ────   ─────  0⎥\n",
       "⎢ 9       6        18      12    ⎥\n",
       "⎢                                ⎥\n",
       "⎢-m⋅r     m       -m⋅r     m     ⎥\n",
       "⎢─────    ─    0  ─────    ─    0⎥\n",
       "⎢  6      3         12     6     ⎥\n",
       "⎢                                ⎥\n",
       "⎢              m                m⎥\n",
       "⎢  0      0    ─    0      0    ─⎥\n",
       "⎢              3                6⎥\n",
       "⎢                                ⎥\n",
       "⎢   2                2           ⎥\n",
       "⎢m⋅r    -m⋅r      m⋅r    -m⋅r    ⎥\n",
       "⎢────   ─────  0  ────   ─────  0⎥\n",
       "⎢ 18      12       9       6     ⎥\n",
       "⎢                                ⎥\n",
       "⎢-m⋅r     m       -m⋅r     m     ⎥\n",
       "⎢─────    ─    0  ─────    ─    0⎥\n",
       "⎢  12     6         6      3     ⎥\n",
       "⎢                                ⎥\n",
       "⎢              m                m⎥\n",
       "⎢  0      0    ─    0      0    ─⎥\n",
       "⎣              6                3⎦"
      ]
     },
     "execution_count": 14,
     "metadata": {},
     "output_type": "execute_result"
    }
   ],
   "source": [
    "sym.expand(M).subs([('theta_1',0),('theta_2',0),(pi*r**2,A),(rho*A*l,m)])\n",
    "# M.subs([('theta_1',0),('theta_2',0)])"
   ]
  },
  {
   "cell_type": "code",
   "execution_count": 15,
   "metadata": {
    "collapsed": false
   },
   "outputs": [],
   "source": [
    "# print('\\nM = \\n')\n",
    "# display(M)\n",
    "\n",
    "# print('M_11 = ')\n",
    "# display(M[0:3,0:3])\n",
    "# print('\\nM_22 = ')\n",
    "# display(M[3:6,3:6])\n",
    "# print('\\nM_12 = ')\n",
    "# display(M[0:3,3:6])\n",
    "# print('\\nM_21.T = ')\n",
    "# display(M[3:6,0:3].T)"
   ]
  },
  {
   "cell_type": "markdown",
   "metadata": {},
   "source": [
    "### Compute Internal forces "
   ]
  },
  {
   "cell_type": "markdown",
   "metadata": {},
   "source": [
    "#### 1. Transverse (Bending) Strain"
   ]
  },
  {
   "cell_type": "code",
   "execution_count": 16,
   "metadata": {
    "collapsed": false
   },
   "outputs": [],
   "source": [
    "# Orthogonal Matricies Not Extracted to Simplify Algebra\n",
    "dT = sym.simplify(H.diff(x)*sym.Matrix([R1,R2]))\n",
    "kappa = sym.simplify(sym.Matrix([Axial_sym(dT*R_interp.T),'0','0','0']))\n",
    "# display(kappa)"
   ]
  },
  {
   "cell_type": "markdown",
   "metadata": {},
   "source": [
    "#### 2. Longitudinal (Axial) Strian"
   ]
  },
  {
   "cell_type": "code",
   "execution_count": 17,
   "metadata": {
    "collapsed": false
   },
   "outputs": [],
   "source": [
    "# Define Locations of Centroid as a function of beam axis coordinate\n",
    "x0_B = sym.Matrix(['x','0'])\n",
    "# Convert to the newtonian basis\n",
    "x0 = R_interp*x0_B\n",
    "\n",
    "# Define Newtonian Unit Vector x-dir\n",
    "n1 = sym.Matrix(['1','0'])\n",
    "\n",
    "# strain = du/dx\n",
    "# Derivatives w.r.t longitudinal beam coordinate\n",
    "d_delta = dHdx*delta\n",
    "dx0 = x0.diff(x)\n",
    "\n",
    "# Compute axial strain in 'N'\n",
    "epsilon = dx0 + d_delta - R_interp*n1"
   ]
  },
  {
   "cell_type": "code",
   "execution_count": 18,
   "metadata": {
    "collapsed": false
   },
   "outputs": [],
   "source": [
    "# epsilon"
   ]
  },
  {
   "cell_type": "markdown",
   "metadata": {},
   "source": [
    "#### 3. Compute Internal Forces $Q_e = -\\frac{\\partial U}{\\partial e}$"
   ]
  },
  {
   "cell_type": "code",
   "execution_count": 19,
   "metadata": {
    "collapsed": false,
    "scrolled": true
   },
   "outputs": [],
   "source": [
    "\"\"\"\n",
    "Note: Sympy bug! Integrating a matrix returns a vector!!!\n",
    "\"\"\"\n",
    "# Transverse strain energy\n",
    "kappa_squared = (kappa.T*dHdx.T).dot(dHdx*kappa)\n",
    "Ut = 1/2*sym.integrate(E*I*kappa_squared*2/l, (x,0,l))"
   ]
  },
  {
   "cell_type": "code",
   "execution_count": 20,
   "metadata": {
    "collapsed": false
   },
   "outputs": [],
   "source": [
    "G = E/2.6\n",
    "C = sym.Matrix([[E*A, 0],[0, 5/6*G*A]])\n",
    "Ul = 1/2*sym.simplify(sym.integrate(epsilon.T*R_interp*C*R_interp.T*epsilon, (x,0,l))[0])"
   ]
  },
  {
   "cell_type": "code",
   "execution_count": 21,
   "metadata": {
    "collapsed": false
   },
   "outputs": [],
   "source": [
    "# Compute Total Energy\n",
    "U = Ul + Ut\n",
    "\n",
    "# Compute Internal Force Vector\n",
    "gen_coords = sym.Matrix.vstack(sym.Matrix.vstack(sym.Matrix([theta[0]]), sym.Matrix(q[1:3])), \n",
    "    sym.Matrix.vstack(sym.Matrix([theta[1]]), sym.Matrix(q[4:6])))\n",
    "Qe = sym.Matrix([-U.diff(qi) for qi in gen_coords])"
   ]
  },
  {
   "cell_type": "markdown",
   "metadata": {},
   "source": [
    "####4. Applied and body force vector"
   ]
  },
  {
   "cell_type": "code",
   "execution_count": 22,
   "metadata": {
    "collapsed": false
   },
   "outputs": [],
   "source": [
    "# Applied forces\n",
    "# Gravity body force\n",
    "fg = pi*g*rho*sym.Matrix([0,-1])\n",
    "\n",
    "# Compute beta\n",
    "beta = sym.Matrix([sym.factor(sym.integrate(vr.dot(fg),('r_2',0,r),('r_3',0,r),(x,0,l))) for vr in VrP]) + Qe + F_rem\n",
    "Fg = sym.Matrix([sym.factor(sym.integrate(vr.dot(fg),('r_2',0,r),('r_3',0,r),(x,0,l)))\n",
    "                   for vr in VrP])"
   ]
  },
  {
   "cell_type": "code",
   "execution_count": 23,
   "metadata": {
    "collapsed": false
   },
   "outputs": [],
   "source": [
    "pickle.dump( M,    open( \"gebf-mass-matrix.dump\",   \"wb\" ) )\n",
    "pickle.dump( beta, open( \"gebf-force-vector.dump\",  \"wb\" ) )\n",
    "pickle.dump( U,    open( \"gebf-strain-energy.dump\", \"wb\" ) )\n",
    "# pickle.dump(PE, open(\"potential_enrgy\", \"wb\")) "
   ]
  },
  {
   "cell_type": "code",
   "execution_count": 24,
   "metadata": {
    "collapsed": false
   },
   "outputs": [],
   "source": [
    "# M_func    = lambdify((E, A, I, r, rho, l, g, q, theta, omega),    M, \"numpy\")\n",
    "# beta_func = lambdify((E, A, I, r, rho, l, g, q, theta, omega), beta, \"numpy\")\n",
    "# U_func    = lambdify((E, A, I, r, rho, l, g, q, theta, omega),    U, \"numpy\")\n",
    "M_func    = lambdify((E, A, I, r, rho, l, g, pi, q, theta, omega),    M, \"numpy\")\n",
    "beta_func = lambdify((E, A, I, r, rho, l, g, pi, q, theta, omega), beta, \"numpy\")\n",
    "U_func    = lambdify((E, A, I, r, rho, l, g, pi, q, theta, omega),    U, \"numpy\")"
   ]
  },
  {
   "cell_type": "code",
   "execution_count": 25,
   "metadata": {
    "collapsed": false
   },
   "outputs": [],
   "source": [
    "# # Debugging functions to trace source of error \n",
    "# Qe_func    = lambdify((E, A, I, r, rho, l, g, q, theta, omega), Qe, \"numpy\")\n",
    "# Fg_func    = lambdify((E, A, I, r, rho, l, g, q, theta, omega), Fg, \"numpy\")\n",
    "# Ut_func    = lambdify((E, A, I, r, rho, l, g, q, theta, omega), Ut, \"numpy\")\n",
    "# Ul_func    = lambdify((E, A, I, r, rho, l, g, q, theta, omega), Ul, \"numpy\")\n",
    "# # Debugging functions to trace source of error \n",
    "Qe_func    = lambdify((E, A, I, r, rho, l, g, pi, q, theta, omega), Qe, \"numpy\")\n",
    "Fg_func    = lambdify((E, A, I, r, rho, l, g, pi, q, theta, omega), Fg, \"numpy\")\n",
    "Ut_func    = lambdify((E, A, I, r, rho, l, g, pi, q, theta, omega), Ut, \"numpy\")\n",
    "Ul_func    = lambdify((E, A, I, r, rho, l, g, pi, q, theta, omega), Ul, \"numpy\")"
   ]
  },
  {
   "cell_type": "code",
   "execution_count": 26,
   "metadata": {
    "collapsed": false
   },
   "outputs": [],
   "source": [
    "def test_func(q,theta,omega):\n",
    "#     M_num    = M_func(   0.7e6, 0.0018, 1.215e-8, 0.02393, 5540, 0.12, 0, q, theta, omega)\n",
    "#     beta_num = beta_func(0.7e6, 0.0018, 1.215e-8, 0.02393, 5540, 0.12, 0, q, theta, omega)\n",
    "    M_num    = M_func(   0.7e6, 0.0018, 1.215e-8, 0.02393, 5540, 0.12, 0, 3.14, q, theta, omega)\n",
    "    beta_num = beta_func(0.7e6, 0.0018, 1.215e-8, 0.02393, 5540, 0.12, 0, 3.14, q, theta, omega)\n",
    "\n",
    "    M11 = np.array(M_num[0:3,0:3])\n",
    "    M12 = np.array(M_num[0:3,3:6])\n",
    "    M21 = np.array(M_num[3:6,0:3])\n",
    "    M22 = np.array(M_num[3:6,3:6])\n",
    "\n",
    "    # For now use these definitions to cast Fic (constraint forces between GEBF elements) \n",
    "    # into generalized constraint forces\n",
    "    gamma11 = np.eye(3) \n",
    "    gamma12 = np.zeros((3,3))\n",
    "    gamma22 = np.eye(3)\n",
    "    gamma21 = np.zeros((3,3))\n",
    "\n",
    "    # partition beta into lambda13 and lambda23\n",
    "    gamma13 = np.array(beta_num[0:3])\n",
    "    gamma23 = np.array(beta_num[3:6])\n",
    "\n",
    "    # Commonly inverted quantities\n",
    "    iM11 = np.linalg.inv(M11)\n",
    "    iM22 = np.linalg.inv(M22)\n",
    "    Gamma1 = np.linalg.inv(M11 - M12.dot(iM22.dot(M21)))\n",
    "    Gamma2 = np.linalg.inv(M22 - M21.dot(iM11.dot(M12)))\n",
    "\n",
    "    # Compute all terms of the two handle equations\n",
    "    z11 = Gamma1.dot(gamma11 - M12.dot(iM22.dot(gamma21)))\n",
    "    z12 = Gamma1.dot(gamma12 - M12.dot(iM22.dot(gamma22)))\n",
    "    z21 = Gamma2.dot(gamma21 - M21.dot(iM11.dot(gamma11)))\n",
    "    z22 = Gamma2.dot(gamma22 - M21.dot(iM11.dot(gamma12)))\n",
    "\n",
    "    z13 = Gamma1.dot(gamma13 - M12.dot(iM22.dot(gamma23))).reshape((3,1))\n",
    "    z23 = Gamma2.dot(gamma23 - M21.dot(iM11.dot(gamma13))).reshape((3,1))\n",
    "    \n",
    "#     fix node one, D = eye, P = zeros, and let node two be free \n",
    "    F1c = -np.linalg.inv(z11).dot(z13)\n",
    "    A2 = np.dot(z21,F1c) + z23\n",
    "    return F1c, A2\n",
    "#     return Gamma2"
   ]
  },
  {
   "cell_type": "code",
   "execution_count": 27,
   "metadata": {
    "collapsed": false
   },
   "outputs": [],
   "source": [
    "phi = np.linspace(0,2*3.14,200)\n",
    "disp = np.linspace(0,0.06,200)\n",
    "\n",
    "q0GEBF = [np.array([0,0,0,0,d,0]).reshape(6,1) for d in disp]\n",
    "angle = [np.array([0,0]) for val in phi]\n",
    "np.zeros_like(omega)\n",
    "\n",
    "# Ul_theta    = np.array([  Ul_func(0.7e6, 0.0018, 1.215e-8, 0.02393, 5540, 0.12, 0, q0, theta0, np.zeros_like(omega)) for q0,theta0 in zip(q0GEBF, angle)])\n",
    "# Ut_theta    = np.array([  Ut_func(0.7e6, 0.0018, 1.215e-8, 0.02393, 5540, 0.12, 0, q0, theta0, np.zeros_like(omega)) for q0,theta0 in zip(q0GEBF, angle)])\n",
    "# Qe_theta    = np.array([  Qe_func(0.7e6, 0.0018, 1.215e-8, 0.02393, 5540, 0.12, 0, q0, theta0, np.zeros_like(omega)) for q0,theta0 in zip(q0GEBF, angle)])                                                                  \n",
    "# beta_theta  = np.array([beta_func(0.7e6, 0.0018, 1.215e-8, 0.02393, 5540, 0.12, 0, q0, theta0, np.zeros_like(omega)) for q0,theta0 in zip(q0GEBF, angle)])                                                                  \n",
    "# Fg_theta    = np.array([  Fg_func(0.7e6, 0.0018, 1.215e-8, 0.02393, 5540, 0.12, 0, q0, theta0, np.zeros_like(omega)) for q0,theta0 in zip(q0GEBF, angle)])                                                                   \n",
    "# M_theta     = np.array([   M_func(0.7e6, 0.0018, 1.215e-8, 0.02393, 5540, 0.12, 0, q0, theta0, np.zeros_like(omega)) for q0,theta0 in zip(q0GEBF, angle)])                                                                   \n",
    "# sol_theta   = np.array([test_func(q0, theta0, np.zeros_like(omega)) for q0,theta0 in zip(q0GEBF, angle)])\n",
    "    \n",
    "Ul_theta    = np.array([  Ul_func(0.7e6, 0.0018, 1.215e-8, 0.02393, 5540, 0.12, 9.81, 3.14, q0, theta0, np.zeros_like(omega)) for q0,theta0 in zip(q0GEBF, angle)])\n",
    "Ut_theta    = np.array([  Ut_func(0.7e6, 0.0018, 1.215e-8, 0.02393, 5540, 0.12, 9.81, 3.14, q0, theta0, np.zeros_like(omega)) for q0,theta0 in zip(q0GEBF, angle)])\n",
    "Qe_theta    = np.array([  Qe_func(0.7e6, 0.0018, 1.215e-8, 0.02393, 5540, 0.12, 9.81, 3.14, q0, theta0, np.zeros_like(omega)) for q0,theta0 in zip(q0GEBF, angle)])                                                                  \n",
    "beta_theta  = np.array([beta_func(0.7e6, 0.0018, 1.215e-8, 0.02393, 5540, 0.12, 9.81, 3.14, q0, theta0, np.zeros_like(omega)) for q0,theta0 in zip(q0GEBF, angle)])                                                                  \n",
    "Fg_theta    = np.array([  Fg_func(0.7e6, 0.0018, 1.215e-8, 0.02393, 5540, 0.12, 9.81, 3.14, q0, theta0, np.zeros_like(omega)) for q0,theta0 in zip(q0GEBF, angle)])                                                                   \n",
    "M_theta     = np.array([   M_func(0.7e6, 0.0018, 1.215e-8, 0.02393, 5540, 0.12, 9.81, 3.14, q0, theta0, np.zeros_like(omega)) for q0,theta0 in zip(q0GEBF, angle)])                                                                   \n",
    "sol_theta   = np.array([test_func(q0, theta0, np.zeros_like(omega)) for q0,theta0 in zip(q0GEBF, angle)])\n"
   ]
  },
  {
   "cell_type": "code",
   "execution_count": 28,
   "metadata": {
    "collapsed": false
   },
   "outputs": [],
   "source": [
    "F1c = sol_theta[:,0]\n",
    "A2  = sol_theta[:,1]"
   ]
  },
  {
   "cell_type": "code",
   "execution_count": 29,
   "metadata": {
    "collapsed": false
   },
   "outputs": [],
   "source": [
    "font = {'family' : 'serif',\n",
    "        'weight' : 'bold',\n",
    "        'size'   : 16}\n",
    "\n",
    "plt.rc('font', **font)"
   ]
  },
  {
   "cell_type": "code",
   "execution_count": 30,
   "metadata": {
    "collapsed": false,
    "scrolled": false
   },
   "outputs": [
    {
     "data": {
      "image/png": "[encoded data removed]",
      "text/plain": [
       "<matplotlib.figure.Figure at 0x108de8748>"
      ]
     },
     "metadata": {},
     "output_type": "display_data"
    }
   ],
   "source": [
    "plt.rc('text', usetex=True)\n",
    "plt.plot(disp/0.12, Ul_theta)\n",
    "plt.title('Axial')\n",
    "plt.ylabel('Strain Energy')\n",
    "plt.xlabel('$\\Delta/l$')\n",
    "plt.show()"
   ]
  },
  {
   "cell_type": "code",
   "execution_count": 31,
   "metadata": {
    "collapsed": false
   },
   "outputs": [
    {
     "data": {
      "image/png": "[encoded data removed]",
      "text/plain": [
       "<matplotlib.figure.Figure at 0x108ff1da0>"
      ]
     },
     "metadata": {},
     "output_type": "display_data"
    }
   ],
   "source": [
    "plt.rc('text', usetex=True)\n",
    "plt.plot(disp/0.12, Ut_theta)\n",
    "plt.title('Bending')\n",
    "plt.ylabel('Strain Energy')\n",
    "plt.xlabel('$\\Delta/l$')\n",
    "plt.show()"
   ]
  },
  {
   "cell_type": "code",
   "execution_count": 32,
   "metadata": {
    "collapsed": false,
    "scrolled": true
   },
   "outputs": [
    {
     "data": {
      "image/png": "[encoded data removed]",
      "text/plain": [
       "<matplotlib.figure.Figure at 0x1056970f0>"
      ]
     },
     "metadata": {},
     "output_type": "display_data"
    }
   ],
   "source": [
    "plt.rc('text', usetex=True)\n",
    "for i in range(6):\n",
    "    plt.plot(disp/0.12, beta_theta[:,i])\n",
    "plt.ylabel(r'$\\frac{ - \\partial U}{q_i}$')\n",
    "plt.xlabel('$\\Delta/l$')\n",
    "plt.legend(['1','2','3','4','5','6'])\n",
    "plt.show()"
   ]
  },
  {
   "cell_type": "code",
   "execution_count": 33,
   "metadata": {
    "collapsed": false
   },
   "outputs": [
    {
     "data": {
      "image/png": "[encoded data removed]",
      "text/plain": [
       "<matplotlib.figure.Figure at 0x105697908>"
      ]
     },
     "metadata": {},
     "output_type": "display_data"
    }
   ],
   "source": [
    "plt.rc('text', usetex=True)\n",
    "for i in range(3):\n",
    "    plt.plot(disp/0.12, F1c[:,i])\n",
    "plt.ylabel('Constraint force')\n",
    "plt.xlabel('$\\Delta/l$')\n",
    "plt.legend(['1', '2', '3'])\n",
    "plt.show()"
   ]
  },
  {
   "cell_type": "code",
   "execution_count": 34,
   "metadata": {
    "collapsed": false
   },
   "outputs": [
    {
     "data": {
      "image/png": "[encoded data removed]",
      "text/plain": [
       "<matplotlib.figure.Figure at 0x108122668>"
      ]
     },
     "metadata": {},
     "output_type": "display_data"
    }
   ],
   "source": [
    "plt.rc('text', usetex=True)\n",
    "for i in range(3):\n",
    "    plt.plot(disp/0.12, A2[:,i])\n",
    "plt.ylabel('Acceleration of Node-2')\n",
    "plt.xlabel('$\\Delta/l$')\n",
    "plt.legend(['1', '2', '3'])\n",
    "plt.show()"
   ]
  },
  {
   "cell_type": "code",
   "execution_count": 35,
   "metadata": {
    "collapsed": false
   },
   "outputs": [
    {
     "name": "stdout",
     "output_type": "stream",
     "text": [
      "F_1c = \n"
     ]
    },
    {
     "data": {
      "text/plain": [
       "array([[-2.77555756156289e-17],\n",
       "       [-4.74874371859185],\n",
       "       [0]], dtype=object)"
      ]
     },
     "metadata": {},
     "output_type": "display_data"
    },
    {
     "name": "stdout",
     "output_type": "stream",
     "text": [
      "A2 = \n"
     ]
    },
    {
     "data": {
      "text/plain": [
       "array([[-1992.10040358644],\n",
       "       [-31.7806417718823],\n",
       "       [0]], dtype=object)"
      ]
     },
     "metadata": {},
     "output_type": "display_data"
    }
   ],
   "source": [
    "M_num    = M_func(   0.7e6, 0.0018, 1.215e-8, 0.02393, 5540, 0.12, 0, 3.14, q0GEBF[1], np.zeros_like(theta), np.zeros_like(omega))\n",
    "beta_num = beta_func(0.7e6, 0.0018, 1.215e-8, 0.02393, 5540, 0.12, 0, 3.14, q0GEBF[1], np.zeros_like(theta), np.zeros_like(omega))\n",
    "\n",
    "# M_num = np.multiply(M_num,np.array([\n",
    "#                                   [np.pi,2,2,np.pi,2,2],\n",
    "#                                   [    2,1,1,    2,1,1],\n",
    "#                                   [    2,1,1,    2,1,1],\n",
    "#                                   [np.pi,2,2,np.pi,2,2],\n",
    "#                                   [    2,1,1,    2,1,1],\n",
    "#                                   [    2,1,1,    2,1,1]]))\n",
    "\n",
    "M11 = np.array(M_num[0:3,0:3])\n",
    "M12 = np.array(M_num[0:3,3:6])\n",
    "M21 = np.array(M_num[3:6,0:3])\n",
    "M22 = np.array(M_num[3:6,3:6])\n",
    "\n",
    "# For now use these definitions to cast Fic (constraint forces between GEBF elements) \n",
    "# into generalized constraint forces\n",
    "gamma11 = np.eye(3) \n",
    "gamma12 = np.zeros((3,3))\n",
    "gamma22 = np.eye(3)\n",
    "gamma21 = np.zeros((3,3))\n",
    "\n",
    "# partition beta into lambda13 and lambda23\n",
    "gamma13 = np.array(beta_num[0:3])\n",
    "gamma23 = np.array(beta_num[3:6])\n",
    "\n",
    "# Commonly inverted quantities\n",
    "iM11 = np.linalg.inv(M11)\n",
    "iM22 = np.linalg.inv(M22)\n",
    "Gamma1 = np.linalg.inv(M11 - M12.dot(iM22.dot(M21)))\n",
    "Gamma2 = np.linalg.inv(M22 - M21.dot(iM11.dot(M12)))\n",
    "\n",
    "# Compute all terms of the two handle equations\n",
    "z11 = Gamma1.dot(gamma11 - M12.dot(iM22.dot(gamma21)))\n",
    "z12 = Gamma1.dot(gamma12 - M12.dot(iM22.dot(gamma22)))\n",
    "z21 = Gamma2.dot(gamma21 - M21.dot(iM11.dot(gamma11)))\n",
    "z22 = Gamma2.dot(gamma22 - M21.dot(iM11.dot(gamma12)))\n",
    "\n",
    "z13 = Gamma1.dot(gamma13 - M12.dot(iM22.dot(gamma23))).reshape((3,1))\n",
    "z23 = Gamma2.dot(gamma23 - M21.dot(iM11.dot(gamma13))).reshape((3,1))\n",
    "\n",
    "#     fix node one, D = eye, P = zeros, and let node two be free \n",
    "F1c = -np.linalg.inv(z11).dot(z13)\n",
    "A2 = np.dot(z21,F1c) + z23\n",
    "print('F_1c = ')\n",
    "display(F1c)\n",
    "print('A2 = ')\n",
    "display(A2)"
   ]
  },
  {
   "cell_type": "code",
   "execution_count": 36,
   "metadata": {
    "collapsed": false
   },
   "outputs": [
    {
     "data": {
      "image/png": "[encoded data removed]",
      "text/latex": [
       "$$0.000228176124017$$"
      ],
      "text/plain": [
       "0.000228176124017"
      ]
     },
     "execution_count": 36,
     "metadata": {},
     "output_type": "execute_result"
    }
   ],
   "source": [
    "(M_num[0,0] + M_num[3,3] + 2*M_num[0,3])"
   ]
  },
  {
   "cell_type": "code",
   "execution_count": 37,
   "metadata": {
    "collapsed": false
   },
   "outputs": [
    {
     "data": {
      "image/png": "[encoded data removed]",
      "text/latex": [
       "$$0.000171312448284$$"
      ],
      "text/plain": [
       "0.000171312448284000"
      ]
     },
     "execution_count": 37,
     "metadata": {},
     "output_type": "execute_result"
    }
   ],
   "source": [
    "(1/12*(rho*A*l)*(3*r**2)).subs([(rho,5540), (A,0.0018), (l,0.12), (r,0.02393)])"
   ]
  },
  {
   "cell_type": "code",
   "execution_count": 38,
   "metadata": {
    "collapsed": false
   },
   "outputs": [],
   "source": [
    "# M_num[0,2] + 2*M_num[0,5] + M_num[3,5]"
   ]
  },
  {
   "cell_type": "code",
   "execution_count": 39,
   "metadata": {
    "collapsed": false
   },
   "outputs": [],
   "source": [
    "# ((rho*A*l)*(0.02393)).subs([(rho,5540), (A,0.0018), (l,0.12)])"
   ]
  },
  {
   "cell_type": "code",
   "execution_count": 40,
   "metadata": {
    "collapsed": false
   },
   "outputs": [],
   "source": [
    "# z21"
   ]
  },
  {
   "cell_type": "code",
   "execution_count": 41,
   "metadata": {
    "collapsed": false
   },
   "outputs": [],
   "source": [
    "# np.linalg.inv(M_num).dot(beta_num)"
   ]
  },
  {
   "cell_type": "code",
   "execution_count": 42,
   "metadata": {
    "collapsed": false
   },
   "outputs": [],
   "source": [
    "# 9/24*0.12**2/0.02393**2"
   ]
  },
  {
   "cell_type": "code",
   "execution_count": 43,
   "metadata": {
    "collapsed": false
   },
   "outputs": [],
   "source": [
    "# np.pi*0.02393"
   ]
  },
  {
   "cell_type": "code",
   "execution_count": 44,
   "metadata": {
    "collapsed": false
   },
   "outputs": [],
   "source": [
    "# ((1/12*5540*0.0018*0.12)*0.12**2)/(np.pi*M_num[0,0])"
   ]
  },
  {
   "cell_type": "code",
   "execution_count": 45,
   "metadata": {
    "collapsed": false
   },
   "outputs": [],
   "source": [
    "# sym.nsimplify(beta.subs([('theta_1',0),('theta_2',0)]))"
   ]
  },
  {
   "cell_type": "code",
   "execution_count": 46,
   "metadata": {
    "collapsed": false
   },
   "outputs": [],
   "source": [
    "# sym.simplify(sym.integrate(aP.dot(VrP[0]).subs([('theta_1',0),('theta_2',0)]),('r_2',0,a), ('r_3',0,b),(x,0,l)))"
   ]
  },
  {
   "cell_type": "code",
   "execution_count": 47,
   "metadata": {
    "collapsed": false
   },
   "outputs": [
    {
     "data": {
      "text/plain": [
       "matrix([[ 0.0001, -0.0048, -0.    ,  0.    , -0.0024, -0.    ],\n",
       "        [-0.0048,  0.3985,  0.    , -0.0024,  0.1992,  0.    ],\n",
       "        [-0.    ,  0.    ,  0.3985, -0.    ,  0.    ,  0.1992],\n",
       "        [ 0.    , -0.0024, -0.    ,  0.0001, -0.0048, -0.    ],\n",
       "        [-0.0024,  0.1992,  0.    , -0.0048,  0.3985,  0.    ],\n",
       "        [-0.    ,  0.    ,  0.1992, -0.    ,  0.    ,  0.3985]])"
      ]
     },
     "execution_count": 47,
     "metadata": {},
     "output_type": "execute_result"
    }
   ],
   "source": [
    "M_num"
   ]
  },
  {
   "cell_type": "code",
   "execution_count": 48,
   "metadata": {
    "collapsed": false
   },
   "outputs": [
    {
     "data": {
      "image/png": "[encoded data removed]",
      "text/latex": [
       "$$\\frac{x}{l^{2}} \\left(l - x\\right)$$"
      ],
      "text/plain": [
       "x⋅(l - x)\n",
       "─────────\n",
       "     2   \n",
       "    l    "
      ]
     },
     "execution_count": 48,
     "metadata": {},
     "output_type": "execute_result"
    }
   ],
   "source": [
    "sym.simplify(h[0]*h[1])"
   ]
  },
  {
   "cell_type": "code",
   "execution_count": 49,
   "metadata": {
    "collapsed": false
   },
   "outputs": [],
   "source": [
    "M11 = sym.integrate((-h[0]**2*cos(theta[0]) - h[0]*h[1]*cos(theta[1]))* \\\n",
    "              (-h[0]**2*cos(theta[0]) + h[0]*h[1]*(cos(theta[0])+cos(theta[1]))-h[0]**2*cos(theta[1]))\n",
    "             ,('r_2',0,r),('r_3',0,r),(x,0,l))"
   ]
  },
  {
   "cell_type": "code",
   "execution_count": 50,
   "metadata": {
    "collapsed": false
   },
   "outputs": [
    {
     "data": {
      "image/png": "[encoded data removed]",
      "text/latex": [
       "$$\\frac{l r^{2}}{3}$$"
      ],
      "text/plain": [
       "   2\n",
       "l⋅r \n",
       "────\n",
       " 3  "
      ]
     },
     "execution_count": 50,
     "metadata": {},
     "output_type": "execute_result"
    }
   ],
   "source": [
    "M11.subs([(theta[0],0),(theta[1],0)])"
   ]
  },
  {
   "cell_type": "code",
   "execution_count": 51,
   "metadata": {
    "collapsed": false
   },
   "outputs": [
    {
     "data": {
      "image/png": "[encoded data removed]",
      "text/latex": [
       "$$\\left [ \\left[\\begin{matrix}- \\frac{r_{2}}{l^{2}} \\left(l - x\\right) \\left(x \\cos{\\left (\\theta_{2} \\right )} + \\left(l - x\\right) \\cos{\\left (\\theta_{1} \\right )}\\right)\\\\- \\frac{r_{2}}{l^{2}} \\left(l - x\\right) \\left(x \\sin{\\left (\\theta_{2} \\right )} + \\left(l - x\\right) \\sin{\\left (\\theta_{1} \\right )}\\right)\\end{matrix}\\right], \\quad \\left[\\begin{matrix}\\frac{1}{l} \\left(l - x\\right)\\\\0\\end{matrix}\\right], \\quad \\left[\\begin{matrix}0\\\\\\frac{1}{l} \\left(l - x\\right)\\end{matrix}\\right], \\quad \\left[\\begin{matrix}- \\frac{r_{2} x}{l^{2}} \\left(x \\cos{\\left (\\theta_{2} \\right )} + \\left(l - x\\right) \\cos{\\left (\\theta_{1} \\right )}\\right)\\\\- \\frac{r_{2} x}{l^{2}} \\left(x \\sin{\\left (\\theta_{2} \\right )} + \\left(l - x\\right) \\sin{\\left (\\theta_{1} \\right )}\\right)\\end{matrix}\\right], \\quad \\left[\\begin{matrix}\\frac{x}{l}\\\\0\\end{matrix}\\right], \\quad \\left[\\begin{matrix}0\\\\\\frac{x}{l}\\end{matrix}\\right]\\right ]$$"
      ],
      "text/plain": [
       "⎡⎡-r₂⋅(l - x)⋅(x⋅cos(θ₂) + (l - x)⋅cos(θ₁)) ⎤  ⎡l - x⎤           ⎡-r₂⋅x⋅(x⋅cos\n",
       "⎢⎢──────────────────────────────────────────⎥, ⎢─────⎥, ⎡  0  ⎤, ⎢────────────\n",
       "⎢⎢                     2                    ⎥  ⎢  l  ⎥  ⎢     ⎥  ⎢            \n",
       "⎢⎢                    l                     ⎥  ⎢     ⎥  ⎢l - x⎥  ⎢            \n",
       "⎢⎢                                          ⎥  ⎣  0  ⎦  ⎢─────⎥  ⎢            \n",
       "⎢⎢-r₂⋅(l - x)⋅(x⋅sin(θ₂) + (l - x)⋅sin(θ₁)) ⎥           ⎣  l  ⎦  ⎢-r₂⋅x⋅(x⋅sin\n",
       "⎢⎢──────────────────────────────────────────⎥                    ⎢────────────\n",
       "⎢⎢                     2                    ⎥                    ⎢            \n",
       "⎣⎣                    l                     ⎦                    ⎣            \n",
       "\n",
       "(θ₂) + (l - x)⋅cos(θ₁)) ⎤  ⎡x⎤     ⎤\n",
       "────────────────────────⎥, ⎢─⎥, ⎡0⎤⎥\n",
       "      2                 ⎥  ⎢l⎥  ⎢ ⎥⎥\n",
       "     l                  ⎥  ⎢ ⎥  ⎢x⎥⎥\n",
       "                        ⎥  ⎣0⎦  ⎢─⎥⎥\n",
       "(θ₂) + (l - x)⋅sin(θ₁)) ⎥       ⎣l⎦⎥\n",
       "────────────────────────⎥          ⎥\n",
       "      2                 ⎥          ⎥\n",
       "     l                  ⎦          ⎦"
      ]
     },
     "execution_count": 51,
     "metadata": {},
     "output_type": "execute_result"
    }
   ],
   "source": [
    "VrP"
   ]
  },
  {
   "cell_type": "code",
   "execution_count": null,
   "metadata": {
    "collapsed": true
   },
   "outputs": [],
   "source": []
  }
 ],
 "metadata": {
  "kernelspec": {
   "display_name": "Python 3",
   "language": "python",
   "name": "python3"
  },
  "language_info": {
   "codemirror_mode": {
    "name": "ipython",
    "version": 3
   },
   "file_extension": ".py",
   "mimetype": "text/x-python",
   "name": "python",
   "nbconvert_exporter": "python",
   "pygments_lexer": "ipython3",
   "version": "3.4.3"
  }
 },
 "nbformat": 4,
 "nbformat_minor": 0
}

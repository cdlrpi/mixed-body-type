{
 "cells": [
  {
   "cell_type": "markdown",
   "metadata": {},
   "source": [
    "#Beam Element - This notebook computes the mass matrix and internal forces and outputs them for later use"
   ]
  },
  {
   "cell_type": "markdown",
   "metadata": {},
   "source": [
    "\n",
    "1. 2D beam generalized coordinates (1 rotation 2 displacements) (Reduced dimensions so all matricies are subsequently invertible, Mii = 0 if some dof's are accounted for but  unused)\n",
    "2. Interpolation of roataion matricies WITHOUT orthogonalization (sympy struggling with too much algebra)\n",
    "3. circular cross-section with radius 'r'"
   ]
  },
  {
   "cell_type": "code",
   "execution_count": 1,
   "metadata": {
    "collapsed": false
   },
   "outputs": [],
   "source": [
    "import numpy as np\n",
    "import scipy as sp\n",
    "import sympy as sym\n",
    "import pickle\n",
    "\n",
    "from scipy import linalg\n",
    "from sympy import mpmath\n",
    "from sympy import cos, sin\n",
    "from sympy import lambdify\n",
    "\n",
    "from IPython.display import display\n",
    "from __future__ import division\n",
    "from sympy.interactive import printing\n",
    "printing.init_printing(use_latex='mathjax')\n",
    "np.set_printoptions(precision=4,suppress=True)\n",
    "\n",
    "import matplotlib.pyplot as plt\n",
    "%matplotlib inline"
   ]
  },
  {
   "cell_type": "markdown",
   "metadata": {},
   "source": [
    "#### Define Needed Functions"
   ]
  },
  {
   "cell_type": "code",
   "execution_count": 2,
   "metadata": {
    "collapsed": false
   },
   "outputs": [],
   "source": [
    "def Skew_sym(v):\n",
    "    \"\"\"\n",
    "    This function returns the skew symetric matrix \n",
    "    of the vector 'v' to affect the cross product of 'v'x'u'\n",
    "    \"\"\"\n",
    "    v_matrix = sym.Matrix([[  0 , -v[2]],\n",
    "                          [v[2],     0]])\n",
    "    return v_matrix"
   ]
  },
  {
   "cell_type": "code",
   "execution_count": 3,
   "metadata": {
    "collapsed": true
   },
   "outputs": [],
   "source": [
    "def Axial_sym(A):\n",
    "    '''\n",
    "    This funtcion returns the vector of the skew-symmectric matrix in 2D\n",
    "    '''\n",
    "    a_vec = 1/2*sym.Matrix([A[1,0] - A[0,1]])\n",
    "    return a_vec"
   ]
  },
  {
   "cell_type": "code",
   "execution_count": 4,
   "metadata": {
    "collapsed": false
   },
   "outputs": [],
   "source": [
    "def Rotate_sym(theta):\n",
    "    \"\"\"\n",
    "    This function returns the symbolic rotation matrix \n",
    "    for the simple 2D-rotation about the third axis\n",
    "    \"\"\"\n",
    "    R = sym.Matrix([[cos(theta),-sin(theta)],\n",
    "                    [sin(theta), cos(theta)]])\n",
    "    return R"
   ]
  },
  {
   "cell_type": "markdown",
   "metadata": {},
   "source": [
    "#### Define symbolic quantites"
   ]
  },
  {
   "cell_type": "code",
   "execution_count": 5,
   "metadata": {
    "collapsed": false
   },
   "outputs": [],
   "source": [
    "# symbolic system parameters \n",
    "E, G, I, A, rho, x, l, r, g  = sym.symbols('E G I A rho x l r g')\n",
    "\n",
    "# Kinematic values of previos nodes (generic)\n",
    "# e.g., omega_node  = omega + qdot\n",
    "theta = sym.Matrix(['theta_1','theta_2'])\n",
    "omega = sym.Matrix(['omega_1','omega_2'])\n",
    "alpha = sym.Matrix(['alpha_1','alpha_2'])\n",
    "\n",
    "# coordinates of the point in the 2D cross-section\n",
    "# of nodes one and two \n",
    "s1 = sym.Matrix(['r_2','r_3'])\n",
    "s2 = sym.Matrix(['r_2','r_3'])\n",
    "s = sym.Matrix.vstack(s1,s2)\n",
    "\n",
    "# generalized coordinates\n",
    "# one rotation and two displacements per-node (two nodes per element)\n",
    "# in this version generalzied speeds are qdots\n",
    "q = sym.Matrix(sym.symarray('q',6))\n",
    "qdot = sym.Matrix(sym.symarray('qdot',len(q)))\n",
    "qddot = sym.Matrix(sym.symarray('qddot',len(q)))\n",
    "\n",
    "# Deformations of Nodes (u's are not generalized speeds) \n",
    "u = sym.Matrix([q[1:3,0], q[4:6,0]])\n",
    "udot = sym.Matrix([qdot[1:3,0], qdot[4:8,0]])\n",
    "uddot = sym.Matrix([qddot[1:3,0], qddot[4:6,0]])\n",
    "\n",
    "# display([q,qdot,qddot])\n",
    "# display([u,udot,uddot])"
   ]
  },
  {
   "cell_type": "markdown",
   "metadata": {},
   "source": [
    "### Needed Matrix Quantities"
   ]
  },
  {
   "cell_type": "code",
   "execution_count": 6,
   "metadata": {
    "collapsed": false
   },
   "outputs": [],
   "source": [
    "\"\"\" \n",
    "Some cheating here: \n",
    "q0,q3 and q0dot,q3dot are really theta_1j, theta_2j and omega_1j, omega_2j\n",
    "\"\"\"\n",
    "# angular position and velocity for 2D using relative coordinates\n",
    "# the sum of the respective quantites of bodies 1 - bodyj-1 \n",
    "# Kinematics are trivial for the planar case:\n",
    "# theta_j, omega_j =  sum(q1 ... qj), sum(q1dot ... qjdot), j = 1 ... nbodies\n",
    "\n",
    "R1 = Rotate_sym(q[0])\n",
    "R2 = Rotate_sym(q[3])\n",
    "\n",
    "# Only true for planar case\n",
    "omega1_skew = Skew_sym([0,0,qdot[0]])\n",
    "omega2_skew = Skew_sym([0,0,qdot[3]])\n",
    "\n",
    "# Only true for planar case\n",
    "alpha1_skew = Skew_sym([0,0,qddot[0]])\n",
    "alpha2_skew = Skew_sym([0,0,qddot[3]])\n",
    "\n",
    "\n",
    "# \"spatial\" rotation matrix\n",
    "R = sym.Matrix.vstack(sym.Matrix.hstack(R1,sym.zeros(2)), \\\n",
    "                      sym.Matrix.hstack(sym.zeros(2),R2))\n",
    "\n",
    "# \"spatial\" angular velocity matrix\n",
    "Omega_skew = sym.Matrix.vstack(sym.Matrix.hstack(omega1_skew,sym.zeros(2)), \\\n",
    "                               sym.Matrix.hstack(sym.zeros(2),omega2_skew))\n",
    "\n",
    "# \"spatial\" angular acceleration matrix\n",
    "Alpha_skew = sym.Matrix.vstack(sym.Matrix.hstack(alpha1_skew,sym.zeros(2)), \\\n",
    "                               sym.Matrix.hstack(sym.zeros(2),alpha2_skew))\n",
    "# display(Omega)"
   ]
  },
  {
   "cell_type": "markdown",
   "metadata": {},
   "source": [
    "### Define Kinematics"
   ]
  },
  {
   "cell_type": "code",
   "execution_count": 7,
   "metadata": {
    "collapsed": false
   },
   "outputs": [
    {
     "name": "stdout",
     "output_type": "stream",
     "text": [
      "r = \n"
     ]
    },
    {
     "data": {
      "text/latex": [
       "$$\\left[\\begin{matrix}q_{1} + r_{2} \\cos{\\left (q_{0} \\right )} - r_{3} \\sin{\\left (q_{0} \\right )}\\\\q_{2} + r_{2} \\sin{\\left (q_{0} \\right )} + r_{3} \\cos{\\left (q_{0} \\right )}\\\\l + q_{4} + r_{2} \\cos{\\left (q_{3} \\right )} - r_{3} \\sin{\\left (q_{3} \\right )}\\\\q_{5} + r_{2} \\sin{\\left (q_{3} \\right )} + r_{3} \\cos{\\left (q_{3} \\right )}\\end{matrix}\\right]$$"
      ],
      "text/plain": [
       "⎡  q₁ + r₂⋅cos(q₀) - r₃⋅sin(q₀)  ⎤\n",
       "⎢                                ⎥\n",
       "⎢  q₂ + r₂⋅sin(q₀) + r₃⋅cos(q₀)  ⎥\n",
       "⎢                                ⎥\n",
       "⎢l + q₄ + r₂⋅cos(q₃) - r₃⋅sin(q₃)⎥\n",
       "⎢                                ⎥\n",
       "⎣  q₅ + r₂⋅sin(q₃) + r₃⋅cos(q₃)  ⎦"
      ]
     },
     "metadata": {},
     "output_type": "display_data"
    },
    {
     "name": "stdout",
     "output_type": "stream",
     "text": [
      "v = \n"
     ]
    },
    {
     "data": {
      "text/latex": [
       "$$\\left[\\begin{matrix}- \\dot{q}_{0} r_{2} \\sin{\\left (q_{0} \\right )} - \\dot{q}_{0} r_{3} \\cos{\\left (q_{0} \\right )} + \\dot{q}_{1}\\\\\\dot{q}_{0} r_{2} \\cos{\\left (q_{0} \\right )} - \\dot{q}_{0} r_{3} \\sin{\\left (q_{0} \\right )} + \\dot{q}_{2}\\\\- \\dot{q}_{3} r_{2} \\sin{\\left (q_{3} \\right )} - \\dot{q}_{3} r_{3} \\cos{\\left (q_{3} \\right )} + \\dot{q}_{4}\\\\\\dot{q}_{3} r_{2} \\cos{\\left (q_{3} \\right )} - \\dot{q}_{3} r_{3} \\sin{\\left (q_{3} \\right )} + \\dot{q}_{5}\\end{matrix}\\right]$$"
      ],
      "text/plain": [
       "⎡-q̇₀⋅r₂⋅sin(q₀) - q̇₀⋅r₃⋅cos(q₀) + q̇₁⎤\n",
       "⎢                                      ⎥\n",
       "⎢q̇₀⋅r₂⋅cos(q₀) - q̇₀⋅r₃⋅sin(q₀) + q̇₂ ⎥\n",
       "⎢                                      ⎥\n",
       "⎢-q̇₃⋅r₂⋅sin(q₃) - q̇₃⋅r₃⋅cos(q₃) + q̇₄⎥\n",
       "⎢                                      ⎥\n",
       "⎣q̇₃⋅r₂⋅cos(q₃) - q̇₃⋅r₃⋅sin(q₃) + q̇₅ ⎦"
      ]
     },
     "metadata": {},
     "output_type": "display_data"
    },
    {
     "name": "stdout",
     "output_type": "stream",
     "text": [
      "\n",
      "a = \n"
     ]
    },
    {
     "data": {
      "text/latex": [
       "$$\\left[\\begin{matrix}- \\ddot{q}_{0} r_{2} \\sin{\\left (q_{0} \\right )} - \\ddot{q}_{0} r_{3} \\cos{\\left (q_{0} \\right )} + \\ddot{q}_{1} - \\dot{q}_{0}^{2} r_{2} \\cos{\\left (q_{0} \\right )} + \\dot{q}_{0}^{2} r_{3} \\sin{\\left (q_{0} \\right )}\\\\\\ddot{q}_{0} r_{2} \\cos{\\left (q_{0} \\right )} - \\ddot{q}_{0} r_{3} \\sin{\\left (q_{0} \\right )} + \\ddot{q}_{2} - \\dot{q}_{0}^{2} r_{2} \\sin{\\left (q_{0} \\right )} - \\dot{q}_{0}^{2} r_{3} \\cos{\\left (q_{0} \\right )}\\\\- \\ddot{q}_{3} r_{2} \\sin{\\left (q_{3} \\right )} - \\ddot{q}_{3} r_{3} \\cos{\\left (q_{3} \\right )} + \\ddot{q}_{4} - \\dot{q}_{3}^{2} r_{2} \\cos{\\left (q_{3} \\right )} + \\dot{q}_{3}^{2} r_{3} \\sin{\\left (q_{3} \\right )}\\\\\\ddot{q}_{3} r_{2} \\cos{\\left (q_{3} \\right )} - \\ddot{q}_{3} r_{3} \\sin{\\left (q_{3} \\right )} + \\ddot{q}_{5} - \\dot{q}_{3}^{2} r_{2} \\sin{\\left (q_{3} \\right )} - \\dot{q}_{3}^{2} r_{3} \\cos{\\left (q_{3} \\right )}\\end{matrix}\\right]$$"
      ],
      "text/plain": [
       "⎡                                            2                 2           ⎤\n",
       "⎢-q̈₀⋅r₂⋅sin(q₀) - q̈₀⋅r₃⋅cos(q₀) + q̈₁ - q̇₀ ⋅r₂⋅cos(q₀) + q̇₀ ⋅r₃⋅sin(q₀)⎥\n",
       "⎢                                                                          ⎥\n",
       "⎢                                           2                 2            ⎥\n",
       "⎢q̈₀⋅r₂⋅cos(q₀) - q̈₀⋅r₃⋅sin(q₀) + q̈₂ - q̇₀ ⋅r₂⋅sin(q₀) - q̇₀ ⋅r₃⋅cos(q₀) ⎥\n",
       "⎢                                                                          ⎥\n",
       "⎢                                            2                 2           ⎥\n",
       "⎢-q̈₃⋅r₂⋅sin(q₃) - q̈₃⋅r₃⋅cos(q₃) + q̈₄ - q̇₃ ⋅r₂⋅cos(q₃) + q̇₃ ⋅r₃⋅sin(q₃)⎥\n",
       "⎢                                                                          ⎥\n",
       "⎢                                           2                 2            ⎥\n",
       "⎣q̈₃⋅r₂⋅cos(q₃) - q̈₃⋅r₃⋅sin(q₃) + q̈₅ - q̇₃ ⋅r₂⋅sin(q₃) - q̇₃ ⋅r₃⋅cos(q₃) ⎦"
      ]
     },
     "metadata": {},
     "output_type": "display_data"
    }
   ],
   "source": [
    "# Define position of element endpoints (nodes)\n",
    "# x0 = 0 y0 = 0 x0_vec = [0,0]\n",
    "\n",
    "# Define Locations of Centroid of nodes\n",
    "X0 = sym.Matrix(['0','0','l','0'])\n",
    "rp = sym.simplify(X0 + u + R*s)\n",
    "\n",
    "print('r = ')\n",
    "display(rp)\n",
    "\n",
    "# Define velocity of element endpoints (nodes)\n",
    "v = sym.simplify(udot + R*Omega_skew*s)\n",
    "print('v = ')\n",
    "display(v)\n",
    "\n",
    "# Define acceleration of element endpoints (nodes)\n",
    "a = sym.simplify(uddot + R*Omega_skew*Omega_skew*s + R*Alpha_skew*s)\n",
    "print('\\na = ')\n",
    "display(a)"
   ]
  },
  {
   "cell_type": "markdown",
   "metadata": {},
   "source": [
    "### Compute the Mass Matrix"
   ]
  },
  {
   "cell_type": "code",
   "execution_count": 8,
   "metadata": {
    "collapsed": false,
    "scrolled": true
   },
   "outputs": [
    {
     "name": "stdout",
     "output_type": "stream",
     "text": [
      "\n",
      "V = \n"
     ]
    },
    {
     "data": {
      "text/latex": [
       "$$\\left[\\begin{matrix}\\left(- \\frac{x}{2} + \\frac{1}{2}\\right) \\left(- \\dot{q}_{0} r_{2} \\sin{\\left (q_{0} \\right )} - \\dot{q}_{0} r_{3} \\cos{\\left (q_{0} \\right )} + \\dot{q}_{1}\\right) + \\left(\\frac{x}{2} + \\frac{1}{2}\\right) \\left(- \\dot{q}_{3} r_{2} \\sin{\\left (q_{3} \\right )} - \\dot{q}_{3} r_{3} \\cos{\\left (q_{3} \\right )} + \\dot{q}_{4}\\right)\\\\\\left(- \\frac{x}{2} + \\frac{1}{2}\\right) \\left(\\dot{q}_{0} r_{2} \\cos{\\left (q_{0} \\right )} - \\dot{q}_{0} r_{3} \\sin{\\left (q_{0} \\right )} + \\dot{q}_{2}\\right) + \\left(\\frac{x}{2} + \\frac{1}{2}\\right) \\left(\\dot{q}_{3} r_{2} \\cos{\\left (q_{3} \\right )} - \\dot{q}_{3} r_{3} \\sin{\\left (q_{3} \\right )} + \\dot{q}_{5}\\right)\\end{matrix}\\right]$$"
      ],
      "text/plain": [
       "⎡⎛  x   1⎞                                            ⎛x   1⎞                 \n",
       "⎢⎜- ─ + ─⎟⋅(-q̇₀⋅r₂⋅sin(q₀) - q̇₀⋅r₃⋅cos(q₀) + q̇₁) + ⎜─ + ─⎟⋅(-q̇₃⋅r₂⋅sin(q₃)\n",
       "⎢⎝  2   2⎠                                            ⎝2   2⎠                 \n",
       "⎢                                                                             \n",
       "⎢ ⎛  x   1⎞                                           ⎛x   1⎞                 \n",
       "⎢ ⎜- ─ + ─⎟⋅(q̇₀⋅r₂⋅cos(q₀) - q̇₀⋅r₃⋅sin(q₀) + q̇₂) + ⎜─ + ─⎟⋅(q̇₃⋅r₂⋅cos(q₃) \n",
       "⎣ ⎝  2   2⎠                                           ⎝2   2⎠                 \n",
       "\n",
       "                        ⎤\n",
       " - q̇₃⋅r₃⋅cos(q₃) + q̇₄)⎥\n",
       "                        ⎥\n",
       "                        ⎥\n",
       "                        ⎥\n",
       "- q̇₃⋅r₃⋅sin(q₃) + q̇₅) ⎥\n",
       "                        ⎦"
      ]
     },
     "metadata": {},
     "output_type": "display_data"
    }
   ],
   "source": [
    "# Define shape function for element with one node at each end\n",
    "h = sym.symarray('h', 2)\n",
    "\n",
    "h[0] = sym.Rational(1,2)*(1 - x)\n",
    "h[1] = sym.Rational(1,2)*(1 + x)\n",
    "\n",
    "# Compute shape function matrix\n",
    "H = sym.Matrix([h[0]*sym.eye(2), h[1]*sym.eye(2)]).T\n",
    "# print('\\nH = ')\n",
    "# display(H)\n",
    "\n",
    "# Define velocity of any point \n",
    "Rp = H*rp\n",
    "# print('\\nR = ')\n",
    "# display(Rp)\n",
    "\n",
    "# Define velocity of any point \n",
    "Vp = H*v\n",
    "print('\\nV = ')\n",
    "display(Vp)\n",
    "\n",
    "# Define velocity of any point \n",
    "Ap = H*a\n",
    "# print('\\nA = ')\n",
    "# display(Accel)\n",
    "\n",
    "# Compute partial velocities of the nodes\n",
    "Vr = sym.simplify(sym.Matrix([[sym.diff(Vp,qdot) for Vp in Vp] for qdot in qdot]).T)\n",
    "# v_r = H\n",
    "# print('\\nVr = ')\n",
    "# display(Vr)\n",
    "# print(Vr.shape)\n",
    "\n",
    "# Compute mass matrix\n",
    "M = sym.simplify(sym.factor(sym.Matrix(\n",
    "            [[sym.expand(sym.integrate(Vr[:,i].dot(Ap)*rho,('r_2',0,r),('r_3',0,r),(x,0,l))).coeff(qddot[j]) \n",
    "              for i in range(len(qddot))] for j in range(len(qddot))])))"
   ]
  },
  {
   "cell_type": "code",
   "execution_count": 9,
   "metadata": {
    "collapsed": false
   },
   "outputs": [],
   "source": [
    "# # print('\\nM = \\n')\n",
    "# # display(M)\n",
    "\n",
    "# print('M_11 = ')\n",
    "# display(M[0:3,0:3])\n",
    "# print('\\nM_22 = ')\n",
    "# display(M[3:6,3:6])\n",
    "# print('\\nM_12 = ')\n",
    "# display(M[0:3,3:6])\n",
    "# print('\\nM_21.T = ')\n",
    "# display(M[3:6,0:3].T)"
   ]
  },
  {
   "cell_type": "markdown",
   "metadata": {},
   "source": [
    "### Compute Internal forces "
   ]
  },
  {
   "cell_type": "markdown",
   "metadata": {},
   "source": [
    "#### 1. Transverse (Bending) Strain"
   ]
  },
  {
   "cell_type": "code",
   "execution_count": 10,
   "metadata": {
    "collapsed": false
   },
   "outputs": [],
   "source": [
    "# Orthogonal Matricies Not Extracted to Simplify Algebra\n",
    "R_interp = sym.simplify(H*sym.Matrix([R1,R2]))\n",
    "dT = sym.simplify(H.diff(x)*sym.Matrix([R1,R2]))\n",
    "kappa = sym.simplify(sym.Matrix([Axial_sym(dT*R_interp.T),'0','0','0']))\n",
    "# display(kappa)"
   ]
  },
  {
   "cell_type": "code",
   "execution_count": 11,
   "metadata": {
    "collapsed": false,
    "scrolled": true
   },
   "outputs": [
    {
     "data": {
      "text/latex": [
       "$$\\left[\\begin{matrix}\\frac{1}{2} \\left(- x + 1\\right) \\cos{\\left (q_{0} \\right )} + \\frac{1}{2} \\left(x + 1\\right) \\cos{\\left (q_{3} \\right )} & \\frac{1}{2} \\left(x - 1\\right) \\sin{\\left (q_{0} \\right )} - \\frac{1}{2} \\left(x + 1\\right) \\sin{\\left (q_{3} \\right )}\\\\\\frac{1}{2} \\left(- x + 1\\right) \\sin{\\left (q_{0} \\right )} + \\frac{1}{2} \\left(x + 1\\right) \\sin{\\left (q_{3} \\right )} & \\frac{1}{2} \\left(- x + 1\\right) \\cos{\\left (q_{0} \\right )} + \\frac{1}{2} \\left(x + 1\\right) \\cos{\\left (q_{3} \\right )}\\end{matrix}\\right]$$"
      ],
      "text/plain": [
       "⎡(-x + 1)⋅cos(q₀)   (x + 1)⋅cos(q₃)  (x - 1)⋅sin(q₀)   (x + 1)⋅sin(q₃) ⎤\n",
       "⎢──────────────── + ───────────────  ─────────────── - ─────────────── ⎥\n",
       "⎢       2                  2                2                 2        ⎥\n",
       "⎢                                                                      ⎥\n",
       "⎢(-x + 1)⋅sin(q₀)   (x + 1)⋅sin(q₃)  (-x + 1)⋅cos(q₀)   (x + 1)⋅cos(q₃)⎥\n",
       "⎢──────────────── + ───────────────  ──────────────── + ───────────────⎥\n",
       "⎣       2                  2                2                  2       ⎦"
      ]
     },
     "execution_count": 11,
     "metadata": {},
     "output_type": "execute_result"
    }
   ],
   "source": [
    "R_interp"
   ]
  },
  {
   "cell_type": "markdown",
   "metadata": {},
   "source": [
    "#### 2. Longitudinal (Axial) Strian"
   ]
  },
  {
   "cell_type": "code",
   "execution_count": 12,
   "metadata": {
    "collapsed": false
   },
   "outputs": [],
   "source": [
    "# Define Locations of Centroid \n",
    "x0 = sym.Matrix(['x','0'])\n",
    "\n",
    "# Define Newtonian Unit Vector x-dir\n",
    "n1 = sym.Matrix(['1','0'])\n",
    "\n",
    "# Interpolate Displacemnts\n",
    "u_int = H*u\n",
    "\n",
    "# Derivatives w.r.t longitudinal beam coordinate\n",
    "du = u_int.diff(x)\n",
    "dx0 = x0.diff(x)\n",
    "\n",
    "# Compute axial strain\n",
    "u_ax = dx0 + du - R_interp*n1\n",
    "epsilon = sym.Matrix(['0', u_ax[0], '0', u_ax[1]])\n",
    "# epsilon = u_ax\n",
    "# display(epsilon)"
   ]
  },
  {
   "cell_type": "markdown",
   "metadata": {},
   "source": [
    "#### 3. Compute Internal Forces $Q_e = -\\frac{\\partial U}{\\partial e}$"
   ]
  },
  {
   "cell_type": "code",
   "execution_count": 13,
   "metadata": {
    "collapsed": false,
    "scrolled": true
   },
   "outputs": [],
   "source": [
    "\"\"\"\n",
    "Note: Sympy bug! Integrating a matrix returns a vector!!!\n",
    "\"\"\"\n",
    "# derivative of shapefunction matrix\n",
    "dHdx = H.diff(x)\n",
    "\n",
    "# Transverse strain energy\n",
    "kappa_squared = (kappa.T*dHdx.T).dot(dHdx*kappa)\n",
    "Ut = 1/2*sym.integrate(E*I*kappa_squared, (x,0,l))\n",
    "\n",
    "# Longitudinal strain energy\n",
    "# epsilon_squared = (epsilon.T*dHdx.T).dot(dHdx*epsilon)\n",
    "\n",
    "G = E/2.6\n",
    "# C_big = sym.Matrix.vstack(sym.Matrix.hstack(C,sym.zeros(2)),sym.Matrix.hstack(sym.zeros(2), C))\n",
    "# R_interp_big = sym.Matrix.vstack(sym.Matrix.hstack(R_interp,sym.zeros(2)),\n",
    "#                                  sym.Matrix.hstack(sym.zeros(2), R_interp))\n",
    "C = sym.Matrix([[E*A, 0],[0, 5/6*G*A]])\n",
    "Ul = 1/2*sym.integrate(epsilon.T*dHdx.T*R_interp*C*R_interp.T*dHdx*epsilon, (x,0,l))[0]\n",
    "\n",
    "# Ul = 1/2*sym.integrate(epsilon.T*dHdx.T*R_interp*C*R_interp.T*dHdx*epsilon, (x,0,l))[0]\n",
    "# Ul = 1/2*sym.integrate(E*A*epsilon_squared, (x,0,l)) \n",
    "\n",
    "# Compute Total Energy\n",
    "U = Ul + Ut\n",
    "\n",
    "# Compute Internal Force Vector\n",
    "Qe = sym.Matrix([sym.simplify(sym.expand(-sym.diff(U,qi))) for qi in q])"
   ]
  },
  {
   "cell_type": "code",
   "execution_count": null,
   "metadata": {
    "collapsed": false
   },
   "outputs": [],
   "source": []
  },
  {
   "cell_type": "markdown",
   "metadata": {},
   "source": [
    "####4. Applied and body force vector"
   ]
  },
  {
   "cell_type": "code",
   "execution_count": 14,
   "metadata": {
    "collapsed": false
   },
   "outputs": [],
   "source": [
    "# Applied forces\n",
    "# Gravity body force\n",
    "fg = g*rho*sym.Matrix([0,-1])\n",
    "\n",
    "# Applied torque (not considered at this time, no partial angular velocities)\n",
    "# torque_app = sym.Matrix([0,0,tau_a])\n",
    "\n",
    "# Compute beta\n",
    "beta = sym.Matrix([sym.simplify(sym.integrate(Vr[:,j].dot(fg),('r_2',0,r),('r_3',0,r),(x,0,l)))\n",
    "                   + qe for j,qe in zip(range(len(q)),Qe)])\n",
    "\n",
    "# Just for debugging purposes\n",
    "Fg = sym.Matrix([sym.simplify(sym.integrate(Vr[:,j].dot(fg),('r_2',0,r),('r_3',0,r),(x,0,l)))\n",
    "                   for j in range(len(q))])"
   ]
  },
  {
   "cell_type": "code",
   "execution_count": 15,
   "metadata": {
    "collapsed": false
   },
   "outputs": [],
   "source": [
    "pickle.dump( M,    open( \"gebf-mass-matrix.dump\",   \"wb\" ) )\n",
    "pickle.dump( beta, open( \"gebf-force-vector.dump\",  \"wb\" ) )\n",
    "pickle.dump( U,    open( \"gebf-strain-energy.dump\", \"wb\" ) )\n",
    "# pickle.dump(PE, open(\"potential_enrgy\", \"wb\")) "
   ]
  },
  {
   "cell_type": "code",
   "execution_count": 16,
   "metadata": {
    "collapsed": false
   },
   "outputs": [],
   "source": [
    "# M_sym    = pickle.load( open( \"gebf-mass-matrix.dump\",   \"rb\" ) )\n",
    "# beta_sym = pickle.load( open( \"gebf-force-vector.dump\",  \"rb\" ) )\n",
    "# U_sym    = pickle.load( open( \"gebf-strain-energy.dump\", \"rb\" ) )"
   ]
  },
  {
   "cell_type": "code",
   "execution_count": 17,
   "metadata": {
    "collapsed": false
   },
   "outputs": [],
   "source": [
    "M_func    = lambdify((E, A, I, r, rho, l, g, q),    M, \"numpy\")\n",
    "beta_func = lambdify((E, A, I, r, rho, l, g, q), beta, \"numpy\")\n",
    "U_func    = lambdify((E, A, I, r, rho, l, g, q),    U, \"numpy\")"
   ]
  },
  {
   "cell_type": "code",
   "execution_count": 18,
   "metadata": {
    "collapsed": false
   },
   "outputs": [],
   "source": [
    "# Debugging functions to trace source of error \n",
    "Qe_func    = lambdify((E, A, I, r, rho, l, g, q),    Qe, \"numpy\")\n",
    "Fg_func    = lambdify((E, A, I, r, rho, l, g, q),    Fg, \"numpy\")\n",
    "Ut_func    = lambdify((E, A, I, r, rho, l, g, q),    Ut, \"numpy\")\n",
    "Ul_func    = lambdify((E, A, I, r, rho, l, g, q),    Ul, \"numpy\")\n",
    "# e2_func    = lambdify((E, A, I, r, rho, l, g, q), epsilon_squared, \"numpy\")"
   ]
  },
  {
   "cell_type": "code",
   "execution_count": 19,
   "metadata": {
    "collapsed": false
   },
   "outputs": [],
   "source": [
    "beta_num = beta_func(0.7e6, 0.0018, 1.215e-8, 0.02393, 5540, 0.12, 9.81, np.zeros_like(q))\n",
    "M_num    = M_func(   0.7e6, 0.0018, 1.215e-8, 0.02393, 5540, 0.12, 9.81, np.zeros_like(q))\n",
    "U_num    = U_func(   0.7e6, 0.0018, 1.215e-8, 0.02393, 5540, 0.12, 9.81, np.zeros_like(q))"
   ]
  },
  {
   "cell_type": "code",
   "execution_count": 20,
   "metadata": {
    "collapsed": false
   },
   "outputs": [],
   "source": [
    "M11 = np.array(M_num[0:3,0:3])\n",
    "M12 = np.array(M_num[0:3,3:6])\n",
    "M21 = np.array(M_num[3:6,0:3])\n",
    "M22 = np.array(M_num[3:6,3:6])\n",
    "\n",
    "# For now use these definitions to cast Fic (constraint forces between GEBF elements) \n",
    "# into generalized constraint forces\n",
    "gamma11 = np.eye(3)\n",
    "gamma12 = np.zeros((3,3))\n",
    "gamma22 = np.eye(3)\n",
    "gamma21 = np.zeros((3,3))\n",
    "\n",
    "# partition beta into lambda13 and lambda23\n",
    "gamma13 = np.array(beta_num[0:3])\n",
    "gamma23 = np.array(beta_num[3:6])\n",
    "\n",
    "\n",
    "# Commonly inverted quantities\n",
    "iM11 = np.linalg.inv(M11)\n",
    "iM22 = np.linalg.inv(M22)\n",
    "Gamma1 = np.linalg.inv(M11 - M12.dot(iM22.dot(M21)))\n",
    "Gamma2 = np.linalg.inv(M22 - M21.dot(iM11.dot(M12)))\n",
    "\n",
    "# Compute all terms of the two handle equations\n",
    "z11 = Gamma1.dot(gamma11 - M12.dot(iM22.dot(gamma21)))\n",
    "z12 = Gamma1.dot(gamma12 - M12.dot(iM22.dot(gamma22)))\n",
    "z21 = Gamma2.dot(gamma21 - M21.dot(iM11.dot(gamma11)))\n",
    "z22 = Gamma2.dot(gamma22 - M21.dot(iM11.dot(gamma12)))\n",
    "\n",
    "z13 = Gamma1.dot(gamma13 - M12.dot(iM22.dot(gamma23))).reshape((3,1))\n",
    "z23 = Gamma2.dot(gamma23 - M21.dot(iM11.dot(gamma13))).reshape((3,1))"
   ]
  },
  {
   "cell_type": "code",
   "execution_count": 21,
   "metadata": {
    "collapsed": false
   },
   "outputs": [
    {
     "data": {
      "text/plain": [
       "matrix([[-0.021 ],\n",
       "        [-0.    ],\n",
       "        [-1.7553],\n",
       "        [-0.0237],\n",
       "        [ 0.    ],\n",
       "        [-1.9793]])"
      ]
     },
     "execution_count": 21,
     "metadata": {},
     "output_type": "execute_result"
    }
   ],
   "source": [
    "beta_num"
   ]
  },
  {
   "cell_type": "code",
   "execution_count": 22,
   "metadata": {
    "collapsed": false
   },
   "outputs": [
    {
     "name": "stdout",
     "output_type": "stream",
     "text": [
      "[[-0.  ]\n",
      " [-0.  ]\n",
      " [-9.81]]\n",
      "\n",
      "[[ 0.  ]\n",
      " [ 0.  ]\n",
      " [-9.81]]\n"
     ]
    }
   ],
   "source": [
    "print(z13)\n",
    "print()\n",
    "print(z23)"
   ]
  },
  {
   "cell_type": "code",
   "execution_count": 23,
   "metadata": {
    "collapsed": false
   },
   "outputs": [],
   "source": [
    "# Qe_num = Qe_func(   0.7e6, 0.0018, 1.215e-8, 0.02393, 5540, 0.12, 9.81, q0GEBF)\n",
    "# print('Qe = ')\n",
    "# print(Qe_num)\n",
    "# print()\n",
    "\n",
    "# Fg_num = Fg_func(   0.7e6, 0.0018, 1.215e-8, 0.02393, 5540, 0.12, 9.81, q0GEBF)\n",
    "# print('Fg = ')\n",
    "# print(Fg_num)\n",
    "# print()\n",
    "\n",
    "# Ul_num = Ul_func(   0.7e6, 0.0018, 1.215e-8, 0.02393, 5540, 0.12, 9.81, q0GEBF)\n",
    "# print('Axial Strain Energy = ')\n",
    "# print(Ul_num)\n",
    "# print()\n",
    "\n",
    "# Ut_num = Ut_func(   0.7e6, 0.0018, 1.215e-8, 0.02393, 5540, 0.12, 9.81, q0GEBF)\n",
    "# print('Bending Strain Energy = ')\n",
    "# print(Ut_num)\n",
    "# print()\n",
    "\n",
    "# # e2_num = e2_func(   0.7e6, 0.0018, 1.215e-8, 0.02393, 5540, 0.12, 9.81, q0GEBF)"
   ]
  },
  {
   "cell_type": "code",
   "execution_count": 24,
   "metadata": {
    "collapsed": false
   },
   "outputs": [
    {
     "ename": "NameError",
     "evalue": "name 'strainTime1' is not defined",
     "output_type": "error",
     "traceback": [
      "\u001b[0;31m---------------------------------------------------------------------------\u001b[0m",
      "\u001b[0;31mNameError\u001b[0m                                 Traceback (most recent call last)",
      "\u001b[0;32m<ipython-input-24-9e3fb8e5e410>\u001b[0m in \u001b[0;36m<module>\u001b[0;34m()\u001b[0m\n\u001b[1;32m      4\u001b[0m \u001b[0mUl_theta\u001b[0m \u001b[0;34m=\u001b[0m \u001b[0;34m[\u001b[0m\u001b[0mU_func\u001b[0m\u001b[0;34m(\u001b[0m\u001b[0;36m0.7e6\u001b[0m\u001b[0;34m,\u001b[0m \u001b[0;36m0.0018\u001b[0m\u001b[0;34m,\u001b[0m \u001b[0;36m1.215e-8\u001b[0m\u001b[0;34m,\u001b[0m \u001b[0;36m0.02393\u001b[0m\u001b[0;34m,\u001b[0m \u001b[0;36m5540\u001b[0m\u001b[0;34m,\u001b[0m \u001b[0;36m0.12\u001b[0m\u001b[0;34m,\u001b[0m \u001b[0;36m9.81\u001b[0m\u001b[0;34m,\u001b[0m \u001b[0mq0\u001b[0m\u001b[0;34m)\u001b[0m \u001b[0;32mfor\u001b[0m \u001b[0mq0\u001b[0m \u001b[0;32min\u001b[0m \u001b[0mq0GEBF\u001b[0m\u001b[0;34m]\u001b[0m\u001b[0;34m\u001b[0m\u001b[0m\n\u001b[1;32m      5\u001b[0m \u001b[0mline\u001b[0m\u001b[0;34m,\u001b[0m \u001b[0;34m=\u001b[0m \u001b[0mplt\u001b[0m\u001b[0;34m.\u001b[0m\u001b[0mplot\u001b[0m\u001b[0;34m(\u001b[0m\u001b[0mtheta\u001b[0m\u001b[0;34m/\u001b[0m\u001b[0mnp\u001b[0m\u001b[0;34m.\u001b[0m\u001b[0mpi\u001b[0m\u001b[0;34m,\u001b[0m \u001b[0mUl_theta\u001b[0m\u001b[0;34m,\u001b[0m \u001b[0;34m'-b'\u001b[0m\u001b[0;34m,\u001b[0m \u001b[0mlinewidth\u001b[0m\u001b[0;34m=\u001b[0m\u001b[0;36m2\u001b[0m\u001b[0;34m)\u001b[0m\u001b[0;34m\u001b[0m\u001b[0m\n\u001b[0;32m----> 6\u001b[0;31m plt.savefig(strainTime1, dpi=None, facecolor='w', edgecolor='w',\n\u001b[0m\u001b[1;32m      7\u001b[0m         \u001b[0morientation\u001b[0m\u001b[0;34m=\u001b[0m\u001b[0;34m'portrait'\u001b[0m\u001b[0;34m,\u001b[0m \u001b[0mpapertype\u001b[0m\u001b[0;34m=\u001b[0m\u001b[0;32mNone\u001b[0m\u001b[0;34m,\u001b[0m \u001b[0mformat\u001b[0m\u001b[0;34m=\u001b[0m\u001b[0;32mNone\u001b[0m\u001b[0;34m,\u001b[0m\u001b[0;34m\u001b[0m\u001b[0m\n\u001b[1;32m      8\u001b[0m         \u001b[0mtransparent\u001b[0m\u001b[0;34m=\u001b[0m\u001b[0;32mFalse\u001b[0m\u001b[0;34m,\u001b[0m \u001b[0mbbox_inches\u001b[0m\u001b[0;34m=\u001b[0m\u001b[0;32mNone\u001b[0m\u001b[0;34m,\u001b[0m \u001b[0mpad_inches\u001b[0m\u001b[0;34m=\u001b[0m\u001b[0;36m0.1\u001b[0m\u001b[0;34m,\u001b[0m\u001b[0;34m\u001b[0m\u001b[0m\n",
      "\u001b[0;31mNameError\u001b[0m: name 'strainTime1' is not defined"
     ]
    },
    {
     "data": {
      "image/png": "[encoded data removed]",
      "text/plain": [
       "<matplotlib.figure.Figure at 0x104634f98>"
      ]
     },
     "metadata": {},
     "output_type": "display_data"
    }
   ],
   "source": [
    "theta = np.linspace(0,2*np.pi,200)\n",
    "q0GEBF = [np.array([theta,0,0,0,0,0]).reshape(6,1) for theta in theta]\n",
    "q0GEBF[:][3] = q0GEBF[:][0]\n",
    "Ul_theta = [U_func(0.7e6, 0.0018, 1.215e-8, 0.02393, 5540, 0.12, 9.81, q0) for q0 in q0GEBF]\n",
    "line, = plt.plot(theta/np.pi, Ul_theta, '-b', linewidth=2)\n",
    "plt.savefig(strainTime1, dpi=None, facecolor='w', edgecolor='w',\n",
    "        orientation='portrait', papertype=None, format=None,\n",
    "        transparent=False, bbox_inches=None, pad_inches=0.1,\n",
    "        frameon=None)\n",
    "\n",
    "plt.show()"
   ]
  },
  {
   "cell_type": "code",
   "execution_count": null,
   "metadata": {
    "collapsed": false,
    "scrolled": true
   },
   "outputs": [],
   "source": [
    "theta = np.linspace(0,2*np.pi,200)\n",
    "q0GEBF = [np.array([theta,0,0,0,0,0]).reshape(6,1) for theta in theta]\n",
    "# q0GEBF[:][3] = q0GEBF[:][0]\n",
    "Ul_theta = [U_func(0.7e6, 0.0018, 1.215e-8, 0.02393, 5540, 0.12, 9.81, q0) for q0 in q0GEBF]\n",
    "line, = plt.plot(theta/np.pi, Ul_theta, '-b', linewidth=2)\n",
    "\n",
    "plt.show()"
   ]
  },
  {
   "cell_type": "code",
   "execution_count": 25,
   "metadata": {
    "collapsed": false
   },
   "outputs": [
    {
     "data": {
      "text/plain": [
       "matrix([[ 0.    , -0.001 ,  0.001 ,  0.    , -0.0011,  0.0011],\n",
       "        [-0.001 ,  0.0842,  0.    , -0.0011,  0.0947,  0.    ],\n",
       "        [ 0.001 ,  0.    ,  0.0842,  0.0011,  0.    ,  0.0947],\n",
       "        [ 0.    , -0.0011,  0.0011,  0.    , -0.0013,  0.0013],\n",
       "        [-0.0011,  0.0947,  0.    , -0.0013,  0.1071,  0.    ],\n",
       "        [ 0.0011,  0.    ,  0.0947,  0.0013,  0.    ,  0.1071]])"
      ]
     },
     "execution_count": 25,
     "metadata": {},
     "output_type": "execute_result"
    }
   ],
   "source": [
    "M_num"
   ]
  },
  {
   "cell_type": "code",
   "execution_count": null,
   "metadata": {
    "collapsed": true
   },
   "outputs": [],
   "source": []
  }
 ],
 "metadata": {
  "kernelspec": {
   "display_name": "Python 3",
   "language": "python",
   "name": "python3"
  },
  "language_info": {
   "codemirror_mode": {
    "name": "ipython",
    "version": 3
   },
   "file_extension": ".py",
   "mimetype": "text/x-python",
   "name": "python",
   "nbconvert_exporter": "python",
   "pygments_lexer": "ipython3",
   "version": "3.4.3"
  }
 },
 "nbformat": 4,
 "nbformat_minor": 0
}

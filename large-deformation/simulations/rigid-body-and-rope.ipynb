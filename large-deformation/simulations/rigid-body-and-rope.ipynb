{
 "cells": [
  {
   "cell_type": "markdown",
   "metadata": {},
   "source": [
    "## This notebook simulates a pendulum created of some rigid-bodies and some highly flexible GEBF bodies"
   ]
  },
  {
   "cell_type": "code",
   "execution_count": 1,
   "metadata": {
    "collapsed": false
   },
   "outputs": [],
   "source": [
    "import pdb as pdb \n",
    "import math\n",
    "import time\n",
    "import numpy as np\n",
    "import scipy as sc\n",
    "import cProfile\n",
    "import pdb as pdb \n",
    "\n",
    "from scipy.integrate import odeint\n",
    "\n",
    "import matplotlib.pyplot as plt\n",
    "import matplotlib.animation as animation\n",
    "\n",
    "import MBstructs as MBS\n",
    "import MBfuncts as MBF\n",
    "import DCA\n",
    "\n",
    "from IPython.display import display\n",
    "from __future__ import division\n",
    "from sympy.interactive import printing\n",
    "printing.init_printing(use_latex='mathjax')\n",
    "np.set_printoptions(precision=4,suppress=True)"
   ]
  },
  {
   "cell_type": "code",
   "execution_count": 2,
   "metadata": {
    "collapsed": false
   },
   "outputs": [],
   "source": [
    "def simulate(state,tspan,nbodies,bodiesGEBF,bodiesRigid,joints,BC1,BC2):\n",
    "    '''\n",
    "    This function extracts the generalized coordinates from the solution \n",
    "    of the equations of motion after calling the DCA to solve the equations of motion \n",
    "    '''\n",
    "    # only pin joints connecting rigid bodies\n",
    "    q = state[:nRIGID*ndofsRigid + nGEBF*ndofsGEBF]\n",
    "    u = state[nRIGID*ndofsRigid + nGEBF*ndofsGEBF:]\n",
    "    \n",
    "    # slice out rigid generalized coordinates and speeds from GEBF\n",
    "    qRigid = q[:nRIGID*ndofsRigid]\n",
    "    uRigid = u[:nRIGID*ndofsRigid]\n",
    "    qGEBF  = q[nRIGID*ndofsRigid:]\n",
    "    uGEBF  = u[nRIGID*ndofsRigid:]\n",
    "    \n",
    "    # Update the Kinematics 2D n-link Pendulum\n",
    "    # Now that these functions \"woe\n",
    "    # This should be a class function for each body type not an absolute function\n",
    "    # e.g., [body.updateKin for body in bodies]\n",
    "    MBF.kinematics_Rigid2D(bodiesRigid,qRigid,uRigid)  \n",
    "#     MBF.kinematics_GEBF2D(bodiesGEBF,qGEBF,uGEBF)\n",
    "    \n",
    "#     # slice out generalized cooridnates\n",
    "#     # and make a sublist for each body\n",
    "#     # these u's are not generalized speeds these are the displacements of the nodes\n",
    "#     u = qGEBF.tolist()\n",
    "#     u = [u[i*ndofsGEBF:(i*ndofsGEBF)+ndofsGEBF] for i in range((int(len(u)/ndofsGEBF)))]\n",
    "\n",
    "#     # 'pop' off the rotational coordinates \n",
    "#     # those are dealt with through the 'kinematic' sweep\n",
    "#     for ue in u:\n",
    "#         ue.pop(3)\n",
    "#         ue.pop(0)\n",
    "        \n",
    "    # compute the inverse inertial properties of the body \n",
    "    # with the updated generalized speeds\n",
    "    \n",
    "    for body,q,u in zip(bodiesGEBF, np.array_split(qGEBF,nGEBF), np.array_split(uGEBF,nGEBF)):\n",
    "        body.intProps('gebf', q, u)\n",
    "\n",
    "    # Mass-matricies constant (don't need to pass generalized coords)\n",
    "    for body in bodiesRigid:\n",
    "        body.intProps('rigid')\n",
    "        \n",
    "    # Compute PE\n",
    "    for body in bodi\n",
    "\n",
    "    # join the lists of bodies for a total list \n",
    "    # order matters\n",
    "    bodies = bodiesRigid + bodiesGEBF\n",
    "    \n",
    "    # Call the Recursive DCA Algorithm\n",
    "    # This returns a list of the form:\n",
    "    # [A11,A12,A21,A22,...,An1,An2]\n",
    "    # where Axy corresponds to the acceleration\n",
    "    # of the yth handle of the xth body\n",
    "    accel = DCA.solve(nbodies,0,bodies,joints,BC1,BC2)\n",
    "    \n",
    "    accelRigid = accel[:2*len(bodiesRigid)]\n",
    "    accelGEBF  = accel[2*len(bodiesRigid):]\n",
    "\n",
    "    # compute the generalized accelerations for kinematic joints\n",
    "    udot_Rigid = MBF.get_gen_accel_Rigid(len(bodiesRigid), joints, accelRigid)\n",
    "    udot_GEBF  = MBF.get_gen_accel_GEBF(len(bodiesGEBF), accelGEBF)\n",
    "    udot = np.hstack((udot_Rigid,udot_GEBF))\n",
    "\n",
    "    state_dot = np.hstack((state[nRIGID*ndofsRigid + nGEBF*ndofsGEBF:],udot))\n",
    "    return state_dot"
   ]
  },
  {
   "cell_type": "markdown",
   "metadata": {},
   "source": [
    "#### System Initilization"
   ]
  },
  {
   "cell_type": "code",
   "execution_count": 3,
   "metadata": {
    "collapsed": false
   },
   "outputs": [],
   "source": [
    "# number of bodies and GEBF elements and kinematic joints\n",
    "# *** NOTE: For testing pupposes DCA does NOT effectively work for one body\n",
    "#          - For one body DCA returns [A1 F1c A2 F2c]\n",
    "#          - For two or more bodies DCA returns [A1 A2] ***\n",
    "nRIGID = 2\n",
    "nGEBF  = 6\n",
    "nbodies = nGEBF + nRIGID\n",
    "\n",
    "\n",
    "nJpin = 1\n",
    "nJfixed = (nbodies - nJpin) \n",
    "\n",
    "ndofsGEBF = 6   # (x,y,theta per joint)\n",
    "ndofsRigid  = 1 # (one pin joint)\n",
    "\n",
    "# GEBF-Properties\n",
    "# Physical Properties\n",
    "A   =  0.0018\n",
    "I   =  1.215e-8\n",
    "L   =  1.2\n",
    "r   =  math.sqrt(A/math.pi)\n",
    "l = 0.12\n",
    "g = 9.81\n",
    "\n",
    "# Rigid-body Properties\n",
    "# Physical Properties\n",
    "mR = 1.0\n",
    "IR = 1/12*mR*l**2\n",
    "\n",
    "# Material Properties\n",
    "E   =  0.7e6\n",
    "rho =  5540\n",
    "\n",
    "# Length of time of the simulation and time-step\n",
    "t_final = 0.2\n",
    "dt = 0.0001\n",
    "tspan = np.arange(0,t_final,dt)"
   ]
  },
  {
   "cell_type": "markdown",
   "metadata": {},
   "source": [
    "#### Simulation Specifications"
   ]
  },
  {
   "cell_type": "code",
   "execution_count": 4,
   "metadata": {
    "collapsed": true
   },
   "outputs": [],
   "source": [
    "# Initial conditions\n",
    "\n",
    "# sublists handy for initilization of bodies \n",
    "q0GEBF = [[0 for i in range(ndofsGEBF)] for i in range(nGEBF)]\n",
    "# q0GEBF[0][0] = -np.pi/2\n",
    "u0GEBF = [[0 for i in range(ndofsGEBF)] for i in range(nGEBF)]\n",
    "# u0GEBF[0][0] = -1\n",
    "\n",
    "# All rigid bodies are connected by pin joints\n",
    "q0Rigid = [[0 for i in range(ndofsRigid)] for i in range(nRIGID)]\n",
    "u0Rigid = [[0 for i in range(ndofsRigid)] for i in range(nRIGID)]\n",
    "# u0Rigid[0][0] = -1 \n",
    "\n",
    "q0 = q0Rigid + q0GEBF\n",
    "u0 = u0Rigid + u0GEBF\n",
    "\n",
    "# flatten sub-lists into a single state vector\n",
    "q0 = np.array([q for q_body in q0 for q in q_body],dtype=np.double).squeeze()\n",
    "u0 = np.array([u for u_body in u0 for u in u_body],dtype=np.double).squeeze()\n",
    "\n",
    "state0 = np.hstack((q0,u0))"
   ]
  },
  {
   "cell_type": "code",
   "execution_count": 5,
   "metadata": {
    "collapsed": false
   },
   "outputs": [
    {
     "ename": "FileNotFoundError",
     "evalue": "[Errno 2] No such file or directory: 'potential_enrgy.dump'",
     "output_type": "error",
     "traceback": [
      "\u001b[0;31m---------------------------------------------------------------------------\u001b[0m",
      "\u001b[0;31mFileNotFoundError\u001b[0m                         Traceback (most recent call last)",
      "\u001b[0;32m<ipython-input-5-b147dfa8fc63>\u001b[0m in \u001b[0;36m<module>\u001b[0;34m()\u001b[0m\n\u001b[1;32m      8\u001b[0m \u001b[0mbodiesRigid\u001b[0m \u001b[0;34m=\u001b[0m \u001b[0;34m[\u001b[0m\u001b[0mMBS\u001b[0m\u001b[0;34m.\u001b[0m\u001b[0mBody\u001b[0m\u001b[0;34m(\u001b[0m\u001b[0;34m)\u001b[0m \u001b[0;32mfor\u001b[0m \u001b[0mi\u001b[0m \u001b[0;32min\u001b[0m \u001b[0mrange\u001b[0m\u001b[0;34m(\u001b[0m\u001b[0mnRIGID\u001b[0m\u001b[0;34m)\u001b[0m\u001b[0;34m]\u001b[0m\u001b[0;34m\u001b[0m\u001b[0m\n\u001b[1;32m      9\u001b[0m \u001b[0;32mfor\u001b[0m \u001b[0mbody\u001b[0m \u001b[0;32min\u001b[0m \u001b[0mbodiesGEBF\u001b[0m\u001b[0;34m:\u001b[0m\u001b[0;34m\u001b[0m\u001b[0m\n\u001b[0;32m---> 10\u001b[0;31m     \u001b[0mbody\u001b[0m\u001b[0;34m.\u001b[0m\u001b[0minitialize\u001b[0m\u001b[0;34m(\u001b[0m\u001b[0;34m'gebf'\u001b[0m\u001b[0;34m,\u001b[0m \u001b[0mE\u001b[0m\u001b[0;34m,\u001b[0m \u001b[0mA\u001b[0m\u001b[0;34m,\u001b[0m \u001b[0mI\u001b[0m\u001b[0;34m,\u001b[0m \u001b[0mr\u001b[0m\u001b[0;34m,\u001b[0m \u001b[0mrho\u001b[0m\u001b[0;34m,\u001b[0m \u001b[0ml\u001b[0m\u001b[0;34m,\u001b[0m \u001b[0mg\u001b[0m\u001b[0;34m,\u001b[0m \u001b[0mq0GEBF\u001b[0m\u001b[0;34m)\u001b[0m\u001b[0;34m\u001b[0m\u001b[0m\n\u001b[0m\u001b[1;32m     11\u001b[0m \u001b[0;32mfor\u001b[0m \u001b[0mbody\u001b[0m \u001b[0;32min\u001b[0m \u001b[0mbodiesRigid\u001b[0m\u001b[0;34m:\u001b[0m\u001b[0;34m\u001b[0m\u001b[0m\n\u001b[1;32m     12\u001b[0m     \u001b[0mbody\u001b[0m\u001b[0;34m.\u001b[0m\u001b[0minitialize\u001b[0m\u001b[0;34m(\u001b[0m\u001b[0;34m'rigid'\u001b[0m\u001b[0;34m,\u001b[0m \u001b[0mmR\u001b[0m\u001b[0;34m,\u001b[0m\u001b[0ml\u001b[0m\u001b[0;34m,\u001b[0m \u001b[0mIR\u001b[0m\u001b[0;34m,\u001b[0m \u001b[0mg\u001b[0m\u001b[0;34m)\u001b[0m\u001b[0;34m\u001b[0m\u001b[0m\n",
      "\u001b[0;32m/Users/laflij/Research/code/mixed-body-type/large-deformation/simulations/MBstructs.py\u001b[0m in \u001b[0;36minitialize\u001b[0;34m(self, body_type, *args)\u001b[0m\n\u001b[1;32m     38\u001b[0m             \u001b[0mRigid_Body2D\u001b[0m\u001b[0;34m.\u001b[0m\u001b[0minitialize\u001b[0m\u001b[0;34m(\u001b[0m\u001b[0mself\u001b[0m\u001b[0;34m,\u001b[0m \u001b[0margs\u001b[0m\u001b[0;34m)\u001b[0m\u001b[0;34m\u001b[0m\u001b[0m\n\u001b[1;32m     39\u001b[0m         \u001b[0;32melif\u001b[0m \u001b[0mbody_type\u001b[0m \u001b[0;34m==\u001b[0m \u001b[0;34m'gebf'\u001b[0m\u001b[0;34m:\u001b[0m\u001b[0;34m\u001b[0m\u001b[0m\n\u001b[0;32m---> 40\u001b[0;31m             \u001b[0mGEBF_Element2D\u001b[0m\u001b[0;34m.\u001b[0m\u001b[0minitialize\u001b[0m\u001b[0;34m(\u001b[0m\u001b[0mself\u001b[0m\u001b[0;34m,\u001b[0m \u001b[0margs\u001b[0m\u001b[0;34m)\u001b[0m\u001b[0;34m\u001b[0m\u001b[0m\n\u001b[0m\u001b[1;32m     41\u001b[0m \u001b[0;34m\u001b[0m\u001b[0m\n\u001b[1;32m     42\u001b[0m     \u001b[0;32mdef\u001b[0m \u001b[0mintProps\u001b[0m\u001b[0;34m(\u001b[0m\u001b[0mself\u001b[0m\u001b[0;34m,\u001b[0m \u001b[0mbody_type\u001b[0m\u001b[0;34m,\u001b[0m \u001b[0;34m*\u001b[0m\u001b[0margs\u001b[0m\u001b[0;34m)\u001b[0m\u001b[0;34m:\u001b[0m\u001b[0;34m\u001b[0m\u001b[0m\n",
      "\u001b[0;32m/Users/laflij/Research/code/mixed-body-type/large-deformation/simulations/MBstructs.py\u001b[0m in \u001b[0;36minitialize\u001b[0;34m(self, args)\u001b[0m\n\u001b[1;32m    108\u001b[0m         \u001b[0mGamma1_sym\u001b[0m \u001b[0;34m=\u001b[0m \u001b[0mpickle\u001b[0m\u001b[0;34m.\u001b[0m\u001b[0mload\u001b[0m\u001b[0;34m(\u001b[0m \u001b[0mopen\u001b[0m\u001b[0;34m(\u001b[0m \u001b[0;34m\"gebf-1c-matrix.dump\"\u001b[0m\u001b[0;34m,\u001b[0m    \u001b[0;34m\"rb\"\u001b[0m \u001b[0;34m)\u001b[0m \u001b[0;34m)\u001b[0m\u001b[0;34m\u001b[0m\u001b[0m\n\u001b[1;32m    109\u001b[0m         \u001b[0mGamma2_sym\u001b[0m \u001b[0;34m=\u001b[0m \u001b[0mpickle\u001b[0m\u001b[0;34m.\u001b[0m\u001b[0mload\u001b[0m\u001b[0;34m(\u001b[0m \u001b[0mopen\u001b[0m\u001b[0;34m(\u001b[0m \u001b[0;34m\"gebf-2c-matrix.dump\"\u001b[0m\u001b[0;34m,\u001b[0m    \u001b[0;34m\"rb\"\u001b[0m \u001b[0;34m)\u001b[0m \u001b[0;34m)\u001b[0m\u001b[0;34m\u001b[0m\u001b[0m\n\u001b[0;32m--> 110\u001b[0;31m         \u001b[0mPE\u001b[0m         \u001b[0;34m=\u001b[0m \u001b[0mpickle\u001b[0m\u001b[0;34m.\u001b[0m\u001b[0mload\u001b[0m\u001b[0;34m(\u001b[0m \u001b[0mopen\u001b[0m\u001b[0;34m(\u001b[0m \u001b[0;34m\"potential_enrgy.dump\"\u001b[0m\u001b[0;34m,\u001b[0m   \u001b[0;34m\"rb\"\u001b[0m \u001b[0;34m)\u001b[0m \u001b[0;34m)\u001b[0m\u001b[0;34m\u001b[0m\u001b[0m\n\u001b[0m\u001b[1;32m    111\u001b[0m \u001b[0;34m\u001b[0m\u001b[0m\n\u001b[1;32m    112\u001b[0m         \u001b[0;31m# Create numeric function of needed matrix and vector quantities\u001b[0m\u001b[0;34m\u001b[0m\u001b[0;34m\u001b[0m\u001b[0m\n",
      "\u001b[0;31mFileNotFoundError\u001b[0m: [Errno 2] No such file or directory: 'potential_enrgy.dump'"
     ]
    }
   ],
   "source": [
    "# Initialize a list of Joints\n",
    "jointsPin = [MBS.Joint('revolute2D') for i in range(nJpin)]\n",
    "jointsFixed = [MBS.Joint('fixed') for i in range (nJfixed)]\n",
    "joints = jointsPin + jointsFixed\n",
    "\n",
    "# Initialize the list of bodies \n",
    "bodiesGEBF = [MBS.Body() for i in range(nGEBF)]\n",
    "bodiesRigid = [MBS.Body() for i in range(nRIGID)]\n",
    "for body in bodiesGEBF:\n",
    "    body.initialize('gebf', E, A, I, r, rho, l, g, q0GEBF)\n",
    "for body in bodiesRigid:\n",
    "    body.initialize('rigid', mR,l, IR, g)"
   ]
  },
  {
   "cell_type": "code",
   "execution_count": null,
   "metadata": {
    "collapsed": false
   },
   "outputs": [],
   "source": [
    "# odeint is the numerical integrator used\n",
    "# state = MBF.myRK4(simulate,state0,tspan,nbodies,bodiesGEBF,bodiesRigid,joints,2,1)\n",
    "# %%prun -s cumulative \n",
    "state = odeint(simulate,state0,tspan,(nbodies,bodiesGEBF,bodiesRigid,joints,2,1))"
   ]
  },
  {
   "cell_type": "code",
   "execution_count": null,
   "metadata": {
    "collapsed": false
   },
   "outputs": [],
   "source": [
    "q = state[:,:nRIGID*ndofsRigid + nGEBF*ndofsGEBF]\n",
    "u = state[:,nRIGID*ndofsRigid + nGEBF*ndofsGEBF:]\n",
    "\n",
    "# slice out rigid generalized coordinates and speeds from GEBF\n",
    "qRigid = q[:,:nRIGID*ndofsRigid]\n",
    "uRigid = u[:,:nRIGID*ndofsRigid]\n",
    "qGEBF  = q[:,nRIGID*ndofsRigid:]\n",
    "uGEBF  = u[:,nRIGID*ndofsRigid:]\n",
    "\n",
    "r0 = np.array([[np.cos(q0GEBF[0][0])*(l*i+nRIGID*l),   np.sin(q0GEBF[0][0])*(l*i+nRIGID*l), \n",
    "                np.cos(q0GEBF[0][0])*(l*i+l+nRIGID*l), np.sin(q0GEBF[0][0])*(l*i+l+nRIGID*l)] \n",
    "               for i in range(0,nGEBF)],dtype=np.double).reshape(1,ndofsGEBF*nGEBF - 2*nGEBF)\n",
    "\n",
    "xRigid,yRigid = MBF.get_topology_2DRigid(qRigid,0.12)\n",
    "# Interpolate between nodes with npoints, and compute absolute positions of nodes for plotting\n",
    "npoints = 10\n",
    "xGEBF,yGEBF = MBF.get_topology_2DGEBF(qGEBF, r0, l, nGEBF, npoints)\n",
    "\n",
    "x  = [np.hstack((xR.reshape(1,len(xR)),xG)) for xR,xG in zip(xRigid,xGEBF)]\n",
    "y = [np.hstack((yR.reshape(1,len(yR)),yG)) for yR,yG in zip(yRigid,yGEBF)]\n",
    "\n",
    "# x = xGEBF\n",
    "# y = yGEBF"
   ]
  },
  {
   "cell_type": "code",
   "execution_count": null,
   "metadata": {
    "collapsed": false
   },
   "outputs": [],
   "source": [
    "# ntsteps, len_q = np.shape(q)\n",
    "    \n",
    "# displacements = np.delete(q,range(0,len_q,3),1)\n",
    "\n",
    "# # compute position of each node\n",
    "# position = r0 + displacements\n",
    "# position_element = np.array_split(position,nelements,axis=1)\n",
    "\n",
    "# # interpolate \n",
    "# x = np.linspace(-1,1,npoints)\n",
    "# h1 = (1 - x/l)\n",
    "# h2 = (x/l)\n",
    "\n",
    "# # Compute shape function matrix\n",
    "# H = np.array([np.hstack((h1*np.eye(2), h2*np.eye(2))) \n",
    "#               for h1,h2 in zip(h1,h2)]).reshape(2*npoints,4).T\n",
    "\n",
    "# # Interpolate the X and Y cooridnates\n",
    "# xy = np.hstack(np.array([np.dot(position_element,H) \n",
    "#                          for position_element in position_element]))\n",
    "\n",
    "# x = np.array_split(xy[:,0::2],ntsteps+1)\n",
    "# y = np.array_split(xy[:,1::2],ntsteps+1)\n",
    "\n",
    "# return x,y"
   ]
  },
  {
   "cell_type": "code",
   "execution_count": null,
   "metadata": {
    "collapsed": false
   },
   "outputs": [],
   "source": [
    "fig = plt.figure()\n",
    "ax = fig.add_subplot(111, autoscale_on=False, xlim=(-(nbodies+5)*l,(nbodies+5)*l), \n",
    "                                              ylim=(-(nbodies+5)*l,(nbodies+5)*l))\n",
    "# ax = fig.add_subplot(111, autoscale_on=False, xlim=(-10,10), \n",
    "#                                               ylim=(-10,10))\n",
    "\n",
    "ax.grid()\n",
    "\n",
    "line, = ax.plot([], [], 'o-', lw=2)\n",
    "time_template = 'time = %0.4fs'\n",
    "time_text = ax.text(0.05, 0.9, '', transform=ax.transAxes)\n",
    "\n",
    "def init():\n",
    "    line.set_data([], [])\n",
    "    time_text.set_text('')\n",
    "    return line, time_text\n",
    "\n",
    "def animate(i):\n",
    "#     thisx = [0, x[i][1], x[i][2]]\n",
    "#     thisy = [0, y[i][1], y[i][2]]\n",
    "    thisx = x[i]\n",
    "    thisy = y[i]\n",
    "\n",
    "    line.set_data(thisx, thisy)\n",
    "    time_text.set_text(time_template%(i*dt))\n",
    "    return line, time_text\n",
    "\n",
    "ani = animation.FuncAnimation(fig, animate, np.arange(1, len(y)),\n",
    "    interval = 1, blit=False, init_func=init)\n",
    "\n",
    "# ani.save('rigid_rope.mp4', fps=60)\n",
    "plt.show()"
   ]
  },
  {
   "cell_type": "code",
   "execution_count": null,
   "metadata": {
    "collapsed": false
   },
   "outputs": [],
   "source": [
    "# ke,pe,te = MBF.get_energy_Rigid(bodiesRigid,state)"
   ]
  },
  {
   "cell_type": "code",
   "execution_count": null,
   "metadata": {
    "collapsed": false
   },
   "outputs": [],
   "source": [
    "# # The energy of the system is calculated and plotted\n",
    "# %matplotlib inline \n",
    "# plt.plot(tspan,te-te[0])\n",
    "# plt.xlabel(\"Time [s]\")\n",
    "# plt.ylabel(\"energy\")\n",
    "# plt.title(\"System Energy\")\n",
    "# plt.show()\n",
    "\n",
    "# plt.plot(tspan,pe,tspan,ke)\n",
    "# plt.xlabel(\"Time[s]\")\n",
    "# plt.ylabel(\"energy\")\n",
    "# plt.title(\"Kinetic and Potential Energy\")\n",
    "# plt.show"
   ]
  },
  {
   "cell_type": "code",
   "execution_count": null,
   "metadata": {
    "collapsed": false
   },
   "outputs": [],
   "source": [
    "# %qtconsole"
   ]
  },
  {
   "cell_type": "code",
   "execution_count": null,
   "metadata": {
    "collapsed": true
   },
   "outputs": [],
   "source": []
  }
 ],
 "metadata": {
  "kernelspec": {
   "display_name": "Python 3",
   "language": "python",
   "name": "python3"
  },
  "language_info": {
   "codemirror_mode": {
    "name": "ipython",
    "version": 3
   },
   "file_extension": ".py",
   "mimetype": "text/x-python",
   "name": "python",
   "nbconvert_exporter": "python",
   "pygments_lexer": "ipython3",
   "version": "3.4.3"
  }
 },
 "nbformat": 4,
 "nbformat_minor": 0
}

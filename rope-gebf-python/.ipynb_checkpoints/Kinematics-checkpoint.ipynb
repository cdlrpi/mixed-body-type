{
 "metadata": {
  "name": "",
  "signature": "sha256:1821d5d428b15a765a6623952079b284419585bc335bb05cb5b943a171e17c78"
 },
 "nbformat": 3,
 "nbformat_minor": 0,
 "worksheets": []
}
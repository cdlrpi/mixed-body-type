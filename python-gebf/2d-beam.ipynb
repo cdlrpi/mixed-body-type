{
 "metadata": {
  "name": "",
  "signature": "sha256:c2332fc0dc9142123f29f379d37332cac2a289a7ffff87809eddbe447a10a177"
 },
 "nbformat": 3,
 "nbformat_minor": 0,
 "worksheets": [
  {
   "cells": [
    {
     "cell_type": "markdown",
     "metadata": {},
     "source": [
      "## This notebook develops the two handle equations of motion for a GEBF element"
     ]
    },
    {
     "cell_type": "code",
     "collapsed": false,
     "input": [
      "import pickle \n",
      "import numpy as np\n",
      "import scipy as sp\n",
      "import sympy as sym\n",
      "\n",
      "from IPython.display import display\n",
      "\n",
      "from sympy import init_printing\n",
      "init_printing(use_latex=True)"
     ],
     "language": "python",
     "metadata": {},
     "outputs": [],
     "prompt_number": 1
    },
    {
     "cell_type": "code",
     "collapsed": false,
     "input": [
      "alpha = sym.Matrix(sym.symarray('alpha',4))\n",
      "b = sym.Matrix(sym.symarray('\\hat{b}',4))\n",
      "i = sym.Matrix(sym.symarray('\\hat{i}',4))\n",
      "\n",
      "# e_dot = sym.Matrix(sym.symarray('edot',len(e)))\n",
      "# e_ddot = sym.Matrix(sym.symarray('eddot',len(e)))\n",
      "\n",
      "# symbolic system parameters \n",
      "# E, I, A, rho, x, l, tau_a = sym.symbols('E I A rho x l tau_a')\n",
      "x0, u, udot, R, R0, w, s, t = sym.symbols('x_0 u udot R R0 w s t')"
     ],
     "language": "python",
     "metadata": {},
     "outputs": [],
     "prompt_number": 2
    },
    {
     "cell_type": "markdown",
     "metadata": {},
     "source": [
      "### Define Position Of A Point In The Reference Configuration"
     ]
    },
    {
     "cell_type": "code",
     "collapsed": false,
     "input": [
      "# expressed in the inertial frame\n",
      "x = x0 + u(t) + (R(t)*R0) * (w + alpha[2]*i[2] + alpha[3]*i[3])\n",
      "display(sym.diff(x,t))"
     ],
     "language": "python",
     "metadata": {},
     "outputs": [
      {
       "latex": [
        "$$R_{0} \\left(\\hat{i}_{2} \\alpha_{2} + \\hat{i}_{3} \\alpha_{3} + w\\right) \\frac{d}{d t} R{\\left (t \\right )} + \\frac{d}{d t} u{\\left (t \\right )}$$"
       ],
       "metadata": {},
       "output_type": "display_data",
       "png": "[encoded data removed]",
       "text": [
        "                                   d          d       \n",
        "R\u2080\u22c5(\\hat{i}\u2082\u22c5\u03b1\u2082 + \\hat{i}\u2083\u22c5\u03b1\u2083 + w)\u22c5\u2500\u2500(R(t)) + \u2500\u2500(u(t))\n",
        "                                   dt         dt      "
       ]
      }
     ],
     "prompt_number": 8
    },
    {
     "cell_type": "code",
     "collapsed": false,
     "input": [],
     "language": "python",
     "metadata": {},
     "outputs": []
    },
    {
     "cell_type": "code",
     "collapsed": false,
     "input": [
      "# # Shape Functions Test\n",
      "# s = np.linspace(-1,1,50)\n",
      "# h1 = 1/2*(1-s)\n",
      "# h2 = 1/2*(1+2)      \n",
      "# re1 = np.array([[0],[0]])\n",
      "# re2 = np.array([[1],[1]])\n",
      "# rp = [re1*h1, re2*h2]\n",
      "# plt.plot(rp[0],rp[1])\n",
      "# plt.show()"
     ],
     "language": "python",
     "metadata": {},
     "outputs": [
      {
       "metadata": {},
       "output_type": "display_data",
       "png": "[encoded data removed]",
       "text": [
        "<matplotlib.figure.Figure at 0x106ad1090>"
       ]
      }
     ],
     "prompt_number": 7
    },
    {
     "cell_type": "code",
     "collapsed": false,
     "input": [
      "rp[1].shape"
     ],
     "language": "python",
     "metadata": {},
     "outputs": [
      {
       "metadata": {},
       "output_type": "pyout",
       "prompt_number": 8,
       "text": [
        "(2, 1)"
       ]
      }
     ],
     "prompt_number": 8
    },
    {
     "cell_type": "code",
     "collapsed": false,
     "input": [
      "print(rp)"
     ],
     "language": "python",
     "metadata": {},
     "outputs": [
      {
       "output_type": "stream",
       "stream": "stdout",
       "text": [
        "[array([[ 0.,  0.,  0.,  0.,  0.,  0.,  0.,  0.,  0.,  0.,  0.,  0.,  0.,\n",
        "         0.,  0.,  0.,  0.,  0.,  0.,  0.,  0.,  0.,  0.,  0.,  0.,  0.,\n",
        "         0.,  0.,  0.,  0.,  0.,  0.,  0.,  0.,  0.,  0.,  0.,  0.,  0.,\n",
        "         0.,  0.,  0.,  0.,  0.,  0.,  0.,  0.,  0.,  0.,  0.],\n",
        "       [ 0.,  0.,  0.,  0.,  0.,  0.,  0.,  0.,  0.,  0.,  0.,  0.,  0.,\n",
        "         0.,  0.,  0.,  0.,  0.,  0.,  0.,  0.,  0.,  0.,  0.,  0.,  0.,\n",
        "         0.,  0.,  0.,  0.,  0.,  0.,  0.,  0.,  0.,  0.,  0.,  0.,  0.,\n",
        "         0.,  0.,  0.,  0.,  0.,  0.,  0.,  0.,  0.,  0.,  0.]]), array([[ 1.5],\n",
        "       [ 1.5]])]\n"
       ]
      }
     ],
     "prompt_number": 9
    },
    {
     "cell_type": "code",
     "collapsed": false,
     "input": [],
     "language": "python",
     "metadata": {},
     "outputs": [],
     "prompt_number": 4
    }
   ],
   "metadata": {}
  }
 ]
}
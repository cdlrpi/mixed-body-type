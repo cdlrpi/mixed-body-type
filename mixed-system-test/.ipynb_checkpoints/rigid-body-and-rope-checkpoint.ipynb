{
 "cells": [
  {
   "cell_type": "markdown",
   "metadata": {},
   "source": [
    "## This notebook simulates a pendulum created of some rigid-bodies and some highly flexible GEBF bodies"
   ]
  },
  {
   "cell_type": "code",
   "execution_count": 1,
   "metadata": {
    "collapsed": false
   },
   "outputs": [],
   "source": [
    "import pdb as pdb \n",
    "import math\n",
    "import time\n",
    "import numpy as np\n",
    "import scipy as sc\n",
    "import cProfile\n",
    "import pdb as pdb \n",
    "\n",
    "from scipy.integrate import odeint\n",
    "\n",
    "import matplotlib.pyplot as plt\n",
    "import matplotlib.animation as animation\n",
    "\n",
    "import MBstructs as MBS\n",
    "import MBfuncts as MBF\n",
    "import DCA\n",
    "\n",
    "from IPython.display import display\n",
    "from __future__ import division\n",
    "from sympy.interactive import printing\n",
    "printing.init_printing(use_latex='mathjax')\n",
    "np.set_printoptions(precision=4,suppress=True)"
   ]
  },
  {
   "cell_type": "code",
   "execution_count": 2,
   "metadata": {
    "collapsed": false
   },
   "outputs": [],
   "source": [
    "def simulate(state,tspan,nbodies,bodiesGEBF,bodiesRigid,joints,BC1,BC2):\n",
    "    '''\n",
    "    This function extracts the generalized coordinates from the solution \n",
    "    of the equations of motion after calling the DCA to solve the equations of motion \n",
    "    '''\n",
    "    # only pin joints connecting rigid bodies\n",
    "    q = state[:nRIGID*ndofsRigid + nGEBF*ndofsGEBF]\n",
    "    u = state[nRIGID*ndofsRigid + nGEBF*ndofsGEBF:]\n",
    "    \n",
    "    # slice out rigid generalized coordinates and speeds from GEBF\n",
    "    qRigid = q[:nRIGID*ndofsRigid]\n",
    "    uRigid = u[:nRIGID*ndofsRigid]\n",
    "    qGEBF  = q[nRIGID*ndofsRigid:]\n",
    "    uGEBF  = u[nRIGID*ndofsRigid:]\n",
    "    \n",
    "    # Update the Kinematics 2D n-link Pendulum\n",
    "    # Now that these functions \"woe\n",
    "    # This should be a class function for each body type not an absolute function\n",
    "    # e.g., [body.updateKin for body in bodies]\n",
    "    MBF.kinematics_Rigid2D(bodiesRigid,qRigid,uRigid)  \n",
    "#     MBF.kinematics_GEBF2D(bodiesGEBF,qGEBF,uGEBF)\n",
    "    \n",
    "#     # slice out generalized cooridnates\n",
    "#     # and make a sublist for each body\n",
    "#     # these u's are not generalized speeds these are the displacements of the nodes\n",
    "#     u = qGEBF.tolist()\n",
    "#     u = [u[i*ndofsGEBF:(i*ndofsGEBF)+ndofsGEBF] for i in range((int(len(u)/ndofsGEBF)))]\n",
    "\n",
    "#     # 'pop' off the rotational coordinates \n",
    "#     # those are dealt with through the 'kinematic' sweep\n",
    "#     for ue in u:\n",
    "#         ue.pop(3)\n",
    "#         ue.pop(0)\n",
    "    \n",
    "    # compute the inverse inertial properties of the body \n",
    "    # with the updated generalized speeds\n",
    "    for body,q,u in zip(bodiesGEBF, np.array_split(qGEBF,nGEBF), np.array_split(uGEBF,nGEBF)):\n",
    "        body.intProps('gebf', q, u)\n",
    "       \n",
    "\n",
    "    # Mass-matricies constant (don't need to pass generalized coords - kinematics updated\n",
    "    for body in bodiesRigid:\n",
    "        body.intProps('rigid')\n",
    "\n",
    "    # join the lists of bodies for a total list \n",
    "    # order matters\n",
    "    bodies = bodiesRigid + bodiesGEBF\n",
    "    \n",
    "    # Call the Recursive DCA Algorithm\n",
    "    # This returns a list of the form:\n",
    "    # [A11,A12,A21,A22,...,An1,An2]\n",
    "    # where Axy corresponds to the acceleration\n",
    "    # of the yth handle of the xth body\n",
    "    accel = DCA.solve(nbodies,0,bodies,joints,BC1,BC2)\n",
    "    \n",
    "    accelRigid = accel[:2*len(bodiesRigid)]\n",
    "    accelGEBF  = accel[2*len(bodiesRigid):]\n",
    "\n",
    "    # compute the generalized accelerations for kinematic joints\n",
    "    udot_Rigid = MBF.get_gen_accel_Rigid(len(bodiesRigid), joints, accelRigid)\n",
    "    udot_GEBF  = MBF.get_gen_accel_GEBF(len(bodiesGEBF), accelGEBF)\n",
    "    udot = np.hstack((udot_Rigid,udot_GEBF))\n",
    "\n",
    "    state_dot = np.hstack((state[nRIGID*ndofsRigid + nGEBF*ndofsGEBF:],udot))\n",
    "    return state_dot"
   ]
  },
  {
   "cell_type": "markdown",
   "metadata": {},
   "source": [
    "#### System Initilization"
   ]
  },
  {
   "cell_type": "code",
   "execution_count": 3,
   "metadata": {
    "collapsed": false
   },
   "outputs": [],
   "source": [
    "# number of bodies and GEBF elements and kinematic joints\n",
    "# *** NOTE: For testing pupposes DCA does NOT effectively work for one body\n",
    "#          - For one body DCA returns [A1 F1c A2 F2c]\n",
    "#          - For two or more bodies DCA returns [A1 A2] ***\n",
    "nRIGID = 2\n",
    "nGEBF  = 6\n",
    "nbodies = nGEBF + nRIGID\n",
    "\n",
    "\n",
    "nJpin = 3\n",
    "nJfixed = (nbodies - nJpin) \n",
    "\n",
    "ndofsGEBF = 6   # (x,y,theta per joint)\n",
    "ndofsRigid  = 1 # (one pin joint)\n",
    "\n",
    "# GEBF-Properties\n",
    "# Physical Properties\n",
    "r   =  0.02393653682408596   #math.sqrt(A/math.pi)\n",
    "A   =  2*r #0.0018\n",
    "I   =  2/3*r**3 #1.215e-8\n",
    "L   =  1.2\n",
    "\n",
    "l  = 0.12\n",
    "lr = 4*l\n",
    "g  = 9.81\n",
    "\n",
    "# Rigid-body Properties\n",
    "# Physical Properties\n",
    "mR = 1.0\n",
    "IR = 1/12*mR*l**2\n",
    "\n",
    "# Material Properties\n",
    "E   =  0.7e5\n",
    "rho =  5540\n",
    "\n",
    "# Length of time of the simulation and time-step\n",
    "t_final = 1.0\n",
    "dt = 0.0001\n",
    "tspan = np.arange(0,t_final,dt)"
   ]
  },
  {
   "cell_type": "code",
   "execution_count": 4,
   "metadata": {
    "collapsed": false
   },
   "outputs": [
    {
     "data": {
      "text/latex": [
       "$$0.12344420854871173$$"
      ],
      "text/plain": [
       "0.12344420854871173"
      ]
     },
     "execution_count": 4,
     "metadata": {},
     "output_type": "execute_result"
    }
   ],
   "source": [
    "math.sqrt(A/math.pi)"
   ]
  },
  {
   "cell_type": "markdown",
   "metadata": {},
   "source": [
    "#### Simulation Specifications"
   ]
  },
  {
   "cell_type": "code",
   "execution_count": 5,
   "metadata": {
    "collapsed": true
   },
   "outputs": [],
   "source": [
    "# Initial conditions\n",
    "\n",
    "# sublists handy for initilization of bodies \n",
    "q0GEBF = [[0 for i in range(ndofsGEBF)] for i in range(nGEBF)]\n",
    "# q0GEBF[0][0] = -np.pi/2\n",
    "u0GEBF = [[0 for i in range(ndofsGEBF)] for i in range(nGEBF)]\n",
    "# u0GEBF[0][0] = -1\n",
    "\n",
    "# All rigid bodies are connected by pin joints\n",
    "q0Rigid = [[0 for i in range(ndofsRigid)] for i in range(nRIGID)]\n",
    "u0Rigid = [[0 for i in range(ndofsRigid)] for i in range(nRIGID)]\n",
    "# u0Rigid[0][0] = -1 \n",
    "\n",
    "q0 = q0Rigid + q0GEBF\n",
    "u0 = u0Rigid + u0GEBF\n",
    "\n",
    "# flatten sub-lists into a single state vector\n",
    "q0 = np.array([q for q_body in q0 for q in q_body],dtype=np.double).squeeze()\n",
    "u0 = np.array([u for u_body in u0 for u in u_body],dtype=np.double).squeeze()\n",
    "\n",
    "state0 = np.hstack((q0,u0))"
   ]
  },
  {
   "cell_type": "code",
   "execution_count": 6,
   "metadata": {
    "collapsed": false
   },
   "outputs": [],
   "source": [
    "# Initialize a list of Joints\n",
    "jointsPin = [MBS.Joint('revolute2D') for i in range(nJpin)]\n",
    "jointsFixed = [MBS.Joint('fixed') for i in range (nJfixed)]\n",
    "joints = jointsPin + jointsFixed\n",
    "\n",
    "# Initialize the list of bodies \n",
    "bodiesGEBF = [MBS.Body() for i in range(nGEBF)]\n",
    "bodiesRigid = [MBS.Body() for i in range(nRIGID)]\n",
    "for body in bodiesGEBF:\n",
    "    body.initialize('gebf', E, A, I, r, rho, l, g, q0GEBF)\n",
    "for body in bodiesRigid:\n",
    "    body.initialize('rigid', mR,lr, IR, g)"
   ]
  },
  {
   "cell_type": "code",
   "execution_count": 7,
   "metadata": {
    "collapsed": false
   },
   "outputs": [],
   "source": [
    "# odeint is the numerical integrator used\n",
    "# state = MBF.myRK4(simulate,state0,tspan,nbodies,bodiesGEBF,bodiesRigid,joints,2,1)\n",
    "# %%prun -s cumulative \n",
    "state = odeint(simulate,state0,tspan,(nbodies,bodiesGEBF,bodiesRigid,joints,2,1))"
   ]
  },
  {
   "cell_type": "code",
   "execution_count": 8,
   "metadata": {
    "collapsed": false
   },
   "outputs": [
    {
     "name": "stderr",
     "output_type": "stream",
     "text": [
      "/home/laflij/Software/anaconda/envs/py34/lib/python3.4/site-packages/numpy/lib/shape_base.py:430: FutureWarning: in the future np.array_split will retain the shape of arrays with a zero size, instead of replacing them by `array([])`, which always has a shape of (0,).\n",
      "  FutureWarning)\n"
     ]
    }
   ],
   "source": [
    "q = state[:,:nRIGID*ndofsRigid + nGEBF*ndofsGEBF]\n",
    "u = state[:,nRIGID*ndofsRigid + nGEBF*ndofsGEBF:]\n",
    "\n",
    "# slice out rigid generalized coordinates and speeds from GEBF\n",
    "qRigid = q[:,:nRIGID*ndofsRigid]\n",
    "uRigid = u[:,:nRIGID*ndofsRigid]\n",
    "qGEBF  = q[:,nRIGID*ndofsRigid:]\n",
    "uGEBF  = u[:,nRIGID*ndofsRigid:]\n",
    "\n",
    "r0 = np.array([[np.cos(q0GEBF[0][0])*(l*i+nRIGID*lr),   np.sin(q0GEBF[0][0])*(l*i+nRIGID*lr), \n",
    "                np.cos(q0GEBF[0][0])*(l*i+l+nRIGID*lr), np.sin(q0GEBF[0][0])*(l*i+l+nRIGID*lr)] \n",
    "               for i in range(0,nGEBF)],dtype=np.double).reshape(1,ndofsGEBF*nGEBF - 2*nGEBF)\n",
    "\n",
    "xRigid,yRigid = MBF.get_topology_2DRigid(qRigid,lr)\n",
    "\n",
    "# Interpolate between nodes with npoints, and compute absolute positions of nodes for plotting\n",
    "npoints = 10\n",
    "xGEBF,yGEBF = MBF.get_topology_2DGEBF(qGEBF, r0, l, nGEBF, npoints)\n",
    "\n",
    "x  = [np.hstack((xR.reshape(1,len(xR)),xG)) for xR,xG in zip(xRigid,xGEBF)]\n",
    "y = [np.hstack((yR.reshape(1,len(yR)),yG)) for yR,yG in zip(yRigid,yGEBF)]\n",
    "\n",
    "# x = xGEBF\n",
    "# y = yGEBF"
   ]
  },
  {
   "cell_type": "code",
   "execution_count": 9,
   "metadata": {
    "collapsed": false
   },
   "outputs": [],
   "source": [
    "fig = plt.figure()\n",
    "ax = fig.add_subplot(111, autoscale_on=False, xlim=(-0.5,2.5), \n",
    "                                              ylim=(-2.5,0.5))\n",
    "# ax = fig.add_subplot(111, autoscale_on=False, xlim=(-10,10), \n",
    "#                                               ylim=(-10,10))\n",
    "\n",
    "ax.grid()\n",
    "\n",
    "line, = ax.plot([], [], 'o-', lw=2)\n",
    "time_template = 'time = %0.4fs'\n",
    "time_text = ax.text(0.05, 0.9, '', transform=ax.transAxes)\n",
    "\n",
    "def init():\n",
    "    line.set_data([], [])\n",
    "    time_text.set_text('')\n",
    "    return line, time_text\n",
    "\n",
    "def animate(i):\n",
    "#     thisx = [0, x[i][1], x[i][2]]\n",
    "#     thisy = [0, y[i][1], y[i][2]]\n",
    "    thisx = x[i]\n",
    "    thisy = y[i]\n",
    "\n",
    "    line.set_data(thisx, thisy)\n",
    "    time_text.set_text(time_template%(i*dt))\n",
    "    return line, time_text\n",
    "\n",
    "ani = animation.FuncAnimation(fig, animate, np.arange(1, len(y)),\n",
    "    interval = 1, blit=False, init_func=init)\n",
    "\n",
    "# ani.save('rigid_rope.mp4', fps=60)\n",
    "plt.show()"
   ]
  },
  {
   "cell_type": "code",
   "execution_count": 10,
   "metadata": {
    "collapsed": false
   },
   "outputs": [],
   "source": [
    "# font = {'family' : 'serif',\n",
    "#         'weight' : 'bold',\n",
    "#         'size'   : 16}\n",
    "\n",
    "# plt.rc('font', **font)"
   ]
  },
  {
   "cell_type": "code",
   "execution_count": 11,
   "metadata": {
    "collapsed": false
   },
   "outputs": [],
   "source": [
    "ke_RIGID,pe_RIGID,te_RIGID = MBF.get_energy_Rigid(bodiesRigid,state)\n",
    "\n",
    "# comptue energy from GEBF elements\n",
    "se_GEBF = []\n",
    "pe_GEBF = []\n",
    "ke_GEBF = []\n",
    "for q,u in zip(qGEBF,uGEBF):\n",
    "    SE_tot_tstep = 0\n",
    "    PE_tot_tstep = 0\n",
    "    KE_tot_tstep = 0\n",
    "    for body,qbody,ubody in zip(bodiesGEBF, np.array_split(q,nGEBF), np.array_split(u,nGEBF)):\n",
    "        [SE, PE, KE] = body.energy('gebf', qbody, ubody)\n",
    "        SE_tot_tstep = SE_tot_tstep + SE\n",
    "        PE_tot_tstep = PE_tot_tstep + PE\n",
    "        KE_tot_tstep = KE_tot_tstep + KE\n",
    "    se_GEBF.append(SE_tot_tstep)\n",
    "    pe_GEBF.append(PE_tot_tstep)\n",
    "    ke_GEBF.append(KE_tot_tstep)\n",
    "    \n",
    "ke = ke_RIGID + np.array(ke_GEBF)\n",
    "pe = pe_RIGID + np.array(pe_GEBF)\n",
    "se = np.array(se_GEBF)\n",
    "\n",
    "# ke = np.array(ke_GEBF)\n",
    "# pe = np.array(pe_GEBF)\n",
    "# se = np.array(se_GEBF)"
   ]
  },
  {
   "cell_type": "code",
   "execution_count": 12,
   "metadata": {
    "collapsed": false,
    "scrolled": true
   },
   "outputs": [],
   "source": [
    "plt.rc('text', usetex=True)\n",
    "plt.plot(np.array(tspan), ke, 'r', \n",
    "         np.array(tspan), pe, 'b',\n",
    "         np.array(tspan), se, 'g',\n",
    "         np.array(tspan), ke+pe+se, 'k')\n",
    "plt.ylabel('Energy')\n",
    "plt.xlabel('Time')\n",
    "plt.show()"
   ]
  },
  {
   "cell_type": "code",
   "execution_count": 13,
   "metadata": {
    "collapsed": false
   },
   "outputs": [],
   "source": [
    "# %qtconsole"
   ]
  },
  {
   "cell_type": "code",
   "execution_count": 14,
   "metadata": {
    "collapsed": false
   },
   "outputs": [],
   "source": [
    "nsteps = tspan.size\n",
    "energy = np.hstack((tspan.reshape(nsteps,1),\n",
    "                  ke.reshape(nsteps,1),\n",
    "                  pe.reshape(nsteps,1),\n",
    "                  se.reshape(nsteps,1)))\n",
    "np.savetxt('gebf-mixed-energy.mat', energy, fmt='%3.16f') "
   ]
  },
  {
   "cell_type": "code",
   "execution_count": 21,
   "metadata": {
    "collapsed": false
   },
   "outputs": [],
   "source": [
    "nsteps = tspan.size\n",
    "\n",
    "for m in np.linspace(0,nsteps,5)\n",
    "data = np.hstack((np.squeeze(x[m]).reshape(63,1), np.squeeze(y[m]).reshape(63,1)))\n",
    "np.savetxt('gebf-mixed-dyn-%d.mat' %d, data, fmt='%3.16f') \n",
    "# data = np.hstack((np.squeeze(x[1000]).reshape(63,1), np.squeeze(y[1000]).reshape(63,1)))\n",
    "# np.savetxt('gebf-mixed-dyn-1000.mat', data, fmt='%3.16f') \n",
    "# data = np.hstack((np.squeeze(x[1500]).reshape(63,1), np.squeeze(y[1500]).reshape(63,1)))\n",
    "# np.savetxt('gebf-mixed-dyn-1500.mat', data, fmt='%3.16f') \n",
    "# data = np.hstack((np.squeeze(x[2000]).reshape(63,1), np.squeeze(y[2000]).reshape(63,1)))\n",
    "# np.savetxt('gebf-mixed-dyn-2000.mat', data, fmt='%3.16f') \n",
    "# data = np.hstack((np.squeeze(x[2500]).reshape(63,1), np.squeeze(y[2500]).reshape(63,1)))\n",
    "# np.savetxt('gebf-mixed-dyn-2500.mat', data, fmt='%3.16f') \n",
    "# data = np.hstack((np.squeeze(x[3000]).reshape(63,1), np.squeeze(y[3000]).reshape(63,1)))\n",
    "# np.savetxt('gebf-mixed-dyn-3000.mat', data, fmt='%3.16f') \n",
    "# data = np.hstack((np.squeeze(x[3500]).reshape(63,1), np.squeeze(y[3500]).reshape(63,1)))\n",
    "# np.savetxt('gebf-mixed-dyn-3500.mat', data, fmt='%3.16f') \n",
    "# data = np.hstack((np.squeeze(x[4000]).reshape(63,1), np.squeeze(y[4000]).reshape(63,1)))\n",
    "# np.savetxt('gebf-mixed-dyn-3000.mat', data, fmt='%3.16f') \n",
    "# data = np.hstack((np.squeeze(x[4500]).reshape(63,1), np.squeeze(y[4500]).reshape(63,1)))\n",
    "# np.savetxt('gebf-mixed-dyn-3000.mat', data, fmt='%3.16f') \n",
    "# data = np.hstack((np.squeeze(x[4999]).reshape(63,1), np.squeeze(y[4999]).reshape(63,1)))\n",
    "# np.savetxt('gebf-mixed-dyn-3000.mat', data, fmt='%3.16f') "
   ]
  },
  {
   "cell_type": "code",
   "execution_count": 16,
   "metadata": {
    "collapsed": false
   },
   "outputs": [],
   "source": [
    "# plt.rc('text', usetex=True)\n",
    "# fig = plt.figure()\n",
    "# ax = fig.add_subplot(111, autoscale_on=False, xlim=(-3,3), \n",
    "#                                               ylim=(-3,3))\n",
    "# plt.plot(np.squeeze(x[4999]), np.squeeze(y[3500]), 'o-', lw=2)\n",
    "# # plt.ylabel('Energy')\n",
    "# # plt.xlabel('Time')\n",
    "# plt.show()"
   ]
  },
  {
   "cell_type": "code",
   "execution_count": 17,
   "metadata": {
    "collapsed": false,
    "scrolled": true
   },
   "outputs": [],
   "source": [
    "#  data"
   ]
  },
  {
   "cell_type": "code",
   "execution_count": 3,
   "metadata": {
    "collapsed": false
   },
   "outputs": [
    {
     "data": {
      "text/plain": [
       "array([    0.,  1250.,  2500.,  3750.,  5000.])"
      ]
     },
     "execution_count": 3,
     "metadata": {},
     "output_type": "execute_result"
    }
   ],
   "source": [
    "np.linspace(0,5000,5)"
   ]
  },
  {
   "cell_type": "code",
   "execution_count": null,
   "metadata": {
    "collapsed": true
   },
   "outputs": [],
   "source": []
  }
 ],
 "metadata": {
  "kernelspec": {
   "display_name": "Python 3",
   "language": "python",
   "name": "python3"
  },
  "language_info": {
   "codemirror_mode": {
    "name": "ipython",
    "version": 3
   },
   "file_extension": ".py",
   "mimetype": "text/x-python",
   "name": "python",
   "nbconvert_exporter": "python",
   "pygments_lexer": "ipython3",
   "version": "3.4.3"
  }
 },
 "nbformat": 4,
 "nbformat_minor": 0
}

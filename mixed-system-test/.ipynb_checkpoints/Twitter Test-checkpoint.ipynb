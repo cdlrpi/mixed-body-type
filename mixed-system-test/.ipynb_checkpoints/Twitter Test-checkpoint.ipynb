{
 "cells": [
  {
   "cell_type": "code",
   "execution_count": 1,
   "metadata": {
    "collapsed": false
   },
   "outputs": [],
   "source": [
    "from twython import Twython"
   ]
  },
  {
   "cell_type": "code",
   "execution_count": 2,
   "metadata": {
    "collapsed": false
   },
   "outputs": [],
   "source": [
    "APP_KEY = 'KHw079t8zAxYxfSwp06JgfAjN'\n",
    "APP_SECRET = 'W3OpCeh6WxrmB3EM5K0s9qajXrW8ChJqsD44M9n5oRrUSPe46v'\n",
    "OAUTH_TOKEN = '114117265-c2jkGcy6E8FhMuAklkijaLMKl64HyX3xjUcaztOw'\n",
    "OAUTH_TOKEN_SECRET = 'KTFVEJU8B7yZ6kgHZwyyuDyT25lE3Vq3qzgfmxUoI1ChG'\n",
    "twitter = Twython(APP_KEY, APP_SECRET,\n",
    "                  OAUTH_TOKEN, OAUTH_TOKEN_SECRET)"
   ]
  },
  {
   "cell_type": "code",
   "execution_count": 15,
   "metadata": {
    "collapsed": false
   },
   "outputs": [
    {
     "data": {
      "text/plain": [
       "{'created_at': 'Tue Aug 25 22:19:03 +0000 2015',\n",
       " 'entities': {'hashtags': [], 'symbols': [], 'urls': [], 'user_mentions': []},\n",
       " 'id': 636301790615609347,\n",
       " 'id_str': '636301790615609347',\n",
       " 'recipient': {'contributors_enabled': False,\n",
       "  'created_at': 'Sun Feb 14 05:50:10 +0000 2010',\n",
       "  'default_profile': True,\n",
       "  'default_profile_image': False,\n",
       "  'description': 'Research Assistant Computational Dynamics Lab at RPI',\n",
       "  'entities': {'description': {'urls': []}},\n",
       "  'favourites_count': 0,\n",
       "  'follow_request_sent': False,\n",
       "  'followers_count': 4,\n",
       "  'following': False,\n",
       "  'friends_count': 16,\n",
       "  'geo_enabled': False,\n",
       "  'has_extended_profile': False,\n",
       "  'id': 114117265,\n",
       "  'id_str': '114117265',\n",
       "  'is_translation_enabled': False,\n",
       "  'is_translator': False,\n",
       "  'lang': 'en',\n",
       "  'listed_count': 0,\n",
       "  'location': '',\n",
       "  'name': 'Jeremy',\n",
       "  'notifications': False,\n",
       "  'profile_background_color': 'C0DEED',\n",
       "  'profile_background_image_url': 'http://abs.twimg.com/images/themes/theme1/bg.png',\n",
       "  'profile_background_image_url_https': 'https://abs.twimg.com/images/themes/theme1/bg.png',\n",
       "  'profile_background_tile': False,\n",
       "  'profile_image_url': 'http://pbs.twimg.com/profile_images/696490682/ME_4_normal.jpg',\n",
       "  'profile_image_url_https': 'https://pbs.twimg.com/profile_images/696490682/ME_4_normal.jpg',\n",
       "  'profile_link_color': '0084B4',\n",
       "  'profile_sidebar_border_color': 'C0DEED',\n",
       "  'profile_sidebar_fill_color': 'DDEEF6',\n",
       "  'profile_text_color': '333333',\n",
       "  'profile_use_background_image': True,\n",
       "  'protected': False,\n",
       "  'screen_name': 'laflij',\n",
       "  'statuses_count': 35,\n",
       "  'time_zone': 'Central Time (US & Canada)',\n",
       "  'url': None,\n",
       "  'utc_offset': -18000,\n",
       "  'verified': False},\n",
       " 'recipient_id': 114117265,\n",
       " 'recipient_id_str': '114117265',\n",
       " 'recipient_screen_name': 'laflij',\n",
       " 'sender': {'contributors_enabled': False,\n",
       "  'created_at': 'Sun Feb 14 05:50:10 +0000 2010',\n",
       "  'default_profile': True,\n",
       "  'default_profile_image': False,\n",
       "  'description': 'Research Assistant Computational Dynamics Lab at RPI',\n",
       "  'entities': {'description': {'urls': []}},\n",
       "  'favourites_count': 0,\n",
       "  'follow_request_sent': False,\n",
       "  'followers_count': 4,\n",
       "  'following': False,\n",
       "  'friends_count': 16,\n",
       "  'geo_enabled': False,\n",
       "  'has_extended_profile': False,\n",
       "  'id': 114117265,\n",
       "  'id_str': '114117265',\n",
       "  'is_translation_enabled': False,\n",
       "  'is_translator': False,\n",
       "  'lang': 'en',\n",
       "  'listed_count': 0,\n",
       "  'location': '',\n",
       "  'name': 'Jeremy',\n",
       "  'notifications': False,\n",
       "  'profile_background_color': 'C0DEED',\n",
       "  'profile_background_image_url': 'http://abs.twimg.com/images/themes/theme1/bg.png',\n",
       "  'profile_background_image_url_https': 'https://abs.twimg.com/images/themes/theme1/bg.png',\n",
       "  'profile_background_tile': False,\n",
       "  'profile_image_url': 'http://pbs.twimg.com/profile_images/696490682/ME_4_normal.jpg',\n",
       "  'profile_image_url_https': 'https://pbs.twimg.com/profile_images/696490682/ME_4_normal.jpg',\n",
       "  'profile_link_color': '0084B4',\n",
       "  'profile_sidebar_border_color': 'C0DEED',\n",
       "  'profile_sidebar_fill_color': 'DDEEF6',\n",
       "  'profile_text_color': '333333',\n",
       "  'profile_use_background_image': True,\n",
       "  'protected': False,\n",
       "  'screen_name': 'laflij',\n",
       "  'statuses_count': 35,\n",
       "  'time_zone': 'Central Time (US & Canada)',\n",
       "  'url': None,\n",
       "  'utc_offset': -18000,\n",
       "  'verified': False},\n",
       " 'sender_id': 114117265,\n",
       " 'sender_id_str': '114117265',\n",
       " 'sender_screen_name': 'laflij',\n",
       " 'text': 'Test from python x4'}"
      ]
     },
     "execution_count": 15,
     "metadata": {},
     "output_type": "execute_result"
    }
   ],
   "source": [
    "# twitter.update_status(status=\"I'm tweeting from Python!\")\n",
    "twitter.send_direct_message(screen_name='laflij', text='Test from python x4')"
   ]
  },
  {
   "cell_type": "code",
   "execution_count": null,
   "metadata": {
    "collapsed": true
   },
   "outputs": [],
   "source": []
  }
 ],
 "metadata": {
  "kernelspec": {
   "display_name": "Python 3",
   "language": "python",
   "name": "python3"
  },
  "language_info": {
   "codemirror_mode": {
    "name": "ipython",
    "version": 3
   },
   "file_extension": ".py",
   "mimetype": "text/x-python",
   "name": "python",
   "nbconvert_exporter": "python",
   "pygments_lexer": "ipython3",
   "version": "3.4.3"
  }
 },
 "nbformat": 4,
 "nbformat_minor": 0
}

{
 "cells": [
  {
   "cell_type": "markdown",
   "metadata": {},
   "source": [
    "# Beam Element - This notebook computes the mass-matrix and body-forces for later use"
   ]
  },
  {
   "cell_type": "code",
   "execution_count": 1,
   "metadata": {
    "collapsed": false
   },
   "outputs": [],
   "source": [
    "import numpy as np\n",
    "import scipy as sp\n",
    "import sympy as sym\n",
    "import pickle\n",
    "\n",
    "from scipy import linalg\n",
    "from sympy import mpmath\n",
    "from sympy import cos, sin\n",
    "from sympy import lambdify\n",
    "\n",
    "from IPython.display import display\n",
    "from __future__ import division\n",
    "from sympy.interactive import printing\n",
    "printing.init_printing(use_latex=True)\n",
    "np.set_printoptions(precision=4,suppress=True)\n",
    "from sympy.interactive import printing\n",
    "\n",
    "\n",
    "import matplotlib.pyplot as plt\n",
    "%matplotlib inline"
   ]
  },
  {
   "cell_type": "markdown",
   "metadata": {},
   "source": [
    "#### Define Needed Functions"
   ]
  },
  {
   "cell_type": "code",
   "execution_count": 2,
   "metadata": {
    "collapsed": false
   },
   "outputs": [],
   "source": [
    "def Skew_sym(v):\n",
    "    \"\"\"\n",
    "    This function returns the skew symetric matrix \n",
    "    of the angular velocity vector for a 2D problem\n",
    "    \"\"\"\n",
    "    v_matrix = sym.Matrix([[  0 , -v[2]],\n",
    "                          [v[2],     0]])\n",
    "    return v_matrix"
   ]
  },
  {
   "cell_type": "code",
   "execution_count": 3,
   "metadata": {
    "collapsed": true
   },
   "outputs": [],
   "source": [
    "def Axial_sym(A):\n",
    "    '''\n",
    "    This funtcion returns the vector of the skew-symmectric matrix in 2D\n",
    "    '''\n",
    "    a_vec = 1/2*sym.Matrix([A[1,0] - A[0,1]])\n",
    "    return a_vec"
   ]
  },
  {
   "cell_type": "code",
   "execution_count": 4,
   "metadata": {
    "collapsed": false
   },
   "outputs": [],
   "source": [
    "def Rotate_sym(theta):\n",
    "    \"\"\"\n",
    "    This function returns the symbolic rotation matrix \n",
    "    for the simple 2D-rotation about the third axis\n",
    "    \"\"\"\n",
    "    R = sym.Matrix([[sym.cos(theta),-sym.sin(theta)],\n",
    "                    [sym.sin(theta), sym.cos(theta)]])\n",
    "    return R"
   ]
  },
  {
   "cell_type": "markdown",
   "metadata": {},
   "source": [
    "#### Define symbolic quantites"
   ]
  },
  {
   "cell_type": "code",
   "execution_count": 5,
   "metadata": {
    "collapsed": false
   },
   "outputs": [
    {
     "name": "stdout",
     "output_type": "stream",
     "text": [
      "\n",
      "H = \n"
     ]
    },
    {
     "data": {
      "image/png": "[encoded data removed]",
      "text/latex": [
       "$$\\left[\\begin{matrix}1 - \\frac{x}{l} & 0 & \\frac{x}{l} & 0\\\\0 & 1 - \\frac{x}{l} & 0 & \\frac{x}{l}\\end{matrix}\\right]$$"
      ],
      "text/plain": [
       "⎡    x         x   ⎤\n",
       "⎢1 - ─    0    ─  0⎥\n",
       "⎢    l         l   ⎥\n",
       "⎢                  ⎥\n",
       "⎢           x     x⎥\n",
       "⎢  0    1 - ─  0  ─⎥\n",
       "⎣           l     l⎦"
      ]
     },
     "metadata": {},
     "output_type": "display_data"
    }
   ],
   "source": [
    "# symbolic system parameters \n",
    "E, G, I, A, rho, x, l, r, g, m, a, b, c, pi, phi  \\\n",
    "= sym.symbols('E G I A rho x l r g m a b c pi phi')\n",
    "\n",
    "# theta = sym.Matrix(['theta_1','theta_2'])\n",
    "theta_dot = sym.Matrix(['thetadot_1','thetadot_2'])\n",
    "theta_ddot = sym.Matrix(['thetaddot_1','thetaddot_2'])\n",
    "omega = sym.Matrix(['omega_1','omega_2'])\n",
    "alpha = sym.Matrix(['alpha_1','alpha_2'])\n",
    "\n",
    "# Symbolic constraint forces and moments at the handles\n",
    "f1c = sym.Matrix(['f_1_1','f_1_2'])\n",
    "f2c = sym.Matrix(['f_2_1','f_2_2'])\n",
    "tau1c = sym.Matrix(['tau_1'])\n",
    "tau2c = sym.Matrix(['tau_2'])\n",
    "\n",
    "# coordinates of the point in the 2D cross-section\n",
    "# of nodes one and two \n",
    "s = sym.Matrix(['r_1','r_2']) \n",
    "s[0] = 0\n",
    "\n",
    "# generalized coordinates\n",
    "# one rotation and two displacements per-node (two nodes per element)\n",
    "# in this version generalzied speeds are NOT ALWAYS qdots\n",
    "q = sym.Matrix(sym.symarray('q',6))\n",
    "qdot = sym.Matrix(sym.symarray('qdot',len(q)))\n",
    "qddot = sym.Matrix(sym.symarray('qddot',len(q)))\n",
    "\n",
    "# Deformations of Nodes (u's are not generalized speeds) \n",
    "delta = sym.Matrix([q[1:3,0], q[4:6,0]])\n",
    "deltadot = sym.Matrix([qdot[1:3,0], qdot[4:8,0]])\n",
    "deltaddot = sym.Matrix([qddot[1:3,0], qddot[4:6,0]])\n",
    "\n",
    "# display([q,qdot,qddot])\n",
    "# display([u,udot,uddot])\n",
    "\n",
    "\n",
    "# Define shape function for element with one node at each end\n",
    "h = sym.symarray('h', 2)\n",
    "h[0] = (1 - x/l)\n",
    "h[1] = (x/l)\n",
    "# h[0] = sym.Rational(1,2)*(1-x)\n",
    "# h[1] = sym.Rational(1,2)*(1+x)\n",
    "\n",
    "\n",
    "# Compute shape function matrix\n",
    "H = sym.Matrix([h[0]*sym.eye(2), h[1]*sym.eye(2)]).T\n",
    "dHdx = H.diff(x)\n",
    "print('\\nH = ')\n",
    "display(H)"
   ]
  },
  {
   "cell_type": "code",
   "execution_count": 6,
   "metadata": {
    "collapsed": false
   },
   "outputs": [
    {
     "data": {
      "image/png": "[encoded data removed]",
      "text/latex": [
       "$$\\left[\\begin{matrix}q_{1}\\\\q_{2}\\\\q_{4}\\\\q_{5}\\end{matrix}\\right]$$"
      ],
      "text/plain": [
       "⎡q₁⎤\n",
       "⎢  ⎥\n",
       "⎢q₂⎥\n",
       "⎢  ⎥\n",
       "⎢q₄⎥\n",
       "⎢  ⎥\n",
       "⎣q₅⎦"
      ]
     },
     "execution_count": 6,
     "metadata": {},
     "output_type": "execute_result"
    }
   ],
   "source": [
    "delta"
   ]
  },
  {
   "cell_type": "markdown",
   "metadata": {},
   "source": [
    "### Needed Matrix Quantities"
   ]
  },
  {
   "cell_type": "code",
   "execution_count": 7,
   "metadata": {
    "collapsed": false
   },
   "outputs": [],
   "source": [
    "# Rotation Matricies for each node\n",
    "theta = sym.Matrix([q[0], q[0] + q[3]])\n",
    "\n",
    "R1 = Rotate_sym(theta[0])\n",
    "R2 = Rotate_sym(theta[1])\n",
    "\n",
    "# Angular Velocities and Accelerations are trivial for the 2D case\n",
    "# For each node\n",
    "omega1_skew = Skew_sym([0,0,omega[0]])\n",
    "omega2_skew = Skew_sym([0,0,omega[1]])\n",
    "alpha1_skew = Skew_sym([0,0,alpha[0]])\n",
    "alpha2_skew = Skew_sym([0,0,alpha[1]])\n",
    "\n",
    "R_interp = H*sym.Matrix.vstack(R1,R2)"
   ]
  },
  {
   "cell_type": "markdown",
   "metadata": {},
   "source": [
    "### Define Kinematics"
   ]
  },
  {
   "cell_type": "code",
   "execution_count": 8,
   "metadata": {
    "collapsed": false,
    "scrolled": false
   },
   "outputs": [
    {
     "name": "stdout",
     "output_type": "stream",
     "text": [
      "\n",
      "vp = \n"
     ]
    },
    {
     "data": {
      "image/png": "[encoded data removed]",
      "text/latex": [
       "$$\\left[\\begin{matrix}\\dot{q}_{1} \\left(1 - \\frac{x}{l}\\right) + r_{2} \\left(- \\omega_{1} \\left(1 - \\frac{x}{l}\\right) - \\frac{\\omega_{2} x}{l}\\right) \\left(\\left(1 - \\frac{x}{l}\\right) \\cos{\\left (q_{0} \\right )} + \\frac{x}{l} \\cos{\\left (q_{0} + q_{3} \\right )}\\right) + \\frac{\\dot{q}_{4} x}{l}\\\\\\dot{q}_{2} \\left(1 - \\frac{x}{l}\\right) + r_{2} \\left(\\omega_{1} \\left(1 - \\frac{x}{l}\\right) + \\frac{\\omega_{2} x}{l}\\right) \\left(- \\left(1 - \\frac{x}{l}\\right) \\sin{\\left (q_{0} \\right )} - \\frac{x}{l} \\sin{\\left (q_{0} + q_{3} \\right )}\\right) + \\frac{\\dot{q}_{5} x}{l}\\end{matrix}\\right]$$"
      ],
      "text/plain": [
       "⎡    ⎛    x⎞      ⎛     ⎛    x⎞   ω₂⋅x⎞ ⎛⎛    x⎞           x⋅cos(q₀ + q₃)⎞   q\n",
       "⎢q̇₁⋅⎜1 - ─⎟ + r₂⋅⎜- ω₁⋅⎜1 - ─⎟ - ────⎟⋅⎜⎜1 - ─⎟⋅cos(q₀) + ──────────────⎟ + ─\n",
       "⎢    ⎝    l⎠      ⎝     ⎝    l⎠    l  ⎠ ⎝⎝    l⎠                 l       ⎠    \n",
       "⎢                                                                             \n",
       "⎢    ⎛    x⎞      ⎛   ⎛    x⎞   ω₂⋅x⎞ ⎛  ⎛    x⎞           x⋅sin(q₀ + q₃)⎞   q\n",
       "⎢q̇₂⋅⎜1 - ─⎟ + r₂⋅⎜ω₁⋅⎜1 - ─⎟ + ────⎟⋅⎜- ⎜1 - ─⎟⋅sin(q₀) - ──────────────⎟ + ─\n",
       "⎣    ⎝    l⎠      ⎝   ⎝    l⎠    l  ⎠ ⎝  ⎝    l⎠                 l       ⎠    \n",
       "\n",
       "̇₄⋅x⎤\n",
       "────⎥\n",
       " l  ⎥\n",
       "    ⎥\n",
       "̇₅⋅x⎥\n",
       "────⎥\n",
       " l  ⎦"
      ]
     },
     "metadata": {},
     "output_type": "display_data"
    },
    {
     "name": "stdout",
     "output_type": "stream",
     "text": [
      "\n",
      "ap = \n"
     ]
    },
    {
     "data": {
      "image/png": "[encoded data removed]",
      "text/latex": [
       "$$\\left[\\begin{matrix}\\ddot{q}_{1} \\left(1 - \\frac{x}{l}\\right) + r_{2} \\left(- \\alpha_{1} \\left(1 - \\frac{x}{l}\\right) - \\frac{\\alpha_{2} x}{l}\\right) \\left(\\left(1 - \\frac{x}{l}\\right) \\cos{\\left (q_{0} \\right )} + \\frac{x}{l} \\cos{\\left (q_{0} + q_{3} \\right )}\\right) + r_{2} \\left(- \\omega_{1}^{2} \\left(1 - \\frac{x}{l}\\right) - \\frac{\\omega_{2}^{2} x}{l}\\right) \\left(- \\left(1 - \\frac{x}{l}\\right) \\sin{\\left (q_{0} \\right )} - \\frac{x}{l} \\sin{\\left (q_{0} + q_{3} \\right )}\\right) + \\frac{\\ddot{q}_{4} x}{l}\\\\\\ddot{q}_{2} \\left(1 - \\frac{x}{l}\\right) + r_{2} \\left(\\alpha_{1} \\left(1 - \\frac{x}{l}\\right) + \\frac{\\alpha_{2} x}{l}\\right) \\left(- \\left(1 - \\frac{x}{l}\\right) \\sin{\\left (q_{0} \\right )} - \\frac{x}{l} \\sin{\\left (q_{0} + q_{3} \\right )}\\right) + r_{2} \\left(- \\omega_{1}^{2} \\left(1 - \\frac{x}{l}\\right) - \\frac{\\omega_{2}^{2} x}{l}\\right) \\left(\\left(1 - \\frac{x}{l}\\right) \\cos{\\left (q_{0} \\right )} + \\frac{x}{l} \\cos{\\left (q_{0} + q_{3} \\right )}\\right) + \\frac{\\ddot{q}_{5} x}{l}\\end{matrix}\\right]$$"
      ],
      "text/plain": [
       "⎡                                                                             \n",
       "⎢    ⎛    x⎞      ⎛     ⎛    x⎞   α₂⋅x⎞ ⎛⎛    x⎞           x⋅cos(q₀ + q₃)⎞    \n",
       "⎢q̈₁⋅⎜1 - ─⎟ + r₂⋅⎜- α₁⋅⎜1 - ─⎟ - ────⎟⋅⎜⎜1 - ─⎟⋅cos(q₀) + ──────────────⎟ + r\n",
       "⎢    ⎝    l⎠      ⎝     ⎝    l⎠    l  ⎠ ⎝⎝    l⎠                 l       ⎠    \n",
       "⎢                                                                             \n",
       "⎢                                                                             \n",
       "⎢     ⎛    x⎞      ⎛   ⎛    x⎞   α₂⋅x⎞ ⎛  ⎛    x⎞           x⋅sin(q₀ + q₃)⎞   \n",
       "⎢ q̈₂⋅⎜1 - ─⎟ + r₂⋅⎜α₁⋅⎜1 - ─⎟ + ────⎟⋅⎜- ⎜1 - ─⎟⋅sin(q₀) - ──────────────⎟ + \n",
       "⎣     ⎝    l⎠      ⎝   ⎝    l⎠    l  ⎠ ⎝  ⎝    l⎠                 l       ⎠   \n",
       "\n",
       "  ⎛                  2  ⎞                                             ⎤\n",
       "  ⎜    2 ⎛    x⎞   ω₂ ⋅x⎟ ⎛  ⎛    x⎞           x⋅sin(q₀ + q₃)⎞   q̈₄⋅x⎥\n",
       "₂⋅⎜- ω₁ ⋅⎜1 - ─⎟ - ─────⎟⋅⎜- ⎜1 - ─⎟⋅sin(q₀) - ──────────────⎟ + ─────⎥\n",
       "  ⎝      ⎝    l⎠     l  ⎠ ⎝  ⎝    l⎠                 l       ⎠     l  ⎥\n",
       "                                                                      ⎥\n",
       "   ⎛                  2  ⎞                                            ⎥\n",
       "   ⎜    2 ⎛    x⎞   ω₂ ⋅x⎟ ⎛⎛    x⎞           x⋅cos(q₀ + q₃)⎞   q̈₅⋅x ⎥\n",
       "r₂⋅⎜- ω₁ ⋅⎜1 - ─⎟ - ─────⎟⋅⎜⎜1 - ─⎟⋅cos(q₀) + ──────────────⎟ + ───── ⎥\n",
       "   ⎝      ⎝    l⎠     l  ⎠ ⎝⎝    l⎠                 l       ⎠     l   ⎦"
      ]
     },
     "metadata": {},
     "output_type": "display_data"
    }
   ],
   "source": [
    "# Define velocity of generic point on element and handles\n",
    "vP = H*deltadot + H*sym.Matrix.vstack(omega1_skew,omega2_skew)*R_interp*s\n",
    "print('\\nvp = ')\n",
    "display(vP)\n",
    "v1 = H.subs(x,0)*deltadot\n",
    "# print('\\nv1 = ')\n",
    "# display(v1)\n",
    "v2 = H.subs(x,l)*deltadot\n",
    "# print('\\nv2 = ')\n",
    "# display(v2)\n",
    "\n",
    "# Angular velocites of the cross-sections of the nodes\n",
    "omega1 = sym.Matrix([omega[0]])\n",
    "omega2 = sym.Matrix([omega[1]])\n",
    "\n",
    "# Create 'Spatial' velocities for the nodes (useful for constraint force coefficient matrix)\n",
    "V1 = sym.Matrix.vstack(omega1,v1)\n",
    "V2 = sym.Matrix.vstack(omega2,v2)\n",
    "\n",
    "# Define acceleration of generic point on element\n",
    "aP = H*deltaddot + H*sym.Matrix.vstack(alpha1_skew,alpha2_skew)*R_interp*s + \\\n",
    "               H*sym.Matrix.vstack(omega1_skew*omega1_skew,omega2_skew*omega2_skew)*R_interp*s\n",
    "print('\\nap = ')\n",
    "display(aP)"
   ]
  },
  {
   "cell_type": "markdown",
   "metadata": {},
   "source": [
    "### Compute Partial Velocities"
   ]
  },
  {
   "cell_type": "code",
   "execution_count": 9,
   "metadata": {
    "collapsed": false
   },
   "outputs": [],
   "source": [
    "# generalized speeds need to be omega_i not qdot_i \n",
    "gen_speed = sym.Matrix.vstack(sym.Matrix.vstack(sym.Matrix([omega[0]]), sym.Matrix(qdot[1:3])), \n",
    "    sym.Matrix.vstack(sym.Matrix([omega[1]]), sym.Matrix(qdot[4:6])))\n",
    "\n",
    "# Compute partial velocities of point 'P' and the nodes\n",
    "VrP = [sym.Matrix([sym.diff(v,u) for v in vP]) for u in gen_speed]\n",
    "# print('\\nVrP = ')\n",
    "# display(VrP)\n",
    "Vr1 = [sym.Matrix([sym.diff(v,u) for v in V1]) for u in gen_speed]\n",
    "# print('\\nVr1 = ')\n",
    "# display(Vr1)\n",
    "Vr2 = [sym.Matrix([sym.diff(v,u) for v in V2]) for u in gen_speed]\n",
    "# print('\\nVr2 = ')\n",
    "# display(Vr2)"
   ]
  },
  {
   "cell_type": "markdown",
   "metadata": {},
   "source": [
    "### Compute the Mass Matrix"
   ]
  },
  {
   "cell_type": "code",
   "execution_count": 10,
   "metadata": {
    "collapsed": false,
    "scrolled": true
   },
   "outputs": [],
   "source": [
    "gen_accel = sym.Matrix.vstack(sym.Matrix.vstack(sym.Matrix([alpha[0]]), sym.Matrix(qddot[1:3])), \n",
    "    sym.Matrix.vstack(sym.Matrix([alpha[1]]), sym.Matrix(qddot[4:6])))\n",
    "\n",
    "RHS = sym.Matrix([sym.integrate(rho*vr.dot(aP), ('r_2',-r,r), (x,0,l)) for vr in VrP])\n",
    "# Compute mass matrix\n",
    "M = sym.Matrix([[sym.simplify(sym.expand(rhs).coeff(uddot)) for uddot in gen_accel] for rhs in RHS])\n",
    "RHS = sym.simplify(RHS - M*gen_accel)"
   ]
  },
  {
   "cell_type": "markdown",
   "metadata": {},
   "source": [
    "### Compute Internal forces "
   ]
  },
  {
   "cell_type": "markdown",
   "metadata": {},
   "source": [
    "#### 1. Transverse (Bending) Strain"
   ]
  },
  {
   "cell_type": "code",
   "execution_count": 11,
   "metadata": {
    "collapsed": false
   },
   "outputs": [],
   "source": [
    "# Orthogonal Matricies Not Extracted to Simplify Algebra\n",
    "dT = sym.simplify(H.diff(x)*sym.Matrix([R1,R2]))\n",
    "kappa = sym.simplify(sym.Matrix([Axial_sym(dT*R_interp.T),'0','0','0']))\n",
    "# display(kappa)"
   ]
  },
  {
   "cell_type": "markdown",
   "metadata": {},
   "source": [
    "#### 2. Longitudinal (Axial) Strian"
   ]
  },
  {
   "cell_type": "code",
   "execution_count": 12,
   "metadata": {
    "collapsed": false
   },
   "outputs": [],
   "source": [
    "# Define Locations of Centroid as a function of beam axis coordinate\n",
    "x0_B = sym.Matrix(['x','0'])\n",
    "# Convert to the newtonian basis\n",
    "x0 = R_interp*x0_B\n",
    "\n",
    "# Define Newtonian Unit Vector x-dir\n",
    "n1 = sym.Matrix(['1','0'])\n",
    "\n",
    "# strain = du/dx\n",
    "# Derivatives w.r.t longitudinal beam coordinate\n",
    "d_delta = dHdx*delta\n",
    "dx0 = x0.diff(x)\n",
    "\n",
    "# Compute axial strain in 'N'\n",
    "epsilon = dx0 + d_delta - R_interp*n1"
   ]
  },
  {
   "cell_type": "code",
   "execution_count": 13,
   "metadata": {
    "collapsed": false
   },
   "outputs": [],
   "source": [
    "# epsilon"
   ]
  },
  {
   "cell_type": "markdown",
   "metadata": {},
   "source": [
    "#### 3. Compute Internal Forces $Q_e = -\\frac{\\partial U}{\\partial e}$"
   ]
  },
  {
   "cell_type": "code",
   "execution_count": 14,
   "metadata": {
    "collapsed": false,
    "scrolled": true
   },
   "outputs": [],
   "source": [
    "\"\"\"\n",
    "Note: Sympy bug! Integrating a matrix returns a vector!!!\n",
    "\"\"\"\n",
    "# Transverse strain energy\n",
    "kappa_squared = (kappa.T*dHdx.T).dot(dHdx*kappa)\n",
    "Ut = 1/2*sym.integrate(E*I*kappa_squared, (x,0,l))"
   ]
  },
  {
   "cell_type": "code",
   "execution_count": 15,
   "metadata": {
    "collapsed": false
   },
   "outputs": [],
   "source": [
    "# stiffness matrix in 'N'  \n",
    "C = E*A*(R_interp*H*H.T*R_interp.T)\n",
    "Ul = 1/2*sym.simplify(sym.integrate(epsilon.T.dot(C*epsilon), (x,0,l)))"
   ]
  },
  {
   "cell_type": "code",
   "execution_count": 16,
   "metadata": {
    "collapsed": false
   },
   "outputs": [],
   "source": [
    "# Compute Total Energy\n",
    "U = Ul + Ut\n",
    "\n",
    "# Compute Internal Force Vector\n",
    "gen_coords = sym.Matrix.vstack(sym.Matrix.vstack(sym.Matrix([theta[0]]), sym.Matrix(q[1:3])), \n",
    "    sym.Matrix.vstack(sym.Matrix([theta[1]]), sym.Matrix(q[4:6])))\n",
    "Qe = sym.Matrix([-U.diff(qi) for qi in q])"
   ]
  },
  {
   "cell_type": "markdown",
   "metadata": {},
   "source": [
    "### Applied and body force vector"
   ]
  },
  {
   "cell_type": "code",
   "execution_count": 17,
   "metadata": {
    "collapsed": false
   },
   "outputs": [],
   "source": [
    "# Applied forces\n",
    "# Gravity body force\n",
    "fg = g*rho*sym.Matrix([0,-1])\n",
    "\n",
    "# Compute beta\n",
    "beta = sym.Matrix([sym.simplify(sym.integrate(vr.dot(fg),('r_2',-r,r),(x,0,l))) for vr in VrP]) + Qe + RHS"
   ]
  },
  {
   "cell_type": "markdown",
   "metadata": {},
   "source": [
    "### Compute Constraint Force Coefficient Matricies"
   ]
  },
  {
   "cell_type": "code",
   "execution_count": 18,
   "metadata": {
    "collapsed": false
   },
   "outputs": [],
   "source": [
    "# Compute partial velocities of handles\n",
    "r12 = R1*sym.Matrix([ l, 0])\n",
    "r21 = R2*sym.Matrix([-l, 0])\n",
    "\n",
    "S12 = sym.Matrix([[1, r12[1], r12[0]],[0, 1, 0],[0, 0, 1]])\n",
    "S21 = sym.Matrix([[1, r21[1], r21[0]],[0, 1, 0],[0, 0, 1]])\n",
    "\n",
    "F1c = sym.Matrix.vstack(tau1c,f1c)\n",
    "F2c = sym.Matrix.vstack(tau2c,f2c)\n",
    "\n",
    "Vr12 = [S12.T*vr for vr in Vr1]\n",
    "Vr21 = [S21.T*vr for vr in Vr2]\n",
    "\n",
    "Gamma1 = sym.Matrix([[sym.expand(vr.dot(F1c)).coeff(f) for f in F1c] for vr in Vr12])\n",
    "Gamma2 = sym.Matrix([[sym.expand(vr.dot(F2c)).coeff(f) for f in F2c] for vr in Vr21])"
   ]
  },
  {
   "cell_type": "code",
   "execution_count": 19,
   "metadata": {
    "collapsed": false
   },
   "outputs": [],
   "source": [
    "# display(Gamma1)\n",
    "# display(Gamma2)"
   ]
  },
  {
   "cell_type": "code",
   "execution_count": 20,
   "metadata": {
    "collapsed": false
   },
   "outputs": [],
   "source": [
    "# Compute Potential Energy\n",
    "height = h[0]*delta[1] + h[1]*delta[2]\n",
    "# PE = sym.integrate(rho*g*height,('r_2',-r,r),(x,0,l))\n",
    "PE = sym.integrate(rho*g*height,(x,0,l))\n",
    "\n",
    "# Compute Kinetic Energy\n",
    "V = sym.Matrix.vstack(V1,V2)\n",
    "# KE = 1/2*sym.integrate(rho*vP.dot(vP),('r_2',-r,r),(x,0,l))\n",
    "KE = 1/2*V.T.dot(M*V)"
   ]
  },
  {
   "cell_type": "markdown",
   "metadata": {},
   "source": [
    "### Output"
   ]
  },
  {
   "cell_type": "code",
   "execution_count": 21,
   "metadata": {
    "collapsed": false
   },
   "outputs": [],
   "source": [
    "pickle.dump( M,      open( \"gebf-mass-matrix.dump\",   \"wb\" ) )\n",
    "pickle.dump( beta,   open( \"gebf-force-vector.dump\",  \"wb\" ) )\n",
    "pickle.dump( Gamma1, open( \"gebf-1c-matrix.dump\",     \"wb\" ) )\n",
    "pickle.dump( Gamma2, open( \"gebf-2c-matrix.dump\",     \"wb\" ) )\n",
    "pickle.dump( U,      open( \"gebf-strain-energy.dump\", \"wb\" ) )\n",
    "pickle.dump( PE,     open( \"potential_enrgy\",         \"wb\" ) ) \n",
    "pickle.dump( KE,     open( \"gebf-KE.dump\",            \"wb\" ) ) "
   ]
  },
  {
   "cell_type": "code",
   "execution_count": 22,
   "metadata": {
    "collapsed": false
   },
   "outputs": [],
   "source": [
    "M_func      = lambdify((E, A, I, r, rho, l, g, q, omega),      M, \"numpy\")\n",
    "beta_func   = lambdify((E, A, I, r, rho, l, g, q, omega),   beta, \"numpy\")\n",
    "Gamma1_func = lambdify((E, A, I, r, rho, l, g, q, omega), Gamma1, \"numpy\")\n",
    "Gamma2_func = lambdify((E, A, I, r, rho, l, g, q, omega), Gamma2, \"numpy\")\n",
    "# M_func      = lambdify((E, A, I, r, rho, l, g, q, theta, omega),      M, \"numpy\")\n",
    "# beta_func   = lambdify((E, A, I, r, rho, l, g, q, theta, omega),   beta, \"numpy\")\n",
    "# Gamma1_func = lambdify((E, A, I, r, rho, l, g, q, theta, omega), Gamma1, \"numpy\")\n",
    "# Gamma2_func = lambdify((E, A, I, r, rho, l, g, q, theta, omega), Gamma2, \"numpy\")\n",
    "# U_func    = lambdify((E, A, I, r, rho, l, g, pi, q, theta, omega),    U, \"numpy\")"
   ]
  },
  {
   "cell_type": "code",
   "execution_count": 23,
   "metadata": {
    "collapsed": false
   },
   "outputs": [],
   "source": [
    "# # Debugging functions to trace source of error \n",
    "Qe_func    = lambdify((E, A, I, r, rho, l, g, q, omega), Qe, \"numpy\")\n",
    "# Fg_func    = lambdify((E, A, I, r, rho, l, g, q, omega), Fg, \"numpy\")\n",
    "Ut_func    = lambdify((E, A, I, r, rho, l, g, q, omega), Ut, \"numpy\")\n",
    "Ul_func    = lambdify((E, A, I, r, rho, l, g, q, omega), Ul, \"numpy\")\n",
    "# Qe_func    = lambdify((E, A, I, r, rho, l, g, q, theta, omega), Qe, \"numpy\")\n",
    "# Fg_func    = lambdify((E, A, I, r, rho, l, g, q, theta, omega), Fg, \"numpy\")\n",
    "# Ut_func    = lambdify((E, A, I, r, rho, l, g, q, theta, omega), Ut, \"numpy\")\n",
    "# Ul_func    = lambdify((E, A, I, r, rho, l, g, q, theta, omega), Ul, \"numpy\")"
   ]
  },
  {
   "cell_type": "code",
   "execution_count": 24,
   "metadata": {
    "collapsed": false
   },
   "outputs": [],
   "source": [
    "def test_func(q,omega,g_num):\n",
    "    M_num      = M_func(     0.7e6, 0.02393, 1.215e-8, 0.02393, 5540, 0.12, g_num, q, omega)\n",
    "    beta_num   = beta_func(  0.7e6, 0.02393, 1.215e-8, 0.02393, 5540, 0.12, g_num, q, omega)        \n",
    "    Gamma1_num = Gamma1_func(0.7e6, 0.02393, 1.215e-8, 0.02393, 5540, 0.12, g_num, q, omega)\n",
    "    Gamma2_num = Gamma2_func(0.7e6, 0.02393, 1.215e-8, 0.02393, 5540, 0.12, g_num, q, omega)\n",
    "\n",
    "    M11 = np.array(M_num[0:3,0:3])\n",
    "    M12 = np.array(M_num[0:3,3:6])\n",
    "    M21 = np.array(M_num[3:6,0:3])\n",
    "    M22 = np.array(M_num[3:6,3:6])\n",
    "\n",
    "    # For now use these definitions to cast Fic (constraint forces between GEBF elements) \n",
    "    # into generalized constraint forces\n",
    "    gamma11 = Gamma1_num[0:3,:]\n",
    "    gamma21 = Gamma1_num[3:6,:]\n",
    "    gamma12 = Gamma2_num[0:3,:]\n",
    "    gamma22 = Gamma2_num[3:6,:]\n",
    "\n",
    "    # partition beta into lambda13 and lambda23\n",
    "    gamma13 = np.array(beta_num[0:3])\n",
    "    gamma23 = np.array(beta_num[3:6])\n",
    "\n",
    "    # Commonly inverted quantities\n",
    "    iM11 = np.linalg.inv(M11)\n",
    "    iM22 = np.linalg.inv(M22)\n",
    "    Chi1 = np.linalg.inv(M11 - M12.dot(iM22.dot(M21)))\n",
    "    Chi2 = np.linalg.inv(M22 - M21.dot(iM11.dot(M12)))\n",
    "\n",
    "    # Compute all terms of the two handle equations\n",
    "    z11 = Chi1.dot(gamma11 - M12.dot(iM22.dot(gamma21)))\n",
    "    z22 = Chi2.dot(gamma22 - M21.dot(iM11.dot(gamma12)))\n",
    "    z12 = Chi1.dot(gamma12 - M12.dot(iM22.dot(gamma22)))\n",
    "    z21 = Chi2.dot(gamma21 - M21.dot(iM11.dot(gamma11)))\n",
    "    \n",
    "    z13 = Chi1.dot(gamma13 - M12.dot(iM22.dot(gamma23))).reshape((3,1))\n",
    "    z23 = Chi2.dot(gamma23 - M21.dot(iM11.dot(gamma13))).reshape((3,1))\n",
    "\n",
    "    # Cantilever conditions\n",
    "    # fix node one, D = eye, P = zeros, and let node two be free \n",
    "    F1c = np.linalg.inv(z11).dot(-z13)\n",
    "    A2  = np.dot(z21,F1c) + z23\n",
    "\n",
    "#     # Free-Free conditions\n",
    "#     A1 = z13\n",
    "#     A2 = z23\n",
    "\n",
    "    return F1c, A2\n",
    "#     return Gamma2"
   ]
  },
  {
   "cell_type": "code",
   "execution_count": 25,
   "metadata": {
    "collapsed": false
   },
   "outputs": [],
   "source": [
    "g_num = 0\n",
    "\n",
    "phi = np.linspace(0,2*3.14,200)\n",
    "delta = np.linspace(0,0.06,200)\n",
    "\n",
    "q0GEBF = [np.array([-np.pi/2,0,0,0,0,-d]).reshape(6,1) for d,angle in zip(delta,phi)]\n",
    "# angle = [np.array([-np.pi/2,-np.pi/2]) for val in phi]\n",
    "\n",
    "# Ul_theta    = np.array([  Ul_func(0.7e6, 0.0018, 1.215e-8, 0.02393, 5540, 0.12, g_num, q0, theta0, np.zeros_like(omega)) for q0,theta0 in zip(q0GEBF, angle)])\n",
    "# Ut_theta    = np.array([  Ut_func(0.7e6, 0.0018, 1.215e-8, 0.02393, 5540, 0.12, g_num, q0, theta0, np.zeros_like(omega)) for q0,theta0 in zip(q0GEBF, angle)])\n",
    "# Qe_theta    = np.array([  Qe_func(0.7e6, 0.0018, 1.215e-8, 0.02393, 5540, 0.12, g_num, q0, theta0, np.zeros_like(omega)) for q0,theta0 in zip(q0GEBF, angle)])                                                                  \n",
    "# beta_theta  = np.array([beta_func(0.7e6, 0.0018, 1.215e-8, 0.02393, 5540, 0.12, g_num, q0, theta0, np.zeros_like(omega)) for q0,theta0 in zip(q0GEBF, angle)])                                                                  \n",
    "# # Fg_theta    = np.array([  Fg_func(0.7e6, 0.0018, 1.215e-8, 0.02393, 5540, 0.12, g_num, q0, theta0, np.zeros_like(omega)) for q0,theta0 in zip(q0GEBF, angle)])                                                                   \n",
    "# # M_theta     = np.array([   M_func(0.7e6, 0.0018, 1.215e-8, 0.02393, 5540, 0.12, g_num, q0, theta0, np.zeros_like(omega)) for q0,theta0 in zip(q0GEBF, angle)])                                                                   \n",
    "# sol_theta   = np.array([test_func(q0, theta0, np.zeros_like(omega), g_num) for q0,theta0 in zip(q0GEBF, angle)])\n",
    "Ul_theta    = np.array([  Ul_func(0.7e6, 0.02393, 1.215e-8, 0.02393, 5540, 0.12, g_num, q0, np.zeros_like(omega)) for q0 in q0GEBF])\n",
    "Ut_theta    = np.array([  Ut_func(0.7e6, 0.02393, 1.215e-8, 0.02393, 5540, 0.12, g_num, q0, np.zeros_like(omega)) for q0 in q0GEBF])\n",
    "Qe_theta    = np.array([  Qe_func(0.7e6, 0.02393, 1.215e-8, 0.02393, 5540, 0.12, g_num, q0, np.zeros_like(omega)) for q0 in q0GEBF])                                                                  \n",
    "beta_theta  = np.array([beta_func(0.7e6, 0.02393, 1.215e-8, 0.02393, 5540, 0.12, g_num, q0, np.zeros_like(omega)) for q0 in q0GEBF])                                                                  \n",
    "# Fg_theta    = np.array([  Fg_func(0.7e6, 0.0018, 1.215e-8, 0.02393, 5540, 0.12, g_num, q0, theta0, np.zeros_like(omega)) for q0,theta0 in zip(q0GEBF, angle)])                                                                   \n",
    "# M_theta     = np.array([   M_func(0.7e6, 0.0018, 1.215e-8, 0.02393, 5540, 0.12, g_num, q0, theta0, np.zeros_like(omega)) for q0,theta0 in zip(q0GEBF, angle)])                                                                   \n",
    "sol_theta   = np.array([test_func(q0, np.zeros_like(omega), g_num) for q0 in q0GEBF])\n",
    "\n"
   ]
  },
  {
   "cell_type": "code",
   "execution_count": 26,
   "metadata": {
    "collapsed": false
   },
   "outputs": [],
   "source": [
    "F1c = sol_theta[:,0]\n",
    "A2 = sol_theta[:,1]"
   ]
  },
  {
   "cell_type": "code",
   "execution_count": 27,
   "metadata": {
    "collapsed": false
   },
   "outputs": [],
   "source": [
    "font = {'family' : 'serif',\n",
    "        'weight' : 'bold',\n",
    "        'size'   : 16}\n",
    "\n",
    "plt.rc('font', **font)"
   ]
  },
  {
   "cell_type": "code",
   "execution_count": 28,
   "metadata": {
    "collapsed": false,
    "scrolled": true
   },
   "outputs": [
    {
     "data": {
      "image/png": "[encoded data removed]",
      "text/plain": [
       "<matplotlib.figure.Figure at 0x7f1243c48240>"
      ]
     },
     "metadata": {},
     "output_type": "display_data"
    }
   ],
   "source": [
    "plt.rc('text', usetex=True)\n",
    "plt.plot(delta/0.12, Ul_theta)\n",
    "plt.title('Axial')\n",
    "plt.ylabel('Strain Energy')\n",
    "plt.xlabel('$\\Delta/l$')\n",
    "plt.show()"
   ]
  },
  {
   "cell_type": "code",
   "execution_count": 29,
   "metadata": {
    "collapsed": false,
    "scrolled": true
   },
   "outputs": [
    {
     "data": {
      "image/png": "[encoded data removed]",
      "text/plain": [
       "<matplotlib.figure.Figure at 0x7f1241b76898>"
      ]
     },
     "metadata": {},
     "output_type": "display_data"
    }
   ],
   "source": [
    "plt.rc('text', usetex=True)\n",
    "plt.plot(delta/0.12, Ut_theta)\n",
    "plt.title('Bending')\n",
    "plt.ylabel('Strain Energy')\n",
    "plt.xlabel('$\\Delta/l$')\n",
    "plt.show()"
   ]
  },
  {
   "cell_type": "code",
   "execution_count": 30,
   "metadata": {
    "collapsed": false
   },
   "outputs": [
    {
     "data": {
      "image/png": "[encoded data removed]",
      "text/plain": [
       "<matplotlib.figure.Figure at 0x7f1241b321d0>"
      ]
     },
     "metadata": {},
     "output_type": "display_data"
    }
   ],
   "source": [
    "plt.rc('text', usetex=True)\n",
    "for i in range(6):\n",
    "    plt.plot(delta/0.12, beta_theta[:,i])\n",
    "plt.ylabel('Constraint force')\n",
    "plt.xlabel('$\\Delta/l$')\n",
    "plt.legend(['1', '2', '3','4','5','6'])\n",
    "plt.show()"
   ]
  },
  {
   "cell_type": "code",
   "execution_count": 31,
   "metadata": {
    "collapsed": false
   },
   "outputs": [
    {
     "data": {
      "image/png": "[encoded data removed]",
      "text/plain": [
       "<matplotlib.figure.Figure at 0x7f1241b14a58>"
      ]
     },
     "metadata": {},
     "output_type": "display_data"
    }
   ],
   "source": [
    "plt.rc('text', usetex=True)\n",
    "for i in range(6):\n",
    "    plt.plot(delta/0.12, Qe_theta[:,i])\n",
    "plt.ylabel('$Q_{e}$')\n",
    "plt.xlabel('$\\Delta/l$')\n",
    "plt.legend(['1', '2', '3','4','5','6'])\n",
    "plt.show()"
   ]
  },
  {
   "cell_type": "code",
   "execution_count": 32,
   "metadata": {
    "collapsed": false
   },
   "outputs": [
    {
     "data": {
      "image/png": "[encoded data removed]",
      "text/plain": [
       "<matplotlib.figure.Figure at 0x7f12419e3588>"
      ]
     },
     "metadata": {},
     "output_type": "display_data"
    }
   ],
   "source": [
    "plt.rc('text', usetex=True)\n",
    "for i in range(3):\n",
    "    plt.plot(delta/0.12, F1c[:,i])\n",
    "plt.ylabel('Constraint force')\n",
    "plt.xlabel('$\\Delta/l$')\n",
    "plt.legend(['1', '2', '3'])\n",
    "plt.show()"
   ]
  },
  {
   "cell_type": "code",
   "execution_count": 33,
   "metadata": {
    "collapsed": false,
    "scrolled": true
   },
   "outputs": [
    {
     "data": {
      "image/png": "[encoded data removed]",
      "text/plain": [
       "<matplotlib.figure.Figure at 0x7f1241a66128>"
      ]
     },
     "metadata": {},
     "output_type": "display_data"
    }
   ],
   "source": [
    "plt.rc('text', usetex=True)\n",
    "for i in range(3):\n",
    "    plt.plot(delta/0.12, A2[:,i])\n",
    "plt.ylabel('Acceleration of Node-2')\n",
    "plt.xlabel('$\\Delta/l$')\n",
    "plt.legend(['1', '2', '3'])\n",
    "plt.show()"
   ]
  },
  {
   "cell_type": "code",
   "execution_count": 34,
   "metadata": {
    "collapsed": false
   },
   "outputs": [
    {
     "data": {
      "image/png": "[encoded data removed]",
      "text/plain": [
       "<matplotlib.figure.Figure at 0x7f1241aeb710>"
      ]
     },
     "metadata": {},
     "output_type": "display_data"
    }
   ],
   "source": [
    "plt.rc('text', usetex=True)\n",
    "plt.plot(delta, F1c[:,2] - (delta.reshape(200,1)*0.02393*0.7e6/0.12))\n",
    "plt.ylabel('Constraint force')\n",
    "plt.xlabel('$\\Delta/l$')\n",
    "plt.legend(['1', '2', '3'])\n",
    "plt.show()"
   ]
  },
  {
   "cell_type": "code",
   "execution_count": 35,
   "metadata": {
    "collapsed": false
   },
   "outputs": [],
   "source": [
    "q_test = np.array([-np.pi/2, 0, 0, 0, 0, -delta[2]])\n",
    "omega_test = np.zeros_like(omega)\n",
    "\n",
    "M_num      = M_func(     0.7e6, 0.02393, 1.215e-8, 0.02393, 5540, 0.12, g_num, q_test, omega_test)\n",
    "beta_num   = beta_func(  0.7e6, 0.02393, 1.215e-8, 0.02393, 5540, 0.12, g_num, q_test, omega_test)        \n",
    "Gamma1_num = Gamma1_func(0.7e6, 0.02393, 1.215e-8, 0.02393, 5540, 0.12, g_num, q_test, omega_test)\n",
    "Gamma2_num = Gamma2_func(0.7e6, 0.02393, 1.215e-8, 0.02393, 5540, 0.12, g_num, q_test, omega_test)\n",
    "\n",
    "M11 = np.array(M_num[0:3,0:3])\n",
    "M12 = np.array(M_num[0:3,3:6])\n",
    "M21 = np.array(M_num[3:6,0:3])\n",
    "M22 = np.array(M_num[3:6,3:6])\n",
    "\n",
    "# For now use these definitions to cast Fic (constraint forces between GEBF elements) \n",
    "# into generalized constraint forces\n",
    "gamma11 = Gamma1_num[0:3,:]\n",
    "gamma21 = Gamma1_num[3:6,:]\n",
    "gamma12 = Gamma2_num[0:3,:]\n",
    "gamma22 = Gamma2_num[3:6,:]\n",
    "\n",
    "# partition beta into lambda13 and lambda23\n",
    "gamma13 = np.array(beta_num[0:3])\n",
    "gamma23 = np.array(beta_num[3:6])\n",
    "\n",
    "# Commonly inverted quantities\n",
    "iM11 = np.linalg.inv(M11)\n",
    "iM22 = np.linalg.inv(M22)\n",
    "Chi1 = np.linalg.inv(M11 - M12.dot(iM22.dot(M21)))\n",
    "Chi2 = np.linalg.inv(M22 - M21.dot(iM11.dot(M12)))\n",
    "\n",
    "# Compute all terms of the two handle equations\n",
    "z11 = Chi1.dot(gamma11 - M12.dot(iM22.dot(gamma21)))\n",
    "z22 = Chi2.dot(gamma22 - M21.dot(iM11.dot(gamma12)))\n",
    "z12 = Chi1.dot(gamma12 - M12.dot(iM22.dot(gamma22)))\n",
    "z21 = Chi2.dot(gamma21 - M21.dot(iM11.dot(gamma11)))\n",
    "\n",
    "z13 = Chi1.dot(gamma13 - M12.dot(iM22.dot(gamma23))).reshape((3,1))\n",
    "z23 = Chi2.dot(gamma23 - M21.dot(iM11.dot(gamma13))).reshape((3,1))"
   ]
  },
  {
   "cell_type": "code",
   "execution_count": 36,
   "metadata": {
    "collapsed": false
   },
   "outputs": [
    {
     "data": {
      "text/plain": [
       "matrix([[ 0.0015,  0.9545, -0.    ],\n",
       "        [ 0.    ,  7.9543,  0.    ],\n",
       "        [ 0.    ,  0.    ,  7.9543]])"
      ]
     },
     "execution_count": 36,
     "metadata": {},
     "output_type": "execute_result"
    }
   ],
   "source": [
    "np.linalg.inv(z11)"
   ]
  },
  {
   "cell_type": "code",
   "execution_count": 37,
   "metadata": {
    "collapsed": false
   },
   "outputs": [],
   "source": [
    "data = np.hstack((delta.reshape(200,1),\n",
    "                 F1c[:,2] - (delta.reshape(200,1)*0.02393*0.7e6/0.12)))\n",
    "np.savetxt('data_def_force.mat', data, fmt='%3.16f')"
   ]
  },
  {
   "cell_type": "code",
   "execution_count": 38,
   "metadata": {
    "collapsed": false
   },
   "outputs": [],
   "source": [
    "# epsilon"
   ]
  },
  {
   "cell_type": "code",
   "execution_count": 39,
   "metadata": {
    "collapsed": false
   },
   "outputs": [
    {
     "data": {
      "image/png": "[encoded data removed]",
      "text/latex": [
       "$$0.003313917245370371$$"
      ],
      "text/plain": [
       "0.003313917245370371"
      ]
     },
     "execution_count": 39,
     "metadata": {},
     "output_type": "execute_result"
    }
   ],
   "source": [
    "1/12*(0.02393/0.12)**2"
   ]
  },
  {
   "cell_type": "code",
   "execution_count": 40,
   "metadata": {
    "collapsed": false
   },
   "outputs": [],
   "source": [
    "# C = sym.Matrix([[E*A, 0],[0, E*A]])\n",
    "# sym.simplify(sym.integrate(epsilon.T*R_interp*H*E*A*sym.eye(4)*H.T*R_interp.T*epsilon, (x,0,l)))"
   ]
  },
  {
   "cell_type": "code",
   "execution_count": null,
   "metadata": {
    "collapsed": true
   },
   "outputs": [],
   "source": []
  },
  {
   "cell_type": "code",
   "execution_count": 41,
   "metadata": {
    "collapsed": false
   },
   "outputs": [
    {
     "data": {
      "image/png": "[encoded data removed]",
      "text/latex": [
       "$$l r \\rho \\left(\\frac{\\omega_{1}^{2} r^{2}}{30} \\cos{\\left (q_{3} \\right )} + \\frac{7 \\omega_{1}^{2}}{90} r^{2} + \\frac{2 \\omega_{1}}{45} \\omega_{2} r^{2} \\cos{\\left (q_{3} \\right )} + \\frac{\\omega_{1} \\omega_{2}}{15} r^{2} + \\frac{\\omega_{2}^{2} r^{2}}{30} \\cos{\\left (q_{3} \\right )} + \\frac{7 \\omega_{2}^{2}}{90} r^{2} + \\frac{\\dot{q}_{1}^{2}}{3} + \\frac{\\dot{q}_{1} \\dot{q}_{4}}{3} + \\frac{\\dot{q}_{2}^{2}}{3} + \\frac{\\dot{q}_{2} \\dot{q}_{5}}{3} + \\frac{\\dot{q}_{4}^{2}}{3} + \\frac{\\dot{q}_{5}^{2}}{3}\\right)$$"
      ],
      "text/plain": [
       "      ⎛  2  2               2  2            2                  2     2  2     \n",
       "      ⎜ω₁ ⋅r ⋅cos(q₃)   7⋅ω₁ ⋅r    2⋅ω₁⋅ω₂⋅r ⋅cos(q₃)   ω₁⋅ω₂⋅r    ω₂ ⋅r ⋅cos(\n",
       "l⋅r⋅ρ⋅⎜────────────── + ──────── + ────────────────── + ──────── + ───────────\n",
       "      ⎝      30            90              45              15            30   \n",
       "\n",
       "          2  2      2                2                2      2⎞\n",
       "q₃)   7⋅ω₂ ⋅r    q̇₁    q̇₁⋅q̇₄   q̇₂    q̇₂⋅q̇₅   q̇₄    q̇₅ ⎟\n",
       "─── + ──────── + ──── + ─────── + ──── + ─────── + ──── + ────⎟\n",
       "         90       3        3       3        3       3      3  ⎠"
      ]
     },
     "execution_count": 41,
     "metadata": {},
     "output_type": "execute_result"
    }
   ],
   "source": [
    "sym.nsimplify(sym.simplify(KE))"
   ]
  },
  {
   "cell_type": "code",
   "execution_count": 42,
   "metadata": {
    "collapsed": false
   },
   "outputs": [
    {
     "data": {
      "image/png": "[encoded data removed]",
      "text/latex": [
       "$$\\frac{g l}{2} \\rho \\left(q_{2} + q_{4}\\right)$$"
      ],
      "text/plain": [
       "g⋅l⋅ρ⋅(q₂ + q₄)\n",
       "───────────────\n",
       "       2       "
      ]
     },
     "execution_count": 42,
     "metadata": {},
     "output_type": "execute_result"
    }
   ],
   "source": [
    "sym.nsimplify(sym.simplify(PE))"
   ]
  },
  {
   "cell_type": "code",
   "execution_count": null,
   "metadata": {
    "collapsed": true
   },
   "outputs": [],
   "source": []
  }
 ],
 "metadata": {
  "kernelspec": {
   "display_name": "Python 3",
   "language": "python",
   "name": "python3"
  },
  "language_info": {
   "codemirror_mode": {
    "name": "ipython",
    "version": 3
   },
   "file_extension": ".py",
   "mimetype": "text/x-python",
   "name": "python",
   "nbconvert_exporter": "python",
   "pygments_lexer": "ipython3",
   "version": "3.4.3"
  }
 },
 "nbformat": 4,
 "nbformat_minor": 0
}

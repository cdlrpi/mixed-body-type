{
 "cells": [
  {
   "cell_type": "code",
   "execution_count": 1,
   "metadata": {
    "collapsed": true
   },
   "outputs": [],
   "source": [
    "import sympy as sym\n",
    "from IPython.display import display\n",
    "from sympy.interactive import printing\n",
    "printing.init_printing(use_latex='mathjax')"
   ]
  },
  {
   "cell_type": "code",
   "execution_count": 2,
   "metadata": {
    "collapsed": false
   },
   "outputs": [],
   "source": [
    "m, l, I, theta, omega, g = sym.symbols('m l I theta omega, g')"
   ]
  },
  {
   "cell_type": "code",
   "execution_count": 3,
   "metadata": {
    "collapsed": false
   },
   "outputs": [
    {
     "data": {
      "text/latex": [
       "$$\\left[\\begin{matrix}\\cos{\\left (\\theta \\right )} & - \\sin{\\left (\\theta \\right )}\\\\\\sin{\\left (\\theta \\right )} & \\cos{\\left (\\theta \\right )}\\end{matrix}\\right]$$"
      ],
      "text/plain": [
       "⎡cos(θ)  -sin(θ)⎤\n",
       "⎢               ⎥\n",
       "⎣sin(θ)  cos(θ) ⎦"
      ]
     },
     "metadata": {},
     "output_type": "display_data"
    }
   ],
   "source": [
    "dcm = sym.Matrix([[sym.cos(theta), -sym.sin(theta)],[sym.sin(theta), sym.cos(theta)]])\n",
    "display(dcm)"
   ]
  },
  {
   "cell_type": "code",
   "execution_count": 4,
   "metadata": {
    "collapsed": false
   },
   "outputs": [
    {
     "data": {
      "text/latex": [
       "$$\\left[\\begin{matrix}1 & 0 & 0\\\\0 & \\cos{\\left (\\theta \\right )} & - \\sin{\\left (\\theta \\right )}\\\\0 & \\sin{\\left (\\theta \\right )} & \\cos{\\left (\\theta \\right )}\\end{matrix}\\right]$$"
      ],
      "text/plain": [
       "⎡1    0        0   ⎤\n",
       "⎢                  ⎥\n",
       "⎢0  cos(θ)  -sin(θ)⎥\n",
       "⎢                  ⎥\n",
       "⎣0  sin(θ)  cos(θ) ⎦"
      ]
     },
     "metadata": {},
     "output_type": "display_data"
    }
   ],
   "source": [
    "R = sym.Matrix([[1, 0, 0], sym.zeros(2,1).row_join(dcm)])\n",
    "display(R)"
   ]
  },
  {
   "cell_type": "code",
   "execution_count": 5,
   "metadata": {
    "collapsed": false
   },
   "outputs": [],
   "source": [
    "r01B = sym.Matrix([-l/2, 0])\n",
    "r02B = sym.Matrix([ l/2, 0])\n",
    "r01N = dcm*r01B\n",
    "r02N = dcm*r02B"
   ]
  },
  {
   "cell_type": "code",
   "execution_count": 6,
   "metadata": {
    "collapsed": false
   },
   "outputs": [
    {
     "data": {
      "text/latex": [
       "$$\\left[\\begin{matrix}I & 0 & 0\\\\0 & m & 0\\\\0 & 0 & m\\end{matrix}\\right]$$"
      ],
      "text/plain": [
       "⎡I  0  0⎤\n",
       "⎢       ⎥\n",
       "⎢0  m  0⎥\n",
       "⎢       ⎥\n",
       "⎣0  0  m⎦"
      ]
     },
     "metadata": {},
     "output_type": "display_data"
    }
   ],
   "source": [
    "M = sym.Matrix([[I, 0, 0],[0, m, 0],[0, 0, m]])\n",
    "display(M)"
   ]
  },
  {
   "cell_type": "code",
   "execution_count": 7,
   "metadata": {
    "collapsed": false
   },
   "outputs": [
    {
     "data": {
      "text/latex": [
       "$$\\left[\\begin{matrix}1 & 0 & - \\frac{l}{2}\\\\0 & 1 & 0\\\\0 & 0 & 1\\end{matrix}\\right]$$"
      ],
      "text/plain": [
       "⎡      -l ⎤\n",
       "⎢1  0  ───⎥\n",
       "⎢       2 ⎥\n",
       "⎢         ⎥\n",
       "⎢0  1   0 ⎥\n",
       "⎢         ⎥\n",
       "⎣0  0   1 ⎦"
      ]
     },
     "metadata": {},
     "output_type": "display_data"
    },
    {
     "data": {
      "text/latex": [
       "$$\\left[\\begin{matrix}1 & 0 & \\frac{l}{2}\\\\0 & 1 & 0\\\\0 & 0 & 1\\end{matrix}\\right]$$"
      ],
      "text/plain": [
       "⎡      l⎤\n",
       "⎢1  0  ─⎥\n",
       "⎢      2⎥\n",
       "⎢       ⎥\n",
       "⎢0  1  0⎥\n",
       "⎢       ⎥\n",
       "⎣0  0  1⎦"
      ]
     },
     "metadata": {},
     "output_type": "display_data"
    },
    {
     "data": {
      "text/latex": [
       "$$\\left[\\begin{matrix}1 & \\frac{l}{2} \\sin{\\left (\\theta \\right )} & - \\frac{l}{2} \\cos{\\left (\\theta \\right )}\\\\0 & 1 & 0\\\\0 & 0 & 1\\end{matrix}\\right]$$"
      ],
      "text/plain": [
       "⎡   l⋅sin(θ)  -l⋅cos(θ) ⎤\n",
       "⎢1  ────────  ──────────⎥\n",
       "⎢      2          2     ⎥\n",
       "⎢                       ⎥\n",
       "⎢0     1          0     ⎥\n",
       "⎢                       ⎥\n",
       "⎣0     0          1     ⎦"
      ]
     },
     "metadata": {},
     "output_type": "display_data"
    },
    {
     "data": {
      "text/latex": [
       "$$\\left[\\begin{matrix}1 & - \\frac{l}{2} \\sin{\\left (\\theta \\right )} & \\frac{l}{2} \\cos{\\left (\\theta \\right )}\\\\0 & 1 & 0\\\\0 & 0 & 1\\end{matrix}\\right]$$"
      ],
      "text/plain": [
       "⎡   -l⋅sin(θ)   l⋅cos(θ)⎤\n",
       "⎢1  ──────────  ────────⎥\n",
       "⎢       2          2    ⎥\n",
       "⎢                       ⎥\n",
       "⎢0      1          0    ⎥\n",
       "⎢                       ⎥\n",
       "⎣0      0          1    ⎦"
      ]
     },
     "metadata": {},
     "output_type": "display_data"
    }
   ],
   "source": [
    "S01B = sym.eye(3) + sym.Matrix([[0, -r01B[1], r01B[0]], sym.zeros(2,3)])\n",
    "S02B = sym.eye(3) + sym.Matrix([[0, -r02B[1], r02B[0]], sym.zeros(2,3)])\n",
    "S01N = sym.eye(3) + sym.Matrix([[0, -r01N[1], r01N[0]], sym.zeros(2,3)])\n",
    "S02N = sym.eye(3) + sym.Matrix([[0, -r02N[1], r02N[0]], sym.zeros(2,3)])\n",
    "display(S01B)\n",
    "display(S02B)\n",
    "display(S01N)\n",
    "display(S02N)"
   ]
  },
  {
   "cell_type": "code",
   "execution_count": 9,
   "metadata": {
    "collapsed": false
   },
   "outputs": [
    {
     "data": {
      "text/latex": [
       "$$\\left[\\begin{matrix}\\frac{1}{I} & \\frac{l}{2 I} \\sin{\\left (\\theta \\right )} & - \\frac{l}{2 I} \\cos{\\left (\\theta \\right )}\\\\\\frac{l}{2 I} \\sin{\\left (\\theta \\right )} & \\frac{1}{m} + \\frac{l^{2}}{4 I} \\sin^{2}{\\left (\\theta \\right )} & - \\frac{l^{2}}{8 I} \\sin{\\left (2 \\theta \\right )}\\\\- \\frac{l}{2 I} \\cos{\\left (\\theta \\right )} & - \\frac{l^{2}}{8 I} \\sin{\\left (2 \\theta \\right )} & \\frac{1}{m} + \\frac{l^{2}}{4 I} \\cos^{2}{\\left (\\theta \\right )}\\end{matrix}\\right]$$"
      ],
      "text/plain": [
       "⎡    1          l⋅sin(θ)       -l⋅cos(θ)   ⎤\n",
       "⎢    ─          ────────       ──────────  ⎥\n",
       "⎢    I            2⋅I             2⋅I      ⎥\n",
       "⎢                                          ⎥\n",
       "⎢                 2    2       2           ⎥\n",
       "⎢ l⋅sin(θ)   1   l ⋅sin (θ)  -l ⋅sin(2⋅θ)  ⎥\n",
       "⎢ ────────   ─ + ──────────  ───────────── ⎥\n",
       "⎢   2⋅I      m      4⋅I           8⋅I      ⎥\n",
       "⎢                                          ⎥\n",
       "⎢              2                  2    2   ⎥\n",
       "⎢-l⋅cos(θ)   -l ⋅sin(2⋅θ)    1   l ⋅cos (θ)⎥\n",
       "⎢──────────  ─────────────   ─ + ──────────⎥\n",
       "⎣   2⋅I           8⋅I        m      4⋅I    ⎦"
      ]
     },
     "metadata": {},
     "output_type": "display_data"
    }
   ],
   "source": [
    "sym.simplify(R*S01B.T*M.inv()*S01B*R.T)"
   ]
  },
  {
   "cell_type": "code",
   "execution_count": 11,
   "metadata": {
    "collapsed": false
   },
   "outputs": [
    {
     "data": {
      "text/latex": [
       "$$\\left[\\begin{matrix}\\frac{1}{I} & \\frac{l}{2 I} \\sin{\\left (\\theta \\right )} & - \\frac{l}{2 I} \\cos{\\left (\\theta \\right )}\\\\\\frac{l}{2 I} \\sin{\\left (\\theta \\right )} & \\frac{1}{m} + \\frac{l^{2}}{4 I} \\sin^{2}{\\left (\\theta \\right )} & - \\frac{l^{2}}{8 I} \\sin{\\left (2 \\theta \\right )}\\\\- \\frac{l}{2 I} \\cos{\\left (\\theta \\right )} & - \\frac{l^{2}}{8 I} \\sin{\\left (2 \\theta \\right )} & \\frac{1}{m} + \\frac{l^{2}}{4 I} \\cos^{2}{\\left (\\theta \\right )}\\end{matrix}\\right]$$"
      ],
      "text/plain": [
       "⎡    1          l⋅sin(θ)       -l⋅cos(θ)   ⎤\n",
       "⎢    ─          ────────       ──────────  ⎥\n",
       "⎢    I            2⋅I             2⋅I      ⎥\n",
       "⎢                                          ⎥\n",
       "⎢                 2    2       2           ⎥\n",
       "⎢ l⋅sin(θ)   1   l ⋅sin (θ)  -l ⋅sin(2⋅θ)  ⎥\n",
       "⎢ ────────   ─ + ──────────  ───────────── ⎥\n",
       "⎢   2⋅I      m      4⋅I           8⋅I      ⎥\n",
       "⎢                                          ⎥\n",
       "⎢              2                  2    2   ⎥\n",
       "⎢-l⋅cos(θ)   -l ⋅sin(2⋅θ)    1   l ⋅cos (θ)⎥\n",
       "⎢──────────  ─────────────   ─ + ──────────⎥\n",
       "⎣   2⋅I           8⋅I        m      4⋅I    ⎦"
      ]
     },
     "metadata": {},
     "output_type": "display_data"
    }
   ],
   "source": [
    "sym.simplify(S01N.T*M.inv()*S01N)"
   ]
  },
  {
   "cell_type": "code",
   "execution_count": 19,
   "metadata": {
    "collapsed": false
   },
   "outputs": [
    {
     "data": {
      "text/latex": [
       "$$\\left[\\begin{matrix}0\\\\\\frac{l \\omega^{2}}{2} \\cos{\\left (\\theta \\right )}\\\\g + \\frac{l \\omega^{2}}{2} \\sin{\\left (\\theta \\right )}\\end{matrix}\\right]$$"
      ],
      "text/plain": [
       "⎡       0       ⎤\n",
       "⎢               ⎥\n",
       "⎢     2         ⎥\n",
       "⎢  l⋅ω ⋅cos(θ)  ⎥\n",
       "⎢  ───────────  ⎥\n",
       "⎢       2       ⎥\n",
       "⎢               ⎥\n",
       "⎢       2       ⎥\n",
       "⎢    l⋅ω ⋅sin(θ)⎥\n",
       "⎢g + ───────────⎥\n",
       "⎣         2     ⎦"
      ]
     },
     "execution_count": 19,
     "metadata": {},
     "output_type": "execute_result"
    }
   ],
   "source": [
    "sym.simplify(R*(S01B.T*M.inv()*R.T*sym.Matrix([0, 0, m*g]) - omega**2*sym.Matrix([0]).col_join(r01B)))"
   ]
  },
  {
   "cell_type": "code",
   "execution_count": 18,
   "metadata": {
    "collapsed": false
   },
   "outputs": [
    {
     "data": {
      "text/latex": [
       "$$\\left[\\begin{matrix}0\\\\\\frac{l \\omega^{2}}{2} \\cos{\\left (\\theta \\right )}\\\\g + \\frac{l \\omega^{2}}{2} \\sin{\\left (\\theta \\right )}\\end{matrix}\\right]$$"
      ],
      "text/plain": [
       "⎡       0       ⎤\n",
       "⎢               ⎥\n",
       "⎢     2         ⎥\n",
       "⎢  l⋅ω ⋅cos(θ)  ⎥\n",
       "⎢  ───────────  ⎥\n",
       "⎢       2       ⎥\n",
       "⎢               ⎥\n",
       "⎢       2       ⎥\n",
       "⎢    l⋅ω ⋅sin(θ)⎥\n",
       "⎢g + ───────────⎥\n",
       "⎣         2     ⎦"
      ]
     },
     "execution_count": 18,
     "metadata": {},
     "output_type": "execute_result"
    }
   ],
   "source": [
    "S01N.T*M.inv()*sym.Matrix([0, 0, m*g]) - omega**2*sym.Matrix([0]).col_join(r01N)"
   ]
  },
  {
   "cell_type": "code",
   "execution_count": null,
   "metadata": {
    "collapsed": true
   },
   "outputs": [],
   "source": []
  }
 ],
 "metadata": {
  "kernelspec": {
   "display_name": "Python 3",
   "language": "python",
   "name": "python3"
  },
  "language_info": {
   "codemirror_mode": {
    "name": "ipython",
    "version": 3
   },
   "file_extension": ".py",
   "mimetype": "text/x-python",
   "name": "python",
   "nbconvert_exporter": "python",
   "pygments_lexer": "ipython3",
   "version": "3.4.3"
  }
 },
 "nbformat": 4,
 "nbformat_minor": 0
}

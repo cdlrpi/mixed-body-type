{
 "cells": [
  {
   "cell_type": "markdown",
   "metadata": {},
   "source": [
    "## This is a script to solve for the motion of a massive rod double pendulum using DCA"
   ]
  },
  {
   "cell_type": "markdown",
   "metadata": {},
   "source": [
    "#### Imports"
   ]
  },
  {
   "cell_type": "code",
   "execution_count": 1,
   "metadata": {
    "collapsed": false
   },
   "outputs": [],
   "source": [
    "import numpy as np\n",
    "import math\n",
    "from scipy.integrate import odeint\n",
    "import matplotlib.pyplot as plt\n",
    "\n",
    "import MBstructs as MB\n",
    "import MultiBodyFuncts as MBF\n",
    "import DCA\n",
    "\n",
    "%matplotlib inline\n",
    "np.set_printoptions(precision=4,suppress=True)"
   ]
  },
  {
   "cell_type": "markdown",
   "metadata": {},
   "source": [
    "#### Kinematic Sweep"
   ]
  },
  {
   "cell_type": "code",
   "execution_count": 2,
   "metadata": {
    "collapsed": false
   },
   "outputs": [],
   "source": [
    "# Kinematic sweep is trivial for planar n-link pendulum \n",
    "def kinematics(bodies,q,u):\n",
    "    for body,theta,omega in zip(bodies,np.cumsum(q),np.cumsum(u)):\n",
    "        print(theta)\n",
    "        body.omega = omega\n",
    "        print(omega)\n",
    "        body.CBN = MBF.DCM(theta)\n",
    "        print(body.CBN)"
   ]
  },
  {
   "cell_type": "code",
   "execution_count": 3,
   "metadata": {
    "collapsed": false
   },
   "outputs": [],
   "source": [
    "def simulate(state,tspan,n,bodies,joints,BC1,BC2):\n",
    "    '''\n",
    "    his function extracts the generalized coordinates from the solution \n",
    "    of the equations of motion after calling the DCA to solve the equations of motion \n",
    "    '''\n",
    "    q = state[:n]\n",
    "    u = state[n:]\n",
    "    # Get the Kinematics 2D n-link Pendulum\n",
    "    kinematics(bodies,q,u)    \n",
    "    \n",
    "    for body in bodies:\n",
    "        body.intProps()\n",
    "    \n",
    "    #Call the Recursive DCA Algorithm\n",
    "    #This returns a list of the form:\n",
    "    #[A11,A12,A21,A22,...,An1,An2]\n",
    "    #where Axy corresponds to the acceleration\n",
    "    #of the yth handle of the xth body\n",
    "    ll=DCA.openR(n,0,bodies,joints,BC1,BC2)\n",
    "\n",
    "    #loop to fill d_dt with the acceleration values\n",
    "    d_dt=np.zeros((2*n))\n",
    "    for j in range(0,n):\n",
    "        if j == 0:\n",
    "            A1=ll.pop(0)\n",
    "            d_dt[j+n]=np.dot(np.transpose(joints[j].P),A1)\n",
    "        else:\n",
    "            A2= ll.pop(0)\n",
    "            A1=ll.pop(0)\n",
    "            d_dt[j+n]=np.dot(np.transpose(joints[j].P),(A1-A2))\n",
    "    \n",
    "    #add the velocities to d_dt and return to the integrator\n",
    "    d_dt[:n]=state[n:]\n",
    "    return d_dt "
   ]
  },
  {
   "cell_type": "markdown",
   "metadata": {},
   "source": [
    "#### System specifications and Initial Conditions"
   ]
  },
  {
   "cell_type": "code",
   "execution_count": 4,
   "metadata": {
    "collapsed": false
   },
   "outputs": [],
   "source": [
    "# Specify number of bodies\n",
    "n = 3\n",
    "\n",
    "# q1 and q2 are measured as the angle the rod makes with -n2 axis\n",
    "q0 = np.zeros((n))\n",
    "q0[0] = np.pi/2\n",
    "\n",
    "u0 = np.zeros((n))\n",
    "state0 = np.hstack((q0,u0))\n",
    "\n",
    "# Length of time of the simulation\n",
    "tspan = np.arange(0,.002,.001)"
   ]
  },
  {
   "cell_type": "markdown",
   "metadata": {},
   "source": [
    "#### System Initialization\n"
   ]
  },
  {
   "cell_type": "code",
   "execution_count": 5,
   "metadata": {
    "collapsed": false
   },
   "outputs": [],
   "source": [
    "# All physical properties of the rigid bodies are the same\n",
    "m = 1.0\n",
    "l = 1.0\n",
    "I = 1.0/12*m*l**2\n",
    "    \n",
    "jointsKIN = [MB.Joint('revolute2D') for i in range(n)]\n",
    "joints = jointsKIN\n",
    "bodiesRIGID = [MB.Rigid_Body2D() for i in range(n)]\n",
    "\n",
    "for body in bodiesRIGID:\n",
    "    body.initialize(m,l,I)\n",
    "bodies = bodiesRIGID"
   ]
  },
  {
   "cell_type": "code",
   "execution_count": 6,
   "metadata": {
    "collapsed": false
   },
   "outputs": [],
   "source": [
    "# bodies.index(bodies[2])"
   ]
  },
  {
   "cell_type": "markdown",
   "metadata": {},
   "source": [
    "#### Simulate it"
   ]
  },
  {
   "cell_type": "code",
   "execution_count": 7,
   "metadata": {
    "collapsed": false
   },
   "outputs": [
    {
     "name": "stdout",
     "output_type": "stream",
     "text": [
      "1.57079632679\n",
      "0.0\n",
      "[[ 0.  1.]\n",
      " [-1.  0.]]\n",
      "1.57079632679\n",
      "0.0\n",
      "[[ 0.  1.]\n",
      " [-1.  0.]]\n",
      "1.57079632679\n",
      "0.0\n",
      "[[ 0.  1.]\n",
      " [-1.  0.]]\n",
      "1.57079632679\n",
      "-1.51972741132e-06\n",
      "[[ 0.  1.]\n",
      " [-1.  0.]]\n",
      "1.57079632679\n",
      "4.14471112179e-07\n",
      "[[ 0.  1.]\n",
      " [-1.  0.]]\n",
      "1.57079632679\n",
      "-1.38157037393e-07\n",
      "[[ 0.  1.]\n",
      " [-1.  0.]]\n",
      "1.57079632679\n",
      "-1.51972741132e-06\n",
      "[[ 0.  1.]\n",
      " [-1.  0.]]\n",
      "1.57079632679\n",
      "4.14471112179e-07\n",
      "[[-0.  1.]\n",
      " [-1. -0.]]\n",
      "1.57079632679\n",
      "-1.38157037393e-07\n",
      "[[ 0.  1.]\n",
      " [-1.  0.]]\n",
      "1.57079632679\n",
      "-3.03945482265e-06\n",
      "[[ 0.  1.]\n",
      " [-1.  0.]]\n",
      "1.57079632679\n",
      "8.28942224358e-07\n",
      "[[-0.  1.]\n",
      " [-1. -0.]]\n",
      "1.57079632679\n",
      "-2.76314074786e-07\n",
      "[[ 0.  1.]\n",
      " [-1.  0.]]\n",
      "1.57079632679\n",
      "-3.03945482265e-06\n",
      "[[ 0.  1.]\n",
      " [-1.  0.]]\n",
      "1.5707963268\n",
      "8.28942224358e-07\n",
      "[[-0.  1.]\n",
      " [-1. -0.]]\n",
      "1.57079632679\n",
      "-2.76314074786e-07\n",
      "[[ 0.  1.]\n",
      " [-1.  0.]]\n",
      "1.57078704856\n",
      "-0.015200313568\n",
      "[[ 0.  1.]\n",
      " [-1.  0.]]\n",
      "1.57079885722\n",
      "0.00414554006401\n",
      "[[-0.  1.]\n",
      " [-1. -0.]]\n",
      "1.57079548332\n",
      "-0.001381846688\n",
      "[[ 0.  1.]\n",
      " [-1.  0.]]\n",
      "1.57078704856\n",
      "-0.0152003135703\n",
      "[[ 0.  1.]\n",
      " [-1.  0.]]\n",
      "1.57079885722\n",
      "0.00414554006869\n",
      "[[-0.  1.]\n",
      " [-1. -0.]]\n",
      "1.57079548332\n",
      "-0.00138184669033\n",
      "[[ 0.  1.]\n",
      " [-1.  0.]]\n"
     ]
    }
   ],
   "source": [
    "# odeint is the numerical integrator used\n",
    "state = odeint(simulate,state0,tspan,(n,bodies,joints,2,1))"
   ]
  },
  {
   "cell_type": "code",
   "execution_count": 8,
   "metadata": {
    "collapsed": false
   },
   "outputs": [],
   "source": [
    "# state.shape"
   ]
  },
  {
   "cell_type": "markdown",
   "metadata": {},
   "source": [
    "#### Check Results and Plot"
   ]
  },
  {
   "cell_type": "code",
   "execution_count": 9,
   "metadata": {
    "collapsed": false
   },
   "outputs": [],
   "source": [
    "# bodies = [MB.Rigid_Body2D() for i in range(n)]\n",
    "# for body in bodies:\n",
    "#     body.initialize(m,l,I)\n",
    "# kinematics(bodies,q0,u0)\n",
    "# for body in bodies:\n",
    "#     body.intProps()"
   ]
  },
  {
   "cell_type": "code",
   "execution_count": 10,
   "metadata": {
    "collapsed": false
   },
   "outputs": [
    {
     "name": "stdout",
     "output_type": "stream",
     "text": [
      "-0.0152003135703 [[ 0.  1.]\n",
      " [-1.  0.]]\n",
      "0.00414554006869 [[-0.  1.]\n",
      " [-1. -0.]]\n",
      "-0.00138184669033 [[ 0.  1.]\n",
      " [-1.  0.]]\n"
     ]
    },
    {
     "data": {
      "text/plain": [
       "[None, None, None]"
      ]
     },
     "execution_count": 10,
     "metadata": {},
     "output_type": "execute_result"
    }
   ],
   "source": [
    "[print(body.omega, body.CBN) for body in bodies]\n",
    "# bodies[0].z13"
   ]
  },
  {
   "cell_type": "code",
   "execution_count": 11,
   "metadata": {
    "collapsed": true
   },
   "outputs": [],
   "source": [
    "# bodytest = MB.Rigid_Body2D()\n",
    "# bodytest.initialize(m,l,I)\n",
    "# bodytest.omega = 0.0\n",
    "# bodytest.CBN = MBF.DCM(np.pi/2)"
   ]
  },
  {
   "cell_type": "code",
   "execution_count": 12,
   "metadata": {
    "collapsed": false
   },
   "outputs": [],
   "source": [
    "# r01 = np.dot(bodytest.CBN,np.array([0,-bodytest.l/2]))\n",
    "# print(r01)\n",
    "# r02 = np.dot(bodytest.CBN,np.array([0, bodytest.l/2]))\n",
    "# print(r02)\n",
    "\n",
    "        \n",
    "# # Applied and body forces\n",
    "# # Only applied or body force is gravity\n",
    "# Fg = np.array([0,0,bodytest.m*-9.81])\n",
    "# Fa1 = Fg \n",
    "# Fa2 = Fg \n",
    "\n",
    "# # construct shifter matricies for the **PLANAR** problem\n",
    "# S01 = np.eye(3) + np.vstack((np.array([[0, -r01[1], r01[0]]]),np.zeros((2,3))))\n",
    "# # print(S01)\n",
    "# S02 = np.eye(3) + np.vstack((np.array([[0, -r02[1], r02[0]]]),np.zeros((2,3))))\n",
    "# # print(S02)\n",
    "\n",
    "# # Create the Mass and inverse Mass Matrices\t\n",
    "# M = np.vstack(((np.array([bodytest.I,0,0]),np.hstack((np.zeros((2,1)),(bodytest.m*np.eye(2)))))))\n",
    "# Minv = np.linalg.inv(M)\n",
    "# print(Minv)\n",
    "\n",
    "# # Construct the inverse inertial matricies for the two handle equations\n",
    "# bodytest.z11 = np.dot(S01.T,np.dot(Minv,S01))\n",
    "# bodytest.z12 = np.dot(S01.T,np.dot(Minv,S02))\n",
    "# bodytest.z21 = np.dot(S02.T,np.dot(Minv,S01))\n",
    "# bodytest.z22 = np.dot(S02.T,np.dot(Minv,S02))\n",
    "\n",
    "# bodytest.z13 = np.dot(S01.T,np.dot(Minv,Fa1)) - bodytest.omega**2*np.hstack((0,r01)).reshape(Fa1.shape) \n",
    "# bodytest.z23 = np.dot(S02.T,np.dot(Minv,Fa2)) - bodytest.omega**2*np.hstack((0,r02)).reshape(Fa2.shape) "
   ]
  },
  {
   "cell_type": "code",
   "execution_count": 13,
   "metadata": {
    "collapsed": false
   },
   "outputs": [],
   "source": [
    "# print(bodytest.z21)\n",
    "# print(bodytest.z12.shape)\n",
    "# print(bodytest.z21.shape)\n",
    "# print(bodytest.z22.shape)\n",
    "# print(bodytest.z13.shape)\n",
    "# print(bodytest.z23.shape)"
   ]
  },
  {
   "cell_type": "code",
   "execution_count": 14,
   "metadata": {
    "collapsed": false
   },
   "outputs": [],
   "source": [
    "# print(bodies[0].z11)"
   ]
  },
  {
   "cell_type": "code",
   "execution_count": 15,
   "metadata": {
    "collapsed": false
   },
   "outputs": [],
   "source": [
    "# print(bodies[0].r01)\n",
    "# print(bodies[0].r02)"
   ]
  },
  {
   "cell_type": "code",
   "execution_count": 16,
   "metadata": {
    "collapsed": false
   },
   "outputs": [],
   "source": [
    "# print(bodies[0].omega)"
   ]
  },
  {
   "cell_type": "code",
   "execution_count": 17,
   "metadata": {
    "collapsed": false
   },
   "outputs": [],
   "source": [
    "# ll=DCA.openR(n,0,bodies,joints,2,1)"
   ]
  },
  {
   "cell_type": "code",
   "execution_count": 18,
   "metadata": {
    "collapsed": false
   },
   "outputs": [],
   "source": [
    "# print(ll[0])"
   ]
  },
  {
   "cell_type": "code",
   "execution_count": 19,
   "metadata": {
    "collapsed": false
   },
   "outputs": [],
   "source": [
    "# state0[:n]"
   ]
  },
  {
   "cell_type": "code",
   "execution_count": 20,
   "metadata": {
    "collapsed": false
   },
   "outputs": [
    {
     "ename": "IndexError",
     "evalue": "index 20 is out of bounds for axis 0 with size 2",
     "output_type": "error",
     "traceback": [
      "\u001b[0;31m---------------------------------------------------------------------------\u001b[0m",
      "\u001b[0;31mIndexError\u001b[0m                                Traceback (most recent call last)",
      "\u001b[0;32m<ipython-input-20-fe9da76a3eb1>\u001b[0m in \u001b[0;36m<module>\u001b[0;34m()\u001b[0m\n\u001b[0;32m----> 1\u001b[0;31m \u001b[0mprint\u001b[0m\u001b[0;34m(\u001b[0m\u001b[0mstate\u001b[0m\u001b[0;34m[\u001b[0m\u001b[0;36m20\u001b[0m\u001b[0;34m]\u001b[0m\u001b[0;34m)\u001b[0m\u001b[0;34m\u001b[0m\u001b[0m\n\u001b[0m",
      "\u001b[0;31mIndexError\u001b[0m: index 20 is out of bounds for axis 0 with size 2"
     ]
    }
   ],
   "source": [
    "print(state[20])"
   ]
  },
  {
   "cell_type": "code",
   "execution_count": null,
   "metadata": {
    "collapsed": true
   },
   "outputs": [],
   "source": []
  }
 ],
 "metadata": {
  "kernelspec": {
   "display_name": "Python 3",
   "language": "python",
   "name": "python3"
  },
  "language_info": {
   "codemirror_mode": {
    "name": "ipython",
    "version": 3
   },
   "file_extension": ".py",
   "mimetype": "text/x-python",
   "name": "python",
   "nbconvert_exporter": "python",
   "pygments_lexer": "ipython3",
   "version": "3.4.3"
  }
 },
 "nbformat": 4,
 "nbformat_minor": 0
}

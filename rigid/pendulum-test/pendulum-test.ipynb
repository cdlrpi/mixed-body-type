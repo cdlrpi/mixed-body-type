{
 "cells": [
  {
   "cell_type": "markdown",
   "metadata": {},
   "source": [
    "## This is a script to solve for the motion of a massive rod double pendulum using DCA"
   ]
  },
  {
   "cell_type": "markdown",
   "metadata": {},
   "source": [
    "#### Imports"
   ]
  },
  {
   "cell_type": "code",
   "execution_count": 1,
   "metadata": {
    "collapsed": false
   },
   "outputs": [],
   "source": [
    "import numpy as np\n",
    "import math\n",
    "from scipy.integrate import odeint\n",
    "import matplotlib.pyplot as plt\n",
    "\n",
    "import MBstructs as MB\n",
    "import MultiBodyFuncts as MBF\n",
    "import DCA\n",
    "\n",
    "%matplotlib inline\n",
    "np.set_printoptions(precision=4,suppress=True)"
   ]
  },
  {
   "cell_type": "markdown",
   "metadata": {},
   "source": [
    "#### Kinematic Sweep"
   ]
  },
  {
   "cell_type": "code",
   "execution_count": 2,
   "metadata": {
    "collapsed": false
   },
   "outputs": [],
   "source": [
    "# Kinematic sweep is trivial for planar n-link pendulum \n",
    "def kinematics(bodies,q,u):\n",
    "    for body,theta,omega in zip(bodies,np.cumsum(q),np.cumsum(u)):\n",
    "        print(theta)\n",
    "        body.omega = omega\n",
    "        print(omega)\n",
    "        body.CBN = MBF.DCM(theta)\n",
    "        print(body.CBN)"
   ]
  },
  {
   "cell_type": "code",
   "execution_count": 3,
   "metadata": {
    "collapsed": false
   },
   "outputs": [],
   "source": [
    "def simulate(state,tspan,n,bodies,joints,BC1,BC2):\n",
    "    '''\n",
    "    his function extracts the generalized coordinates from the solution \n",
    "    of the equations of motion after calling the DCA to solve the equations of motion \n",
    "    '''\n",
    "    q = state[:n]\n",
    "    u = state[n:]\n",
    "    # Get the Kinematics 2D n-link Pendulum\n",
    "    kinematics(bodies,q,u)    \n",
    "    \n",
    "    for body in bodies:\n",
    "        body.intProps()\n",
    "    \n",
    "    #Call the Recursive DCA Algorithm\n",
    "    #This returns a list of the form:\n",
    "    #[A11,A12,A21,A22,...,An1,An2]\n",
    "    #where Axy corresponds to the acceleration\n",
    "    #of the yth handle of the xth body\n",
    "    ll=DCA.openR(n,0,bodies,joints,BC1,BC2)\n",
    "\n",
    "    #loop to fill d_dt with the acceleration values\n",
    "    d_dt=np.zeros((2*n))\n",
    "    for j in range(0,n):\n",
    "        if j == 0:\n",
    "            A1=ll.pop(0)\n",
    "            d_dt[j+n]=np.dot(np.transpose(joints[j].P),A1)\n",
    "        else:\n",
    "            A2= ll.pop(0)\n",
    "            A1=ll.pop(0)\n",
    "            d_dt[j+n]=np.dot(np.transpose(joints[j].P),(A1-A2))\n",
    "    \n",
    "    #add the velocities to d_dt and return to the integrator\n",
    "    d_dt[:n]=state[n:]\n",
    "    return d_dt "
   ]
  },
  {
   "cell_type": "markdown",
   "metadata": {},
   "source": [
    "#### System specifications and Initial Conditions"
   ]
  },
  {
   "cell_type": "code",
   "execution_count": 4,
   "metadata": {
    "collapsed": false
   },
   "outputs": [],
   "source": [
    "# Specify number of bodies\n",
    "n = 3\n",
    "\n",
    "# q1 and q2 are measured as the angle the rod makes with -n2 axis\n",
    "q0 = np.zeros((n))\n",
    "q0[0] = np.pi/2\n",
    "\n",
    "u0 = np.zeros((n))\n",
    "state0 = np.hstack((q0,u0))\n",
    "\n",
    "# Length of time of the simulation\n",
    "tspan = np.arange(0,.002,.001)"
   ]
  },
  {
   "cell_type": "markdown",
   "metadata": {},
   "source": [
    "#### System Initialization\n"
   ]
  },
  {
   "cell_type": "code",
   "execution_count": 5,
   "metadata": {
    "collapsed": false
   },
   "outputs": [],
   "source": [
    "# All physical properties of the rigid bodies are the same\n",
    "m = 1.0\n",
    "l = 1.0\n",
    "I = 1.0/12*m*l**2\n",
    "    \n",
    "jointsKIN = [MB.Joint('revolute2D') for i in range(n)]\n",
    "joints = jointsKIN\n",
    "bodiesRIGID = [MB.Rigid_Body2D() for i in range(n)]\n",
    "\n",
    "for body in bodiesRIGID:\n",
    "    body.initialize(m,l,I)\n",
    "bodies = bodiesRIGID"
   ]
  },
  {
   "cell_type": "code",
   "execution_count": 6,
   "metadata": {
    "collapsed": false
   },
   "outputs": [],
   "source": [
    "# bodies.index(bodies[2])"
   ]
  },
  {
   "cell_type": "markdown",
   "metadata": {},
   "source": [
    "#### Simulate it"
   ]
  },
  {
   "cell_type": "code",
   "execution_count": 7,
   "metadata": {
    "collapsed": false
   },
   "outputs": [
    {
     "name": "stdout",
     "output_type": "stream",
     "text": [
      "1.57079632679\n",
      "0.0\n",
      "[[ 0.  1.]\n",
      " [-1.  0.]]\n",
      "1.57079632679\n",
      "0.0\n",
      "[[ 0.  1.]\n",
      " [-1.  0.]]\n",
      "1.57079632679\n",
      "0.0\n",
      "[[ 0.  1.]\n",
      " [-1.  0.]]\n",
      "1.57079632679\n",
      "-1.51972741132e-06\n",
      "[[ 0.  1.]\n",
      " [-1.  0.]]\n",
      "1.57079632679\n",
      "4.14471112179e-07\n",
      "[[ 0.  1.]\n",
      " [-1.  0.]]\n",
      "1.57079632679\n",
      "-1.38157037393e-07\n",
      "[[ 0.  1.]\n",
      " [-1.  0.]]\n",
      "1.57079632679\n",
      "-1.51972741132e-06\n",
      "[[ 0.  1.]\n",
      " [-1.  0.]]\n",
      "1.57079632679\n",
      "4.14471112179e-07\n",
      "[[-0.  1.]\n",
      " [-1. -0.]]\n",
      "1.57079632679\n",
      "-1.38157037393e-07\n",
      "[[ 0.  1.]\n",
      " [-1.  0.]]\n",
      "1.57079632679\n",
      "-3.03945482265e-06\n",
      "[[ 0.  1.]\n",
      " [-1.  0.]]\n",
      "1.57079632679\n",
      "8.28942224358e-07\n",
      "[[-0.  1.]\n",
      " [-1. -0.]]\n",
      "1.57079632679\n",
      "-2.76314074786e-07\n",
      "[[ 0.  1.]\n",
      " [-1.  0.]]\n",
      "1.57079632679\n",
      "-3.03945482265e-06\n",
      "[[ 0.  1.]\n",
      " [-1.  0.]]\n",
      "1.5707963268\n",
      "8.28942224358e-07\n",
      "[[-0.  1.]\n",
      " [-1. -0.]]\n",
      "1.57079632679\n",
      "-2.76314074786e-07\n",
      "[[ 0.  1.]\n",
      " [-1.  0.]]\n",
      "1.57078704856\n",
      "-0.015200313568\n",
      "[[ 0.  1.]\n",
      " [-1.  0.]]\n",
      "1.57079885722\n",
      "0.00414554006401\n",
      "[[-0.  1.]\n",
      " [-1. -0.]]\n",
      "1.57079548332\n",
      "-0.001381846688\n",
      "[[ 0.  1.]\n",
      " [-1.  0.]]\n",
      "1.57078704856\n",
      "-0.0152003135703\n",
      "[[ 0.  1.]\n",
      " [-1.  0.]]\n",
      "1.57079885722\n",
      "0.00414554006869\n",
      "[[-0.  1.]\n",
      " [-1. -0.]]\n",
      "1.57079548332\n",
      "-0.00138184669033\n",
      "[[ 0.  1.]\n",
      " [-1.  0.]]\n"
     ]
    }
   ],
   "source": [
    "# odeint is the numerical integrator used\n",
    "state = odeint(simulate,state0,tspan,(n,bodies,joints,2,1))"
   ]
  },
  {
   "cell_type": "code",
   "execution_count": 8,
   "metadata": {
    "collapsed": false
   },
   "outputs": [],
   "source": [
    "# state.shape"
   ]
  },
  {
   "cell_type": "markdown",
   "metadata": {},
   "source": [
    "#### Check Results and Plot"
   ]
  },
  {
   "cell_type": "code",
   "execution_count": 9,
   "metadata": {
    "collapsed": false
   },
   "outputs": [],
   "source": [
    "# bodies = [MB.Rigid_Body2D() for i in range(n)]\n",
    "# for body in bodies:\n",
    "#     body.initialize(m,l,I)\n",
    "# kinematics(bodies,q0,u0)\n",
    "# for body in bodies:\n",
    "#     body.intProps()"
   ]
  },
  {
   "cell_type": "code",
   "execution_count": 10,
   "metadata": {
    "collapsed": false
   },
   "outputs": [
    {
<<<<<<< HEAD
     "name": "stdout",
     "output_type": "stream",
     "text": [
      "-0.0152003135703 [[ 0.  1.]\n",
      " [-1.  0.]]\n",
      "0.00414554006869 [[-0.  1.]\n",
      " [-1. -0.]]\n",
      "-0.00138184669033 [[ 0.  1.]\n",
      " [-1.  0.]]\n"
     ]
=======
     "data": {
      "image/png": "iVBORw0KGgoAAAANSUhEUgAAAYUAAAEZCAYAAAB4hzlwAAAABHNCSVQICAgIfAhkiAAAAAlwSFlz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\nS35mAAAAAElFTkSuQmCC\n",
      "text/plain": [
       "<matplotlib.figure.Figure at 0x7fced001f7b8>"
      ]
     },
     "metadata": {},
     "output_type": "display_data"
>>>>>>> 1633e25df5b3ec9f306156ea77d93acc699d9666
    },
    {
     "data": {
      "text/plain": [
       "[None, None, None]"
      ]
     },
     "execution_count": 10,
     "metadata": {},
     "output_type": "execute_result"
<<<<<<< HEAD
=======
    },
    {
     "data": {
      "image/png": "iVBORw0KGgoAAAANSUhEUgAAAYQAAAEZCAYAAACXRVJOAAAABHNCSVQICAgIfAhkiAAAAAlwSFlz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\nmRAkSYAJQZLUegLqqZ+hQg1MLwAAAABJRU5ErkJggg==\n",
      "text/plain": [
       "<matplotlib.figure.Figure at 0x7fcecffccbe0>"
      ]
     },
     "metadata": {},
     "output_type": "display_data"
>>>>>>> 1633e25df5b3ec9f306156ea77d93acc699d9666
    }
   ],
   "source": [
    "[print(body.omega, body.CBN) for body in bodies]\n",
    "# bodies[0].z13"
   ]
  },
  {
   "cell_type": "code",
   "execution_count": 11,
   "metadata": {
    "collapsed": true
   },
   "outputs": [],
   "source": [
    "# bodytest = MB.Rigid_Body2D()\n",
    "# bodytest.initialize(m,l,I)\n",
    "# bodytest.omega = 0.0\n",
    "# bodytest.CBN = MBF.DCM(np.pi/2)"
   ]
  },
  {
   "cell_type": "code",
   "execution_count": 12,
   "metadata": {
    "collapsed": false
   },
   "outputs": [],
   "source": [
    "# r01 = np.dot(bodytest.CBN,np.array([0,-bodytest.l/2]))\n",
    "# print(r01)\n",
    "# r02 = np.dot(bodytest.CBN,np.array([0, bodytest.l/2]))\n",
    "# print(r02)\n",
    "\n",
    "        \n",
    "# # Applied and body forces\n",
    "# # Only applied or body force is gravity\n",
    "# Fg = np.array([0,0,bodytest.m*-9.81])\n",
    "# Fa1 = Fg \n",
    "# Fa2 = Fg \n",
    "\n",
    "# # construct shifter matricies for the **PLANAR** problem\n",
    "# S01 = np.eye(3) + np.vstack((np.array([[0, -r01[1], r01[0]]]),np.zeros((2,3))))\n",
    "# # print(S01)\n",
    "# S02 = np.eye(3) + np.vstack((np.array([[0, -r02[1], r02[0]]]),np.zeros((2,3))))\n",
    "# # print(S02)\n",
    "\n",
    "# # Create the Mass and inverse Mass Matrices\t\n",
    "# M = np.vstack(((np.array([bodytest.I,0,0]),np.hstack((np.zeros((2,1)),(bodytest.m*np.eye(2)))))))\n",
    "# Minv = np.linalg.inv(M)\n",
    "# print(Minv)\n",
    "\n",
    "# # Construct the inverse inertial matricies for the two handle equations\n",
    "# bodytest.z11 = np.dot(S01.T,np.dot(Minv,S01))\n",
    "# bodytest.z12 = np.dot(S01.T,np.dot(Minv,S02))\n",
    "# bodytest.z21 = np.dot(S02.T,np.dot(Minv,S01))\n",
    "# bodytest.z22 = np.dot(S02.T,np.dot(Minv,S02))\n",
    "\n",
    "# bodytest.z13 = np.dot(S01.T,np.dot(Minv,Fa1)) - bodytest.omega**2*np.hstack((0,r01)).reshape(Fa1.shape) \n",
    "# bodytest.z23 = np.dot(S02.T,np.dot(Minv,Fa2)) - bodytest.omega**2*np.hstack((0,r02)).reshape(Fa2.shape) "
   ]
  },
  {
   "cell_type": "code",
   "execution_count": 13,
   "metadata": {
    "collapsed": false
   },
   "outputs": [],
   "source": [
    "# print(bodytest.z21)\n",
    "# print(bodytest.z12.shape)\n",
    "# print(bodytest.z21.shape)\n",
    "# print(bodytest.z22.shape)\n",
    "# print(bodytest.z13.shape)\n",
    "# print(bodytest.z23.shape)"
   ]
  },
  {
   "cell_type": "code",
   "execution_count": 14,
   "metadata": {
    "collapsed": false
   },
   "outputs": [],
   "source": [
    "# print(bodies[0].z11)"
   ]
  },
  {
   "cell_type": "code",
   "execution_count": 15,
   "metadata": {
    "collapsed": false
   },
   "outputs": [],
   "source": [
    "# print(bodies[0].r01)\n",
    "# print(bodies[0].r02)"
   ]
  },
  {
   "cell_type": "code",
   "execution_count": 16,
   "metadata": {
    "collapsed": false
   },
   "outputs": [],
   "source": [
    "# print(bodies[0].omega)"
   ]
  },
  {
   "cell_type": "code",
   "execution_count": 17,
   "metadata": {
    "collapsed": false
   },
   "outputs": [],
   "source": [
    "# ll=DCA.openR(n,0,bodies,joints,2,1)"
   ]
  },
  {
   "cell_type": "code",
   "execution_count": 18,
   "metadata": {
    "collapsed": false
   },
   "outputs": [],
   "source": [
    "# print(ll[0])"
   ]
  },
  {
   "cell_type": "code",
   "execution_count": 19,
   "metadata": {
    "collapsed": false
   },
   "outputs": [],
   "source": [
    "# state0[:n]"
   ]
  },
  {
   "cell_type": "code",
<<<<<<< HEAD
   "execution_count": 20,
=======
   "execution_count": 21,
>>>>>>> 1633e25df5b3ec9f306156ea77d93acc699d9666
   "metadata": {
    "collapsed": false
   },
   "outputs": [
    {
     "ename": "IndexError",
     "evalue": "index 20 is out of bounds for axis 0 with size 2",
     "output_type": "error",
     "traceback": [
      "\u001b[0;31m---------------------------------------------------------------------------\u001b[0m",
      "\u001b[0;31mIndexError\u001b[0m                                Traceback (most recent call last)",
      "\u001b[0;32m<ipython-input-20-fe9da76a3eb1>\u001b[0m in \u001b[0;36m<module>\u001b[0;34m()\u001b[0m\n\u001b[0;32m----> 1\u001b[0;31m \u001b[0mprint\u001b[0m\u001b[0;34m(\u001b[0m\u001b[0mstate\u001b[0m\u001b[0;34m[\u001b[0m\u001b[0;36m20\u001b[0m\u001b[0;34m]\u001b[0m\u001b[0;34m)\u001b[0m\u001b[0;34m\u001b[0m\u001b[0m\n\u001b[0m",
      "\u001b[0;31mIndexError\u001b[0m: index 20 is out of bounds for axis 0 with size 2"
     ]
    }
   ],
   "source": [
    "print(state[20])"
   ]
  },
  {
   "cell_type": "code",
   "execution_count": null,
   "metadata": {
    "collapsed": true
   },
   "outputs": [],
   "source": []
  }
 ],
 "metadata": {
  "kernelspec": {
   "display_name": "Python 3",
   "language": "python",
   "name": "python3"
  },
  "language_info": {
   "codemirror_mode": {
    "name": "ipython",
    "version": 3
   },
   "file_extension": ".py",
   "mimetype": "text/x-python",
   "name": "python",
   "nbconvert_exporter": "python",
   "pygments_lexer": "ipython3",
   "version": "3.4.3"
  }
 },
 "nbformat": 4,
 "nbformat_minor": 0
}

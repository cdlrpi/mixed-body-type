{
 "metadata": {
  "name": "",
  "signature": "sha256:bba226abaef8fd112c147168f44e2f4f9d46040cf3e62273aa3606a22be560e7"
 },
 "nbformat": 3,
 "nbformat_minor": 0,
 "worksheets": [
  {
   "cells": [
    {
     "cell_type": "markdown",
     "metadata": {},
     "source": [
      "## This is a script to solve for the motion of a massive rod double pendulum using DCA"
     ]
    },
    {
     "cell_type": "markdown",
     "metadata": {},
     "source": [
      "#### Imports"
     ]
    },
    {
     "cell_type": "code",
     "collapsed": false,
     "input": [
      "import numpy as np\n",
      "import math\n",
      "from scipy.integrate import odeint\n",
      "import matplotlib.pyplot as plt\n",
      "\n",
      "import MBstructs as MB\n",
      "import MultiBodyFuncts as MBF\n",
      "import DCA\n",
      "\n",
      "%matplotlib inline"
     ],
     "language": "python",
     "metadata": {},
     "outputs": [],
     "prompt_number": 1
    },
    {
     "cell_type": "markdown",
     "metadata": {},
     "source": [
      "#### Helper Functions"
     ]
    },
    {
     "cell_type": "code",
     "collapsed": false,
     "input": [
      "# This function prepares the system for the DCA algorithm \n",
      "def initialize(b,x,n):\n",
      "    val1=0\n",
      "    val2=np.zeros((3))\n",
      "    val3=np.zeros((3))\n",
      "    for k in range(0,n):\n",
      "        val1=val1+x[k]\n",
      "        b[k].C0=MBF.simdcm(val1,np.array((0,0,1)))\n",
      "        val2=val2+np.array((0,0,x[k+n]))\n",
      "        b[k].w=val2\n",
      "        b[k].w1=np.array((0,0,x[k+n]))\n",
      "        b[k].rs(b[k].l/2.0,np.array((0,-1,0)))\n",
      "        b[k].Vcm=val3+np.cross(b[k].w,b[k].r10)\n",
      "        val3=val3+np.cross(b[k].w,b[k].r12)\n",
      "        b[k].Inertia2()#transformed inertia matrix\n",
      "        b[k].Mmatrix()#Mass matrix and its inverse\n",
      "        b[k].Forces(np.array((0,-1,0)))\n",
      "        b[k].shifters()#S matrices\n",
      "        b[k].zs()#zeta values"
     ],
     "language": "python",
     "metadata": {},
     "outputs": [],
     "prompt_number": 2
    },
    {
     "cell_type": "code",
     "collapsed": false,
     "input": [
      "def gen_coords(state,t,n,i,bbs,jjs,BC1,BC2):\n",
      "    \"\"\" This function extracts the generalized coordinates from the solution of the equations of motion \n",
      "        after calling the DCA to solve the equations of motion \n",
      "    \"\"\"\n",
      "    #Initialize the system\n",
      "    initialize(bbs,state,n)\n",
      "    \n",
      "    #Call the Recursive DCA Algorithm\n",
      "    #This returns a list of the form:\n",
      "    #[A11,A12,A21,A22,...,An1,An2]\n",
      "    #where Axy corresponds to the acceleration\n",
      "    #of the yth handle of the xth body\n",
      "    ll=DCA.openR(n,0,bbs,jjs,BC1,BC2,state)\n",
      "    \n",
      "    #loop to fill d_dt with the acceleration values\n",
      "    d_dt=np.zeros((2*n))\n",
      "    for j in range(0,n):\n",
      "        if j == 0:\n",
      "            A1=ll.pop(0)\n",
      "            d_dt[j+n]=np.dot(np.transpose(jjs[j].P),A1)\n",
      "        else:\n",
      "            A2= ll.pop(0)\n",
      "            A1=ll.pop(0)\n",
      "            d_dt[j+n]=np.dot(np.transpose(jjs[j].P),(A1-A2))\n",
      "    \n",
      "    #add the velocities to d_dt and return to the integrator\n",
      "    d_dt[:n]=state[n:]\n",
      "    return d_dt "
     ],
     "language": "python",
     "metadata": {},
     "outputs": [],
     "prompt_number": 3
    },
    {
     "cell_type": "markdown",
     "metadata": {},
     "source": [
      "#### System specifications and Initial Conditions"
     ]
    },
    {
     "cell_type": "code",
     "collapsed": false,
     "input": [
      "# Specify number of bodies\n",
      "n=22\n",
      "\n",
      "# q1 and q2 are measured as the angle the rod makes with -n2 axis\n",
      "q_init=np.zeros((n))\n",
      "q_init[0]=np.pi/2\n",
      "\n",
      "qdot_init=np.zeros((n))\n",
      "\n",
      "ic=np.zeros((2*n))\n",
      "ic[:n]=q_init\n",
      "ic[n:]=qdot_init\n",
      "\n",
      "#Length of time of the simulation\n",
      "Time=np.arange(0,5,.01)"
     ],
     "language": "python",
     "metadata": {},
     "outputs": [],
     "prompt_number": 4
    },
    {
     "cell_type": "markdown",
     "metadata": {},
     "source": [
      "#### System Initialization"
     ]
    },
    {
     "cell_type": "code",
     "collapsed": false,
     "input": [
      "# Create a list of Bodies and Joints\n",
      "bs=[]\n",
      "js=[]\n",
      "\n",
      "for i in range(0,n):\n",
      "    bs.append(MB.Body())\n",
      "    js.append(MB.Joint())\n",
      "\n",
      "# Joint Properties\n",
      "for joint in js:\n",
      "    joint.PDmatrix(np.array((0,0,1,0,0,0)),1)\n",
      "\n",
      "# Body Properties\n",
      "for i in range (0,n):\n",
      "    bs[i].m=1.0\n",
      "    bs[i].l=1.0\n",
      "    bs[i].Inertia(bs[i].m*(bs[i].l**2)/12,1,bs[i].m*(bs[i].l**2)/12)"
     ],
     "language": "python",
     "metadata": {},
     "outputs": [],
     "prompt_number": 5
    },
    {
     "cell_type": "markdown",
     "metadata": {},
     "source": [
      "#### Simulate it"
     ]
    },
    {
     "cell_type": "code",
     "collapsed": false,
     "input": [
      "# odeint is the numerical integrator used\n",
      "yy=odeint(gen_coords,ic,Time,(n,0,bs,js,2,1))"
     ],
     "language": "python",
     "metadata": {},
     "outputs": [],
     "prompt_number": 6
    },
    {
     "cell_type": "markdown",
     "metadata": {},
     "source": [
      "#### Check Results and Plot"
     ]
    },
    {
     "cell_type": "code",
     "collapsed": false,
     "input": [
      "# The energy of the system is calculated and plotted\n",
      "energy=MBF.PendEnergy(yy,bs)\n",
      "KE=energy[:,0]\n",
      "PE=energy[:,1]\n",
      "TE=energy[:,2]\n",
      "\n",
      "plt.plot(Time,TE-TE[0])\n",
      "plt.xlabel(\"Time [s]\")\n",
      "plt.ylabel(\"energy\")\n",
      "plt.title(\"System Energy\")\n",
      "plt.show()\n",
      "\n",
      "plt.plot(Time,PE,Time,KE)\n",
      "plt.xlabel(\"Time[s]\")\n",
      "plt.ylabel(\"energy\")\n",
      "plt.title(\"Kinetic and Potential Energy\")\n",
      "plt.show"
     ],
     "language": "python",
     "metadata": {},
     "outputs": [
      {
       "metadata": {},
       "output_type": "display_data",
       "png": "[encoded data removed]",
       "text": [
        "<matplotlib.figure.Figure at 0x106d46850>"
       ]
      },
      {
       "metadata": {},
       "output_type": "pyout",
       "prompt_number": 7,
       "text": [
        "<function matplotlib.pyplot.show>"
       ]
      },
      {
       "metadata": {},
       "output_type": "display_data",
       "png": "[encoded data removed]",
       "text": [
        "<matplotlib.figure.Figure at 0x10714b990>"
       ]
      }
     ],
     "prompt_number": 7
    },
    {
     "cell_type": "code",
     "collapsed": false,
     "input": [
      "# Pot Generalized Coordinates\n",
      "# plt.plot(Time,yy[:,:n])\n",
      "# plt.xlabel(\"Time [s]\")\n",
      "# plt.ylabel(\"Generalized Coordinates [Rad]\")\n",
      "# plt.title(\"System Response\")\n",
      "\n",
      "# plt.show()\n",
      "\n",
      "# plt.plot(Time,yy[:,n:])\n",
      "# plt.xlabel((\"Time[s]\"))\n",
      "# plt.ylabel((\"Generalized Speeds [Rad/s]\"))\n",
      "# plt.title(\"System Response\")\n",
      "\n",
      "# plt.show()"
     ],
     "language": "python",
     "metadata": {},
     "outputs": [],
     "prompt_number": 8
    },
    {
     "cell_type": "code",
     "collapsed": false,
     "input": [],
     "language": "python",
     "metadata": {},
     "outputs": [],
     "prompt_number": 8
    }
   ],
   "metadata": {}
  }
 ]
}